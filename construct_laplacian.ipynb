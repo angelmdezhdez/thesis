{
 "cells": [
  {
   "cell_type": "code",
   "execution_count": 1,
   "id": "fc692edb",
   "metadata": {},
   "outputs": [],
   "source": [
    "import numpy as np\n",
    "import matplotlib.pyplot as plt\n",
    "from sklearn.neighbors import kneighbors_graph"
   ]
  },
  {
   "cell_type": "code",
   "execution_count": 2,
   "id": "cb32162a",
   "metadata": {},
   "outputs": [],
   "source": [
    "def knn_segun_orden_entrada(pares, dimension, k):\n",
    "    \"\"\"\n",
    "    Aplica KNN sobre coordenadas dadas en sistema cartesiano (origen abajo izquierda),\n",
    "    pero preserva el orden original de los nodos como aparecen en la matriz `pares`.\n",
    "\n",
    "    Parámetros:\n",
    "    - pares: np.ndarray de shape (n, 2), con coordenadas (fila, columna) en sistema cartesiano.\n",
    "    - dimension: entero, dimensión de la grilla cuadrada.\n",
    "    - k: entero, número de vecinos.\n",
    "\n",
    "    Retorna:\n",
    "    - A: matriz de adyacencia KNN (sparse matrix de shape (n, n)), orden de nodos según `pares`.\n",
    "    - pares_convertidos: np.ndarray de shape (n, 2), coordenadas convertidas al sistema de matrices.\n",
    "    \"\"\"\n",
    "    pares_convertidos = pares.copy()\n",
    "    pares_convertidos[:, 0] = dimension - 1 - pares_convertidos[:, 0]\n",
    "\n",
    "    A = kneighbors_graph(pares_convertidos, n_neighbors=k, mode='connectivity', include_self=False)\n",
    "\n",
    "    return A, pares_convertidos\n"
   ]
  },
  {
   "cell_type": "code",
   "execution_count": 3,
   "id": "c1d3df90",
   "metadata": {},
   "outputs": [],
   "source": [
    "def construir_diccionario_adyacencias():\n",
    "    n = int(input(\"Ingrese la cantidad de nodos: \"))\n",
    "    matriz_adyacencia = np.zeros((n, n), dtype=int)\n",
    "    for i in range(n):\n",
    "        for j in range(i+1, n):\n",
    "            conexion = input(f\"¿Existe conexión entre el nodo {i+1} y el nodo {j+1}? (s/n): \").strip().lower()\n",
    "            if conexion == 's':\n",
    "                matriz_adyacencia[i, j] = 1\n",
    "                matriz_adyacencia[j, i] = 1\n",
    "    adyacencias = {}\n",
    "    for i, fila in enumerate(matriz_adyacencia):\n",
    "        adyacencias[i] = list(np.where(fila != 0)[0])\n",
    "    return adyacencias"
   ]
  },
  {
   "cell_type": "code",
   "execution_count": 4,
   "id": "f96fefe8",
   "metadata": {},
   "outputs": [],
   "source": [
    "def construir_matriz_adyacencia(diccionario_adyacencias):\n",
    "    n = len(diccionario_adyacencias)\n",
    "    matriz = np.zeros((n, n), dtype=int)\n",
    "    for nodo, vecinos in diccionario_adyacencias.items():\n",
    "        for vecino in vecinos:\n",
    "            matriz[nodo, vecino] = 1\n",
    "    return matriz"
   ]
  },
  {
   "cell_type": "code",
   "execution_count": 4,
   "id": "9751fc86",
   "metadata": {},
   "outputs": [],
   "source": [
    "def construir_matriz_laplaciana(matriz_adyacencia):\n",
    "    # La matriz laplaciana L = D - A\n",
    "    # D es la matriz diagonal de grados\n",
    "    grados = np.sum(matriz_adyacencia, axis=1)\n",
    "    matriz_grados = np.diag(grados)\n",
    "    matriz_laplaciana = matriz_grados - matriz_adyacencia\n",
    "    matriz_laplaciana = np.linalg.inv(matriz_grados)**0.5 @ matriz_laplaciana @ np.linalg.inv(matriz_grados)**0.5\n",
    "    return matriz_laplaciana"
   ]
  },
  {
   "cell_type": "code",
   "execution_count": 6,
   "id": "0790661d",
   "metadata": {},
   "outputs": [
    {
     "name": "stdout",
     "output_type": "stream",
     "text": [
      "Node 1: [0 0]\n",
      "Node 2: [0 1]\n",
      "Node 3: [0 2]\n",
      "Node 4: [0 3]\n",
      "Node 5: [1 0]\n",
      "Node 6: [1 1]\n",
      "Node 7: [1 2]\n",
      "Node 8: [1 3]\n",
      "Node 9: [2 1]\n",
      "Node 10: [2 2]\n",
      "Node 11: [3 0]\n",
      "Node 12: [3 1]\n"
     ]
    }
   ],
   "source": [
    "mibici_4_nodes = np.load('/Users/antoniomendez/Desktop/maps_grids/mibici_4.npy')\n",
    "n = mibici_4_nodes.shape[1]\n",
    "for i in range(n):\n",
    "    print(f\"Node {i+1}: {mibici_4_nodes[0, i]}\")"
   ]
  },
  {
   "cell_type": "code",
   "execution_count": 7,
   "id": "6cfbcbce",
   "metadata": {},
   "outputs": [],
   "source": [
    "dir_mibici_4 = construir_diccionario_adyacencias()\n",
    "adj_mibici_4 = construir_matriz_adyacencia(dir_mibici_4)\n",
    "np.save('laplacians/adj_mibici_4.npy', adj_mibici_4)\n",
    "laplacian_mibici_4 = construir_matriz_laplaciana(adj_mibici_4)\n",
    "np.save('laplacians/laplacian_mibici_4.npy', laplacian_mibici_4)"
   ]
  },
  {
   "cell_type": "code",
   "execution_count": 51,
   "id": "edc3f89c",
   "metadata": {},
   "outputs": [
    {
     "name": "stdout",
     "output_type": "stream",
     "text": [
      "Node 1: [0 1]\n",
      "Node 2: [0 4]\n",
      "Node 3: [0 5]\n",
      "Node 4: [1 0]\n",
      "Node 5: [1 1]\n",
      "Node 6: [1 2]\n",
      "Node 7: [1 3]\n",
      "Node 8: [1 4]\n",
      "Node 9: [1 5]\n",
      "Node 10: [2 0]\n",
      "Node 11: [2 1]\n",
      "Node 12: [2 2]\n",
      "Node 13: [2 3]\n",
      "Node 14: [2 4]\n",
      "Node 15: [3 2]\n",
      "Node 16: [3 3]\n",
      "Node 17: [3 4]\n",
      "Node 18: [4 1]\n",
      "Node 19: [4 2]\n",
      "Node 20: [4 3]\n",
      "Node 21: [5 1]\n",
      "Node 22: [5 2]\n"
     ]
    }
   ],
   "source": [
    "mibici_6_nodes = np.load('/Users/antoniomendez/Desktop/maps_grids/mibici_6.npy')\n",
    "n = mibici_6_nodes.shape[1]\n",
    "for i in range(n):\n",
    "    print(f\"Node {i+1}: {mibici_6_nodes[0, i]}\")"
   ]
  },
  {
   "cell_type": "code",
   "execution_count": 43,
   "id": "9cce778e",
   "metadata": {},
   "outputs": [],
   "source": [
    "data_6 = mibici_6_nodes[0]\n",
    "#data_6 = data_6[:, [1, 0]]"
   ]
  },
  {
   "cell_type": "code",
   "execution_count": 44,
   "id": "6c8da039",
   "metadata": {},
   "outputs": [
    {
     "data": {
      "text/plain": [
       "[]"
      ]
     },
     "execution_count": 44,
     "metadata": {},
     "output_type": "execute_result"
    },
    {
     "data": {
      "image/png": "[encoded data removed]",
      "text/plain": [
       "<Figure size 640x480 with 1 Axes>"
      ]
     },
     "metadata": {},
     "output_type": "display_data"
    }
   ],
   "source": [
    "plt.scatter(data_6[:, 0], data_6[:, 1], c='blue', marker='o', label='Nodes')\n",
    "plt.title('Mibici 6 Nodes')\n",
    "plt.xlabel('X Coordinate')\n",
    "plt.ylabel('Y Coordinate')\n",
    "plt.grid()\n",
    "plt.plot()"
   ]
  },
  {
   "cell_type": "code",
   "execution_count": 57,
   "id": "8b913c77",
   "metadata": {},
   "outputs": [],
   "source": [
    "adj_mibici_6, nodes = knn_segun_orden_entrada(data_6, 6, 3)\n",
    "np.save('laplacians/adj_mibici_6.npy', adj_mibici_6.toarray())\n",
    "laplacian_mibici_6 = construir_matriz_laplaciana(adj_mibici_6.toarray())\n",
    "np.save('laplacians/laplacian_mibici_6.npy', laplacian_mibici_6)"
   ]
  },
  {
   "cell_type": "code",
   "execution_count": 58,
   "id": "1e8ad664",
   "metadata": {},
   "outputs": [
    {
     "name": "stdout",
     "output_type": "stream",
     "text": [
      "Node 1: [0 6]\n",
      "Node 2: [0 7]\n",
      "Node 3: [1 0]\n",
      "Node 4: [1 1]\n",
      "Node 5: [1 2]\n",
      "Node 6: [1 4]\n",
      "Node 7: [1 6]\n",
      "Node 8: [1 7]\n",
      "Node 9: [2 0]\n",
      "Node 10: [2 1]\n",
      "Node 11: [2 2]\n",
      "Node 12: [2 3]\n",
      "Node 13: [2 4]\n",
      "Node 14: [2 5]\n",
      "Node 15: [2 6]\n",
      "Node 16: [3 1]\n",
      "Node 17: [3 2]\n",
      "Node 18: [3 3]\n",
      "Node 19: [3 4]\n",
      "Node 20: [3 5]\n",
      "Node 21: [4 3]\n",
      "Node 22: [4 4]\n",
      "Node 23: [4 5]\n",
      "Node 24: [5 3]\n",
      "Node 25: [5 4]\n",
      "Node 26: [5 5]\n",
      "Node 27: [6 1]\n",
      "Node 28: [6 2]\n",
      "Node 29: [6 3]\n",
      "Node 30: [7 1]\n",
      "Node 31: [7 2]\n"
     ]
    }
   ],
   "source": [
    "mibici_8_nodes = np.load('/Users/antoniomendez/Desktop/maps_grids/mibici_8.npy')\n",
    "n = mibici_8_nodes.shape[1]\n",
    "for i in range(n):\n",
    "    print(f\"Node {i+1}: {mibici_8_nodes[0, i]}\")"
   ]
  },
  {
   "cell_type": "code",
   "execution_count": 59,
   "id": "65dd39da",
   "metadata": {},
   "outputs": [
    {
     "data": {
      "text/plain": [
       "[]"
      ]
     },
     "execution_count": 59,
     "metadata": {},
     "output_type": "execute_result"
    },
    {
     "data": {
      "image/png": "[encoded data removed]",
      "text/plain": [
       "<Figure size 640x480 with 1 Axes>"
      ]
     },
     "metadata": {},
     "output_type": "display_data"
    }
   ],
   "source": [
    "data_mibici_8 = mibici_8_nodes[0]\n",
    "plt.scatter(data_mibici_8[:, 0], data_mibici_8[:, 1], c='blue', marker='o', label='Nodes')\n",
    "plt.title('Mibici 8 Nodes')\n",
    "plt.xlabel('X Coordinate')\n",
    "plt.ylabel('Y Coordinate')\n",
    "plt.grid()\n",
    "plt.plot()"
   ]
  },
  {
   "cell_type": "code",
   "execution_count": 60,
   "id": "ad234ca5",
   "metadata": {},
   "outputs": [
    {
     "data": {
      "text/plain": [
       "(31, 31)"
      ]
     },
     "execution_count": 60,
     "metadata": {},
     "output_type": "execute_result"
    }
   ],
   "source": [
    "adj_mibici_8, nodes = knn_segun_orden_entrada(data_mibici_8, 8, 3)\n",
    "np.save('laplacians/adj_mibici_8.npy', adj_mibici_8.toarray())\n",
    "laplacian_mibici_8 = construir_matriz_laplaciana(adj_mibici_8.toarray())\n",
    "np.save('laplacians/laplacian_mibici_8.npy', laplacian_mibici_8)\n",
    "adj_mibici_8.toarray().shape"
   ]
  },
  {
   "cell_type": "code",
   "execution_count": 62,
   "id": "f1f85aed",
   "metadata": {},
   "outputs": [
    {
     "name": "stdout",
     "output_type": "stream",
     "text": [
      "Node 1: [0 8]\n",
      "Node 2: [0 9]\n",
      "Node 3: [1 1]\n",
      "Node 4: [1 2]\n",
      "Node 5: [1 7]\n",
      "Node 6: [1 8]\n",
      "Node 7: [1 9]\n",
      "Node 8: [2 0]\n",
      "Node 9: [2 1]\n",
      "Node 10: [2 2]\n",
      "Node 11: [2 3]\n",
      "Node 12: [2 4]\n",
      "Node 13: [2 5]\n",
      "Node 14: [2 6]\n",
      "Node 15: [2 7]\n",
      "Node 16: [2 8]\n",
      "Node 17: [3 0]\n",
      "Node 18: [3 1]\n",
      "Node 19: [3 2]\n",
      "Node 20: [3 3]\n",
      "Node 21: [3 4]\n",
      "Node 22: [3 5]\n",
      "Node 23: [3 6]\n",
      "Node 24: [3 7]\n",
      "Node 25: [3 8]\n",
      "Node 26: [4 3]\n",
      "Node 27: [4 4]\n",
      "Node 28: [4 5]\n",
      "Node 29: [4 6]\n",
      "Node 30: [4 7]\n",
      "Node 31: [5 4]\n",
      "Node 32: [5 5]\n",
      "Node 33: [5 6]\n",
      "Node 34: [5 7]\n",
      "Node 35: [6 4]\n",
      "Node 36: [6 5]\n",
      "Node 37: [6 6]\n",
      "Node 38: [7 3]\n",
      "Node 39: [7 4]\n",
      "Node 40: [8 2]\n",
      "Node 41: [8 3]\n",
      "Node 42: [8 4]\n",
      "Node 43: [9 1]\n",
      "Node 44: [9 2]\n",
      "Node 45: [9 3]\n"
     ]
    }
   ],
   "source": [
    "mibici_10_nodes = np.load('/Users/antoniomendez/Desktop/maps_grids/mibici_10.npy')\n",
    "n = mibici_10_nodes.shape[1]\n",
    "for i in range(n):\n",
    "    print(f\"Node {i+1}: {mibici_10_nodes[0, i]}\")"
   ]
  },
  {
   "cell_type": "code",
   "execution_count": 63,
   "id": "173a4e53",
   "metadata": {},
   "outputs": [
    {
     "data": {
      "text/plain": [
       "[]"
      ]
     },
     "execution_count": 63,
     "metadata": {},
     "output_type": "execute_result"
    },
    {
     "data": {
      "image/png": "[encoded data removed]",
      "text/plain": [
       "<Figure size 640x480 with 1 Axes>"
      ]
     },
     "metadata": {},
     "output_type": "display_data"
    }
   ],
   "source": [
    "data_mibici_10 = mibici_10_nodes[0]\n",
    "plt.scatter(data_mibici_10[:, 0], data_mibici_10[:, 1], c='blue', marker='o', label='Nodes')\n",
    "plt.title('Mibici 10 Nodes')\n",
    "plt.xlabel('X Coordinate')\n",
    "plt.ylabel('Y Coordinate')\n",
    "plt.grid()\n",
    "plt.plot()"
   ]
  },
  {
   "cell_type": "code",
   "execution_count": 64,
   "id": "6c6e8b22",
   "metadata": {},
   "outputs": [
    {
     "data": {
      "text/plain": [
       "(45, 45)"
      ]
     },
     "execution_count": 64,
     "metadata": {},
     "output_type": "execute_result"
    }
   ],
   "source": [
    "adjacencia_mibici_10, nodes = knn_segun_orden_entrada(data_mibici_10, 10, 3)\n",
    "np.save('laplacians/adj_mibici_10.npy', adjacencia_mibici_10.toarray())\n",
    "laplacian_mibici_10 = construir_matriz_laplaciana(adjacencia_mibici_10.toarray())\n",
    "np.save('laplacians/laplacian_mibici_10.npy', laplacian_mibici_10)\n",
    "adjacencia_mibici_10.toarray().shape"
   ]
  },
  {
   "cell_type": "code",
   "execution_count": 65,
   "id": "12342e99",
   "metadata": {},
   "outputs": [
    {
     "name": "stdout",
     "output_type": "stream",
     "text": [
      "Node 1: [ 0 10]\n",
      "Node 2: [ 0 11]\n",
      "Node 3: [1 2]\n",
      "Node 4: [1 3]\n",
      "Node 5: [1 9]\n",
      "Node 6: [ 1 10]\n",
      "Node 7: [ 1 11]\n",
      "Node 8: [2 0]\n",
      "Node 9: [2 1]\n",
      "Node 10: [2 2]\n",
      "Node 11: [2 3]\n",
      "Node 12: [2 6]\n",
      "Node 13: [2 7]\n",
      "Node 14: [2 9]\n",
      "Node 15: [ 2 10]\n",
      "Node 16: [3 0]\n",
      "Node 17: [3 1]\n",
      "Node 18: [3 2]\n",
      "Node 19: [3 3]\n",
      "Node 20: [3 4]\n",
      "Node 21: [3 5]\n",
      "Node 22: [3 6]\n",
      "Node 23: [3 7]\n",
      "Node 24: [3 8]\n",
      "Node 25: [3 9]\n",
      "Node 26: [4 1]\n",
      "Node 27: [4 2]\n",
      "Node 28: [4 3]\n",
      "Node 29: [4 4]\n",
      "Node 30: [4 5]\n",
      "Node 31: [4 6]\n",
      "Node 32: [4 7]\n",
      "Node 33: [4 8]\n",
      "Node 34: [4 9]\n",
      "Node 35: [5 4]\n",
      "Node 36: [5 5]\n",
      "Node 37: [5 6]\n",
      "Node 38: [5 7]\n",
      "Node 39: [5 8]\n",
      "Node 40: [6 4]\n",
      "Node 41: [6 5]\n",
      "Node 42: [6 6]\n",
      "Node 43: [6 7]\n",
      "Node 44: [6 8]\n",
      "Node 45: [7 5]\n",
      "Node 46: [7 6]\n",
      "Node 47: [7 7]\n",
      "Node 48: [7 8]\n",
      "Node 49: [8 4]\n",
      "Node 50: [8 5]\n",
      "Node 51: [8 7]\n",
      "Node 52: [9 3]\n",
      "Node 53: [9 4]\n",
      "Node 54: [10  2]\n",
      "Node 55: [10  3]\n",
      "Node 56: [10  4]\n",
      "Node 57: [10  5]\n",
      "Node 58: [11  2]\n",
      "Node 59: [11  3]\n",
      "Node 60: [11  4]\n"
     ]
    }
   ],
   "source": [
    "mibici_12_nodes = np.load('/Users/antoniomendez/Desktop/maps_grids/mibici_12.npy')\n",
    "n = mibici_12_nodes.shape[1]\n",
    "for i in range(n):\n",
    "    print(f\"Node {i+1}: {mibici_12_nodes[0, i]}\")"
   ]
  },
  {
   "cell_type": "code",
   "execution_count": 66,
   "id": "ff9ad0b4",
   "metadata": {},
   "outputs": [
    {
     "data": {
      "text/plain": [
       "[]"
      ]
     },
     "execution_count": 66,
     "metadata": {},
     "output_type": "execute_result"
    },
    {
     "data": {
      "image/png": "[encoded data removed]",
      "text/plain": [
       "<Figure size 640x480 with 1 Axes>"
      ]
     },
     "metadata": {},
     "output_type": "display_data"
    }
   ],
   "source": [
    "data_mibici_12 = mibici_12_nodes[0]\n",
    "plt.scatter(data_mibici_12[:, 0], data_mibici_12[:, 1], c='blue', marker='o', label='Nodes')\n",
    "plt.title('Mibici 12 Nodes')\n",
    "plt.xlabel('X Coordinate')\n",
    "plt.ylabel('Y Coordinate')\n",
    "plt.grid()\n",
    "plt.plot()"
   ]
  },
  {
   "cell_type": "code",
   "execution_count": 67,
   "id": "0a116465",
   "metadata": {},
   "outputs": [
    {
     "data": {
      "text/plain": [
       "(60, 60)"
      ]
     },
     "execution_count": 67,
     "metadata": {},
     "output_type": "execute_result"
    }
   ],
   "source": [
    "adjacencia_mibici_12, nodes = knn_segun_orden_entrada(data_mibici_12, 12, 3)\n",
    "np.save('laplacians/adj_mibici_12.npy', adjacencia_mibici_12.toarray())\n",
    "laplacian_mibici_12 = construir_matriz_laplaciana(adjacencia_mibici_12.toarray())\n",
    "np.save('laplacians/laplacian_mibici_12.npy', laplacian_mibici_12)\n",
    "adjacencia_mibici_12.toarray().shape"
   ]
  },
  {
   "cell_type": "code",
   "execution_count": 68,
   "id": "d7a5d3c2",
   "metadata": {},
   "outputs": [
    {
     "name": "stdout",
     "output_type": "stream",
     "text": [
      "Node 1: [ 0 12]\n",
      "Node 2: [ 0 13]\n",
      "Node 3: [ 1 11]\n",
      "Node 4: [ 1 12]\n",
      "Node 5: [ 1 13]\n",
      "Node 6: [2 0]\n",
      "Node 7: [2 2]\n",
      "Node 8: [2 3]\n",
      "Node 9: [2 4]\n",
      "Node 10: [ 2 10]\n",
      "Node 11: [ 2 11]\n",
      "Node 12: [ 2 12]\n",
      "Node 13: [3 0]\n",
      "Node 14: [3 1]\n",
      "Node 15: [3 2]\n",
      "Node 16: [3 3]\n",
      "Node 17: [3 4]\n",
      "Node 18: [3 6]\n",
      "Node 19: [3 7]\n",
      "Node 20: [3 8]\n",
      "Node 21: [ 3 10]\n",
      "Node 22: [ 3 11]\n",
      "Node 23: [4 0]\n",
      "Node 24: [4 1]\n",
      "Node 25: [4 2]\n",
      "Node 26: [4 3]\n",
      "Node 27: [4 4]\n",
      "Node 28: [4 5]\n",
      "Node 29: [4 6]\n",
      "Node 30: [4 7]\n",
      "Node 31: [4 8]\n",
      "Node 32: [4 9]\n",
      "Node 33: [ 4 10]\n",
      "Node 34: [ 4 11]\n",
      "Node 35: [5 1]\n",
      "Node 36: [5 2]\n",
      "Node 37: [5 3]\n",
      "Node 38: [5 4]\n",
      "Node 39: [5 5]\n",
      "Node 40: [5 6]\n",
      "Node 41: [5 7]\n",
      "Node 42: [5 8]\n",
      "Node 43: [5 9]\n",
      "Node 44: [ 5 10]\n",
      "Node 45: [6 4]\n",
      "Node 46: [6 5]\n",
      "Node 47: [6 6]\n",
      "Node 48: [6 7]\n",
      "Node 49: [6 8]\n",
      "Node 50: [6 9]\n",
      "Node 51: [ 6 10]\n",
      "Node 52: [7 5]\n",
      "Node 53: [7 6]\n",
      "Node 54: [7 7]\n",
      "Node 55: [7 8]\n",
      "Node 56: [7 9]\n",
      "Node 57: [ 7 10]\n",
      "Node 58: [8 5]\n",
      "Node 59: [8 6]\n",
      "Node 60: [8 7]\n",
      "Node 61: [8 8]\n",
      "Node 62: [8 9]\n",
      "Node 63: [ 8 10]\n",
      "Node 64: [9 6]\n",
      "Node 65: [9 7]\n",
      "Node 66: [9 8]\n",
      "Node 67: [10  5]\n",
      "Node 68: [11  3]\n",
      "Node 69: [11  4]\n",
      "Node 70: [11  5]\n",
      "Node 71: [12  3]\n",
      "Node 72: [12  4]\n",
      "Node 73: [12  5]\n",
      "Node 74: [13  2]\n",
      "Node 75: [13  3]\n",
      "Node 76: [13  4]\n",
      "Node 77: [13  5]\n"
     ]
    }
   ],
   "source": [
    "mibici_14_nodes = np.load('/Users/antoniomendez/Desktop/maps_grids/mibici_14.npy')\n",
    "n = mibici_14_nodes.shape[1]\n",
    "for i in range(n):\n",
    "    print(f\"Node {i+1}: {mibici_14_nodes[0, i]}\")"
   ]
  },
  {
   "cell_type": "code",
   "execution_count": 69,
   "id": "d54c697a",
   "metadata": {},
   "outputs": [
    {
     "data": {
      "text/plain": [
       "[]"
      ]
     },
     "execution_count": 69,
     "metadata": {},
     "output_type": "execute_result"
    },
    {
     "data": {
      "image/png": "[encoded data removed]",
      "text/plain": [
       "<Figure size 640x480 with 1 Axes>"
      ]
     },
     "metadata": {},
     "output_type": "display_data"
    }
   ],
   "source": [
    "data_mibici_14 = mibici_14_nodes[0]\n",
    "plt.scatter(data_mibici_14[:, 0], data_mibici_14[:, 1], c='blue', marker='o', label='Nodes')\n",
    "plt.title('Mibici 14 Nodes')       \n",
    "plt.xlabel('X Coordinate')\n",
    "plt.ylabel('Y Coordinate')\n",
    "plt.grid()\n",
    "plt.plot()"
   ]
  },
  {
   "cell_type": "code",
   "execution_count": 70,
   "id": "60389851",
   "metadata": {},
   "outputs": [
    {
     "data": {
      "text/plain": [
       "(77, 77)"
      ]
     },
     "execution_count": 70,
     "metadata": {},
     "output_type": "execute_result"
    }
   ],
   "source": [
    "adjacencia_mibici_14, nodes = knn_segun_orden_entrada(data_mibici_14, 14, 3)\n",
    "np.save('laplacians/adj_mibici_14.npy', adjacencia_mibici_14.toarray())\n",
    "laplacian_mibici_14 = construir_matriz_laplaciana(adjacencia_mibici_14.toarray())\n",
    "np.save('laplacians/laplacian_mibici_14.npy', laplacian_mibici_14)\n",
    "adjacencia_mibici_14.toarray().shape"
   ]
  },
  {
   "cell_type": "code",
   "execution_count": 71,
   "id": "a8370aa2",
   "metadata": {},
   "outputs": [
    {
     "name": "stdout",
     "output_type": "stream",
     "text": [
      "Node 1: [ 0 13]\n",
      "Node 2: [ 0 14]\n",
      "Node 3: [ 0 15]\n",
      "Node 4: [ 1 13]\n",
      "Node 5: [ 1 14]\n",
      "Node 6: [ 1 15]\n",
      "Node 7: [2 2]\n",
      "Node 8: [2 3]\n",
      "Node 9: [2 4]\n",
      "Node 10: [ 2 12]\n",
      "Node 11: [ 2 13]\n",
      "Node 12: [ 2 14]\n",
      "Node 13: [3 0]\n",
      "Node 14: [3 1]\n",
      "Node 15: [3 2]\n",
      "Node 16: [3 3]\n",
      "Node 17: [3 4]\n",
      "Node 18: [3 8]\n",
      "Node 19: [3 9]\n",
      "Node 20: [ 3 12]\n",
      "Node 21: [ 3 13]\n",
      "Node 22: [4 0]\n",
      "Node 23: [4 1]\n",
      "Node 24: [4 2]\n",
      "Node 25: [4 3]\n",
      "Node 26: [4 4]\n",
      "Node 27: [4 5]\n",
      "Node 28: [4 6]\n",
      "Node 29: [4 7]\n",
      "Node 30: [4 8]\n",
      "Node 31: [4 9]\n",
      "Node 32: [ 4 11]\n",
      "Node 33: [ 4 12]\n",
      "Node 34: [ 4 13]\n",
      "Node 35: [5 2]\n",
      "Node 36: [5 3]\n",
      "Node 37: [5 4]\n",
      "Node 38: [5 5]\n",
      "Node 39: [5 6]\n",
      "Node 40: [5 7]\n",
      "Node 41: [5 8]\n",
      "Node 42: [5 9]\n",
      "Node 43: [ 5 10]\n",
      "Node 44: [ 5 11]\n",
      "Node 45: [ 5 12]\n",
      "Node 46: [6 2]\n",
      "Node 47: [6 5]\n",
      "Node 48: [6 6]\n",
      "Node 49: [6 7]\n",
      "Node 50: [6 8]\n",
      "Node 51: [6 9]\n",
      "Node 52: [ 6 10]\n",
      "Node 53: [ 6 11]\n",
      "Node 54: [7 5]\n",
      "Node 55: [7 6]\n",
      "Node 56: [7 7]\n",
      "Node 57: [7 8]\n",
      "Node 58: [7 9]\n",
      "Node 59: [ 7 10]\n",
      "Node 60: [ 7 11]\n",
      "Node 61: [8 6]\n",
      "Node 62: [8 7]\n",
      "Node 63: [8 8]\n",
      "Node 64: [8 9]\n",
      "Node 65: [ 8 10]\n",
      "Node 66: [ 8 11]\n",
      "Node 67: [9 6]\n",
      "Node 68: [9 7]\n",
      "Node 69: [9 8]\n",
      "Node 70: [9 9]\n",
      "Node 71: [ 9 10]\n",
      "Node 72: [ 9 11]\n",
      "Node 73: [10  7]\n",
      "Node 74: [10  8]\n",
      "Node 75: [10  9]\n",
      "Node 76: [10 10]\n",
      "Node 77: [11  6]\n",
      "Node 78: [11  7]\n",
      "Node 79: [12  4]\n",
      "Node 80: [12  5]\n",
      "Node 81: [12  6]\n",
      "Node 82: [13  3]\n",
      "Node 83: [13  4]\n",
      "Node 84: [13  5]\n",
      "Node 85: [13  6]\n",
      "Node 86: [14  3]\n",
      "Node 87: [14  4]\n",
      "Node 88: [14  5]\n",
      "Node 89: [15  3]\n",
      "Node 90: [15  5]\n"
     ]
    }
   ],
   "source": [
    "mibici_16_nodes = np.load('/Users/antoniomendez/Desktop/maps_grids/mibici_16.npy')\n",
    "n = mibici_16_nodes.shape[1]\n",
    "for i in range(n):\n",
    "    print(f\"Node {i+1}: {mibici_16_nodes[0, i]}\")"
   ]
  },
  {
   "cell_type": "code",
   "execution_count": 72,
   "id": "195ebc8a",
   "metadata": {},
   "outputs": [
    {
     "data": {
      "text/plain": [
       "[]"
      ]
     },
     "execution_count": 72,
     "metadata": {},
     "output_type": "execute_result"
    },
    {
     "data": {
      "image/png": "[encoded data removed]",
      "text/plain": [
       "<Figure size 640x480 with 1 Axes>"
      ]
     },
     "metadata": {},
     "output_type": "display_data"
    }
   ],
   "source": [
    "data_mibici_16 = mibici_16_nodes[0]\n",
    "plt.scatter(data_mibici_16[:, 0], data_mibici_16[:, 1], c='blue', marker='o', label='Nodes')\n",
    "plt.title('Mibici 16 Nodes')\n",
    "plt.xlabel('X Coordinate')\n",
    "plt.ylabel('Y Coordinate')\n",
    "plt.grid()\n",
    "plt.plot()"
   ]
  },
  {
   "cell_type": "code",
   "execution_count": 73,
   "id": "a373b44a",
   "metadata": {},
   "outputs": [
    {
     "data": {
      "text/plain": [
       "(90, 90)"
      ]
     },
     "execution_count": 73,
     "metadata": {},
     "output_type": "execute_result"
    }
   ],
   "source": [
    "adjacencia_mibici_16, nodes = knn_segun_orden_entrada(data_mibici_16, 16, 3)\n",
    "np.save('laplacians/adj_mibici_16.npy', adjacencia_mibici_16.toarray())\n",
    "laplacian_mibici_16 = construir_matriz_laplaciana(adjacencia_mibici_16.toarray())\n",
    "np.save('laplacians/laplacian_mibici_16.npy', laplacian_mibici_16)\n",
    "adjacencia_mibici_16.toarray().shape"
   ]
  },
  {
   "cell_type": "markdown",
   "id": "752d5b5e",
   "metadata": {},
   "source": [
    "eco"
   ]
  },
  {
   "cell_type": "code",
   "execution_count": 74,
   "id": "f6b25b38",
   "metadata": {},
   "outputs": [
    {
     "name": "stdout",
     "output_type": "stream",
     "text": [
      "Node 1: [0 1]\n",
      "Node 2: [0 2]\n",
      "Node 3: [0 3]\n",
      "Node 4: [1 1]\n",
      "Node 5: [1 2]\n",
      "Node 6: [1 3]\n",
      "Node 7: [2 1]\n",
      "Node 8: [2 2]\n",
      "Node 9: [2 3]\n",
      "Node 10: [3 1]\n",
      "Node 11: [3 2]\n",
      "Node 12: [3 3]\n",
      "Node 13: [4 0]\n",
      "Node 14: [4 1]\n",
      "Node 15: [4 2]\n",
      "Node 16: [4 3]\n",
      "Node 17: [5 0]\n",
      "Node 18: [5 1]\n",
      "Node 19: [5 2]\n",
      "Node 20: [5 3]\n",
      "Node 21: [6 1]\n",
      "Node 22: [6 2]\n"
     ]
    }
   ],
   "source": [
    "eco_4_nodes = np.load('/Users/antoniomendez/Desktop/maps_grids/eco_4.npy')\n",
    "n = eco_4_nodes.shape[1]\n",
    "for i in range(n):\n",
    "    print(f\"Node {i+1}: {eco_4_nodes[0, i]}\")"
   ]
  },
  {
   "cell_type": "code",
   "execution_count": 75,
   "id": "4815068f",
   "metadata": {},
   "outputs": [
    {
     "data": {
      "text/plain": [
       "[]"
      ]
     },
     "execution_count": 75,
     "metadata": {},
     "output_type": "execute_result"
    },
    {
     "data": {
      "image/png": "[encoded data removed]",
      "text/plain": [
       "<Figure size 640x480 with 1 Axes>"
      ]
     },
     "metadata": {},
     "output_type": "display_data"
    }
   ],
   "source": [
    "data_eco_4 = eco_4_nodes[0]\n",
    "plt.scatter(data_eco_4[:, 0], data_eco_4[:, 1], c='blue', marker='o', label='Nodes')\n",
    "plt.title('Eco 4 Nodes')\n",
    "plt.xlabel('X Coordinate')\n",
    "plt.ylabel('Y Coordinate')     \n",
    "plt.grid()\n",
    "plt.plot()"
   ]
  },
  {
   "cell_type": "code",
   "execution_count": 76,
   "id": "a78b15a1",
   "metadata": {},
   "outputs": [
    {
     "data": {
      "text/plain": [
       "(22, 22)"
      ]
     },
     "execution_count": 76,
     "metadata": {},
     "output_type": "execute_result"
    }
   ],
   "source": [
    "adjacencia_eco, nodes = knn_segun_orden_entrada(data_eco_4, 4, 3)\n",
    "np.save('laplacians/adj_eco_4.npy', adjacencia_eco.toarray())\n",
    "laplacian_eco_4 = construir_matriz_laplaciana(adjacencia_eco.toarray())\n",
    "np.save('laplacians/laplacian_eco_4.npy', laplacian_eco_4)\n",
    "adjacencia_eco.toarray().shape"
   ]
  },
  {
   "cell_type": "code",
   "execution_count": 77,
   "id": "4fc9ca2c",
   "metadata": {},
   "outputs": [
    {
     "name": "stdout",
     "output_type": "stream",
     "text": [
      "Node 1: [0 1]\n",
      "Node 2: [0 2]\n",
      "Node 3: [0 3]\n",
      "Node 4: [0 4]\n",
      "Node 5: [1 1]\n",
      "Node 6: [1 2]\n",
      "Node 7: [1 3]\n",
      "Node 8: [1 4]\n",
      "Node 9: [1 5]\n",
      "Node 10: [2 1]\n",
      "Node 11: [2 2]\n",
      "Node 12: [2 3]\n",
      "Node 13: [2 4]\n",
      "Node 14: [2 5]\n",
      "Node 15: [3 1]\n",
      "Node 16: [3 2]\n",
      "Node 17: [3 3]\n",
      "Node 18: [3 4]\n",
      "Node 19: [3 5]\n",
      "Node 20: [4 2]\n",
      "Node 21: [4 3]\n",
      "Node 22: [4 4]\n",
      "Node 23: [4 5]\n",
      "Node 24: [5 1]\n",
      "Node 25: [5 2]\n",
      "Node 26: [5 3]\n",
      "Node 27: [5 4]\n",
      "Node 28: [5 5]\n",
      "Node 29: [6 0]\n",
      "Node 30: [6 1]\n",
      "Node 31: [6 2]\n",
      "Node 32: [6 3]\n",
      "Node 33: [6 4]\n",
      "Node 34: [6 5]\n",
      "Node 35: [7 0]\n",
      "Node 36: [7 1]\n",
      "Node 37: [7 2]\n",
      "Node 38: [7 3]\n",
      "Node 39: [7 4]\n",
      "Node 40: [7 5]\n",
      "Node 41: [8 2]\n",
      "Node 42: [8 3]\n",
      "Node 43: [8 4]\n",
      "Node 44: [9 1]\n",
      "Node 45: [9 2]\n",
      "Node 46: [9 3]\n"
     ]
    }
   ],
   "source": [
    "eco_6_nodes = np.load('/Users/antoniomendez/Desktop/maps_grids/eco_6.npy')\n",
    "n = eco_6_nodes.shape[1]\n",
    "for i in range(n):\n",
    "    print(f\"Node {i+1}: {eco_6_nodes[0, i]}\")"
   ]
  },
  {
   "cell_type": "code",
   "execution_count": 78,
   "id": "93592abb",
   "metadata": {},
   "outputs": [
    {
     "data": {
      "text/plain": [
       "(46, 46)"
      ]
     },
     "execution_count": 78,
     "metadata": {},
     "output_type": "execute_result"
    }
   ],
   "source": [
    "adjacencia_eco_6, nodes = knn_segun_orden_entrada(eco_6_nodes[0], 6, 3)\n",
    "np.save('laplacians/adj_eco_6.npy', adjacencia_eco_6.toarray())\n",
    "laplacian_eco_6 = construir_matriz_laplaciana(adjacencia_eco_6.toarray())\n",
    "np.save('laplacians/laplacian_eco_6.npy', laplacian_eco_6)\n",
    "adjacencia_eco_6.toarray().shape"
   ]
  },
  {
   "cell_type": "code",
   "execution_count": 79,
   "id": "ab388d48",
   "metadata": {},
   "outputs": [
    {
     "name": "stdout",
     "output_type": "stream",
     "text": [
      "Node 1: [0 2]\n",
      "Node 2: [0 3]\n",
      "Node 3: [0 4]\n",
      "Node 4: [0 5]\n",
      "Node 5: [0 6]\n",
      "Node 6: [1 2]\n",
      "Node 7: [1 3]\n",
      "Node 8: [1 4]\n",
      "Node 9: [1 5]\n",
      "Node 10: [1 6]\n",
      "Node 11: [2 2]\n",
      "Node 12: [2 3]\n",
      "Node 13: [2 4]\n",
      "Node 14: [2 5]\n",
      "Node 15: [2 6]\n",
      "Node 16: [3 2]\n",
      "Node 17: [3 3]\n",
      "Node 18: [3 4]\n",
      "Node 19: [3 5]\n",
      "Node 20: [3 6]\n",
      "Node 21: [4 2]\n",
      "Node 22: [4 3]\n",
      "Node 23: [4 4]\n",
      "Node 24: [4 5]\n",
      "Node 25: [4 6]\n",
      "Node 26: [4 7]\n",
      "Node 27: [5 2]\n",
      "Node 28: [5 3]\n",
      "Node 29: [5 4]\n",
      "Node 30: [5 5]\n",
      "Node 31: [5 6]\n",
      "Node 32: [5 7]\n",
      "Node 33: [6 2]\n",
      "Node 34: [6 3]\n",
      "Node 35: [6 4]\n",
      "Node 36: [6 5]\n",
      "Node 37: [6 6]\n",
      "Node 38: [6 7]\n",
      "Node 39: [7 2]\n",
      "Node 40: [7 3]\n",
      "Node 41: [7 4]\n",
      "Node 42: [7 5]\n",
      "Node 43: [7 6]\n",
      "Node 44: [7 7]\n",
      "Node 45: [8 0]\n",
      "Node 46: [8 2]\n",
      "Node 47: [8 3]\n",
      "Node 48: [8 4]\n",
      "Node 49: [8 5]\n",
      "Node 50: [8 6]\n",
      "Node 51: [8 7]\n",
      "Node 52: [9 0]\n",
      "Node 53: [9 1]\n",
      "Node 54: [9 2]\n",
      "Node 55: [9 3]\n",
      "Node 56: [9 4]\n",
      "Node 57: [9 5]\n",
      "Node 58: [9 6]\n",
      "Node 59: [9 7]\n",
      "Node 60: [10  0]\n",
      "Node 61: [10  1]\n",
      "Node 62: [10  2]\n",
      "Node 63: [10  3]\n",
      "Node 64: [10  4]\n",
      "Node 65: [10  5]\n",
      "Node 66: [10  6]\n",
      "Node 67: [10  7]\n",
      "Node 68: [11  1]\n",
      "Node 69: [11  2]\n",
      "Node 70: [11  3]\n",
      "Node 71: [11  4]\n",
      "Node 72: [11  5]\n",
      "Node 73: [12  2]\n",
      "Node 74: [12  3]\n",
      "Node 75: [12  4]\n",
      "Node 76: [12  5]\n",
      "Node 77: [13  2]\n",
      "Node 78: [13  3]\n",
      "Node 79: [13  4]\n",
      "Node 80: [13  5]\n"
     ]
    }
   ],
   "source": [
    "eco_8_nodes = np.load('/Users/antoniomendez/Desktop/maps_grids/eco_8.npy')\n",
    "n = eco_8_nodes.shape[1]\n",
    "for i in range(n):\n",
    "    print(f\"Node {i+1}: {eco_8_nodes[0, i]}\")"
   ]
  },
  {
   "cell_type": "code",
   "execution_count": 80,
   "id": "ea4ae24e",
   "metadata": {},
   "outputs": [
    {
     "data": {
      "text/plain": [
       "(80, 80)"
      ]
     },
     "execution_count": 80,
     "metadata": {},
     "output_type": "execute_result"
    }
   ],
   "source": [
    "adjacencia_eco_8, nodes = knn_segun_orden_entrada(eco_8_nodes[0], 8, 3)\n",
    "np.save('laplacians/adj_eco_8.npy', adjacencia_eco_8.toarray())\n",
    "laplacian_eco_8 = construir_matriz_laplaciana(adjacencia_eco_8.toarray())\n",
    "np.save('laplacians/laplacian_eco_8.npy', laplacian_eco_8)\n",
    "adjacencia_eco_8.toarray().shape"
   ]
  },
  {
   "cell_type": "code",
   "execution_count": 81,
   "id": "e31eeda0",
   "metadata": {},
   "outputs": [
    {
     "name": "stdout",
     "output_type": "stream",
     "text": [
      "Node 1: [0 3]\n",
      "Node 2: [0 4]\n",
      "Node 3: [0 5]\n",
      "Node 4: [0 6]\n",
      "Node 5: [0 7]\n",
      "Node 6: [0 8]\n",
      "Node 7: [1 2]\n",
      "Node 8: [1 3]\n",
      "Node 9: [1 4]\n",
      "Node 10: [1 5]\n",
      "Node 11: [1 6]\n",
      "Node 12: [1 7]\n",
      "Node 13: [2 2]\n",
      "Node 14: [2 3]\n",
      "Node 15: [2 4]\n",
      "Node 16: [2 5]\n",
      "Node 17: [2 6]\n",
      "Node 18: [2 7]\n",
      "Node 19: [2 8]\n",
      "Node 20: [3 3]\n",
      "Node 21: [3 4]\n",
      "Node 22: [3 5]\n",
      "Node 23: [3 6]\n",
      "Node 24: [3 7]\n",
      "Node 25: [3 8]\n",
      "Node 26: [4 3]\n",
      "Node 27: [4 4]\n",
      "Node 28: [4 5]\n",
      "Node 29: [4 6]\n",
      "Node 30: [4 7]\n",
      "Node 31: [4 8]\n",
      "Node 32: [5 3]\n",
      "Node 33: [5 4]\n",
      "Node 34: [5 5]\n",
      "Node 35: [5 6]\n",
      "Node 36: [5 7]\n",
      "Node 37: [5 8]\n",
      "Node 38: [6 3]\n",
      "Node 39: [6 4]\n",
      "Node 40: [6 5]\n",
      "Node 41: [6 6]\n",
      "Node 42: [6 7]\n",
      "Node 43: [6 8]\n",
      "Node 44: [7 3]\n",
      "Node 45: [7 4]\n",
      "Node 46: [7 5]\n",
      "Node 47: [7 6]\n",
      "Node 48: [7 7]\n",
      "Node 49: [7 8]\n",
      "Node 50: [7 9]\n",
      "Node 51: [8 3]\n",
      "Node 52: [8 4]\n",
      "Node 53: [8 5]\n",
      "Node 54: [8 6]\n",
      "Node 55: [8 7]\n",
      "Node 56: [8 8]\n",
      "Node 57: [8 9]\n",
      "Node 58: [9 2]\n",
      "Node 59: [9 3]\n",
      "Node 60: [9 4]\n",
      "Node 61: [9 5]\n",
      "Node 62: [9 6]\n",
      "Node 63: [9 7]\n",
      "Node 64: [9 8]\n",
      "Node 65: [9 9]\n",
      "Node 66: [10  2]\n",
      "Node 67: [10  3]\n",
      "Node 68: [10  4]\n",
      "Node 69: [10  5]\n",
      "Node 70: [10  6]\n",
      "Node 71: [10  7]\n",
      "Node 72: [10  8]\n",
      "Node 73: [10  9]\n",
      "Node 74: [11  0]\n",
      "Node 75: [11  1]\n",
      "Node 76: [11  2]\n",
      "Node 77: [11  3]\n",
      "Node 78: [11  4]\n",
      "Node 79: [11  5]\n",
      "Node 80: [11  6]\n",
      "Node 81: [11  7]\n",
      "Node 82: [11  8]\n",
      "Node 83: [11  9]\n",
      "Node 84: [12  0]\n",
      "Node 85: [12  1]\n",
      "Node 86: [12  2]\n",
      "Node 87: [12  3]\n",
      "Node 88: [12  4]\n",
      "Node 89: [12  5]\n",
      "Node 90: [12  6]\n",
      "Node 91: [12  7]\n",
      "Node 92: [12  8]\n",
      "Node 93: [12  9]\n",
      "Node 94: [13  0]\n",
      "Node 95: [13  1]\n",
      "Node 96: [13  2]\n",
      "Node 97: [13  3]\n",
      "Node 98: [13  4]\n",
      "Node 99: [13  5]\n",
      "Node 100: [13  6]\n",
      "Node 101: [13  7]\n",
      "Node 102: [13  8]\n",
      "Node 103: [13  9]\n",
      "Node 104: [14  2]\n",
      "Node 105: [14  3]\n",
      "Node 106: [14  4]\n",
      "Node 107: [14  5]\n",
      "Node 108: [14  6]\n",
      "Node 109: [14  7]\n",
      "Node 110: [15  3]\n",
      "Node 111: [15  4]\n",
      "Node 112: [15  5]\n",
      "Node 113: [15  6]\n",
      "Node 114: [15  7]\n",
      "Node 115: [16  3]\n",
      "Node 116: [16  4]\n",
      "Node 117: [16  5]\n",
      "Node 118: [16  6]\n",
      "Node 119: [17  2]\n",
      "Node 120: [17  3]\n",
      "Node 121: [17  4]\n",
      "Node 122: [17  5]\n",
      "Node 123: [17  6]\n"
     ]
    }
   ],
   "source": [
    "eco_10_nodes = np.load('/Users/antoniomendez/Desktop/maps_grids/eco_10.npy')\n",
    "n = eco_10_nodes.shape[1]\n",
    "for i in range(n):\n",
    "    print(f\"Node {i+1}: {eco_10_nodes[0, i]}\")"
   ]
  },
  {
   "cell_type": "code",
   "execution_count": 82,
   "id": "212b36a4",
   "metadata": {},
   "outputs": [
    {
     "data": {
      "text/plain": [
       "(123, 123)"
      ]
     },
     "execution_count": 82,
     "metadata": {},
     "output_type": "execute_result"
    }
   ],
   "source": [
    "adjacencia_eco_10, nodes = knn_segun_orden_entrada(eco_10_nodes[0], 10, 3)\n",
    "np.save('laplacians/adj_eco_10.npy', adjacencia_eco_10.toarray())\n",
    "laplacian_eco_10 = construir_matriz_laplaciana(adjacencia_eco_10.toarray())\n",
    "np.save('laplacians/laplacian_eco_10.npy', laplacian_eco_10)\n",
    "adjacencia_eco_10.toarray().shape"
   ]
  },
  {
   "cell_type": "code",
   "execution_count": 83,
   "id": "9b03daa7",
   "metadata": {},
   "outputs": [
    {
     "name": "stdout",
     "output_type": "stream",
     "text": [
      "Node 1: [0 3]\n",
      "Node 2: [0 5]\n",
      "Node 3: [0 6]\n",
      "Node 4: [0 7]\n",
      "Node 5: [0 8]\n",
      "Node 6: [0 9]\n",
      "Node 7: [1 3]\n",
      "Node 8: [1 4]\n",
      "Node 9: [1 5]\n",
      "Node 10: [1 6]\n",
      "Node 11: [1 7]\n",
      "Node 12: [1 8]\n",
      "Node 13: [1 9]\n",
      "Node 14: [2 3]\n",
      "Node 15: [2 4]\n",
      "Node 16: [2 5]\n",
      "Node 17: [2 6]\n",
      "Node 18: [2 7]\n",
      "Node 19: [2 8]\n",
      "Node 20: [2 9]\n",
      "Node 21: [3 3]\n",
      "Node 22: [3 4]\n",
      "Node 23: [3 5]\n",
      "Node 24: [3 6]\n",
      "Node 25: [3 7]\n",
      "Node 26: [3 8]\n",
      "Node 27: [3 9]\n",
      "Node 28: [ 3 10]\n",
      "Node 29: [4 3]\n",
      "Node 30: [4 4]\n",
      "Node 31: [4 5]\n",
      "Node 32: [4 6]\n",
      "Node 33: [4 7]\n",
      "Node 34: [4 8]\n",
      "Node 35: [4 9]\n",
      "Node 36: [ 4 10]\n",
      "Node 37: [5 4]\n",
      "Node 38: [5 5]\n",
      "Node 39: [5 6]\n",
      "Node 40: [5 7]\n",
      "Node 41: [5 8]\n",
      "Node 42: [5 9]\n",
      "Node 43: [ 5 10]\n",
      "Node 44: [6 3]\n",
      "Node 45: [6 4]\n",
      "Node 46: [6 5]\n",
      "Node 47: [6 6]\n",
      "Node 48: [6 7]\n",
      "Node 49: [6 8]\n",
      "Node 50: [6 9]\n",
      "Node 51: [ 6 10]\n",
      "Node 52: [7 4]\n",
      "Node 53: [7 5]\n",
      "Node 54: [7 6]\n",
      "Node 55: [7 7]\n",
      "Node 56: [7 8]\n",
      "Node 57: [7 9]\n",
      "Node 58: [ 7 10]\n",
      "Node 59: [8 4]\n",
      "Node 60: [8 5]\n",
      "Node 61: [8 6]\n",
      "Node 62: [8 7]\n",
      "Node 63: [8 8]\n",
      "Node 64: [8 9]\n",
      "Node 65: [ 8 10]\n",
      "Node 66: [9 4]\n",
      "Node 67: [9 5]\n",
      "Node 68: [9 6]\n",
      "Node 69: [9 7]\n",
      "Node 70: [9 8]\n",
      "Node 71: [9 9]\n",
      "Node 72: [ 9 10]\n",
      "Node 73: [10  3]\n",
      "Node 74: [10  4]\n",
      "Node 75: [10  5]\n",
      "Node 76: [10  6]\n",
      "Node 77: [10  7]\n",
      "Node 78: [10  8]\n",
      "Node 79: [10 10]\n",
      "Node 80: [10 11]\n",
      "Node 81: [11  3]\n",
      "Node 82: [11  4]\n",
      "Node 83: [11  5]\n",
      "Node 84: [11  6]\n",
      "Node 85: [11  7]\n",
      "Node 86: [11  8]\n",
      "Node 87: [11  9]\n",
      "Node 88: [11 10]\n",
      "Node 89: [11 11]\n",
      "Node 90: [12  3]\n",
      "Node 91: [12  5]\n",
      "Node 92: [12  6]\n",
      "Node 93: [12  7]\n",
      "Node 94: [12  8]\n",
      "Node 95: [12  9]\n",
      "Node 96: [12 10]\n",
      "Node 97: [12 11]\n",
      "Node 98: [13  0]\n",
      "Node 99: [13  1]\n",
      "Node 100: [13  2]\n",
      "Node 101: [13  3]\n",
      "Node 102: [13  4]\n",
      "Node 103: [13  5]\n",
      "Node 104: [13  6]\n",
      "Node 105: [13  7]\n",
      "Node 106: [13  8]\n",
      "Node 107: [13  9]\n",
      "Node 108: [13 10]\n",
      "Node 109: [13 11]\n",
      "Node 110: [14  0]\n",
      "Node 111: [14  1]\n",
      "Node 112: [14  2]\n",
      "Node 113: [14  3]\n",
      "Node 114: [14  4]\n",
      "Node 115: [14  5]\n",
      "Node 116: [14  6]\n",
      "Node 117: [14  7]\n",
      "Node 118: [14  8]\n",
      "Node 119: [14  9]\n",
      "Node 120: [14 10]\n",
      "Node 121: [14 11]\n",
      "Node 122: [15  0]\n",
      "Node 123: [15  1]\n",
      "Node 124: [15  2]\n",
      "Node 125: [15  3]\n",
      "Node 126: [15  4]\n",
      "Node 127: [15  5]\n",
      "Node 128: [15  6]\n",
      "Node 129: [15  7]\n",
      "Node 130: [15  8]\n",
      "Node 131: [15  9]\n",
      "Node 132: [15 10]\n",
      "Node 133: [15 11]\n",
      "Node 134: [16  1]\n",
      "Node 135: [16  2]\n",
      "Node 136: [16  3]\n",
      "Node 137: [16  4]\n",
      "Node 138: [16  5]\n",
      "Node 139: [16  6]\n",
      "Node 140: [16  7]\n",
      "Node 141: [16  8]\n",
      "Node 142: [17  4]\n",
      "Node 143: [17  5]\n",
      "Node 144: [17  6]\n",
      "Node 145: [17  7]\n",
      "Node 146: [17  8]\n",
      "Node 147: [18  4]\n",
      "Node 148: [18  5]\n",
      "Node 149: [18  6]\n",
      "Node 150: [18  7]\n",
      "Node 151: [18  8]\n",
      "Node 152: [19  3]\n",
      "Node 153: [19  4]\n",
      "Node 154: [19  5]\n",
      "Node 155: [19  6]\n",
      "Node 156: [19  7]\n",
      "Node 157: [20  3]\n",
      "Node 158: [20  4]\n",
      "Node 159: [20  5]\n",
      "Node 160: [20  6]\n",
      "Node 161: [20  7]\n"
     ]
    }
   ],
   "source": [
    "eco_12_nodes = np.load('/Users/antoniomendez/Desktop/maps_grids/eco_12.npy')\n",
    "n = eco_12_nodes.shape[1]\n",
    "for i in range(n):\n",
    "    print(f\"Node {i+1}: {eco_12_nodes[0, i]}\")"
   ]
  },
  {
   "cell_type": "code",
   "execution_count": 84,
   "id": "572a4d57",
   "metadata": {},
   "outputs": [
    {
     "data": {
      "text/plain": [
       "(161, 161)"
      ]
     },
     "execution_count": 84,
     "metadata": {},
     "output_type": "execute_result"
    }
   ],
   "source": [
    "adjacencia_eco_12, nodes = knn_segun_orden_entrada(eco_12_nodes[0], 12, 3)\n",
    "np.save('laplacians/adj_eco_12.npy', adjacencia_eco_12.toarray())\n",
    "laplacian_eco_12 = construir_matriz_laplaciana(adjacencia_eco_12.toarray())\n",
    "np.save('laplacians/laplacian_eco_12.npy', laplacian_eco_12)\n",
    "adjacencia_eco_12.toarray().shape"
   ]
  },
  {
   "cell_type": "code",
   "execution_count": 5,
   "id": "1471705d",
   "metadata": {},
   "outputs": [
    {
     "name": "stdout",
     "output_type": "stream",
     "text": [
      "Node 1: [0 4]\n",
      "Node 2: [0 5]\n",
      "Node 3: [0 6]\n",
      "Node 4: [0 7]\n",
      "Node 5: [0 8]\n",
      "Node 6: [0 9]\n",
      "Node 7: [ 0 10]\n",
      "Node 8: [ 0 11]\n",
      "Node 9: [1 4]\n",
      "Node 10: [1 5]\n",
      "Node 11: [1 6]\n",
      "Node 12: [1 7]\n",
      "Node 13: [1 8]\n",
      "Node 14: [1 9]\n",
      "Node 15: [ 1 10]\n",
      "Node 16: [ 1 11]\n",
      "Node 17: [2 4]\n",
      "Node 18: [2 5]\n",
      "Node 19: [2 6]\n",
      "Node 20: [2 7]\n",
      "Node 21: [2 8]\n",
      "Node 22: [2 9]\n",
      "Node 23: [ 2 10]\n",
      "Node 24: [ 2 11]\n",
      "Node 25: [3 4]\n",
      "Node 26: [3 5]\n",
      "Node 27: [3 6]\n",
      "Node 28: [3 7]\n",
      "Node 29: [3 8]\n",
      "Node 30: [3 9]\n",
      "Node 31: [ 3 10]\n",
      "Node 32: [ 3 11]\n",
      "Node 33: [4 4]\n",
      "Node 34: [4 5]\n",
      "Node 35: [4 6]\n",
      "Node 36: [4 7]\n",
      "Node 37: [4 8]\n",
      "Node 38: [4 9]\n",
      "Node 39: [ 4 10]\n",
      "Node 40: [ 4 11]\n",
      "Node 41: [5 4]\n",
      "Node 42: [5 5]\n",
      "Node 43: [5 6]\n",
      "Node 44: [5 7]\n",
      "Node 45: [5 8]\n",
      "Node 46: [5 9]\n",
      "Node 47: [ 5 10]\n",
      "Node 48: [ 5 11]\n",
      "Node 49: [6 4]\n",
      "Node 50: [6 5]\n",
      "Node 51: [6 6]\n",
      "Node 52: [6 7]\n",
      "Node 53: [6 8]\n",
      "Node 54: [6 9]\n",
      "Node 55: [ 6 10]\n",
      "Node 56: [ 6 11]\n",
      "Node 57: [7 4]\n",
      "Node 58: [7 5]\n",
      "Node 59: [7 6]\n",
      "Node 60: [7 7]\n",
      "Node 61: [7 8]\n",
      "Node 62: [7 9]\n",
      "Node 63: [ 7 10]\n",
      "Node 64: [ 7 11]\n",
      "Node 65: [ 7 12]\n",
      "Node 66: [8 4]\n",
      "Node 67: [8 5]\n",
      "Node 68: [8 6]\n",
      "Node 69: [8 7]\n",
      "Node 70: [8 8]\n",
      "Node 71: [8 9]\n",
      "Node 72: [ 8 10]\n",
      "Node 73: [ 8 11]\n",
      "Node 74: [ 8 12]\n",
      "Node 75: [9 4]\n",
      "Node 76: [9 5]\n",
      "Node 77: [9 6]\n",
      "Node 78: [9 7]\n",
      "Node 79: [9 8]\n",
      "Node 80: [9 9]\n",
      "Node 81: [ 9 10]\n",
      "Node 82: [ 9 11]\n",
      "Node 83: [ 9 12]\n",
      "Node 84: [10  5]\n",
      "Node 85: [10  6]\n",
      "Node 86: [10  7]\n",
      "Node 87: [10  8]\n",
      "Node 88: [10  9]\n",
      "Node 89: [10 10]\n",
      "Node 90: [10 11]\n",
      "Node 91: [10 12]\n",
      "Node 92: [11  4]\n",
      "Node 93: [11  5]\n",
      "Node 94: [11  6]\n",
      "Node 95: [11  7]\n",
      "Node 96: [11  8]\n",
      "Node 97: [11  9]\n",
      "Node 98: [11 10]\n",
      "Node 99: [11 11]\n",
      "Node 100: [11 12]\n",
      "Node 101: [12  4]\n",
      "Node 102: [12  5]\n",
      "Node 103: [12  6]\n",
      "Node 104: [12  7]\n",
      "Node 105: [12  8]\n",
      "Node 106: [12  9]\n",
      "Node 107: [12 10]\n",
      "Node 108: [12 11]\n",
      "Node 109: [12 12]\n",
      "Node 110: [13  3]\n",
      "Node 111: [13  4]\n",
      "Node 112: [13  5]\n",
      "Node 113: [13  6]\n",
      "Node 114: [13  7]\n",
      "Node 115: [13  8]\n",
      "Node 116: [13  9]\n",
      "Node 117: [13 10]\n",
      "Node 118: [13 11]\n",
      "Node 119: [13 12]\n",
      "Node 120: [13 13]\n",
      "Node 121: [14  3]\n",
      "Node 122: [14  5]\n",
      "Node 123: [14  6]\n",
      "Node 124: [14  7]\n",
      "Node 125: [14  8]\n",
      "Node 126: [14  9]\n",
      "Node 127: [14 10]\n",
      "Node 128: [14 11]\n",
      "Node 129: [14 12]\n",
      "Node 130: [14 13]\n",
      "Node 131: [15  1]\n",
      "Node 132: [15  4]\n",
      "Node 133: [15  5]\n",
      "Node 134: [15  6]\n",
      "Node 135: [15  7]\n",
      "Node 136: [15  8]\n",
      "Node 137: [15  9]\n",
      "Node 138: [15 10]\n",
      "Node 139: [15 11]\n",
      "Node 140: [15 12]\n",
      "Node 141: [15 13]\n",
      "Node 142: [16  0]\n",
      "Node 143: [16  1]\n",
      "Node 144: [16  2]\n",
      "Node 145: [16  3]\n",
      "Node 146: [16  4]\n",
      "Node 147: [16  5]\n",
      "Node 148: [16  6]\n",
      "Node 149: [16  7]\n",
      "Node 150: [16  8]\n",
      "Node 151: [16  9]\n",
      "Node 152: [16 10]\n",
      "Node 153: [16 11]\n",
      "Node 154: [16 12]\n",
      "Node 155: [16 13]\n",
      "Node 156: [17  1]\n",
      "Node 157: [17  2]\n",
      "Node 158: [17  3]\n",
      "Node 159: [17  4]\n",
      "Node 160: [17  5]\n",
      "Node 161: [17  6]\n",
      "Node 162: [17  7]\n",
      "Node 163: [17  8]\n",
      "Node 164: [17  9]\n",
      "Node 165: [17 10]\n",
      "Node 166: [17 11]\n",
      "Node 167: [17 12]\n",
      "Node 168: [17 13]\n",
      "Node 169: [18  0]\n",
      "Node 170: [18  1]\n",
      "Node 171: [18  2]\n",
      "Node 172: [18  3]\n",
      "Node 173: [18  4]\n",
      "Node 174: [18  5]\n",
      "Node 175: [18  6]\n",
      "Node 176: [18  7]\n",
      "Node 177: [18  8]\n",
      "Node 178: [18  9]\n",
      "Node 179: [18 10]\n",
      "Node 180: [18 11]\n",
      "Node 181: [18 12]\n",
      "Node 182: [18 13]\n",
      "Node 183: [19  1]\n",
      "Node 184: [19  2]\n",
      "Node 185: [19  3]\n",
      "Node 186: [19  4]\n",
      "Node 187: [19  5]\n",
      "Node 188: [19  6]\n",
      "Node 189: [19  7]\n",
      "Node 190: [19  8]\n",
      "Node 191: [19  9]\n",
      "Node 192: [19 10]\n",
      "Node 193: [20  5]\n",
      "Node 194: [20  6]\n",
      "Node 195: [20  7]\n",
      "Node 196: [20  8]\n",
      "Node 197: [20  9]\n",
      "Node 198: [21  5]\n",
      "Node 199: [21  6]\n",
      "Node 200: [21  7]\n",
      "Node 201: [21  8]\n",
      "Node 202: [21  9]\n",
      "Node 203: [21 10]\n",
      "Node 204: [22  4]\n",
      "Node 205: [22  5]\n",
      "Node 206: [22  6]\n",
      "Node 207: [22  7]\n",
      "Node 208: [22  8]\n",
      "Node 209: [22  9]\n",
      "Node 210: [23  4]\n",
      "Node 211: [23  5]\n",
      "Node 212: [23  6]\n",
      "Node 213: [23  7]\n",
      "Node 214: [23  8]\n",
      "Node 215: [24  4]\n",
      "Node 216: [24  5]\n",
      "Node 217: [24  6]\n",
      "Node 218: [24  7]\n",
      "Node 219: [24  8]\n"
     ]
    }
   ],
   "source": [
    "eco_14_nodes = np.load('/Users/antoniomendez/Desktop/maps_grids/eco_14.npy')\n",
    "n = eco_14_nodes.shape[1]\n",
    "for i in range(n):\n",
    "    print(f\"Node {i+1}: {eco_14_nodes[0, i]}\")"
   ]
  },
  {
   "cell_type": "code",
   "execution_count": 6,
   "id": "76280e08",
   "metadata": {},
   "outputs": [
    {
     "data": {
      "text/plain": [
       "(219, 219)"
      ]
     },
     "execution_count": 6,
     "metadata": {},
     "output_type": "execute_result"
    }
   ],
   "source": [
    "adjacencia_eco_14, nodes = knn_segun_orden_entrada(eco_14_nodes[0], 14, 3)\n",
    "np.save('laplacians/adj_eco_14.npy', adjacencia_eco_14.toarray())\n",
    "laplacian_eco_14 = construir_matriz_laplaciana(adjacencia_eco_14.toarray())\n",
    "np.save('laplacians/laplacian_eco_14.npy', laplacian_eco_14)\n",
    "adjacencia_eco_14.toarray().shape"
   ]
  },
  {
   "cell_type": "code",
   "execution_count": 7,
   "id": "9ff96f56",
   "metadata": {},
   "outputs": [
    {
     "name": "stdout",
     "output_type": "stream",
     "text": [
      "Node 1: [0 6]\n",
      "Node 2: [0 7]\n",
      "Node 3: [0 8]\n",
      "Node 4: [0 9]\n",
      "Node 5: [ 0 10]\n",
      "Node 6: [ 0 11]\n",
      "Node 7: [ 0 12]\n",
      "Node 8: [1 5]\n",
      "Node 9: [1 6]\n",
      "Node 10: [1 7]\n",
      "Node 11: [1 8]\n",
      "Node 12: [1 9]\n",
      "Node 13: [ 1 10]\n",
      "Node 14: [ 1 11]\n",
      "Node 15: [ 1 12]\n",
      "Node 16: [2 4]\n",
      "Node 17: [2 5]\n",
      "Node 18: [2 6]\n",
      "Node 19: [2 7]\n",
      "Node 20: [2 8]\n",
      "Node 21: [2 9]\n",
      "Node 22: [ 2 10]\n",
      "Node 23: [ 2 11]\n",
      "Node 24: [ 2 12]\n",
      "Node 25: [3 4]\n",
      "Node 26: [3 5]\n",
      "Node 27: [3 6]\n",
      "Node 28: [3 8]\n",
      "Node 29: [3 9]\n",
      "Node 30: [ 3 10]\n",
      "Node 31: [ 3 11]\n",
      "Node 32: [ 3 12]\n",
      "Node 33: [ 3 13]\n",
      "Node 34: [4 4]\n",
      "Node 35: [4 5]\n",
      "Node 36: [4 6]\n",
      "Node 37: [4 7]\n",
      "Node 38: [4 8]\n",
      "Node 39: [4 9]\n",
      "Node 40: [ 4 10]\n",
      "Node 41: [ 4 11]\n",
      "Node 42: [ 4 12]\n",
      "Node 43: [ 4 13]\n",
      "Node 44: [5 4]\n",
      "Node 45: [5 5]\n",
      "Node 46: [5 6]\n",
      "Node 47: [5 7]\n",
      "Node 48: [5 8]\n",
      "Node 49: [5 9]\n",
      "Node 50: [ 5 10]\n",
      "Node 51: [ 5 11]\n",
      "Node 52: [ 5 12]\n",
      "Node 53: [ 5 13]\n",
      "Node 54: [6 5]\n",
      "Node 55: [6 6]\n",
      "Node 56: [6 7]\n",
      "Node 57: [6 8]\n",
      "Node 58: [6 9]\n",
      "Node 59: [ 6 10]\n",
      "Node 60: [ 6 11]\n",
      "Node 61: [ 6 12]\n",
      "Node 62: [7 5]\n",
      "Node 63: [7 6]\n",
      "Node 64: [7 7]\n",
      "Node 65: [7 8]\n",
      "Node 66: [7 9]\n",
      "Node 67: [ 7 10]\n",
      "Node 68: [ 7 11]\n",
      "Node 69: [ 7 12]\n",
      "Node 70: [ 7 13]\n",
      "Node 71: [8 5]\n",
      "Node 72: [8 6]\n",
      "Node 73: [8 7]\n",
      "Node 74: [8 8]\n",
      "Node 75: [8 9]\n",
      "Node 76: [ 8 10]\n",
      "Node 77: [ 8 11]\n",
      "Node 78: [ 8 12]\n",
      "Node 79: [ 8 13]\n",
      "Node 80: [9 5]\n",
      "Node 81: [9 6]\n",
      "Node 82: [9 7]\n",
      "Node 83: [9 8]\n",
      "Node 84: [9 9]\n",
      "Node 85: [ 9 10]\n",
      "Node 86: [ 9 11]\n",
      "Node 87: [ 9 12]\n",
      "Node 88: [ 9 13]\n",
      "Node 89: [ 9 14]\n",
      "Node 90: [10  5]\n",
      "Node 91: [10  6]\n",
      "Node 92: [10  7]\n",
      "Node 93: [10  8]\n",
      "Node 94: [10  9]\n",
      "Node 95: [10 10]\n",
      "Node 96: [10 11]\n",
      "Node 97: [10 12]\n",
      "Node 98: [10 13]\n",
      "Node 99: [10 14]\n",
      "Node 100: [11  5]\n",
      "Node 101: [11  6]\n",
      "Node 102: [11  7]\n",
      "Node 103: [11  8]\n",
      "Node 104: [11  9]\n",
      "Node 105: [11 10]\n",
      "Node 106: [11 11]\n",
      "Node 107: [11 12]\n",
      "Node 108: [11 13]\n",
      "Node 109: [11 14]\n",
      "Node 110: [12  5]\n",
      "Node 111: [12  6]\n",
      "Node 112: [12  7]\n",
      "Node 113: [12  8]\n",
      "Node 114: [12  9]\n",
      "Node 115: [12 10]\n",
      "Node 116: [12 11]\n",
      "Node 117: [12 12]\n",
      "Node 118: [12 13]\n",
      "Node 119: [12 14]\n",
      "Node 120: [13  5]\n",
      "Node 121: [13  6]\n",
      "Node 122: [13  7]\n",
      "Node 123: [13  8]\n",
      "Node 124: [13  9]\n",
      "Node 125: [13 10]\n",
      "Node 126: [13 13]\n",
      "Node 127: [13 14]\n",
      "Node 128: [14  4]\n",
      "Node 129: [14  5]\n",
      "Node 130: [14  6]\n",
      "Node 131: [14  7]\n",
      "Node 132: [14  8]\n",
      "Node 133: [14  9]\n",
      "Node 134: [14 10]\n",
      "Node 135: [14 11]\n",
      "Node 136: [14 13]\n",
      "Node 137: [14 14]\n",
      "Node 138: [15  4]\n",
      "Node 139: [15  5]\n",
      "Node 140: [15  6]\n",
      "Node 141: [15  7]\n",
      "Node 142: [15  8]\n",
      "Node 143: [15  9]\n",
      "Node 144: [15 10]\n",
      "Node 145: [15 11]\n",
      "Node 146: [15 12]\n",
      "Node 147: [15 13]\n",
      "Node 148: [15 14]\n",
      "Node 149: [15 15]\n",
      "Node 150: [16  4]\n",
      "Node 151: [16  7]\n",
      "Node 152: [16  8]\n",
      "Node 153: [16  9]\n",
      "Node 154: [16 10]\n",
      "Node 155: [16 11]\n",
      "Node 156: [16 12]\n",
      "Node 157: [16 13]\n",
      "Node 158: [16 14]\n",
      "Node 159: [17  1]\n",
      "Node 160: [17  5]\n",
      "Node 161: [17  6]\n",
      "Node 162: [17  7]\n",
      "Node 163: [17  8]\n",
      "Node 164: [17  9]\n",
      "Node 165: [17 10]\n",
      "Node 166: [17 11]\n",
      "Node 167: [17 12]\n",
      "Node 168: [17 13]\n",
      "Node 169: [17 14]\n",
      "Node 170: [17 15]\n",
      "Node 171: [18  0]\n",
      "Node 172: [18  1]\n",
      "Node 173: [18  2]\n",
      "Node 174: [18  3]\n",
      "Node 175: [18  4]\n",
      "Node 176: [18  5]\n",
      "Node 177: [18  6]\n",
      "Node 178: [18  7]\n",
      "Node 179: [18  8]\n",
      "Node 180: [18  9]\n",
      "Node 181: [18 10]\n",
      "Node 182: [18 11]\n",
      "Node 183: [18 12]\n",
      "Node 184: [18 13]\n",
      "Node 185: [18 14]\n",
      "Node 186: [18 15]\n",
      "Node 187: [19  1]\n",
      "Node 188: [19  2]\n",
      "Node 189: [19  3]\n",
      "Node 190: [19  4]\n",
      "Node 191: [19  5]\n",
      "Node 192: [19  6]\n",
      "Node 193: [19  7]\n",
      "Node 194: [19  8]\n",
      "Node 195: [19  9]\n",
      "Node 196: [19 10]\n",
      "Node 197: [19 11]\n",
      "Node 198: [19 12]\n",
      "Node 199: [19 13]\n",
      "Node 200: [19 14]\n",
      "Node 201: [19 15]\n",
      "Node 202: [20  1]\n",
      "Node 203: [20  2]\n",
      "Node 204: [20  3]\n",
      "Node 205: [20  4]\n",
      "Node 206: [20  5]\n",
      "Node 207: [20  6]\n",
      "Node 208: [20  7]\n",
      "Node 209: [20  8]\n",
      "Node 210: [20  9]\n",
      "Node 211: [20 10]\n",
      "Node 212: [20 11]\n",
      "Node 213: [20 12]\n",
      "Node 214: [20 13]\n",
      "Node 215: [20 14]\n",
      "Node 216: [20 15]\n",
      "Node 217: [21  0]\n",
      "Node 218: [21  1]\n",
      "Node 219: [21  2]\n",
      "Node 220: [21  3]\n",
      "Node 221: [21  4]\n",
      "Node 222: [21  5]\n",
      "Node 223: [21  6]\n",
      "Node 224: [21  7]\n",
      "Node 225: [21  8]\n",
      "Node 226: [21  9]\n",
      "Node 227: [21 10]\n",
      "Node 228: [21 11]\n",
      "Node 229: [22  3]\n",
      "Node 230: [22  6]\n",
      "Node 231: [22  7]\n",
      "Node 232: [22  8]\n",
      "Node 233: [22 10]\n",
      "Node 234: [22 11]\n",
      "Node 235: [23  5]\n",
      "Node 236: [23  7]\n",
      "Node 237: [23  8]\n",
      "Node 238: [23  9]\n",
      "Node 239: [23 10]\n",
      "Node 240: [23 11]\n",
      "Node 241: [24  6]\n",
      "Node 242: [24  7]\n",
      "Node 243: [24  8]\n",
      "Node 244: [24  9]\n",
      "Node 245: [24 10]\n",
      "Node 246: [24 11]\n",
      "Node 247: [25  4]\n",
      "Node 248: [25  5]\n",
      "Node 249: [25  6]\n",
      "Node 250: [25  7]\n",
      "Node 251: [25  8]\n",
      "Node 252: [25  9]\n",
      "Node 253: [25 10]\n",
      "Node 254: [26  5]\n",
      "Node 255: [26  6]\n",
      "Node 256: [26  7]\n",
      "Node 257: [26  8]\n",
      "Node 258: [26  9]\n",
      "Node 259: [26 10]\n",
      "Node 260: [27  4]\n",
      "Node 261: [27  5]\n",
      "Node 262: [27  6]\n",
      "Node 263: [27  8]\n",
      "Node 264: [27  9]\n"
     ]
    }
   ],
   "source": [
    "eco_16_nodes = np.load('/Users/antoniomendez/Desktop/maps_grids/eco_16.npy')\n",
    "n = eco_16_nodes.shape[1]\n",
    "for i in range(n):\n",
    "    print(f\"Node {i+1}: {eco_16_nodes[0, i]}\")"
   ]
  },
  {
   "cell_type": "code",
   "execution_count": 8,
   "id": "8a42cdd5",
   "metadata": {},
   "outputs": [
    {
     "data": {
      "text/plain": [
       "(264, 264)"
      ]
     },
     "execution_count": 8,
     "metadata": {},
     "output_type": "execute_result"
    }
   ],
   "source": [
    "adjacencia_eco_16, nodes = knn_segun_orden_entrada(eco_16_nodes[0], 16, 3)\n",
    "np.save('laplacians/adj_eco_16.npy', adjacencia_eco_16.toarray())\n",
    "laplacian_eco_16 = construir_matriz_laplaciana(adjacencia_eco_16.toarray())\n",
    "np.save('laplacians/laplacian_eco_16.npy', laplacian_eco_16)\n",
    "adjacencia_eco_16.toarray().shape"
   ]
  },
  {
   "cell_type": "code",
   "execution_count": 2,
   "id": "5e562db6",
   "metadata": {},
   "outputs": [
    {
     "name": "stdout",
     "output_type": "stream",
     "text": [
      "Node 1: [0 0]\n",
      "Node 2: [0 1]\n",
      "Node 3: [0 2]\n",
      "Node 4: [1 0]\n",
      "Node 5: [1 1]\n",
      "Node 6: [1 2]\n",
      "Node 7: [2 0]\n",
      "Node 8: [2 1]\n",
      "Node 9: [2 2]\n",
      "Node 10: [3 0]\n",
      "Node 11: [3 1]\n",
      "Node 12: [3 2]\n",
      "Node 13: [4 0]\n",
      "Node 14: [4 1]\n",
      "Node 15: [4 2]\n"
     ]
    }
   ],
   "source": [
    "eco_3 = np.load('/Users/antoniomendez/Desktop/maps_grids/eco_3.npy')\n",
    "n = eco_3.shape[1]\n",
    "for i in range(n):\n",
    "    print(f\"Node {i+1}: {eco_3[0, i]}\")"
   ]
  },
  {
   "cell_type": "code",
   "execution_count": null,
   "id": "1558cfd2",
   "metadata": {},
   "outputs": [],
   "source": []
  }
 ],
 "metadata": {
  "kernelspec": {
   "display_name": "myenv",
   "language": "python",
   "name": "python3"
  },
  "language_info": {
   "codemirror_mode": {
    "name": "ipython",
    "version": 3
   },
   "file_extension": ".py",
   "mimetype": "text/x-python",
   "name": "python",
   "nbconvert_exporter": "python",
   "pygments_lexer": "ipython3",
   "version": "3.12.9"
  }
 },
 "nbformat": 4,
 "nbformat_minor": 5
}
