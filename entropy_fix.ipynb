{
 "cells": [
  {
   "cell_type": "code",
   "execution_count": 1,
   "metadata": {},
   "outputs": [],
   "source": [
    "# librerías\n",
    "import numpy as np\n",
    "import matplotlib.pyplot as plt\n",
    "import pandas as pd"
   ]
  },
  {
   "cell_type": "code",
   "execution_count": 2,
   "metadata": {},
   "outputs": [],
   "source": [
    "dir = '/home/user/Desktop/Datos/'\n",
    "#dir = '/Users/antoniomendez/Desktop/Tesis/Datos/datos_limpios/'"
   ]
  },
  {
   "cell_type": "code",
   "execution_count": 3,
   "metadata": {},
   "outputs": [],
   "source": [
    "def count_trips_mibici(data_user, threshold = 5):\n",
    "    viajes_user = data_user.groupby([data_user[['Origen_Id', 'Destino_Id']].min(axis=1), data_user[['Origen_Id', 'Destino_Id']].max(axis=1)]).size().reset_index(name='counts')\n",
    "    viajes_user.columns = ['Est_A', 'Est_B', 'counts']\n",
    "    viajes_user = viajes_user[viajes_user['counts'] >= threshold]\n",
    "    total = viajes_user['counts'].sum()\n",
    "    viajes_user['prob'] = viajes_user['counts']/total\n",
    "    return viajes_user\n",
    "\n",
    "def leer_matriz(nombre_archivo):\n",
    "    matriz = []\n",
    "    with open(nombre_archivo, 'r') as archivo:\n",
    "        archivo.readline()\n",
    "        archivo.readline()\n",
    "        for linea in archivo:\n",
    "            fila = [float(valor) for valor in linea.strip().split()]\n",
    "            matriz.append(fila)\n",
    "    return matriz\n",
    "\n",
    "def encontrar_estacion(est, matriz):\n",
    "    for i in range(len(matriz)):\n",
    "        if matriz[i][0] == est:\n",
    "            return matriz[i][1], matriz[i][2]\n",
    "    return None, None"
   ]
  },
  {
   "cell_type": "code",
   "execution_count": 4,
   "metadata": {},
   "outputs": [],
   "source": [
    "# Load data\n",
    "data_2019 = pd.read_csv(f'{dir}mibici/2019.csv')\n",
    "data = data_2019[data_2019['Inicio_del_viaje'].str.startswith('2019-01')]\n",
    "del data_2019\n",
    "estaciones = leer_matriz(f'{dir}/Adj_mibici/matrices_estaciones/est_2019.txt')\n",
    "#estaciones = leer_matriz('/Users/antoniomendez/Desktop/Tesis/Datos/Adj_mibici/matrices_estaciones/est_2019.txt')"
   ]
  },
  {
   "cell_type": "code",
   "execution_count": 6,
   "metadata": {},
   "outputs": [],
   "source": [
    "users_counts = data['Usuario_Id'].value_counts()\n",
    "users = users_counts.index.tolist()"
   ]
  },
  {
   "cell_type": "code",
   "execution_count": null,
   "metadata": {},
   "outputs": [],
   "source": [
    "def compute_entropy_normalized(counter_user):\n",
    "    '''\n",
    "    args:\n",
    "    counter_user: DataFrame with columns Est_A, Est_B, counts, prob given by count_trips_mibici by a specific user\n",
    "    total_counter: DataFrame with columns Est_A, Est_B, counts, prob given by count_trips_mibici by all users\n",
    "    return:\n",
    "    entropy: float with the entropy\n",
    "    '''\n",
    "    entropy = 0\n",
    "    for i in range(len(counter_user)):\n",
    "        prob = counter_user.iloc[i]['prob']\n",
    "        entropy -= prob * np.log(prob)\n",
    "    if len(counter_user) > 1:\n",
    "        entropy /= np.log(len(counter_user))\n",
    "    else:\n",
    "        entropy = None\n",
    "    return entropy"
   ]
  },
  {
   "cell_type": "code",
   "execution_count": 30,
   "metadata": {},
   "outputs": [],
   "source": [
    "entropies = []\n",
    "users_to_analize = []\n",
    "for user in users:\n",
    "    data_user = data[data['Usuario_Id'] == user]\n",
    "    counter_user = count_trips_mibici(data_user)\n",
    "    if len(counter_user) > 0:\n",
    "        entropies.append(compute_entropy_normalized(counter_user))\n",
    "        users_to_analize.append(user)"
   ]
  },
  {
   "cell_type": "code",
   "execution_count": 40,
   "metadata": {},
   "outputs": [
    {
     "data": {
      "image/png": "[encoded data removed]",
      "text/plain": [
       "<Figure size 1000x600 with 1 Axes>"
      ]
     },
     "metadata": {},
     "output_type": "display_data"
    }
   ],
   "source": [
    "plt.figure(figsize=(10, 6))\n",
    "plt.hist(entropies, bins=10, alpha=0.6)\n",
    "plt.scatter(entropies, np.zeros(len(entropies)), color='red', alpha=0.1)\n",
    "plt.xlabel('Entropía')\n",
    "plt.ylabel('Densidad')\n",
    "plt.title('Entropías')\n",
    "plt.grid()\n",
    "plt.show()"
   ]
  },
  {
   "cell_type": "code",
   "execution_count": 32,
   "metadata": {},
   "outputs": [],
   "source": [
    "entr_0 = []\n",
    "for user in users_to_analize:\n",
    "    if entropies[np.where(np.array(users_to_analize) == user)[0][0]] == 0:\n",
    "        entr_0.append(user)"
   ]
  },
  {
   "cell_type": "code",
   "execution_count": 35,
   "metadata": {},
   "outputs": [
    {
     "data": {
      "text/plain": [
       "17433"
      ]
     },
     "execution_count": 35,
     "metadata": {},
     "output_type": "execute_result"
    }
   ],
   "source": [
    "len(users)"
   ]
  },
  {
   "cell_type": "code",
   "execution_count": 34,
   "metadata": {},
   "outputs": [
    {
     "data": {
      "text/plain": [
       "(7279, 3951)"
      ]
     },
     "execution_count": 34,
     "metadata": {},
     "output_type": "execute_result"
    }
   ],
   "source": [
    "len(users_to_analize), len(entr_0)"
   ]
  },
  {
   "cell_type": "code",
   "execution_count": 33,
   "metadata": {},
   "outputs": [
    {
     "data": {
      "text/plain": [
       "3951"
      ]
     },
     "execution_count": 33,
     "metadata": {},
     "output_type": "execute_result"
    }
   ],
   "source": [
    "len(entr_0)"
   ]
  },
  {
   "cell_type": "code",
   "execution_count": 36,
   "metadata": {},
   "outputs": [
    {
     "data": {
      "text/plain": [
       "array([275435,  10654, 420420, 445621, 365057, 120126, 310005,  61706,\n",
       "       454344, 214514, 333176, 442274, 414202, 407715,  33044])"
      ]
     },
     "execution_count": 36,
     "metadata": {},
     "output_type": "execute_result"
    }
   ],
   "source": [
    "entr_0 = np.array(entr_0)\n",
    "entr_0[:15]"
   ]
  },
  {
   "cell_type": "code",
   "execution_count": 41,
   "metadata": {},
   "outputs": [
    {
     "data": {
      "text/html": [
       "<div>\n",
       "<style scoped>\n",
       "    .dataframe tbody tr th:only-of-type {\n",
       "        vertical-align: middle;\n",
       "    }\n",
       "\n",
       "    .dataframe tbody tr th {\n",
       "        vertical-align: top;\n",
       "    }\n",
       "\n",
       "    .dataframe thead th {\n",
       "        text-align: right;\n",
       "    }\n",
       "</style>\n",
       "<table border=\"1\" class=\"dataframe\">\n",
       "  <thead>\n",
       "    <tr style=\"text-align: right;\">\n",
       "      <th></th>\n",
       "      <th>Est_A</th>\n",
       "      <th>Est_B</th>\n",
       "      <th>counts</th>\n",
       "      <th>prob</th>\n",
       "    </tr>\n",
       "  </thead>\n",
       "  <tbody>\n",
       "    <tr>\n",
       "      <th>143</th>\n",
       "      <td>194</td>\n",
       "      <td>199</td>\n",
       "      <td>5</td>\n",
       "      <td>1.0</td>\n",
       "    </tr>\n",
       "  </tbody>\n",
       "</table>\n",
       "</div>"
      ],
      "text/plain": [
       "     Est_A  Est_B  counts  prob\n",
       "143    194    199       5   1.0"
      ]
     },
     "execution_count": 41,
     "metadata": {},
     "output_type": "execute_result"
    }
   ],
   "source": [
    "counter_user_275435 = count_trips_mibici(data[data['Usuario_Id'] == 275435])\n",
    "counter_user_275435"
   ]
  },
  {
   "cell_type": "code",
   "execution_count": 37,
   "metadata": {},
   "outputs": [
    {
     "data": {
      "text/html": [
       "<div>\n",
       "<style scoped>\n",
       "    .dataframe tbody tr th:only-of-type {\n",
       "        vertical-align: middle;\n",
       "    }\n",
       "\n",
       "    .dataframe tbody tr th {\n",
       "        vertical-align: top;\n",
       "    }\n",
       "\n",
       "    .dataframe thead th {\n",
       "        text-align: right;\n",
       "    }\n",
       "</style>\n",
       "<table border=\"1\" class=\"dataframe\">\n",
       "  <thead>\n",
       "    <tr style=\"text-align: right;\">\n",
       "      <th></th>\n",
       "      <th>Est_A</th>\n",
       "      <th>Est_B</th>\n",
       "      <th>counts</th>\n",
       "      <th>prob</th>\n",
       "    </tr>\n",
       "  </thead>\n",
       "  <tbody>\n",
       "    <tr>\n",
       "      <th>61</th>\n",
       "      <td>65</td>\n",
       "      <td>73</td>\n",
       "      <td>8</td>\n",
       "      <td>1.0</td>\n",
       "    </tr>\n",
       "  </tbody>\n",
       "</table>\n",
       "</div>"
      ],
      "text/plain": [
       "    Est_A  Est_B  counts  prob\n",
       "61     65     73       8   1.0"
      ]
     },
     "execution_count": 37,
     "metadata": {},
     "output_type": "execute_result"
    }
   ],
   "source": [
    "counter_user_10654 = count_trips_mibici(data[data['Usuario_Id'] == 10654])\n",
    "counter_user_10654"
   ]
  },
  {
   "cell_type": "code",
   "execution_count": 38,
   "metadata": {},
   "outputs": [
    {
     "data": {
      "text/html": [
       "<div>\n",
       "<style scoped>\n",
       "    .dataframe tbody tr th:only-of-type {\n",
       "        vertical-align: middle;\n",
       "    }\n",
       "\n",
       "    .dataframe tbody tr th {\n",
       "        vertical-align: top;\n",
       "    }\n",
       "\n",
       "    .dataframe thead th {\n",
       "        text-align: right;\n",
       "    }\n",
       "</style>\n",
       "<table border=\"1\" class=\"dataframe\">\n",
       "  <thead>\n",
       "    <tr style=\"text-align: right;\">\n",
       "      <th></th>\n",
       "      <th>Est_A</th>\n",
       "      <th>Est_B</th>\n",
       "      <th>counts</th>\n",
       "      <th>prob</th>\n",
       "    </tr>\n",
       "  </thead>\n",
       "  <tbody>\n",
       "    <tr>\n",
       "      <th>38</th>\n",
       "      <td>31</td>\n",
       "      <td>56</td>\n",
       "      <td>5</td>\n",
       "      <td>1.0</td>\n",
       "    </tr>\n",
       "  </tbody>\n",
       "</table>\n",
       "</div>"
      ],
      "text/plain": [
       "    Est_A  Est_B  counts  prob\n",
       "38     31     56       5   1.0"
      ]
     },
     "execution_count": 38,
     "metadata": {},
     "output_type": "execute_result"
    }
   ],
   "source": [
    "counter_user_420420 = count_trips_mibici(data[data['Usuario_Id'] == 420420])\n",
    "counter_user_420420"
   ]
  },
  {
   "cell_type": "code",
   "execution_count": 42,
   "metadata": {},
   "outputs": [
    {
     "data": {
      "text/html": [
       "<div>\n",
       "<style scoped>\n",
       "    .dataframe tbody tr th:only-of-type {\n",
       "        vertical-align: middle;\n",
       "    }\n",
       "\n",
       "    .dataframe tbody tr th {\n",
       "        vertical-align: top;\n",
       "    }\n",
       "\n",
       "    .dataframe thead th {\n",
       "        text-align: right;\n",
       "    }\n",
       "</style>\n",
       "<table border=\"1\" class=\"dataframe\">\n",
       "  <thead>\n",
       "    <tr style=\"text-align: right;\">\n",
       "      <th></th>\n",
       "      <th>Est_A</th>\n",
       "      <th>Est_B</th>\n",
       "      <th>counts</th>\n",
       "      <th>prob</th>\n",
       "    </tr>\n",
       "  </thead>\n",
       "  <tbody>\n",
       "    <tr>\n",
       "      <th>62</th>\n",
       "      <td>110</td>\n",
       "      <td>266</td>\n",
       "      <td>5</td>\n",
       "      <td>1.0</td>\n",
       "    </tr>\n",
       "  </tbody>\n",
       "</table>\n",
       "</div>"
      ],
      "text/plain": [
       "    Est_A  Est_B  counts  prob\n",
       "62    110    266       5   1.0"
      ]
     },
     "execution_count": 42,
     "metadata": {},
     "output_type": "execute_result"
    }
   ],
   "source": [
    "counter_user_445621 = count_trips_mibici(data[data['Usuario_Id'] == 445621])\n",
    "counter_user_445621"
   ]
  }
 ],
 "metadata": {
  "kernelspec": {
   "display_name": "Python 3",
   "language": "python",
   "name": "python3"
  },
  "language_info": {
   "codemirror_mode": {
    "name": "ipython",
    "version": 3
   },
   "file_extension": ".py",
   "mimetype": "text/x-python",
   "name": "python",
   "nbconvert_exporter": "python",
   "pygments_lexer": "ipython3",
   "version": "3.10.12"
  }
 },
 "nbformat": 4,
 "nbformat_minor": 2
}
