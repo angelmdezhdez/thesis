{
 "cells": [
  {
   "cell_type": "code",
   "execution_count": 1,
   "id": "48eb972e",
   "metadata": {},
   "outputs": [],
   "source": [
    "#libraries\n",
    "import numpy as np\n",
    "import matplotlib.pyplot as plt\n",
    "import pandas as pd\n",
    "from datetime import datetime\n",
    "import time\n",
    "import folium\n",
    "import os\n",
    "import sys\n",
    "import abstract_flows.arrow as arrow\n",
    "import abstract_flows.grid as grid\n",
    "import abstract_flows.flows as flows\n",
    "from load_data import load_data\n",
    "\n",
    "from sklearn.decomposition import PCA\n",
    "from sklearn.manifold import TSNE\n",
    "from mpl_toolkits.mplot3d import Axes3D"
   ]
  },
  {
   "cell_type": "code",
   "execution_count": 3,
   "id": "64d943f6",
   "metadata": {},
   "outputs": [
    {
     "data": {
      "text/plain": [
       "array([[ 0.57753253, -0.272995  , -0.18558747],\n",
       "       [-0.8083939 ,  0.05851132,  0.16979355],\n",
       "       [ 1.111466  ,  0.76434875, -0.22846507],\n",
       "       [ 0.30402434, -0.33966875, -1.033429  ]], dtype=float32)"
      ]
     },
     "execution_count": 3,
     "metadata": {},
     "output_type": "execute_result"
    }
   ],
   "source": [
    "D = np.load('results_little_experiment/dictionary.npy')\n",
    "D"
   ]
  },
  {
   "cell_type": "code",
   "execution_count": 4,
   "id": "3af95b3b",
   "metadata": {},
   "outputs": [
    {
     "data": {
      "text/plain": [
       "array([[-0.38148353, -0.9786537 ,  1.4815891 ,  0.49579367],\n",
       "       [ 0.01787801, -1.4100873 ,  1.2066551 ,  1.2277635 ],\n",
       "       [-0.30558398,  0.38370967, -0.29345113, -0.15804249]],\n",
       "      dtype=float32)"
      ]
     },
     "execution_count": 4,
     "metadata": {},
     "output_type": "execute_result"
    }
   ],
   "source": [
    "weights = np.load('results_little_experiment/weights.npy')\n",
    "weights[0]"
   ]
  },
  {
   "cell_type": "code",
   "execution_count": null,
   "id": "fa292ab2",
   "metadata": {},
   "outputs": [],
   "source": []
  }
 ],
 "metadata": {
  "kernelspec": {
   "display_name": "myenv",
   "language": "python",
   "name": "python3"
  },
  "language_info": {
   "codemirror_mode": {
    "name": "ipython",
    "version": 3
   },
   "file_extension": ".py",
   "mimetype": "text/x-python",
   "name": "python",
   "nbconvert_exporter": "python",
   "pygments_lexer": "ipython3",
   "version": "3.12.9"
  }
 },
 "nbformat": 4,
 "nbformat_minor": 5
}
