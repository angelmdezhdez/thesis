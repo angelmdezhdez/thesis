{
 "cells": [
  {
   "cell_type": "code",
   "execution_count": 4,
   "metadata": {},
   "outputs": [],
   "source": [
    "# libraries\n",
    "import numpy as np\n",
    "import matplotlib.pyplot as plt\n",
    "import pandas as pd\n",
    "import os\n",
    "from scipy.sparse import csr_matrix, csc_matrix, kron, eye, diags"
   ]
  },
  {
   "cell_type": "code",
   "execution_count": null,
   "metadata": {},
   "outputs": [],
   "source": [
    "# funtion that uses GGRF\n",
    "def vector_rf(W, d, f_vec, p_h, node, random_walks = 100, h = 100):\n",
    "    '''\n",
    "    This funtion computes the feature vector of a node using GGRF\n",
    "    Args:\n",
    "        W: Adjacency matrix\n",
    "        d: Degree vector\n",
    "        f_vec: Function to compute modulation of the random walk\n",
    "        p_h: Probability of stopping the random walk\n",
    "        node: Node of interest\n",
    "        random_walks: Number of random walks\n",
    "        h: Default value\n",
    "    Returns:\n",
    "        phi: Feature vector of the node\n",
    "    '''\n",
    "    # Initial values\n",
    "    n = h\n",
    "    phi = np.zeros(len(d))\n",
    "    m = random_walks\n",
    "    f_m = f_vec(n)\n",
    "\n",
    "    for w in range(m):\n",
    "        # Initial values for the random walk\n",
    "        load = 1\n",
    "        current_node = node\n",
    "        terminated = False\n",
    "        walk_lenght = 0\n",
    "        \n",
    "        # Register of the nodes visited\n",
    "        register = [current_node]\n",
    "        #print(phi[current_node])\n",
    "        counter = 0\n",
    "        while terminated == False:\n",
    "            \n",
    "            # In case we require more values of f\n",
    "            if walk_lenght == n:\n",
    "                #print(\"Requerí mas valores de f\")\n",
    "                n = 2 * n\n",
    "                f_m = f_vec(n)\n",
    "                #print(len(f_m))\n",
    "\n",
    "            # Update the feature vector\n",
    "            phi[current_node] += load * f_m[walk_lenght]\n",
    "            #if walk_lenght == 3:\n",
    "            # print(load * f_m[walk_lenght], phi[current_node])\n",
    "            #print(phi)\n",
    "            # Update the walk length\n",
    "            walk_lenght += 1\n",
    "\n",
    "            # Select the next node searching in the neighbors\n",
    "            #print(current_node)\n",
    "            neighbors = np.nonzero(W[current_node])[0]\n",
    "            new_node = np.random.choice(neighbors)\n",
    "            aux = []\n",
    "            # If the node is already in the register, we search for a new one\n",
    "            while new_node in register:\n",
    "                aux.append(new_node)\n",
    "                new_node = np.random.choice(neighbors)\n",
    "                if len(aux) == len(neighbors):\n",
    "                    break\n",
    "            # If we tried all the neighbors, we select a random one\n",
    "            if len(aux) == len(neighbors):\n",
    "                new_node = np.random.choice(neighbors)\n",
    "\n",
    "            # Update the load\n",
    "            load = load * (d[current_node] / (1 - p_h))* W[current_node, new_node]\n",
    "            #print(d[current_node] / (1 - p_h))\n",
    "            #print(new_node)\n",
    "\n",
    "            # Update the current node\n",
    "            current_node = new_node\n",
    "\n",
    "            # Update the register\n",
    "            register.append(current_node)\n",
    "            counter += 1\n",
    "\n",
    "            # Check if the random walk is terminated\n",
    "            terminated = (np.random.uniform(0,0.5) < p_h)\n",
    "            if counter == 150:\n",
    "                break\n",
    "            #print(phi[node])\n",
    "            #print(phi / m)\n",
    "\n",
    "    return phi / m"
   ]
  },
  {
   "cell_type": "code",
   "execution_count": 25,
   "metadata": {},
   "outputs": [],
   "source": [
    "A = np.array([\n",
    "    [1, 0, 0],\n",
    "    [0, 2, 0],\n",
    "    [0, 0, 3]\n",
    "])\n",
    "\n",
    "B = np.array([\n",
    "    [0, 4],\n",
    "    [5, 0],\n",
    "    [0, 0]\n",
    "])\n",
    "\n",
    "A_sparse = csr_matrix(A, dtype=np.float32)\n",
    "B_sparse = csr_matrix(B, dtype=np.float32)"
   ]
  },
  {
   "cell_type": "code",
   "execution_count": 26,
   "metadata": {},
   "outputs": [
    {
     "data": {
      "text/plain": [
       "(3, 3.0)"
      ]
     },
     "execution_count": 26,
     "metadata": {},
     "output_type": "execute_result"
    }
   ],
   "source": [
    "A[2,2], A_sparse[2,2]"
   ]
  },
  {
   "cell_type": "code",
   "execution_count": 31,
   "metadata": {},
   "outputs": [
    {
     "data": {
      "text/plain": [
       "array([0], dtype=int32)"
      ]
     },
     "execution_count": 31,
     "metadata": {},
     "output_type": "execute_result"
    }
   ],
   "source": [
    "c = np.nonzero(A_sparse[0])[0]\n",
    "c"
   ]
  },
  {
   "cell_type": "code",
   "execution_count": 3,
   "metadata": {},
   "outputs": [
    {
     "name": "stdout",
     "output_type": "stream",
     "text": [
      "A_sparse:\n",
      "   (0, 0)\t1\n",
      "  (1, 1)\t2\n",
      "  (2, 2)\t3\n",
      "B_sparse:\n",
      "   (0, 1)\t4\n",
      "  (1, 0)\t5\n"
     ]
    }
   ],
   "source": [
    "print(\"A_sparse:\\n\", A_sparse)\n",
    "print(\"B_sparse:\\n\", B_sparse)"
   ]
  },
  {
   "cell_type": "code",
   "execution_count": 5,
   "metadata": {},
   "outputs": [
    {
     "name": "stdout",
     "output_type": "stream",
     "text": [
      "AxB_sparse:\n",
      "   (0, 1)\t4\n",
      "  (1, 0)\t5\n",
      "  (3, 3)\t8\n",
      "  (4, 2)\t10\n",
      "  (6, 5)\t12\n",
      "  (7, 4)\t15\n"
     ]
    }
   ],
   "source": [
    "AxB_sparse = kron(A_sparse, B_sparse)\n",
    "print(\"AxB_sparse:\\n\", AxB_sparse)"
   ]
  },
  {
   "cell_type": "code",
   "execution_count": 10,
   "metadata": {},
   "outputs": [
    {
     "data": {
      "text/plain": [
       "(3, 3)"
      ]
     },
     "execution_count": 10,
     "metadata": {},
     "output_type": "execute_result"
    }
   ],
   "source": [
    "A_sparse.shape"
   ]
  },
  {
   "cell_type": "code",
   "execution_count": 21,
   "metadata": {},
   "outputs": [
    {
     "name": "stdout",
     "output_type": "stream",
     "text": [
      "1 0 0 \n",
      "0 2 0 \n",
      "0 0 3 \n"
     ]
    }
   ],
   "source": [
    "for i in range(A_sparse.shape[0]):\n",
    "    for j in range(A_sparse.shape[1]):\n",
    "        print(A_sparse[i, j], end=\" \")\n",
    "    print()"
   ]
  },
  {
   "cell_type": "code",
   "execution_count": 22,
   "metadata": {},
   "outputs": [
    {
     "data": {
      "text/plain": [
       "array([[1, 0, 0],\n",
       "       [0, 4, 0],\n",
       "       [0, 0, 9]])"
      ]
     },
     "execution_count": 22,
     "metadata": {},
     "output_type": "execute_result"
    }
   ],
   "source": [
    "A_sparse @ A"
   ]
  }
 ],
 "metadata": {
  "kernelspec": {
   "display_name": "Python 3",
   "language": "python",
   "name": "python3"
  },
  "language_info": {
   "codemirror_mode": {
    "name": "ipython",
    "version": 3
   },
   "file_extension": ".py",
   "mimetype": "text/x-python",
   "name": "python",
   "nbconvert_exporter": "python",
   "pygments_lexer": "ipython3",
   "version": "3.10.12"
  }
 },
 "nbformat": 4,
 "nbformat_minor": 2
}
