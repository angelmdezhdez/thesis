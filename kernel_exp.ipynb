{
 "cells": [
  {
   "cell_type": "code",
   "execution_count": 1,
   "metadata": {},
   "outputs": [],
   "source": [
    "# libraries\n",
    "import numpy as np\n",
    "import matplotlib.pyplot as plt\n",
    "import pandas as pd\n",
    "import os\n",
    "import requests"
   ]
  },
  {
   "cell_type": "code",
   "execution_count": 2,
   "metadata": {},
   "outputs": [],
   "source": [
    "# Floyd-Warshall algorithm\n",
    "def floyd_warshall(AdjMatrix):\n",
    "    n = len(AdjMatrix)\n",
    "    cost = np.copy(AdjMatrix)\n",
    "    cost[cost == 0] = np.inf\n",
    "    np.fill_diagonal(cost, 0)\n",
    "    for k in range(n):\n",
    "        for i in range(n):\n",
    "            for j in range(n):\n",
    "                cost[i, j] = min(cost[i, j], cost[i, k] + cost[k, j])\n",
    "    return cost\n",
    "\n",
    "def leer_matriz(nombre_archivo):\n",
    "    matriz = []\n",
    "    with open(nombre_archivo, 'r') as archivo:\n",
    "        archivo.readline()\n",
    "        archivo.readline()\n",
    "        for linea in archivo:\n",
    "            fila = [float(valor) for valor in linea.strip().split()]\n",
    "            matriz.append(fila)\n",
    "    return matriz\n",
    "\n",
    "def encontrar_estacion(est, matriz):\n",
    "    for i in range(len(matriz)):\n",
    "        if matriz[i][0] == est:\n",
    "            return matriz[i][1], matriz[i][2]\n",
    "    return None, None\n",
    "\n",
    "def send_message(message, channel):\n",
    "    requests.post(f\"https://ntfy.sh/{channel}\",\n",
    "        data=message.encode(encoding='utf-8'))"
   ]
  },
  {
   "cell_type": "code",
   "execution_count": 3,
   "metadata": {},
   "outputs": [],
   "source": [
    "def gaussian_kernel1(a,b, sigma = 0.1620289):\n",
    "    return np.exp(-((a-b)**2)*sigma)\n",
    "\n",
    "def gaussian_kernel2(a,b, sigma = 38.9827449):\n",
    "    a = np.array(a)\n",
    "    b = np.array(b)\n",
    "    return np.exp(-(np.linalg.norm(a-b)**2)*sigma)"
   ]
  },
  {
   "cell_type": "code",
   "execution_count": 4,
   "metadata": {},
   "outputs": [],
   "source": [
    "def count_trips_mibici(data_user, threshold = 5, complement = False):\n",
    "    viajes_user = data_user.groupby([data_user[['Origen_Id', 'Destino_Id']].min(axis=1), data_user[['Origen_Id', 'Destino_Id']].max(axis=1)]).size().reset_index(name='counts')\n",
    "    viajes_user.columns = ['Est_A', 'Est_B', 'counts']\n",
    "    if not complement:\n",
    "        viajes_user = viajes_user[viajes_user['counts'] >= threshold]\n",
    "    else:\n",
    "        viajes_user = viajes_user[viajes_user['counts'] < threshold]\n",
    "    if viajes_user.empty:\n",
    "        return None\n",
    "    total = viajes_user['counts'].sum()\n",
    "    viajes_user['prob'] = viajes_user['counts']/total\n",
    "    viajes_user = viajes_user.sort_values(by = 'prob', ascending = False).reset_index(drop=True)\n",
    "    return viajes_user"
   ]
  },
  {
   "cell_type": "code",
   "execution_count": 5,
   "metadata": {},
   "outputs": [],
   "source": [
    "def log_prob_matrix(counter_user, normalized = False, self_loops = False):\n",
    "    if not self_loops:\n",
    "        counter_user = counter_user[counter_user['Est_A'] != counter_user['Est_B']]\n",
    "    vertex = list(set(counter_user['Est_A'].unique().tolist() + counter_user['Est_B'].unique().tolist()))\n",
    "    matrix = np.zeros((len(vertex), len(vertex)))\n",
    "    for i in range(len(counter_user)):\n",
    "        current_trip = counter_user.iloc[i]\n",
    "        count = -np.log(current_trip[\"prob\"])\n",
    "        estA = current_trip[\"Est_A\"]\n",
    "        estB = current_trip[\"Est_B\"]\n",
    "\n",
    "        matrix[vertex.index(estA)][vertex.index(estB)] = count\n",
    "        matrix[vertex.index(estB)][vertex.index(estA)] = count\n",
    "    if normalized:\n",
    "        D = np.sum(matrix, axis = 1)\n",
    "        D = np.diag(D)\n",
    "        D = np.linalg.inv(np.sqrt(D))\n",
    "        matrix = D @ matrix @ D\n",
    "    return matrix, vertex"
   ]
  },
  {
   "cell_type": "code",
   "execution_count": 6,
   "metadata": {},
   "outputs": [],
   "source": [
    "dir = '/home/user/Desktop/Datos/'\n",
    "#dir = '/Users/antoniomendez/Desktop/Tesis/Datos/datos_limpios/'"
   ]
  },
  {
   "cell_type": "code",
   "execution_count": 7,
   "metadata": {},
   "outputs": [],
   "source": [
    "data_2019 = pd.read_csv(f'{dir}mibici/mibici_2019.csv')"
   ]
  },
  {
   "cell_type": "code",
   "execution_count": 8,
   "metadata": {},
   "outputs": [],
   "source": [
    "est_2019 = leer_matriz(f\"{dir}/Adj_mibici/matrices_estaciones/est_2019.txt\")"
   ]
  },
  {
   "cell_type": "code",
   "execution_count": 9,
   "metadata": {},
   "outputs": [
    {
     "name": "stdout",
     "output_type": "stream",
     "text": [
      "Processing date: 2019-03-31\r"
     ]
    }
   ],
   "source": [
    "data = []\n",
    "v = []\n",
    "\n",
    "dates = [f\"2019-03-{str(i).zfill(2)}\" for i in range(1, 32)]\n",
    "\n",
    "for date in dates:\n",
    "    print(f'Processing date: {date}', end='\\r')\n",
    "    current_data = data_2019[data_2019['Inicio_del_viaje'].str.contains(date)]\n",
    "    current_counter = count_trips_mibici(current_data, threshold = 5)\n",
    "    if current_counter is not None:\n",
    "        current_matrix, current_vertex = log_prob_matrix(current_counter)\n",
    "        data.append(current_matrix)\n",
    "        v.append(current_vertex)"
   ]
  },
  {
   "cell_type": "code",
   "execution_count": 10,
   "metadata": {},
   "outputs": [],
   "source": [
    "def generate_index(n, m):\n",
    "    for i in range(n):\n",
    "        for j in range(m):\n",
    "            yield i, j"
   ]
  },
  {
   "cell_type": "code",
   "execution_count": 11,
   "metadata": {},
   "outputs": [],
   "source": [
    "index_comparison = generate_index(len(data), len(data))"
   ]
  },
  {
   "cell_type": "code",
   "execution_count": 12,
   "metadata": {},
   "outputs": [
    {
     "data": {
      "text/plain": [
       "(0, 0)"
      ]
     },
     "execution_count": 12,
     "metadata": {},
     "output_type": "execute_result"
    }
   ],
   "source": [
    "t = index_comparison.__next__()\n",
    "t"
   ]
  },
  {
   "cell_type": "code",
   "execution_count": 13,
   "metadata": {},
   "outputs": [],
   "source": [
    "d1 = data[t[0]]\n",
    "d2 = data[t[1]]\n",
    "v1 = v[t[0]]\n",
    "v2 = v[t[1]]"
   ]
  },
  {
   "cell_type": "code",
   "execution_count": null,
   "metadata": {},
   "outputs": [],
   "source": [
    "k1 = []\n",
    "k2 = []\n",
    "k3 = []\n",
    "\n",
    "indices_d1 = np.transpose(np.triu_indices_from(d1))\n",
    "indices_d2 = np.transpose(np.triu_indices_from(d2))\n",
    "\n",
    "indices_d1 = indices_d1[np.isfinite(d1[indices_d1[:, 0], indices_d1[:, 1]])]\n",
    "indices_d2 = indices_d2[np.isfinite(d2[indices_d2[:, 0], indices_d2[:, 1]])]\n",
    "\n",
    "d1_finite = d1[indices_d1[:, 0], indices_d1[:, 1]]\n",
    "d2_finite = d2[indices_d2[:, 0], indices_d2[:, 1]]\n",
    "\n",
    "k1 = [gaussian_kernel1(a, b) for a in d1_finite for b in d2_finite]"
   ]
  },
  {
   "cell_type": "code",
   "execution_count": 13,
   "metadata": {},
   "outputs": [],
   "source": [
    "send_message(\"Finished\", \"My_Computer\")"
   ]
  }
 ],
 "metadata": {
  "kernelspec": {
   "display_name": "Python 3",
   "language": "python",
   "name": "python3"
  },
  "language_info": {
   "codemirror_mode": {
    "name": "ipython",
    "version": 3
   },
   "file_extension": ".py",
   "mimetype": "text/x-python",
   "name": "python",
   "nbconvert_exporter": "python",
   "pygments_lexer": "ipython3",
   "version": "3.10.12"
  }
 },
 "nbformat": 4,
 "nbformat_minor": 2
}
