{
 "cells": [
  {
   "cell_type": "code",
   "execution_count": 1,
   "metadata": {},
   "outputs": [],
   "source": [
    "import pandas as pd\n",
    "import numpy as np"
   ]
  },
  {
   "cell_type": "markdown",
   "metadata": {},
   "source": [
    "Para ecobici"
   ]
  },
  {
   "cell_type": "code",
   "execution_count": 2,
   "metadata": {},
   "outputs": [
    {
     "name": "stderr",
     "output_type": "stream",
     "text": [
      "/tmp/ipykernel_10662/1642954940.py:2: DtypeWarning: Columns (2) have mixed types. Specify dtype option on import or set low_memory=False.\n",
      "  prueba = pd.read_csv('ecobici/2019.csv')\n"
     ]
    },
    {
     "name": "stdout",
     "output_type": "stream",
     "text": [
      "Index(['Genero_Usuario', 'Edad_Usuario', 'Bici', 'Ciclo_Estacion_Retiro',\n",
      "       'Fecha_Retiro', 'Hora_Retiro', 'Ciclo_Estacion_Arribo', 'Fecha_Arribo',\n",
      "       'Hora_Arribo', 'Tiempo_viaje'],\n",
      "      dtype='object')\n"
     ]
    }
   ],
   "source": [
    "# Para identificar los atributos\n",
    "prueba = pd.read_csv('ecobici/2019.csv')\n",
    "print(prueba.columns)\n",
    "del prueba"
   ]
  },
  {
   "cell_type": "code",
   "execution_count": 41,
   "metadata": {},
   "outputs": [],
   "source": [
    "prueba = pd.read_csv('ecobici/2019.csv', low_memory=False)"
   ]
  },
  {
   "cell_type": "code",
   "execution_count": 42,
   "metadata": {},
   "outputs": [
    {
     "name": "stdout",
     "output_type": "stream",
     "text": [
      "[ 36  38  43  37  44  23  31  27  21  46  29  34  39  47  19  35  28  68\n",
      "  30  33  55  50  25  26  24  51  42  32  71  40  41  48  54  65  53  22\n",
      "  52  57  61  70  63  60  76  49  58  45  67  18  59  56  20  66  72  73\n",
      "  69  64  62  77  17  78  75  16  74  82  83  79  84  81  92  80 108  96\n",
      " 119]\n"
     ]
    }
   ],
   "source": [
    "print(prueba['Edad_Usuario'].unique())"
   ]
  },
  {
   "cell_type": "code",
   "execution_count": 43,
   "metadata": {},
   "outputs": [],
   "source": [
    "prueba = pd.read_csv('ecobici/2020.csv', low_memory=False)"
   ]
  },
  {
   "cell_type": "code",
   "execution_count": 44,
   "metadata": {},
   "outputs": [
    {
     "name": "stdout",
     "output_type": "stream",
     "text": [
      "[ 33  30  36  29  49  17  35  25  32  37  28  55  58  31  62  60  44  42\n",
      "  51  34  24  22  48  41  39  40  26  46  56  43  38  47  21  27  50  57\n",
      "  64  20  69  72  23  18  66  52  61  63  45  54  71  53  65  77  68  59\n",
      "  75  67  19  74  73  70  78  16  76  79  94  80  82  83 119 111  81  87\n",
      "  88  84  85 120  89 121]\n"
     ]
    }
   ],
   "source": [
    "print(prueba['Edad_Usuario'].unique())"
   ]
  },
  {
   "cell_type": "code",
   "execution_count": 45,
   "metadata": {},
   "outputs": [],
   "source": [
    "prueba = pd.read_csv('ecobici/2021.csv', low_memory=False)"
   ]
  },
  {
   "cell_type": "code",
   "execution_count": 46,
   "metadata": {},
   "outputs": [
    {
     "name": "stdout",
     "output_type": "stream",
     "text": [
      "[ 32  24  35  34  26  63  22  56  51  28  30  46  42  48  29  27  74  37\n",
      "  52  36  25  66  31  33  39  47  40  45  76  58  50  62  68  55  38  64\n",
      "  41  53  54  44  23  21  49  60  43  20  71  61  57  59  77  67  73  80\n",
      "  19  65  89  72  78  75  70  69  79  18  17  81  84  82 121  86  85  90]\n"
     ]
    }
   ],
   "source": [
    "print(prueba['Edad_Usuario'].unique())"
   ]
  },
  {
   "cell_type": "code",
   "execution_count": 47,
   "metadata": {},
   "outputs": [],
   "source": [
    "prueba = pd.read_csv('ecobici/2022.csv', low_memory=False)"
   ]
  },
  {
   "cell_type": "code",
   "execution_count": 48,
   "metadata": {},
   "outputs": [
    {
     "name": "stdout",
     "output_type": "stream",
     "text": [
      "[ 40  65  49  69  46  70  58  47  61  62  45  63  59  42  57  43  67  51\n",
      "  52  48  71  41  56  77  50  44  39  68  76  64  31  35  54  66  34  37\n",
      "  36  80  60  53  38  55  33  74  32  83  73  72  30  75  25  28  26  81\n",
      "  29  27  79  78  23  24  87  22  21  20  19  18  84  82  85 122  90  16\n",
      "  17  88  96]\n"
     ]
    }
   ],
   "source": [
    "print(prueba['Edad_Usuario'].unique())"
   ]
  },
  {
   "cell_type": "code",
   "execution_count": 49,
   "metadata": {},
   "outputs": [],
   "source": [
    "prueba = pd.read_csv('ecobici/2023.csv', low_memory=False)"
   ]
  },
  {
   "cell_type": "code",
   "execution_count": 50,
   "metadata": {},
   "outputs": [
    {
     "name": "stdout",
     "output_type": "stream",
     "text": [
      "[ 45  27  34  58  23  35  32  26  31  28  39  42  33  46  56  25  52  24\n",
      "  30  40  20  62  41  37  36  47  60  29  55  64  44  21  63  43  51  57\n",
      "  38  65  22  67  59  49  68  53  74  54  48  61  19  72  50  66  76  82\n",
      "  69  73  18  70  71  80  78  79  17  88  75  16  77  81  89  84  83 123\n",
      "  87  86 100  95  99 145  97 137  96  98 152 119]\n"
     ]
    }
   ],
   "source": [
    "print(prueba['Edad_Usuario'].unique())"
   ]
  },
  {
   "cell_type": "code",
   "execution_count": 51,
   "metadata": {},
   "outputs": [
    {
     "name": "stdout",
     "output_type": "stream",
     "text": [
      "[ 45  27  34  58  23  35  32  26  31  28  39  42  33  46  56  25  52  24\n",
      "  30  40  20  62  41  37  36  47  60  29  55  64  44  21  63  43  51  57\n",
      "  38  65  22  67  59  49  68  53  74  54  48  61  19  72  50  66  76  82\n",
      "  69  73  18  70  71  80  78  79  17  88  75  16  77  81  89  84  83 123\n",
      "  87  86 100  95  99 145  97 137  96  98 152 119]\n"
     ]
    }
   ],
   "source": [
    "print(prueba['Edad_Usuario'].unique())"
   ]
  },
  {
   "cell_type": "code",
   "execution_count": 52,
   "metadata": {},
   "outputs": [],
   "source": [
    "prueba = pd.read_csv('ecobici/2024.csv', low_memory=False)"
   ]
  },
  {
   "cell_type": "code",
   "execution_count": 53,
   "metadata": {},
   "outputs": [
    {
     "name": "stdout",
     "output_type": "stream",
     "text": [
      "[ 48  26  37  30  56  67  64  22  39  23  27  34  28  55  29  41  33  20\n",
      "  47  24  21  44  25  43  32  58  69  59  42  35  31  45  18  51  50  62\n",
      "  49  36  40  46  54  57  52  19  38  63  68  73  65  61  75  81  53  66\n",
      "  60  84  74  72  70  77  71  17  78  79  82  16  80  76 100  98  88  97\n",
      " 101  90  99  91  83  89 122 102 110  85 160 123  94  96]\n"
     ]
    }
   ],
   "source": [
    "print(prueba['Edad_Usuario'].unique())"
   ]
  },
  {
   "cell_type": "code",
   "execution_count": 54,
   "metadata": {},
   "outputs": [],
   "source": [
    "del prueba"
   ]
  },
  {
   "cell_type": "code",
   "execution_count": 55,
   "metadata": {},
   "outputs": [],
   "source": [
    "edades_atipicas_eco = [108, 119, 111, 121, 122, 100, 123, 145, 152, 110, 102, 160]"
   ]
  },
  {
   "cell_type": "code",
   "execution_count": 59,
   "metadata": {},
   "outputs": [],
   "source": [
    "def limpieza_ecobici(data):\n",
    "    # Handle mixed data types (recommended for future compatibility)\n",
    "    data = data.infer_objects()  # Attempt to convert appropriate columns to object type\n",
    "\n",
    "    # Clean Genero_Usuario\n",
    "    data['Genero_Usuario'] = data['Genero_Usuario'].replace('', np.nan)\n",
    "    data['Genero_Usuario'] = data['Genero_Usuario'].ffill()  # Forward fill missing values\n",
    "\n",
    "    # Clean Edad_Usuario\n",
    "    data['Edad_Usuario'] = data['Edad_Usuario'].replace('', np.nan)\n",
    "    data['Edad_Usuario'] = data['Edad_Usuario'].replace([np.inf, -np.inf], 25)  # Replace infinite values with NaN\n",
    "    data['Edad_Usuario'] = data['Edad_Usuario'].fillna(25)\n",
    "    data['Edad_Usuario'] = data['Edad_Usuario'].astype(int)  # Convert to integer\n",
    "    data['Edad_Usuario'] = data['Edad_Usuario'].ffill()  # Forward fill missing values\n",
    "    data['Edad_Usuario'] = data['Edad_Usuario'].apply(lambda x: np.random.randint(20, 46) if x in edades_atipicas_eco else x)\n",
    "\n",
    "    return data"
   ]
  },
  {
   "cell_type": "code",
   "execution_count": 60,
   "metadata": {},
   "outputs": [
    {
     "name": "stdout",
     "output_type": "stream",
     "text": [
      "Limpieza de 2019 terminada\n",
      "Limpieza de 2020 terminada\n",
      "Limpieza de 2021 terminada\n",
      "Limpieza de 2022 terminada\n",
      "Limpieza de 2023 terminada\n",
      "Limpieza de 2024 terminada\n"
     ]
    }
   ],
   "source": [
    "for i in range(2019, 2025):\n",
    "    data = pd.read_csv('ecobici/' + str(i) + '.csv', low_memory=False)\n",
    "    data = limpieza_ecobici(data)\n",
    "    data.to_csv('ecobici/' + str(i) + '.csv', index=False)\n",
    "    del data\n",
    "    print('Limpieza de ' + str(i) + ' terminada')"
   ]
  },
  {
   "cell_type": "markdown",
   "metadata": {},
   "source": [
    "Para mibici"
   ]
  },
  {
   "cell_type": "code",
   "execution_count": 15,
   "metadata": {},
   "outputs": [
    {
     "name": "stdout",
     "output_type": "stream",
     "text": [
      "Index(['Viaje_Id', 'Usuario_Id', 'Genero', 'Año_de_nacimiento',\n",
      "       'Inicio_del_viaje', 'Fin_del_viaje', 'Origen_Id', 'Destino_Id',\n",
      "       'Tiempo_viaje'],\n",
      "      dtype='object')\n"
     ]
    }
   ],
   "source": [
    "# Para identificar los atributos\n",
    "prueba = pd.read_csv('mibici/2019.csv')\n",
    "print(prueba.columns)\n",
    "del prueba"
   ]
  },
  {
   "cell_type": "code",
   "execution_count": 17,
   "metadata": {},
   "outputs": [
    {
     "name": "stdout",
     "output_type": "stream",
     "text": [
      "[1992. 1985. 1995. 1998. 1996. 1987. 1974. 1975. 1994. 1990. 1997. 1984.\n",
      " 1986. 1988. 1982. 1981. 1991. 1999. 1965. 1993. 1972. 1979. 1980. 1989.\n",
      " 2000. 1973. 1970. 1963. 1971. 1967. 1977. 1964. 1983. 1962. 1969. 1976.\n",
      " 1968. 1959. 1966. 1978. 2001. 1960. 1961.   nan 1954. 1956. 1958. 1953.\n",
      " 1952. 1949. 1948. 1951. 1957. 2002. 1944. 1955. 1942. 1950. 1945. 1933.\n",
      " 1943. 1918. 1941. 1947. 1940. 1946. 1922. 1936. 1931. 2003. 1917. 1920.]\n"
     ]
    }
   ],
   "source": [
    "prueba = pd.read_csv('mibici/2019.csv')\n",
    "print(prueba['Año_de_nacimiento'].unique())"
   ]
  },
  {
   "cell_type": "code",
   "execution_count": 18,
   "metadata": {},
   "outputs": [
    {
     "name": "stdout",
     "output_type": "stream",
     "text": [
      "[1917. 1918. 1920. 1922. 1931. 1933. 1936. 1940. 1941. 1942. 1943. 1944.\n",
      " 1945. 1946. 1947. 1948. 1949. 1950. 1951. 1952. 1953. 1954. 1955. 1956.\n",
      " 1957. 1958. 1959. 1960. 1961. 1962. 1963. 1964. 1965. 1966. 1967. 1968.\n",
      " 1969. 1970. 1971. 1972. 1973. 1974. 1975. 1976. 1977. 1978. 1979. 1980.\n",
      " 1981. 1982. 1983. 1984. 1985. 1986. 1987. 1988. 1989. 1990. 1991. 1992.\n",
      " 1993. 1994. 1995. 1996. 1997. 1998. 1999. 2000. 2001. 2002. 2003.   nan]\n"
     ]
    }
   ],
   "source": [
    "print(np.sort(prueba['Año_de_nacimiento'].unique()))"
   ]
  },
  {
   "cell_type": "code",
   "execution_count": 19,
   "metadata": {},
   "outputs": [
    {
     "name": "stdout",
     "output_type": "stream",
     "text": [
      "['M' 'F' nan]\n"
     ]
    }
   ],
   "source": [
    "print(prueba['Genero'].unique())"
   ]
  },
  {
   "cell_type": "code",
   "execution_count": 20,
   "metadata": {},
   "outputs": [],
   "source": [
    "prueba = pd.read_csv('mibici/2020.csv')"
   ]
  },
  {
   "cell_type": "code",
   "execution_count": 21,
   "metadata": {},
   "outputs": [
    {
     "name": "stdout",
     "output_type": "stream",
     "text": [
      "[1917. 1918. 1920. 1922. 1931. 1940. 1941. 1942. 1943. 1944. 1945. 1946.\n",
      " 1947. 1948. 1949. 1950. 1951. 1952. 1953. 1954. 1955. 1956. 1957. 1958.\n",
      " 1959. 1960. 1961. 1962. 1963. 1964. 1965. 1966. 1967. 1968. 1969. 1970.\n",
      " 1971. 1972. 1973. 1974. 1975. 1976. 1977. 1978. 1979. 1980. 1981. 1982.\n",
      " 1983. 1984. 1985. 1986. 1987. 1988. 1989. 1990. 1991. 1992. 1993. 1994.\n",
      " 1995. 1996. 1997. 1998. 1999. 2000. 2001. 2002. 2003.   nan]\n"
     ]
    }
   ],
   "source": [
    "print(np.sort(prueba['Año_de_nacimiento'].unique()))"
   ]
  },
  {
   "cell_type": "code",
   "execution_count": 22,
   "metadata": {},
   "outputs": [
    {
     "name": "stdout",
     "output_type": "stream",
     "text": [
      "['M' 'F' nan]\n"
     ]
    }
   ],
   "source": [
    "print(prueba['Genero'].unique())"
   ]
  },
  {
   "cell_type": "code",
   "execution_count": 23,
   "metadata": {},
   "outputs": [],
   "source": [
    "prueba = pd.read_csv('mibici/2021.csv')"
   ]
  },
  {
   "cell_type": "code",
   "execution_count": 27,
   "metadata": {},
   "outputs": [
    {
     "name": "stdout",
     "output_type": "stream",
     "text": [
      "[-9223372036854775808                    1                 1918\n",
      "                 1920                 1922                 1931\n",
      "                 1940                 1941                 1942\n",
      "                 1943                 1944                 1945\n",
      "                 1946                 1947                 1948\n",
      "                 1949                 1950                 1951\n",
      "                 1952                 1953                 1954\n",
      "                 1955                 1956                 1957\n",
      "                 1958                 1959                 1960\n",
      "                 1961                 1962                 1963\n",
      "                 1964                 1965                 1966\n",
      "                 1967                 1968                 1969\n",
      "                 1970                 1971                 1972\n",
      "                 1973                 1974                 1975\n",
      "                 1976                 1977                 1978\n",
      "                 1979                 1980                 1981\n",
      "                 1982                 1983                 1984\n",
      "                 1985                 1986                 1987\n",
      "                 1988                 1989                 1990\n",
      "                 1991                 1992                 1993\n",
      "                 1994                 1995                 1996\n",
      "                 1997                 1998                 1999\n",
      "                 2000                 2001                 2002\n",
      "                 2003                 2004                 2005\n",
      "                 2008                 2021]\n"
     ]
    },
    {
     "name": "stderr",
     "output_type": "stream",
     "text": [
      "/tmp/ipykernel_10662/2218126997.py:1: RuntimeWarning: invalid value encountered in cast\n",
      "  print(np.sort(prueba['Año_de_nacimiento'].unique().astype(int)))\n"
     ]
    }
   ],
   "source": [
    "print(np.sort(prueba['Año_de_nacimiento'].unique().astype(int)))"
   ]
  },
  {
   "cell_type": "code",
   "execution_count": 28,
   "metadata": {},
   "outputs": [
    {
     "name": "stdout",
     "output_type": "stream",
     "text": [
      "['M' 'F' nan]\n"
     ]
    }
   ],
   "source": [
    "print(prueba['Genero'].unique())"
   ]
  },
  {
   "cell_type": "code",
   "execution_count": 29,
   "metadata": {},
   "outputs": [],
   "source": [
    "prueba = pd.read_csv('mibici/2022.csv')"
   ]
  },
  {
   "cell_type": "code",
   "execution_count": 31,
   "metadata": {},
   "outputs": [
    {
     "name": "stdout",
     "output_type": "stream",
     "text": [
      "[-9223372036854775808                    1                 1920\n",
      "                 1933                 1939                 1940\n",
      "                 1941                 1942                 1944\n",
      "                 1945                 1946                 1947\n",
      "                 1948                 1949                 1950\n",
      "                 1951                 1952                 1953\n",
      "                 1954                 1955                 1956\n",
      "                 1957                 1958                 1959\n",
      "                 1960                 1961                 1962\n",
      "                 1963                 1964                 1965\n",
      "                 1966                 1967                 1968\n",
      "                 1969                 1970                 1971\n",
      "                 1972                 1973                 1974\n",
      "                 1975                 1976                 1977\n",
      "                 1978                 1979                 1980\n",
      "                 1981                 1982                 1983\n",
      "                 1984                 1985                 1986\n",
      "                 1987                 1988                 1989\n",
      "                 1990                 1991                 1992\n",
      "                 1993                 1994                 1995\n",
      "                 1996                 1997                 1998\n",
      "                 1999                 2000                 2001\n",
      "                 2002                 2003                 2004\n",
      "                 2005                 2006                 2008\n",
      "                 2021                 2022]\n"
     ]
    },
    {
     "name": "stderr",
     "output_type": "stream",
     "text": [
      "/tmp/ipykernel_10662/2218126997.py:1: RuntimeWarning: invalid value encountered in cast\n",
      "  print(np.sort(prueba['Año_de_nacimiento'].unique().astype(int)))\n"
     ]
    }
   ],
   "source": [
    "print(np.sort(prueba['Año_de_nacimiento'].unique().astype(int)))"
   ]
  },
  {
   "cell_type": "code",
   "execution_count": 32,
   "metadata": {},
   "outputs": [
    {
     "name": "stdout",
     "output_type": "stream",
     "text": [
      "['M' 'F' nan]\n"
     ]
    }
   ],
   "source": [
    "print(prueba['Genero'].unique())"
   ]
  },
  {
   "cell_type": "code",
   "execution_count": 33,
   "metadata": {},
   "outputs": [],
   "source": [
    "prueba = pd.read_csv('mibici/2023.csv')"
   ]
  },
  {
   "cell_type": "code",
   "execution_count": 34,
   "metadata": {},
   "outputs": [
    {
     "name": "stdout",
     "output_type": "stream",
     "text": [
      "[-9223372036854775808                 1920                 1933\n",
      "                 1939                 1940                 1941\n",
      "                 1942                 1944                 1945\n",
      "                 1946                 1947                 1948\n",
      "                 1949                 1950                 1951\n",
      "                 1952                 1953                 1954\n",
      "                 1955                 1956                 1957\n",
      "                 1958                 1959                 1960\n",
      "                 1961                 1962                 1963\n",
      "                 1964                 1965                 1966\n",
      "                 1967                 1968                 1969\n",
      "                 1970                 1971                 1972\n",
      "                 1973                 1974                 1975\n",
      "                 1976                 1977                 1978\n",
      "                 1979                 1980                 1981\n",
      "                 1982                 1983                 1984\n",
      "                 1985                 1986                 1987\n",
      "                 1988                 1989                 1990\n",
      "                 1991                 1992                 1993\n",
      "                 1994                 1995                 1996\n",
      "                 1997                 1998                 1999\n",
      "                 2000                 2001                 2002\n",
      "                 2003                 2004                 2005\n",
      "                 2006                 2007                 2021\n",
      "                 2022                 2023]\n"
     ]
    },
    {
     "name": "stderr",
     "output_type": "stream",
     "text": [
      "/tmp/ipykernel_10662/2218126997.py:1: RuntimeWarning: invalid value encountered in cast\n",
      "  print(np.sort(prueba['Año_de_nacimiento'].unique().astype(int)))\n"
     ]
    }
   ],
   "source": [
    "print(np.sort(prueba['Año_de_nacimiento'].unique().astype(int)))"
   ]
  },
  {
   "cell_type": "code",
   "execution_count": 35,
   "metadata": {},
   "outputs": [
    {
     "name": "stdout",
     "output_type": "stream",
     "text": [
      "['M' 'F' nan]\n"
     ]
    }
   ],
   "source": [
    "print(prueba['Genero'].unique())"
   ]
  },
  {
   "cell_type": "code",
   "execution_count": 36,
   "metadata": {},
   "outputs": [],
   "source": [
    "prueba = pd.read_csv('mibici/2024.csv')"
   ]
  },
  {
   "cell_type": "code",
   "execution_count": 37,
   "metadata": {},
   "outputs": [
    {
     "name": "stdout",
     "output_type": "stream",
     "text": [
      "[-9223372036854775808                  200                 1920\n",
      "                 1937                 1938                 1939\n",
      "                 1941                 1942                 1944\n",
      "                 1945                 1946                 1948\n",
      "                 1949                 1950                 1951\n",
      "                 1952                 1953                 1954\n",
      "                 1955                 1956                 1957\n",
      "                 1958                 1959                 1960\n",
      "                 1961                 1962                 1963\n",
      "                 1964                 1965                 1966\n",
      "                 1967                 1968                 1969\n",
      "                 1970                 1971                 1972\n",
      "                 1973                 1974                 1975\n",
      "                 1976                 1977                 1978\n",
      "                 1979                 1980                 1981\n",
      "                 1982                 1983                 1984\n",
      "                 1985                 1986                 1987\n",
      "                 1988                 1989                 1990\n",
      "                 1991                 1992                 1993\n",
      "                 1994                 1995                 1996\n",
      "                 1997                 1998                 1999\n",
      "                 2000                 2001                 2002\n",
      "                 2003                 2004                 2005\n",
      "                 2006                 2007                 2008\n",
      "                 2023]\n"
     ]
    },
    {
     "name": "stderr",
     "output_type": "stream",
     "text": [
      "/tmp/ipykernel_10662/2218126997.py:1: RuntimeWarning: invalid value encountered in cast\n",
      "  print(np.sort(prueba['Año_de_nacimiento'].unique().astype(int)))\n"
     ]
    }
   ],
   "source": [
    "print(np.sort(prueba['Año_de_nacimiento'].unique().astype(int)))"
   ]
  },
  {
   "cell_type": "code",
   "execution_count": 39,
   "metadata": {},
   "outputs": [
    {
     "name": "stdout",
     "output_type": "stream",
     "text": [
      "['M' 'F' nan]\n"
     ]
    }
   ],
   "source": [
    "print(prueba['Genero'].unique())"
   ]
  },
  {
   "cell_type": "code",
   "execution_count": 65,
   "metadata": {},
   "outputs": [],
   "source": [
    "año_atipico = [25, 1917, 1918, 1919, 1920, 1, 200, 2021, 2022, 2023]"
   ]
  },
  {
   "cell_type": "code",
   "execution_count": 66,
   "metadata": {},
   "outputs": [],
   "source": [
    "def limpieza_mibici(data):\n",
    "    data = data.infer_objects()  # Attempt to convert appropriate columns to object type\n",
    "    # Handle mixed data types (recommended for future compatibility)\n",
    "    # Fill Año_de_nacimiento with coherent values from the same Usuario_Id\n",
    "    data['Año_de_nacimiento'] = data.groupby('Usuario_Id')['Año_de_nacimiento'].transform(lambda x: x.ffill().bfill())\n",
    "    # Fill Genero with coherent values from the same Usuario_Id\n",
    "    data['Genero'] = data.groupby('Usuario_Id')['Genero'].transform(lambda x: x.ffill().bfill())\n",
    "    \n",
    "\n",
    "    # Clean Genero_Usuario\n",
    "    data['Genero'] = data['Genero'].replace('', np.nan)\n",
    "    data['Genero'] = data['Genero'].ffill()  # Forward fill missing values\n",
    "\n",
    "    # Clean Año_de_nacimiento\n",
    "    data['Año_de_nacimiento'] = data['Año_de_nacimiento'].replace('', np.nan)\n",
    "    data['Año_de_nacimiento'] = data['Año_de_nacimiento'].replace([np.inf, -np.inf], 1973)  # Replace infinite values with NaN\n",
    "    data['Año_de_nacimiento'] = data['Año_de_nacimiento'].fillna(1973)\n",
    "    data['Año_de_nacimiento'] = data['Año_de_nacimiento'].astype(int)  # Convert to integer\n",
    "    data['Año_de_nacimiento'] = data['Año_de_nacimiento'].ffill()  # Forward fill missing values\n",
    "    data['Año_de_nacimiento'] = data['Año_de_nacimiento'].apply(lambda x: np.random.randint(1970, 2010) if x in año_atipico else x)\n",
    "\n",
    "    return data"
   ]
  },
  {
   "cell_type": "code",
   "execution_count": 67,
   "metadata": {},
   "outputs": [
    {
     "name": "stderr",
     "output_type": "stream",
     "text": [
      "/tmp/ipykernel_10662/3746656210.py:7: FutureWarning: Downcasting object dtype arrays on .fillna, .ffill, .bfill is deprecated and will change in a future version. Call result.infer_objects(copy=False) instead. To opt-in to the future behavior, set `pd.set_option('future.no_silent_downcasting', True)`\n",
      "  data['Genero'] = data.groupby('Usuario_Id')['Genero'].transform(lambda x: x.ffill().bfill())\n"
     ]
    },
    {
     "name": "stdout",
     "output_type": "stream",
     "text": [
      "Limpieza de 2019 terminada\n"
     ]
    },
    {
     "name": "stderr",
     "output_type": "stream",
     "text": [
      "/tmp/ipykernel_10662/3746656210.py:7: FutureWarning: Downcasting object dtype arrays on .fillna, .ffill, .bfill is deprecated and will change in a future version. Call result.infer_objects(copy=False) instead. To opt-in to the future behavior, set `pd.set_option('future.no_silent_downcasting', True)`\n",
      "  data['Genero'] = data.groupby('Usuario_Id')['Genero'].transform(lambda x: x.ffill().bfill())\n"
     ]
    },
    {
     "name": "stdout",
     "output_type": "stream",
     "text": [
      "Limpieza de 2020 terminada\n"
     ]
    },
    {
     "name": "stderr",
     "output_type": "stream",
     "text": [
      "/tmp/ipykernel_10662/3746656210.py:7: FutureWarning: Downcasting object dtype arrays on .fillna, .ffill, .bfill is deprecated and will change in a future version. Call result.infer_objects(copy=False) instead. To opt-in to the future behavior, set `pd.set_option('future.no_silent_downcasting', True)`\n",
      "  data['Genero'] = data.groupby('Usuario_Id')['Genero'].transform(lambda x: x.ffill().bfill())\n"
     ]
    },
    {
     "name": "stdout",
     "output_type": "stream",
     "text": [
      "Limpieza de 2021 terminada\n"
     ]
    },
    {
     "name": "stderr",
     "output_type": "stream",
     "text": [
      "/tmp/ipykernel_10662/3746656210.py:7: FutureWarning: Downcasting object dtype arrays on .fillna, .ffill, .bfill is deprecated and will change in a future version. Call result.infer_objects(copy=False) instead. To opt-in to the future behavior, set `pd.set_option('future.no_silent_downcasting', True)`\n",
      "  data['Genero'] = data.groupby('Usuario_Id')['Genero'].transform(lambda x: x.ffill().bfill())\n"
     ]
    },
    {
     "name": "stdout",
     "output_type": "stream",
     "text": [
      "Limpieza de 2022 terminada\n"
     ]
    },
    {
     "name": "stderr",
     "output_type": "stream",
     "text": [
      "/tmp/ipykernel_10662/3746656210.py:7: FutureWarning: Downcasting object dtype arrays on .fillna, .ffill, .bfill is deprecated and will change in a future version. Call result.infer_objects(copy=False) instead. To opt-in to the future behavior, set `pd.set_option('future.no_silent_downcasting', True)`\n",
      "  data['Genero'] = data.groupby('Usuario_Id')['Genero'].transform(lambda x: x.ffill().bfill())\n"
     ]
    },
    {
     "name": "stdout",
     "output_type": "stream",
     "text": [
      "Limpieza de 2023 terminada\n"
     ]
    },
    {
     "name": "stderr",
     "output_type": "stream",
     "text": [
      "/tmp/ipykernel_10662/3746656210.py:7: FutureWarning: Downcasting object dtype arrays on .fillna, .ffill, .bfill is deprecated and will change in a future version. Call result.infer_objects(copy=False) instead. To opt-in to the future behavior, set `pd.set_option('future.no_silent_downcasting', True)`\n",
      "  data['Genero'] = data.groupby('Usuario_Id')['Genero'].transform(lambda x: x.ffill().bfill())\n"
     ]
    },
    {
     "name": "stdout",
     "output_type": "stream",
     "text": [
      "Limpieza de 2024 terminada\n"
     ]
    }
   ],
   "source": [
    "for i in range(2019, 2025):\n",
    "    data = pd.read_csv('mibici/' + str(i) + '.csv', low_memory=False)\n",
    "    data = limpieza_mibici(data)\n",
    "    data.to_csv('mibici/' + str(i) + '.csv', index=False)\n",
    "    del data\n",
    "    print('Limpieza de ' + str(i) + ' terminada')"
   ]
  }
 ],
 "metadata": {
  "kernelspec": {
   "display_name": "Python 3",
   "language": "python",
   "name": "python3"
  },
  "language_info": {
   "codemirror_mode": {
    "name": "ipython",
    "version": 3
   },
   "file_extension": ".py",
   "mimetype": "text/x-python",
   "name": "python",
   "nbconvert_exporter": "python",
   "pygments_lexer": "ipython3",
   "version": "3.10.12"
  }
 },
 "nbformat": 4,
 "nbformat_minor": 2
}
