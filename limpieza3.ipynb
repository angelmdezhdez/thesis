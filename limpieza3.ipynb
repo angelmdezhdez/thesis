{
 "cells": [
  {
   "cell_type": "code",
   "execution_count": 1,
   "id": "04a827ee",
   "metadata": {},
   "outputs": [],
   "source": [
    "#libraries\n",
    "import numpy as np\n",
    "import matplotlib.pyplot as plt\n",
    "import pandas as pd\n",
    "import datetime\n",
    "import folium\n",
    "import os\n",
    "import sys\n",
    "import abstract_flows.arrow as arrow\n",
    "import abstract_flows.grid as grid\n",
    "import abstract_flows.flows as flows"
   ]
  },
  {
   "cell_type": "code",
   "execution_count": 2,
   "id": "bc66c290",
   "metadata": {},
   "outputs": [],
   "source": [
    "flag_dir = False\n",
    "\n",
    "def load_data(name, flag_dir = True):\n",
    "    ''' \n",
    "    Params:\n",
    "    name: str\n",
    "        Name of the file to load\n",
    "    flag_dir: bool, If True, the directory is set as the dir in CIMAT computer\n",
    "        If False, the directory is set as the dir in Antonio's computer\n",
    "\n",
    "    Returns:\n",
    "    data\n",
    "    '''\n",
    "    if flag_dir:\n",
    "        dir = '/home/user/Desktop/Datos/'\n",
    "        if name[-3:] == 'csv':\n",
    "            try: \n",
    "                data = pd.read_csv(dir + name)\n",
    "            except:\n",
    "                print('Error loading csv file')\n",
    "                return None\n",
    "        elif name[-3:] == 'npy':\n",
    "            try:\n",
    "                data = np.load(dir + name)\n",
    "            except:\n",
    "                print('Error loading numpy file')\n",
    "                return None\n",
    "        else:\n",
    "            print('Error: file not found')\n",
    "            return None\n",
    "    else:\n",
    "        dir = '/Users/antoniomendez/Desktop/Tesis/Datos/datos_limpios/'\n",
    "        if name[-3:] == 'csv':\n",
    "            try: \n",
    "                data = pd.read_csv(dir + name)\n",
    "            except:\n",
    "                print('Error loading csv file')\n",
    "                return None\n",
    "        elif name[-3:] == 'npy':\n",
    "            try:\n",
    "                data = np.load(dir + name)\n",
    "            except:\n",
    "                print('Error loading numpy file')\n",
    "                return None\n",
    "        else:\n",
    "            print('Error: file not found')\n",
    "            return None\n",
    "    return data"
   ]
  },
  {
   "cell_type": "code",
   "execution_count": 5,
   "id": "9530ca15",
   "metadata": {},
   "outputs": [],
   "source": [
    "eco_2018 = load_data('ecobici/ecobici_2018.csv', flag_dir)"
   ]
  },
  {
   "cell_type": "code",
   "execution_count": 6,
   "id": "bab8b4d6",
   "metadata": {},
   "outputs": [
    {
     "data": {
      "application/vnd.microsoft.datawrangler.viewer.v0+json": {
       "columns": [
        {
         "name": "index",
         "rawType": "int64",
         "type": "integer"
        },
        {
         "name": "Genero_Usuario",
         "rawType": "object",
         "type": "string"
        },
        {
         "name": "Edad_Usuario",
         "rawType": "int64",
         "type": "integer"
        },
        {
         "name": "Bici",
         "rawType": "int64",
         "type": "integer"
        },
        {
         "name": "Ciclo_Estacion_Retiro",
         "rawType": "int64",
         "type": "integer"
        },
        {
         "name": "Fecha_Retiro",
         "rawType": "object",
         "type": "string"
        },
        {
         "name": "Hora_Retiro",
         "rawType": "object",
         "type": "string"
        },
        {
         "name": "Ciclo_Estacion_Arribo",
         "rawType": "int64",
         "type": "integer"
        },
        {
         "name": "Fecha_Arribo",
         "rawType": "object",
         "type": "string"
        },
        {
         "name": "Hora_Arribo",
         "rawType": "object",
         "type": "string"
        },
        {
         "name": "Inicio",
         "rawType": "object",
         "type": "string"
        },
        {
         "name": "Fin",
         "rawType": "object",
         "type": "string"
        },
        {
         "name": "Tiempo_Viaje",
         "rawType": "float64",
         "type": "float"
        }
       ],
       "conversionMethod": "pd.DataFrame",
       "ref": "1574f092-0460-4193-8f9d-3627e49c3b1f",
       "rows": [
        [
         "0",
         "M",
         "53",
         "9940",
         "18",
         "01/01/2018",
         "0:05:48",
         "124",
         "01/01/2018",
         "0:19:04",
         "2018-01-01 00:05:48",
         "2018-01-01 00:19:04",
         "796.0"
        ],
        [
         "1",
         "M",
         "48",
         "3759",
         "16",
         "01/01/2018",
         "0:09:17",
         "60",
         "01/01/2018",
         "0:32:31",
         "2018-01-01 00:09:17",
         "2018-01-01 00:32:31",
         "1394.0"
        ],
        [
         "2",
         "M",
         "63",
         "10783",
         "16",
         "01/01/2018",
         "0:09:39",
         "60",
         "01/01/2018",
         "0:32:41",
         "2018-01-01 00:09:39",
         "2018-01-01 00:32:41",
         "1382.0"
        ],
        [
         "3",
         "M",
         "27",
         "10826",
         "16",
         "01/01/2018",
         "0:10:01",
         "60",
         "01/01/2018",
         "0:32:39",
         "2018-01-01 00:10:01",
         "2018-01-01 00:32:39",
         "1358.0"
        ],
        [
         "4",
         "M",
         "28",
         "10643",
         "18",
         "01/01/2018",
         "0:10:02",
         "450",
         "01/01/2018",
         "0:20:07",
         "2018-01-01 00:10:02",
         "2018-01-01 00:20:07",
         "605.0"
        ]
       ],
       "shape": {
        "columns": 12,
        "rows": 5
       }
      },
      "text/html": [
       "<div>\n",
       "<style scoped>\n",
       "    .dataframe tbody tr th:only-of-type {\n",
       "        vertical-align: middle;\n",
       "    }\n",
       "\n",
       "    .dataframe tbody tr th {\n",
       "        vertical-align: top;\n",
       "    }\n",
       "\n",
       "    .dataframe thead th {\n",
       "        text-align: right;\n",
       "    }\n",
       "</style>\n",
       "<table border=\"1\" class=\"dataframe\">\n",
       "  <thead>\n",
       "    <tr style=\"text-align: right;\">\n",
       "      <th></th>\n",
       "      <th>Genero_Usuario</th>\n",
       "      <th>Edad_Usuario</th>\n",
       "      <th>Bici</th>\n",
       "      <th>Ciclo_Estacion_Retiro</th>\n",
       "      <th>Fecha_Retiro</th>\n",
       "      <th>Hora_Retiro</th>\n",
       "      <th>Ciclo_Estacion_Arribo</th>\n",
       "      <th>Fecha_Arribo</th>\n",
       "      <th>Hora_Arribo</th>\n",
       "      <th>Inicio</th>\n",
       "      <th>Fin</th>\n",
       "      <th>Tiempo_Viaje</th>\n",
       "    </tr>\n",
       "  </thead>\n",
       "  <tbody>\n",
       "    <tr>\n",
       "      <th>0</th>\n",
       "      <td>M</td>\n",
       "      <td>53</td>\n",
       "      <td>9940</td>\n",
       "      <td>18</td>\n",
       "      <td>01/01/2018</td>\n",
       "      <td>0:05:48</td>\n",
       "      <td>124</td>\n",
       "      <td>01/01/2018</td>\n",
       "      <td>0:19:04</td>\n",
       "      <td>2018-01-01 00:05:48</td>\n",
       "      <td>2018-01-01 00:19:04</td>\n",
       "      <td>796.0</td>\n",
       "    </tr>\n",
       "    <tr>\n",
       "      <th>1</th>\n",
       "      <td>M</td>\n",
       "      <td>48</td>\n",
       "      <td>3759</td>\n",
       "      <td>16</td>\n",
       "      <td>01/01/2018</td>\n",
       "      <td>0:09:17</td>\n",
       "      <td>60</td>\n",
       "      <td>01/01/2018</td>\n",
       "      <td>0:32:31</td>\n",
       "      <td>2018-01-01 00:09:17</td>\n",
       "      <td>2018-01-01 00:32:31</td>\n",
       "      <td>1394.0</td>\n",
       "    </tr>\n",
       "    <tr>\n",
       "      <th>2</th>\n",
       "      <td>M</td>\n",
       "      <td>63</td>\n",
       "      <td>10783</td>\n",
       "      <td>16</td>\n",
       "      <td>01/01/2018</td>\n",
       "      <td>0:09:39</td>\n",
       "      <td>60</td>\n",
       "      <td>01/01/2018</td>\n",
       "      <td>0:32:41</td>\n",
       "      <td>2018-01-01 00:09:39</td>\n",
       "      <td>2018-01-01 00:32:41</td>\n",
       "      <td>1382.0</td>\n",
       "    </tr>\n",
       "    <tr>\n",
       "      <th>3</th>\n",
       "      <td>M</td>\n",
       "      <td>27</td>\n",
       "      <td>10826</td>\n",
       "      <td>16</td>\n",
       "      <td>01/01/2018</td>\n",
       "      <td>0:10:01</td>\n",
       "      <td>60</td>\n",
       "      <td>01/01/2018</td>\n",
       "      <td>0:32:39</td>\n",
       "      <td>2018-01-01 00:10:01</td>\n",
       "      <td>2018-01-01 00:32:39</td>\n",
       "      <td>1358.0</td>\n",
       "    </tr>\n",
       "    <tr>\n",
       "      <th>4</th>\n",
       "      <td>M</td>\n",
       "      <td>28</td>\n",
       "      <td>10643</td>\n",
       "      <td>18</td>\n",
       "      <td>01/01/2018</td>\n",
       "      <td>0:10:02</td>\n",
       "      <td>450</td>\n",
       "      <td>01/01/2018</td>\n",
       "      <td>0:20:07</td>\n",
       "      <td>2018-01-01 00:10:02</td>\n",
       "      <td>2018-01-01 00:20:07</td>\n",
       "      <td>605.0</td>\n",
       "    </tr>\n",
       "  </tbody>\n",
       "</table>\n",
       "</div>"
      ],
      "text/plain": [
       "  Genero_Usuario  Edad_Usuario   Bici  Ciclo_Estacion_Retiro Fecha_Retiro  \\\n",
       "0              M            53   9940                     18   01/01/2018   \n",
       "1              M            48   3759                     16   01/01/2018   \n",
       "2              M            63  10783                     16   01/01/2018   \n",
       "3              M            27  10826                     16   01/01/2018   \n",
       "4              M            28  10643                     18   01/01/2018   \n",
       "\n",
       "  Hora_Retiro  Ciclo_Estacion_Arribo Fecha_Arribo Hora_Arribo  \\\n",
       "0     0:05:48                    124   01/01/2018     0:19:04   \n",
       "1     0:09:17                     60   01/01/2018     0:32:31   \n",
       "2     0:09:39                     60   01/01/2018     0:32:41   \n",
       "3     0:10:01                     60   01/01/2018     0:32:39   \n",
       "4     0:10:02                    450   01/01/2018     0:20:07   \n",
       "\n",
       "                Inicio                  Fin  Tiempo_Viaje  \n",
       "0  2018-01-01 00:05:48  2018-01-01 00:19:04         796.0  \n",
       "1  2018-01-01 00:09:17  2018-01-01 00:32:31        1394.0  \n",
       "2  2018-01-01 00:09:39  2018-01-01 00:32:41        1382.0  \n",
       "3  2018-01-01 00:10:01  2018-01-01 00:32:39        1358.0  \n",
       "4  2018-01-01 00:10:02  2018-01-01 00:20:07         605.0  "
      ]
     },
     "execution_count": 6,
     "metadata": {},
     "output_type": "execute_result"
    }
   ],
   "source": [
    "eco_2018.head()"
   ]
  },
  {
   "cell_type": "code",
   "execution_count": 7,
   "id": "b5af3e17",
   "metadata": {},
   "outputs": [],
   "source": [
    "del eco_2018"
   ]
  },
  {
   "cell_type": "code",
   "execution_count": 13,
   "id": "6bdf817f",
   "metadata": {},
   "outputs": [
    {
     "data": {
      "application/vnd.microsoft.datawrangler.viewer.v0+json": {
       "columns": [
        {
         "name": "index",
         "rawType": "int64",
         "type": "integer"
        },
        {
         "name": "Genero_Usuario",
         "rawType": "object",
         "type": "string"
        },
        {
         "name": "Edad_Usuario",
         "rawType": "int64",
         "type": "integer"
        },
        {
         "name": "Bici",
         "rawType": "int64",
         "type": "integer"
        },
        {
         "name": "Ciclo_Estacion_Retiro",
         "rawType": "int64",
         "type": "integer"
        },
        {
         "name": "Fecha_Retiro",
         "rawType": "object",
         "type": "string"
        },
        {
         "name": "Hora_Retiro",
         "rawType": "object",
         "type": "string"
        },
        {
         "name": "Ciclo_Estacion_Arribo",
         "rawType": "int64",
         "type": "integer"
        },
        {
         "name": "Fecha_Arribo",
         "rawType": "object",
         "type": "string"
        },
        {
         "name": "Hora_Arribo",
         "rawType": "object",
         "type": "string"
        },
        {
         "name": "Tiempo_viaje",
         "rawType": "float64",
         "type": "float"
        }
       ],
       "conversionMethod": "pd.DataFrame",
       "ref": "6ab9fcde-1ce0-4624-9bbd-6e7466117bdc",
       "rows": [
        [
         "0",
         "M",
         "36",
         "11444",
         "67",
         "2019-01-01",
         "0:08:44",
         "36",
         "2019-01-01",
         "0:14:03",
         "5.316666666666666"
        ],
        [
         "1",
         "M",
         "36",
         "9196",
         "55",
         "2019-01-01",
         "0:12:05",
         "136",
         "2019-01-01",
         "0:42:11",
         "30.1"
        ],
        [
         "2",
         "M",
         "38",
         "2612",
         "29",
         "2019-01-01",
         "0:13:15",
         "115",
         "2019-01-01",
         "0:37:47",
         "24.53333333333333"
        ],
        [
         "3",
         "M",
         "43",
         "7463",
         "29",
         "2019-01-01",
         "0:13:36",
         "115",
         "2019-01-01",
         "0:38:04",
         "24.466666666666665"
        ],
        [
         "4",
         "M",
         "37",
         "3987",
         "136",
         "2019-01-01",
         "0:15:30",
         "35",
         "2019-01-01",
         "0:22:47",
         "7.283333333333333"
        ]
       ],
       "shape": {
        "columns": 10,
        "rows": 5
       }
      },
      "text/html": [
       "<div>\n",
       "<style scoped>\n",
       "    .dataframe tbody tr th:only-of-type {\n",
       "        vertical-align: middle;\n",
       "    }\n",
       "\n",
       "    .dataframe tbody tr th {\n",
       "        vertical-align: top;\n",
       "    }\n",
       "\n",
       "    .dataframe thead th {\n",
       "        text-align: right;\n",
       "    }\n",
       "</style>\n",
       "<table border=\"1\" class=\"dataframe\">\n",
       "  <thead>\n",
       "    <tr style=\"text-align: right;\">\n",
       "      <th></th>\n",
       "      <th>Genero_Usuario</th>\n",
       "      <th>Edad_Usuario</th>\n",
       "      <th>Bici</th>\n",
       "      <th>Ciclo_Estacion_Retiro</th>\n",
       "      <th>Fecha_Retiro</th>\n",
       "      <th>Hora_Retiro</th>\n",
       "      <th>Ciclo_Estacion_Arribo</th>\n",
       "      <th>Fecha_Arribo</th>\n",
       "      <th>Hora_Arribo</th>\n",
       "      <th>Tiempo_viaje</th>\n",
       "    </tr>\n",
       "  </thead>\n",
       "  <tbody>\n",
       "    <tr>\n",
       "      <th>0</th>\n",
       "      <td>M</td>\n",
       "      <td>36</td>\n",
       "      <td>11444</td>\n",
       "      <td>67</td>\n",
       "      <td>2019-01-01</td>\n",
       "      <td>0:08:44</td>\n",
       "      <td>36</td>\n",
       "      <td>2019-01-01</td>\n",
       "      <td>0:14:03</td>\n",
       "      <td>5.316667</td>\n",
       "    </tr>\n",
       "    <tr>\n",
       "      <th>1</th>\n",
       "      <td>M</td>\n",
       "      <td>36</td>\n",
       "      <td>9196</td>\n",
       "      <td>55</td>\n",
       "      <td>2019-01-01</td>\n",
       "      <td>0:12:05</td>\n",
       "      <td>136</td>\n",
       "      <td>2019-01-01</td>\n",
       "      <td>0:42:11</td>\n",
       "      <td>30.100000</td>\n",
       "    </tr>\n",
       "    <tr>\n",
       "      <th>2</th>\n",
       "      <td>M</td>\n",
       "      <td>38</td>\n",
       "      <td>2612</td>\n",
       "      <td>29</td>\n",
       "      <td>2019-01-01</td>\n",
       "      <td>0:13:15</td>\n",
       "      <td>115</td>\n",
       "      <td>2019-01-01</td>\n",
       "      <td>0:37:47</td>\n",
       "      <td>24.533333</td>\n",
       "    </tr>\n",
       "    <tr>\n",
       "      <th>3</th>\n",
       "      <td>M</td>\n",
       "      <td>43</td>\n",
       "      <td>7463</td>\n",
       "      <td>29</td>\n",
       "      <td>2019-01-01</td>\n",
       "      <td>0:13:36</td>\n",
       "      <td>115</td>\n",
       "      <td>2019-01-01</td>\n",
       "      <td>0:38:04</td>\n",
       "      <td>24.466667</td>\n",
       "    </tr>\n",
       "    <tr>\n",
       "      <th>4</th>\n",
       "      <td>M</td>\n",
       "      <td>37</td>\n",
       "      <td>3987</td>\n",
       "      <td>136</td>\n",
       "      <td>2019-01-01</td>\n",
       "      <td>0:15:30</td>\n",
       "      <td>35</td>\n",
       "      <td>2019-01-01</td>\n",
       "      <td>0:22:47</td>\n",
       "      <td>7.283333</td>\n",
       "    </tr>\n",
       "  </tbody>\n",
       "</table>\n",
       "</div>"
      ],
      "text/plain": [
       "  Genero_Usuario  Edad_Usuario   Bici  Ciclo_Estacion_Retiro Fecha_Retiro  \\\n",
       "0              M            36  11444                     67   2019-01-01   \n",
       "1              M            36   9196                     55   2019-01-01   \n",
       "2              M            38   2612                     29   2019-01-01   \n",
       "3              M            43   7463                     29   2019-01-01   \n",
       "4              M            37   3987                    136   2019-01-01   \n",
       "\n",
       "  Hora_Retiro  Ciclo_Estacion_Arribo Fecha_Arribo Hora_Arribo  Tiempo_viaje  \n",
       "0     0:08:44                     36   2019-01-01     0:14:03      5.316667  \n",
       "1     0:12:05                    136   2019-01-01     0:42:11     30.100000  \n",
       "2     0:13:15                    115   2019-01-01     0:37:47     24.533333  \n",
       "3     0:13:36                    115   2019-01-01     0:38:04     24.466667  \n",
       "4     0:15:30                     35   2019-01-01     0:22:47      7.283333  "
      ]
     },
     "execution_count": 13,
     "metadata": {},
     "output_type": "execute_result"
    }
   ],
   "source": [
    "eco_2019 = load_data('ecobici/ecobici_2019.csv', flag_dir)\n",
    "eco_2019.head()"
   ]
  },
  {
   "cell_type": "code",
   "execution_count": 14,
   "id": "0f2b956a",
   "metadata": {},
   "outputs": [],
   "source": [
    "eco_2019['Inicio'] = eco_2019['Fecha_Retiro'] + ' ' + eco_2019['Hora_Retiro']"
   ]
  },
  {
   "cell_type": "code",
   "execution_count": 15,
   "id": "7bb60cb9",
   "metadata": {},
   "outputs": [
    {
     "data": {
      "application/vnd.microsoft.datawrangler.viewer.v0+json": {
       "columns": [
        {
         "name": "index",
         "rawType": "int64",
         "type": "integer"
        },
        {
         "name": "Genero_Usuario",
         "rawType": "object",
         "type": "string"
        },
        {
         "name": "Edad_Usuario",
         "rawType": "int64",
         "type": "integer"
        },
        {
         "name": "Bici",
         "rawType": "int64",
         "type": "integer"
        },
        {
         "name": "Ciclo_Estacion_Retiro",
         "rawType": "int64",
         "type": "integer"
        },
        {
         "name": "Fecha_Retiro",
         "rawType": "object",
         "type": "string"
        },
        {
         "name": "Hora_Retiro",
         "rawType": "object",
         "type": "string"
        },
        {
         "name": "Ciclo_Estacion_Arribo",
         "rawType": "int64",
         "type": "integer"
        },
        {
         "name": "Fecha_Arribo",
         "rawType": "object",
         "type": "string"
        },
        {
         "name": "Hora_Arribo",
         "rawType": "object",
         "type": "string"
        },
        {
         "name": "Tiempo_viaje",
         "rawType": "float64",
         "type": "float"
        },
        {
         "name": "Inicio",
         "rawType": "object",
         "type": "string"
        }
       ],
       "conversionMethod": "pd.DataFrame",
       "ref": "d1d09ec1-b5e7-4d77-a789-62bf5673bdac",
       "rows": [
        [
         "0",
         "M",
         "36",
         "11444",
         "67",
         "2019-01-01",
         "0:08:44",
         "36",
         "2019-01-01",
         "0:14:03",
         "5.316666666666666",
         "2019-01-01 0:08:44"
        ],
        [
         "1",
         "M",
         "36",
         "9196",
         "55",
         "2019-01-01",
         "0:12:05",
         "136",
         "2019-01-01",
         "0:42:11",
         "30.1",
         "2019-01-01 0:12:05"
        ],
        [
         "2",
         "M",
         "38",
         "2612",
         "29",
         "2019-01-01",
         "0:13:15",
         "115",
         "2019-01-01",
         "0:37:47",
         "24.53333333333333",
         "2019-01-01 0:13:15"
        ],
        [
         "3",
         "M",
         "43",
         "7463",
         "29",
         "2019-01-01",
         "0:13:36",
         "115",
         "2019-01-01",
         "0:38:04",
         "24.466666666666665",
         "2019-01-01 0:13:36"
        ],
        [
         "4",
         "M",
         "37",
         "3987",
         "136",
         "2019-01-01",
         "0:15:30",
         "35",
         "2019-01-01",
         "0:22:47",
         "7.283333333333333",
         "2019-01-01 0:15:30"
        ]
       ],
       "shape": {
        "columns": 11,
        "rows": 5
       }
      },
      "text/html": [
       "<div>\n",
       "<style scoped>\n",
       "    .dataframe tbody tr th:only-of-type {\n",
       "        vertical-align: middle;\n",
       "    }\n",
       "\n",
       "    .dataframe tbody tr th {\n",
       "        vertical-align: top;\n",
       "    }\n",
       "\n",
       "    .dataframe thead th {\n",
       "        text-align: right;\n",
       "    }\n",
       "</style>\n",
       "<table border=\"1\" class=\"dataframe\">\n",
       "  <thead>\n",
       "    <tr style=\"text-align: right;\">\n",
       "      <th></th>\n",
       "      <th>Genero_Usuario</th>\n",
       "      <th>Edad_Usuario</th>\n",
       "      <th>Bici</th>\n",
       "      <th>Ciclo_Estacion_Retiro</th>\n",
       "      <th>Fecha_Retiro</th>\n",
       "      <th>Hora_Retiro</th>\n",
       "      <th>Ciclo_Estacion_Arribo</th>\n",
       "      <th>Fecha_Arribo</th>\n",
       "      <th>Hora_Arribo</th>\n",
       "      <th>Tiempo_viaje</th>\n",
       "      <th>Inicio</th>\n",
       "    </tr>\n",
       "  </thead>\n",
       "  <tbody>\n",
       "    <tr>\n",
       "      <th>0</th>\n",
       "      <td>M</td>\n",
       "      <td>36</td>\n",
       "      <td>11444</td>\n",
       "      <td>67</td>\n",
       "      <td>2019-01-01</td>\n",
       "      <td>0:08:44</td>\n",
       "      <td>36</td>\n",
       "      <td>2019-01-01</td>\n",
       "      <td>0:14:03</td>\n",
       "      <td>5.316667</td>\n",
       "      <td>2019-01-01 0:08:44</td>\n",
       "    </tr>\n",
       "    <tr>\n",
       "      <th>1</th>\n",
       "      <td>M</td>\n",
       "      <td>36</td>\n",
       "      <td>9196</td>\n",
       "      <td>55</td>\n",
       "      <td>2019-01-01</td>\n",
       "      <td>0:12:05</td>\n",
       "      <td>136</td>\n",
       "      <td>2019-01-01</td>\n",
       "      <td>0:42:11</td>\n",
       "      <td>30.100000</td>\n",
       "      <td>2019-01-01 0:12:05</td>\n",
       "    </tr>\n",
       "    <tr>\n",
       "      <th>2</th>\n",
       "      <td>M</td>\n",
       "      <td>38</td>\n",
       "      <td>2612</td>\n",
       "      <td>29</td>\n",
       "      <td>2019-01-01</td>\n",
       "      <td>0:13:15</td>\n",
       "      <td>115</td>\n",
       "      <td>2019-01-01</td>\n",
       "      <td>0:37:47</td>\n",
       "      <td>24.533333</td>\n",
       "      <td>2019-01-01 0:13:15</td>\n",
       "    </tr>\n",
       "    <tr>\n",
       "      <th>3</th>\n",
       "      <td>M</td>\n",
       "      <td>43</td>\n",
       "      <td>7463</td>\n",
       "      <td>29</td>\n",
       "      <td>2019-01-01</td>\n",
       "      <td>0:13:36</td>\n",
       "      <td>115</td>\n",
       "      <td>2019-01-01</td>\n",
       "      <td>0:38:04</td>\n",
       "      <td>24.466667</td>\n",
       "      <td>2019-01-01 0:13:36</td>\n",
       "    </tr>\n",
       "    <tr>\n",
       "      <th>4</th>\n",
       "      <td>M</td>\n",
       "      <td>37</td>\n",
       "      <td>3987</td>\n",
       "      <td>136</td>\n",
       "      <td>2019-01-01</td>\n",
       "      <td>0:15:30</td>\n",
       "      <td>35</td>\n",
       "      <td>2019-01-01</td>\n",
       "      <td>0:22:47</td>\n",
       "      <td>7.283333</td>\n",
       "      <td>2019-01-01 0:15:30</td>\n",
       "    </tr>\n",
       "  </tbody>\n",
       "</table>\n",
       "</div>"
      ],
      "text/plain": [
       "  Genero_Usuario  Edad_Usuario   Bici  Ciclo_Estacion_Retiro Fecha_Retiro  \\\n",
       "0              M            36  11444                     67   2019-01-01   \n",
       "1              M            36   9196                     55   2019-01-01   \n",
       "2              M            38   2612                     29   2019-01-01   \n",
       "3              M            43   7463                     29   2019-01-01   \n",
       "4              M            37   3987                    136   2019-01-01   \n",
       "\n",
       "  Hora_Retiro  Ciclo_Estacion_Arribo Fecha_Arribo Hora_Arribo  Tiempo_viaje  \\\n",
       "0     0:08:44                     36   2019-01-01     0:14:03      5.316667   \n",
       "1     0:12:05                    136   2019-01-01     0:42:11     30.100000   \n",
       "2     0:13:15                    115   2019-01-01     0:37:47     24.533333   \n",
       "3     0:13:36                    115   2019-01-01     0:38:04     24.466667   \n",
       "4     0:15:30                     35   2019-01-01     0:22:47      7.283333   \n",
       "\n",
       "               Inicio  \n",
       "0  2019-01-01 0:08:44  \n",
       "1  2019-01-01 0:12:05  \n",
       "2  2019-01-01 0:13:15  \n",
       "3  2019-01-01 0:13:36  \n",
       "4  2019-01-01 0:15:30  "
      ]
     },
     "execution_count": 15,
     "metadata": {},
     "output_type": "execute_result"
    }
   ],
   "source": [
    "eco_2019.head()"
   ]
  },
  {
   "cell_type": "code",
   "execution_count": 16,
   "id": "68c20655",
   "metadata": {},
   "outputs": [
    {
     "data": {
      "application/vnd.microsoft.datawrangler.viewer.v0+json": {
       "columns": [
        {
         "name": "index",
         "rawType": "int64",
         "type": "integer"
        },
        {
         "name": "Genero_Usuario",
         "rawType": "object",
         "type": "string"
        },
        {
         "name": "Edad_Usuario",
         "rawType": "int64",
         "type": "integer"
        },
        {
         "name": "Bici",
         "rawType": "int64",
         "type": "integer"
        },
        {
         "name": "Ciclo_Estacion_Retiro",
         "rawType": "int64",
         "type": "integer"
        },
        {
         "name": "Fecha_Retiro",
         "rawType": "object",
         "type": "string"
        },
        {
         "name": "Hora_Retiro",
         "rawType": "object",
         "type": "string"
        },
        {
         "name": "Ciclo_Estacion_Arribo",
         "rawType": "int64",
         "type": "integer"
        },
        {
         "name": "Fecha_Arribo",
         "rawType": "object",
         "type": "string"
        },
        {
         "name": "Hora_Arribo",
         "rawType": "object",
         "type": "string"
        },
        {
         "name": "Tiempo_viaje",
         "rawType": "float64",
         "type": "float"
        },
        {
         "name": "Inicio",
         "rawType": "object",
         "type": "string"
        },
        {
         "name": "Fin",
         "rawType": "object",
         "type": "string"
        }
       ],
       "conversionMethod": "pd.DataFrame",
       "ref": "dc1f6bed-d021-4a25-9820-96a20ff37c94",
       "rows": [
        [
         "0",
         "M",
         "36",
         "11444",
         "67",
         "2019-01-01",
         "0:08:44",
         "36",
         "2019-01-01",
         "0:14:03",
         "5.316666666666666",
         "2019-01-01 0:08:44",
         "2019-01-01 0:14:03"
        ],
        [
         "1",
         "M",
         "36",
         "9196",
         "55",
         "2019-01-01",
         "0:12:05",
         "136",
         "2019-01-01",
         "0:42:11",
         "30.1",
         "2019-01-01 0:12:05",
         "2019-01-01 0:42:11"
        ],
        [
         "2",
         "M",
         "38",
         "2612",
         "29",
         "2019-01-01",
         "0:13:15",
         "115",
         "2019-01-01",
         "0:37:47",
         "24.53333333333333",
         "2019-01-01 0:13:15",
         "2019-01-01 0:37:47"
        ],
        [
         "3",
         "M",
         "43",
         "7463",
         "29",
         "2019-01-01",
         "0:13:36",
         "115",
         "2019-01-01",
         "0:38:04",
         "24.466666666666665",
         "2019-01-01 0:13:36",
         "2019-01-01 0:38:04"
        ],
        [
         "4",
         "M",
         "37",
         "3987",
         "136",
         "2019-01-01",
         "0:15:30",
         "35",
         "2019-01-01",
         "0:22:47",
         "7.283333333333333",
         "2019-01-01 0:15:30",
         "2019-01-01 0:22:47"
        ]
       ],
       "shape": {
        "columns": 12,
        "rows": 5
       }
      },
      "text/html": [
       "<div>\n",
       "<style scoped>\n",
       "    .dataframe tbody tr th:only-of-type {\n",
       "        vertical-align: middle;\n",
       "    }\n",
       "\n",
       "    .dataframe tbody tr th {\n",
       "        vertical-align: top;\n",
       "    }\n",
       "\n",
       "    .dataframe thead th {\n",
       "        text-align: right;\n",
       "    }\n",
       "</style>\n",
       "<table border=\"1\" class=\"dataframe\">\n",
       "  <thead>\n",
       "    <tr style=\"text-align: right;\">\n",
       "      <th></th>\n",
       "      <th>Genero_Usuario</th>\n",
       "      <th>Edad_Usuario</th>\n",
       "      <th>Bici</th>\n",
       "      <th>Ciclo_Estacion_Retiro</th>\n",
       "      <th>Fecha_Retiro</th>\n",
       "      <th>Hora_Retiro</th>\n",
       "      <th>Ciclo_Estacion_Arribo</th>\n",
       "      <th>Fecha_Arribo</th>\n",
       "      <th>Hora_Arribo</th>\n",
       "      <th>Tiempo_viaje</th>\n",
       "      <th>Inicio</th>\n",
       "      <th>Fin</th>\n",
       "    </tr>\n",
       "  </thead>\n",
       "  <tbody>\n",
       "    <tr>\n",
       "      <th>0</th>\n",
       "      <td>M</td>\n",
       "      <td>36</td>\n",
       "      <td>11444</td>\n",
       "      <td>67</td>\n",
       "      <td>2019-01-01</td>\n",
       "      <td>0:08:44</td>\n",
       "      <td>36</td>\n",
       "      <td>2019-01-01</td>\n",
       "      <td>0:14:03</td>\n",
       "      <td>5.316667</td>\n",
       "      <td>2019-01-01 0:08:44</td>\n",
       "      <td>2019-01-01 0:14:03</td>\n",
       "    </tr>\n",
       "    <tr>\n",
       "      <th>1</th>\n",
       "      <td>M</td>\n",
       "      <td>36</td>\n",
       "      <td>9196</td>\n",
       "      <td>55</td>\n",
       "      <td>2019-01-01</td>\n",
       "      <td>0:12:05</td>\n",
       "      <td>136</td>\n",
       "      <td>2019-01-01</td>\n",
       "      <td>0:42:11</td>\n",
       "      <td>30.100000</td>\n",
       "      <td>2019-01-01 0:12:05</td>\n",
       "      <td>2019-01-01 0:42:11</td>\n",
       "    </tr>\n",
       "    <tr>\n",
       "      <th>2</th>\n",
       "      <td>M</td>\n",
       "      <td>38</td>\n",
       "      <td>2612</td>\n",
       "      <td>29</td>\n",
       "      <td>2019-01-01</td>\n",
       "      <td>0:13:15</td>\n",
       "      <td>115</td>\n",
       "      <td>2019-01-01</td>\n",
       "      <td>0:37:47</td>\n",
       "      <td>24.533333</td>\n",
       "      <td>2019-01-01 0:13:15</td>\n",
       "      <td>2019-01-01 0:37:47</td>\n",
       "    </tr>\n",
       "    <tr>\n",
       "      <th>3</th>\n",
       "      <td>M</td>\n",
       "      <td>43</td>\n",
       "      <td>7463</td>\n",
       "      <td>29</td>\n",
       "      <td>2019-01-01</td>\n",
       "      <td>0:13:36</td>\n",
       "      <td>115</td>\n",
       "      <td>2019-01-01</td>\n",
       "      <td>0:38:04</td>\n",
       "      <td>24.466667</td>\n",
       "      <td>2019-01-01 0:13:36</td>\n",
       "      <td>2019-01-01 0:38:04</td>\n",
       "    </tr>\n",
       "    <tr>\n",
       "      <th>4</th>\n",
       "      <td>M</td>\n",
       "      <td>37</td>\n",
       "      <td>3987</td>\n",
       "      <td>136</td>\n",
       "      <td>2019-01-01</td>\n",
       "      <td>0:15:30</td>\n",
       "      <td>35</td>\n",
       "      <td>2019-01-01</td>\n",
       "      <td>0:22:47</td>\n",
       "      <td>7.283333</td>\n",
       "      <td>2019-01-01 0:15:30</td>\n",
       "      <td>2019-01-01 0:22:47</td>\n",
       "    </tr>\n",
       "  </tbody>\n",
       "</table>\n",
       "</div>"
      ],
      "text/plain": [
       "  Genero_Usuario  Edad_Usuario   Bici  Ciclo_Estacion_Retiro Fecha_Retiro  \\\n",
       "0              M            36  11444                     67   2019-01-01   \n",
       "1              M            36   9196                     55   2019-01-01   \n",
       "2              M            38   2612                     29   2019-01-01   \n",
       "3              M            43   7463                     29   2019-01-01   \n",
       "4              M            37   3987                    136   2019-01-01   \n",
       "\n",
       "  Hora_Retiro  Ciclo_Estacion_Arribo Fecha_Arribo Hora_Arribo  Tiempo_viaje  \\\n",
       "0     0:08:44                     36   2019-01-01     0:14:03      5.316667   \n",
       "1     0:12:05                    136   2019-01-01     0:42:11     30.100000   \n",
       "2     0:13:15                    115   2019-01-01     0:37:47     24.533333   \n",
       "3     0:13:36                    115   2019-01-01     0:38:04     24.466667   \n",
       "4     0:15:30                     35   2019-01-01     0:22:47      7.283333   \n",
       "\n",
       "               Inicio                 Fin  \n",
       "0  2019-01-01 0:08:44  2019-01-01 0:14:03  \n",
       "1  2019-01-01 0:12:05  2019-01-01 0:42:11  \n",
       "2  2019-01-01 0:13:15  2019-01-01 0:37:47  \n",
       "3  2019-01-01 0:13:36  2019-01-01 0:38:04  \n",
       "4  2019-01-01 0:15:30  2019-01-01 0:22:47  "
      ]
     },
     "execution_count": 16,
     "metadata": {},
     "output_type": "execute_result"
    }
   ],
   "source": [
    "eco_2019['Fin'] = eco_2019['Fecha_Arribo'] + ' ' + eco_2019['Hora_Arribo']\n",
    "eco_2019.head()"
   ]
  },
  {
   "cell_type": "code",
   "execution_count": 18,
   "id": "eadf06c5",
   "metadata": {},
   "outputs": [],
   "source": [
    "eco_2019.to_csv('/Users/antoniomendez/Desktop/Tesis/Datos/datos_limpios/ecobici/ecobici_2019.csv', index = False)"
   ]
  },
  {
   "cell_type": "code",
   "execution_count": 19,
   "id": "fa8ebd7b",
   "metadata": {},
   "outputs": [
    {
     "data": {
      "application/vnd.microsoft.datawrangler.viewer.v0+json": {
       "columns": [
        {
         "name": "index",
         "rawType": "int64",
         "type": "integer"
        },
        {
         "name": "Genero_Usuario",
         "rawType": "object",
         "type": "string"
        },
        {
         "name": "Edad_Usuario",
         "rawType": "int64",
         "type": "integer"
        },
        {
         "name": "Bici",
         "rawType": "int64",
         "type": "integer"
        },
        {
         "name": "Ciclo_Estacion_Retiro",
         "rawType": "int64",
         "type": "integer"
        },
        {
         "name": "Fecha_Retiro",
         "rawType": "object",
         "type": "string"
        },
        {
         "name": "Hora_Retiro",
         "rawType": "object",
         "type": "string"
        },
        {
         "name": "Ciclo_Estacion_Arribo",
         "rawType": "int64",
         "type": "integer"
        },
        {
         "name": "Fecha_Arribo",
         "rawType": "object",
         "type": "string"
        },
        {
         "name": "Hora_Arribo",
         "rawType": "object",
         "type": "string"
        },
        {
         "name": "Tiempo_viaje",
         "rawType": "float64",
         "type": "float"
        },
        {
         "name": "Inicio",
         "rawType": "object",
         "type": "string"
        },
        {
         "name": "Fin",
         "rawType": "object",
         "type": "string"
        }
       ],
       "conversionMethod": "pd.DataFrame",
       "ref": "d140640b-1450-4261-987f-9b2dec5db038",
       "rows": [
        [
         "0",
         "M",
         "36",
         "11444",
         "67",
         "2019-01-01",
         "0:08:44",
         "36",
         "2019-01-01",
         "0:14:03",
         "5.316666666666666",
         "2019-01-01 0:08:44",
         "2019-01-01 0:14:03"
        ],
        [
         "1",
         "M",
         "36",
         "9196",
         "55",
         "2019-01-01",
         "0:12:05",
         "136",
         "2019-01-01",
         "0:42:11",
         "30.1",
         "2019-01-01 0:12:05",
         "2019-01-01 0:42:11"
        ],
        [
         "2",
         "M",
         "38",
         "2612",
         "29",
         "2019-01-01",
         "0:13:15",
         "115",
         "2019-01-01",
         "0:37:47",
         "24.53333333333333",
         "2019-01-01 0:13:15",
         "2019-01-01 0:37:47"
        ],
        [
         "3",
         "M",
         "43",
         "7463",
         "29",
         "2019-01-01",
         "0:13:36",
         "115",
         "2019-01-01",
         "0:38:04",
         "24.466666666666665",
         "2019-01-01 0:13:36",
         "2019-01-01 0:38:04"
        ],
        [
         "4",
         "M",
         "37",
         "3987",
         "136",
         "2019-01-01",
         "0:15:30",
         "35",
         "2019-01-01",
         "0:22:47",
         "7.283333333333333",
         "2019-01-01 0:15:30",
         "2019-01-01 0:22:47"
        ]
       ],
       "shape": {
        "columns": 12,
        "rows": 5
       }
      },
      "text/html": [
       "<div>\n",
       "<style scoped>\n",
       "    .dataframe tbody tr th:only-of-type {\n",
       "        vertical-align: middle;\n",
       "    }\n",
       "\n",
       "    .dataframe tbody tr th {\n",
       "        vertical-align: top;\n",
       "    }\n",
       "\n",
       "    .dataframe thead th {\n",
       "        text-align: right;\n",
       "    }\n",
       "</style>\n",
       "<table border=\"1\" class=\"dataframe\">\n",
       "  <thead>\n",
       "    <tr style=\"text-align: right;\">\n",
       "      <th></th>\n",
       "      <th>Genero_Usuario</th>\n",
       "      <th>Edad_Usuario</th>\n",
       "      <th>Bici</th>\n",
       "      <th>Ciclo_Estacion_Retiro</th>\n",
       "      <th>Fecha_Retiro</th>\n",
       "      <th>Hora_Retiro</th>\n",
       "      <th>Ciclo_Estacion_Arribo</th>\n",
       "      <th>Fecha_Arribo</th>\n",
       "      <th>Hora_Arribo</th>\n",
       "      <th>Tiempo_viaje</th>\n",
       "      <th>Inicio</th>\n",
       "      <th>Fin</th>\n",
       "    </tr>\n",
       "  </thead>\n",
       "  <tbody>\n",
       "    <tr>\n",
       "      <th>0</th>\n",
       "      <td>M</td>\n",
       "      <td>36</td>\n",
       "      <td>11444</td>\n",
       "      <td>67</td>\n",
       "      <td>2019-01-01</td>\n",
       "      <td>0:08:44</td>\n",
       "      <td>36</td>\n",
       "      <td>2019-01-01</td>\n",
       "      <td>0:14:03</td>\n",
       "      <td>5.316667</td>\n",
       "      <td>2019-01-01 0:08:44</td>\n",
       "      <td>2019-01-01 0:14:03</td>\n",
       "    </tr>\n",
       "    <tr>\n",
       "      <th>1</th>\n",
       "      <td>M</td>\n",
       "      <td>36</td>\n",
       "      <td>9196</td>\n",
       "      <td>55</td>\n",
       "      <td>2019-01-01</td>\n",
       "      <td>0:12:05</td>\n",
       "      <td>136</td>\n",
       "      <td>2019-01-01</td>\n",
       "      <td>0:42:11</td>\n",
       "      <td>30.100000</td>\n",
       "      <td>2019-01-01 0:12:05</td>\n",
       "      <td>2019-01-01 0:42:11</td>\n",
       "    </tr>\n",
       "    <tr>\n",
       "      <th>2</th>\n",
       "      <td>M</td>\n",
       "      <td>38</td>\n",
       "      <td>2612</td>\n",
       "      <td>29</td>\n",
       "      <td>2019-01-01</td>\n",
       "      <td>0:13:15</td>\n",
       "      <td>115</td>\n",
       "      <td>2019-01-01</td>\n",
       "      <td>0:37:47</td>\n",
       "      <td>24.533333</td>\n",
       "      <td>2019-01-01 0:13:15</td>\n",
       "      <td>2019-01-01 0:37:47</td>\n",
       "    </tr>\n",
       "    <tr>\n",
       "      <th>3</th>\n",
       "      <td>M</td>\n",
       "      <td>43</td>\n",
       "      <td>7463</td>\n",
       "      <td>29</td>\n",
       "      <td>2019-01-01</td>\n",
       "      <td>0:13:36</td>\n",
       "      <td>115</td>\n",
       "      <td>2019-01-01</td>\n",
       "      <td>0:38:04</td>\n",
       "      <td>24.466667</td>\n",
       "      <td>2019-01-01 0:13:36</td>\n",
       "      <td>2019-01-01 0:38:04</td>\n",
       "    </tr>\n",
       "    <tr>\n",
       "      <th>4</th>\n",
       "      <td>M</td>\n",
       "      <td>37</td>\n",
       "      <td>3987</td>\n",
       "      <td>136</td>\n",
       "      <td>2019-01-01</td>\n",
       "      <td>0:15:30</td>\n",
       "      <td>35</td>\n",
       "      <td>2019-01-01</td>\n",
       "      <td>0:22:47</td>\n",
       "      <td>7.283333</td>\n",
       "      <td>2019-01-01 0:15:30</td>\n",
       "      <td>2019-01-01 0:22:47</td>\n",
       "    </tr>\n",
       "  </tbody>\n",
       "</table>\n",
       "</div>"
      ],
      "text/plain": [
       "  Genero_Usuario  Edad_Usuario   Bici  Ciclo_Estacion_Retiro Fecha_Retiro  \\\n",
       "0              M            36  11444                     67   2019-01-01   \n",
       "1              M            36   9196                     55   2019-01-01   \n",
       "2              M            38   2612                     29   2019-01-01   \n",
       "3              M            43   7463                     29   2019-01-01   \n",
       "4              M            37   3987                    136   2019-01-01   \n",
       "\n",
       "  Hora_Retiro  Ciclo_Estacion_Arribo Fecha_Arribo Hora_Arribo  Tiempo_viaje  \\\n",
       "0     0:08:44                     36   2019-01-01     0:14:03      5.316667   \n",
       "1     0:12:05                    136   2019-01-01     0:42:11     30.100000   \n",
       "2     0:13:15                    115   2019-01-01     0:37:47     24.533333   \n",
       "3     0:13:36                    115   2019-01-01     0:38:04     24.466667   \n",
       "4     0:15:30                     35   2019-01-01     0:22:47      7.283333   \n",
       "\n",
       "               Inicio                 Fin  \n",
       "0  2019-01-01 0:08:44  2019-01-01 0:14:03  \n",
       "1  2019-01-01 0:12:05  2019-01-01 0:42:11  \n",
       "2  2019-01-01 0:13:15  2019-01-01 0:37:47  \n",
       "3  2019-01-01 0:13:36  2019-01-01 0:38:04  \n",
       "4  2019-01-01 0:15:30  2019-01-01 0:22:47  "
      ]
     },
     "execution_count": 19,
     "metadata": {},
     "output_type": "execute_result"
    }
   ],
   "source": [
    "eco_2019 = load_data('ecobici/ecobici_2019.csv', flag_dir)\n",
    "eco_2019.head()"
   ]
  },
  {
   "cell_type": "code",
   "execution_count": 20,
   "id": "6cda752c",
   "metadata": {},
   "outputs": [],
   "source": [
    "del eco_2019"
   ]
  },
  {
   "cell_type": "code",
   "execution_count": 22,
   "id": "a32227a9",
   "metadata": {},
   "outputs": [
    {
     "data": {
      "application/vnd.microsoft.datawrangler.viewer.v0+json": {
       "columns": [
        {
         "name": "index",
         "rawType": "int64",
         "type": "integer"
        },
        {
         "name": "Genero_Usuario",
         "rawType": "object",
         "type": "string"
        },
        {
         "name": "Edad_Usuario",
         "rawType": "float64",
         "type": "float"
        },
        {
         "name": "Bici",
         "rawType": "int64",
         "type": "integer"
        },
        {
         "name": "Ciclo_Estacion_Retiro",
         "rawType": "float64",
         "type": "float"
        },
        {
         "name": "Fecha_Retiro",
         "rawType": "object",
         "type": "string"
        },
        {
         "name": "Hora_Retiro",
         "rawType": "object",
         "type": "string"
        },
        {
         "name": "Ciclo_Estacion_Arribo",
         "rawType": "int64",
         "type": "integer"
        },
        {
         "name": "Fecha_Arribo",
         "rawType": "object",
         "type": "string"
        },
        {
         "name": "Hora_Arribo",
         "rawType": "object",
         "type": "string"
        },
        {
         "name": "Tiempo_viaje",
         "rawType": "float64",
         "type": "float"
        }
       ],
       "conversionMethod": "pd.DataFrame",
       "ref": "23a533b3-3eb3-45fd-9026-cf2b711fcfa9",
       "rows": [
        [
         "0",
         "F",
         "33.0",
         "8744",
         "52.0",
         "2020-01-01",
         "0:05:06",
         "3",
         "2020-01-01",
         "0:13:00",
         "7.9"
        ],
        [
         "1",
         "M",
         "30.0",
         "7865",
         "31.0",
         "2020-01-01",
         "0:09:50",
         "271",
         "2020-01-01",
         "0:21:30",
         "11.666666666666666"
        ],
        [
         "2",
         "F",
         "36.0",
         "7819",
         "251.0",
         "2020-01-01",
         "0:13:25",
         "150",
         "2020-01-01",
         "0:26:10",
         "12.75"
        ],
        [
         "3",
         "F",
         "33.0",
         "11258",
         "3.0",
         "2020-01-01",
         "0:15:22",
         "1",
         "2020-01-01",
         "0:25:29",
         "10.116666666666667"
        ],
        [
         "4",
         "M",
         "29.0",
         "7722",
         "136.0",
         "2020-01-01",
         "0:18:42",
         "63",
         "2020-01-01",
         "0:24:01",
         "5.316666666666666"
        ]
       ],
       "shape": {
        "columns": 10,
        "rows": 5
       }
      },
      "text/html": [
       "<div>\n",
       "<style scoped>\n",
       "    .dataframe tbody tr th:only-of-type {\n",
       "        vertical-align: middle;\n",
       "    }\n",
       "\n",
       "    .dataframe tbody tr th {\n",
       "        vertical-align: top;\n",
       "    }\n",
       "\n",
       "    .dataframe thead th {\n",
       "        text-align: right;\n",
       "    }\n",
       "</style>\n",
       "<table border=\"1\" class=\"dataframe\">\n",
       "  <thead>\n",
       "    <tr style=\"text-align: right;\">\n",
       "      <th></th>\n",
       "      <th>Genero_Usuario</th>\n",
       "      <th>Edad_Usuario</th>\n",
       "      <th>Bici</th>\n",
       "      <th>Ciclo_Estacion_Retiro</th>\n",
       "      <th>Fecha_Retiro</th>\n",
       "      <th>Hora_Retiro</th>\n",
       "      <th>Ciclo_Estacion_Arribo</th>\n",
       "      <th>Fecha_Arribo</th>\n",
       "      <th>Hora_Arribo</th>\n",
       "      <th>Tiempo_viaje</th>\n",
       "    </tr>\n",
       "  </thead>\n",
       "  <tbody>\n",
       "    <tr>\n",
       "      <th>0</th>\n",
       "      <td>F</td>\n",
       "      <td>33.0</td>\n",
       "      <td>8744</td>\n",
       "      <td>52.0</td>\n",
       "      <td>2020-01-01</td>\n",
       "      <td>0:05:06</td>\n",
       "      <td>3</td>\n",
       "      <td>2020-01-01</td>\n",
       "      <td>0:13:00</td>\n",
       "      <td>7.900000</td>\n",
       "    </tr>\n",
       "    <tr>\n",
       "      <th>1</th>\n",
       "      <td>M</td>\n",
       "      <td>30.0</td>\n",
       "      <td>7865</td>\n",
       "      <td>31.0</td>\n",
       "      <td>2020-01-01</td>\n",
       "      <td>0:09:50</td>\n",
       "      <td>271</td>\n",
       "      <td>2020-01-01</td>\n",
       "      <td>0:21:30</td>\n",
       "      <td>11.666667</td>\n",
       "    </tr>\n",
       "    <tr>\n",
       "      <th>2</th>\n",
       "      <td>F</td>\n",
       "      <td>36.0</td>\n",
       "      <td>7819</td>\n",
       "      <td>251.0</td>\n",
       "      <td>2020-01-01</td>\n",
       "      <td>0:13:25</td>\n",
       "      <td>150</td>\n",
       "      <td>2020-01-01</td>\n",
       "      <td>0:26:10</td>\n",
       "      <td>12.750000</td>\n",
       "    </tr>\n",
       "    <tr>\n",
       "      <th>3</th>\n",
       "      <td>F</td>\n",
       "      <td>33.0</td>\n",
       "      <td>11258</td>\n",
       "      <td>3.0</td>\n",
       "      <td>2020-01-01</td>\n",
       "      <td>0:15:22</td>\n",
       "      <td>1</td>\n",
       "      <td>2020-01-01</td>\n",
       "      <td>0:25:29</td>\n",
       "      <td>10.116667</td>\n",
       "    </tr>\n",
       "    <tr>\n",
       "      <th>4</th>\n",
       "      <td>M</td>\n",
       "      <td>29.0</td>\n",
       "      <td>7722</td>\n",
       "      <td>136.0</td>\n",
       "      <td>2020-01-01</td>\n",
       "      <td>0:18:42</td>\n",
       "      <td>63</td>\n",
       "      <td>2020-01-01</td>\n",
       "      <td>0:24:01</td>\n",
       "      <td>5.316667</td>\n",
       "    </tr>\n",
       "  </tbody>\n",
       "</table>\n",
       "</div>"
      ],
      "text/plain": [
       "  Genero_Usuario  Edad_Usuario   Bici  Ciclo_Estacion_Retiro Fecha_Retiro  \\\n",
       "0              F          33.0   8744                   52.0   2020-01-01   \n",
       "1              M          30.0   7865                   31.0   2020-01-01   \n",
       "2              F          36.0   7819                  251.0   2020-01-01   \n",
       "3              F          33.0  11258                    3.0   2020-01-01   \n",
       "4              M          29.0   7722                  136.0   2020-01-01   \n",
       "\n",
       "  Hora_Retiro  Ciclo_Estacion_Arribo Fecha_Arribo Hora_Arribo  Tiempo_viaje  \n",
       "0     0:05:06                      3   2020-01-01     0:13:00      7.900000  \n",
       "1     0:09:50                    271   2020-01-01     0:21:30     11.666667  \n",
       "2     0:13:25                    150   2020-01-01     0:26:10     12.750000  \n",
       "3     0:15:22                      1   2020-01-01     0:25:29     10.116667  \n",
       "4     0:18:42                     63   2020-01-01     0:24:01      5.316667  "
      ]
     },
     "execution_count": 22,
     "metadata": {},
     "output_type": "execute_result"
    }
   ],
   "source": [
    "eco_2020 = load_data('ecobici/ecobici_2020.csv', flag_dir)\n",
    "eco_2020.head()"
   ]
  },
  {
   "cell_type": "code",
   "execution_count": 23,
   "id": "85f8ea18",
   "metadata": {},
   "outputs": [
    {
     "data": {
      "application/vnd.microsoft.datawrangler.viewer.v0+json": {
       "columns": [
        {
         "name": "index",
         "rawType": "int64",
         "type": "integer"
        },
        {
         "name": "Genero_Usuario",
         "rawType": "object",
         "type": "string"
        },
        {
         "name": "Edad_Usuario",
         "rawType": "float64",
         "type": "float"
        },
        {
         "name": "Bici",
         "rawType": "int64",
         "type": "integer"
        },
        {
         "name": "Ciclo_Estacion_Retiro",
         "rawType": "float64",
         "type": "float"
        },
        {
         "name": "Fecha_Retiro",
         "rawType": "object",
         "type": "string"
        },
        {
         "name": "Hora_Retiro",
         "rawType": "object",
         "type": "string"
        },
        {
         "name": "Ciclo_Estacion_Arribo",
         "rawType": "int64",
         "type": "integer"
        },
        {
         "name": "Fecha_Arribo",
         "rawType": "object",
         "type": "string"
        },
        {
         "name": "Hora_Arribo",
         "rawType": "object",
         "type": "string"
        },
        {
         "name": "Tiempo_viaje",
         "rawType": "float64",
         "type": "float"
        },
        {
         "name": "Inicio",
         "rawType": "object",
         "type": "string"
        }
       ],
       "conversionMethod": "pd.DataFrame",
       "ref": "a0bbc66f-15b5-4c99-8ef7-4800551451fd",
       "rows": [
        [
         "0",
         "F",
         "33.0",
         "8744",
         "52.0",
         "2020-01-01",
         "0:05:06",
         "3",
         "2020-01-01",
         "0:13:00",
         "7.9",
         "2020-01-01 0:05:06"
        ],
        [
         "1",
         "M",
         "30.0",
         "7865",
         "31.0",
         "2020-01-01",
         "0:09:50",
         "271",
         "2020-01-01",
         "0:21:30",
         "11.666666666666666",
         "2020-01-01 0:09:50"
        ],
        [
         "2",
         "F",
         "36.0",
         "7819",
         "251.0",
         "2020-01-01",
         "0:13:25",
         "150",
         "2020-01-01",
         "0:26:10",
         "12.75",
         "2020-01-01 0:13:25"
        ],
        [
         "3",
         "F",
         "33.0",
         "11258",
         "3.0",
         "2020-01-01",
         "0:15:22",
         "1",
         "2020-01-01",
         "0:25:29",
         "10.116666666666667",
         "2020-01-01 0:15:22"
        ],
        [
         "4",
         "M",
         "29.0",
         "7722",
         "136.0",
         "2020-01-01",
         "0:18:42",
         "63",
         "2020-01-01",
         "0:24:01",
         "5.316666666666666",
         "2020-01-01 0:18:42"
        ]
       ],
       "shape": {
        "columns": 11,
        "rows": 5
       }
      },
      "text/html": [
       "<div>\n",
       "<style scoped>\n",
       "    .dataframe tbody tr th:only-of-type {\n",
       "        vertical-align: middle;\n",
       "    }\n",
       "\n",
       "    .dataframe tbody tr th {\n",
       "        vertical-align: top;\n",
       "    }\n",
       "\n",
       "    .dataframe thead th {\n",
       "        text-align: right;\n",
       "    }\n",
       "</style>\n",
       "<table border=\"1\" class=\"dataframe\">\n",
       "  <thead>\n",
       "    <tr style=\"text-align: right;\">\n",
       "      <th></th>\n",
       "      <th>Genero_Usuario</th>\n",
       "      <th>Edad_Usuario</th>\n",
       "      <th>Bici</th>\n",
       "      <th>Ciclo_Estacion_Retiro</th>\n",
       "      <th>Fecha_Retiro</th>\n",
       "      <th>Hora_Retiro</th>\n",
       "      <th>Ciclo_Estacion_Arribo</th>\n",
       "      <th>Fecha_Arribo</th>\n",
       "      <th>Hora_Arribo</th>\n",
       "      <th>Tiempo_viaje</th>\n",
       "      <th>Inicio</th>\n",
       "    </tr>\n",
       "  </thead>\n",
       "  <tbody>\n",
       "    <tr>\n",
       "      <th>0</th>\n",
       "      <td>F</td>\n",
       "      <td>33.0</td>\n",
       "      <td>8744</td>\n",
       "      <td>52.0</td>\n",
       "      <td>2020-01-01</td>\n",
       "      <td>0:05:06</td>\n",
       "      <td>3</td>\n",
       "      <td>2020-01-01</td>\n",
       "      <td>0:13:00</td>\n",
       "      <td>7.900000</td>\n",
       "      <td>2020-01-01 0:05:06</td>\n",
       "    </tr>\n",
       "    <tr>\n",
       "      <th>1</th>\n",
       "      <td>M</td>\n",
       "      <td>30.0</td>\n",
       "      <td>7865</td>\n",
       "      <td>31.0</td>\n",
       "      <td>2020-01-01</td>\n",
       "      <td>0:09:50</td>\n",
       "      <td>271</td>\n",
       "      <td>2020-01-01</td>\n",
       "      <td>0:21:30</td>\n",
       "      <td>11.666667</td>\n",
       "      <td>2020-01-01 0:09:50</td>\n",
       "    </tr>\n",
       "    <tr>\n",
       "      <th>2</th>\n",
       "      <td>F</td>\n",
       "      <td>36.0</td>\n",
       "      <td>7819</td>\n",
       "      <td>251.0</td>\n",
       "      <td>2020-01-01</td>\n",
       "      <td>0:13:25</td>\n",
       "      <td>150</td>\n",
       "      <td>2020-01-01</td>\n",
       "      <td>0:26:10</td>\n",
       "      <td>12.750000</td>\n",
       "      <td>2020-01-01 0:13:25</td>\n",
       "    </tr>\n",
       "    <tr>\n",
       "      <th>3</th>\n",
       "      <td>F</td>\n",
       "      <td>33.0</td>\n",
       "      <td>11258</td>\n",
       "      <td>3.0</td>\n",
       "      <td>2020-01-01</td>\n",
       "      <td>0:15:22</td>\n",
       "      <td>1</td>\n",
       "      <td>2020-01-01</td>\n",
       "      <td>0:25:29</td>\n",
       "      <td>10.116667</td>\n",
       "      <td>2020-01-01 0:15:22</td>\n",
       "    </tr>\n",
       "    <tr>\n",
       "      <th>4</th>\n",
       "      <td>M</td>\n",
       "      <td>29.0</td>\n",
       "      <td>7722</td>\n",
       "      <td>136.0</td>\n",
       "      <td>2020-01-01</td>\n",
       "      <td>0:18:42</td>\n",
       "      <td>63</td>\n",
       "      <td>2020-01-01</td>\n",
       "      <td>0:24:01</td>\n",
       "      <td>5.316667</td>\n",
       "      <td>2020-01-01 0:18:42</td>\n",
       "    </tr>\n",
       "  </tbody>\n",
       "</table>\n",
       "</div>"
      ],
      "text/plain": [
       "  Genero_Usuario  Edad_Usuario   Bici  Ciclo_Estacion_Retiro Fecha_Retiro  \\\n",
       "0              F          33.0   8744                   52.0   2020-01-01   \n",
       "1              M          30.0   7865                   31.0   2020-01-01   \n",
       "2              F          36.0   7819                  251.0   2020-01-01   \n",
       "3              F          33.0  11258                    3.0   2020-01-01   \n",
       "4              M          29.0   7722                  136.0   2020-01-01   \n",
       "\n",
       "  Hora_Retiro  Ciclo_Estacion_Arribo Fecha_Arribo Hora_Arribo  Tiempo_viaje  \\\n",
       "0     0:05:06                      3   2020-01-01     0:13:00      7.900000   \n",
       "1     0:09:50                    271   2020-01-01     0:21:30     11.666667   \n",
       "2     0:13:25                    150   2020-01-01     0:26:10     12.750000   \n",
       "3     0:15:22                      1   2020-01-01     0:25:29     10.116667   \n",
       "4     0:18:42                     63   2020-01-01     0:24:01      5.316667   \n",
       "\n",
       "               Inicio  \n",
       "0  2020-01-01 0:05:06  \n",
       "1  2020-01-01 0:09:50  \n",
       "2  2020-01-01 0:13:25  \n",
       "3  2020-01-01 0:15:22  \n",
       "4  2020-01-01 0:18:42  "
      ]
     },
     "execution_count": 23,
     "metadata": {},
     "output_type": "execute_result"
    }
   ],
   "source": [
    "eco_2020['Inicio'] = eco_2020['Fecha_Retiro'] + ' ' + eco_2020['Hora_Retiro']\n",
    "eco_2020.head()"
   ]
  },
  {
   "cell_type": "code",
   "execution_count": 24,
   "id": "a6df6136",
   "metadata": {},
   "outputs": [
    {
     "data": {
      "application/vnd.microsoft.datawrangler.viewer.v0+json": {
       "columns": [
        {
         "name": "index",
         "rawType": "int64",
         "type": "integer"
        },
        {
         "name": "Genero_Usuario",
         "rawType": "object",
         "type": "string"
        },
        {
         "name": "Edad_Usuario",
         "rawType": "float64",
         "type": "float"
        },
        {
         "name": "Bici",
         "rawType": "int64",
         "type": "integer"
        },
        {
         "name": "Ciclo_Estacion_Retiro",
         "rawType": "float64",
         "type": "float"
        },
        {
         "name": "Fecha_Retiro",
         "rawType": "object",
         "type": "string"
        },
        {
         "name": "Hora_Retiro",
         "rawType": "object",
         "type": "string"
        },
        {
         "name": "Ciclo_Estacion_Arribo",
         "rawType": "int64",
         "type": "integer"
        },
        {
         "name": "Fecha_Arribo",
         "rawType": "object",
         "type": "string"
        },
        {
         "name": "Hora_Arribo",
         "rawType": "object",
         "type": "string"
        },
        {
         "name": "Tiempo_viaje",
         "rawType": "float64",
         "type": "float"
        },
        {
         "name": "Inicio",
         "rawType": "object",
         "type": "string"
        },
        {
         "name": "Fin",
         "rawType": "object",
         "type": "string"
        }
       ],
       "conversionMethod": "pd.DataFrame",
       "ref": "0eee3aaf-b1fb-4b23-bd2c-8846364cf019",
       "rows": [
        [
         "0",
         "F",
         "33.0",
         "8744",
         "52.0",
         "2020-01-01",
         "0:05:06",
         "3",
         "2020-01-01",
         "0:13:00",
         "7.9",
         "2020-01-01 0:05:06",
         "2020-01-01 0:13:00"
        ],
        [
         "1",
         "M",
         "30.0",
         "7865",
         "31.0",
         "2020-01-01",
         "0:09:50",
         "271",
         "2020-01-01",
         "0:21:30",
         "11.666666666666666",
         "2020-01-01 0:09:50",
         "2020-01-01 0:21:30"
        ],
        [
         "2",
         "F",
         "36.0",
         "7819",
         "251.0",
         "2020-01-01",
         "0:13:25",
         "150",
         "2020-01-01",
         "0:26:10",
         "12.75",
         "2020-01-01 0:13:25",
         "2020-01-01 0:26:10"
        ],
        [
         "3",
         "F",
         "33.0",
         "11258",
         "3.0",
         "2020-01-01",
         "0:15:22",
         "1",
         "2020-01-01",
         "0:25:29",
         "10.116666666666667",
         "2020-01-01 0:15:22",
         "2020-01-01 0:25:29"
        ],
        [
         "4",
         "M",
         "29.0",
         "7722",
         "136.0",
         "2020-01-01",
         "0:18:42",
         "63",
         "2020-01-01",
         "0:24:01",
         "5.316666666666666",
         "2020-01-01 0:18:42",
         "2020-01-01 0:24:01"
        ]
       ],
       "shape": {
        "columns": 12,
        "rows": 5
       }
      },
      "text/html": [
       "<div>\n",
       "<style scoped>\n",
       "    .dataframe tbody tr th:only-of-type {\n",
       "        vertical-align: middle;\n",
       "    }\n",
       "\n",
       "    .dataframe tbody tr th {\n",
       "        vertical-align: top;\n",
       "    }\n",
       "\n",
       "    .dataframe thead th {\n",
       "        text-align: right;\n",
       "    }\n",
       "</style>\n",
       "<table border=\"1\" class=\"dataframe\">\n",
       "  <thead>\n",
       "    <tr style=\"text-align: right;\">\n",
       "      <th></th>\n",
       "      <th>Genero_Usuario</th>\n",
       "      <th>Edad_Usuario</th>\n",
       "      <th>Bici</th>\n",
       "      <th>Ciclo_Estacion_Retiro</th>\n",
       "      <th>Fecha_Retiro</th>\n",
       "      <th>Hora_Retiro</th>\n",
       "      <th>Ciclo_Estacion_Arribo</th>\n",
       "      <th>Fecha_Arribo</th>\n",
       "      <th>Hora_Arribo</th>\n",
       "      <th>Tiempo_viaje</th>\n",
       "      <th>Inicio</th>\n",
       "      <th>Fin</th>\n",
       "    </tr>\n",
       "  </thead>\n",
       "  <tbody>\n",
       "    <tr>\n",
       "      <th>0</th>\n",
       "      <td>F</td>\n",
       "      <td>33.0</td>\n",
       "      <td>8744</td>\n",
       "      <td>52.0</td>\n",
       "      <td>2020-01-01</td>\n",
       "      <td>0:05:06</td>\n",
       "      <td>3</td>\n",
       "      <td>2020-01-01</td>\n",
       "      <td>0:13:00</td>\n",
       "      <td>7.900000</td>\n",
       "      <td>2020-01-01 0:05:06</td>\n",
       "      <td>2020-01-01 0:13:00</td>\n",
       "    </tr>\n",
       "    <tr>\n",
       "      <th>1</th>\n",
       "      <td>M</td>\n",
       "      <td>30.0</td>\n",
       "      <td>7865</td>\n",
       "      <td>31.0</td>\n",
       "      <td>2020-01-01</td>\n",
       "      <td>0:09:50</td>\n",
       "      <td>271</td>\n",
       "      <td>2020-01-01</td>\n",
       "      <td>0:21:30</td>\n",
       "      <td>11.666667</td>\n",
       "      <td>2020-01-01 0:09:50</td>\n",
       "      <td>2020-01-01 0:21:30</td>\n",
       "    </tr>\n",
       "    <tr>\n",
       "      <th>2</th>\n",
       "      <td>F</td>\n",
       "      <td>36.0</td>\n",
       "      <td>7819</td>\n",
       "      <td>251.0</td>\n",
       "      <td>2020-01-01</td>\n",
       "      <td>0:13:25</td>\n",
       "      <td>150</td>\n",
       "      <td>2020-01-01</td>\n",
       "      <td>0:26:10</td>\n",
       "      <td>12.750000</td>\n",
       "      <td>2020-01-01 0:13:25</td>\n",
       "      <td>2020-01-01 0:26:10</td>\n",
       "    </tr>\n",
       "    <tr>\n",
       "      <th>3</th>\n",
       "      <td>F</td>\n",
       "      <td>33.0</td>\n",
       "      <td>11258</td>\n",
       "      <td>3.0</td>\n",
       "      <td>2020-01-01</td>\n",
       "      <td>0:15:22</td>\n",
       "      <td>1</td>\n",
       "      <td>2020-01-01</td>\n",
       "      <td>0:25:29</td>\n",
       "      <td>10.116667</td>\n",
       "      <td>2020-01-01 0:15:22</td>\n",
       "      <td>2020-01-01 0:25:29</td>\n",
       "    </tr>\n",
       "    <tr>\n",
       "      <th>4</th>\n",
       "      <td>M</td>\n",
       "      <td>29.0</td>\n",
       "      <td>7722</td>\n",
       "      <td>136.0</td>\n",
       "      <td>2020-01-01</td>\n",
       "      <td>0:18:42</td>\n",
       "      <td>63</td>\n",
       "      <td>2020-01-01</td>\n",
       "      <td>0:24:01</td>\n",
       "      <td>5.316667</td>\n",
       "      <td>2020-01-01 0:18:42</td>\n",
       "      <td>2020-01-01 0:24:01</td>\n",
       "    </tr>\n",
       "  </tbody>\n",
       "</table>\n",
       "</div>"
      ],
      "text/plain": [
       "  Genero_Usuario  Edad_Usuario   Bici  Ciclo_Estacion_Retiro Fecha_Retiro  \\\n",
       "0              F          33.0   8744                   52.0   2020-01-01   \n",
       "1              M          30.0   7865                   31.0   2020-01-01   \n",
       "2              F          36.0   7819                  251.0   2020-01-01   \n",
       "3              F          33.0  11258                    3.0   2020-01-01   \n",
       "4              M          29.0   7722                  136.0   2020-01-01   \n",
       "\n",
       "  Hora_Retiro  Ciclo_Estacion_Arribo Fecha_Arribo Hora_Arribo  Tiempo_viaje  \\\n",
       "0     0:05:06                      3   2020-01-01     0:13:00      7.900000   \n",
       "1     0:09:50                    271   2020-01-01     0:21:30     11.666667   \n",
       "2     0:13:25                    150   2020-01-01     0:26:10     12.750000   \n",
       "3     0:15:22                      1   2020-01-01     0:25:29     10.116667   \n",
       "4     0:18:42                     63   2020-01-01     0:24:01      5.316667   \n",
       "\n",
       "               Inicio                 Fin  \n",
       "0  2020-01-01 0:05:06  2020-01-01 0:13:00  \n",
       "1  2020-01-01 0:09:50  2020-01-01 0:21:30  \n",
       "2  2020-01-01 0:13:25  2020-01-01 0:26:10  \n",
       "3  2020-01-01 0:15:22  2020-01-01 0:25:29  \n",
       "4  2020-01-01 0:18:42  2020-01-01 0:24:01  "
      ]
     },
     "execution_count": 24,
     "metadata": {},
     "output_type": "execute_result"
    }
   ],
   "source": [
    "eco_2020['Fin'] = eco_2020['Fecha_Arribo'] + ' ' + eco_2020['Hora_Arribo']\n",
    "eco_2020.head()"
   ]
  },
  {
   "cell_type": "code",
   "execution_count": 25,
   "id": "f7c342f8",
   "metadata": {},
   "outputs": [
    {
     "data": {
      "application/vnd.microsoft.datawrangler.viewer.v0+json": {
       "columns": [
        {
         "name": "index",
         "rawType": "int64",
         "type": "integer"
        },
        {
         "name": "Genero_Usuario",
         "rawType": "object",
         "type": "string"
        },
        {
         "name": "Edad_Usuario",
         "rawType": "float64",
         "type": "float"
        },
        {
         "name": "Bici",
         "rawType": "int64",
         "type": "integer"
        },
        {
         "name": "Ciclo_Estacion_Retiro",
         "rawType": "float64",
         "type": "float"
        },
        {
         "name": "Fecha_Retiro",
         "rawType": "object",
         "type": "string"
        },
        {
         "name": "Hora_Retiro",
         "rawType": "object",
         "type": "string"
        },
        {
         "name": "Ciclo_Estacion_Arribo",
         "rawType": "int64",
         "type": "integer"
        },
        {
         "name": "Fecha_Arribo",
         "rawType": "object",
         "type": "string"
        },
        {
         "name": "Hora_Arribo",
         "rawType": "object",
         "type": "string"
        },
        {
         "name": "Tiempo_viaje",
         "rawType": "float64",
         "type": "float"
        },
        {
         "name": "Inicio",
         "rawType": "object",
         "type": "string"
        },
        {
         "name": "Fin",
         "rawType": "object",
         "type": "string"
        }
       ],
       "conversionMethod": "pd.DataFrame",
       "ref": "7fcb162d-0571-4dc6-bd1f-29109436c849",
       "rows": [
        [
         "0",
         "F",
         "33.0",
         "8744",
         "52.0",
         "2020-01-01",
         "0:05:06",
         "3",
         "2020-01-01",
         "0:13:00",
         "7.9",
         "2020-01-01 0:05:06",
         "2020-01-01 0:13:00"
        ],
        [
         "1",
         "M",
         "30.0",
         "7865",
         "31.0",
         "2020-01-01",
         "0:09:50",
         "271",
         "2020-01-01",
         "0:21:30",
         "11.666666666666666",
         "2020-01-01 0:09:50",
         "2020-01-01 0:21:30"
        ],
        [
         "2",
         "F",
         "36.0",
         "7819",
         "251.0",
         "2020-01-01",
         "0:13:25",
         "150",
         "2020-01-01",
         "0:26:10",
         "12.75",
         "2020-01-01 0:13:25",
         "2020-01-01 0:26:10"
        ],
        [
         "3",
         "F",
         "33.0",
         "11258",
         "3.0",
         "2020-01-01",
         "0:15:22",
         "1",
         "2020-01-01",
         "0:25:29",
         "10.116666666666667",
         "2020-01-01 0:15:22",
         "2020-01-01 0:25:29"
        ],
        [
         "4",
         "M",
         "29.0",
         "7722",
         "136.0",
         "2020-01-01",
         "0:18:42",
         "63",
         "2020-01-01",
         "0:24:01",
         "5.316666666666666",
         "2020-01-01 0:18:42",
         "2020-01-01 0:24:01"
        ]
       ],
       "shape": {
        "columns": 12,
        "rows": 5
       }
      },
      "text/html": [
       "<div>\n",
       "<style scoped>\n",
       "    .dataframe tbody tr th:only-of-type {\n",
       "        vertical-align: middle;\n",
       "    }\n",
       "\n",
       "    .dataframe tbody tr th {\n",
       "        vertical-align: top;\n",
       "    }\n",
       "\n",
       "    .dataframe thead th {\n",
       "        text-align: right;\n",
       "    }\n",
       "</style>\n",
       "<table border=\"1\" class=\"dataframe\">\n",
       "  <thead>\n",
       "    <tr style=\"text-align: right;\">\n",
       "      <th></th>\n",
       "      <th>Genero_Usuario</th>\n",
       "      <th>Edad_Usuario</th>\n",
       "      <th>Bici</th>\n",
       "      <th>Ciclo_Estacion_Retiro</th>\n",
       "      <th>Fecha_Retiro</th>\n",
       "      <th>Hora_Retiro</th>\n",
       "      <th>Ciclo_Estacion_Arribo</th>\n",
       "      <th>Fecha_Arribo</th>\n",
       "      <th>Hora_Arribo</th>\n",
       "      <th>Tiempo_viaje</th>\n",
       "      <th>Inicio</th>\n",
       "      <th>Fin</th>\n",
       "    </tr>\n",
       "  </thead>\n",
       "  <tbody>\n",
       "    <tr>\n",
       "      <th>0</th>\n",
       "      <td>F</td>\n",
       "      <td>33.0</td>\n",
       "      <td>8744</td>\n",
       "      <td>52.0</td>\n",
       "      <td>2020-01-01</td>\n",
       "      <td>0:05:06</td>\n",
       "      <td>3</td>\n",
       "      <td>2020-01-01</td>\n",
       "      <td>0:13:00</td>\n",
       "      <td>7.900000</td>\n",
       "      <td>2020-01-01 0:05:06</td>\n",
       "      <td>2020-01-01 0:13:00</td>\n",
       "    </tr>\n",
       "    <tr>\n",
       "      <th>1</th>\n",
       "      <td>M</td>\n",
       "      <td>30.0</td>\n",
       "      <td>7865</td>\n",
       "      <td>31.0</td>\n",
       "      <td>2020-01-01</td>\n",
       "      <td>0:09:50</td>\n",
       "      <td>271</td>\n",
       "      <td>2020-01-01</td>\n",
       "      <td>0:21:30</td>\n",
       "      <td>11.666667</td>\n",
       "      <td>2020-01-01 0:09:50</td>\n",
       "      <td>2020-01-01 0:21:30</td>\n",
       "    </tr>\n",
       "    <tr>\n",
       "      <th>2</th>\n",
       "      <td>F</td>\n",
       "      <td>36.0</td>\n",
       "      <td>7819</td>\n",
       "      <td>251.0</td>\n",
       "      <td>2020-01-01</td>\n",
       "      <td>0:13:25</td>\n",
       "      <td>150</td>\n",
       "      <td>2020-01-01</td>\n",
       "      <td>0:26:10</td>\n",
       "      <td>12.750000</td>\n",
       "      <td>2020-01-01 0:13:25</td>\n",
       "      <td>2020-01-01 0:26:10</td>\n",
       "    </tr>\n",
       "    <tr>\n",
       "      <th>3</th>\n",
       "      <td>F</td>\n",
       "      <td>33.0</td>\n",
       "      <td>11258</td>\n",
       "      <td>3.0</td>\n",
       "      <td>2020-01-01</td>\n",
       "      <td>0:15:22</td>\n",
       "      <td>1</td>\n",
       "      <td>2020-01-01</td>\n",
       "      <td>0:25:29</td>\n",
       "      <td>10.116667</td>\n",
       "      <td>2020-01-01 0:15:22</td>\n",
       "      <td>2020-01-01 0:25:29</td>\n",
       "    </tr>\n",
       "    <tr>\n",
       "      <th>4</th>\n",
       "      <td>M</td>\n",
       "      <td>29.0</td>\n",
       "      <td>7722</td>\n",
       "      <td>136.0</td>\n",
       "      <td>2020-01-01</td>\n",
       "      <td>0:18:42</td>\n",
       "      <td>63</td>\n",
       "      <td>2020-01-01</td>\n",
       "      <td>0:24:01</td>\n",
       "      <td>5.316667</td>\n",
       "      <td>2020-01-01 0:18:42</td>\n",
       "      <td>2020-01-01 0:24:01</td>\n",
       "    </tr>\n",
       "  </tbody>\n",
       "</table>\n",
       "</div>"
      ],
      "text/plain": [
       "  Genero_Usuario  Edad_Usuario   Bici  Ciclo_Estacion_Retiro Fecha_Retiro  \\\n",
       "0              F          33.0   8744                   52.0   2020-01-01   \n",
       "1              M          30.0   7865                   31.0   2020-01-01   \n",
       "2              F          36.0   7819                  251.0   2020-01-01   \n",
       "3              F          33.0  11258                    3.0   2020-01-01   \n",
       "4              M          29.0   7722                  136.0   2020-01-01   \n",
       "\n",
       "  Hora_Retiro  Ciclo_Estacion_Arribo Fecha_Arribo Hora_Arribo  Tiempo_viaje  \\\n",
       "0     0:05:06                      3   2020-01-01     0:13:00      7.900000   \n",
       "1     0:09:50                    271   2020-01-01     0:21:30     11.666667   \n",
       "2     0:13:25                    150   2020-01-01     0:26:10     12.750000   \n",
       "3     0:15:22                      1   2020-01-01     0:25:29     10.116667   \n",
       "4     0:18:42                     63   2020-01-01     0:24:01      5.316667   \n",
       "\n",
       "               Inicio                 Fin  \n",
       "0  2020-01-01 0:05:06  2020-01-01 0:13:00  \n",
       "1  2020-01-01 0:09:50  2020-01-01 0:21:30  \n",
       "2  2020-01-01 0:13:25  2020-01-01 0:26:10  \n",
       "3  2020-01-01 0:15:22  2020-01-01 0:25:29  \n",
       "4  2020-01-01 0:18:42  2020-01-01 0:24:01  "
      ]
     },
     "execution_count": 25,
     "metadata": {},
     "output_type": "execute_result"
    }
   ],
   "source": [
    "eco_2020.to_csv('/Users/antoniomendez/Desktop/Tesis/Datos/datos_limpios/ecobici/ecobici_2020.csv', index = False)\n",
    "eco_2020 = load_data('ecobici/ecobici_2020.csv', flag_dir)\n",
    "eco_2020.head()"
   ]
  },
  {
   "cell_type": "code",
   "execution_count": 26,
   "id": "6650f13b",
   "metadata": {},
   "outputs": [],
   "source": [
    "del eco_2020"
   ]
  },
  {
   "cell_type": "code",
   "execution_count": 27,
   "id": "7719913c",
   "metadata": {},
   "outputs": [
    {
     "data": {
      "application/vnd.microsoft.datawrangler.viewer.v0+json": {
       "columns": [
        {
         "name": "index",
         "rawType": "int64",
         "type": "integer"
        },
        {
         "name": "Genero_Usuario",
         "rawType": "object",
         "type": "string"
        },
        {
         "name": "Edad_Usuario",
         "rawType": "float64",
         "type": "float"
        },
        {
         "name": "Bici",
         "rawType": "int64",
         "type": "integer"
        },
        {
         "name": "Ciclo_Estacion_Retiro",
         "rawType": "int64",
         "type": "integer"
        },
        {
         "name": "Fecha_Retiro",
         "rawType": "object",
         "type": "string"
        },
        {
         "name": "Hora_Retiro",
         "rawType": "object",
         "type": "string"
        },
        {
         "name": "Ciclo_Estacion_Arribo",
         "rawType": "int64",
         "type": "integer"
        },
        {
         "name": "Fecha_Arribo",
         "rawType": "object",
         "type": "string"
        },
        {
         "name": "Hora_Arribo",
         "rawType": "object",
         "type": "string"
        },
        {
         "name": "Tiempo_viaje",
         "rawType": "float64",
         "type": "float"
        }
       ],
       "conversionMethod": "pd.DataFrame",
       "ref": "7b52aa5e-2669-4b4e-a05c-1f7cbfc6e988",
       "rows": [
        [
         "0",
         "M",
         "32.0",
         "7608",
         "18",
         "2021-01-01",
         "07:05:04",
         "143",
         "2021-01-01",
         "07:13:25",
         "8.35"
        ],
        [
         "1",
         "M",
         "24.0",
         "8324",
         "76",
         "2021-01-01",
         "09:03:35",
         "76",
         "2021-01-01",
         "09:08:08",
         "4.55"
        ],
        [
         "2",
         "F",
         "35.0",
         "6787",
         "281",
         "2021-01-01",
         "09:22:41",
         "61",
         "2021-01-01",
         "09:50:03",
         "27.366666666666667"
        ],
        [
         "3",
         "F",
         "34.0",
         "11875",
         "405",
         "2021-01-01",
         "10:21:21",
         "431",
         "2021-01-01",
         "10:27:16",
         "5.916666666666667"
        ],
        [
         "4",
         "M",
         "26.0",
         "8164",
         "30",
         "2021-01-01",
         "11:52:38",
         "126",
         "2021-01-01",
         "12:07:30",
         "14.866666666666667"
        ]
       ],
       "shape": {
        "columns": 10,
        "rows": 5
       }
      },
      "text/html": [
       "<div>\n",
       "<style scoped>\n",
       "    .dataframe tbody tr th:only-of-type {\n",
       "        vertical-align: middle;\n",
       "    }\n",
       "\n",
       "    .dataframe tbody tr th {\n",
       "        vertical-align: top;\n",
       "    }\n",
       "\n",
       "    .dataframe thead th {\n",
       "        text-align: right;\n",
       "    }\n",
       "</style>\n",
       "<table border=\"1\" class=\"dataframe\">\n",
       "  <thead>\n",
       "    <tr style=\"text-align: right;\">\n",
       "      <th></th>\n",
       "      <th>Genero_Usuario</th>\n",
       "      <th>Edad_Usuario</th>\n",
       "      <th>Bici</th>\n",
       "      <th>Ciclo_Estacion_Retiro</th>\n",
       "      <th>Fecha_Retiro</th>\n",
       "      <th>Hora_Retiro</th>\n",
       "      <th>Ciclo_Estacion_Arribo</th>\n",
       "      <th>Fecha_Arribo</th>\n",
       "      <th>Hora_Arribo</th>\n",
       "      <th>Tiempo_viaje</th>\n",
       "    </tr>\n",
       "  </thead>\n",
       "  <tbody>\n",
       "    <tr>\n",
       "      <th>0</th>\n",
       "      <td>M</td>\n",
       "      <td>32.0</td>\n",
       "      <td>7608</td>\n",
       "      <td>18</td>\n",
       "      <td>2021-01-01</td>\n",
       "      <td>07:05:04</td>\n",
       "      <td>143</td>\n",
       "      <td>2021-01-01</td>\n",
       "      <td>07:13:25</td>\n",
       "      <td>8.350000</td>\n",
       "    </tr>\n",
       "    <tr>\n",
       "      <th>1</th>\n",
       "      <td>M</td>\n",
       "      <td>24.0</td>\n",
       "      <td>8324</td>\n",
       "      <td>76</td>\n",
       "      <td>2021-01-01</td>\n",
       "      <td>09:03:35</td>\n",
       "      <td>76</td>\n",
       "      <td>2021-01-01</td>\n",
       "      <td>09:08:08</td>\n",
       "      <td>4.550000</td>\n",
       "    </tr>\n",
       "    <tr>\n",
       "      <th>2</th>\n",
       "      <td>F</td>\n",
       "      <td>35.0</td>\n",
       "      <td>6787</td>\n",
       "      <td>281</td>\n",
       "      <td>2021-01-01</td>\n",
       "      <td>09:22:41</td>\n",
       "      <td>61</td>\n",
       "      <td>2021-01-01</td>\n",
       "      <td>09:50:03</td>\n",
       "      <td>27.366667</td>\n",
       "    </tr>\n",
       "    <tr>\n",
       "      <th>3</th>\n",
       "      <td>F</td>\n",
       "      <td>34.0</td>\n",
       "      <td>11875</td>\n",
       "      <td>405</td>\n",
       "      <td>2021-01-01</td>\n",
       "      <td>10:21:21</td>\n",
       "      <td>431</td>\n",
       "      <td>2021-01-01</td>\n",
       "      <td>10:27:16</td>\n",
       "      <td>5.916667</td>\n",
       "    </tr>\n",
       "    <tr>\n",
       "      <th>4</th>\n",
       "      <td>M</td>\n",
       "      <td>26.0</td>\n",
       "      <td>8164</td>\n",
       "      <td>30</td>\n",
       "      <td>2021-01-01</td>\n",
       "      <td>11:52:38</td>\n",
       "      <td>126</td>\n",
       "      <td>2021-01-01</td>\n",
       "      <td>12:07:30</td>\n",
       "      <td>14.866667</td>\n",
       "    </tr>\n",
       "  </tbody>\n",
       "</table>\n",
       "</div>"
      ],
      "text/plain": [
       "  Genero_Usuario  Edad_Usuario   Bici  Ciclo_Estacion_Retiro Fecha_Retiro  \\\n",
       "0              M          32.0   7608                     18   2021-01-01   \n",
       "1              M          24.0   8324                     76   2021-01-01   \n",
       "2              F          35.0   6787                    281   2021-01-01   \n",
       "3              F          34.0  11875                    405   2021-01-01   \n",
       "4              M          26.0   8164                     30   2021-01-01   \n",
       "\n",
       "  Hora_Retiro  Ciclo_Estacion_Arribo Fecha_Arribo Hora_Arribo  Tiempo_viaje  \n",
       "0    07:05:04                    143   2021-01-01    07:13:25      8.350000  \n",
       "1    09:03:35                     76   2021-01-01    09:08:08      4.550000  \n",
       "2    09:22:41                     61   2021-01-01    09:50:03     27.366667  \n",
       "3    10:21:21                    431   2021-01-01    10:27:16      5.916667  \n",
       "4    11:52:38                    126   2021-01-01    12:07:30     14.866667  "
      ]
     },
     "execution_count": 27,
     "metadata": {},
     "output_type": "execute_result"
    }
   ],
   "source": [
    "eco_2021 = load_data('ecobici/ecobici_2021.csv', flag_dir)\n",
    "eco_2021.head()"
   ]
  },
  {
   "cell_type": "code",
   "execution_count": 28,
   "id": "c74107c9",
   "metadata": {},
   "outputs": [
    {
     "data": {
      "application/vnd.microsoft.datawrangler.viewer.v0+json": {
       "columns": [
        {
         "name": "index",
         "rawType": "int64",
         "type": "integer"
        },
        {
         "name": "Genero_Usuario",
         "rawType": "object",
         "type": "string"
        },
        {
         "name": "Edad_Usuario",
         "rawType": "float64",
         "type": "float"
        },
        {
         "name": "Bici",
         "rawType": "int64",
         "type": "integer"
        },
        {
         "name": "Ciclo_Estacion_Retiro",
         "rawType": "int64",
         "type": "integer"
        },
        {
         "name": "Fecha_Retiro",
         "rawType": "object",
         "type": "string"
        },
        {
         "name": "Hora_Retiro",
         "rawType": "object",
         "type": "string"
        },
        {
         "name": "Ciclo_Estacion_Arribo",
         "rawType": "int64",
         "type": "integer"
        },
        {
         "name": "Fecha_Arribo",
         "rawType": "object",
         "type": "string"
        },
        {
         "name": "Hora_Arribo",
         "rawType": "object",
         "type": "string"
        },
        {
         "name": "Tiempo_viaje",
         "rawType": "float64",
         "type": "float"
        },
        {
         "name": "Inicio",
         "rawType": "object",
         "type": "string"
        }
       ],
       "conversionMethod": "pd.DataFrame",
       "ref": "134b422a-907a-40cf-b6dd-5057322dbdbe",
       "rows": [
        [
         "0",
         "M",
         "32.0",
         "7608",
         "18",
         "2021-01-01",
         "07:05:04",
         "143",
         "2021-01-01",
         "07:13:25",
         "8.35",
         "2021-01-01 07:05:04"
        ],
        [
         "1",
         "M",
         "24.0",
         "8324",
         "76",
         "2021-01-01",
         "09:03:35",
         "76",
         "2021-01-01",
         "09:08:08",
         "4.55",
         "2021-01-01 09:03:35"
        ],
        [
         "2",
         "F",
         "35.0",
         "6787",
         "281",
         "2021-01-01",
         "09:22:41",
         "61",
         "2021-01-01",
         "09:50:03",
         "27.366666666666667",
         "2021-01-01 09:22:41"
        ],
        [
         "3",
         "F",
         "34.0",
         "11875",
         "405",
         "2021-01-01",
         "10:21:21",
         "431",
         "2021-01-01",
         "10:27:16",
         "5.916666666666667",
         "2021-01-01 10:21:21"
        ],
        [
         "4",
         "M",
         "26.0",
         "8164",
         "30",
         "2021-01-01",
         "11:52:38",
         "126",
         "2021-01-01",
         "12:07:30",
         "14.866666666666667",
         "2021-01-01 11:52:38"
        ]
       ],
       "shape": {
        "columns": 11,
        "rows": 5
       }
      },
      "text/html": [
       "<div>\n",
       "<style scoped>\n",
       "    .dataframe tbody tr th:only-of-type {\n",
       "        vertical-align: middle;\n",
       "    }\n",
       "\n",
       "    .dataframe tbody tr th {\n",
       "        vertical-align: top;\n",
       "    }\n",
       "\n",
       "    .dataframe thead th {\n",
       "        text-align: right;\n",
       "    }\n",
       "</style>\n",
       "<table border=\"1\" class=\"dataframe\">\n",
       "  <thead>\n",
       "    <tr style=\"text-align: right;\">\n",
       "      <th></th>\n",
       "      <th>Genero_Usuario</th>\n",
       "      <th>Edad_Usuario</th>\n",
       "      <th>Bici</th>\n",
       "      <th>Ciclo_Estacion_Retiro</th>\n",
       "      <th>Fecha_Retiro</th>\n",
       "      <th>Hora_Retiro</th>\n",
       "      <th>Ciclo_Estacion_Arribo</th>\n",
       "      <th>Fecha_Arribo</th>\n",
       "      <th>Hora_Arribo</th>\n",
       "      <th>Tiempo_viaje</th>\n",
       "      <th>Inicio</th>\n",
       "    </tr>\n",
       "  </thead>\n",
       "  <tbody>\n",
       "    <tr>\n",
       "      <th>0</th>\n",
       "      <td>M</td>\n",
       "      <td>32.0</td>\n",
       "      <td>7608</td>\n",
       "      <td>18</td>\n",
       "      <td>2021-01-01</td>\n",
       "      <td>07:05:04</td>\n",
       "      <td>143</td>\n",
       "      <td>2021-01-01</td>\n",
       "      <td>07:13:25</td>\n",
       "      <td>8.350000</td>\n",
       "      <td>2021-01-01 07:05:04</td>\n",
       "    </tr>\n",
       "    <tr>\n",
       "      <th>1</th>\n",
       "      <td>M</td>\n",
       "      <td>24.0</td>\n",
       "      <td>8324</td>\n",
       "      <td>76</td>\n",
       "      <td>2021-01-01</td>\n",
       "      <td>09:03:35</td>\n",
       "      <td>76</td>\n",
       "      <td>2021-01-01</td>\n",
       "      <td>09:08:08</td>\n",
       "      <td>4.550000</td>\n",
       "      <td>2021-01-01 09:03:35</td>\n",
       "    </tr>\n",
       "    <tr>\n",
       "      <th>2</th>\n",
       "      <td>F</td>\n",
       "      <td>35.0</td>\n",
       "      <td>6787</td>\n",
       "      <td>281</td>\n",
       "      <td>2021-01-01</td>\n",
       "      <td>09:22:41</td>\n",
       "      <td>61</td>\n",
       "      <td>2021-01-01</td>\n",
       "      <td>09:50:03</td>\n",
       "      <td>27.366667</td>\n",
       "      <td>2021-01-01 09:22:41</td>\n",
       "    </tr>\n",
       "    <tr>\n",
       "      <th>3</th>\n",
       "      <td>F</td>\n",
       "      <td>34.0</td>\n",
       "      <td>11875</td>\n",
       "      <td>405</td>\n",
       "      <td>2021-01-01</td>\n",
       "      <td>10:21:21</td>\n",
       "      <td>431</td>\n",
       "      <td>2021-01-01</td>\n",
       "      <td>10:27:16</td>\n",
       "      <td>5.916667</td>\n",
       "      <td>2021-01-01 10:21:21</td>\n",
       "    </tr>\n",
       "    <tr>\n",
       "      <th>4</th>\n",
       "      <td>M</td>\n",
       "      <td>26.0</td>\n",
       "      <td>8164</td>\n",
       "      <td>30</td>\n",
       "      <td>2021-01-01</td>\n",
       "      <td>11:52:38</td>\n",
       "      <td>126</td>\n",
       "      <td>2021-01-01</td>\n",
       "      <td>12:07:30</td>\n",
       "      <td>14.866667</td>\n",
       "      <td>2021-01-01 11:52:38</td>\n",
       "    </tr>\n",
       "  </tbody>\n",
       "</table>\n",
       "</div>"
      ],
      "text/plain": [
       "  Genero_Usuario  Edad_Usuario   Bici  Ciclo_Estacion_Retiro Fecha_Retiro  \\\n",
       "0              M          32.0   7608                     18   2021-01-01   \n",
       "1              M          24.0   8324                     76   2021-01-01   \n",
       "2              F          35.0   6787                    281   2021-01-01   \n",
       "3              F          34.0  11875                    405   2021-01-01   \n",
       "4              M          26.0   8164                     30   2021-01-01   \n",
       "\n",
       "  Hora_Retiro  Ciclo_Estacion_Arribo Fecha_Arribo Hora_Arribo  Tiempo_viaje  \\\n",
       "0    07:05:04                    143   2021-01-01    07:13:25      8.350000   \n",
       "1    09:03:35                     76   2021-01-01    09:08:08      4.550000   \n",
       "2    09:22:41                     61   2021-01-01    09:50:03     27.366667   \n",
       "3    10:21:21                    431   2021-01-01    10:27:16      5.916667   \n",
       "4    11:52:38                    126   2021-01-01    12:07:30     14.866667   \n",
       "\n",
       "                Inicio  \n",
       "0  2021-01-01 07:05:04  \n",
       "1  2021-01-01 09:03:35  \n",
       "2  2021-01-01 09:22:41  \n",
       "3  2021-01-01 10:21:21  \n",
       "4  2021-01-01 11:52:38  "
      ]
     },
     "execution_count": 28,
     "metadata": {},
     "output_type": "execute_result"
    }
   ],
   "source": [
    "eco_2021['Inicio'] = eco_2021['Fecha_Retiro'] + ' ' + eco_2021['Hora_Retiro']\n",
    "eco_2021.head()"
   ]
  },
  {
   "cell_type": "code",
   "execution_count": 29,
   "id": "bf3a091e",
   "metadata": {},
   "outputs": [
    {
     "data": {
      "application/vnd.microsoft.datawrangler.viewer.v0+json": {
       "columns": [
        {
         "name": "index",
         "rawType": "int64",
         "type": "integer"
        },
        {
         "name": "Genero_Usuario",
         "rawType": "object",
         "type": "string"
        },
        {
         "name": "Edad_Usuario",
         "rawType": "float64",
         "type": "float"
        },
        {
         "name": "Bici",
         "rawType": "int64",
         "type": "integer"
        },
        {
         "name": "Ciclo_Estacion_Retiro",
         "rawType": "int64",
         "type": "integer"
        },
        {
         "name": "Fecha_Retiro",
         "rawType": "object",
         "type": "string"
        },
        {
         "name": "Hora_Retiro",
         "rawType": "object",
         "type": "string"
        },
        {
         "name": "Ciclo_Estacion_Arribo",
         "rawType": "int64",
         "type": "integer"
        },
        {
         "name": "Fecha_Arribo",
         "rawType": "object",
         "type": "string"
        },
        {
         "name": "Hora_Arribo",
         "rawType": "object",
         "type": "string"
        },
        {
         "name": "Tiempo_viaje",
         "rawType": "float64",
         "type": "float"
        },
        {
         "name": "Inicio",
         "rawType": "object",
         "type": "string"
        },
        {
         "name": "Fin",
         "rawType": "object",
         "type": "string"
        }
       ],
       "conversionMethod": "pd.DataFrame",
       "ref": "ee7bd20f-549a-4e6c-83a7-39b5ff5550ca",
       "rows": [
        [
         "0",
         "M",
         "32.0",
         "7608",
         "18",
         "2021-01-01",
         "07:05:04",
         "143",
         "2021-01-01",
         "07:13:25",
         "8.35",
         "2021-01-01 07:05:04",
         "2021-01-01 07:13:25"
        ],
        [
         "1",
         "M",
         "24.0",
         "8324",
         "76",
         "2021-01-01",
         "09:03:35",
         "76",
         "2021-01-01",
         "09:08:08",
         "4.55",
         "2021-01-01 09:03:35",
         "2021-01-01 09:08:08"
        ],
        [
         "2",
         "F",
         "35.0",
         "6787",
         "281",
         "2021-01-01",
         "09:22:41",
         "61",
         "2021-01-01",
         "09:50:03",
         "27.366666666666667",
         "2021-01-01 09:22:41",
         "2021-01-01 09:50:03"
        ],
        [
         "3",
         "F",
         "34.0",
         "11875",
         "405",
         "2021-01-01",
         "10:21:21",
         "431",
         "2021-01-01",
         "10:27:16",
         "5.916666666666667",
         "2021-01-01 10:21:21",
         "2021-01-01 10:27:16"
        ],
        [
         "4",
         "M",
         "26.0",
         "8164",
         "30",
         "2021-01-01",
         "11:52:38",
         "126",
         "2021-01-01",
         "12:07:30",
         "14.866666666666667",
         "2021-01-01 11:52:38",
         "2021-01-01 12:07:30"
        ]
       ],
       "shape": {
        "columns": 12,
        "rows": 5
       }
      },
      "text/html": [
       "<div>\n",
       "<style scoped>\n",
       "    .dataframe tbody tr th:only-of-type {\n",
       "        vertical-align: middle;\n",
       "    }\n",
       "\n",
       "    .dataframe tbody tr th {\n",
       "        vertical-align: top;\n",
       "    }\n",
       "\n",
       "    .dataframe thead th {\n",
       "        text-align: right;\n",
       "    }\n",
       "</style>\n",
       "<table border=\"1\" class=\"dataframe\">\n",
       "  <thead>\n",
       "    <tr style=\"text-align: right;\">\n",
       "      <th></th>\n",
       "      <th>Genero_Usuario</th>\n",
       "      <th>Edad_Usuario</th>\n",
       "      <th>Bici</th>\n",
       "      <th>Ciclo_Estacion_Retiro</th>\n",
       "      <th>Fecha_Retiro</th>\n",
       "      <th>Hora_Retiro</th>\n",
       "      <th>Ciclo_Estacion_Arribo</th>\n",
       "      <th>Fecha_Arribo</th>\n",
       "      <th>Hora_Arribo</th>\n",
       "      <th>Tiempo_viaje</th>\n",
       "      <th>Inicio</th>\n",
       "      <th>Fin</th>\n",
       "    </tr>\n",
       "  </thead>\n",
       "  <tbody>\n",
       "    <tr>\n",
       "      <th>0</th>\n",
       "      <td>M</td>\n",
       "      <td>32.0</td>\n",
       "      <td>7608</td>\n",
       "      <td>18</td>\n",
       "      <td>2021-01-01</td>\n",
       "      <td>07:05:04</td>\n",
       "      <td>143</td>\n",
       "      <td>2021-01-01</td>\n",
       "      <td>07:13:25</td>\n",
       "      <td>8.350000</td>\n",
       "      <td>2021-01-01 07:05:04</td>\n",
       "      <td>2021-01-01 07:13:25</td>\n",
       "    </tr>\n",
       "    <tr>\n",
       "      <th>1</th>\n",
       "      <td>M</td>\n",
       "      <td>24.0</td>\n",
       "      <td>8324</td>\n",
       "      <td>76</td>\n",
       "      <td>2021-01-01</td>\n",
       "      <td>09:03:35</td>\n",
       "      <td>76</td>\n",
       "      <td>2021-01-01</td>\n",
       "      <td>09:08:08</td>\n",
       "      <td>4.550000</td>\n",
       "      <td>2021-01-01 09:03:35</td>\n",
       "      <td>2021-01-01 09:08:08</td>\n",
       "    </tr>\n",
       "    <tr>\n",
       "      <th>2</th>\n",
       "      <td>F</td>\n",
       "      <td>35.0</td>\n",
       "      <td>6787</td>\n",
       "      <td>281</td>\n",
       "      <td>2021-01-01</td>\n",
       "      <td>09:22:41</td>\n",
       "      <td>61</td>\n",
       "      <td>2021-01-01</td>\n",
       "      <td>09:50:03</td>\n",
       "      <td>27.366667</td>\n",
       "      <td>2021-01-01 09:22:41</td>\n",
       "      <td>2021-01-01 09:50:03</td>\n",
       "    </tr>\n",
       "    <tr>\n",
       "      <th>3</th>\n",
       "      <td>F</td>\n",
       "      <td>34.0</td>\n",
       "      <td>11875</td>\n",
       "      <td>405</td>\n",
       "      <td>2021-01-01</td>\n",
       "      <td>10:21:21</td>\n",
       "      <td>431</td>\n",
       "      <td>2021-01-01</td>\n",
       "      <td>10:27:16</td>\n",
       "      <td>5.916667</td>\n",
       "      <td>2021-01-01 10:21:21</td>\n",
       "      <td>2021-01-01 10:27:16</td>\n",
       "    </tr>\n",
       "    <tr>\n",
       "      <th>4</th>\n",
       "      <td>M</td>\n",
       "      <td>26.0</td>\n",
       "      <td>8164</td>\n",
       "      <td>30</td>\n",
       "      <td>2021-01-01</td>\n",
       "      <td>11:52:38</td>\n",
       "      <td>126</td>\n",
       "      <td>2021-01-01</td>\n",
       "      <td>12:07:30</td>\n",
       "      <td>14.866667</td>\n",
       "      <td>2021-01-01 11:52:38</td>\n",
       "      <td>2021-01-01 12:07:30</td>\n",
       "    </tr>\n",
       "  </tbody>\n",
       "</table>\n",
       "</div>"
      ],
      "text/plain": [
       "  Genero_Usuario  Edad_Usuario   Bici  Ciclo_Estacion_Retiro Fecha_Retiro  \\\n",
       "0              M          32.0   7608                     18   2021-01-01   \n",
       "1              M          24.0   8324                     76   2021-01-01   \n",
       "2              F          35.0   6787                    281   2021-01-01   \n",
       "3              F          34.0  11875                    405   2021-01-01   \n",
       "4              M          26.0   8164                     30   2021-01-01   \n",
       "\n",
       "  Hora_Retiro  Ciclo_Estacion_Arribo Fecha_Arribo Hora_Arribo  Tiempo_viaje  \\\n",
       "0    07:05:04                    143   2021-01-01    07:13:25      8.350000   \n",
       "1    09:03:35                     76   2021-01-01    09:08:08      4.550000   \n",
       "2    09:22:41                     61   2021-01-01    09:50:03     27.366667   \n",
       "3    10:21:21                    431   2021-01-01    10:27:16      5.916667   \n",
       "4    11:52:38                    126   2021-01-01    12:07:30     14.866667   \n",
       "\n",
       "                Inicio                  Fin  \n",
       "0  2021-01-01 07:05:04  2021-01-01 07:13:25  \n",
       "1  2021-01-01 09:03:35  2021-01-01 09:08:08  \n",
       "2  2021-01-01 09:22:41  2021-01-01 09:50:03  \n",
       "3  2021-01-01 10:21:21  2021-01-01 10:27:16  \n",
       "4  2021-01-01 11:52:38  2021-01-01 12:07:30  "
      ]
     },
     "execution_count": 29,
     "metadata": {},
     "output_type": "execute_result"
    }
   ],
   "source": [
    "eco_2021['Fin'] = eco_2021['Fecha_Arribo'] + ' ' + eco_2021['Hora_Arribo']\n",
    "eco_2021.head()"
   ]
  },
  {
   "cell_type": "code",
   "execution_count": 30,
   "id": "e993da2c",
   "metadata": {},
   "outputs": [
    {
     "data": {
      "application/vnd.microsoft.datawrangler.viewer.v0+json": {
       "columns": [
        {
         "name": "index",
         "rawType": "int64",
         "type": "integer"
        },
        {
         "name": "Genero_Usuario",
         "rawType": "object",
         "type": "string"
        },
        {
         "name": "Edad_Usuario",
         "rawType": "float64",
         "type": "float"
        },
        {
         "name": "Bici",
         "rawType": "int64",
         "type": "integer"
        },
        {
         "name": "Ciclo_Estacion_Retiro",
         "rawType": "int64",
         "type": "integer"
        },
        {
         "name": "Fecha_Retiro",
         "rawType": "object",
         "type": "string"
        },
        {
         "name": "Hora_Retiro",
         "rawType": "object",
         "type": "string"
        },
        {
         "name": "Ciclo_Estacion_Arribo",
         "rawType": "int64",
         "type": "integer"
        },
        {
         "name": "Fecha_Arribo",
         "rawType": "object",
         "type": "string"
        },
        {
         "name": "Hora_Arribo",
         "rawType": "object",
         "type": "string"
        },
        {
         "name": "Tiempo_viaje",
         "rawType": "float64",
         "type": "float"
        },
        {
         "name": "Inicio",
         "rawType": "object",
         "type": "string"
        },
        {
         "name": "Fin",
         "rawType": "object",
         "type": "string"
        }
       ],
       "conversionMethod": "pd.DataFrame",
       "ref": "7ecbb509-ca61-441f-bdb5-70ec790fdf79",
       "rows": [
        [
         "0",
         "M",
         "32.0",
         "7608",
         "18",
         "2021-01-01",
         "07:05:04",
         "143",
         "2021-01-01",
         "07:13:25",
         "8.35",
         "2021-01-01 07:05:04",
         "2021-01-01 07:13:25"
        ],
        [
         "1",
         "M",
         "24.0",
         "8324",
         "76",
         "2021-01-01",
         "09:03:35",
         "76",
         "2021-01-01",
         "09:08:08",
         "4.55",
         "2021-01-01 09:03:35",
         "2021-01-01 09:08:08"
        ],
        [
         "2",
         "F",
         "35.0",
         "6787",
         "281",
         "2021-01-01",
         "09:22:41",
         "61",
         "2021-01-01",
         "09:50:03",
         "27.366666666666667",
         "2021-01-01 09:22:41",
         "2021-01-01 09:50:03"
        ],
        [
         "3",
         "F",
         "34.0",
         "11875",
         "405",
         "2021-01-01",
         "10:21:21",
         "431",
         "2021-01-01",
         "10:27:16",
         "5.916666666666667",
         "2021-01-01 10:21:21",
         "2021-01-01 10:27:16"
        ],
        [
         "4",
         "M",
         "26.0",
         "8164",
         "30",
         "2021-01-01",
         "11:52:38",
         "126",
         "2021-01-01",
         "12:07:30",
         "14.866666666666667",
         "2021-01-01 11:52:38",
         "2021-01-01 12:07:30"
        ]
       ],
       "shape": {
        "columns": 12,
        "rows": 5
       }
      },
      "text/html": [
       "<div>\n",
       "<style scoped>\n",
       "    .dataframe tbody tr th:only-of-type {\n",
       "        vertical-align: middle;\n",
       "    }\n",
       "\n",
       "    .dataframe tbody tr th {\n",
       "        vertical-align: top;\n",
       "    }\n",
       "\n",
       "    .dataframe thead th {\n",
       "        text-align: right;\n",
       "    }\n",
       "</style>\n",
       "<table border=\"1\" class=\"dataframe\">\n",
       "  <thead>\n",
       "    <tr style=\"text-align: right;\">\n",
       "      <th></th>\n",
       "      <th>Genero_Usuario</th>\n",
       "      <th>Edad_Usuario</th>\n",
       "      <th>Bici</th>\n",
       "      <th>Ciclo_Estacion_Retiro</th>\n",
       "      <th>Fecha_Retiro</th>\n",
       "      <th>Hora_Retiro</th>\n",
       "      <th>Ciclo_Estacion_Arribo</th>\n",
       "      <th>Fecha_Arribo</th>\n",
       "      <th>Hora_Arribo</th>\n",
       "      <th>Tiempo_viaje</th>\n",
       "      <th>Inicio</th>\n",
       "      <th>Fin</th>\n",
       "    </tr>\n",
       "  </thead>\n",
       "  <tbody>\n",
       "    <tr>\n",
       "      <th>0</th>\n",
       "      <td>M</td>\n",
       "      <td>32.0</td>\n",
       "      <td>7608</td>\n",
       "      <td>18</td>\n",
       "      <td>2021-01-01</td>\n",
       "      <td>07:05:04</td>\n",
       "      <td>143</td>\n",
       "      <td>2021-01-01</td>\n",
       "      <td>07:13:25</td>\n",
       "      <td>8.350000</td>\n",
       "      <td>2021-01-01 07:05:04</td>\n",
       "      <td>2021-01-01 07:13:25</td>\n",
       "    </tr>\n",
       "    <tr>\n",
       "      <th>1</th>\n",
       "      <td>M</td>\n",
       "      <td>24.0</td>\n",
       "      <td>8324</td>\n",
       "      <td>76</td>\n",
       "      <td>2021-01-01</td>\n",
       "      <td>09:03:35</td>\n",
       "      <td>76</td>\n",
       "      <td>2021-01-01</td>\n",
       "      <td>09:08:08</td>\n",
       "      <td>4.550000</td>\n",
       "      <td>2021-01-01 09:03:35</td>\n",
       "      <td>2021-01-01 09:08:08</td>\n",
       "    </tr>\n",
       "    <tr>\n",
       "      <th>2</th>\n",
       "      <td>F</td>\n",
       "      <td>35.0</td>\n",
       "      <td>6787</td>\n",
       "      <td>281</td>\n",
       "      <td>2021-01-01</td>\n",
       "      <td>09:22:41</td>\n",
       "      <td>61</td>\n",
       "      <td>2021-01-01</td>\n",
       "      <td>09:50:03</td>\n",
       "      <td>27.366667</td>\n",
       "      <td>2021-01-01 09:22:41</td>\n",
       "      <td>2021-01-01 09:50:03</td>\n",
       "    </tr>\n",
       "    <tr>\n",
       "      <th>3</th>\n",
       "      <td>F</td>\n",
       "      <td>34.0</td>\n",
       "      <td>11875</td>\n",
       "      <td>405</td>\n",
       "      <td>2021-01-01</td>\n",
       "      <td>10:21:21</td>\n",
       "      <td>431</td>\n",
       "      <td>2021-01-01</td>\n",
       "      <td>10:27:16</td>\n",
       "      <td>5.916667</td>\n",
       "      <td>2021-01-01 10:21:21</td>\n",
       "      <td>2021-01-01 10:27:16</td>\n",
       "    </tr>\n",
       "    <tr>\n",
       "      <th>4</th>\n",
       "      <td>M</td>\n",
       "      <td>26.0</td>\n",
       "      <td>8164</td>\n",
       "      <td>30</td>\n",
       "      <td>2021-01-01</td>\n",
       "      <td>11:52:38</td>\n",
       "      <td>126</td>\n",
       "      <td>2021-01-01</td>\n",
       "      <td>12:07:30</td>\n",
       "      <td>14.866667</td>\n",
       "      <td>2021-01-01 11:52:38</td>\n",
       "      <td>2021-01-01 12:07:30</td>\n",
       "    </tr>\n",
       "  </tbody>\n",
       "</table>\n",
       "</div>"
      ],
      "text/plain": [
       "  Genero_Usuario  Edad_Usuario   Bici  Ciclo_Estacion_Retiro Fecha_Retiro  \\\n",
       "0              M          32.0   7608                     18   2021-01-01   \n",
       "1              M          24.0   8324                     76   2021-01-01   \n",
       "2              F          35.0   6787                    281   2021-01-01   \n",
       "3              F          34.0  11875                    405   2021-01-01   \n",
       "4              M          26.0   8164                     30   2021-01-01   \n",
       "\n",
       "  Hora_Retiro  Ciclo_Estacion_Arribo Fecha_Arribo Hora_Arribo  Tiempo_viaje  \\\n",
       "0    07:05:04                    143   2021-01-01    07:13:25      8.350000   \n",
       "1    09:03:35                     76   2021-01-01    09:08:08      4.550000   \n",
       "2    09:22:41                     61   2021-01-01    09:50:03     27.366667   \n",
       "3    10:21:21                    431   2021-01-01    10:27:16      5.916667   \n",
       "4    11:52:38                    126   2021-01-01    12:07:30     14.866667   \n",
       "\n",
       "                Inicio                  Fin  \n",
       "0  2021-01-01 07:05:04  2021-01-01 07:13:25  \n",
       "1  2021-01-01 09:03:35  2021-01-01 09:08:08  \n",
       "2  2021-01-01 09:22:41  2021-01-01 09:50:03  \n",
       "3  2021-01-01 10:21:21  2021-01-01 10:27:16  \n",
       "4  2021-01-01 11:52:38  2021-01-01 12:07:30  "
      ]
     },
     "execution_count": 30,
     "metadata": {},
     "output_type": "execute_result"
    }
   ],
   "source": [
    "eco_2021.to_csv('/Users/antoniomendez/Desktop/Tesis/Datos/datos_limpios/ecobici/ecobici_2021.csv', index = False)\n",
    "eco_2021 = load_data('ecobici/ecobici_2021.csv', flag_dir)\n",
    "eco_2021.head()"
   ]
  },
  {
   "cell_type": "code",
   "execution_count": 31,
   "id": "1c51d3c6",
   "metadata": {},
   "outputs": [],
   "source": [
    "del eco_2021"
   ]
  },
  {
   "cell_type": "code",
   "execution_count": 32,
   "id": "c0cf3edb",
   "metadata": {},
   "outputs": [
    {
     "name": "stderr",
     "output_type": "stream",
     "text": [
      "/var/folders/vk/zp_d1g0941s_66x6rkq_912w0000gn/T/ipykernel_2985/3142470168.py:35: DtypeWarning: Columns (1) have mixed types. Specify dtype option on import or set low_memory=False.\n",
      "  data = pd.read_csv(dir + name)\n"
     ]
    },
    {
     "data": {
      "application/vnd.microsoft.datawrangler.viewer.v0+json": {
       "columns": [
        {
         "name": "index",
         "rawType": "int64",
         "type": "integer"
        },
        {
         "name": "Unnamed: 0",
         "rawType": "int64",
         "type": "integer"
        },
        {
         "name": "Genero_Usuario",
         "rawType": "object",
         "type": "string"
        },
        {
         "name": "Edad_Usuario",
         "rawType": "float64",
         "type": "float"
        },
        {
         "name": "Bici",
         "rawType": "int64",
         "type": "integer"
        },
        {
         "name": "Ciclo_Estacion_Retiro",
         "rawType": "int64",
         "type": "integer"
        },
        {
         "name": "Fecha_Retiro",
         "rawType": "object",
         "type": "string"
        },
        {
         "name": "Hora_Retiro",
         "rawType": "object",
         "type": "string"
        },
        {
         "name": "Ciclo_Estacion_Arribo",
         "rawType": "int64",
         "type": "integer"
        },
        {
         "name": "Fecha_Arribo",
         "rawType": "object",
         "type": "string"
        },
        {
         "name": "Hora_Arribo",
         "rawType": "object",
         "type": "string"
        },
        {
         "name": "Tiempo_viaje",
         "rawType": "float64",
         "type": "float"
        }
       ],
       "conversionMethod": "pd.DataFrame",
       "ref": "5b1baf3a-7c43-48bf-912b-e2b9ffe15290",
       "rows": [
        [
         "0",
         "0",
         "M",
         "40.0",
         "8811",
         "282",
         "2022-01-04",
         "07:49:31",
         "295",
         "2022-01-04",
         "07:52:28",
         "2.95"
        ],
        [
         "1",
         "1",
         "M",
         "40.0",
         "8752",
         "282",
         "2022-01-06",
         "07:45:59",
         "295",
         "2022-01-06",
         "07:48:55",
         "2.933333333333333"
        ],
        [
         "2",
         "2",
         "M",
         "40.0",
         "12028",
         "282",
         "2022-01-11",
         "07:51:56",
         "295",
         "2022-01-11",
         "07:54:29",
         "2.55"
        ],
        [
         "3",
         "3",
         "M",
         "40.0",
         "7102",
         "282",
         "2022-01-12",
         "07:43:56",
         "295",
         "2022-01-12",
         "07:46:54",
         "2.966666666666667"
        ],
        [
         "4",
         "4",
         "M",
         "40.0",
         "4261",
         "282",
         "2022-01-13",
         "07:43:09",
         "281",
         "2022-01-13",
         "07:47:27",
         "4.3"
        ]
       ],
       "shape": {
        "columns": 11,
        "rows": 5
       }
      },
      "text/html": [
       "<div>\n",
       "<style scoped>\n",
       "    .dataframe tbody tr th:only-of-type {\n",
       "        vertical-align: middle;\n",
       "    }\n",
       "\n",
       "    .dataframe tbody tr th {\n",
       "        vertical-align: top;\n",
       "    }\n",
       "\n",
       "    .dataframe thead th {\n",
       "        text-align: right;\n",
       "    }\n",
       "</style>\n",
       "<table border=\"1\" class=\"dataframe\">\n",
       "  <thead>\n",
       "    <tr style=\"text-align: right;\">\n",
       "      <th></th>\n",
       "      <th>Unnamed: 0</th>\n",
       "      <th>Genero_Usuario</th>\n",
       "      <th>Edad_Usuario</th>\n",
       "      <th>Bici</th>\n",
       "      <th>Ciclo_Estacion_Retiro</th>\n",
       "      <th>Fecha_Retiro</th>\n",
       "      <th>Hora_Retiro</th>\n",
       "      <th>Ciclo_Estacion_Arribo</th>\n",
       "      <th>Fecha_Arribo</th>\n",
       "      <th>Hora_Arribo</th>\n",
       "      <th>Tiempo_viaje</th>\n",
       "    </tr>\n",
       "  </thead>\n",
       "  <tbody>\n",
       "    <tr>\n",
       "      <th>0</th>\n",
       "      <td>0</td>\n",
       "      <td>M</td>\n",
       "      <td>40.0</td>\n",
       "      <td>8811</td>\n",
       "      <td>282</td>\n",
       "      <td>2022-01-04</td>\n",
       "      <td>07:49:31</td>\n",
       "      <td>295</td>\n",
       "      <td>2022-01-04</td>\n",
       "      <td>07:52:28</td>\n",
       "      <td>2.950000</td>\n",
       "    </tr>\n",
       "    <tr>\n",
       "      <th>1</th>\n",
       "      <td>1</td>\n",
       "      <td>M</td>\n",
       "      <td>40.0</td>\n",
       "      <td>8752</td>\n",
       "      <td>282</td>\n",
       "      <td>2022-01-06</td>\n",
       "      <td>07:45:59</td>\n",
       "      <td>295</td>\n",
       "      <td>2022-01-06</td>\n",
       "      <td>07:48:55</td>\n",
       "      <td>2.933333</td>\n",
       "    </tr>\n",
       "    <tr>\n",
       "      <th>2</th>\n",
       "      <td>2</td>\n",
       "      <td>M</td>\n",
       "      <td>40.0</td>\n",
       "      <td>12028</td>\n",
       "      <td>282</td>\n",
       "      <td>2022-01-11</td>\n",
       "      <td>07:51:56</td>\n",
       "      <td>295</td>\n",
       "      <td>2022-01-11</td>\n",
       "      <td>07:54:29</td>\n",
       "      <td>2.550000</td>\n",
       "    </tr>\n",
       "    <tr>\n",
       "      <th>3</th>\n",
       "      <td>3</td>\n",
       "      <td>M</td>\n",
       "      <td>40.0</td>\n",
       "      <td>7102</td>\n",
       "      <td>282</td>\n",
       "      <td>2022-01-12</td>\n",
       "      <td>07:43:56</td>\n",
       "      <td>295</td>\n",
       "      <td>2022-01-12</td>\n",
       "      <td>07:46:54</td>\n",
       "      <td>2.966667</td>\n",
       "    </tr>\n",
       "    <tr>\n",
       "      <th>4</th>\n",
       "      <td>4</td>\n",
       "      <td>M</td>\n",
       "      <td>40.0</td>\n",
       "      <td>4261</td>\n",
       "      <td>282</td>\n",
       "      <td>2022-01-13</td>\n",
       "      <td>07:43:09</td>\n",
       "      <td>281</td>\n",
       "      <td>2022-01-13</td>\n",
       "      <td>07:47:27</td>\n",
       "      <td>4.300000</td>\n",
       "    </tr>\n",
       "  </tbody>\n",
       "</table>\n",
       "</div>"
      ],
      "text/plain": [
       "   Unnamed: 0 Genero_Usuario  Edad_Usuario   Bici  Ciclo_Estacion_Retiro  \\\n",
       "0           0              M          40.0   8811                    282   \n",
       "1           1              M          40.0   8752                    282   \n",
       "2           2              M          40.0  12028                    282   \n",
       "3           3              M          40.0   7102                    282   \n",
       "4           4              M          40.0   4261                    282   \n",
       "\n",
       "  Fecha_Retiro Hora_Retiro  Ciclo_Estacion_Arribo Fecha_Arribo Hora_Arribo  \\\n",
       "0   2022-01-04    07:49:31                    295   2022-01-04    07:52:28   \n",
       "1   2022-01-06    07:45:59                    295   2022-01-06    07:48:55   \n",
       "2   2022-01-11    07:51:56                    295   2022-01-11    07:54:29   \n",
       "3   2022-01-12    07:43:56                    295   2022-01-12    07:46:54   \n",
       "4   2022-01-13    07:43:09                    281   2022-01-13    07:47:27   \n",
       "\n",
       "   Tiempo_viaje  \n",
       "0      2.950000  \n",
       "1      2.933333  \n",
       "2      2.550000  \n",
       "3      2.966667  \n",
       "4      4.300000  "
      ]
     },
     "execution_count": 32,
     "metadata": {},
     "output_type": "execute_result"
    }
   ],
   "source": [
    "eco_2022 = load_data('ecobici/ecobici_2022.csv', flag_dir)\n",
    "eco_2022.head()"
   ]
  },
  {
   "cell_type": "code",
   "execution_count": 33,
   "id": "54b37a20",
   "metadata": {},
   "outputs": [
    {
     "data": {
      "application/vnd.microsoft.datawrangler.viewer.v0+json": {
       "columns": [
        {
         "name": "index",
         "rawType": "int64",
         "type": "integer"
        },
        {
         "name": "Genero_Usuario",
         "rawType": "object",
         "type": "string"
        },
        {
         "name": "Edad_Usuario",
         "rawType": "float64",
         "type": "float"
        },
        {
         "name": "Bici",
         "rawType": "int64",
         "type": "integer"
        },
        {
         "name": "Ciclo_Estacion_Retiro",
         "rawType": "int64",
         "type": "integer"
        },
        {
         "name": "Fecha_Retiro",
         "rawType": "object",
         "type": "string"
        },
        {
         "name": "Hora_Retiro",
         "rawType": "object",
         "type": "string"
        },
        {
         "name": "Ciclo_Estacion_Arribo",
         "rawType": "int64",
         "type": "integer"
        },
        {
         "name": "Fecha_Arribo",
         "rawType": "object",
         "type": "string"
        },
        {
         "name": "Hora_Arribo",
         "rawType": "object",
         "type": "string"
        },
        {
         "name": "Tiempo_viaje",
         "rawType": "float64",
         "type": "float"
        }
       ],
       "conversionMethod": "pd.DataFrame",
       "ref": "1f715549-08a8-4374-9a47-3da0e40d98ac",
       "rows": [
        [
         "0",
         "M",
         "40.0",
         "8811",
         "282",
         "2022-01-04",
         "07:49:31",
         "295",
         "2022-01-04",
         "07:52:28",
         "2.95"
        ],
        [
         "1",
         "M",
         "40.0",
         "8752",
         "282",
         "2022-01-06",
         "07:45:59",
         "295",
         "2022-01-06",
         "07:48:55",
         "2.933333333333333"
        ],
        [
         "2",
         "M",
         "40.0",
         "12028",
         "282",
         "2022-01-11",
         "07:51:56",
         "295",
         "2022-01-11",
         "07:54:29",
         "2.55"
        ],
        [
         "3",
         "M",
         "40.0",
         "7102",
         "282",
         "2022-01-12",
         "07:43:56",
         "295",
         "2022-01-12",
         "07:46:54",
         "2.966666666666667"
        ],
        [
         "4",
         "M",
         "40.0",
         "4261",
         "282",
         "2022-01-13",
         "07:43:09",
         "281",
         "2022-01-13",
         "07:47:27",
         "4.3"
        ]
       ],
       "shape": {
        "columns": 10,
        "rows": 5
       }
      },
      "text/html": [
       "<div>\n",
       "<style scoped>\n",
       "    .dataframe tbody tr th:only-of-type {\n",
       "        vertical-align: middle;\n",
       "    }\n",
       "\n",
       "    .dataframe tbody tr th {\n",
       "        vertical-align: top;\n",
       "    }\n",
       "\n",
       "    .dataframe thead th {\n",
       "        text-align: right;\n",
       "    }\n",
       "</style>\n",
       "<table border=\"1\" class=\"dataframe\">\n",
       "  <thead>\n",
       "    <tr style=\"text-align: right;\">\n",
       "      <th></th>\n",
       "      <th>Genero_Usuario</th>\n",
       "      <th>Edad_Usuario</th>\n",
       "      <th>Bici</th>\n",
       "      <th>Ciclo_Estacion_Retiro</th>\n",
       "      <th>Fecha_Retiro</th>\n",
       "      <th>Hora_Retiro</th>\n",
       "      <th>Ciclo_Estacion_Arribo</th>\n",
       "      <th>Fecha_Arribo</th>\n",
       "      <th>Hora_Arribo</th>\n",
       "      <th>Tiempo_viaje</th>\n",
       "    </tr>\n",
       "  </thead>\n",
       "  <tbody>\n",
       "    <tr>\n",
       "      <th>0</th>\n",
       "      <td>M</td>\n",
       "      <td>40.0</td>\n",
       "      <td>8811</td>\n",
       "      <td>282</td>\n",
       "      <td>2022-01-04</td>\n",
       "      <td>07:49:31</td>\n",
       "      <td>295</td>\n",
       "      <td>2022-01-04</td>\n",
       "      <td>07:52:28</td>\n",
       "      <td>2.950000</td>\n",
       "    </tr>\n",
       "    <tr>\n",
       "      <th>1</th>\n",
       "      <td>M</td>\n",
       "      <td>40.0</td>\n",
       "      <td>8752</td>\n",
       "      <td>282</td>\n",
       "      <td>2022-01-06</td>\n",
       "      <td>07:45:59</td>\n",
       "      <td>295</td>\n",
       "      <td>2022-01-06</td>\n",
       "      <td>07:48:55</td>\n",
       "      <td>2.933333</td>\n",
       "    </tr>\n",
       "    <tr>\n",
       "      <th>2</th>\n",
       "      <td>M</td>\n",
       "      <td>40.0</td>\n",
       "      <td>12028</td>\n",
       "      <td>282</td>\n",
       "      <td>2022-01-11</td>\n",
       "      <td>07:51:56</td>\n",
       "      <td>295</td>\n",
       "      <td>2022-01-11</td>\n",
       "      <td>07:54:29</td>\n",
       "      <td>2.550000</td>\n",
       "    </tr>\n",
       "    <tr>\n",
       "      <th>3</th>\n",
       "      <td>M</td>\n",
       "      <td>40.0</td>\n",
       "      <td>7102</td>\n",
       "      <td>282</td>\n",
       "      <td>2022-01-12</td>\n",
       "      <td>07:43:56</td>\n",
       "      <td>295</td>\n",
       "      <td>2022-01-12</td>\n",
       "      <td>07:46:54</td>\n",
       "      <td>2.966667</td>\n",
       "    </tr>\n",
       "    <tr>\n",
       "      <th>4</th>\n",
       "      <td>M</td>\n",
       "      <td>40.0</td>\n",
       "      <td>4261</td>\n",
       "      <td>282</td>\n",
       "      <td>2022-01-13</td>\n",
       "      <td>07:43:09</td>\n",
       "      <td>281</td>\n",
       "      <td>2022-01-13</td>\n",
       "      <td>07:47:27</td>\n",
       "      <td>4.300000</td>\n",
       "    </tr>\n",
       "  </tbody>\n",
       "</table>\n",
       "</div>"
      ],
      "text/plain": [
       "  Genero_Usuario  Edad_Usuario   Bici  Ciclo_Estacion_Retiro Fecha_Retiro  \\\n",
       "0              M          40.0   8811                    282   2022-01-04   \n",
       "1              M          40.0   8752                    282   2022-01-06   \n",
       "2              M          40.0  12028                    282   2022-01-11   \n",
       "3              M          40.0   7102                    282   2022-01-12   \n",
       "4              M          40.0   4261                    282   2022-01-13   \n",
       "\n",
       "  Hora_Retiro  Ciclo_Estacion_Arribo Fecha_Arribo Hora_Arribo  Tiempo_viaje  \n",
       "0    07:49:31                    295   2022-01-04    07:52:28      2.950000  \n",
       "1    07:45:59                    295   2022-01-06    07:48:55      2.933333  \n",
       "2    07:51:56                    295   2022-01-11    07:54:29      2.550000  \n",
       "3    07:43:56                    295   2022-01-12    07:46:54      2.966667  \n",
       "4    07:43:09                    281   2022-01-13    07:47:27      4.300000  "
      ]
     },
     "execution_count": 33,
     "metadata": {},
     "output_type": "execute_result"
    }
   ],
   "source": [
    "eco_2022.drop(columns = ['Unnamed: 0'], inplace = True)\n",
    "eco_2022.head()"
   ]
  },
  {
   "cell_type": "code",
   "execution_count": 34,
   "id": "faa62fff",
   "metadata": {},
   "outputs": [
    {
     "data": {
      "application/vnd.microsoft.datawrangler.viewer.v0+json": {
       "columns": [
        {
         "name": "index",
         "rawType": "int64",
         "type": "integer"
        },
        {
         "name": "Genero_Usuario",
         "rawType": "object",
         "type": "string"
        },
        {
         "name": "Edad_Usuario",
         "rawType": "float64",
         "type": "float"
        },
        {
         "name": "Bici",
         "rawType": "int64",
         "type": "integer"
        },
        {
         "name": "Ciclo_Estacion_Retiro",
         "rawType": "int64",
         "type": "integer"
        },
        {
         "name": "Fecha_Retiro",
         "rawType": "object",
         "type": "string"
        },
        {
         "name": "Hora_Retiro",
         "rawType": "object",
         "type": "string"
        },
        {
         "name": "Ciclo_Estacion_Arribo",
         "rawType": "int64",
         "type": "integer"
        },
        {
         "name": "Fecha_Arribo",
         "rawType": "object",
         "type": "string"
        },
        {
         "name": "Hora_Arribo",
         "rawType": "object",
         "type": "string"
        },
        {
         "name": "Tiempo_viaje",
         "rawType": "float64",
         "type": "float"
        },
        {
         "name": "Inicio",
         "rawType": "object",
         "type": "string"
        }
       ],
       "conversionMethod": "pd.DataFrame",
       "ref": "4915170f-b5ab-432d-8353-b46277c2c9cc",
       "rows": [
        [
         "0",
         "M",
         "40.0",
         "8811",
         "282",
         "2022-01-04",
         "07:49:31",
         "295",
         "2022-01-04",
         "07:52:28",
         "2.95",
         "2022-01-04 07:49:31"
        ],
        [
         "1",
         "M",
         "40.0",
         "8752",
         "282",
         "2022-01-06",
         "07:45:59",
         "295",
         "2022-01-06",
         "07:48:55",
         "2.933333333333333",
         "2022-01-06 07:45:59"
        ],
        [
         "2",
         "M",
         "40.0",
         "12028",
         "282",
         "2022-01-11",
         "07:51:56",
         "295",
         "2022-01-11",
         "07:54:29",
         "2.55",
         "2022-01-11 07:51:56"
        ],
        [
         "3",
         "M",
         "40.0",
         "7102",
         "282",
         "2022-01-12",
         "07:43:56",
         "295",
         "2022-01-12",
         "07:46:54",
         "2.966666666666667",
         "2022-01-12 07:43:56"
        ],
        [
         "4",
         "M",
         "40.0",
         "4261",
         "282",
         "2022-01-13",
         "07:43:09",
         "281",
         "2022-01-13",
         "07:47:27",
         "4.3",
         "2022-01-13 07:43:09"
        ]
       ],
       "shape": {
        "columns": 11,
        "rows": 5
       }
      },
      "text/html": [
       "<div>\n",
       "<style scoped>\n",
       "    .dataframe tbody tr th:only-of-type {\n",
       "        vertical-align: middle;\n",
       "    }\n",
       "\n",
       "    .dataframe tbody tr th {\n",
       "        vertical-align: top;\n",
       "    }\n",
       "\n",
       "    .dataframe thead th {\n",
       "        text-align: right;\n",
       "    }\n",
       "</style>\n",
       "<table border=\"1\" class=\"dataframe\">\n",
       "  <thead>\n",
       "    <tr style=\"text-align: right;\">\n",
       "      <th></th>\n",
       "      <th>Genero_Usuario</th>\n",
       "      <th>Edad_Usuario</th>\n",
       "      <th>Bici</th>\n",
       "      <th>Ciclo_Estacion_Retiro</th>\n",
       "      <th>Fecha_Retiro</th>\n",
       "      <th>Hora_Retiro</th>\n",
       "      <th>Ciclo_Estacion_Arribo</th>\n",
       "      <th>Fecha_Arribo</th>\n",
       "      <th>Hora_Arribo</th>\n",
       "      <th>Tiempo_viaje</th>\n",
       "      <th>Inicio</th>\n",
       "    </tr>\n",
       "  </thead>\n",
       "  <tbody>\n",
       "    <tr>\n",
       "      <th>0</th>\n",
       "      <td>M</td>\n",
       "      <td>40.0</td>\n",
       "      <td>8811</td>\n",
       "      <td>282</td>\n",
       "      <td>2022-01-04</td>\n",
       "      <td>07:49:31</td>\n",
       "      <td>295</td>\n",
       "      <td>2022-01-04</td>\n",
       "      <td>07:52:28</td>\n",
       "      <td>2.950000</td>\n",
       "      <td>2022-01-04 07:49:31</td>\n",
       "    </tr>\n",
       "    <tr>\n",
       "      <th>1</th>\n",
       "      <td>M</td>\n",
       "      <td>40.0</td>\n",
       "      <td>8752</td>\n",
       "      <td>282</td>\n",
       "      <td>2022-01-06</td>\n",
       "      <td>07:45:59</td>\n",
       "      <td>295</td>\n",
       "      <td>2022-01-06</td>\n",
       "      <td>07:48:55</td>\n",
       "      <td>2.933333</td>\n",
       "      <td>2022-01-06 07:45:59</td>\n",
       "    </tr>\n",
       "    <tr>\n",
       "      <th>2</th>\n",
       "      <td>M</td>\n",
       "      <td>40.0</td>\n",
       "      <td>12028</td>\n",
       "      <td>282</td>\n",
       "      <td>2022-01-11</td>\n",
       "      <td>07:51:56</td>\n",
       "      <td>295</td>\n",
       "      <td>2022-01-11</td>\n",
       "      <td>07:54:29</td>\n",
       "      <td>2.550000</td>\n",
       "      <td>2022-01-11 07:51:56</td>\n",
       "    </tr>\n",
       "    <tr>\n",
       "      <th>3</th>\n",
       "      <td>M</td>\n",
       "      <td>40.0</td>\n",
       "      <td>7102</td>\n",
       "      <td>282</td>\n",
       "      <td>2022-01-12</td>\n",
       "      <td>07:43:56</td>\n",
       "      <td>295</td>\n",
       "      <td>2022-01-12</td>\n",
       "      <td>07:46:54</td>\n",
       "      <td>2.966667</td>\n",
       "      <td>2022-01-12 07:43:56</td>\n",
       "    </tr>\n",
       "    <tr>\n",
       "      <th>4</th>\n",
       "      <td>M</td>\n",
       "      <td>40.0</td>\n",
       "      <td>4261</td>\n",
       "      <td>282</td>\n",
       "      <td>2022-01-13</td>\n",
       "      <td>07:43:09</td>\n",
       "      <td>281</td>\n",
       "      <td>2022-01-13</td>\n",
       "      <td>07:47:27</td>\n",
       "      <td>4.300000</td>\n",
       "      <td>2022-01-13 07:43:09</td>\n",
       "    </tr>\n",
       "  </tbody>\n",
       "</table>\n",
       "</div>"
      ],
      "text/plain": [
       "  Genero_Usuario  Edad_Usuario   Bici  Ciclo_Estacion_Retiro Fecha_Retiro  \\\n",
       "0              M          40.0   8811                    282   2022-01-04   \n",
       "1              M          40.0   8752                    282   2022-01-06   \n",
       "2              M          40.0  12028                    282   2022-01-11   \n",
       "3              M          40.0   7102                    282   2022-01-12   \n",
       "4              M          40.0   4261                    282   2022-01-13   \n",
       "\n",
       "  Hora_Retiro  Ciclo_Estacion_Arribo Fecha_Arribo Hora_Arribo  Tiempo_viaje  \\\n",
       "0    07:49:31                    295   2022-01-04    07:52:28      2.950000   \n",
       "1    07:45:59                    295   2022-01-06    07:48:55      2.933333   \n",
       "2    07:51:56                    295   2022-01-11    07:54:29      2.550000   \n",
       "3    07:43:56                    295   2022-01-12    07:46:54      2.966667   \n",
       "4    07:43:09                    281   2022-01-13    07:47:27      4.300000   \n",
       "\n",
       "                Inicio  \n",
       "0  2022-01-04 07:49:31  \n",
       "1  2022-01-06 07:45:59  \n",
       "2  2022-01-11 07:51:56  \n",
       "3  2022-01-12 07:43:56  \n",
       "4  2022-01-13 07:43:09  "
      ]
     },
     "execution_count": 34,
     "metadata": {},
     "output_type": "execute_result"
    }
   ],
   "source": [
    "eco_2022['Inicio'] = eco_2022['Fecha_Retiro'] + ' ' + eco_2022['Hora_Retiro']\n",
    "eco_2022.head()"
   ]
  },
  {
   "cell_type": "code",
   "execution_count": 35,
   "id": "82f83424",
   "metadata": {},
   "outputs": [
    {
     "data": {
      "application/vnd.microsoft.datawrangler.viewer.v0+json": {
       "columns": [
        {
         "name": "index",
         "rawType": "int64",
         "type": "integer"
        },
        {
         "name": "Genero_Usuario",
         "rawType": "object",
         "type": "string"
        },
        {
         "name": "Edad_Usuario",
         "rawType": "float64",
         "type": "float"
        },
        {
         "name": "Bici",
         "rawType": "int64",
         "type": "integer"
        },
        {
         "name": "Ciclo_Estacion_Retiro",
         "rawType": "int64",
         "type": "integer"
        },
        {
         "name": "Fecha_Retiro",
         "rawType": "object",
         "type": "string"
        },
        {
         "name": "Hora_Retiro",
         "rawType": "object",
         "type": "string"
        },
        {
         "name": "Ciclo_Estacion_Arribo",
         "rawType": "int64",
         "type": "integer"
        },
        {
         "name": "Fecha_Arribo",
         "rawType": "object",
         "type": "string"
        },
        {
         "name": "Hora_Arribo",
         "rawType": "object",
         "type": "string"
        },
        {
         "name": "Tiempo_viaje",
         "rawType": "float64",
         "type": "float"
        },
        {
         "name": "Inicio",
         "rawType": "object",
         "type": "string"
        },
        {
         "name": "Fin",
         "rawType": "object",
         "type": "string"
        }
       ],
       "conversionMethod": "pd.DataFrame",
       "ref": "c13b348e-99b6-4b5e-98cb-7f7f05191b75",
       "rows": [
        [
         "0",
         "M",
         "40.0",
         "8811",
         "282",
         "2022-01-04",
         "07:49:31",
         "295",
         "2022-01-04",
         "07:52:28",
         "2.95",
         "2022-01-04 07:49:31",
         "2022-01-04 07:52:28"
        ],
        [
         "1",
         "M",
         "40.0",
         "8752",
         "282",
         "2022-01-06",
         "07:45:59",
         "295",
         "2022-01-06",
         "07:48:55",
         "2.933333333333333",
         "2022-01-06 07:45:59",
         "2022-01-06 07:48:55"
        ],
        [
         "2",
         "M",
         "40.0",
         "12028",
         "282",
         "2022-01-11",
         "07:51:56",
         "295",
         "2022-01-11",
         "07:54:29",
         "2.55",
         "2022-01-11 07:51:56",
         "2022-01-11 07:54:29"
        ],
        [
         "3",
         "M",
         "40.0",
         "7102",
         "282",
         "2022-01-12",
         "07:43:56",
         "295",
         "2022-01-12",
         "07:46:54",
         "2.966666666666667",
         "2022-01-12 07:43:56",
         "2022-01-12 07:46:54"
        ],
        [
         "4",
         "M",
         "40.0",
         "4261",
         "282",
         "2022-01-13",
         "07:43:09",
         "281",
         "2022-01-13",
         "07:47:27",
         "4.3",
         "2022-01-13 07:43:09",
         "2022-01-13 07:47:27"
        ]
       ],
       "shape": {
        "columns": 12,
        "rows": 5
       }
      },
      "text/html": [
       "<div>\n",
       "<style scoped>\n",
       "    .dataframe tbody tr th:only-of-type {\n",
       "        vertical-align: middle;\n",
       "    }\n",
       "\n",
       "    .dataframe tbody tr th {\n",
       "        vertical-align: top;\n",
       "    }\n",
       "\n",
       "    .dataframe thead th {\n",
       "        text-align: right;\n",
       "    }\n",
       "</style>\n",
       "<table border=\"1\" class=\"dataframe\">\n",
       "  <thead>\n",
       "    <tr style=\"text-align: right;\">\n",
       "      <th></th>\n",
       "      <th>Genero_Usuario</th>\n",
       "      <th>Edad_Usuario</th>\n",
       "      <th>Bici</th>\n",
       "      <th>Ciclo_Estacion_Retiro</th>\n",
       "      <th>Fecha_Retiro</th>\n",
       "      <th>Hora_Retiro</th>\n",
       "      <th>Ciclo_Estacion_Arribo</th>\n",
       "      <th>Fecha_Arribo</th>\n",
       "      <th>Hora_Arribo</th>\n",
       "      <th>Tiempo_viaje</th>\n",
       "      <th>Inicio</th>\n",
       "      <th>Fin</th>\n",
       "    </tr>\n",
       "  </thead>\n",
       "  <tbody>\n",
       "    <tr>\n",
       "      <th>0</th>\n",
       "      <td>M</td>\n",
       "      <td>40.0</td>\n",
       "      <td>8811</td>\n",
       "      <td>282</td>\n",
       "      <td>2022-01-04</td>\n",
       "      <td>07:49:31</td>\n",
       "      <td>295</td>\n",
       "      <td>2022-01-04</td>\n",
       "      <td>07:52:28</td>\n",
       "      <td>2.950000</td>\n",
       "      <td>2022-01-04 07:49:31</td>\n",
       "      <td>2022-01-04 07:52:28</td>\n",
       "    </tr>\n",
       "    <tr>\n",
       "      <th>1</th>\n",
       "      <td>M</td>\n",
       "      <td>40.0</td>\n",
       "      <td>8752</td>\n",
       "      <td>282</td>\n",
       "      <td>2022-01-06</td>\n",
       "      <td>07:45:59</td>\n",
       "      <td>295</td>\n",
       "      <td>2022-01-06</td>\n",
       "      <td>07:48:55</td>\n",
       "      <td>2.933333</td>\n",
       "      <td>2022-01-06 07:45:59</td>\n",
       "      <td>2022-01-06 07:48:55</td>\n",
       "    </tr>\n",
       "    <tr>\n",
       "      <th>2</th>\n",
       "      <td>M</td>\n",
       "      <td>40.0</td>\n",
       "      <td>12028</td>\n",
       "      <td>282</td>\n",
       "      <td>2022-01-11</td>\n",
       "      <td>07:51:56</td>\n",
       "      <td>295</td>\n",
       "      <td>2022-01-11</td>\n",
       "      <td>07:54:29</td>\n",
       "      <td>2.550000</td>\n",
       "      <td>2022-01-11 07:51:56</td>\n",
       "      <td>2022-01-11 07:54:29</td>\n",
       "    </tr>\n",
       "    <tr>\n",
       "      <th>3</th>\n",
       "      <td>M</td>\n",
       "      <td>40.0</td>\n",
       "      <td>7102</td>\n",
       "      <td>282</td>\n",
       "      <td>2022-01-12</td>\n",
       "      <td>07:43:56</td>\n",
       "      <td>295</td>\n",
       "      <td>2022-01-12</td>\n",
       "      <td>07:46:54</td>\n",
       "      <td>2.966667</td>\n",
       "      <td>2022-01-12 07:43:56</td>\n",
       "      <td>2022-01-12 07:46:54</td>\n",
       "    </tr>\n",
       "    <tr>\n",
       "      <th>4</th>\n",
       "      <td>M</td>\n",
       "      <td>40.0</td>\n",
       "      <td>4261</td>\n",
       "      <td>282</td>\n",
       "      <td>2022-01-13</td>\n",
       "      <td>07:43:09</td>\n",
       "      <td>281</td>\n",
       "      <td>2022-01-13</td>\n",
       "      <td>07:47:27</td>\n",
       "      <td>4.300000</td>\n",
       "      <td>2022-01-13 07:43:09</td>\n",
       "      <td>2022-01-13 07:47:27</td>\n",
       "    </tr>\n",
       "  </tbody>\n",
       "</table>\n",
       "</div>"
      ],
      "text/plain": [
       "  Genero_Usuario  Edad_Usuario   Bici  Ciclo_Estacion_Retiro Fecha_Retiro  \\\n",
       "0              M          40.0   8811                    282   2022-01-04   \n",
       "1              M          40.0   8752                    282   2022-01-06   \n",
       "2              M          40.0  12028                    282   2022-01-11   \n",
       "3              M          40.0   7102                    282   2022-01-12   \n",
       "4              M          40.0   4261                    282   2022-01-13   \n",
       "\n",
       "  Hora_Retiro  Ciclo_Estacion_Arribo Fecha_Arribo Hora_Arribo  Tiempo_viaje  \\\n",
       "0    07:49:31                    295   2022-01-04    07:52:28      2.950000   \n",
       "1    07:45:59                    295   2022-01-06    07:48:55      2.933333   \n",
       "2    07:51:56                    295   2022-01-11    07:54:29      2.550000   \n",
       "3    07:43:56                    295   2022-01-12    07:46:54      2.966667   \n",
       "4    07:43:09                    281   2022-01-13    07:47:27      4.300000   \n",
       "\n",
       "                Inicio                  Fin  \n",
       "0  2022-01-04 07:49:31  2022-01-04 07:52:28  \n",
       "1  2022-01-06 07:45:59  2022-01-06 07:48:55  \n",
       "2  2022-01-11 07:51:56  2022-01-11 07:54:29  \n",
       "3  2022-01-12 07:43:56  2022-01-12 07:46:54  \n",
       "4  2022-01-13 07:43:09  2022-01-13 07:47:27  "
      ]
     },
     "execution_count": 35,
     "metadata": {},
     "output_type": "execute_result"
    }
   ],
   "source": [
    "eco_2022['Fin'] = eco_2022['Fecha_Arribo'] + ' ' + eco_2022['Hora_Arribo']\n",
    "eco_2022.head()"
   ]
  },
  {
   "cell_type": "code",
   "execution_count": 36,
   "id": "e2f11f60",
   "metadata": {},
   "outputs": [
    {
     "name": "stderr",
     "output_type": "stream",
     "text": [
      "/var/folders/vk/zp_d1g0941s_66x6rkq_912w0000gn/T/ipykernel_2985/3142470168.py:35: DtypeWarning: Columns (0) have mixed types. Specify dtype option on import or set low_memory=False.\n",
      "  data = pd.read_csv(dir + name)\n"
     ]
    },
    {
     "data": {
      "application/vnd.microsoft.datawrangler.viewer.v0+json": {
       "columns": [
        {
         "name": "index",
         "rawType": "int64",
         "type": "integer"
        },
        {
         "name": "Genero_Usuario",
         "rawType": "object",
         "type": "string"
        },
        {
         "name": "Edad_Usuario",
         "rawType": "float64",
         "type": "float"
        },
        {
         "name": "Bici",
         "rawType": "int64",
         "type": "integer"
        },
        {
         "name": "Ciclo_Estacion_Retiro",
         "rawType": "int64",
         "type": "integer"
        },
        {
         "name": "Fecha_Retiro",
         "rawType": "object",
         "type": "string"
        },
        {
         "name": "Hora_Retiro",
         "rawType": "object",
         "type": "string"
        },
        {
         "name": "Ciclo_Estacion_Arribo",
         "rawType": "int64",
         "type": "integer"
        },
        {
         "name": "Fecha_Arribo",
         "rawType": "object",
         "type": "string"
        },
        {
         "name": "Hora_Arribo",
         "rawType": "object",
         "type": "string"
        },
        {
         "name": "Tiempo_viaje",
         "rawType": "float64",
         "type": "float"
        },
        {
         "name": "Inicio",
         "rawType": "object",
         "type": "string"
        },
        {
         "name": "Fin",
         "rawType": "object",
         "type": "string"
        }
       ],
       "conversionMethod": "pd.DataFrame",
       "ref": "e46f08f7-b3e8-4513-981f-c3f5ece52f77",
       "rows": [
        [
         "0",
         "M",
         "40.0",
         "8811",
         "282",
         "2022-01-04",
         "07:49:31",
         "295",
         "2022-01-04",
         "07:52:28",
         "2.95",
         "2022-01-04 07:49:31",
         "2022-01-04 07:52:28"
        ],
        [
         "1",
         "M",
         "40.0",
         "8752",
         "282",
         "2022-01-06",
         "07:45:59",
         "295",
         "2022-01-06",
         "07:48:55",
         "2.933333333333333",
         "2022-01-06 07:45:59",
         "2022-01-06 07:48:55"
        ],
        [
         "2",
         "M",
         "40.0",
         "12028",
         "282",
         "2022-01-11",
         "07:51:56",
         "295",
         "2022-01-11",
         "07:54:29",
         "2.55",
         "2022-01-11 07:51:56",
         "2022-01-11 07:54:29"
        ],
        [
         "3",
         "M",
         "40.0",
         "7102",
         "282",
         "2022-01-12",
         "07:43:56",
         "295",
         "2022-01-12",
         "07:46:54",
         "2.966666666666667",
         "2022-01-12 07:43:56",
         "2022-01-12 07:46:54"
        ],
        [
         "4",
         "M",
         "40.0",
         "4261",
         "282",
         "2022-01-13",
         "07:43:09",
         "281",
         "2022-01-13",
         "07:47:27",
         "4.3",
         "2022-01-13 07:43:09",
         "2022-01-13 07:47:27"
        ]
       ],
       "shape": {
        "columns": 12,
        "rows": 5
       }
      },
      "text/html": [
       "<div>\n",
       "<style scoped>\n",
       "    .dataframe tbody tr th:only-of-type {\n",
       "        vertical-align: middle;\n",
       "    }\n",
       "\n",
       "    .dataframe tbody tr th {\n",
       "        vertical-align: top;\n",
       "    }\n",
       "\n",
       "    .dataframe thead th {\n",
       "        text-align: right;\n",
       "    }\n",
       "</style>\n",
       "<table border=\"1\" class=\"dataframe\">\n",
       "  <thead>\n",
       "    <tr style=\"text-align: right;\">\n",
       "      <th></th>\n",
       "      <th>Genero_Usuario</th>\n",
       "      <th>Edad_Usuario</th>\n",
       "      <th>Bici</th>\n",
       "      <th>Ciclo_Estacion_Retiro</th>\n",
       "      <th>Fecha_Retiro</th>\n",
       "      <th>Hora_Retiro</th>\n",
       "      <th>Ciclo_Estacion_Arribo</th>\n",
       "      <th>Fecha_Arribo</th>\n",
       "      <th>Hora_Arribo</th>\n",
       "      <th>Tiempo_viaje</th>\n",
       "      <th>Inicio</th>\n",
       "      <th>Fin</th>\n",
       "    </tr>\n",
       "  </thead>\n",
       "  <tbody>\n",
       "    <tr>\n",
       "      <th>0</th>\n",
       "      <td>M</td>\n",
       "      <td>40.0</td>\n",
       "      <td>8811</td>\n",
       "      <td>282</td>\n",
       "      <td>2022-01-04</td>\n",
       "      <td>07:49:31</td>\n",
       "      <td>295</td>\n",
       "      <td>2022-01-04</td>\n",
       "      <td>07:52:28</td>\n",
       "      <td>2.950000</td>\n",
       "      <td>2022-01-04 07:49:31</td>\n",
       "      <td>2022-01-04 07:52:28</td>\n",
       "    </tr>\n",
       "    <tr>\n",
       "      <th>1</th>\n",
       "      <td>M</td>\n",
       "      <td>40.0</td>\n",
       "      <td>8752</td>\n",
       "      <td>282</td>\n",
       "      <td>2022-01-06</td>\n",
       "      <td>07:45:59</td>\n",
       "      <td>295</td>\n",
       "      <td>2022-01-06</td>\n",
       "      <td>07:48:55</td>\n",
       "      <td>2.933333</td>\n",
       "      <td>2022-01-06 07:45:59</td>\n",
       "      <td>2022-01-06 07:48:55</td>\n",
       "    </tr>\n",
       "    <tr>\n",
       "      <th>2</th>\n",
       "      <td>M</td>\n",
       "      <td>40.0</td>\n",
       "      <td>12028</td>\n",
       "      <td>282</td>\n",
       "      <td>2022-01-11</td>\n",
       "      <td>07:51:56</td>\n",
       "      <td>295</td>\n",
       "      <td>2022-01-11</td>\n",
       "      <td>07:54:29</td>\n",
       "      <td>2.550000</td>\n",
       "      <td>2022-01-11 07:51:56</td>\n",
       "      <td>2022-01-11 07:54:29</td>\n",
       "    </tr>\n",
       "    <tr>\n",
       "      <th>3</th>\n",
       "      <td>M</td>\n",
       "      <td>40.0</td>\n",
       "      <td>7102</td>\n",
       "      <td>282</td>\n",
       "      <td>2022-01-12</td>\n",
       "      <td>07:43:56</td>\n",
       "      <td>295</td>\n",
       "      <td>2022-01-12</td>\n",
       "      <td>07:46:54</td>\n",
       "      <td>2.966667</td>\n",
       "      <td>2022-01-12 07:43:56</td>\n",
       "      <td>2022-01-12 07:46:54</td>\n",
       "    </tr>\n",
       "    <tr>\n",
       "      <th>4</th>\n",
       "      <td>M</td>\n",
       "      <td>40.0</td>\n",
       "      <td>4261</td>\n",
       "      <td>282</td>\n",
       "      <td>2022-01-13</td>\n",
       "      <td>07:43:09</td>\n",
       "      <td>281</td>\n",
       "      <td>2022-01-13</td>\n",
       "      <td>07:47:27</td>\n",
       "      <td>4.300000</td>\n",
       "      <td>2022-01-13 07:43:09</td>\n",
       "      <td>2022-01-13 07:47:27</td>\n",
       "    </tr>\n",
       "  </tbody>\n",
       "</table>\n",
       "</div>"
      ],
      "text/plain": [
       "  Genero_Usuario  Edad_Usuario   Bici  Ciclo_Estacion_Retiro Fecha_Retiro  \\\n",
       "0              M          40.0   8811                    282   2022-01-04   \n",
       "1              M          40.0   8752                    282   2022-01-06   \n",
       "2              M          40.0  12028                    282   2022-01-11   \n",
       "3              M          40.0   7102                    282   2022-01-12   \n",
       "4              M          40.0   4261                    282   2022-01-13   \n",
       "\n",
       "  Hora_Retiro  Ciclo_Estacion_Arribo Fecha_Arribo Hora_Arribo  Tiempo_viaje  \\\n",
       "0    07:49:31                    295   2022-01-04    07:52:28      2.950000   \n",
       "1    07:45:59                    295   2022-01-06    07:48:55      2.933333   \n",
       "2    07:51:56                    295   2022-01-11    07:54:29      2.550000   \n",
       "3    07:43:56                    295   2022-01-12    07:46:54      2.966667   \n",
       "4    07:43:09                    281   2022-01-13    07:47:27      4.300000   \n",
       "\n",
       "                Inicio                  Fin  \n",
       "0  2022-01-04 07:49:31  2022-01-04 07:52:28  \n",
       "1  2022-01-06 07:45:59  2022-01-06 07:48:55  \n",
       "2  2022-01-11 07:51:56  2022-01-11 07:54:29  \n",
       "3  2022-01-12 07:43:56  2022-01-12 07:46:54  \n",
       "4  2022-01-13 07:43:09  2022-01-13 07:47:27  "
      ]
     },
     "execution_count": 36,
     "metadata": {},
     "output_type": "execute_result"
    }
   ],
   "source": [
    "eco_2022.to_csv('/Users/antoniomendez/Desktop/Tesis/Datos/datos_limpios/ecobici/ecobici_2022.csv', index = False)\n",
    "eco_2022 = load_data('ecobici/ecobici_2022.csv', flag_dir)\n",
    "eco_2022.head()"
   ]
  },
  {
   "cell_type": "code",
   "execution_count": 37,
   "id": "7668e90c",
   "metadata": {},
   "outputs": [
    {
     "data": {
      "text/plain": [
       "array(['M', 'F', nan, 'O'], dtype=object)"
      ]
     },
     "execution_count": 37,
     "metadata": {},
     "output_type": "execute_result"
    }
   ],
   "source": [
    "eco_2022['Genero_Usuario'].unique()"
   ]
  },
  {
   "cell_type": "code",
   "execution_count": 41,
   "id": "e557624b",
   "metadata": {},
   "outputs": [
    {
     "data": {
      "text/plain": [
       "(42369, 3393328, 1297514)"
      ]
     },
     "execution_count": 41,
     "metadata": {},
     "output_type": "execute_result"
    }
   ],
   "source": [
    "len(eco_2022[eco_2022['Genero_Usuario'] == 'O']), len(eco_2022[eco_2022['Genero_Usuario'] == 'M']), len(eco_2022[eco_2022['Genero_Usuario'] == 'F'])"
   ]
  },
  {
   "cell_type": "code",
   "execution_count": 42,
   "id": "2ba3b286",
   "metadata": {},
   "outputs": [],
   "source": [
    "eco_2022['Genero_Usuario'] = eco_2022['Genero_Usuario'].replace('O', 'F')"
   ]
  },
  {
   "cell_type": "code",
   "execution_count": 43,
   "id": "0827fa5c",
   "metadata": {},
   "outputs": [
    {
     "data": {
      "text/plain": [
       "array(['M', 'F', nan], dtype=object)"
      ]
     },
     "execution_count": 43,
     "metadata": {},
     "output_type": "execute_result"
    }
   ],
   "source": [
    "eco_2022['Genero_Usuario'].unique()"
   ]
  },
  {
   "cell_type": "code",
   "execution_count": 44,
   "id": "66acd10e",
   "metadata": {},
   "outputs": [
    {
     "name": "stderr",
     "output_type": "stream",
     "text": [
      "/var/folders/vk/zp_d1g0941s_66x6rkq_912w0000gn/T/ipykernel_2985/3142470168.py:35: DtypeWarning: Columns (0) have mixed types. Specify dtype option on import or set low_memory=False.\n",
      "  data = pd.read_csv(dir + name)\n"
     ]
    },
    {
     "data": {
      "application/vnd.microsoft.datawrangler.viewer.v0+json": {
       "columns": [
        {
         "name": "index",
         "rawType": "int64",
         "type": "integer"
        },
        {
         "name": "Genero_Usuario",
         "rawType": "object",
         "type": "string"
        },
        {
         "name": "Edad_Usuario",
         "rawType": "float64",
         "type": "float"
        },
        {
         "name": "Bici",
         "rawType": "int64",
         "type": "integer"
        },
        {
         "name": "Ciclo_Estacion_Retiro",
         "rawType": "int64",
         "type": "integer"
        },
        {
         "name": "Fecha_Retiro",
         "rawType": "object",
         "type": "string"
        },
        {
         "name": "Hora_Retiro",
         "rawType": "object",
         "type": "string"
        },
        {
         "name": "Ciclo_Estacion_Arribo",
         "rawType": "int64",
         "type": "integer"
        },
        {
         "name": "Fecha_Arribo",
         "rawType": "object",
         "type": "string"
        },
        {
         "name": "Hora_Arribo",
         "rawType": "object",
         "type": "string"
        },
        {
         "name": "Tiempo_viaje",
         "rawType": "float64",
         "type": "float"
        },
        {
         "name": "Inicio",
         "rawType": "object",
         "type": "string"
        },
        {
         "name": "Fin",
         "rawType": "object",
         "type": "string"
        }
       ],
       "conversionMethod": "pd.DataFrame",
       "ref": "478f2b3e-9d1d-47e4-9419-ef22d3a50804",
       "rows": [
        [
         "0",
         "M",
         "40.0",
         "8811",
         "282",
         "2022-01-04",
         "07:49:31",
         "295",
         "2022-01-04",
         "07:52:28",
         "2.95",
         "2022-01-04 07:49:31",
         "2022-01-04 07:52:28"
        ],
        [
         "1",
         "M",
         "40.0",
         "8752",
         "282",
         "2022-01-06",
         "07:45:59",
         "295",
         "2022-01-06",
         "07:48:55",
         "2.933333333333333",
         "2022-01-06 07:45:59",
         "2022-01-06 07:48:55"
        ],
        [
         "2",
         "M",
         "40.0",
         "12028",
         "282",
         "2022-01-11",
         "07:51:56",
         "295",
         "2022-01-11",
         "07:54:29",
         "2.55",
         "2022-01-11 07:51:56",
         "2022-01-11 07:54:29"
        ],
        [
         "3",
         "M",
         "40.0",
         "7102",
         "282",
         "2022-01-12",
         "07:43:56",
         "295",
         "2022-01-12",
         "07:46:54",
         "2.966666666666667",
         "2022-01-12 07:43:56",
         "2022-01-12 07:46:54"
        ],
        [
         "4",
         "M",
         "40.0",
         "4261",
         "282",
         "2022-01-13",
         "07:43:09",
         "281",
         "2022-01-13",
         "07:47:27",
         "4.3",
         "2022-01-13 07:43:09",
         "2022-01-13 07:47:27"
        ]
       ],
       "shape": {
        "columns": 12,
        "rows": 5
       }
      },
      "text/html": [
       "<div>\n",
       "<style scoped>\n",
       "    .dataframe tbody tr th:only-of-type {\n",
       "        vertical-align: middle;\n",
       "    }\n",
       "\n",
       "    .dataframe tbody tr th {\n",
       "        vertical-align: top;\n",
       "    }\n",
       "\n",
       "    .dataframe thead th {\n",
       "        text-align: right;\n",
       "    }\n",
       "</style>\n",
       "<table border=\"1\" class=\"dataframe\">\n",
       "  <thead>\n",
       "    <tr style=\"text-align: right;\">\n",
       "      <th></th>\n",
       "      <th>Genero_Usuario</th>\n",
       "      <th>Edad_Usuario</th>\n",
       "      <th>Bici</th>\n",
       "      <th>Ciclo_Estacion_Retiro</th>\n",
       "      <th>Fecha_Retiro</th>\n",
       "      <th>Hora_Retiro</th>\n",
       "      <th>Ciclo_Estacion_Arribo</th>\n",
       "      <th>Fecha_Arribo</th>\n",
       "      <th>Hora_Arribo</th>\n",
       "      <th>Tiempo_viaje</th>\n",
       "      <th>Inicio</th>\n",
       "      <th>Fin</th>\n",
       "    </tr>\n",
       "  </thead>\n",
       "  <tbody>\n",
       "    <tr>\n",
       "      <th>0</th>\n",
       "      <td>M</td>\n",
       "      <td>40.0</td>\n",
       "      <td>8811</td>\n",
       "      <td>282</td>\n",
       "      <td>2022-01-04</td>\n",
       "      <td>07:49:31</td>\n",
       "      <td>295</td>\n",
       "      <td>2022-01-04</td>\n",
       "      <td>07:52:28</td>\n",
       "      <td>2.950000</td>\n",
       "      <td>2022-01-04 07:49:31</td>\n",
       "      <td>2022-01-04 07:52:28</td>\n",
       "    </tr>\n",
       "    <tr>\n",
       "      <th>1</th>\n",
       "      <td>M</td>\n",
       "      <td>40.0</td>\n",
       "      <td>8752</td>\n",
       "      <td>282</td>\n",
       "      <td>2022-01-06</td>\n",
       "      <td>07:45:59</td>\n",
       "      <td>295</td>\n",
       "      <td>2022-01-06</td>\n",
       "      <td>07:48:55</td>\n",
       "      <td>2.933333</td>\n",
       "      <td>2022-01-06 07:45:59</td>\n",
       "      <td>2022-01-06 07:48:55</td>\n",
       "    </tr>\n",
       "    <tr>\n",
       "      <th>2</th>\n",
       "      <td>M</td>\n",
       "      <td>40.0</td>\n",
       "      <td>12028</td>\n",
       "      <td>282</td>\n",
       "      <td>2022-01-11</td>\n",
       "      <td>07:51:56</td>\n",
       "      <td>295</td>\n",
       "      <td>2022-01-11</td>\n",
       "      <td>07:54:29</td>\n",
       "      <td>2.550000</td>\n",
       "      <td>2022-01-11 07:51:56</td>\n",
       "      <td>2022-01-11 07:54:29</td>\n",
       "    </tr>\n",
       "    <tr>\n",
       "      <th>3</th>\n",
       "      <td>M</td>\n",
       "      <td>40.0</td>\n",
       "      <td>7102</td>\n",
       "      <td>282</td>\n",
       "      <td>2022-01-12</td>\n",
       "      <td>07:43:56</td>\n",
       "      <td>295</td>\n",
       "      <td>2022-01-12</td>\n",
       "      <td>07:46:54</td>\n",
       "      <td>2.966667</td>\n",
       "      <td>2022-01-12 07:43:56</td>\n",
       "      <td>2022-01-12 07:46:54</td>\n",
       "    </tr>\n",
       "    <tr>\n",
       "      <th>4</th>\n",
       "      <td>M</td>\n",
       "      <td>40.0</td>\n",
       "      <td>4261</td>\n",
       "      <td>282</td>\n",
       "      <td>2022-01-13</td>\n",
       "      <td>07:43:09</td>\n",
       "      <td>281</td>\n",
       "      <td>2022-01-13</td>\n",
       "      <td>07:47:27</td>\n",
       "      <td>4.300000</td>\n",
       "      <td>2022-01-13 07:43:09</td>\n",
       "      <td>2022-01-13 07:47:27</td>\n",
       "    </tr>\n",
       "  </tbody>\n",
       "</table>\n",
       "</div>"
      ],
      "text/plain": [
       "  Genero_Usuario  Edad_Usuario   Bici  Ciclo_Estacion_Retiro Fecha_Retiro  \\\n",
       "0              M          40.0   8811                    282   2022-01-04   \n",
       "1              M          40.0   8752                    282   2022-01-06   \n",
       "2              M          40.0  12028                    282   2022-01-11   \n",
       "3              M          40.0   7102                    282   2022-01-12   \n",
       "4              M          40.0   4261                    282   2022-01-13   \n",
       "\n",
       "  Hora_Retiro  Ciclo_Estacion_Arribo Fecha_Arribo Hora_Arribo  Tiempo_viaje  \\\n",
       "0    07:49:31                    295   2022-01-04    07:52:28      2.950000   \n",
       "1    07:45:59                    295   2022-01-06    07:48:55      2.933333   \n",
       "2    07:51:56                    295   2022-01-11    07:54:29      2.550000   \n",
       "3    07:43:56                    295   2022-01-12    07:46:54      2.966667   \n",
       "4    07:43:09                    281   2022-01-13    07:47:27      4.300000   \n",
       "\n",
       "                Inicio                  Fin  \n",
       "0  2022-01-04 07:49:31  2022-01-04 07:52:28  \n",
       "1  2022-01-06 07:45:59  2022-01-06 07:48:55  \n",
       "2  2022-01-11 07:51:56  2022-01-11 07:54:29  \n",
       "3  2022-01-12 07:43:56  2022-01-12 07:46:54  \n",
       "4  2022-01-13 07:43:09  2022-01-13 07:47:27  "
      ]
     },
     "execution_count": 44,
     "metadata": {},
     "output_type": "execute_result"
    }
   ],
   "source": [
    "eco_2022.to_csv('/Users/antoniomendez/Desktop/Tesis/Datos/datos_limpios/ecobici/ecobici_2022.csv', index = False)\n",
    "eco_2022 = load_data('ecobici/ecobici_2022.csv', flag_dir)\n",
    "eco_2022.head()"
   ]
  },
  {
   "cell_type": "code",
   "execution_count": 45,
   "id": "85bbae26",
   "metadata": {},
   "outputs": [
    {
     "data": {
      "application/vnd.microsoft.datawrangler.viewer.v0+json": {
       "columns": [
        {
         "name": "index",
         "rawType": "int64",
         "type": "integer"
        },
        {
         "name": "Genero_Usuario",
         "rawType": "object",
         "type": "string"
        },
        {
         "name": "Edad_Usuario",
         "rawType": "int64",
         "type": "integer"
        },
        {
         "name": "Bici",
         "rawType": "int64",
         "type": "integer"
        },
        {
         "name": "Ciclo_Estacion_Retiro",
         "rawType": "int64",
         "type": "integer"
        },
        {
         "name": "Fecha_Retiro",
         "rawType": "object",
         "type": "string"
        },
        {
         "name": "Hora_Retiro",
         "rawType": "object",
         "type": "string"
        },
        {
         "name": "Ciclo_Estacion_Arribo",
         "rawType": "int64",
         "type": "integer"
        },
        {
         "name": "Fecha_Arribo",
         "rawType": "object",
         "type": "string"
        },
        {
         "name": "Hora_Arribo",
         "rawType": "object",
         "type": "string"
        },
        {
         "name": "Tiempo_viaje",
         "rawType": "float64",
         "type": "float"
        },
        {
         "name": "Inicio",
         "rawType": "object",
         "type": "string"
        },
        {
         "name": "Fin",
         "rawType": "object",
         "type": "string"
        }
       ],
       "conversionMethod": "pd.DataFrame",
       "ref": "3884133b-404e-4e8d-98d9-507c540458b8",
       "rows": [
        [
         "0",
         "M",
         "36",
         "11444",
         "67",
         "2019-01-01",
         "0:08:44",
         "36",
         "2019-01-01",
         "0:14:03",
         "5.316666666666666",
         "2019-01-01 0:08:44",
         "2019-01-01 0:14:03"
        ],
        [
         "1",
         "M",
         "36",
         "9196",
         "55",
         "2019-01-01",
         "0:12:05",
         "136",
         "2019-01-01",
         "0:42:11",
         "30.1",
         "2019-01-01 0:12:05",
         "2019-01-01 0:42:11"
        ],
        [
         "2",
         "M",
         "38",
         "2612",
         "29",
         "2019-01-01",
         "0:13:15",
         "115",
         "2019-01-01",
         "0:37:47",
         "24.53333333333333",
         "2019-01-01 0:13:15",
         "2019-01-01 0:37:47"
        ],
        [
         "3",
         "M",
         "43",
         "7463",
         "29",
         "2019-01-01",
         "0:13:36",
         "115",
         "2019-01-01",
         "0:38:04",
         "24.466666666666665",
         "2019-01-01 0:13:36",
         "2019-01-01 0:38:04"
        ],
        [
         "4",
         "M",
         "37",
         "3987",
         "136",
         "2019-01-01",
         "0:15:30",
         "35",
         "2019-01-01",
         "0:22:47",
         "7.283333333333333",
         "2019-01-01 0:15:30",
         "2019-01-01 0:22:47"
        ]
       ],
       "shape": {
        "columns": 12,
        "rows": 5
       }
      },
      "text/html": [
       "<div>\n",
       "<style scoped>\n",
       "    .dataframe tbody tr th:only-of-type {\n",
       "        vertical-align: middle;\n",
       "    }\n",
       "\n",
       "    .dataframe tbody tr th {\n",
       "        vertical-align: top;\n",
       "    }\n",
       "\n",
       "    .dataframe thead th {\n",
       "        text-align: right;\n",
       "    }\n",
       "</style>\n",
       "<table border=\"1\" class=\"dataframe\">\n",
       "  <thead>\n",
       "    <tr style=\"text-align: right;\">\n",
       "      <th></th>\n",
       "      <th>Genero_Usuario</th>\n",
       "      <th>Edad_Usuario</th>\n",
       "      <th>Bici</th>\n",
       "      <th>Ciclo_Estacion_Retiro</th>\n",
       "      <th>Fecha_Retiro</th>\n",
       "      <th>Hora_Retiro</th>\n",
       "      <th>Ciclo_Estacion_Arribo</th>\n",
       "      <th>Fecha_Arribo</th>\n",
       "      <th>Hora_Arribo</th>\n",
       "      <th>Tiempo_viaje</th>\n",
       "      <th>Inicio</th>\n",
       "      <th>Fin</th>\n",
       "    </tr>\n",
       "  </thead>\n",
       "  <tbody>\n",
       "    <tr>\n",
       "      <th>0</th>\n",
       "      <td>M</td>\n",
       "      <td>36</td>\n",
       "      <td>11444</td>\n",
       "      <td>67</td>\n",
       "      <td>2019-01-01</td>\n",
       "      <td>0:08:44</td>\n",
       "      <td>36</td>\n",
       "      <td>2019-01-01</td>\n",
       "      <td>0:14:03</td>\n",
       "      <td>5.316667</td>\n",
       "      <td>2019-01-01 0:08:44</td>\n",
       "      <td>2019-01-01 0:14:03</td>\n",
       "    </tr>\n",
       "    <tr>\n",
       "      <th>1</th>\n",
       "      <td>M</td>\n",
       "      <td>36</td>\n",
       "      <td>9196</td>\n",
       "      <td>55</td>\n",
       "      <td>2019-01-01</td>\n",
       "      <td>0:12:05</td>\n",
       "      <td>136</td>\n",
       "      <td>2019-01-01</td>\n",
       "      <td>0:42:11</td>\n",
       "      <td>30.100000</td>\n",
       "      <td>2019-01-01 0:12:05</td>\n",
       "      <td>2019-01-01 0:42:11</td>\n",
       "    </tr>\n",
       "    <tr>\n",
       "      <th>2</th>\n",
       "      <td>M</td>\n",
       "      <td>38</td>\n",
       "      <td>2612</td>\n",
       "      <td>29</td>\n",
       "      <td>2019-01-01</td>\n",
       "      <td>0:13:15</td>\n",
       "      <td>115</td>\n",
       "      <td>2019-01-01</td>\n",
       "      <td>0:37:47</td>\n",
       "      <td>24.533333</td>\n",
       "      <td>2019-01-01 0:13:15</td>\n",
       "      <td>2019-01-01 0:37:47</td>\n",
       "    </tr>\n",
       "    <tr>\n",
       "      <th>3</th>\n",
       "      <td>M</td>\n",
       "      <td>43</td>\n",
       "      <td>7463</td>\n",
       "      <td>29</td>\n",
       "      <td>2019-01-01</td>\n",
       "      <td>0:13:36</td>\n",
       "      <td>115</td>\n",
       "      <td>2019-01-01</td>\n",
       "      <td>0:38:04</td>\n",
       "      <td>24.466667</td>\n",
       "      <td>2019-01-01 0:13:36</td>\n",
       "      <td>2019-01-01 0:38:04</td>\n",
       "    </tr>\n",
       "    <tr>\n",
       "      <th>4</th>\n",
       "      <td>M</td>\n",
       "      <td>37</td>\n",
       "      <td>3987</td>\n",
       "      <td>136</td>\n",
       "      <td>2019-01-01</td>\n",
       "      <td>0:15:30</td>\n",
       "      <td>35</td>\n",
       "      <td>2019-01-01</td>\n",
       "      <td>0:22:47</td>\n",
       "      <td>7.283333</td>\n",
       "      <td>2019-01-01 0:15:30</td>\n",
       "      <td>2019-01-01 0:22:47</td>\n",
       "    </tr>\n",
       "  </tbody>\n",
       "</table>\n",
       "</div>"
      ],
      "text/plain": [
       "  Genero_Usuario  Edad_Usuario   Bici  Ciclo_Estacion_Retiro Fecha_Retiro  \\\n",
       "0              M            36  11444                     67   2019-01-01   \n",
       "1              M            36   9196                     55   2019-01-01   \n",
       "2              M            38   2612                     29   2019-01-01   \n",
       "3              M            43   7463                     29   2019-01-01   \n",
       "4              M            37   3987                    136   2019-01-01   \n",
       "\n",
       "  Hora_Retiro  Ciclo_Estacion_Arribo Fecha_Arribo Hora_Arribo  Tiempo_viaje  \\\n",
       "0     0:08:44                     36   2019-01-01     0:14:03      5.316667   \n",
       "1     0:12:05                    136   2019-01-01     0:42:11     30.100000   \n",
       "2     0:13:15                    115   2019-01-01     0:37:47     24.533333   \n",
       "3     0:13:36                    115   2019-01-01     0:38:04     24.466667   \n",
       "4     0:15:30                     35   2019-01-01     0:22:47      7.283333   \n",
       "\n",
       "               Inicio                 Fin  \n",
       "0  2019-01-01 0:08:44  2019-01-01 0:14:03  \n",
       "1  2019-01-01 0:12:05  2019-01-01 0:42:11  \n",
       "2  2019-01-01 0:13:15  2019-01-01 0:37:47  \n",
       "3  2019-01-01 0:13:36  2019-01-01 0:38:04  \n",
       "4  2019-01-01 0:15:30  2019-01-01 0:22:47  "
      ]
     },
     "execution_count": 45,
     "metadata": {},
     "output_type": "execute_result"
    }
   ],
   "source": [
    "eco_2019 = load_data('ecobici/ecobici_2019.csv', flag_dir)\n",
    "eco_2019.head()"
   ]
  },
  {
   "cell_type": "code",
   "execution_count": 47,
   "id": "7561ea6d",
   "metadata": {},
   "outputs": [
    {
     "data": {
      "text/plain": [
       "array(['M', 'F'], dtype=object)"
      ]
     },
     "execution_count": 47,
     "metadata": {},
     "output_type": "execute_result"
    }
   ],
   "source": [
    "eco_2019['Genero_Usuario'].unique()"
   ]
  },
  {
   "cell_type": "code",
   "execution_count": 49,
   "id": "12b61145",
   "metadata": {},
   "outputs": [],
   "source": [
    "del eco_2019\n",
    "del eco_2022"
   ]
  },
  {
   "cell_type": "code",
   "execution_count": 50,
   "id": "e1929ed3",
   "metadata": {},
   "outputs": [
    {
     "data": {
      "application/vnd.microsoft.datawrangler.viewer.v0+json": {
       "columns": [
        {
         "name": "index",
         "rawType": "int64",
         "type": "integer"
        },
        {
         "name": "Genero_Usuario",
         "rawType": "object",
         "type": "string"
        },
        {
         "name": "Edad_Usuario",
         "rawType": "float64",
         "type": "float"
        },
        {
         "name": "Bici",
         "rawType": "int64",
         "type": "integer"
        },
        {
         "name": "Ciclo_Estacion_Retiro",
         "rawType": "int64",
         "type": "integer"
        },
        {
         "name": "Fecha_Retiro",
         "rawType": "object",
         "type": "string"
        },
        {
         "name": "Hora_Retiro",
         "rawType": "object",
         "type": "string"
        },
        {
         "name": "Ciclo_Estacion_Arribo",
         "rawType": "int64",
         "type": "integer"
        },
        {
         "name": "Fecha_Arribo",
         "rawType": "object",
         "type": "string"
        },
        {
         "name": "Hora_Arribo",
         "rawType": "object",
         "type": "string"
        },
        {
         "name": "Tiempo_viaje",
         "rawType": "float64",
         "type": "float"
        }
       ],
       "conversionMethod": "pd.DataFrame",
       "ref": "32c61f7b-b265-4dbd-b6d2-a9cff09de173",
       "rows": [
        [
         "0",
         "M",
         "45.0",
         "3297082",
         "150",
         "2022-12-31",
         "1900-01-01 23:58:00",
         "40",
         "2023-01-01",
         "1900-01-01 00:06:24",
         "1431.6"
        ],
        [
         "1",
         "F",
         "27.0",
         "8922254",
         "214",
         "2022-12-31",
         "1900-01-01 23:36:34",
         "25",
         "2023-01-01",
         "1900-01-01 00:07:08",
         "1409.4333333333334"
        ],
        [
         "2",
         "M",
         "34.0",
         "2320075",
         "214",
         "2022-12-31",
         "1900-01-01 23:36:33",
         "25",
         "2023-01-01",
         "1900-01-01 00:07:12",
         "1409.35"
        ],
        [
         "3",
         "M",
         "58.0",
         "2096493",
         "137",
         "2022-12-31",
         "1900-01-01 23:57:19",
         "36",
         "2023-01-01",
         "1900-01-01 00:07:48",
         "1429.5166666666669"
        ],
        [
         "4",
         "M",
         "23.0",
         "6294433",
         "260",
         "2022-12-31",
         "1900-01-01 23:57:42",
         "43",
         "2023-01-01",
         "1900-01-01 00:09:33",
         "1428.15"
        ]
       ],
       "shape": {
        "columns": 10,
        "rows": 5
       }
      },
      "text/html": [
       "<div>\n",
       "<style scoped>\n",
       "    .dataframe tbody tr th:only-of-type {\n",
       "        vertical-align: middle;\n",
       "    }\n",
       "\n",
       "    .dataframe tbody tr th {\n",
       "        vertical-align: top;\n",
       "    }\n",
       "\n",
       "    .dataframe thead th {\n",
       "        text-align: right;\n",
       "    }\n",
       "</style>\n",
       "<table border=\"1\" class=\"dataframe\">\n",
       "  <thead>\n",
       "    <tr style=\"text-align: right;\">\n",
       "      <th></th>\n",
       "      <th>Genero_Usuario</th>\n",
       "      <th>Edad_Usuario</th>\n",
       "      <th>Bici</th>\n",
       "      <th>Ciclo_Estacion_Retiro</th>\n",
       "      <th>Fecha_Retiro</th>\n",
       "      <th>Hora_Retiro</th>\n",
       "      <th>Ciclo_Estacion_Arribo</th>\n",
       "      <th>Fecha_Arribo</th>\n",
       "      <th>Hora_Arribo</th>\n",
       "      <th>Tiempo_viaje</th>\n",
       "    </tr>\n",
       "  </thead>\n",
       "  <tbody>\n",
       "    <tr>\n",
       "      <th>0</th>\n",
       "      <td>M</td>\n",
       "      <td>45.0</td>\n",
       "      <td>3297082</td>\n",
       "      <td>150</td>\n",
       "      <td>2022-12-31</td>\n",
       "      <td>1900-01-01 23:58:00</td>\n",
       "      <td>40</td>\n",
       "      <td>2023-01-01</td>\n",
       "      <td>1900-01-01 00:06:24</td>\n",
       "      <td>1431.600000</td>\n",
       "    </tr>\n",
       "    <tr>\n",
       "      <th>1</th>\n",
       "      <td>F</td>\n",
       "      <td>27.0</td>\n",
       "      <td>8922254</td>\n",
       "      <td>214</td>\n",
       "      <td>2022-12-31</td>\n",
       "      <td>1900-01-01 23:36:34</td>\n",
       "      <td>25</td>\n",
       "      <td>2023-01-01</td>\n",
       "      <td>1900-01-01 00:07:08</td>\n",
       "      <td>1409.433333</td>\n",
       "    </tr>\n",
       "    <tr>\n",
       "      <th>2</th>\n",
       "      <td>M</td>\n",
       "      <td>34.0</td>\n",
       "      <td>2320075</td>\n",
       "      <td>214</td>\n",
       "      <td>2022-12-31</td>\n",
       "      <td>1900-01-01 23:36:33</td>\n",
       "      <td>25</td>\n",
       "      <td>2023-01-01</td>\n",
       "      <td>1900-01-01 00:07:12</td>\n",
       "      <td>1409.350000</td>\n",
       "    </tr>\n",
       "    <tr>\n",
       "      <th>3</th>\n",
       "      <td>M</td>\n",
       "      <td>58.0</td>\n",
       "      <td>2096493</td>\n",
       "      <td>137</td>\n",
       "      <td>2022-12-31</td>\n",
       "      <td>1900-01-01 23:57:19</td>\n",
       "      <td>36</td>\n",
       "      <td>2023-01-01</td>\n",
       "      <td>1900-01-01 00:07:48</td>\n",
       "      <td>1429.516667</td>\n",
       "    </tr>\n",
       "    <tr>\n",
       "      <th>4</th>\n",
       "      <td>M</td>\n",
       "      <td>23.0</td>\n",
       "      <td>6294433</td>\n",
       "      <td>260</td>\n",
       "      <td>2022-12-31</td>\n",
       "      <td>1900-01-01 23:57:42</td>\n",
       "      <td>43</td>\n",
       "      <td>2023-01-01</td>\n",
       "      <td>1900-01-01 00:09:33</td>\n",
       "      <td>1428.150000</td>\n",
       "    </tr>\n",
       "  </tbody>\n",
       "</table>\n",
       "</div>"
      ],
      "text/plain": [
       "  Genero_Usuario  Edad_Usuario     Bici  Ciclo_Estacion_Retiro Fecha_Retiro  \\\n",
       "0              M          45.0  3297082                    150   2022-12-31   \n",
       "1              F          27.0  8922254                    214   2022-12-31   \n",
       "2              M          34.0  2320075                    214   2022-12-31   \n",
       "3              M          58.0  2096493                    137   2022-12-31   \n",
       "4              M          23.0  6294433                    260   2022-12-31   \n",
       "\n",
       "           Hora_Retiro  Ciclo_Estacion_Arribo Fecha_Arribo  \\\n",
       "0  1900-01-01 23:58:00                     40   2023-01-01   \n",
       "1  1900-01-01 23:36:34                     25   2023-01-01   \n",
       "2  1900-01-01 23:36:33                     25   2023-01-01   \n",
       "3  1900-01-01 23:57:19                     36   2023-01-01   \n",
       "4  1900-01-01 23:57:42                     43   2023-01-01   \n",
       "\n",
       "           Hora_Arribo  Tiempo_viaje  \n",
       "0  1900-01-01 00:06:24   1431.600000  \n",
       "1  1900-01-01 00:07:08   1409.433333  \n",
       "2  1900-01-01 00:07:12   1409.350000  \n",
       "3  1900-01-01 00:07:48   1429.516667  \n",
       "4  1900-01-01 00:09:33   1428.150000  "
      ]
     },
     "execution_count": 50,
     "metadata": {},
     "output_type": "execute_result"
    }
   ],
   "source": [
    "eco_2023 = load_data('ecobici/ecobici_2023.csv', flag_dir)\n",
    "eco_2023.head()"
   ]
  },
  {
   "cell_type": "code",
   "execution_count": 51,
   "id": "f724afa3",
   "metadata": {},
   "outputs": [
    {
     "data": {
      "text/plain": [
       "array(['M', 'F', 'O', nan, '?'], dtype=object)"
      ]
     },
     "execution_count": 51,
     "metadata": {},
     "output_type": "execute_result"
    }
   ],
   "source": [
    "eco_2023['Genero_Usuario'].unique()"
   ]
  },
  {
   "cell_type": "code",
   "execution_count": 54,
   "id": "617de87d",
   "metadata": {},
   "outputs": [
    {
     "data": {
      "text/plain": [
       "(275566, 8541734, 3358828, 48)"
      ]
     },
     "execution_count": 54,
     "metadata": {},
     "output_type": "execute_result"
    }
   ],
   "source": [
    "len(eco_2023[eco_2023['Genero_Usuario'] == 'O']), len(eco_2023[eco_2023['Genero_Usuario'] == 'M']), len(eco_2023[eco_2023['Genero_Usuario'] == 'F']), len(eco_2023[eco_2023['Genero_Usuario'] == '?'])"
   ]
  },
  {
   "cell_type": "code",
   "execution_count": 56,
   "id": "05bc4127",
   "metadata": {},
   "outputs": [
    {
     "data": {
      "application/vnd.microsoft.datawrangler.viewer.v0+json": {
       "columns": [
        {
         "name": "index",
         "rawType": "int64",
         "type": "integer"
        },
        {
         "name": "Genero_Usuario",
         "rawType": "object",
         "type": "string"
        },
        {
         "name": "Edad_Usuario",
         "rawType": "float64",
         "type": "float"
        },
        {
         "name": "Bici",
         "rawType": "int64",
         "type": "integer"
        },
        {
         "name": "Ciclo_Estacion_Retiro",
         "rawType": "int64",
         "type": "integer"
        },
        {
         "name": "Fecha_Retiro",
         "rawType": "object",
         "type": "string"
        },
        {
         "name": "Hora_Retiro",
         "rawType": "object",
         "type": "string"
        },
        {
         "name": "Ciclo_Estacion_Arribo",
         "rawType": "int64",
         "type": "integer"
        },
        {
         "name": "Fecha_Arribo",
         "rawType": "object",
         "type": "string"
        },
        {
         "name": "Hora_Arribo",
         "rawType": "object",
         "type": "string"
        },
        {
         "name": "Tiempo_viaje",
         "rawType": "float64",
         "type": "float"
        },
        {
         "name": "Inicio",
         "rawType": "object",
         "type": "string"
        }
       ],
       "conversionMethod": "pd.DataFrame",
       "ref": "bf8d9674-c981-481a-b72e-c5248ff2d589",
       "rows": [
        [
         "0",
         "M",
         "45.0",
         "3297082",
         "150",
         "2022-12-31",
         "1900-01-01 23:58:00",
         "40",
         "2023-01-01",
         "1900-01-01 00:06:24",
         "1431.6",
         "2022-12-31 23:58:00"
        ],
        [
         "1",
         "F",
         "27.0",
         "8922254",
         "214",
         "2022-12-31",
         "1900-01-01 23:36:34",
         "25",
         "2023-01-01",
         "1900-01-01 00:07:08",
         "1409.4333333333334",
         "2022-12-31 23:36:34"
        ],
        [
         "2",
         "M",
         "34.0",
         "2320075",
         "214",
         "2022-12-31",
         "1900-01-01 23:36:33",
         "25",
         "2023-01-01",
         "1900-01-01 00:07:12",
         "1409.35",
         "2022-12-31 23:36:33"
        ],
        [
         "3",
         "M",
         "58.0",
         "2096493",
         "137",
         "2022-12-31",
         "1900-01-01 23:57:19",
         "36",
         "2023-01-01",
         "1900-01-01 00:07:48",
         "1429.5166666666669",
         "2022-12-31 23:57:19"
        ],
        [
         "4",
         "M",
         "23.0",
         "6294433",
         "260",
         "2022-12-31",
         "1900-01-01 23:57:42",
         "43",
         "2023-01-01",
         "1900-01-01 00:09:33",
         "1428.15",
         "2022-12-31 23:57:42"
        ]
       ],
       "shape": {
        "columns": 11,
        "rows": 5
       }
      },
      "text/html": [
       "<div>\n",
       "<style scoped>\n",
       "    .dataframe tbody tr th:only-of-type {\n",
       "        vertical-align: middle;\n",
       "    }\n",
       "\n",
       "    .dataframe tbody tr th {\n",
       "        vertical-align: top;\n",
       "    }\n",
       "\n",
       "    .dataframe thead th {\n",
       "        text-align: right;\n",
       "    }\n",
       "</style>\n",
       "<table border=\"1\" class=\"dataframe\">\n",
       "  <thead>\n",
       "    <tr style=\"text-align: right;\">\n",
       "      <th></th>\n",
       "      <th>Genero_Usuario</th>\n",
       "      <th>Edad_Usuario</th>\n",
       "      <th>Bici</th>\n",
       "      <th>Ciclo_Estacion_Retiro</th>\n",
       "      <th>Fecha_Retiro</th>\n",
       "      <th>Hora_Retiro</th>\n",
       "      <th>Ciclo_Estacion_Arribo</th>\n",
       "      <th>Fecha_Arribo</th>\n",
       "      <th>Hora_Arribo</th>\n",
       "      <th>Tiempo_viaje</th>\n",
       "      <th>Inicio</th>\n",
       "    </tr>\n",
       "  </thead>\n",
       "  <tbody>\n",
       "    <tr>\n",
       "      <th>0</th>\n",
       "      <td>M</td>\n",
       "      <td>45.0</td>\n",
       "      <td>3297082</td>\n",
       "      <td>150</td>\n",
       "      <td>2022-12-31</td>\n",
       "      <td>1900-01-01 23:58:00</td>\n",
       "      <td>40</td>\n",
       "      <td>2023-01-01</td>\n",
       "      <td>1900-01-01 00:06:24</td>\n",
       "      <td>1431.600000</td>\n",
       "      <td>2022-12-31 23:58:00</td>\n",
       "    </tr>\n",
       "    <tr>\n",
       "      <th>1</th>\n",
       "      <td>F</td>\n",
       "      <td>27.0</td>\n",
       "      <td>8922254</td>\n",
       "      <td>214</td>\n",
       "      <td>2022-12-31</td>\n",
       "      <td>1900-01-01 23:36:34</td>\n",
       "      <td>25</td>\n",
       "      <td>2023-01-01</td>\n",
       "      <td>1900-01-01 00:07:08</td>\n",
       "      <td>1409.433333</td>\n",
       "      <td>2022-12-31 23:36:34</td>\n",
       "    </tr>\n",
       "    <tr>\n",
       "      <th>2</th>\n",
       "      <td>M</td>\n",
       "      <td>34.0</td>\n",
       "      <td>2320075</td>\n",
       "      <td>214</td>\n",
       "      <td>2022-12-31</td>\n",
       "      <td>1900-01-01 23:36:33</td>\n",
       "      <td>25</td>\n",
       "      <td>2023-01-01</td>\n",
       "      <td>1900-01-01 00:07:12</td>\n",
       "      <td>1409.350000</td>\n",
       "      <td>2022-12-31 23:36:33</td>\n",
       "    </tr>\n",
       "    <tr>\n",
       "      <th>3</th>\n",
       "      <td>M</td>\n",
       "      <td>58.0</td>\n",
       "      <td>2096493</td>\n",
       "      <td>137</td>\n",
       "      <td>2022-12-31</td>\n",
       "      <td>1900-01-01 23:57:19</td>\n",
       "      <td>36</td>\n",
       "      <td>2023-01-01</td>\n",
       "      <td>1900-01-01 00:07:48</td>\n",
       "      <td>1429.516667</td>\n",
       "      <td>2022-12-31 23:57:19</td>\n",
       "    </tr>\n",
       "    <tr>\n",
       "      <th>4</th>\n",
       "      <td>M</td>\n",
       "      <td>23.0</td>\n",
       "      <td>6294433</td>\n",
       "      <td>260</td>\n",
       "      <td>2022-12-31</td>\n",
       "      <td>1900-01-01 23:57:42</td>\n",
       "      <td>43</td>\n",
       "      <td>2023-01-01</td>\n",
       "      <td>1900-01-01 00:09:33</td>\n",
       "      <td>1428.150000</td>\n",
       "      <td>2022-12-31 23:57:42</td>\n",
       "    </tr>\n",
       "  </tbody>\n",
       "</table>\n",
       "</div>"
      ],
      "text/plain": [
       "  Genero_Usuario  Edad_Usuario     Bici  Ciclo_Estacion_Retiro Fecha_Retiro  \\\n",
       "0              M          45.0  3297082                    150   2022-12-31   \n",
       "1              F          27.0  8922254                    214   2022-12-31   \n",
       "2              M          34.0  2320075                    214   2022-12-31   \n",
       "3              M          58.0  2096493                    137   2022-12-31   \n",
       "4              M          23.0  6294433                    260   2022-12-31   \n",
       "\n",
       "           Hora_Retiro  Ciclo_Estacion_Arribo Fecha_Arribo  \\\n",
       "0  1900-01-01 23:58:00                     40   2023-01-01   \n",
       "1  1900-01-01 23:36:34                     25   2023-01-01   \n",
       "2  1900-01-01 23:36:33                     25   2023-01-01   \n",
       "3  1900-01-01 23:57:19                     36   2023-01-01   \n",
       "4  1900-01-01 23:57:42                     43   2023-01-01   \n",
       "\n",
       "           Hora_Arribo  Tiempo_viaje               Inicio  \n",
       "0  1900-01-01 00:06:24   1431.600000  2022-12-31 23:58:00  \n",
       "1  1900-01-01 00:07:08   1409.433333  2022-12-31 23:36:34  \n",
       "2  1900-01-01 00:07:12   1409.350000  2022-12-31 23:36:33  \n",
       "3  1900-01-01 00:07:48   1429.516667  2022-12-31 23:57:19  \n",
       "4  1900-01-01 00:09:33   1428.150000  2022-12-31 23:57:42  "
      ]
     },
     "execution_count": 56,
     "metadata": {},
     "output_type": "execute_result"
    }
   ],
   "source": [
    "eco_2023['Inicio'] = eco_2023['Fecha_Retiro'] + ' ' + eco_2023['Hora_Retiro'].str[-8:]\n",
    "eco_2023.head()"
   ]
  },
  {
   "cell_type": "code",
   "execution_count": 57,
   "id": "00af8146",
   "metadata": {},
   "outputs": [
    {
     "data": {
      "application/vnd.microsoft.datawrangler.viewer.v0+json": {
       "columns": [
        {
         "name": "index",
         "rawType": "int64",
         "type": "integer"
        },
        {
         "name": "Genero_Usuario",
         "rawType": "object",
         "type": "string"
        },
        {
         "name": "Edad_Usuario",
         "rawType": "float64",
         "type": "float"
        },
        {
         "name": "Bici",
         "rawType": "int64",
         "type": "integer"
        },
        {
         "name": "Ciclo_Estacion_Retiro",
         "rawType": "int64",
         "type": "integer"
        },
        {
         "name": "Fecha_Retiro",
         "rawType": "object",
         "type": "string"
        },
        {
         "name": "Hora_Retiro",
         "rawType": "object",
         "type": "string"
        },
        {
         "name": "Ciclo_Estacion_Arribo",
         "rawType": "int64",
         "type": "integer"
        },
        {
         "name": "Fecha_Arribo",
         "rawType": "object",
         "type": "string"
        },
        {
         "name": "Hora_Arribo",
         "rawType": "object",
         "type": "string"
        },
        {
         "name": "Tiempo_viaje",
         "rawType": "float64",
         "type": "float"
        },
        {
         "name": "Inicio",
         "rawType": "object",
         "type": "string"
        },
        {
         "name": "Fin",
         "rawType": "object",
         "type": "string"
        }
       ],
       "conversionMethod": "pd.DataFrame",
       "ref": "584e3c37-7ae3-4346-9c7c-fbe20df6aa92",
       "rows": [
        [
         "0",
         "M",
         "45.0",
         "3297082",
         "150",
         "2022-12-31",
         "1900-01-01 23:58:00",
         "40",
         "2023-01-01",
         "1900-01-01 00:06:24",
         "1431.6",
         "2022-12-31 23:58:00",
         "2023-01-01 00:06:24"
        ],
        [
         "1",
         "F",
         "27.0",
         "8922254",
         "214",
         "2022-12-31",
         "1900-01-01 23:36:34",
         "25",
         "2023-01-01",
         "1900-01-01 00:07:08",
         "1409.4333333333334",
         "2022-12-31 23:36:34",
         "2023-01-01 00:07:08"
        ],
        [
         "2",
         "M",
         "34.0",
         "2320075",
         "214",
         "2022-12-31",
         "1900-01-01 23:36:33",
         "25",
         "2023-01-01",
         "1900-01-01 00:07:12",
         "1409.35",
         "2022-12-31 23:36:33",
         "2023-01-01 00:07:12"
        ],
        [
         "3",
         "M",
         "58.0",
         "2096493",
         "137",
         "2022-12-31",
         "1900-01-01 23:57:19",
         "36",
         "2023-01-01",
         "1900-01-01 00:07:48",
         "1429.5166666666669",
         "2022-12-31 23:57:19",
         "2023-01-01 00:07:48"
        ],
        [
         "4",
         "M",
         "23.0",
         "6294433",
         "260",
         "2022-12-31",
         "1900-01-01 23:57:42",
         "43",
         "2023-01-01",
         "1900-01-01 00:09:33",
         "1428.15",
         "2022-12-31 23:57:42",
         "2023-01-01 00:09:33"
        ]
       ],
       "shape": {
        "columns": 12,
        "rows": 5
       }
      },
      "text/html": [
       "<div>\n",
       "<style scoped>\n",
       "    .dataframe tbody tr th:only-of-type {\n",
       "        vertical-align: middle;\n",
       "    }\n",
       "\n",
       "    .dataframe tbody tr th {\n",
       "        vertical-align: top;\n",
       "    }\n",
       "\n",
       "    .dataframe thead th {\n",
       "        text-align: right;\n",
       "    }\n",
       "</style>\n",
       "<table border=\"1\" class=\"dataframe\">\n",
       "  <thead>\n",
       "    <tr style=\"text-align: right;\">\n",
       "      <th></th>\n",
       "      <th>Genero_Usuario</th>\n",
       "      <th>Edad_Usuario</th>\n",
       "      <th>Bici</th>\n",
       "      <th>Ciclo_Estacion_Retiro</th>\n",
       "      <th>Fecha_Retiro</th>\n",
       "      <th>Hora_Retiro</th>\n",
       "      <th>Ciclo_Estacion_Arribo</th>\n",
       "      <th>Fecha_Arribo</th>\n",
       "      <th>Hora_Arribo</th>\n",
       "      <th>Tiempo_viaje</th>\n",
       "      <th>Inicio</th>\n",
       "      <th>Fin</th>\n",
       "    </tr>\n",
       "  </thead>\n",
       "  <tbody>\n",
       "    <tr>\n",
       "      <th>0</th>\n",
       "      <td>M</td>\n",
       "      <td>45.0</td>\n",
       "      <td>3297082</td>\n",
       "      <td>150</td>\n",
       "      <td>2022-12-31</td>\n",
       "      <td>1900-01-01 23:58:00</td>\n",
       "      <td>40</td>\n",
       "      <td>2023-01-01</td>\n",
       "      <td>1900-01-01 00:06:24</td>\n",
       "      <td>1431.600000</td>\n",
       "      <td>2022-12-31 23:58:00</td>\n",
       "      <td>2023-01-01 00:06:24</td>\n",
       "    </tr>\n",
       "    <tr>\n",
       "      <th>1</th>\n",
       "      <td>F</td>\n",
       "      <td>27.0</td>\n",
       "      <td>8922254</td>\n",
       "      <td>214</td>\n",
       "      <td>2022-12-31</td>\n",
       "      <td>1900-01-01 23:36:34</td>\n",
       "      <td>25</td>\n",
       "      <td>2023-01-01</td>\n",
       "      <td>1900-01-01 00:07:08</td>\n",
       "      <td>1409.433333</td>\n",
       "      <td>2022-12-31 23:36:34</td>\n",
       "      <td>2023-01-01 00:07:08</td>\n",
       "    </tr>\n",
       "    <tr>\n",
       "      <th>2</th>\n",
       "      <td>M</td>\n",
       "      <td>34.0</td>\n",
       "      <td>2320075</td>\n",
       "      <td>214</td>\n",
       "      <td>2022-12-31</td>\n",
       "      <td>1900-01-01 23:36:33</td>\n",
       "      <td>25</td>\n",
       "      <td>2023-01-01</td>\n",
       "      <td>1900-01-01 00:07:12</td>\n",
       "      <td>1409.350000</td>\n",
       "      <td>2022-12-31 23:36:33</td>\n",
       "      <td>2023-01-01 00:07:12</td>\n",
       "    </tr>\n",
       "    <tr>\n",
       "      <th>3</th>\n",
       "      <td>M</td>\n",
       "      <td>58.0</td>\n",
       "      <td>2096493</td>\n",
       "      <td>137</td>\n",
       "      <td>2022-12-31</td>\n",
       "      <td>1900-01-01 23:57:19</td>\n",
       "      <td>36</td>\n",
       "      <td>2023-01-01</td>\n",
       "      <td>1900-01-01 00:07:48</td>\n",
       "      <td>1429.516667</td>\n",
       "      <td>2022-12-31 23:57:19</td>\n",
       "      <td>2023-01-01 00:07:48</td>\n",
       "    </tr>\n",
       "    <tr>\n",
       "      <th>4</th>\n",
       "      <td>M</td>\n",
       "      <td>23.0</td>\n",
       "      <td>6294433</td>\n",
       "      <td>260</td>\n",
       "      <td>2022-12-31</td>\n",
       "      <td>1900-01-01 23:57:42</td>\n",
       "      <td>43</td>\n",
       "      <td>2023-01-01</td>\n",
       "      <td>1900-01-01 00:09:33</td>\n",
       "      <td>1428.150000</td>\n",
       "      <td>2022-12-31 23:57:42</td>\n",
       "      <td>2023-01-01 00:09:33</td>\n",
       "    </tr>\n",
       "  </tbody>\n",
       "</table>\n",
       "</div>"
      ],
      "text/plain": [
       "  Genero_Usuario  Edad_Usuario     Bici  Ciclo_Estacion_Retiro Fecha_Retiro  \\\n",
       "0              M          45.0  3297082                    150   2022-12-31   \n",
       "1              F          27.0  8922254                    214   2022-12-31   \n",
       "2              M          34.0  2320075                    214   2022-12-31   \n",
       "3              M          58.0  2096493                    137   2022-12-31   \n",
       "4              M          23.0  6294433                    260   2022-12-31   \n",
       "\n",
       "           Hora_Retiro  Ciclo_Estacion_Arribo Fecha_Arribo  \\\n",
       "0  1900-01-01 23:58:00                     40   2023-01-01   \n",
       "1  1900-01-01 23:36:34                     25   2023-01-01   \n",
       "2  1900-01-01 23:36:33                     25   2023-01-01   \n",
       "3  1900-01-01 23:57:19                     36   2023-01-01   \n",
       "4  1900-01-01 23:57:42                     43   2023-01-01   \n",
       "\n",
       "           Hora_Arribo  Tiempo_viaje               Inicio                  Fin  \n",
       "0  1900-01-01 00:06:24   1431.600000  2022-12-31 23:58:00  2023-01-01 00:06:24  \n",
       "1  1900-01-01 00:07:08   1409.433333  2022-12-31 23:36:34  2023-01-01 00:07:08  \n",
       "2  1900-01-01 00:07:12   1409.350000  2022-12-31 23:36:33  2023-01-01 00:07:12  \n",
       "3  1900-01-01 00:07:48   1429.516667  2022-12-31 23:57:19  2023-01-01 00:07:48  \n",
       "4  1900-01-01 00:09:33   1428.150000  2022-12-31 23:57:42  2023-01-01 00:09:33  "
      ]
     },
     "execution_count": 57,
     "metadata": {},
     "output_type": "execute_result"
    }
   ],
   "source": [
    "eco_2023['Fin'] = eco_2023['Fecha_Arribo'] + ' ' + eco_2023['Hora_Arribo'].str[-8:]\n",
    "eco_2023.head()"
   ]
  },
  {
   "cell_type": "code",
   "execution_count": 58,
   "id": "cea2cb3d",
   "metadata": {},
   "outputs": [
    {
     "data": {
      "application/vnd.microsoft.datawrangler.viewer.v0+json": {
       "columns": [
        {
         "name": "index",
         "rawType": "int64",
         "type": "integer"
        },
        {
         "name": "Genero_Usuario",
         "rawType": "object",
         "type": "string"
        },
        {
         "name": "Edad_Usuario",
         "rawType": "float64",
         "type": "float"
        },
        {
         "name": "Bici",
         "rawType": "int64",
         "type": "integer"
        },
        {
         "name": "Ciclo_Estacion_Retiro",
         "rawType": "int64",
         "type": "integer"
        },
        {
         "name": "Fecha_Retiro",
         "rawType": "object",
         "type": "string"
        },
        {
         "name": "Hora_Retiro",
         "rawType": "object",
         "type": "string"
        },
        {
         "name": "Ciclo_Estacion_Arribo",
         "rawType": "int64",
         "type": "integer"
        },
        {
         "name": "Fecha_Arribo",
         "rawType": "object",
         "type": "string"
        },
        {
         "name": "Hora_Arribo",
         "rawType": "object",
         "type": "string"
        },
        {
         "name": "Tiempo_viaje",
         "rawType": "float64",
         "type": "float"
        },
        {
         "name": "Inicio",
         "rawType": "object",
         "type": "string"
        },
        {
         "name": "Fin",
         "rawType": "object",
         "type": "string"
        }
       ],
       "conversionMethod": "pd.DataFrame",
       "ref": "946c2ea7-c7ae-4552-8de1-7ad846c291d7",
       "rows": [
        [
         "0",
         "M",
         "45.0",
         "3297082",
         "150",
         "2022-12-31",
         "1900-01-01 23:58:00",
         "40",
         "2023-01-01",
         "1900-01-01 00:06:24",
         "1431.6",
         "2022-12-31 23:58:00",
         "2023-01-01 00:06:24"
        ],
        [
         "1",
         "F",
         "27.0",
         "8922254",
         "214",
         "2022-12-31",
         "1900-01-01 23:36:34",
         "25",
         "2023-01-01",
         "1900-01-01 00:07:08",
         "1409.4333333333334",
         "2022-12-31 23:36:34",
         "2023-01-01 00:07:08"
        ],
        [
         "2",
         "M",
         "34.0",
         "2320075",
         "214",
         "2022-12-31",
         "1900-01-01 23:36:33",
         "25",
         "2023-01-01",
         "1900-01-01 00:07:12",
         "1409.35",
         "2022-12-31 23:36:33",
         "2023-01-01 00:07:12"
        ],
        [
         "3",
         "M",
         "58.0",
         "2096493",
         "137",
         "2022-12-31",
         "1900-01-01 23:57:19",
         "36",
         "2023-01-01",
         "1900-01-01 00:07:48",
         "1429.5166666666669",
         "2022-12-31 23:57:19",
         "2023-01-01 00:07:48"
        ],
        [
         "4",
         "M",
         "23.0",
         "6294433",
         "260",
         "2022-12-31",
         "1900-01-01 23:57:42",
         "43",
         "2023-01-01",
         "1900-01-01 00:09:33",
         "1428.15",
         "2022-12-31 23:57:42",
         "2023-01-01 00:09:33"
        ]
       ],
       "shape": {
        "columns": 12,
        "rows": 5
       }
      },
      "text/html": [
       "<div>\n",
       "<style scoped>\n",
       "    .dataframe tbody tr th:only-of-type {\n",
       "        vertical-align: middle;\n",
       "    }\n",
       "\n",
       "    .dataframe tbody tr th {\n",
       "        vertical-align: top;\n",
       "    }\n",
       "\n",
       "    .dataframe thead th {\n",
       "        text-align: right;\n",
       "    }\n",
       "</style>\n",
       "<table border=\"1\" class=\"dataframe\">\n",
       "  <thead>\n",
       "    <tr style=\"text-align: right;\">\n",
       "      <th></th>\n",
       "      <th>Genero_Usuario</th>\n",
       "      <th>Edad_Usuario</th>\n",
       "      <th>Bici</th>\n",
       "      <th>Ciclo_Estacion_Retiro</th>\n",
       "      <th>Fecha_Retiro</th>\n",
       "      <th>Hora_Retiro</th>\n",
       "      <th>Ciclo_Estacion_Arribo</th>\n",
       "      <th>Fecha_Arribo</th>\n",
       "      <th>Hora_Arribo</th>\n",
       "      <th>Tiempo_viaje</th>\n",
       "      <th>Inicio</th>\n",
       "      <th>Fin</th>\n",
       "    </tr>\n",
       "  </thead>\n",
       "  <tbody>\n",
       "    <tr>\n",
       "      <th>0</th>\n",
       "      <td>M</td>\n",
       "      <td>45.0</td>\n",
       "      <td>3297082</td>\n",
       "      <td>150</td>\n",
       "      <td>2022-12-31</td>\n",
       "      <td>1900-01-01 23:58:00</td>\n",
       "      <td>40</td>\n",
       "      <td>2023-01-01</td>\n",
       "      <td>1900-01-01 00:06:24</td>\n",
       "      <td>1431.600000</td>\n",
       "      <td>2022-12-31 23:58:00</td>\n",
       "      <td>2023-01-01 00:06:24</td>\n",
       "    </tr>\n",
       "    <tr>\n",
       "      <th>1</th>\n",
       "      <td>F</td>\n",
       "      <td>27.0</td>\n",
       "      <td>8922254</td>\n",
       "      <td>214</td>\n",
       "      <td>2022-12-31</td>\n",
       "      <td>1900-01-01 23:36:34</td>\n",
       "      <td>25</td>\n",
       "      <td>2023-01-01</td>\n",
       "      <td>1900-01-01 00:07:08</td>\n",
       "      <td>1409.433333</td>\n",
       "      <td>2022-12-31 23:36:34</td>\n",
       "      <td>2023-01-01 00:07:08</td>\n",
       "    </tr>\n",
       "    <tr>\n",
       "      <th>2</th>\n",
       "      <td>M</td>\n",
       "      <td>34.0</td>\n",
       "      <td>2320075</td>\n",
       "      <td>214</td>\n",
       "      <td>2022-12-31</td>\n",
       "      <td>1900-01-01 23:36:33</td>\n",
       "      <td>25</td>\n",
       "      <td>2023-01-01</td>\n",
       "      <td>1900-01-01 00:07:12</td>\n",
       "      <td>1409.350000</td>\n",
       "      <td>2022-12-31 23:36:33</td>\n",
       "      <td>2023-01-01 00:07:12</td>\n",
       "    </tr>\n",
       "    <tr>\n",
       "      <th>3</th>\n",
       "      <td>M</td>\n",
       "      <td>58.0</td>\n",
       "      <td>2096493</td>\n",
       "      <td>137</td>\n",
       "      <td>2022-12-31</td>\n",
       "      <td>1900-01-01 23:57:19</td>\n",
       "      <td>36</td>\n",
       "      <td>2023-01-01</td>\n",
       "      <td>1900-01-01 00:07:48</td>\n",
       "      <td>1429.516667</td>\n",
       "      <td>2022-12-31 23:57:19</td>\n",
       "      <td>2023-01-01 00:07:48</td>\n",
       "    </tr>\n",
       "    <tr>\n",
       "      <th>4</th>\n",
       "      <td>M</td>\n",
       "      <td>23.0</td>\n",
       "      <td>6294433</td>\n",
       "      <td>260</td>\n",
       "      <td>2022-12-31</td>\n",
       "      <td>1900-01-01 23:57:42</td>\n",
       "      <td>43</td>\n",
       "      <td>2023-01-01</td>\n",
       "      <td>1900-01-01 00:09:33</td>\n",
       "      <td>1428.150000</td>\n",
       "      <td>2022-12-31 23:57:42</td>\n",
       "      <td>2023-01-01 00:09:33</td>\n",
       "    </tr>\n",
       "  </tbody>\n",
       "</table>\n",
       "</div>"
      ],
      "text/plain": [
       "  Genero_Usuario  Edad_Usuario     Bici  Ciclo_Estacion_Retiro Fecha_Retiro  \\\n",
       "0              M          45.0  3297082                    150   2022-12-31   \n",
       "1              F          27.0  8922254                    214   2022-12-31   \n",
       "2              M          34.0  2320075                    214   2022-12-31   \n",
       "3              M          58.0  2096493                    137   2022-12-31   \n",
       "4              M          23.0  6294433                    260   2022-12-31   \n",
       "\n",
       "           Hora_Retiro  Ciclo_Estacion_Arribo Fecha_Arribo  \\\n",
       "0  1900-01-01 23:58:00                     40   2023-01-01   \n",
       "1  1900-01-01 23:36:34                     25   2023-01-01   \n",
       "2  1900-01-01 23:36:33                     25   2023-01-01   \n",
       "3  1900-01-01 23:57:19                     36   2023-01-01   \n",
       "4  1900-01-01 23:57:42                     43   2023-01-01   \n",
       "\n",
       "           Hora_Arribo  Tiempo_viaje               Inicio                  Fin  \n",
       "0  1900-01-01 00:06:24   1431.600000  2022-12-31 23:58:00  2023-01-01 00:06:24  \n",
       "1  1900-01-01 00:07:08   1409.433333  2022-12-31 23:36:34  2023-01-01 00:07:08  \n",
       "2  1900-01-01 00:07:12   1409.350000  2022-12-31 23:36:33  2023-01-01 00:07:12  \n",
       "3  1900-01-01 00:07:48   1429.516667  2022-12-31 23:57:19  2023-01-01 00:07:48  \n",
       "4  1900-01-01 00:09:33   1428.150000  2022-12-31 23:57:42  2023-01-01 00:09:33  "
      ]
     },
     "execution_count": 58,
     "metadata": {},
     "output_type": "execute_result"
    }
   ],
   "source": [
    "eco_2023.to_csv('/Users/antoniomendez/Desktop/Tesis/Datos/datos_limpios/ecobici/ecobici_2023.csv', index = False)\n",
    "eco_2023 = load_data('ecobici/ecobici_2023.csv', flag_dir)\n",
    "eco_2023.head()"
   ]
  },
  {
   "cell_type": "code",
   "execution_count": 59,
   "id": "beb2945b",
   "metadata": {},
   "outputs": [],
   "source": [
    "del eco_2023"
   ]
  },
  {
   "cell_type": "code",
   "execution_count": 3,
   "id": "2a70f721",
   "metadata": {},
   "outputs": [],
   "source": [
    "est_2024 = np.load('/Users/antoniomendez/Desktop/Tesis/Datos/Adj_eco/matrices_estaciones/est_2024.npy')"
   ]
  },
  {
   "cell_type": "code",
   "execution_count": 4,
   "id": "e0a2a762",
   "metadata": {},
   "outputs": [
    {
     "data": {
      "text/plain": [
       "array([[  1.        ,  19.4335895 , -99.1678193 ],\n",
       "       [  2.        ,  19.43062276, -99.17123066],\n",
       "       [  3.        ,  19.43163   , -99.158547  ],\n",
       "       ...,\n",
       "       [709.        ,  19.344271  , -99.149973  ],\n",
       "       [710.        ,  19.4168415 , -99.1925204 ],\n",
       "       [711.        ,  19.4136683 , -99.1919528 ]], shape=(676, 3))"
      ]
     },
     "execution_count": 4,
     "metadata": {},
     "output_type": "execute_result"
    }
   ],
   "source": [
    "est_2024"
   ]
  },
  {
   "cell_type": "code",
   "execution_count": 5,
   "id": "bcbc9213",
   "metadata": {},
   "outputs": [],
   "source": [
    "eco_2024_1 = pd.read_csv('data_eco/ecobici_2024_enero.csv')\n",
    "eco_2024_2 = pd.read_csv('data_eco/2024-02.csv')\n",
    "eco_2024_3 = pd.read_csv('data_eco/datos_abiertos_2024_03-1-1.csv')\n",
    "eco_2024_4 = pd.read_csv('data_eco/datos_abiertos_2024_04.csv')\n",
    "eco_2024_5 = pd.read_csv('data_eco/2024-05-1.csv')\n",
    "eco_2024_6 = pd.read_csv('data_eco/2024-06.csv')\n",
    "eco_2024_7 = pd.read_csv('data_eco/datos_abiertos_2024_07.csv')\n",
    "eco_2024_8 = pd.read_csv('data_eco/2024-08.csv')\n",
    "eco_2024_9 = pd.read_csv('data_eco/2024-09.csv')\n",
    "eco_2024_10 = pd.read_csv('data_eco/2024-10.csv')\n",
    "eco_2024_11 = pd.read_csv('data_eco/2024-11.csv')\n",
    "eco_2024_12 = pd.read_csv('data_eco/2024-12.csv')"
   ]
  },
  {
   "cell_type": "code",
   "execution_count": 6,
   "id": "722c63af",
   "metadata": {},
   "outputs": [],
   "source": [
    "eco_2024_list = [eco_2024_1, eco_2024_2, eco_2024_3, eco_2024_4, eco_2024_5, eco_2024_6, eco_2024_7, eco_2024_8, eco_2024_9, eco_2024_10, eco_2024_11, eco_2024_12]"
   ]
  },
  {
   "cell_type": "code",
   "execution_count": 7,
   "id": "a2aefc57",
   "metadata": {},
   "outputs": [
    {
     "data": {
      "application/vnd.microsoft.datawrangler.viewer.v0+json": {
       "columns": [
        {
         "name": "index",
         "rawType": "int64",
         "type": "integer"
        },
        {
         "name": "Genero_Usuario",
         "rawType": "object",
         "type": "string"
        },
        {
         "name": "Edad_Usuario",
         "rawType": "float64",
         "type": "float"
        },
        {
         "name": "Bici",
         "rawType": "int64",
         "type": "integer"
        },
        {
         "name": "Ciclo_Estacion_Retiro",
         "rawType": "object",
         "type": "string"
        },
        {
         "name": "Fecha_Retiro",
         "rawType": "object",
         "type": "string"
        },
        {
         "name": "Hora_Retiro",
         "rawType": "object",
         "type": "string"
        },
        {
         "name": "Ciclo_EstacionArribo",
         "rawType": "object",
         "type": "string"
        },
        {
         "name": "Fecha Arribo",
         "rawType": "object",
         "type": "string"
        },
        {
         "name": "Hora_Arribo",
         "rawType": "object",
         "type": "string"
        }
       ],
       "conversionMethod": "pd.DataFrame",
       "ref": "ec50bba5-f39a-429a-9eb6-61a9840b191e",
       "rows": [
        [
         "0",
         "M",
         "48.0",
         "3371879",
         "113",
         "31/12/2023",
         "23:21:52",
         "659",
         "01/01/2024",
         "00:00:02"
        ],
        [
         "1",
         "F",
         "26.0",
         "7033434",
         "281",
         "31/12/2023",
         "23:46:02",
         "047",
         "01/01/2024",
         "00:00:02"
        ],
        [
         "2",
         "F",
         "37.0",
         "7169857",
         "015",
         "31/12/2023",
         "23:51:57",
         "217",
         "01/01/2024",
         "00:00:49"
        ],
        [
         "3",
         "F",
         "30.0",
         "6368211",
         "555",
         "31/12/2023",
         "23:53:10",
         "008",
         "01/01/2024",
         "00:02:39"
        ],
        [
         "4",
         "M",
         "30.0",
         "5136924",
         "555",
         "31/12/2023",
         "23:52:53",
         "008",
         "01/01/2024",
         "00:02:45"
        ]
       ],
       "shape": {
        "columns": 9,
        "rows": 5
       }
      },
      "text/html": [
       "<div>\n",
       "<style scoped>\n",
       "    .dataframe tbody tr th:only-of-type {\n",
       "        vertical-align: middle;\n",
       "    }\n",
       "\n",
       "    .dataframe tbody tr th {\n",
       "        vertical-align: top;\n",
       "    }\n",
       "\n",
       "    .dataframe thead th {\n",
       "        text-align: right;\n",
       "    }\n",
       "</style>\n",
       "<table border=\"1\" class=\"dataframe\">\n",
       "  <thead>\n",
       "    <tr style=\"text-align: right;\">\n",
       "      <th></th>\n",
       "      <th>Genero_Usuario</th>\n",
       "      <th>Edad_Usuario</th>\n",
       "      <th>Bici</th>\n",
       "      <th>Ciclo_Estacion_Retiro</th>\n",
       "      <th>Fecha_Retiro</th>\n",
       "      <th>Hora_Retiro</th>\n",
       "      <th>Ciclo_EstacionArribo</th>\n",
       "      <th>Fecha Arribo</th>\n",
       "      <th>Hora_Arribo</th>\n",
       "    </tr>\n",
       "  </thead>\n",
       "  <tbody>\n",
       "    <tr>\n",
       "      <th>0</th>\n",
       "      <td>M</td>\n",
       "      <td>48.0</td>\n",
       "      <td>3371879</td>\n",
       "      <td>113</td>\n",
       "      <td>31/12/2023</td>\n",
       "      <td>23:21:52</td>\n",
       "      <td>659</td>\n",
       "      <td>01/01/2024</td>\n",
       "      <td>00:00:02</td>\n",
       "    </tr>\n",
       "    <tr>\n",
       "      <th>1</th>\n",
       "      <td>F</td>\n",
       "      <td>26.0</td>\n",
       "      <td>7033434</td>\n",
       "      <td>281</td>\n",
       "      <td>31/12/2023</td>\n",
       "      <td>23:46:02</td>\n",
       "      <td>047</td>\n",
       "      <td>01/01/2024</td>\n",
       "      <td>00:00:02</td>\n",
       "    </tr>\n",
       "    <tr>\n",
       "      <th>2</th>\n",
       "      <td>F</td>\n",
       "      <td>37.0</td>\n",
       "      <td>7169857</td>\n",
       "      <td>015</td>\n",
       "      <td>31/12/2023</td>\n",
       "      <td>23:51:57</td>\n",
       "      <td>217</td>\n",
       "      <td>01/01/2024</td>\n",
       "      <td>00:00:49</td>\n",
       "    </tr>\n",
       "    <tr>\n",
       "      <th>3</th>\n",
       "      <td>F</td>\n",
       "      <td>30.0</td>\n",
       "      <td>6368211</td>\n",
       "      <td>555</td>\n",
       "      <td>31/12/2023</td>\n",
       "      <td>23:53:10</td>\n",
       "      <td>008</td>\n",
       "      <td>01/01/2024</td>\n",
       "      <td>00:02:39</td>\n",
       "    </tr>\n",
       "    <tr>\n",
       "      <th>4</th>\n",
       "      <td>M</td>\n",
       "      <td>30.0</td>\n",
       "      <td>5136924</td>\n",
       "      <td>555</td>\n",
       "      <td>31/12/2023</td>\n",
       "      <td>23:52:53</td>\n",
       "      <td>008</td>\n",
       "      <td>01/01/2024</td>\n",
       "      <td>00:02:45</td>\n",
       "    </tr>\n",
       "  </tbody>\n",
       "</table>\n",
       "</div>"
      ],
      "text/plain": [
       "  Genero_Usuario  Edad_Usuario     Bici Ciclo_Estacion_Retiro Fecha_Retiro  \\\n",
       "0              M          48.0  3371879                   113   31/12/2023   \n",
       "1              F          26.0  7033434                   281   31/12/2023   \n",
       "2              F          37.0  7169857                   015   31/12/2023   \n",
       "3              F          30.0  6368211                   555   31/12/2023   \n",
       "4              M          30.0  5136924                   555   31/12/2023   \n",
       "\n",
       "  Hora_Retiro Ciclo_EstacionArribo Fecha Arribo Hora_Arribo  \n",
       "0    23:21:52                  659   01/01/2024    00:00:02  \n",
       "1    23:46:02                  047   01/01/2024    00:00:02  \n",
       "2    23:51:57                  217   01/01/2024    00:00:49  \n",
       "3    23:53:10                  008   01/01/2024    00:02:39  \n",
       "4    23:52:53                  008   01/01/2024    00:02:45  "
      ]
     },
     "execution_count": 7,
     "metadata": {},
     "output_type": "execute_result"
    }
   ],
   "source": [
    "eco_2024_list[0].head()"
   ]
  },
  {
   "cell_type": "code",
   "execution_count": 8,
   "id": "523576fe",
   "metadata": {},
   "outputs": [],
   "source": [
    "for i in range(len(eco_2024_list)):\n",
    "    eco_2024_list[i].rename(columns = {'Ciclo_EstacionArribo': 'Ciclo_Estacion_Arribo', 'Fecha Arribo':'Fecha_Arribo'}, inplace = True)\n",
    "    eco_2024_list[i]['Fecha_Retiro'] = pd.to_datetime(eco_2024_list[i]['Fecha_Retiro'], format='%d/%m/%Y').dt.strftime('%Y-%m-%d')\n",
    "    eco_2024_list[i]['Fecha_Arribo'] = pd.to_datetime(eco_2024_list[i]['Fecha_Arribo'], format='%d/%m/%Y').dt.strftime('%Y-%m-%d')\n",
    "    eco_2024_list[i]['Inicio'] = eco_2024_list[i]['Fecha_Retiro'] + ' ' + eco_2024_list[i]['Hora_Retiro']\n",
    "    eco_2024_list[i]['Fin'] = eco_2024_list[i]['Fecha_Arribo'] + ' ' + eco_2024_list[i]['Hora_Arribo']"
   ]
  },
  {
   "cell_type": "code",
   "execution_count": 9,
   "id": "a38aff9b",
   "metadata": {},
   "outputs": [
    {
     "data": {
      "application/vnd.microsoft.datawrangler.viewer.v0+json": {
       "columns": [
        {
         "name": "index",
         "rawType": "int64",
         "type": "integer"
        },
        {
         "name": "Genero_Usuario",
         "rawType": "object",
         "type": "string"
        },
        {
         "name": "Edad_Usuario",
         "rawType": "float64",
         "type": "float"
        },
        {
         "name": "Bici",
         "rawType": "int64",
         "type": "integer"
        },
        {
         "name": "Ciclo_Estacion_Retiro",
         "rawType": "object",
         "type": "string"
        },
        {
         "name": "Fecha_Retiro",
         "rawType": "object",
         "type": "string"
        },
        {
         "name": "Hora_Retiro",
         "rawType": "object",
         "type": "string"
        },
        {
         "name": "Ciclo_Estacion_Arribo",
         "rawType": "object",
         "type": "string"
        },
        {
         "name": "Fecha_Arribo",
         "rawType": "object",
         "type": "string"
        },
        {
         "name": "Hora_Arribo",
         "rawType": "object",
         "type": "string"
        },
        {
         "name": "Inicio",
         "rawType": "object",
         "type": "string"
        },
        {
         "name": "Fin",
         "rawType": "object",
         "type": "string"
        }
       ],
       "conversionMethod": "pd.DataFrame",
       "ref": "200b4220-94d6-4dbe-a99d-eb9bf999b1f1",
       "rows": [
        [
         "0",
         "M",
         "48.0",
         "3371879",
         "113",
         "2023-12-31",
         "23:21:52",
         "659",
         "2024-01-01",
         "00:00:02",
         "2023-12-31 23:21:52",
         "2024-01-01 00:00:02"
        ],
        [
         "1",
         "F",
         "26.0",
         "7033434",
         "281",
         "2023-12-31",
         "23:46:02",
         "047",
         "2024-01-01",
         "00:00:02",
         "2023-12-31 23:46:02",
         "2024-01-01 00:00:02"
        ],
        [
         "2",
         "F",
         "37.0",
         "7169857",
         "015",
         "2023-12-31",
         "23:51:57",
         "217",
         "2024-01-01",
         "00:00:49",
         "2023-12-31 23:51:57",
         "2024-01-01 00:00:49"
        ],
        [
         "3",
         "F",
         "30.0",
         "6368211",
         "555",
         "2023-12-31",
         "23:53:10",
         "008",
         "2024-01-01",
         "00:02:39",
         "2023-12-31 23:53:10",
         "2024-01-01 00:02:39"
        ],
        [
         "4",
         "M",
         "30.0",
         "5136924",
         "555",
         "2023-12-31",
         "23:52:53",
         "008",
         "2024-01-01",
         "00:02:45",
         "2023-12-31 23:52:53",
         "2024-01-01 00:02:45"
        ]
       ],
       "shape": {
        "columns": 11,
        "rows": 5
       }
      },
      "text/html": [
       "<div>\n",
       "<style scoped>\n",
       "    .dataframe tbody tr th:only-of-type {\n",
       "        vertical-align: middle;\n",
       "    }\n",
       "\n",
       "    .dataframe tbody tr th {\n",
       "        vertical-align: top;\n",
       "    }\n",
       "\n",
       "    .dataframe thead th {\n",
       "        text-align: right;\n",
       "    }\n",
       "</style>\n",
       "<table border=\"1\" class=\"dataframe\">\n",
       "  <thead>\n",
       "    <tr style=\"text-align: right;\">\n",
       "      <th></th>\n",
       "      <th>Genero_Usuario</th>\n",
       "      <th>Edad_Usuario</th>\n",
       "      <th>Bici</th>\n",
       "      <th>Ciclo_Estacion_Retiro</th>\n",
       "      <th>Fecha_Retiro</th>\n",
       "      <th>Hora_Retiro</th>\n",
       "      <th>Ciclo_Estacion_Arribo</th>\n",
       "      <th>Fecha_Arribo</th>\n",
       "      <th>Hora_Arribo</th>\n",
       "      <th>Inicio</th>\n",
       "      <th>Fin</th>\n",
       "    </tr>\n",
       "  </thead>\n",
       "  <tbody>\n",
       "    <tr>\n",
       "      <th>0</th>\n",
       "      <td>M</td>\n",
       "      <td>48.0</td>\n",
       "      <td>3371879</td>\n",
       "      <td>113</td>\n",
       "      <td>2023-12-31</td>\n",
       "      <td>23:21:52</td>\n",
       "      <td>659</td>\n",
       "      <td>2024-01-01</td>\n",
       "      <td>00:00:02</td>\n",
       "      <td>2023-12-31 23:21:52</td>\n",
       "      <td>2024-01-01 00:00:02</td>\n",
       "    </tr>\n",
       "    <tr>\n",
       "      <th>1</th>\n",
       "      <td>F</td>\n",
       "      <td>26.0</td>\n",
       "      <td>7033434</td>\n",
       "      <td>281</td>\n",
       "      <td>2023-12-31</td>\n",
       "      <td>23:46:02</td>\n",
       "      <td>047</td>\n",
       "      <td>2024-01-01</td>\n",
       "      <td>00:00:02</td>\n",
       "      <td>2023-12-31 23:46:02</td>\n",
       "      <td>2024-01-01 00:00:02</td>\n",
       "    </tr>\n",
       "    <tr>\n",
       "      <th>2</th>\n",
       "      <td>F</td>\n",
       "      <td>37.0</td>\n",
       "      <td>7169857</td>\n",
       "      <td>015</td>\n",
       "      <td>2023-12-31</td>\n",
       "      <td>23:51:57</td>\n",
       "      <td>217</td>\n",
       "      <td>2024-01-01</td>\n",
       "      <td>00:00:49</td>\n",
       "      <td>2023-12-31 23:51:57</td>\n",
       "      <td>2024-01-01 00:00:49</td>\n",
       "    </tr>\n",
       "    <tr>\n",
       "      <th>3</th>\n",
       "      <td>F</td>\n",
       "      <td>30.0</td>\n",
       "      <td>6368211</td>\n",
       "      <td>555</td>\n",
       "      <td>2023-12-31</td>\n",
       "      <td>23:53:10</td>\n",
       "      <td>008</td>\n",
       "      <td>2024-01-01</td>\n",
       "      <td>00:02:39</td>\n",
       "      <td>2023-12-31 23:53:10</td>\n",
       "      <td>2024-01-01 00:02:39</td>\n",
       "    </tr>\n",
       "    <tr>\n",
       "      <th>4</th>\n",
       "      <td>M</td>\n",
       "      <td>30.0</td>\n",
       "      <td>5136924</td>\n",
       "      <td>555</td>\n",
       "      <td>2023-12-31</td>\n",
       "      <td>23:52:53</td>\n",
       "      <td>008</td>\n",
       "      <td>2024-01-01</td>\n",
       "      <td>00:02:45</td>\n",
       "      <td>2023-12-31 23:52:53</td>\n",
       "      <td>2024-01-01 00:02:45</td>\n",
       "    </tr>\n",
       "  </tbody>\n",
       "</table>\n",
       "</div>"
      ],
      "text/plain": [
       "  Genero_Usuario  Edad_Usuario     Bici Ciclo_Estacion_Retiro Fecha_Retiro  \\\n",
       "0              M          48.0  3371879                   113   2023-12-31   \n",
       "1              F          26.0  7033434                   281   2023-12-31   \n",
       "2              F          37.0  7169857                   015   2023-12-31   \n",
       "3              F          30.0  6368211                   555   2023-12-31   \n",
       "4              M          30.0  5136924                   555   2023-12-31   \n",
       "\n",
       "  Hora_Retiro Ciclo_Estacion_Arribo Fecha_Arribo Hora_Arribo  \\\n",
       "0    23:21:52                   659   2024-01-01    00:00:02   \n",
       "1    23:46:02                   047   2024-01-01    00:00:02   \n",
       "2    23:51:57                   217   2024-01-01    00:00:49   \n",
       "3    23:53:10                   008   2024-01-01    00:02:39   \n",
       "4    23:52:53                   008   2024-01-01    00:02:45   \n",
       "\n",
       "                Inicio                  Fin  \n",
       "0  2023-12-31 23:21:52  2024-01-01 00:00:02  \n",
       "1  2023-12-31 23:46:02  2024-01-01 00:00:02  \n",
       "2  2023-12-31 23:51:57  2024-01-01 00:00:49  \n",
       "3  2023-12-31 23:53:10  2024-01-01 00:02:39  \n",
       "4  2023-12-31 23:52:53  2024-01-01 00:02:45  "
      ]
     },
     "execution_count": 9,
     "metadata": {},
     "output_type": "execute_result"
    }
   ],
   "source": [
    "eco_2024 = pd.concat(eco_2024_list, ignore_index=True)\n",
    "eco_2024.head()"
   ]
  },
  {
   "cell_type": "code",
   "execution_count": 10,
   "id": "5aaaa744",
   "metadata": {},
   "outputs": [
    {
     "data": {
      "application/vnd.microsoft.datawrangler.viewer.v0+json": {
       "columns": [
        {
         "name": "index",
         "rawType": "int64",
         "type": "integer"
        },
        {
         "name": "Genero_Usuario",
         "rawType": "object",
         "type": "string"
        },
        {
         "name": "Edad_Usuario",
         "rawType": "float64",
         "type": "float"
        },
        {
         "name": "Bici",
         "rawType": "int64",
         "type": "integer"
        },
        {
         "name": "Ciclo_Estacion_Retiro",
         "rawType": "object",
         "type": "string"
        },
        {
         "name": "Fecha_Retiro",
         "rawType": "object",
         "type": "string"
        },
        {
         "name": "Hora_Retiro",
         "rawType": "object",
         "type": "string"
        },
        {
         "name": "Ciclo_Estacion_Arribo",
         "rawType": "object",
         "type": "string"
        },
        {
         "name": "Fecha_Arribo",
         "rawType": "object",
         "type": "string"
        },
        {
         "name": "Hora_Arribo",
         "rawType": "object",
         "type": "string"
        },
        {
         "name": "Inicio",
         "rawType": "object",
         "type": "string"
        },
        {
         "name": "Fin",
         "rawType": "object",
         "type": "string"
        }
       ],
       "conversionMethod": "pd.DataFrame",
       "ref": "804ee10f-f57a-4aa6-a231-525b5e8b1634",
       "rows": [
        [
         "22242864",
         "M",
         "27.0",
         "2482685",
         "031",
         "2024-12-31",
         "23:48:08",
         "061",
         "2024-12-31",
         "23:59:27",
         "2024-12-31 23:48:08",
         "2024-12-31 23:59:27"
        ],
        [
         "22242865",
         "M",
         "30.0",
         "3046505",
         "032",
         "2024-12-31",
         "23:45:58",
         "116",
         "2024-12-31",
         "23:59:44",
         "2024-12-31 23:45:58",
         "2024-12-31 23:59:44"
        ],
        [
         "22242866",
         "F",
         "25.0",
         "4281416",
         "032",
         "2024-12-31",
         "23:45:41",
         "116",
         "2024-12-31",
         "23:59:44",
         "2024-12-31 23:45:41",
         "2024-12-31 23:59:44"
        ],
        [
         "22242867",
         "F",
         "27.0",
         "8694077",
         "038",
         "2024-12-31",
         "23:52:54",
         "126",
         "2024-12-31",
         "23:59:57",
         "2024-12-31 23:52:54",
         "2024-12-31 23:59:57"
        ],
        [
         "22242868",
         "M",
         "23.0",
         "6625883",
         "041",
         "2024-12-31",
         "23:29:17",
         "638",
         "2024-12-31",
         "23:59:59",
         "2024-12-31 23:29:17",
         "2024-12-31 23:59:59"
        ]
       ],
       "shape": {
        "columns": 11,
        "rows": 5
       }
      },
      "text/html": [
       "<div>\n",
       "<style scoped>\n",
       "    .dataframe tbody tr th:only-of-type {\n",
       "        vertical-align: middle;\n",
       "    }\n",
       "\n",
       "    .dataframe tbody tr th {\n",
       "        vertical-align: top;\n",
       "    }\n",
       "\n",
       "    .dataframe thead th {\n",
       "        text-align: right;\n",
       "    }\n",
       "</style>\n",
       "<table border=\"1\" class=\"dataframe\">\n",
       "  <thead>\n",
       "    <tr style=\"text-align: right;\">\n",
       "      <th></th>\n",
       "      <th>Genero_Usuario</th>\n",
       "      <th>Edad_Usuario</th>\n",
       "      <th>Bici</th>\n",
       "      <th>Ciclo_Estacion_Retiro</th>\n",
       "      <th>Fecha_Retiro</th>\n",
       "      <th>Hora_Retiro</th>\n",
       "      <th>Ciclo_Estacion_Arribo</th>\n",
       "      <th>Fecha_Arribo</th>\n",
       "      <th>Hora_Arribo</th>\n",
       "      <th>Inicio</th>\n",
       "      <th>Fin</th>\n",
       "    </tr>\n",
       "  </thead>\n",
       "  <tbody>\n",
       "    <tr>\n",
       "      <th>22242864</th>\n",
       "      <td>M</td>\n",
       "      <td>27.0</td>\n",
       "      <td>2482685</td>\n",
       "      <td>031</td>\n",
       "      <td>2024-12-31</td>\n",
       "      <td>23:48:08</td>\n",
       "      <td>061</td>\n",
       "      <td>2024-12-31</td>\n",
       "      <td>23:59:27</td>\n",
       "      <td>2024-12-31 23:48:08</td>\n",
       "      <td>2024-12-31 23:59:27</td>\n",
       "    </tr>\n",
       "    <tr>\n",
       "      <th>22242865</th>\n",
       "      <td>M</td>\n",
       "      <td>30.0</td>\n",
       "      <td>3046505</td>\n",
       "      <td>032</td>\n",
       "      <td>2024-12-31</td>\n",
       "      <td>23:45:58</td>\n",
       "      <td>116</td>\n",
       "      <td>2024-12-31</td>\n",
       "      <td>23:59:44</td>\n",
       "      <td>2024-12-31 23:45:58</td>\n",
       "      <td>2024-12-31 23:59:44</td>\n",
       "    </tr>\n",
       "    <tr>\n",
       "      <th>22242866</th>\n",
       "      <td>F</td>\n",
       "      <td>25.0</td>\n",
       "      <td>4281416</td>\n",
       "      <td>032</td>\n",
       "      <td>2024-12-31</td>\n",
       "      <td>23:45:41</td>\n",
       "      <td>116</td>\n",
       "      <td>2024-12-31</td>\n",
       "      <td>23:59:44</td>\n",
       "      <td>2024-12-31 23:45:41</td>\n",
       "      <td>2024-12-31 23:59:44</td>\n",
       "    </tr>\n",
       "    <tr>\n",
       "      <th>22242867</th>\n",
       "      <td>F</td>\n",
       "      <td>27.0</td>\n",
       "      <td>8694077</td>\n",
       "      <td>038</td>\n",
       "      <td>2024-12-31</td>\n",
       "      <td>23:52:54</td>\n",
       "      <td>126</td>\n",
       "      <td>2024-12-31</td>\n",
       "      <td>23:59:57</td>\n",
       "      <td>2024-12-31 23:52:54</td>\n",
       "      <td>2024-12-31 23:59:57</td>\n",
       "    </tr>\n",
       "    <tr>\n",
       "      <th>22242868</th>\n",
       "      <td>M</td>\n",
       "      <td>23.0</td>\n",
       "      <td>6625883</td>\n",
       "      <td>041</td>\n",
       "      <td>2024-12-31</td>\n",
       "      <td>23:29:17</td>\n",
       "      <td>638</td>\n",
       "      <td>2024-12-31</td>\n",
       "      <td>23:59:59</td>\n",
       "      <td>2024-12-31 23:29:17</td>\n",
       "      <td>2024-12-31 23:59:59</td>\n",
       "    </tr>\n",
       "  </tbody>\n",
       "</table>\n",
       "</div>"
      ],
      "text/plain": [
       "         Genero_Usuario  Edad_Usuario     Bici Ciclo_Estacion_Retiro  \\\n",
       "22242864              M          27.0  2482685                   031   \n",
       "22242865              M          30.0  3046505                   032   \n",
       "22242866              F          25.0  4281416                   032   \n",
       "22242867              F          27.0  8694077                   038   \n",
       "22242868              M          23.0  6625883                   041   \n",
       "\n",
       "         Fecha_Retiro Hora_Retiro Ciclo_Estacion_Arribo Fecha_Arribo  \\\n",
       "22242864   2024-12-31    23:48:08                   061   2024-12-31   \n",
       "22242865   2024-12-31    23:45:58                   116   2024-12-31   \n",
       "22242866   2024-12-31    23:45:41                   116   2024-12-31   \n",
       "22242867   2024-12-31    23:52:54                   126   2024-12-31   \n",
       "22242868   2024-12-31    23:29:17                   638   2024-12-31   \n",
       "\n",
       "         Hora_Arribo               Inicio                  Fin  \n",
       "22242864    23:59:27  2024-12-31 23:48:08  2024-12-31 23:59:27  \n",
       "22242865    23:59:44  2024-12-31 23:45:58  2024-12-31 23:59:44  \n",
       "22242866    23:59:44  2024-12-31 23:45:41  2024-12-31 23:59:44  \n",
       "22242867    23:59:57  2024-12-31 23:52:54  2024-12-31 23:59:57  \n",
       "22242868    23:59:59  2024-12-31 23:29:17  2024-12-31 23:59:59  "
      ]
     },
     "execution_count": 10,
     "metadata": {},
     "output_type": "execute_result"
    }
   ],
   "source": [
    "eco_2024.tail()"
   ]
  },
  {
   "cell_type": "code",
   "execution_count": 11,
   "id": "8cb1f6a7",
   "metadata": {},
   "outputs": [
    {
     "data": {
      "application/vnd.microsoft.datawrangler.viewer.v0+json": {
       "columns": [
        {
         "name": "index",
         "rawType": "int64",
         "type": "integer"
        },
        {
         "name": "Genero_Usuario",
         "rawType": "object",
         "type": "string"
        },
        {
         "name": "Edad_Usuario",
         "rawType": "float64",
         "type": "float"
        },
        {
         "name": "Bici",
         "rawType": "int64",
         "type": "integer"
        },
        {
         "name": "Ciclo_Estacion_Retiro",
         "rawType": "Int64",
         "type": "integer"
        },
        {
         "name": "Fecha_Retiro",
         "rawType": "object",
         "type": "string"
        },
        {
         "name": "Hora_Retiro",
         "rawType": "object",
         "type": "string"
        },
        {
         "name": "Ciclo_Estacion_Arribo",
         "rawType": "object",
         "type": "string"
        },
        {
         "name": "Fecha_Arribo",
         "rawType": "object",
         "type": "string"
        },
        {
         "name": "Hora_Arribo",
         "rawType": "object",
         "type": "string"
        },
        {
         "name": "Inicio",
         "rawType": "object",
         "type": "string"
        },
        {
         "name": "Fin",
         "rawType": "object",
         "type": "string"
        }
       ],
       "conversionMethod": "pd.DataFrame",
       "ref": "dc4ad282-00c1-42fe-940b-143ea4382a8f",
       "rows": [
        [
         "0",
         "M",
         "48.0",
         "3371879",
         "113",
         "2023-12-31",
         "23:21:52",
         "659",
         "2024-01-01",
         "00:00:02",
         "2023-12-31 23:21:52",
         "2024-01-01 00:00:02"
        ],
        [
         "1",
         "F",
         "26.0",
         "7033434",
         "281",
         "2023-12-31",
         "23:46:02",
         "047",
         "2024-01-01",
         "00:00:02",
         "2023-12-31 23:46:02",
         "2024-01-01 00:00:02"
        ],
        [
         "2",
         "F",
         "37.0",
         "7169857",
         "15",
         "2023-12-31",
         "23:51:57",
         "217",
         "2024-01-01",
         "00:00:49",
         "2023-12-31 23:51:57",
         "2024-01-01 00:00:49"
        ],
        [
         "3",
         "F",
         "30.0",
         "6368211",
         "555",
         "2023-12-31",
         "23:53:10",
         "008",
         "2024-01-01",
         "00:02:39",
         "2023-12-31 23:53:10",
         "2024-01-01 00:02:39"
        ],
        [
         "4",
         "M",
         "30.0",
         "5136924",
         "555",
         "2023-12-31",
         "23:52:53",
         "008",
         "2024-01-01",
         "00:02:45",
         "2023-12-31 23:52:53",
         "2024-01-01 00:02:45"
        ]
       ],
       "shape": {
        "columns": 11,
        "rows": 5
       }
      },
      "text/html": [
       "<div>\n",
       "<style scoped>\n",
       "    .dataframe tbody tr th:only-of-type {\n",
       "        vertical-align: middle;\n",
       "    }\n",
       "\n",
       "    .dataframe tbody tr th {\n",
       "        vertical-align: top;\n",
       "    }\n",
       "\n",
       "    .dataframe thead th {\n",
       "        text-align: right;\n",
       "    }\n",
       "</style>\n",
       "<table border=\"1\" class=\"dataframe\">\n",
       "  <thead>\n",
       "    <tr style=\"text-align: right;\">\n",
       "      <th></th>\n",
       "      <th>Genero_Usuario</th>\n",
       "      <th>Edad_Usuario</th>\n",
       "      <th>Bici</th>\n",
       "      <th>Ciclo_Estacion_Retiro</th>\n",
       "      <th>Fecha_Retiro</th>\n",
       "      <th>Hora_Retiro</th>\n",
       "      <th>Ciclo_Estacion_Arribo</th>\n",
       "      <th>Fecha_Arribo</th>\n",
       "      <th>Hora_Arribo</th>\n",
       "      <th>Inicio</th>\n",
       "      <th>Fin</th>\n",
       "    </tr>\n",
       "  </thead>\n",
       "  <tbody>\n",
       "    <tr>\n",
       "      <th>0</th>\n",
       "      <td>M</td>\n",
       "      <td>48.0</td>\n",
       "      <td>3371879</td>\n",
       "      <td>113</td>\n",
       "      <td>2023-12-31</td>\n",
       "      <td>23:21:52</td>\n",
       "      <td>659</td>\n",
       "      <td>2024-01-01</td>\n",
       "      <td>00:00:02</td>\n",
       "      <td>2023-12-31 23:21:52</td>\n",
       "      <td>2024-01-01 00:00:02</td>\n",
       "    </tr>\n",
       "    <tr>\n",
       "      <th>1</th>\n",
       "      <td>F</td>\n",
       "      <td>26.0</td>\n",
       "      <td>7033434</td>\n",
       "      <td>281</td>\n",
       "      <td>2023-12-31</td>\n",
       "      <td>23:46:02</td>\n",
       "      <td>047</td>\n",
       "      <td>2024-01-01</td>\n",
       "      <td>00:00:02</td>\n",
       "      <td>2023-12-31 23:46:02</td>\n",
       "      <td>2024-01-01 00:00:02</td>\n",
       "    </tr>\n",
       "    <tr>\n",
       "      <th>2</th>\n",
       "      <td>F</td>\n",
       "      <td>37.0</td>\n",
       "      <td>7169857</td>\n",
       "      <td>15</td>\n",
       "      <td>2023-12-31</td>\n",
       "      <td>23:51:57</td>\n",
       "      <td>217</td>\n",
       "      <td>2024-01-01</td>\n",
       "      <td>00:00:49</td>\n",
       "      <td>2023-12-31 23:51:57</td>\n",
       "      <td>2024-01-01 00:00:49</td>\n",
       "    </tr>\n",
       "    <tr>\n",
       "      <th>3</th>\n",
       "      <td>F</td>\n",
       "      <td>30.0</td>\n",
       "      <td>6368211</td>\n",
       "      <td>555</td>\n",
       "      <td>2023-12-31</td>\n",
       "      <td>23:53:10</td>\n",
       "      <td>008</td>\n",
       "      <td>2024-01-01</td>\n",
       "      <td>00:02:39</td>\n",
       "      <td>2023-12-31 23:53:10</td>\n",
       "      <td>2024-01-01 00:02:39</td>\n",
       "    </tr>\n",
       "    <tr>\n",
       "      <th>4</th>\n",
       "      <td>M</td>\n",
       "      <td>30.0</td>\n",
       "      <td>5136924</td>\n",
       "      <td>555</td>\n",
       "      <td>2023-12-31</td>\n",
       "      <td>23:52:53</td>\n",
       "      <td>008</td>\n",
       "      <td>2024-01-01</td>\n",
       "      <td>00:02:45</td>\n",
       "      <td>2023-12-31 23:52:53</td>\n",
       "      <td>2024-01-01 00:02:45</td>\n",
       "    </tr>\n",
       "  </tbody>\n",
       "</table>\n",
       "</div>"
      ],
      "text/plain": [
       "  Genero_Usuario  Edad_Usuario     Bici  Ciclo_Estacion_Retiro Fecha_Retiro  \\\n",
       "0              M          48.0  3371879                    113   2023-12-31   \n",
       "1              F          26.0  7033434                    281   2023-12-31   \n",
       "2              F          37.0  7169857                     15   2023-12-31   \n",
       "3              F          30.0  6368211                    555   2023-12-31   \n",
       "4              M          30.0  5136924                    555   2023-12-31   \n",
       "\n",
       "  Hora_Retiro Ciclo_Estacion_Arribo Fecha_Arribo Hora_Arribo  \\\n",
       "0    23:21:52                   659   2024-01-01    00:00:02   \n",
       "1    23:46:02                   047   2024-01-01    00:00:02   \n",
       "2    23:51:57                   217   2024-01-01    00:00:49   \n",
       "3    23:53:10                   008   2024-01-01    00:02:39   \n",
       "4    23:52:53                   008   2024-01-01    00:02:45   \n",
       "\n",
       "                Inicio                  Fin  \n",
       "0  2023-12-31 23:21:52  2024-01-01 00:00:02  \n",
       "1  2023-12-31 23:46:02  2024-01-01 00:00:02  \n",
       "2  2023-12-31 23:51:57  2024-01-01 00:00:49  \n",
       "3  2023-12-31 23:53:10  2024-01-01 00:02:39  \n",
       "4  2023-12-31 23:52:53  2024-01-01 00:02:45  "
      ]
     },
     "execution_count": 11,
     "metadata": {},
     "output_type": "execute_result"
    }
   ],
   "source": [
    "eco_2024['Ciclo_Estacion_Retiro'] = pd.to_numeric(eco_2024['Ciclo_Estacion_Retiro'], errors='coerce').astype('Int64')\n",
    "eco_2024.head()"
   ]
  },
  {
   "cell_type": "code",
   "execution_count": 12,
   "id": "27795039",
   "metadata": {},
   "outputs": [
    {
     "data": {
      "application/vnd.microsoft.datawrangler.viewer.v0+json": {
       "columns": [
        {
         "name": "index",
         "rawType": "int64",
         "type": "integer"
        },
        {
         "name": "Genero_Usuario",
         "rawType": "object",
         "type": "string"
        },
        {
         "name": "Edad_Usuario",
         "rawType": "float64",
         "type": "float"
        },
        {
         "name": "Bici",
         "rawType": "int64",
         "type": "integer"
        },
        {
         "name": "Ciclo_Estacion_Retiro",
         "rawType": "Int64",
         "type": "integer"
        },
        {
         "name": "Fecha_Retiro",
         "rawType": "object",
         "type": "string"
        },
        {
         "name": "Hora_Retiro",
         "rawType": "object",
         "type": "string"
        },
        {
         "name": "Ciclo_Estacion_Arribo",
         "rawType": "Int64",
         "type": "integer"
        },
        {
         "name": "Fecha_Arribo",
         "rawType": "object",
         "type": "string"
        },
        {
         "name": "Hora_Arribo",
         "rawType": "object",
         "type": "string"
        },
        {
         "name": "Inicio",
         "rawType": "object",
         "type": "string"
        },
        {
         "name": "Fin",
         "rawType": "object",
         "type": "string"
        }
       ],
       "conversionMethod": "pd.DataFrame",
       "ref": "4fa79fa1-db95-4a74-b292-c40e31ac0ba8",
       "rows": [
        [
         "0",
         "M",
         "48.0",
         "3371879",
         "113",
         "2023-12-31",
         "23:21:52",
         "659",
         "2024-01-01",
         "00:00:02",
         "2023-12-31 23:21:52",
         "2024-01-01 00:00:02"
        ],
        [
         "1",
         "F",
         "26.0",
         "7033434",
         "281",
         "2023-12-31",
         "23:46:02",
         "47",
         "2024-01-01",
         "00:00:02",
         "2023-12-31 23:46:02",
         "2024-01-01 00:00:02"
        ],
        [
         "2",
         "F",
         "37.0",
         "7169857",
         "15",
         "2023-12-31",
         "23:51:57",
         "217",
         "2024-01-01",
         "00:00:49",
         "2023-12-31 23:51:57",
         "2024-01-01 00:00:49"
        ],
        [
         "3",
         "F",
         "30.0",
         "6368211",
         "555",
         "2023-12-31",
         "23:53:10",
         "8",
         "2024-01-01",
         "00:02:39",
         "2023-12-31 23:53:10",
         "2024-01-01 00:02:39"
        ],
        [
         "4",
         "M",
         "30.0",
         "5136924",
         "555",
         "2023-12-31",
         "23:52:53",
         "8",
         "2024-01-01",
         "00:02:45",
         "2023-12-31 23:52:53",
         "2024-01-01 00:02:45"
        ]
       ],
       "shape": {
        "columns": 11,
        "rows": 5
       }
      },
      "text/html": [
       "<div>\n",
       "<style scoped>\n",
       "    .dataframe tbody tr th:only-of-type {\n",
       "        vertical-align: middle;\n",
       "    }\n",
       "\n",
       "    .dataframe tbody tr th {\n",
       "        vertical-align: top;\n",
       "    }\n",
       "\n",
       "    .dataframe thead th {\n",
       "        text-align: right;\n",
       "    }\n",
       "</style>\n",
       "<table border=\"1\" class=\"dataframe\">\n",
       "  <thead>\n",
       "    <tr style=\"text-align: right;\">\n",
       "      <th></th>\n",
       "      <th>Genero_Usuario</th>\n",
       "      <th>Edad_Usuario</th>\n",
       "      <th>Bici</th>\n",
       "      <th>Ciclo_Estacion_Retiro</th>\n",
       "      <th>Fecha_Retiro</th>\n",
       "      <th>Hora_Retiro</th>\n",
       "      <th>Ciclo_Estacion_Arribo</th>\n",
       "      <th>Fecha_Arribo</th>\n",
       "      <th>Hora_Arribo</th>\n",
       "      <th>Inicio</th>\n",
       "      <th>Fin</th>\n",
       "    </tr>\n",
       "  </thead>\n",
       "  <tbody>\n",
       "    <tr>\n",
       "      <th>0</th>\n",
       "      <td>M</td>\n",
       "      <td>48.0</td>\n",
       "      <td>3371879</td>\n",
       "      <td>113</td>\n",
       "      <td>2023-12-31</td>\n",
       "      <td>23:21:52</td>\n",
       "      <td>659</td>\n",
       "      <td>2024-01-01</td>\n",
       "      <td>00:00:02</td>\n",
       "      <td>2023-12-31 23:21:52</td>\n",
       "      <td>2024-01-01 00:00:02</td>\n",
       "    </tr>\n",
       "    <tr>\n",
       "      <th>1</th>\n",
       "      <td>F</td>\n",
       "      <td>26.0</td>\n",
       "      <td>7033434</td>\n",
       "      <td>281</td>\n",
       "      <td>2023-12-31</td>\n",
       "      <td>23:46:02</td>\n",
       "      <td>47</td>\n",
       "      <td>2024-01-01</td>\n",
       "      <td>00:00:02</td>\n",
       "      <td>2023-12-31 23:46:02</td>\n",
       "      <td>2024-01-01 00:00:02</td>\n",
       "    </tr>\n",
       "    <tr>\n",
       "      <th>2</th>\n",
       "      <td>F</td>\n",
       "      <td>37.0</td>\n",
       "      <td>7169857</td>\n",
       "      <td>15</td>\n",
       "      <td>2023-12-31</td>\n",
       "      <td>23:51:57</td>\n",
       "      <td>217</td>\n",
       "      <td>2024-01-01</td>\n",
       "      <td>00:00:49</td>\n",
       "      <td>2023-12-31 23:51:57</td>\n",
       "      <td>2024-01-01 00:00:49</td>\n",
       "    </tr>\n",
       "    <tr>\n",
       "      <th>3</th>\n",
       "      <td>F</td>\n",
       "      <td>30.0</td>\n",
       "      <td>6368211</td>\n",
       "      <td>555</td>\n",
       "      <td>2023-12-31</td>\n",
       "      <td>23:53:10</td>\n",
       "      <td>8</td>\n",
       "      <td>2024-01-01</td>\n",
       "      <td>00:02:39</td>\n",
       "      <td>2023-12-31 23:53:10</td>\n",
       "      <td>2024-01-01 00:02:39</td>\n",
       "    </tr>\n",
       "    <tr>\n",
       "      <th>4</th>\n",
       "      <td>M</td>\n",
       "      <td>30.0</td>\n",
       "      <td>5136924</td>\n",
       "      <td>555</td>\n",
       "      <td>2023-12-31</td>\n",
       "      <td>23:52:53</td>\n",
       "      <td>8</td>\n",
       "      <td>2024-01-01</td>\n",
       "      <td>00:02:45</td>\n",
       "      <td>2023-12-31 23:52:53</td>\n",
       "      <td>2024-01-01 00:02:45</td>\n",
       "    </tr>\n",
       "  </tbody>\n",
       "</table>\n",
       "</div>"
      ],
      "text/plain": [
       "  Genero_Usuario  Edad_Usuario     Bici  Ciclo_Estacion_Retiro Fecha_Retiro  \\\n",
       "0              M          48.0  3371879                    113   2023-12-31   \n",
       "1              F          26.0  7033434                    281   2023-12-31   \n",
       "2              F          37.0  7169857                     15   2023-12-31   \n",
       "3              F          30.0  6368211                    555   2023-12-31   \n",
       "4              M          30.0  5136924                    555   2023-12-31   \n",
       "\n",
       "  Hora_Retiro  Ciclo_Estacion_Arribo Fecha_Arribo Hora_Arribo  \\\n",
       "0    23:21:52                    659   2024-01-01    00:00:02   \n",
       "1    23:46:02                     47   2024-01-01    00:00:02   \n",
       "2    23:51:57                    217   2024-01-01    00:00:49   \n",
       "3    23:53:10                      8   2024-01-01    00:02:39   \n",
       "4    23:52:53                      8   2024-01-01    00:02:45   \n",
       "\n",
       "                Inicio                  Fin  \n",
       "0  2023-12-31 23:21:52  2024-01-01 00:00:02  \n",
       "1  2023-12-31 23:46:02  2024-01-01 00:00:02  \n",
       "2  2023-12-31 23:51:57  2024-01-01 00:00:49  \n",
       "3  2023-12-31 23:53:10  2024-01-01 00:02:39  \n",
       "4  2023-12-31 23:52:53  2024-01-01 00:02:45  "
      ]
     },
     "execution_count": 12,
     "metadata": {},
     "output_type": "execute_result"
    }
   ],
   "source": [
    "eco_2024['Ciclo_Estacion_Arribo'] = pd.to_numeric(eco_2024['Ciclo_Estacion_Arribo'], errors='coerce').astype('Int64')\n",
    "eco_2024.head()"
   ]
  },
  {
   "cell_type": "code",
   "execution_count": 13,
   "id": "b8ff2ad0",
   "metadata": {},
   "outputs": [
    {
     "data": {
      "text/plain": [
       "array([  1.,   2.,   3.,   4.,   5.,   6.,   7.,   8.,   9.,  10.,  11.,\n",
       "        12.,  13.,  14.,  15.,  16.,  17.,  18.,  19.,  20.,  21.,  22.,\n",
       "        23.,  24.,  25.,  26.,  27.,  28.,  29.,  30.,  31.,  32.,  33.,\n",
       "        34.,  35.,  36.,  37.,  38.,  39.,  40.,  41.,  42.,  43.,  44.,\n",
       "        45.,  46.,  47.,  48.,  49.,  50.,  51.,  52.,  53.,  54.,  55.,\n",
       "        56.,  57.,  58.,  59.,  60.,  61.,  62.,  63.,  64.,  65.,  66.,\n",
       "        67.,  68.,  69.,  70.,  71.,  72.,  73.,  74.,  75.,  76.,  77.,\n",
       "        78.,  79.,  80.,  81.,  82.,  83.,  84.,  85.,  86.,  87.,  88.,\n",
       "        89.,  90.,  91.,  92.,  93.,  94.,  95.,  96.,  97.,  98.,  99.,\n",
       "       100., 102., 103., 104., 105., 106., 107., 109., 110., 111., 112.,\n",
       "       113., 114., 115., 116., 117., 118., 119., 120., 121., 122., 123.,\n",
       "       124., 125., 126., 127., 128., 129., 130., 131., 132., 133., 134.,\n",
       "       135., 136., 137., 138., 139., 140., 141., 142., 143., 144., 145.,\n",
       "       146., 147., 148., 149., 150., 151., 152., 153., 154., 155., 156.,\n",
       "       157., 158., 160., 161., 162., 163., 164., 165., 166., 167., 168.,\n",
       "       169., 170., 171., 172., 173., 174., 175., 176., 177., 178., 179.,\n",
       "       180., 181., 182., 183., 184., 185., 186., 187., 188., 189., 190.,\n",
       "       191., 192., 194., 195., 196., 197., 198., 199., 200., 201., 202.,\n",
       "       203., 204., 205., 206., 207., 208., 209., 210., 211., 212., 213.,\n",
       "       214., 215., 216., 217., 218., 219., 220., 221., 222., 223., 224.,\n",
       "       225., 226., 227., 228., 229., 230., 231., 232., 233., 234., 235.,\n",
       "       237., 239., 240., 241., 242., 243., 244., 245., 246., 247., 248.,\n",
       "       249., 250., 251., 252., 253., 254., 255., 256., 257., 258., 259.,\n",
       "       260., 261., 262., 263., 264., 265., 266., 268., 270., 271., 273.,\n",
       "       276., 277., 278., 279., 280., 281., 282., 283., 284., 285., 286.,\n",
       "       287., 288., 290., 291., 292., 293., 294., 295., 296., 297., 298.,\n",
       "       299., 300., 301., 302., 303., 304., 305., 306., 307., 308., 309.,\n",
       "       310., 312., 313., 314., 315., 316., 317., 318., 319., 320., 321.,\n",
       "       322., 323., 324., 325., 326., 327., 328., 329., 330., 331., 332.,\n",
       "       333., 334., 335., 336., 337., 338., 339., 340., 341., 342., 343.,\n",
       "       345., 346., 347., 348., 349., 351., 352., 353., 354., 355., 356.,\n",
       "       357., 358., 359., 360., 361., 362., 363., 365., 366., 367., 369.,\n",
       "       370., 371., 372., 373., 374., 375., 377., 378., 380., 381., 384.,\n",
       "       385., 386., 387., 389., 390., 392., 393., 394., 395., 396., 397.,\n",
       "       398., 399., 401., 402., 404., 405., 407., 409., 412., 413., 414.,\n",
       "       415., 416., 417., 419., 420., 421., 422., 423., 424., 425., 427.,\n",
       "       428., 429., 430., 432., 433., 434., 436., 437., 438., 439., 440.,\n",
       "       441., 442., 443., 444., 445., 447., 448., 449., 450., 451., 452.,\n",
       "       453., 454., 455., 456., 457., 458., 459., 460., 461., 462., 463.,\n",
       "       464., 465., 466., 467., 468., 469., 470., 471., 472., 473., 474.,\n",
       "       475., 476., 477., 478., 479., 480., 481., 482., 483., 484., 485.,\n",
       "       486., 487., 488., 489., 490., 491., 492., 493., 494., 495., 496.,\n",
       "       497., 498., 499., 500., 501., 502., 503., 504., 505., 506., 507.,\n",
       "       508., 509., 510., 511., 512., 513., 514., 515., 516., 517., 518.,\n",
       "       519., 520., 521., 522., 523., 525., 526., 527., 528., 529., 530.,\n",
       "       531., 532., 533., 534., 535., 536., 537., 538., 539., 540., 541.,\n",
       "       542., 543., 544., 545., 546., 547., 548., 549., 550., 551., 552.,\n",
       "       553., 554., 555., 556., 557., 558., 559., 560., 561., 562., 563.,\n",
       "       564., 565., 566., 567., 568., 569., 570., 571., 572., 573., 574.,\n",
       "       575., 576., 577., 578., 579., 580., 581., 582., 583., 584., 585.,\n",
       "       586., 587., 588., 589., 590., 591., 592., 593., 594., 595., 596.,\n",
       "       597., 598., 599., 600., 601., 602., 603., 604., 605., 606., 607.,\n",
       "       608., 609., 610., 611., 612., 613., 614., 615., 616., 617., 618.,\n",
       "       619., 620., 621., 622., 623., 624., 625., 626., 627., 628., 629.,\n",
       "       630., 631., 632., 633., 634., 635., 636., 637., 638., 639., 640.,\n",
       "       641., 642., 643., 644., 645., 646., 647., 648., 649., 650., 651.,\n",
       "       652., 653., 654., 655., 656., 657., 658., 659., 660., 661., 662.,\n",
       "       663., 664., 665., 666., 667., 668., 669., 670., 671., 672., 673.,\n",
       "       674., 675., 676., 677., 678., 679., 680., 681., 682., 683., 684.,\n",
       "       685., 686., 687., 688., 689., 690., 691., 692., 693., 694., 695.,\n",
       "       696., 697., 698., 699., 700., 701., 702., 703., 704., 705., 706.,\n",
       "       707., 708., 709., 710., 711.])"
      ]
     },
     "execution_count": 13,
     "metadata": {},
     "output_type": "execute_result"
    }
   ],
   "source": [
    "stations = est_2024[:, 0]\n",
    "stations"
   ]
  },
  {
   "cell_type": "code",
   "execution_count": 14,
   "id": "fc2ec7aa",
   "metadata": {},
   "outputs": [
    {
     "data": {
      "application/vnd.microsoft.datawrangler.viewer.v0+json": {
       "columns": [
        {
         "name": "index",
         "rawType": "int64",
         "type": "integer"
        },
        {
         "name": "Genero_Usuario",
         "rawType": "object",
         "type": "string"
        },
        {
         "name": "Edad_Usuario",
         "rawType": "float64",
         "type": "float"
        },
        {
         "name": "Bici",
         "rawType": "int64",
         "type": "integer"
        },
        {
         "name": "Ciclo_Estacion_Retiro",
         "rawType": "Int64",
         "type": "integer"
        },
        {
         "name": "Fecha_Retiro",
         "rawType": "object",
         "type": "string"
        },
        {
         "name": "Hora_Retiro",
         "rawType": "object",
         "type": "string"
        },
        {
         "name": "Ciclo_Estacion_Arribo",
         "rawType": "Int64",
         "type": "integer"
        },
        {
         "name": "Fecha_Arribo",
         "rawType": "object",
         "type": "string"
        },
        {
         "name": "Hora_Arribo",
         "rawType": "object",
         "type": "string"
        },
        {
         "name": "Inicio",
         "rawType": "object",
         "type": "string"
        },
        {
         "name": "Fin",
         "rawType": "object",
         "type": "string"
        }
       ],
       "conversionMethod": "pd.DataFrame",
       "ref": "7a15da38-49b3-42b7-aa67-262b5e1ef56b",
       "rows": [
        [
         "0",
         "M",
         "48.0",
         "3371879",
         "113",
         "2023-12-31",
         "23:21:52",
         "659",
         "2024-01-01",
         "00:00:02",
         "2023-12-31 23:21:52",
         "2024-01-01 00:00:02"
        ],
        [
         "1",
         "F",
         "26.0",
         "7033434",
         "281",
         "2023-12-31",
         "23:46:02",
         "47",
         "2024-01-01",
         "00:00:02",
         "2023-12-31 23:46:02",
         "2024-01-01 00:00:02"
        ],
        [
         "2",
         "F",
         "37.0",
         "7169857",
         "15",
         "2023-12-31",
         "23:51:57",
         "217",
         "2024-01-01",
         "00:00:49",
         "2023-12-31 23:51:57",
         "2024-01-01 00:00:49"
        ],
        [
         "3",
         "F",
         "30.0",
         "6368211",
         "555",
         "2023-12-31",
         "23:53:10",
         "8",
         "2024-01-01",
         "00:02:39",
         "2023-12-31 23:53:10",
         "2024-01-01 00:02:39"
        ],
        [
         "4",
         "M",
         "30.0",
         "5136924",
         "555",
         "2023-12-31",
         "23:52:53",
         "8",
         "2024-01-01",
         "00:02:45",
         "2023-12-31 23:52:53",
         "2024-01-01 00:02:45"
        ]
       ],
       "shape": {
        "columns": 11,
        "rows": 5
       }
      },
      "text/html": [
       "<div>\n",
       "<style scoped>\n",
       "    .dataframe tbody tr th:only-of-type {\n",
       "        vertical-align: middle;\n",
       "    }\n",
       "\n",
       "    .dataframe tbody tr th {\n",
       "        vertical-align: top;\n",
       "    }\n",
       "\n",
       "    .dataframe thead th {\n",
       "        text-align: right;\n",
       "    }\n",
       "</style>\n",
       "<table border=\"1\" class=\"dataframe\">\n",
       "  <thead>\n",
       "    <tr style=\"text-align: right;\">\n",
       "      <th></th>\n",
       "      <th>Genero_Usuario</th>\n",
       "      <th>Edad_Usuario</th>\n",
       "      <th>Bici</th>\n",
       "      <th>Ciclo_Estacion_Retiro</th>\n",
       "      <th>Fecha_Retiro</th>\n",
       "      <th>Hora_Retiro</th>\n",
       "      <th>Ciclo_Estacion_Arribo</th>\n",
       "      <th>Fecha_Arribo</th>\n",
       "      <th>Hora_Arribo</th>\n",
       "      <th>Inicio</th>\n",
       "      <th>Fin</th>\n",
       "    </tr>\n",
       "  </thead>\n",
       "  <tbody>\n",
       "    <tr>\n",
       "      <th>0</th>\n",
       "      <td>M</td>\n",
       "      <td>48.0</td>\n",
       "      <td>3371879</td>\n",
       "      <td>113</td>\n",
       "      <td>2023-12-31</td>\n",
       "      <td>23:21:52</td>\n",
       "      <td>659</td>\n",
       "      <td>2024-01-01</td>\n",
       "      <td>00:00:02</td>\n",
       "      <td>2023-12-31 23:21:52</td>\n",
       "      <td>2024-01-01 00:00:02</td>\n",
       "    </tr>\n",
       "    <tr>\n",
       "      <th>1</th>\n",
       "      <td>F</td>\n",
       "      <td>26.0</td>\n",
       "      <td>7033434</td>\n",
       "      <td>281</td>\n",
       "      <td>2023-12-31</td>\n",
       "      <td>23:46:02</td>\n",
       "      <td>47</td>\n",
       "      <td>2024-01-01</td>\n",
       "      <td>00:00:02</td>\n",
       "      <td>2023-12-31 23:46:02</td>\n",
       "      <td>2024-01-01 00:00:02</td>\n",
       "    </tr>\n",
       "    <tr>\n",
       "      <th>2</th>\n",
       "      <td>F</td>\n",
       "      <td>37.0</td>\n",
       "      <td>7169857</td>\n",
       "      <td>15</td>\n",
       "      <td>2023-12-31</td>\n",
       "      <td>23:51:57</td>\n",
       "      <td>217</td>\n",
       "      <td>2024-01-01</td>\n",
       "      <td>00:00:49</td>\n",
       "      <td>2023-12-31 23:51:57</td>\n",
       "      <td>2024-01-01 00:00:49</td>\n",
       "    </tr>\n",
       "    <tr>\n",
       "      <th>3</th>\n",
       "      <td>F</td>\n",
       "      <td>30.0</td>\n",
       "      <td>6368211</td>\n",
       "      <td>555</td>\n",
       "      <td>2023-12-31</td>\n",
       "      <td>23:53:10</td>\n",
       "      <td>8</td>\n",
       "      <td>2024-01-01</td>\n",
       "      <td>00:02:39</td>\n",
       "      <td>2023-12-31 23:53:10</td>\n",
       "      <td>2024-01-01 00:02:39</td>\n",
       "    </tr>\n",
       "    <tr>\n",
       "      <th>4</th>\n",
       "      <td>M</td>\n",
       "      <td>30.0</td>\n",
       "      <td>5136924</td>\n",
       "      <td>555</td>\n",
       "      <td>2023-12-31</td>\n",
       "      <td>23:52:53</td>\n",
       "      <td>8</td>\n",
       "      <td>2024-01-01</td>\n",
       "      <td>00:02:45</td>\n",
       "      <td>2023-12-31 23:52:53</td>\n",
       "      <td>2024-01-01 00:02:45</td>\n",
       "    </tr>\n",
       "  </tbody>\n",
       "</table>\n",
       "</div>"
      ],
      "text/plain": [
       "  Genero_Usuario  Edad_Usuario     Bici  Ciclo_Estacion_Retiro Fecha_Retiro  \\\n",
       "0              M          48.0  3371879                    113   2023-12-31   \n",
       "1              F          26.0  7033434                    281   2023-12-31   \n",
       "2              F          37.0  7169857                     15   2023-12-31   \n",
       "3              F          30.0  6368211                    555   2023-12-31   \n",
       "4              M          30.0  5136924                    555   2023-12-31   \n",
       "\n",
       "  Hora_Retiro  Ciclo_Estacion_Arribo Fecha_Arribo Hora_Arribo  \\\n",
       "0    23:21:52                    659   2024-01-01    00:00:02   \n",
       "1    23:46:02                     47   2024-01-01    00:00:02   \n",
       "2    23:51:57                    217   2024-01-01    00:00:49   \n",
       "3    23:53:10                      8   2024-01-01    00:02:39   \n",
       "4    23:52:53                      8   2024-01-01    00:02:45   \n",
       "\n",
       "                Inicio                  Fin  \n",
       "0  2023-12-31 23:21:52  2024-01-01 00:00:02  \n",
       "1  2023-12-31 23:46:02  2024-01-01 00:00:02  \n",
       "2  2023-12-31 23:51:57  2024-01-01 00:00:49  \n",
       "3  2023-12-31 23:53:10  2024-01-01 00:02:39  \n",
       "4  2023-12-31 23:52:53  2024-01-01 00:02:45  "
      ]
     },
     "execution_count": 14,
     "metadata": {},
     "output_type": "execute_result"
    }
   ],
   "source": [
    "eco_2024_filtered = eco_2024[\n",
    "    eco_2024['Ciclo_Estacion_Retiro'].astype(float).isin(stations) &\n",
    "    eco_2024['Ciclo_Estacion_Arribo'].astype(float).isin(stations)\n",
    "]\n",
    "eco_2024_filtered.head()"
   ]
  },
  {
   "cell_type": "code",
   "execution_count": 15,
   "id": "4c99f069",
   "metadata": {},
   "outputs": [
    {
     "data": {
      "application/vnd.microsoft.datawrangler.viewer.v0+json": {
       "columns": [
        {
         "name": "index",
         "rawType": "int64",
         "type": "integer"
        },
        {
         "name": "Genero_Usuario",
         "rawType": "object",
         "type": "string"
        },
        {
         "name": "Edad_Usuario",
         "rawType": "float64",
         "type": "float"
        },
        {
         "name": "Bici",
         "rawType": "int64",
         "type": "integer"
        },
        {
         "name": "Ciclo_Estacion_Retiro",
         "rawType": "int64",
         "type": "integer"
        },
        {
         "name": "Fecha_Retiro",
         "rawType": "object",
         "type": "string"
        },
        {
         "name": "Hora_Retiro",
         "rawType": "object",
         "type": "string"
        },
        {
         "name": "Ciclo_Estacion_Arribo",
         "rawType": "int64",
         "type": "integer"
        },
        {
         "name": "Fecha_Arribo",
         "rawType": "object",
         "type": "string"
        },
        {
         "name": "Hora_Arribo",
         "rawType": "object",
         "type": "string"
        },
        {
         "name": "Inicio",
         "rawType": "object",
         "type": "string"
        },
        {
         "name": "Fin",
         "rawType": "object",
         "type": "string"
        }
       ],
       "conversionMethod": "pd.DataFrame",
       "ref": "2f704cb0-3394-4ba2-882d-4066fff79ae9",
       "rows": [
        [
         "0",
         "M",
         "48.0",
         "3371879",
         "113",
         "2023-12-31",
         "23:21:52",
         "659",
         "2024-01-01",
         "00:00:02",
         "2023-12-31 23:21:52",
         "2024-01-01 00:00:02"
        ],
        [
         "1",
         "F",
         "26.0",
         "7033434",
         "281",
         "2023-12-31",
         "23:46:02",
         "47",
         "2024-01-01",
         "00:00:02",
         "2023-12-31 23:46:02",
         "2024-01-01 00:00:02"
        ],
        [
         "2",
         "F",
         "37.0",
         "7169857",
         "15",
         "2023-12-31",
         "23:51:57",
         "217",
         "2024-01-01",
         "00:00:49",
         "2023-12-31 23:51:57",
         "2024-01-01 00:00:49"
        ],
        [
         "3",
         "F",
         "30.0",
         "6368211",
         "555",
         "2023-12-31",
         "23:53:10",
         "8",
         "2024-01-01",
         "00:02:39",
         "2023-12-31 23:53:10",
         "2024-01-01 00:02:39"
        ],
        [
         "4",
         "M",
         "30.0",
         "5136924",
         "555",
         "2023-12-31",
         "23:52:53",
         "8",
         "2024-01-01",
         "00:02:45",
         "2023-12-31 23:52:53",
         "2024-01-01 00:02:45"
        ]
       ],
       "shape": {
        "columns": 11,
        "rows": 5
       }
      },
      "text/html": [
       "<div>\n",
       "<style scoped>\n",
       "    .dataframe tbody tr th:only-of-type {\n",
       "        vertical-align: middle;\n",
       "    }\n",
       "\n",
       "    .dataframe tbody tr th {\n",
       "        vertical-align: top;\n",
       "    }\n",
       "\n",
       "    .dataframe thead th {\n",
       "        text-align: right;\n",
       "    }\n",
       "</style>\n",
       "<table border=\"1\" class=\"dataframe\">\n",
       "  <thead>\n",
       "    <tr style=\"text-align: right;\">\n",
       "      <th></th>\n",
       "      <th>Genero_Usuario</th>\n",
       "      <th>Edad_Usuario</th>\n",
       "      <th>Bici</th>\n",
       "      <th>Ciclo_Estacion_Retiro</th>\n",
       "      <th>Fecha_Retiro</th>\n",
       "      <th>Hora_Retiro</th>\n",
       "      <th>Ciclo_Estacion_Arribo</th>\n",
       "      <th>Fecha_Arribo</th>\n",
       "      <th>Hora_Arribo</th>\n",
       "      <th>Inicio</th>\n",
       "      <th>Fin</th>\n",
       "    </tr>\n",
       "  </thead>\n",
       "  <tbody>\n",
       "    <tr>\n",
       "      <th>0</th>\n",
       "      <td>M</td>\n",
       "      <td>48.0</td>\n",
       "      <td>3371879</td>\n",
       "      <td>113</td>\n",
       "      <td>2023-12-31</td>\n",
       "      <td>23:21:52</td>\n",
       "      <td>659</td>\n",
       "      <td>2024-01-01</td>\n",
       "      <td>00:00:02</td>\n",
       "      <td>2023-12-31 23:21:52</td>\n",
       "      <td>2024-01-01 00:00:02</td>\n",
       "    </tr>\n",
       "    <tr>\n",
       "      <th>1</th>\n",
       "      <td>F</td>\n",
       "      <td>26.0</td>\n",
       "      <td>7033434</td>\n",
       "      <td>281</td>\n",
       "      <td>2023-12-31</td>\n",
       "      <td>23:46:02</td>\n",
       "      <td>47</td>\n",
       "      <td>2024-01-01</td>\n",
       "      <td>00:00:02</td>\n",
       "      <td>2023-12-31 23:46:02</td>\n",
       "      <td>2024-01-01 00:00:02</td>\n",
       "    </tr>\n",
       "    <tr>\n",
       "      <th>2</th>\n",
       "      <td>F</td>\n",
       "      <td>37.0</td>\n",
       "      <td>7169857</td>\n",
       "      <td>15</td>\n",
       "      <td>2023-12-31</td>\n",
       "      <td>23:51:57</td>\n",
       "      <td>217</td>\n",
       "      <td>2024-01-01</td>\n",
       "      <td>00:00:49</td>\n",
       "      <td>2023-12-31 23:51:57</td>\n",
       "      <td>2024-01-01 00:00:49</td>\n",
       "    </tr>\n",
       "    <tr>\n",
       "      <th>3</th>\n",
       "      <td>F</td>\n",
       "      <td>30.0</td>\n",
       "      <td>6368211</td>\n",
       "      <td>555</td>\n",
       "      <td>2023-12-31</td>\n",
       "      <td>23:53:10</td>\n",
       "      <td>8</td>\n",
       "      <td>2024-01-01</td>\n",
       "      <td>00:02:39</td>\n",
       "      <td>2023-12-31 23:53:10</td>\n",
       "      <td>2024-01-01 00:02:39</td>\n",
       "    </tr>\n",
       "    <tr>\n",
       "      <th>4</th>\n",
       "      <td>M</td>\n",
       "      <td>30.0</td>\n",
       "      <td>5136924</td>\n",
       "      <td>555</td>\n",
       "      <td>2023-12-31</td>\n",
       "      <td>23:52:53</td>\n",
       "      <td>8</td>\n",
       "      <td>2024-01-01</td>\n",
       "      <td>00:02:45</td>\n",
       "      <td>2023-12-31 23:52:53</td>\n",
       "      <td>2024-01-01 00:02:45</td>\n",
       "    </tr>\n",
       "  </tbody>\n",
       "</table>\n",
       "</div>"
      ],
      "text/plain": [
       "  Genero_Usuario  Edad_Usuario     Bici  Ciclo_Estacion_Retiro Fecha_Retiro  \\\n",
       "0              M          48.0  3371879                    113   2023-12-31   \n",
       "1              F          26.0  7033434                    281   2023-12-31   \n",
       "2              F          37.0  7169857                     15   2023-12-31   \n",
       "3              F          30.0  6368211                    555   2023-12-31   \n",
       "4              M          30.0  5136924                    555   2023-12-31   \n",
       "\n",
       "  Hora_Retiro  Ciclo_Estacion_Arribo Fecha_Arribo Hora_Arribo  \\\n",
       "0    23:21:52                    659   2024-01-01    00:00:02   \n",
       "1    23:46:02                     47   2024-01-01    00:00:02   \n",
       "2    23:51:57                    217   2024-01-01    00:00:49   \n",
       "3    23:53:10                      8   2024-01-01    00:02:39   \n",
       "4    23:52:53                      8   2024-01-01    00:02:45   \n",
       "\n",
       "                Inicio                  Fin  \n",
       "0  2023-12-31 23:21:52  2024-01-01 00:00:02  \n",
       "1  2023-12-31 23:46:02  2024-01-01 00:00:02  \n",
       "2  2023-12-31 23:51:57  2024-01-01 00:00:49  \n",
       "3  2023-12-31 23:53:10  2024-01-01 00:02:39  \n",
       "4  2023-12-31 23:52:53  2024-01-01 00:02:45  "
      ]
     },
     "execution_count": 15,
     "metadata": {},
     "output_type": "execute_result"
    }
   ],
   "source": [
    "eco_2024_filtered.to_csv('/Users/antoniomendez/Desktop/Tesis/Datos/datos_limpios/ecobici/ecobici_2024.csv', index = False)\n",
    "eco_2024 = load_data('ecobici/ecobici_2024.csv', flag_dir)\n",
    "eco_2024.head()"
   ]
  },
  {
   "cell_type": "markdown",
   "id": "6afbdbaf",
   "metadata": {},
   "source": [
    "Para mibici"
   ]
  },
  {
   "cell_type": "code",
   "execution_count": 16,
   "id": "2183f0f9",
   "metadata": {},
   "outputs": [
    {
     "data": {
      "application/vnd.microsoft.datawrangler.viewer.v0+json": {
       "columns": [
        {
         "name": "index",
         "rawType": "int64",
         "type": "integer"
        },
        {
         "name": "Viaje_Id",
         "rawType": "int64",
         "type": "integer"
        },
        {
         "name": "Usuario_Id",
         "rawType": "int64",
         "type": "integer"
        },
        {
         "name": "Genero",
         "rawType": "object",
         "type": "string"
        },
        {
         "name": "Año_de_nacimiento",
         "rawType": "float64",
         "type": "float"
        },
        {
         "name": "Inicio_del_viaje",
         "rawType": "object",
         "type": "string"
        },
        {
         "name": "Fin_del_viaje",
         "rawType": "object",
         "type": "string"
        },
        {
         "name": "Origen_Id",
         "rawType": "int64",
         "type": "integer"
        },
        {
         "name": "Destino_Id",
         "rawType": "int64",
         "type": "integer"
        },
        {
         "name": "Tiempo_de_viaje",
         "rawType": "float64",
         "type": "float"
        }
       ],
       "conversionMethod": "pd.DataFrame",
       "ref": "f37ccf30-4c76-4c05-9916-72c284bf0668",
       "rows": [
        [
         "0",
         "4783525",
         "251562",
         "M",
         "1982.0",
         "2018-01-01 06:01:03",
         "2018-01-01 06:10:11",
         "59",
         "28",
         "548.0"
        ],
        [
         "1",
         "4783526",
         "260233",
         "M",
         "2000.0",
         "2018-01-01 06:03:15",
         "2018-01-01 06:06:42",
         "250",
         "164",
         "207.0"
        ],
        [
         "2",
         "4783527",
         "277431",
         "M",
         "1993.0",
         "2018-01-01 06:09:56",
         "2018-01-01 06:15:17",
         "148",
         "238",
         "321.0"
        ],
        [
         "3",
         "4783528",
         "157371",
         "M",
         "1991.0",
         "2018-01-01 06:16:50",
         "2018-01-01 06:26:45",
         "202",
         "51",
         "595.0"
        ],
        [
         "4",
         "4783529",
         "237066",
         "M",
         "1995.0",
         "2018-01-01 06:19:44",
         "2018-01-01 06:24:59",
         "11",
         "173",
         "315.0"
        ]
       ],
       "shape": {
        "columns": 9,
        "rows": 5
       }
      },
      "text/html": [
       "<div>\n",
       "<style scoped>\n",
       "    .dataframe tbody tr th:only-of-type {\n",
       "        vertical-align: middle;\n",
       "    }\n",
       "\n",
       "    .dataframe tbody tr th {\n",
       "        vertical-align: top;\n",
       "    }\n",
       "\n",
       "    .dataframe thead th {\n",
       "        text-align: right;\n",
       "    }\n",
       "</style>\n",
       "<table border=\"1\" class=\"dataframe\">\n",
       "  <thead>\n",
       "    <tr style=\"text-align: right;\">\n",
       "      <th></th>\n",
       "      <th>Viaje_Id</th>\n",
       "      <th>Usuario_Id</th>\n",
       "      <th>Genero</th>\n",
       "      <th>Año_de_nacimiento</th>\n",
       "      <th>Inicio_del_viaje</th>\n",
       "      <th>Fin_del_viaje</th>\n",
       "      <th>Origen_Id</th>\n",
       "      <th>Destino_Id</th>\n",
       "      <th>Tiempo_de_viaje</th>\n",
       "    </tr>\n",
       "  </thead>\n",
       "  <tbody>\n",
       "    <tr>\n",
       "      <th>0</th>\n",
       "      <td>4783525</td>\n",
       "      <td>251562</td>\n",
       "      <td>M</td>\n",
       "      <td>1982.0</td>\n",
       "      <td>2018-01-01 06:01:03</td>\n",
       "      <td>2018-01-01 06:10:11</td>\n",
       "      <td>59</td>\n",
       "      <td>28</td>\n",
       "      <td>548.0</td>\n",
       "    </tr>\n",
       "    <tr>\n",
       "      <th>1</th>\n",
       "      <td>4783526</td>\n",
       "      <td>260233</td>\n",
       "      <td>M</td>\n",
       "      <td>2000.0</td>\n",
       "      <td>2018-01-01 06:03:15</td>\n",
       "      <td>2018-01-01 06:06:42</td>\n",
       "      <td>250</td>\n",
       "      <td>164</td>\n",
       "      <td>207.0</td>\n",
       "    </tr>\n",
       "    <tr>\n",
       "      <th>2</th>\n",
       "      <td>4783527</td>\n",
       "      <td>277431</td>\n",
       "      <td>M</td>\n",
       "      <td>1993.0</td>\n",
       "      <td>2018-01-01 06:09:56</td>\n",
       "      <td>2018-01-01 06:15:17</td>\n",
       "      <td>148</td>\n",
       "      <td>238</td>\n",
       "      <td>321.0</td>\n",
       "    </tr>\n",
       "    <tr>\n",
       "      <th>3</th>\n",
       "      <td>4783528</td>\n",
       "      <td>157371</td>\n",
       "      <td>M</td>\n",
       "      <td>1991.0</td>\n",
       "      <td>2018-01-01 06:16:50</td>\n",
       "      <td>2018-01-01 06:26:45</td>\n",
       "      <td>202</td>\n",
       "      <td>51</td>\n",
       "      <td>595.0</td>\n",
       "    </tr>\n",
       "    <tr>\n",
       "      <th>4</th>\n",
       "      <td>4783529</td>\n",
       "      <td>237066</td>\n",
       "      <td>M</td>\n",
       "      <td>1995.0</td>\n",
       "      <td>2018-01-01 06:19:44</td>\n",
       "      <td>2018-01-01 06:24:59</td>\n",
       "      <td>11</td>\n",
       "      <td>173</td>\n",
       "      <td>315.0</td>\n",
       "    </tr>\n",
       "  </tbody>\n",
       "</table>\n",
       "</div>"
      ],
      "text/plain": [
       "   Viaje_Id  Usuario_Id Genero  Año_de_nacimiento     Inicio_del_viaje  \\\n",
       "0   4783525      251562      M             1982.0  2018-01-01 06:01:03   \n",
       "1   4783526      260233      M             2000.0  2018-01-01 06:03:15   \n",
       "2   4783527      277431      M             1993.0  2018-01-01 06:09:56   \n",
       "3   4783528      157371      M             1991.0  2018-01-01 06:16:50   \n",
       "4   4783529      237066      M             1995.0  2018-01-01 06:19:44   \n",
       "\n",
       "         Fin_del_viaje  Origen_Id  Destino_Id  Tiempo_de_viaje  \n",
       "0  2018-01-01 06:10:11         59          28            548.0  \n",
       "1  2018-01-01 06:06:42        250         164            207.0  \n",
       "2  2018-01-01 06:15:17        148         238            321.0  \n",
       "3  2018-01-01 06:26:45        202          51            595.0  \n",
       "4  2018-01-01 06:24:59         11         173            315.0  "
      ]
     },
     "execution_count": 16,
     "metadata": {},
     "output_type": "execute_result"
    }
   ],
   "source": [
    "mibici_2018 = load_data('mibici/mibici_2018.csv', flag_dir)\n",
    "mibici_2018.head()"
   ]
  },
  {
   "cell_type": "code",
   "execution_count": 17,
   "id": "bf2cde14",
   "metadata": {},
   "outputs": [
    {
     "data": {
      "application/vnd.microsoft.datawrangler.viewer.v0+json": {
       "columns": [
        {
         "name": "index",
         "rawType": "int64",
         "type": "integer"
        },
        {
         "name": "Viaje_Id",
         "rawType": "int64",
         "type": "integer"
        },
        {
         "name": "Usuario_Id",
         "rawType": "int64",
         "type": "integer"
        },
        {
         "name": "Genero",
         "rawType": "object",
         "type": "string"
        },
        {
         "name": "Año_de_nacimiento",
         "rawType": "float64",
         "type": "float"
        },
        {
         "name": "Inicio_del_viaje",
         "rawType": "object",
         "type": "string"
        },
        {
         "name": "Fin_del_viaje",
         "rawType": "object",
         "type": "string"
        },
        {
         "name": "Origen_Id",
         "rawType": "int64",
         "type": "integer"
        },
        {
         "name": "Destino_Id",
         "rawType": "int64",
         "type": "integer"
        },
        {
         "name": "Tiempo_de_viaje",
         "rawType": "float64",
         "type": "float"
        },
        {
         "name": "Inicio",
         "rawType": "object",
         "type": "string"
        },
        {
         "name": "Fin",
         "rawType": "object",
         "type": "string"
        }
       ],
       "conversionMethod": "pd.DataFrame",
       "ref": "449a4a59-ce8d-4bf1-8dbe-30169445bbb6",
       "rows": [
        [
         "0",
         "4783525",
         "251562",
         "M",
         "1982.0",
         "2018-01-01 06:01:03",
         "2018-01-01 06:10:11",
         "59",
         "28",
         "548.0",
         "2018-01-01 06:01:03",
         "2018-01-01 06:10:11"
        ],
        [
         "1",
         "4783526",
         "260233",
         "M",
         "2000.0",
         "2018-01-01 06:03:15",
         "2018-01-01 06:06:42",
         "250",
         "164",
         "207.0",
         "2018-01-01 06:03:15",
         "2018-01-01 06:06:42"
        ],
        [
         "2",
         "4783527",
         "277431",
         "M",
         "1993.0",
         "2018-01-01 06:09:56",
         "2018-01-01 06:15:17",
         "148",
         "238",
         "321.0",
         "2018-01-01 06:09:56",
         "2018-01-01 06:15:17"
        ],
        [
         "3",
         "4783528",
         "157371",
         "M",
         "1991.0",
         "2018-01-01 06:16:50",
         "2018-01-01 06:26:45",
         "202",
         "51",
         "595.0",
         "2018-01-01 06:16:50",
         "2018-01-01 06:26:45"
        ],
        [
         "4",
         "4783529",
         "237066",
         "M",
         "1995.0",
         "2018-01-01 06:19:44",
         "2018-01-01 06:24:59",
         "11",
         "173",
         "315.0",
         "2018-01-01 06:19:44",
         "2018-01-01 06:24:59"
        ]
       ],
       "shape": {
        "columns": 11,
        "rows": 5
       }
      },
      "text/html": [
       "<div>\n",
       "<style scoped>\n",
       "    .dataframe tbody tr th:only-of-type {\n",
       "        vertical-align: middle;\n",
       "    }\n",
       "\n",
       "    .dataframe tbody tr th {\n",
       "        vertical-align: top;\n",
       "    }\n",
       "\n",
       "    .dataframe thead th {\n",
       "        text-align: right;\n",
       "    }\n",
       "</style>\n",
       "<table border=\"1\" class=\"dataframe\">\n",
       "  <thead>\n",
       "    <tr style=\"text-align: right;\">\n",
       "      <th></th>\n",
       "      <th>Viaje_Id</th>\n",
       "      <th>Usuario_Id</th>\n",
       "      <th>Genero</th>\n",
       "      <th>Año_de_nacimiento</th>\n",
       "      <th>Inicio_del_viaje</th>\n",
       "      <th>Fin_del_viaje</th>\n",
       "      <th>Origen_Id</th>\n",
       "      <th>Destino_Id</th>\n",
       "      <th>Tiempo_de_viaje</th>\n",
       "      <th>Inicio</th>\n",
       "      <th>Fin</th>\n",
       "    </tr>\n",
       "  </thead>\n",
       "  <tbody>\n",
       "    <tr>\n",
       "      <th>0</th>\n",
       "      <td>4783525</td>\n",
       "      <td>251562</td>\n",
       "      <td>M</td>\n",
       "      <td>1982.0</td>\n",
       "      <td>2018-01-01 06:01:03</td>\n",
       "      <td>2018-01-01 06:10:11</td>\n",
       "      <td>59</td>\n",
       "      <td>28</td>\n",
       "      <td>548.0</td>\n",
       "      <td>2018-01-01 06:01:03</td>\n",
       "      <td>2018-01-01 06:10:11</td>\n",
       "    </tr>\n",
       "    <tr>\n",
       "      <th>1</th>\n",
       "      <td>4783526</td>\n",
       "      <td>260233</td>\n",
       "      <td>M</td>\n",
       "      <td>2000.0</td>\n",
       "      <td>2018-01-01 06:03:15</td>\n",
       "      <td>2018-01-01 06:06:42</td>\n",
       "      <td>250</td>\n",
       "      <td>164</td>\n",
       "      <td>207.0</td>\n",
       "      <td>2018-01-01 06:03:15</td>\n",
       "      <td>2018-01-01 06:06:42</td>\n",
       "    </tr>\n",
       "    <tr>\n",
       "      <th>2</th>\n",
       "      <td>4783527</td>\n",
       "      <td>277431</td>\n",
       "      <td>M</td>\n",
       "      <td>1993.0</td>\n",
       "      <td>2018-01-01 06:09:56</td>\n",
       "      <td>2018-01-01 06:15:17</td>\n",
       "      <td>148</td>\n",
       "      <td>238</td>\n",
       "      <td>321.0</td>\n",
       "      <td>2018-01-01 06:09:56</td>\n",
       "      <td>2018-01-01 06:15:17</td>\n",
       "    </tr>\n",
       "    <tr>\n",
       "      <th>3</th>\n",
       "      <td>4783528</td>\n",
       "      <td>157371</td>\n",
       "      <td>M</td>\n",
       "      <td>1991.0</td>\n",
       "      <td>2018-01-01 06:16:50</td>\n",
       "      <td>2018-01-01 06:26:45</td>\n",
       "      <td>202</td>\n",
       "      <td>51</td>\n",
       "      <td>595.0</td>\n",
       "      <td>2018-01-01 06:16:50</td>\n",
       "      <td>2018-01-01 06:26:45</td>\n",
       "    </tr>\n",
       "    <tr>\n",
       "      <th>4</th>\n",
       "      <td>4783529</td>\n",
       "      <td>237066</td>\n",
       "      <td>M</td>\n",
       "      <td>1995.0</td>\n",
       "      <td>2018-01-01 06:19:44</td>\n",
       "      <td>2018-01-01 06:24:59</td>\n",
       "      <td>11</td>\n",
       "      <td>173</td>\n",
       "      <td>315.0</td>\n",
       "      <td>2018-01-01 06:19:44</td>\n",
       "      <td>2018-01-01 06:24:59</td>\n",
       "    </tr>\n",
       "  </tbody>\n",
       "</table>\n",
       "</div>"
      ],
      "text/plain": [
       "   Viaje_Id  Usuario_Id Genero  Año_de_nacimiento     Inicio_del_viaje  \\\n",
       "0   4783525      251562      M             1982.0  2018-01-01 06:01:03   \n",
       "1   4783526      260233      M             2000.0  2018-01-01 06:03:15   \n",
       "2   4783527      277431      M             1993.0  2018-01-01 06:09:56   \n",
       "3   4783528      157371      M             1991.0  2018-01-01 06:16:50   \n",
       "4   4783529      237066      M             1995.0  2018-01-01 06:19:44   \n",
       "\n",
       "         Fin_del_viaje  Origen_Id  Destino_Id  Tiempo_de_viaje  \\\n",
       "0  2018-01-01 06:10:11         59          28            548.0   \n",
       "1  2018-01-01 06:06:42        250         164            207.0   \n",
       "2  2018-01-01 06:15:17        148         238            321.0   \n",
       "3  2018-01-01 06:26:45        202          51            595.0   \n",
       "4  2018-01-01 06:24:59         11         173            315.0   \n",
       "\n",
       "                Inicio                  Fin  \n",
       "0  2018-01-01 06:01:03  2018-01-01 06:10:11  \n",
       "1  2018-01-01 06:03:15  2018-01-01 06:06:42  \n",
       "2  2018-01-01 06:09:56  2018-01-01 06:15:17  \n",
       "3  2018-01-01 06:16:50  2018-01-01 06:26:45  \n",
       "4  2018-01-01 06:19:44  2018-01-01 06:24:59  "
      ]
     },
     "execution_count": 17,
     "metadata": {},
     "output_type": "execute_result"
    }
   ],
   "source": [
    "mibici_2018['Inicio'] = mibici_2018['Inicio_del_viaje']\n",
    "mibici_2018['Fin'] = mibici_2018['Fin_del_viaje']\n",
    "mibici_2018.head()"
   ]
  },
  {
   "cell_type": "code",
   "execution_count": 18,
   "id": "aa246d1e",
   "metadata": {},
   "outputs": [
    {
     "data": {
      "application/vnd.microsoft.datawrangler.viewer.v0+json": {
       "columns": [
        {
         "name": "index",
         "rawType": "int64",
         "type": "integer"
        },
        {
         "name": "Viaje_Id",
         "rawType": "int64",
         "type": "integer"
        },
        {
         "name": "Usuario_Id",
         "rawType": "int64",
         "type": "integer"
        },
        {
         "name": "Genero",
         "rawType": "object",
         "type": "string"
        },
        {
         "name": "Año_de_nacimiento",
         "rawType": "float64",
         "type": "float"
        },
        {
         "name": "Inicio_del_viaje",
         "rawType": "object",
         "type": "string"
        },
        {
         "name": "Fin_del_viaje",
         "rawType": "object",
         "type": "string"
        },
        {
         "name": "Origen_Id",
         "rawType": "int64",
         "type": "integer"
        },
        {
         "name": "Destino_Id",
         "rawType": "int64",
         "type": "integer"
        },
        {
         "name": "Tiempo_de_viaje",
         "rawType": "float64",
         "type": "float"
        },
        {
         "name": "Inicio",
         "rawType": "object",
         "type": "string"
        },
        {
         "name": "Fin",
         "rawType": "object",
         "type": "string"
        }
       ],
       "conversionMethod": "pd.DataFrame",
       "ref": "5373ad40-cfb6-4484-9a2f-8675a7648501",
       "rows": [
        [
         "0",
         "4783525",
         "251562",
         "M",
         "1982.0",
         "2018-01-01 06:01:03",
         "2018-01-01 06:10:11",
         "59",
         "28",
         "548.0",
         "2018-01-01 06:01:03",
         "2018-01-01 06:10:11"
        ],
        [
         "1",
         "4783526",
         "260233",
         "M",
         "2000.0",
         "2018-01-01 06:03:15",
         "2018-01-01 06:06:42",
         "250",
         "164",
         "207.0",
         "2018-01-01 06:03:15",
         "2018-01-01 06:06:42"
        ],
        [
         "2",
         "4783527",
         "277431",
         "M",
         "1993.0",
         "2018-01-01 06:09:56",
         "2018-01-01 06:15:17",
         "148",
         "238",
         "321.0",
         "2018-01-01 06:09:56",
         "2018-01-01 06:15:17"
        ],
        [
         "3",
         "4783528",
         "157371",
         "M",
         "1991.0",
         "2018-01-01 06:16:50",
         "2018-01-01 06:26:45",
         "202",
         "51",
         "595.0",
         "2018-01-01 06:16:50",
         "2018-01-01 06:26:45"
        ],
        [
         "4",
         "4783529",
         "237066",
         "M",
         "1995.0",
         "2018-01-01 06:19:44",
         "2018-01-01 06:24:59",
         "11",
         "173",
         "315.0",
         "2018-01-01 06:19:44",
         "2018-01-01 06:24:59"
        ]
       ],
       "shape": {
        "columns": 11,
        "rows": 5
       }
      },
      "text/html": [
       "<div>\n",
       "<style scoped>\n",
       "    .dataframe tbody tr th:only-of-type {\n",
       "        vertical-align: middle;\n",
       "    }\n",
       "\n",
       "    .dataframe tbody tr th {\n",
       "        vertical-align: top;\n",
       "    }\n",
       "\n",
       "    .dataframe thead th {\n",
       "        text-align: right;\n",
       "    }\n",
       "</style>\n",
       "<table border=\"1\" class=\"dataframe\">\n",
       "  <thead>\n",
       "    <tr style=\"text-align: right;\">\n",
       "      <th></th>\n",
       "      <th>Viaje_Id</th>\n",
       "      <th>Usuario_Id</th>\n",
       "      <th>Genero</th>\n",
       "      <th>Año_de_nacimiento</th>\n",
       "      <th>Inicio_del_viaje</th>\n",
       "      <th>Fin_del_viaje</th>\n",
       "      <th>Origen_Id</th>\n",
       "      <th>Destino_Id</th>\n",
       "      <th>Tiempo_de_viaje</th>\n",
       "      <th>Inicio</th>\n",
       "      <th>Fin</th>\n",
       "    </tr>\n",
       "  </thead>\n",
       "  <tbody>\n",
       "    <tr>\n",
       "      <th>0</th>\n",
       "      <td>4783525</td>\n",
       "      <td>251562</td>\n",
       "      <td>M</td>\n",
       "      <td>1982.0</td>\n",
       "      <td>2018-01-01 06:01:03</td>\n",
       "      <td>2018-01-01 06:10:11</td>\n",
       "      <td>59</td>\n",
       "      <td>28</td>\n",
       "      <td>548.0</td>\n",
       "      <td>2018-01-01 06:01:03</td>\n",
       "      <td>2018-01-01 06:10:11</td>\n",
       "    </tr>\n",
       "    <tr>\n",
       "      <th>1</th>\n",
       "      <td>4783526</td>\n",
       "      <td>260233</td>\n",
       "      <td>M</td>\n",
       "      <td>2000.0</td>\n",
       "      <td>2018-01-01 06:03:15</td>\n",
       "      <td>2018-01-01 06:06:42</td>\n",
       "      <td>250</td>\n",
       "      <td>164</td>\n",
       "      <td>207.0</td>\n",
       "      <td>2018-01-01 06:03:15</td>\n",
       "      <td>2018-01-01 06:06:42</td>\n",
       "    </tr>\n",
       "    <tr>\n",
       "      <th>2</th>\n",
       "      <td>4783527</td>\n",
       "      <td>277431</td>\n",
       "      <td>M</td>\n",
       "      <td>1993.0</td>\n",
       "      <td>2018-01-01 06:09:56</td>\n",
       "      <td>2018-01-01 06:15:17</td>\n",
       "      <td>148</td>\n",
       "      <td>238</td>\n",
       "      <td>321.0</td>\n",
       "      <td>2018-01-01 06:09:56</td>\n",
       "      <td>2018-01-01 06:15:17</td>\n",
       "    </tr>\n",
       "    <tr>\n",
       "      <th>3</th>\n",
       "      <td>4783528</td>\n",
       "      <td>157371</td>\n",
       "      <td>M</td>\n",
       "      <td>1991.0</td>\n",
       "      <td>2018-01-01 06:16:50</td>\n",
       "      <td>2018-01-01 06:26:45</td>\n",
       "      <td>202</td>\n",
       "      <td>51</td>\n",
       "      <td>595.0</td>\n",
       "      <td>2018-01-01 06:16:50</td>\n",
       "      <td>2018-01-01 06:26:45</td>\n",
       "    </tr>\n",
       "    <tr>\n",
       "      <th>4</th>\n",
       "      <td>4783529</td>\n",
       "      <td>237066</td>\n",
       "      <td>M</td>\n",
       "      <td>1995.0</td>\n",
       "      <td>2018-01-01 06:19:44</td>\n",
       "      <td>2018-01-01 06:24:59</td>\n",
       "      <td>11</td>\n",
       "      <td>173</td>\n",
       "      <td>315.0</td>\n",
       "      <td>2018-01-01 06:19:44</td>\n",
       "      <td>2018-01-01 06:24:59</td>\n",
       "    </tr>\n",
       "  </tbody>\n",
       "</table>\n",
       "</div>"
      ],
      "text/plain": [
       "   Viaje_Id  Usuario_Id Genero  Año_de_nacimiento     Inicio_del_viaje  \\\n",
       "0   4783525      251562      M             1982.0  2018-01-01 06:01:03   \n",
       "1   4783526      260233      M             2000.0  2018-01-01 06:03:15   \n",
       "2   4783527      277431      M             1993.0  2018-01-01 06:09:56   \n",
       "3   4783528      157371      M             1991.0  2018-01-01 06:16:50   \n",
       "4   4783529      237066      M             1995.0  2018-01-01 06:19:44   \n",
       "\n",
       "         Fin_del_viaje  Origen_Id  Destino_Id  Tiempo_de_viaje  \\\n",
       "0  2018-01-01 06:10:11         59          28            548.0   \n",
       "1  2018-01-01 06:06:42        250         164            207.0   \n",
       "2  2018-01-01 06:15:17        148         238            321.0   \n",
       "3  2018-01-01 06:26:45        202          51            595.0   \n",
       "4  2018-01-01 06:24:59         11         173            315.0   \n",
       "\n",
       "                Inicio                  Fin  \n",
       "0  2018-01-01 06:01:03  2018-01-01 06:10:11  \n",
       "1  2018-01-01 06:03:15  2018-01-01 06:06:42  \n",
       "2  2018-01-01 06:09:56  2018-01-01 06:15:17  \n",
       "3  2018-01-01 06:16:50  2018-01-01 06:26:45  \n",
       "4  2018-01-01 06:19:44  2018-01-01 06:24:59  "
      ]
     },
     "execution_count": 18,
     "metadata": {},
     "output_type": "execute_result"
    }
   ],
   "source": [
    "mibici_2018.to_csv('/Users/antoniomendez/Desktop/Tesis/Datos/datos_limpios/mibici/mibici_2018.csv', index = False)\n",
    "mibici_2018 = load_data('mibici/mibici_2018.csv', flag_dir)\n",
    "mibici_2018.head()"
   ]
  },
  {
   "cell_type": "code",
   "execution_count": 20,
   "id": "dcf12757",
   "metadata": {},
   "outputs": [],
   "source": [
    "del mibici_2018"
   ]
  },
  {
   "cell_type": "code",
   "execution_count": 21,
   "id": "71808bff",
   "metadata": {},
   "outputs": [
    {
     "data": {
      "application/vnd.microsoft.datawrangler.viewer.v0+json": {
       "columns": [
        {
         "name": "index",
         "rawType": "int64",
         "type": "integer"
        },
        {
         "name": "Viaje_Id",
         "rawType": "int64",
         "type": "integer"
        },
        {
         "name": "Usuario_Id",
         "rawType": "int64",
         "type": "integer"
        },
        {
         "name": "Genero",
         "rawType": "object",
         "type": "string"
        },
        {
         "name": "Año_de_nacimiento",
         "rawType": "float64",
         "type": "float"
        },
        {
         "name": "Inicio_del_viaje",
         "rawType": "object",
         "type": "string"
        },
        {
         "name": "Fin_del_viaje",
         "rawType": "object",
         "type": "string"
        },
        {
         "name": "Origen_Id",
         "rawType": "int64",
         "type": "integer"
        },
        {
         "name": "Destino_Id",
         "rawType": "int64",
         "type": "integer"
        },
        {
         "name": "Tiempo_viaje",
         "rawType": "float64",
         "type": "float"
        }
       ],
       "conversionMethod": "pd.DataFrame",
       "ref": "07310bbb-f8ec-49b0-94a2-30bd6bb7b13b",
       "rows": [
        [
         "0",
         "8901295",
         "341162",
         "M",
         "1992.0",
         "2019-01-01 00:00:00",
         "2019-01-01 00:16:09",
         "50",
         "54",
         "16.15"
        ],
        [
         "1",
         "8901296",
         "413443",
         "M",
         "1985.0",
         "2019-01-01 06:01:05",
         "2019-01-01 06:16:27",
         "38",
         "194",
         "15.366666666666667"
        ],
        [
         "2",
         "8901297",
         "444232",
         "M",
         "1995.0",
         "2019-01-01 06:01:19",
         "2019-01-01 06:09:55",
         "86",
         "18",
         "8.6"
        ],
        [
         "3",
         "8901298",
         "437533",
         "M",
         "1998.0",
         "2019-01-01 06:01:25",
         "2019-01-01 06:02:04",
         "86",
         "86",
         "0.65"
        ],
        [
         "4",
         "8901299",
         "430224",
         "M",
         "1992.0",
         "2019-01-01 06:01:57",
         "2019-01-01 06:05:01",
         "27",
         "52",
         "3.066666666666667"
        ]
       ],
       "shape": {
        "columns": 9,
        "rows": 5
       }
      },
      "text/html": [
       "<div>\n",
       "<style scoped>\n",
       "    .dataframe tbody tr th:only-of-type {\n",
       "        vertical-align: middle;\n",
       "    }\n",
       "\n",
       "    .dataframe tbody tr th {\n",
       "        vertical-align: top;\n",
       "    }\n",
       "\n",
       "    .dataframe thead th {\n",
       "        text-align: right;\n",
       "    }\n",
       "</style>\n",
       "<table border=\"1\" class=\"dataframe\">\n",
       "  <thead>\n",
       "    <tr style=\"text-align: right;\">\n",
       "      <th></th>\n",
       "      <th>Viaje_Id</th>\n",
       "      <th>Usuario_Id</th>\n",
       "      <th>Genero</th>\n",
       "      <th>Año_de_nacimiento</th>\n",
       "      <th>Inicio_del_viaje</th>\n",
       "      <th>Fin_del_viaje</th>\n",
       "      <th>Origen_Id</th>\n",
       "      <th>Destino_Id</th>\n",
       "      <th>Tiempo_viaje</th>\n",
       "    </tr>\n",
       "  </thead>\n",
       "  <tbody>\n",
       "    <tr>\n",
       "      <th>0</th>\n",
       "      <td>8901295</td>\n",
       "      <td>341162</td>\n",
       "      <td>M</td>\n",
       "      <td>1992.0</td>\n",
       "      <td>2019-01-01 00:00:00</td>\n",
       "      <td>2019-01-01 00:16:09</td>\n",
       "      <td>50</td>\n",
       "      <td>54</td>\n",
       "      <td>16.150000</td>\n",
       "    </tr>\n",
       "    <tr>\n",
       "      <th>1</th>\n",
       "      <td>8901296</td>\n",
       "      <td>413443</td>\n",
       "      <td>M</td>\n",
       "      <td>1985.0</td>\n",
       "      <td>2019-01-01 06:01:05</td>\n",
       "      <td>2019-01-01 06:16:27</td>\n",
       "      <td>38</td>\n",
       "      <td>194</td>\n",
       "      <td>15.366667</td>\n",
       "    </tr>\n",
       "    <tr>\n",
       "      <th>2</th>\n",
       "      <td>8901297</td>\n",
       "      <td>444232</td>\n",
       "      <td>M</td>\n",
       "      <td>1995.0</td>\n",
       "      <td>2019-01-01 06:01:19</td>\n",
       "      <td>2019-01-01 06:09:55</td>\n",
       "      <td>86</td>\n",
       "      <td>18</td>\n",
       "      <td>8.600000</td>\n",
       "    </tr>\n",
       "    <tr>\n",
       "      <th>3</th>\n",
       "      <td>8901298</td>\n",
       "      <td>437533</td>\n",
       "      <td>M</td>\n",
       "      <td>1998.0</td>\n",
       "      <td>2019-01-01 06:01:25</td>\n",
       "      <td>2019-01-01 06:02:04</td>\n",
       "      <td>86</td>\n",
       "      <td>86</td>\n",
       "      <td>0.650000</td>\n",
       "    </tr>\n",
       "    <tr>\n",
       "      <th>4</th>\n",
       "      <td>8901299</td>\n",
       "      <td>430224</td>\n",
       "      <td>M</td>\n",
       "      <td>1992.0</td>\n",
       "      <td>2019-01-01 06:01:57</td>\n",
       "      <td>2019-01-01 06:05:01</td>\n",
       "      <td>27</td>\n",
       "      <td>52</td>\n",
       "      <td>3.066667</td>\n",
       "    </tr>\n",
       "  </tbody>\n",
       "</table>\n",
       "</div>"
      ],
      "text/plain": [
       "   Viaje_Id  Usuario_Id Genero  Año_de_nacimiento     Inicio_del_viaje  \\\n",
       "0   8901295      341162      M             1992.0  2019-01-01 00:00:00   \n",
       "1   8901296      413443      M             1985.0  2019-01-01 06:01:05   \n",
       "2   8901297      444232      M             1995.0  2019-01-01 06:01:19   \n",
       "3   8901298      437533      M             1998.0  2019-01-01 06:01:25   \n",
       "4   8901299      430224      M             1992.0  2019-01-01 06:01:57   \n",
       "\n",
       "         Fin_del_viaje  Origen_Id  Destino_Id  Tiempo_viaje  \n",
       "0  2019-01-01 00:16:09         50          54     16.150000  \n",
       "1  2019-01-01 06:16:27         38         194     15.366667  \n",
       "2  2019-01-01 06:09:55         86          18      8.600000  \n",
       "3  2019-01-01 06:02:04         86          86      0.650000  \n",
       "4  2019-01-01 06:05:01         27          52      3.066667  "
      ]
     },
     "execution_count": 21,
     "metadata": {},
     "output_type": "execute_result"
    }
   ],
   "source": [
    "mibici_2019 = load_data('mibici/mibici_2019.csv', flag_dir)\n",
    "mibici_2019.head()"
   ]
  },
  {
   "cell_type": "code",
   "execution_count": 23,
   "id": "231ebb99",
   "metadata": {},
   "outputs": [
    {
     "data": {
      "application/vnd.microsoft.datawrangler.viewer.v0+json": {
       "columns": [
        {
         "name": "index",
         "rawType": "int64",
         "type": "integer"
        },
        {
         "name": "Viaje_Id",
         "rawType": "int64",
         "type": "integer"
        },
        {
         "name": "Usuario_Id",
         "rawType": "int64",
         "type": "integer"
        },
        {
         "name": "Genero",
         "rawType": "object",
         "type": "string"
        },
        {
         "name": "Año_de_nacimiento",
         "rawType": "float64",
         "type": "float"
        },
        {
         "name": "Inicio_del_viaje",
         "rawType": "object",
         "type": "string"
        },
        {
         "name": "Fin_del_viaje",
         "rawType": "object",
         "type": "string"
        },
        {
         "name": "Origen_Id",
         "rawType": "int64",
         "type": "integer"
        },
        {
         "name": "Destino_Id",
         "rawType": "int64",
         "type": "integer"
        },
        {
         "name": "Tiempo_viaje",
         "rawType": "float64",
         "type": "float"
        },
        {
         "name": "Inicio",
         "rawType": "object",
         "type": "string"
        },
        {
         "name": "Fin",
         "rawType": "object",
         "type": "string"
        }
       ],
       "conversionMethod": "pd.DataFrame",
       "ref": "a8a2ed32-50a8-4131-9ddf-9fb521962a42",
       "rows": [
        [
         "0",
         "8901295",
         "341162",
         "M",
         "1992.0",
         "2019-01-01 00:00:00",
         "2019-01-01 00:16:09",
         "50",
         "54",
         "16.15",
         "2019-01-01 00:00:00",
         "2019-01-01 00:16:09"
        ],
        [
         "1",
         "8901296",
         "413443",
         "M",
         "1985.0",
         "2019-01-01 06:01:05",
         "2019-01-01 06:16:27",
         "38",
         "194",
         "15.366666666666667",
         "2019-01-01 06:01:05",
         "2019-01-01 06:16:27"
        ],
        [
         "2",
         "8901297",
         "444232",
         "M",
         "1995.0",
         "2019-01-01 06:01:19",
         "2019-01-01 06:09:55",
         "86",
         "18",
         "8.6",
         "2019-01-01 06:01:19",
         "2019-01-01 06:09:55"
        ],
        [
         "3",
         "8901298",
         "437533",
         "M",
         "1998.0",
         "2019-01-01 06:01:25",
         "2019-01-01 06:02:04",
         "86",
         "86",
         "0.65",
         "2019-01-01 06:01:25",
         "2019-01-01 06:02:04"
        ],
        [
         "4",
         "8901299",
         "430224",
         "M",
         "1992.0",
         "2019-01-01 06:01:57",
         "2019-01-01 06:05:01",
         "27",
         "52",
         "3.066666666666667",
         "2019-01-01 06:01:57",
         "2019-01-01 06:05:01"
        ]
       ],
       "shape": {
        "columns": 11,
        "rows": 5
       }
      },
      "text/html": [
       "<div>\n",
       "<style scoped>\n",
       "    .dataframe tbody tr th:only-of-type {\n",
       "        vertical-align: middle;\n",
       "    }\n",
       "\n",
       "    .dataframe tbody tr th {\n",
       "        vertical-align: top;\n",
       "    }\n",
       "\n",
       "    .dataframe thead th {\n",
       "        text-align: right;\n",
       "    }\n",
       "</style>\n",
       "<table border=\"1\" class=\"dataframe\">\n",
       "  <thead>\n",
       "    <tr style=\"text-align: right;\">\n",
       "      <th></th>\n",
       "      <th>Viaje_Id</th>\n",
       "      <th>Usuario_Id</th>\n",
       "      <th>Genero</th>\n",
       "      <th>Año_de_nacimiento</th>\n",
       "      <th>Inicio_del_viaje</th>\n",
       "      <th>Fin_del_viaje</th>\n",
       "      <th>Origen_Id</th>\n",
       "      <th>Destino_Id</th>\n",
       "      <th>Tiempo_viaje</th>\n",
       "      <th>Inicio</th>\n",
       "      <th>Fin</th>\n",
       "    </tr>\n",
       "  </thead>\n",
       "  <tbody>\n",
       "    <tr>\n",
       "      <th>0</th>\n",
       "      <td>8901295</td>\n",
       "      <td>341162</td>\n",
       "      <td>M</td>\n",
       "      <td>1992.0</td>\n",
       "      <td>2019-01-01 00:00:00</td>\n",
       "      <td>2019-01-01 00:16:09</td>\n",
       "      <td>50</td>\n",
       "      <td>54</td>\n",
       "      <td>16.150000</td>\n",
       "      <td>2019-01-01 00:00:00</td>\n",
       "      <td>2019-01-01 00:16:09</td>\n",
       "    </tr>\n",
       "    <tr>\n",
       "      <th>1</th>\n",
       "      <td>8901296</td>\n",
       "      <td>413443</td>\n",
       "      <td>M</td>\n",
       "      <td>1985.0</td>\n",
       "      <td>2019-01-01 06:01:05</td>\n",
       "      <td>2019-01-01 06:16:27</td>\n",
       "      <td>38</td>\n",
       "      <td>194</td>\n",
       "      <td>15.366667</td>\n",
       "      <td>2019-01-01 06:01:05</td>\n",
       "      <td>2019-01-01 06:16:27</td>\n",
       "    </tr>\n",
       "    <tr>\n",
       "      <th>2</th>\n",
       "      <td>8901297</td>\n",
       "      <td>444232</td>\n",
       "      <td>M</td>\n",
       "      <td>1995.0</td>\n",
       "      <td>2019-01-01 06:01:19</td>\n",
       "      <td>2019-01-01 06:09:55</td>\n",
       "      <td>86</td>\n",
       "      <td>18</td>\n",
       "      <td>8.600000</td>\n",
       "      <td>2019-01-01 06:01:19</td>\n",
       "      <td>2019-01-01 06:09:55</td>\n",
       "    </tr>\n",
       "    <tr>\n",
       "      <th>3</th>\n",
       "      <td>8901298</td>\n",
       "      <td>437533</td>\n",
       "      <td>M</td>\n",
       "      <td>1998.0</td>\n",
       "      <td>2019-01-01 06:01:25</td>\n",
       "      <td>2019-01-01 06:02:04</td>\n",
       "      <td>86</td>\n",
       "      <td>86</td>\n",
       "      <td>0.650000</td>\n",
       "      <td>2019-01-01 06:01:25</td>\n",
       "      <td>2019-01-01 06:02:04</td>\n",
       "    </tr>\n",
       "    <tr>\n",
       "      <th>4</th>\n",
       "      <td>8901299</td>\n",
       "      <td>430224</td>\n",
       "      <td>M</td>\n",
       "      <td>1992.0</td>\n",
       "      <td>2019-01-01 06:01:57</td>\n",
       "      <td>2019-01-01 06:05:01</td>\n",
       "      <td>27</td>\n",
       "      <td>52</td>\n",
       "      <td>3.066667</td>\n",
       "      <td>2019-01-01 06:01:57</td>\n",
       "      <td>2019-01-01 06:05:01</td>\n",
       "    </tr>\n",
       "  </tbody>\n",
       "</table>\n",
       "</div>"
      ],
      "text/plain": [
       "   Viaje_Id  Usuario_Id Genero  Año_de_nacimiento     Inicio_del_viaje  \\\n",
       "0   8901295      341162      M             1992.0  2019-01-01 00:00:00   \n",
       "1   8901296      413443      M             1985.0  2019-01-01 06:01:05   \n",
       "2   8901297      444232      M             1995.0  2019-01-01 06:01:19   \n",
       "3   8901298      437533      M             1998.0  2019-01-01 06:01:25   \n",
       "4   8901299      430224      M             1992.0  2019-01-01 06:01:57   \n",
       "\n",
       "         Fin_del_viaje  Origen_Id  Destino_Id  Tiempo_viaje  \\\n",
       "0  2019-01-01 00:16:09         50          54     16.150000   \n",
       "1  2019-01-01 06:16:27         38         194     15.366667   \n",
       "2  2019-01-01 06:09:55         86          18      8.600000   \n",
       "3  2019-01-01 06:02:04         86          86      0.650000   \n",
       "4  2019-01-01 06:05:01         27          52      3.066667   \n",
       "\n",
       "                Inicio                  Fin  \n",
       "0  2019-01-01 00:00:00  2019-01-01 00:16:09  \n",
       "1  2019-01-01 06:01:05  2019-01-01 06:16:27  \n",
       "2  2019-01-01 06:01:19  2019-01-01 06:09:55  \n",
       "3  2019-01-01 06:01:25  2019-01-01 06:02:04  \n",
       "4  2019-01-01 06:01:57  2019-01-01 06:05:01  "
      ]
     },
     "execution_count": 23,
     "metadata": {},
     "output_type": "execute_result"
    }
   ],
   "source": [
    "mibici_2019['Inicio'] = mibici_2019['Inicio_del_viaje']\n",
    "mibici_2019['Fin'] = mibici_2019['Fin_del_viaje']\n",
    "mibici_2019.head()"
   ]
  },
  {
   "cell_type": "code",
   "execution_count": 24,
   "id": "a320eef2",
   "metadata": {},
   "outputs": [
    {
     "data": {
      "application/vnd.microsoft.datawrangler.viewer.v0+json": {
       "columns": [
        {
         "name": "index",
         "rawType": "int64",
         "type": "integer"
        },
        {
         "name": "Viaje_Id",
         "rawType": "int64",
         "type": "integer"
        },
        {
         "name": "Usuario_Id",
         "rawType": "int64",
         "type": "integer"
        },
        {
         "name": "Genero",
         "rawType": "object",
         "type": "string"
        },
        {
         "name": "Año_de_nacimiento",
         "rawType": "float64",
         "type": "float"
        },
        {
         "name": "Inicio_del_viaje",
         "rawType": "object",
         "type": "string"
        },
        {
         "name": "Fin_del_viaje",
         "rawType": "object",
         "type": "string"
        },
        {
         "name": "Origen_Id",
         "rawType": "int64",
         "type": "integer"
        },
        {
         "name": "Destino_Id",
         "rawType": "int64",
         "type": "integer"
        },
        {
         "name": "Tiempo_viaje",
         "rawType": "float64",
         "type": "float"
        },
        {
         "name": "Inicio",
         "rawType": "object",
         "type": "string"
        },
        {
         "name": "Fin",
         "rawType": "object",
         "type": "string"
        }
       ],
       "conversionMethod": "pd.DataFrame",
       "ref": "70dfc4eb-0336-47a0-8a28-6892c6d78644",
       "rows": [
        [
         "0",
         "8901295",
         "341162",
         "M",
         "1992.0",
         "2019-01-01 00:00:00",
         "2019-01-01 00:16:09",
         "50",
         "54",
         "16.15",
         "2019-01-01 00:00:00",
         "2019-01-01 00:16:09"
        ],
        [
         "1",
         "8901296",
         "413443",
         "M",
         "1985.0",
         "2019-01-01 06:01:05",
         "2019-01-01 06:16:27",
         "38",
         "194",
         "15.366666666666667",
         "2019-01-01 06:01:05",
         "2019-01-01 06:16:27"
        ],
        [
         "2",
         "8901297",
         "444232",
         "M",
         "1995.0",
         "2019-01-01 06:01:19",
         "2019-01-01 06:09:55",
         "86",
         "18",
         "8.6",
         "2019-01-01 06:01:19",
         "2019-01-01 06:09:55"
        ],
        [
         "3",
         "8901298",
         "437533",
         "M",
         "1998.0",
         "2019-01-01 06:01:25",
         "2019-01-01 06:02:04",
         "86",
         "86",
         "0.65",
         "2019-01-01 06:01:25",
         "2019-01-01 06:02:04"
        ],
        [
         "4",
         "8901299",
         "430224",
         "M",
         "1992.0",
         "2019-01-01 06:01:57",
         "2019-01-01 06:05:01",
         "27",
         "52",
         "3.066666666666667",
         "2019-01-01 06:01:57",
         "2019-01-01 06:05:01"
        ]
       ],
       "shape": {
        "columns": 11,
        "rows": 5
       }
      },
      "text/html": [
       "<div>\n",
       "<style scoped>\n",
       "    .dataframe tbody tr th:only-of-type {\n",
       "        vertical-align: middle;\n",
       "    }\n",
       "\n",
       "    .dataframe tbody tr th {\n",
       "        vertical-align: top;\n",
       "    }\n",
       "\n",
       "    .dataframe thead th {\n",
       "        text-align: right;\n",
       "    }\n",
       "</style>\n",
       "<table border=\"1\" class=\"dataframe\">\n",
       "  <thead>\n",
       "    <tr style=\"text-align: right;\">\n",
       "      <th></th>\n",
       "      <th>Viaje_Id</th>\n",
       "      <th>Usuario_Id</th>\n",
       "      <th>Genero</th>\n",
       "      <th>Año_de_nacimiento</th>\n",
       "      <th>Inicio_del_viaje</th>\n",
       "      <th>Fin_del_viaje</th>\n",
       "      <th>Origen_Id</th>\n",
       "      <th>Destino_Id</th>\n",
       "      <th>Tiempo_viaje</th>\n",
       "      <th>Inicio</th>\n",
       "      <th>Fin</th>\n",
       "    </tr>\n",
       "  </thead>\n",
       "  <tbody>\n",
       "    <tr>\n",
       "      <th>0</th>\n",
       "      <td>8901295</td>\n",
       "      <td>341162</td>\n",
       "      <td>M</td>\n",
       "      <td>1992.0</td>\n",
       "      <td>2019-01-01 00:00:00</td>\n",
       "      <td>2019-01-01 00:16:09</td>\n",
       "      <td>50</td>\n",
       "      <td>54</td>\n",
       "      <td>16.150000</td>\n",
       "      <td>2019-01-01 00:00:00</td>\n",
       "      <td>2019-01-01 00:16:09</td>\n",
       "    </tr>\n",
       "    <tr>\n",
       "      <th>1</th>\n",
       "      <td>8901296</td>\n",
       "      <td>413443</td>\n",
       "      <td>M</td>\n",
       "      <td>1985.0</td>\n",
       "      <td>2019-01-01 06:01:05</td>\n",
       "      <td>2019-01-01 06:16:27</td>\n",
       "      <td>38</td>\n",
       "      <td>194</td>\n",
       "      <td>15.366667</td>\n",
       "      <td>2019-01-01 06:01:05</td>\n",
       "      <td>2019-01-01 06:16:27</td>\n",
       "    </tr>\n",
       "    <tr>\n",
       "      <th>2</th>\n",
       "      <td>8901297</td>\n",
       "      <td>444232</td>\n",
       "      <td>M</td>\n",
       "      <td>1995.0</td>\n",
       "      <td>2019-01-01 06:01:19</td>\n",
       "      <td>2019-01-01 06:09:55</td>\n",
       "      <td>86</td>\n",
       "      <td>18</td>\n",
       "      <td>8.600000</td>\n",
       "      <td>2019-01-01 06:01:19</td>\n",
       "      <td>2019-01-01 06:09:55</td>\n",
       "    </tr>\n",
       "    <tr>\n",
       "      <th>3</th>\n",
       "      <td>8901298</td>\n",
       "      <td>437533</td>\n",
       "      <td>M</td>\n",
       "      <td>1998.0</td>\n",
       "      <td>2019-01-01 06:01:25</td>\n",
       "      <td>2019-01-01 06:02:04</td>\n",
       "      <td>86</td>\n",
       "      <td>86</td>\n",
       "      <td>0.650000</td>\n",
       "      <td>2019-01-01 06:01:25</td>\n",
       "      <td>2019-01-01 06:02:04</td>\n",
       "    </tr>\n",
       "    <tr>\n",
       "      <th>4</th>\n",
       "      <td>8901299</td>\n",
       "      <td>430224</td>\n",
       "      <td>M</td>\n",
       "      <td>1992.0</td>\n",
       "      <td>2019-01-01 06:01:57</td>\n",
       "      <td>2019-01-01 06:05:01</td>\n",
       "      <td>27</td>\n",
       "      <td>52</td>\n",
       "      <td>3.066667</td>\n",
       "      <td>2019-01-01 06:01:57</td>\n",
       "      <td>2019-01-01 06:05:01</td>\n",
       "    </tr>\n",
       "  </tbody>\n",
       "</table>\n",
       "</div>"
      ],
      "text/plain": [
       "   Viaje_Id  Usuario_Id Genero  Año_de_nacimiento     Inicio_del_viaje  \\\n",
       "0   8901295      341162      M             1992.0  2019-01-01 00:00:00   \n",
       "1   8901296      413443      M             1985.0  2019-01-01 06:01:05   \n",
       "2   8901297      444232      M             1995.0  2019-01-01 06:01:19   \n",
       "3   8901298      437533      M             1998.0  2019-01-01 06:01:25   \n",
       "4   8901299      430224      M             1992.0  2019-01-01 06:01:57   \n",
       "\n",
       "         Fin_del_viaje  Origen_Id  Destino_Id  Tiempo_viaje  \\\n",
       "0  2019-01-01 00:16:09         50          54     16.150000   \n",
       "1  2019-01-01 06:16:27         38         194     15.366667   \n",
       "2  2019-01-01 06:09:55         86          18      8.600000   \n",
       "3  2019-01-01 06:02:04         86          86      0.650000   \n",
       "4  2019-01-01 06:05:01         27          52      3.066667   \n",
       "\n",
       "                Inicio                  Fin  \n",
       "0  2019-01-01 00:00:00  2019-01-01 00:16:09  \n",
       "1  2019-01-01 06:01:05  2019-01-01 06:16:27  \n",
       "2  2019-01-01 06:01:19  2019-01-01 06:09:55  \n",
       "3  2019-01-01 06:01:25  2019-01-01 06:02:04  \n",
       "4  2019-01-01 06:01:57  2019-01-01 06:05:01  "
      ]
     },
     "execution_count": 24,
     "metadata": {},
     "output_type": "execute_result"
    }
   ],
   "source": [
    "mibici_2019.to_csv('/Users/antoniomendez/Desktop/Tesis/Datos/datos_limpios/mibici/mibici_2019.csv', index = False)\n",
    "mibici_2019 = load_data('mibici/mibici_2019.csv', flag_dir)\n",
    "mibici_2019.head()"
   ]
  },
  {
   "cell_type": "code",
   "execution_count": 28,
   "id": "420e5ed6",
   "metadata": {},
   "outputs": [
    {
     "data": {
      "application/vnd.microsoft.datawrangler.viewer.v0+json": {
       "columns": [
        {
         "name": "index",
         "rawType": "int64",
         "type": "integer"
        },
        {
         "name": "Viaje_Id",
         "rawType": "int64",
         "type": "integer"
        },
        {
         "name": "Usuario_Id",
         "rawType": "int64",
         "type": "integer"
        },
        {
         "name": "Genero",
         "rawType": "object",
         "type": "string"
        },
        {
         "name": "Año_de_nacimiento",
         "rawType": "float64",
         "type": "float"
        },
        {
         "name": "Inicio_del_viaje",
         "rawType": "object",
         "type": "string"
        },
        {
         "name": "Fin_del_viaje",
         "rawType": "object",
         "type": "string"
        },
        {
         "name": "Origen_Id",
         "rawType": "int64",
         "type": "integer"
        },
        {
         "name": "Destino_Id",
         "rawType": "int64",
         "type": "integer"
        },
        {
         "name": "Tiempo_viaje",
         "rawType": "float64",
         "type": "float"
        }
       ],
       "conversionMethod": "pd.DataFrame",
       "ref": "c254ca3e-9dd4-41e2-880e-19bb41050279",
       "rows": [
        [
         "0",
         "14420217",
         "451617",
         "M",
         "1992.0",
         "2020-01-01 06:02:20",
         "2020-01-01 06:05:38",
         "52",
         "268",
         "3.3"
        ],
        [
         "1",
         "14420218",
         "324211",
         "M",
         "1985.0",
         "2020-01-01 06:02:22",
         "2020-01-01 06:07:32",
         "254",
         "180",
         "5.166666666666667"
        ],
        [
         "2",
         "14420219",
         "611633",
         "M",
         "1981.0",
         "2020-01-01 06:03:01",
         "2020-01-01 06:21:43",
         "258",
         "278",
         "18.7"
        ],
        [
         "3",
         "14420220",
         "521601",
         "M",
         "1989.0",
         "2020-01-01 06:05:48",
         "2020-01-01 06:15:11",
         "200",
         "201",
         "9.383333333333333"
        ],
        [
         "4",
         "14420221",
         "631227",
         "M",
         "1979.0",
         "2020-01-01 06:08:15",
         "2020-01-01 06:29:33",
         "151",
         "248",
         "21.3"
        ]
       ],
       "shape": {
        "columns": 9,
        "rows": 5
       }
      },
      "text/html": [
       "<div>\n",
       "<style scoped>\n",
       "    .dataframe tbody tr th:only-of-type {\n",
       "        vertical-align: middle;\n",
       "    }\n",
       "\n",
       "    .dataframe tbody tr th {\n",
       "        vertical-align: top;\n",
       "    }\n",
       "\n",
       "    .dataframe thead th {\n",
       "        text-align: right;\n",
       "    }\n",
       "</style>\n",
       "<table border=\"1\" class=\"dataframe\">\n",
       "  <thead>\n",
       "    <tr style=\"text-align: right;\">\n",
       "      <th></th>\n",
       "      <th>Viaje_Id</th>\n",
       "      <th>Usuario_Id</th>\n",
       "      <th>Genero</th>\n",
       "      <th>Año_de_nacimiento</th>\n",
       "      <th>Inicio_del_viaje</th>\n",
       "      <th>Fin_del_viaje</th>\n",
       "      <th>Origen_Id</th>\n",
       "      <th>Destino_Id</th>\n",
       "      <th>Tiempo_viaje</th>\n",
       "    </tr>\n",
       "  </thead>\n",
       "  <tbody>\n",
       "    <tr>\n",
       "      <th>0</th>\n",
       "      <td>14420217</td>\n",
       "      <td>451617</td>\n",
       "      <td>M</td>\n",
       "      <td>1992.0</td>\n",
       "      <td>2020-01-01 06:02:20</td>\n",
       "      <td>2020-01-01 06:05:38</td>\n",
       "      <td>52</td>\n",
       "      <td>268</td>\n",
       "      <td>3.300000</td>\n",
       "    </tr>\n",
       "    <tr>\n",
       "      <th>1</th>\n",
       "      <td>14420218</td>\n",
       "      <td>324211</td>\n",
       "      <td>M</td>\n",
       "      <td>1985.0</td>\n",
       "      <td>2020-01-01 06:02:22</td>\n",
       "      <td>2020-01-01 06:07:32</td>\n",
       "      <td>254</td>\n",
       "      <td>180</td>\n",
       "      <td>5.166667</td>\n",
       "    </tr>\n",
       "    <tr>\n",
       "      <th>2</th>\n",
       "      <td>14420219</td>\n",
       "      <td>611633</td>\n",
       "      <td>M</td>\n",
       "      <td>1981.0</td>\n",
       "      <td>2020-01-01 06:03:01</td>\n",
       "      <td>2020-01-01 06:21:43</td>\n",
       "      <td>258</td>\n",
       "      <td>278</td>\n",
       "      <td>18.700000</td>\n",
       "    </tr>\n",
       "    <tr>\n",
       "      <th>3</th>\n",
       "      <td>14420220</td>\n",
       "      <td>521601</td>\n",
       "      <td>M</td>\n",
       "      <td>1989.0</td>\n",
       "      <td>2020-01-01 06:05:48</td>\n",
       "      <td>2020-01-01 06:15:11</td>\n",
       "      <td>200</td>\n",
       "      <td>201</td>\n",
       "      <td>9.383333</td>\n",
       "    </tr>\n",
       "    <tr>\n",
       "      <th>4</th>\n",
       "      <td>14420221</td>\n",
       "      <td>631227</td>\n",
       "      <td>M</td>\n",
       "      <td>1979.0</td>\n",
       "      <td>2020-01-01 06:08:15</td>\n",
       "      <td>2020-01-01 06:29:33</td>\n",
       "      <td>151</td>\n",
       "      <td>248</td>\n",
       "      <td>21.300000</td>\n",
       "    </tr>\n",
       "  </tbody>\n",
       "</table>\n",
       "</div>"
      ],
      "text/plain": [
       "   Viaje_Id  Usuario_Id Genero  Año_de_nacimiento     Inicio_del_viaje  \\\n",
       "0  14420217      451617      M             1992.0  2020-01-01 06:02:20   \n",
       "1  14420218      324211      M             1985.0  2020-01-01 06:02:22   \n",
       "2  14420219      611633      M             1981.0  2020-01-01 06:03:01   \n",
       "3  14420220      521601      M             1989.0  2020-01-01 06:05:48   \n",
       "4  14420221      631227      M             1979.0  2020-01-01 06:08:15   \n",
       "\n",
       "         Fin_del_viaje  Origen_Id  Destino_Id  Tiempo_viaje  \n",
       "0  2020-01-01 06:05:38         52         268      3.300000  \n",
       "1  2020-01-01 06:07:32        254         180      5.166667  \n",
       "2  2020-01-01 06:21:43        258         278     18.700000  \n",
       "3  2020-01-01 06:15:11        200         201      9.383333  \n",
       "4  2020-01-01 06:29:33        151         248     21.300000  "
      ]
     },
     "execution_count": 28,
     "metadata": {},
     "output_type": "execute_result"
    }
   ],
   "source": [
    "mibici_2020 = load_data('mibici/mibici_2020.csv', flag_dir)\n",
    "mibici_2020.head()"
   ]
  },
  {
   "cell_type": "code",
   "execution_count": 29,
   "id": "d291919c",
   "metadata": {},
   "outputs": [
    {
     "data": {
      "application/vnd.microsoft.datawrangler.viewer.v0+json": {
       "columns": [
        {
         "name": "index",
         "rawType": "int64",
         "type": "integer"
        },
        {
         "name": "Viaje_Id",
         "rawType": "int64",
         "type": "integer"
        },
        {
         "name": "Usuario_Id",
         "rawType": "int64",
         "type": "integer"
        },
        {
         "name": "Genero",
         "rawType": "object",
         "type": "string"
        },
        {
         "name": "Año_de_nacimiento",
         "rawType": "float64",
         "type": "float"
        },
        {
         "name": "Inicio_del_viaje",
         "rawType": "object",
         "type": "string"
        },
        {
         "name": "Fin_del_viaje",
         "rawType": "object",
         "type": "string"
        },
        {
         "name": "Origen_Id",
         "rawType": "int64",
         "type": "integer"
        },
        {
         "name": "Destino_Id",
         "rawType": "int64",
         "type": "integer"
        },
        {
         "name": "Tiempo_viaje",
         "rawType": "float64",
         "type": "float"
        },
        {
         "name": "Inicio",
         "rawType": "object",
         "type": "string"
        },
        {
         "name": "Fin",
         "rawType": "object",
         "type": "string"
        }
       ],
       "conversionMethod": "pd.DataFrame",
       "ref": "fef95cf9-b4aa-456e-b83d-3c8821f9b238",
       "rows": [
        [
         "0",
         "14420217",
         "451617",
         "M",
         "1992.0",
         "2020-01-01 06:02:20",
         "2020-01-01 06:05:38",
         "52",
         "268",
         "3.3",
         "2020-01-01 06:02:20",
         "2020-01-01 06:05:38"
        ],
        [
         "1",
         "14420218",
         "324211",
         "M",
         "1985.0",
         "2020-01-01 06:02:22",
         "2020-01-01 06:07:32",
         "254",
         "180",
         "5.166666666666667",
         "2020-01-01 06:02:22",
         "2020-01-01 06:07:32"
        ],
        [
         "2",
         "14420219",
         "611633",
         "M",
         "1981.0",
         "2020-01-01 06:03:01",
         "2020-01-01 06:21:43",
         "258",
         "278",
         "18.7",
         "2020-01-01 06:03:01",
         "2020-01-01 06:21:43"
        ],
        [
         "3",
         "14420220",
         "521601",
         "M",
         "1989.0",
         "2020-01-01 06:05:48",
         "2020-01-01 06:15:11",
         "200",
         "201",
         "9.383333333333333",
         "2020-01-01 06:05:48",
         "2020-01-01 06:15:11"
        ],
        [
         "4",
         "14420221",
         "631227",
         "M",
         "1979.0",
         "2020-01-01 06:08:15",
         "2020-01-01 06:29:33",
         "151",
         "248",
         "21.3",
         "2020-01-01 06:08:15",
         "2020-01-01 06:29:33"
        ]
       ],
       "shape": {
        "columns": 11,
        "rows": 5
       }
      },
      "text/html": [
       "<div>\n",
       "<style scoped>\n",
       "    .dataframe tbody tr th:only-of-type {\n",
       "        vertical-align: middle;\n",
       "    }\n",
       "\n",
       "    .dataframe tbody tr th {\n",
       "        vertical-align: top;\n",
       "    }\n",
       "\n",
       "    .dataframe thead th {\n",
       "        text-align: right;\n",
       "    }\n",
       "</style>\n",
       "<table border=\"1\" class=\"dataframe\">\n",
       "  <thead>\n",
       "    <tr style=\"text-align: right;\">\n",
       "      <th></th>\n",
       "      <th>Viaje_Id</th>\n",
       "      <th>Usuario_Id</th>\n",
       "      <th>Genero</th>\n",
       "      <th>Año_de_nacimiento</th>\n",
       "      <th>Inicio_del_viaje</th>\n",
       "      <th>Fin_del_viaje</th>\n",
       "      <th>Origen_Id</th>\n",
       "      <th>Destino_Id</th>\n",
       "      <th>Tiempo_viaje</th>\n",
       "      <th>Inicio</th>\n",
       "      <th>Fin</th>\n",
       "    </tr>\n",
       "  </thead>\n",
       "  <tbody>\n",
       "    <tr>\n",
       "      <th>0</th>\n",
       "      <td>14420217</td>\n",
       "      <td>451617</td>\n",
       "      <td>M</td>\n",
       "      <td>1992.0</td>\n",
       "      <td>2020-01-01 06:02:20</td>\n",
       "      <td>2020-01-01 06:05:38</td>\n",
       "      <td>52</td>\n",
       "      <td>268</td>\n",
       "      <td>3.300000</td>\n",
       "      <td>2020-01-01 06:02:20</td>\n",
       "      <td>2020-01-01 06:05:38</td>\n",
       "    </tr>\n",
       "    <tr>\n",
       "      <th>1</th>\n",
       "      <td>14420218</td>\n",
       "      <td>324211</td>\n",
       "      <td>M</td>\n",
       "      <td>1985.0</td>\n",
       "      <td>2020-01-01 06:02:22</td>\n",
       "      <td>2020-01-01 06:07:32</td>\n",
       "      <td>254</td>\n",
       "      <td>180</td>\n",
       "      <td>5.166667</td>\n",
       "      <td>2020-01-01 06:02:22</td>\n",
       "      <td>2020-01-01 06:07:32</td>\n",
       "    </tr>\n",
       "    <tr>\n",
       "      <th>2</th>\n",
       "      <td>14420219</td>\n",
       "      <td>611633</td>\n",
       "      <td>M</td>\n",
       "      <td>1981.0</td>\n",
       "      <td>2020-01-01 06:03:01</td>\n",
       "      <td>2020-01-01 06:21:43</td>\n",
       "      <td>258</td>\n",
       "      <td>278</td>\n",
       "      <td>18.700000</td>\n",
       "      <td>2020-01-01 06:03:01</td>\n",
       "      <td>2020-01-01 06:21:43</td>\n",
       "    </tr>\n",
       "    <tr>\n",
       "      <th>3</th>\n",
       "      <td>14420220</td>\n",
       "      <td>521601</td>\n",
       "      <td>M</td>\n",
       "      <td>1989.0</td>\n",
       "      <td>2020-01-01 06:05:48</td>\n",
       "      <td>2020-01-01 06:15:11</td>\n",
       "      <td>200</td>\n",
       "      <td>201</td>\n",
       "      <td>9.383333</td>\n",
       "      <td>2020-01-01 06:05:48</td>\n",
       "      <td>2020-01-01 06:15:11</td>\n",
       "    </tr>\n",
       "    <tr>\n",
       "      <th>4</th>\n",
       "      <td>14420221</td>\n",
       "      <td>631227</td>\n",
       "      <td>M</td>\n",
       "      <td>1979.0</td>\n",
       "      <td>2020-01-01 06:08:15</td>\n",
       "      <td>2020-01-01 06:29:33</td>\n",
       "      <td>151</td>\n",
       "      <td>248</td>\n",
       "      <td>21.300000</td>\n",
       "      <td>2020-01-01 06:08:15</td>\n",
       "      <td>2020-01-01 06:29:33</td>\n",
       "    </tr>\n",
       "  </tbody>\n",
       "</table>\n",
       "</div>"
      ],
      "text/plain": [
       "   Viaje_Id  Usuario_Id Genero  Año_de_nacimiento     Inicio_del_viaje  \\\n",
       "0  14420217      451617      M             1992.0  2020-01-01 06:02:20   \n",
       "1  14420218      324211      M             1985.0  2020-01-01 06:02:22   \n",
       "2  14420219      611633      M             1981.0  2020-01-01 06:03:01   \n",
       "3  14420220      521601      M             1989.0  2020-01-01 06:05:48   \n",
       "4  14420221      631227      M             1979.0  2020-01-01 06:08:15   \n",
       "\n",
       "         Fin_del_viaje  Origen_Id  Destino_Id  Tiempo_viaje  \\\n",
       "0  2020-01-01 06:05:38         52         268      3.300000   \n",
       "1  2020-01-01 06:07:32        254         180      5.166667   \n",
       "2  2020-01-01 06:21:43        258         278     18.700000   \n",
       "3  2020-01-01 06:15:11        200         201      9.383333   \n",
       "4  2020-01-01 06:29:33        151         248     21.300000   \n",
       "\n",
       "                Inicio                  Fin  \n",
       "0  2020-01-01 06:02:20  2020-01-01 06:05:38  \n",
       "1  2020-01-01 06:02:22  2020-01-01 06:07:32  \n",
       "2  2020-01-01 06:03:01  2020-01-01 06:21:43  \n",
       "3  2020-01-01 06:05:48  2020-01-01 06:15:11  \n",
       "4  2020-01-01 06:08:15  2020-01-01 06:29:33  "
      ]
     },
     "execution_count": 29,
     "metadata": {},
     "output_type": "execute_result"
    }
   ],
   "source": [
    "mibici_2020['Inicio'] = mibici_2020['Inicio_del_viaje']\n",
    "mibici_2020['Fin'] = mibici_2020['Fin_del_viaje']\n",
    "mibici_2020.head()"
   ]
  },
  {
   "cell_type": "code",
   "execution_count": 31,
   "id": "59af59b9",
   "metadata": {},
   "outputs": [
    {
     "data": {
      "application/vnd.microsoft.datawrangler.viewer.v0+json": {
       "columns": [
        {
         "name": "index",
         "rawType": "int64",
         "type": "integer"
        },
        {
         "name": "Viaje_Id",
         "rawType": "int64",
         "type": "integer"
        },
        {
         "name": "Usuario_Id",
         "rawType": "int64",
         "type": "integer"
        },
        {
         "name": "Genero",
         "rawType": "object",
         "type": "string"
        },
        {
         "name": "Año_de_nacimiento",
         "rawType": "float64",
         "type": "float"
        },
        {
         "name": "Inicio_del_viaje",
         "rawType": "object",
         "type": "string"
        },
        {
         "name": "Fin_del_viaje",
         "rawType": "object",
         "type": "string"
        },
        {
         "name": "Origen_Id",
         "rawType": "int64",
         "type": "integer"
        },
        {
         "name": "Destino_Id",
         "rawType": "int64",
         "type": "integer"
        },
        {
         "name": "Tiempo_viaje",
         "rawType": "float64",
         "type": "float"
        },
        {
         "name": "Inicio",
         "rawType": "object",
         "type": "string"
        },
        {
         "name": "Fin",
         "rawType": "object",
         "type": "string"
        }
       ],
       "conversionMethod": "pd.DataFrame",
       "ref": "eb24b292-78a4-4583-be1f-a68597e631cd",
       "rows": [
        [
         "0",
         "14420217",
         "451617",
         "M",
         "1992.0",
         "2020-01-01 06:02:20",
         "2020-01-01 06:05:38",
         "52",
         "268",
         "3.3",
         "2020-01-01 06:02:20",
         "2020-01-01 06:05:38"
        ],
        [
         "1",
         "14420218",
         "324211",
         "M",
         "1985.0",
         "2020-01-01 06:02:22",
         "2020-01-01 06:07:32",
         "254",
         "180",
         "5.166666666666667",
         "2020-01-01 06:02:22",
         "2020-01-01 06:07:32"
        ],
        [
         "2",
         "14420219",
         "611633",
         "M",
         "1981.0",
         "2020-01-01 06:03:01",
         "2020-01-01 06:21:43",
         "258",
         "278",
         "18.7",
         "2020-01-01 06:03:01",
         "2020-01-01 06:21:43"
        ],
        [
         "3",
         "14420220",
         "521601",
         "M",
         "1989.0",
         "2020-01-01 06:05:48",
         "2020-01-01 06:15:11",
         "200",
         "201",
         "9.383333333333333",
         "2020-01-01 06:05:48",
         "2020-01-01 06:15:11"
        ],
        [
         "4",
         "14420221",
         "631227",
         "M",
         "1979.0",
         "2020-01-01 06:08:15",
         "2020-01-01 06:29:33",
         "151",
         "248",
         "21.3",
         "2020-01-01 06:08:15",
         "2020-01-01 06:29:33"
        ]
       ],
       "shape": {
        "columns": 11,
        "rows": 5
       }
      },
      "text/html": [
       "<div>\n",
       "<style scoped>\n",
       "    .dataframe tbody tr th:only-of-type {\n",
       "        vertical-align: middle;\n",
       "    }\n",
       "\n",
       "    .dataframe tbody tr th {\n",
       "        vertical-align: top;\n",
       "    }\n",
       "\n",
       "    .dataframe thead th {\n",
       "        text-align: right;\n",
       "    }\n",
       "</style>\n",
       "<table border=\"1\" class=\"dataframe\">\n",
       "  <thead>\n",
       "    <tr style=\"text-align: right;\">\n",
       "      <th></th>\n",
       "      <th>Viaje_Id</th>\n",
       "      <th>Usuario_Id</th>\n",
       "      <th>Genero</th>\n",
       "      <th>Año_de_nacimiento</th>\n",
       "      <th>Inicio_del_viaje</th>\n",
       "      <th>Fin_del_viaje</th>\n",
       "      <th>Origen_Id</th>\n",
       "      <th>Destino_Id</th>\n",
       "      <th>Tiempo_viaje</th>\n",
       "      <th>Inicio</th>\n",
       "      <th>Fin</th>\n",
       "    </tr>\n",
       "  </thead>\n",
       "  <tbody>\n",
       "    <tr>\n",
       "      <th>0</th>\n",
       "      <td>14420217</td>\n",
       "      <td>451617</td>\n",
       "      <td>M</td>\n",
       "      <td>1992.0</td>\n",
       "      <td>2020-01-01 06:02:20</td>\n",
       "      <td>2020-01-01 06:05:38</td>\n",
       "      <td>52</td>\n",
       "      <td>268</td>\n",
       "      <td>3.300000</td>\n",
       "      <td>2020-01-01 06:02:20</td>\n",
       "      <td>2020-01-01 06:05:38</td>\n",
       "    </tr>\n",
       "    <tr>\n",
       "      <th>1</th>\n",
       "      <td>14420218</td>\n",
       "      <td>324211</td>\n",
       "      <td>M</td>\n",
       "      <td>1985.0</td>\n",
       "      <td>2020-01-01 06:02:22</td>\n",
       "      <td>2020-01-01 06:07:32</td>\n",
       "      <td>254</td>\n",
       "      <td>180</td>\n",
       "      <td>5.166667</td>\n",
       "      <td>2020-01-01 06:02:22</td>\n",
       "      <td>2020-01-01 06:07:32</td>\n",
       "    </tr>\n",
       "    <tr>\n",
       "      <th>2</th>\n",
       "      <td>14420219</td>\n",
       "      <td>611633</td>\n",
       "      <td>M</td>\n",
       "      <td>1981.0</td>\n",
       "      <td>2020-01-01 06:03:01</td>\n",
       "      <td>2020-01-01 06:21:43</td>\n",
       "      <td>258</td>\n",
       "      <td>278</td>\n",
       "      <td>18.700000</td>\n",
       "      <td>2020-01-01 06:03:01</td>\n",
       "      <td>2020-01-01 06:21:43</td>\n",
       "    </tr>\n",
       "    <tr>\n",
       "      <th>3</th>\n",
       "      <td>14420220</td>\n",
       "      <td>521601</td>\n",
       "      <td>M</td>\n",
       "      <td>1989.0</td>\n",
       "      <td>2020-01-01 06:05:48</td>\n",
       "      <td>2020-01-01 06:15:11</td>\n",
       "      <td>200</td>\n",
       "      <td>201</td>\n",
       "      <td>9.383333</td>\n",
       "      <td>2020-01-01 06:05:48</td>\n",
       "      <td>2020-01-01 06:15:11</td>\n",
       "    </tr>\n",
       "    <tr>\n",
       "      <th>4</th>\n",
       "      <td>14420221</td>\n",
       "      <td>631227</td>\n",
       "      <td>M</td>\n",
       "      <td>1979.0</td>\n",
       "      <td>2020-01-01 06:08:15</td>\n",
       "      <td>2020-01-01 06:29:33</td>\n",
       "      <td>151</td>\n",
       "      <td>248</td>\n",
       "      <td>21.300000</td>\n",
       "      <td>2020-01-01 06:08:15</td>\n",
       "      <td>2020-01-01 06:29:33</td>\n",
       "    </tr>\n",
       "  </tbody>\n",
       "</table>\n",
       "</div>"
      ],
      "text/plain": [
       "   Viaje_Id  Usuario_Id Genero  Año_de_nacimiento     Inicio_del_viaje  \\\n",
       "0  14420217      451617      M             1992.0  2020-01-01 06:02:20   \n",
       "1  14420218      324211      M             1985.0  2020-01-01 06:02:22   \n",
       "2  14420219      611633      M             1981.0  2020-01-01 06:03:01   \n",
       "3  14420220      521601      M             1989.0  2020-01-01 06:05:48   \n",
       "4  14420221      631227      M             1979.0  2020-01-01 06:08:15   \n",
       "\n",
       "         Fin_del_viaje  Origen_Id  Destino_Id  Tiempo_viaje  \\\n",
       "0  2020-01-01 06:05:38         52         268      3.300000   \n",
       "1  2020-01-01 06:07:32        254         180      5.166667   \n",
       "2  2020-01-01 06:21:43        258         278     18.700000   \n",
       "3  2020-01-01 06:15:11        200         201      9.383333   \n",
       "4  2020-01-01 06:29:33        151         248     21.300000   \n",
       "\n",
       "                Inicio                  Fin  \n",
       "0  2020-01-01 06:02:20  2020-01-01 06:05:38  \n",
       "1  2020-01-01 06:02:22  2020-01-01 06:07:32  \n",
       "2  2020-01-01 06:03:01  2020-01-01 06:21:43  \n",
       "3  2020-01-01 06:05:48  2020-01-01 06:15:11  \n",
       "4  2020-01-01 06:08:15  2020-01-01 06:29:33  "
      ]
     },
     "execution_count": 31,
     "metadata": {},
     "output_type": "execute_result"
    }
   ],
   "source": [
    "mibici_2020 = load_data('mibici/mibici_2020.csv', flag_dir)\n",
    "mibici_2020.head()"
   ]
  },
  {
   "cell_type": "code",
   "execution_count": 32,
   "id": "b77d9bcf",
   "metadata": {},
   "outputs": [],
   "source": [
    "del mibici_2020"
   ]
  },
  {
   "cell_type": "code",
   "execution_count": 33,
   "id": "5bc14771",
   "metadata": {},
   "outputs": [
    {
     "data": {
      "application/vnd.microsoft.datawrangler.viewer.v0+json": {
       "columns": [
        {
         "name": "index",
         "rawType": "int64",
         "type": "integer"
        },
        {
         "name": "Viaje_Id",
         "rawType": "int64",
         "type": "integer"
        },
        {
         "name": "Usuario_Id",
         "rawType": "int64",
         "type": "integer"
        },
        {
         "name": "Genero",
         "rawType": "object",
         "type": "string"
        },
        {
         "name": "Año_de_nacimiento",
         "rawType": "float64",
         "type": "float"
        },
        {
         "name": "Inicio_del_viaje",
         "rawType": "object",
         "type": "string"
        },
        {
         "name": "Fin_del_viaje",
         "rawType": "object",
         "type": "string"
        },
        {
         "name": "Origen_Id",
         "rawType": "int64",
         "type": "integer"
        },
        {
         "name": "Destino_Id",
         "rawType": "int64",
         "type": "integer"
        },
        {
         "name": "Tiempo_viaje",
         "rawType": "float64",
         "type": "float"
        }
       ],
       "conversionMethod": "pd.DataFrame",
       "ref": "5e7de1c5-dd94-4d0b-b788-d44b90881ee0",
       "rows": [
        [
         "0",
         "18026279",
         "436620",
         "M",
         "1978.0",
         "2021-01-01 00:10:40",
         "2021-01-01 00:17:54",
         "62",
         "77",
         "7.233333333333333"
        ],
        [
         "1",
         "18026280",
         "672064",
         "M",
         "1977.0",
         "2021-01-01 05:58:10",
         "2021-01-01 05:58:37",
         "19",
         "19",
         "0.45"
        ],
        [
         "2",
         "18026281",
         "653216",
         "M",
         "1976.0",
         "2021-01-01 05:58:17",
         "2021-01-01 06:01:11",
         "11",
         "182",
         "2.9"
        ],
        [
         "3",
         "18026282",
         "672064",
         "M",
         "1977.0",
         "2021-01-01 05:58:59",
         "2021-01-01 06:09:26",
         "19",
         "11",
         "10.45"
        ],
        [
         "4",
         "18026283",
         "521601",
         "M",
         "1989.0",
         "2021-01-01 06:00:58",
         "2021-01-01 06:08:00",
         "200",
         "198",
         "7.033333333333333"
        ]
       ],
       "shape": {
        "columns": 9,
        "rows": 5
       }
      },
      "text/html": [
       "<div>\n",
       "<style scoped>\n",
       "    .dataframe tbody tr th:only-of-type {\n",
       "        vertical-align: middle;\n",
       "    }\n",
       "\n",
       "    .dataframe tbody tr th {\n",
       "        vertical-align: top;\n",
       "    }\n",
       "\n",
       "    .dataframe thead th {\n",
       "        text-align: right;\n",
       "    }\n",
       "</style>\n",
       "<table border=\"1\" class=\"dataframe\">\n",
       "  <thead>\n",
       "    <tr style=\"text-align: right;\">\n",
       "      <th></th>\n",
       "      <th>Viaje_Id</th>\n",
       "      <th>Usuario_Id</th>\n",
       "      <th>Genero</th>\n",
       "      <th>Año_de_nacimiento</th>\n",
       "      <th>Inicio_del_viaje</th>\n",
       "      <th>Fin_del_viaje</th>\n",
       "      <th>Origen_Id</th>\n",
       "      <th>Destino_Id</th>\n",
       "      <th>Tiempo_viaje</th>\n",
       "    </tr>\n",
       "  </thead>\n",
       "  <tbody>\n",
       "    <tr>\n",
       "      <th>0</th>\n",
       "      <td>18026279</td>\n",
       "      <td>436620</td>\n",
       "      <td>M</td>\n",
       "      <td>1978.0</td>\n",
       "      <td>2021-01-01 00:10:40</td>\n",
       "      <td>2021-01-01 00:17:54</td>\n",
       "      <td>62</td>\n",
       "      <td>77</td>\n",
       "      <td>7.233333</td>\n",
       "    </tr>\n",
       "    <tr>\n",
       "      <th>1</th>\n",
       "      <td>18026280</td>\n",
       "      <td>672064</td>\n",
       "      <td>M</td>\n",
       "      <td>1977.0</td>\n",
       "      <td>2021-01-01 05:58:10</td>\n",
       "      <td>2021-01-01 05:58:37</td>\n",
       "      <td>19</td>\n",
       "      <td>19</td>\n",
       "      <td>0.450000</td>\n",
       "    </tr>\n",
       "    <tr>\n",
       "      <th>2</th>\n",
       "      <td>18026281</td>\n",
       "      <td>653216</td>\n",
       "      <td>M</td>\n",
       "      <td>1976.0</td>\n",
       "      <td>2021-01-01 05:58:17</td>\n",
       "      <td>2021-01-01 06:01:11</td>\n",
       "      <td>11</td>\n",
       "      <td>182</td>\n",
       "      <td>2.900000</td>\n",
       "    </tr>\n",
       "    <tr>\n",
       "      <th>3</th>\n",
       "      <td>18026282</td>\n",
       "      <td>672064</td>\n",
       "      <td>M</td>\n",
       "      <td>1977.0</td>\n",
       "      <td>2021-01-01 05:58:59</td>\n",
       "      <td>2021-01-01 06:09:26</td>\n",
       "      <td>19</td>\n",
       "      <td>11</td>\n",
       "      <td>10.450000</td>\n",
       "    </tr>\n",
       "    <tr>\n",
       "      <th>4</th>\n",
       "      <td>18026283</td>\n",
       "      <td>521601</td>\n",
       "      <td>M</td>\n",
       "      <td>1989.0</td>\n",
       "      <td>2021-01-01 06:00:58</td>\n",
       "      <td>2021-01-01 06:08:00</td>\n",
       "      <td>200</td>\n",
       "      <td>198</td>\n",
       "      <td>7.033333</td>\n",
       "    </tr>\n",
       "  </tbody>\n",
       "</table>\n",
       "</div>"
      ],
      "text/plain": [
       "   Viaje_Id  Usuario_Id Genero  Año_de_nacimiento     Inicio_del_viaje  \\\n",
       "0  18026279      436620      M             1978.0  2021-01-01 00:10:40   \n",
       "1  18026280      672064      M             1977.0  2021-01-01 05:58:10   \n",
       "2  18026281      653216      M             1976.0  2021-01-01 05:58:17   \n",
       "3  18026282      672064      M             1977.0  2021-01-01 05:58:59   \n",
       "4  18026283      521601      M             1989.0  2021-01-01 06:00:58   \n",
       "\n",
       "         Fin_del_viaje  Origen_Id  Destino_Id  Tiempo_viaje  \n",
       "0  2021-01-01 00:17:54         62          77      7.233333  \n",
       "1  2021-01-01 05:58:37         19          19      0.450000  \n",
       "2  2021-01-01 06:01:11         11         182      2.900000  \n",
       "3  2021-01-01 06:09:26         19          11     10.450000  \n",
       "4  2021-01-01 06:08:00        200         198      7.033333  "
      ]
     },
     "execution_count": 33,
     "metadata": {},
     "output_type": "execute_result"
    }
   ],
   "source": [
    "mibici_2021 = load_data('mibici/mibici_2021.csv', flag_dir)\n",
    "mibici_2021.head()"
   ]
  },
  {
   "cell_type": "code",
   "execution_count": 34,
   "id": "66acd804",
   "metadata": {},
   "outputs": [
    {
     "data": {
      "application/vnd.microsoft.datawrangler.viewer.v0+json": {
       "columns": [
        {
         "name": "index",
         "rawType": "int64",
         "type": "integer"
        },
        {
         "name": "Viaje_Id",
         "rawType": "int64",
         "type": "integer"
        },
        {
         "name": "Usuario_Id",
         "rawType": "int64",
         "type": "integer"
        },
        {
         "name": "Genero",
         "rawType": "object",
         "type": "string"
        },
        {
         "name": "Año_de_nacimiento",
         "rawType": "float64",
         "type": "float"
        },
        {
         "name": "Inicio_del_viaje",
         "rawType": "object",
         "type": "string"
        },
        {
         "name": "Fin_del_viaje",
         "rawType": "object",
         "type": "string"
        },
        {
         "name": "Origen_Id",
         "rawType": "int64",
         "type": "integer"
        },
        {
         "name": "Destino_Id",
         "rawType": "int64",
         "type": "integer"
        },
        {
         "name": "Tiempo_viaje",
         "rawType": "float64",
         "type": "float"
        },
        {
         "name": "Inicio",
         "rawType": "object",
         "type": "string"
        },
        {
         "name": "Fin",
         "rawType": "object",
         "type": "string"
        }
       ],
       "conversionMethod": "pd.DataFrame",
       "ref": "03628369-b5db-4057-8e82-c1b758d6a594",
       "rows": [
        [
         "0",
         "18026279",
         "436620",
         "M",
         "1978.0",
         "2021-01-01 00:10:40",
         "2021-01-01 00:17:54",
         "62",
         "77",
         "7.233333333333333",
         "2021-01-01 00:10:40",
         "2021-01-01 00:17:54"
        ],
        [
         "1",
         "18026280",
         "672064",
         "M",
         "1977.0",
         "2021-01-01 05:58:10",
         "2021-01-01 05:58:37",
         "19",
         "19",
         "0.45",
         "2021-01-01 05:58:10",
         "2021-01-01 05:58:37"
        ],
        [
         "2",
         "18026281",
         "653216",
         "M",
         "1976.0",
         "2021-01-01 05:58:17",
         "2021-01-01 06:01:11",
         "11",
         "182",
         "2.9",
         "2021-01-01 05:58:17",
         "2021-01-01 06:01:11"
        ],
        [
         "3",
         "18026282",
         "672064",
         "M",
         "1977.0",
         "2021-01-01 05:58:59",
         "2021-01-01 06:09:26",
         "19",
         "11",
         "10.45",
         "2021-01-01 05:58:59",
         "2021-01-01 06:09:26"
        ],
        [
         "4",
         "18026283",
         "521601",
         "M",
         "1989.0",
         "2021-01-01 06:00:58",
         "2021-01-01 06:08:00",
         "200",
         "198",
         "7.033333333333333",
         "2021-01-01 06:00:58",
         "2021-01-01 06:08:00"
        ]
       ],
       "shape": {
        "columns": 11,
        "rows": 5
       }
      },
      "text/html": [
       "<div>\n",
       "<style scoped>\n",
       "    .dataframe tbody tr th:only-of-type {\n",
       "        vertical-align: middle;\n",
       "    }\n",
       "\n",
       "    .dataframe tbody tr th {\n",
       "        vertical-align: top;\n",
       "    }\n",
       "\n",
       "    .dataframe thead th {\n",
       "        text-align: right;\n",
       "    }\n",
       "</style>\n",
       "<table border=\"1\" class=\"dataframe\">\n",
       "  <thead>\n",
       "    <tr style=\"text-align: right;\">\n",
       "      <th></th>\n",
       "      <th>Viaje_Id</th>\n",
       "      <th>Usuario_Id</th>\n",
       "      <th>Genero</th>\n",
       "      <th>Año_de_nacimiento</th>\n",
       "      <th>Inicio_del_viaje</th>\n",
       "      <th>Fin_del_viaje</th>\n",
       "      <th>Origen_Id</th>\n",
       "      <th>Destino_Id</th>\n",
       "      <th>Tiempo_viaje</th>\n",
       "      <th>Inicio</th>\n",
       "      <th>Fin</th>\n",
       "    </tr>\n",
       "  </thead>\n",
       "  <tbody>\n",
       "    <tr>\n",
       "      <th>0</th>\n",
       "      <td>18026279</td>\n",
       "      <td>436620</td>\n",
       "      <td>M</td>\n",
       "      <td>1978.0</td>\n",
       "      <td>2021-01-01 00:10:40</td>\n",
       "      <td>2021-01-01 00:17:54</td>\n",
       "      <td>62</td>\n",
       "      <td>77</td>\n",
       "      <td>7.233333</td>\n",
       "      <td>2021-01-01 00:10:40</td>\n",
       "      <td>2021-01-01 00:17:54</td>\n",
       "    </tr>\n",
       "    <tr>\n",
       "      <th>1</th>\n",
       "      <td>18026280</td>\n",
       "      <td>672064</td>\n",
       "      <td>M</td>\n",
       "      <td>1977.0</td>\n",
       "      <td>2021-01-01 05:58:10</td>\n",
       "      <td>2021-01-01 05:58:37</td>\n",
       "      <td>19</td>\n",
       "      <td>19</td>\n",
       "      <td>0.450000</td>\n",
       "      <td>2021-01-01 05:58:10</td>\n",
       "      <td>2021-01-01 05:58:37</td>\n",
       "    </tr>\n",
       "    <tr>\n",
       "      <th>2</th>\n",
       "      <td>18026281</td>\n",
       "      <td>653216</td>\n",
       "      <td>M</td>\n",
       "      <td>1976.0</td>\n",
       "      <td>2021-01-01 05:58:17</td>\n",
       "      <td>2021-01-01 06:01:11</td>\n",
       "      <td>11</td>\n",
       "      <td>182</td>\n",
       "      <td>2.900000</td>\n",
       "      <td>2021-01-01 05:58:17</td>\n",
       "      <td>2021-01-01 06:01:11</td>\n",
       "    </tr>\n",
       "    <tr>\n",
       "      <th>3</th>\n",
       "      <td>18026282</td>\n",
       "      <td>672064</td>\n",
       "      <td>M</td>\n",
       "      <td>1977.0</td>\n",
       "      <td>2021-01-01 05:58:59</td>\n",
       "      <td>2021-01-01 06:09:26</td>\n",
       "      <td>19</td>\n",
       "      <td>11</td>\n",
       "      <td>10.450000</td>\n",
       "      <td>2021-01-01 05:58:59</td>\n",
       "      <td>2021-01-01 06:09:26</td>\n",
       "    </tr>\n",
       "    <tr>\n",
       "      <th>4</th>\n",
       "      <td>18026283</td>\n",
       "      <td>521601</td>\n",
       "      <td>M</td>\n",
       "      <td>1989.0</td>\n",
       "      <td>2021-01-01 06:00:58</td>\n",
       "      <td>2021-01-01 06:08:00</td>\n",
       "      <td>200</td>\n",
       "      <td>198</td>\n",
       "      <td>7.033333</td>\n",
       "      <td>2021-01-01 06:00:58</td>\n",
       "      <td>2021-01-01 06:08:00</td>\n",
       "    </tr>\n",
       "  </tbody>\n",
       "</table>\n",
       "</div>"
      ],
      "text/plain": [
       "   Viaje_Id  Usuario_Id Genero  Año_de_nacimiento     Inicio_del_viaje  \\\n",
       "0  18026279      436620      M             1978.0  2021-01-01 00:10:40   \n",
       "1  18026280      672064      M             1977.0  2021-01-01 05:58:10   \n",
       "2  18026281      653216      M             1976.0  2021-01-01 05:58:17   \n",
       "3  18026282      672064      M             1977.0  2021-01-01 05:58:59   \n",
       "4  18026283      521601      M             1989.0  2021-01-01 06:00:58   \n",
       "\n",
       "         Fin_del_viaje  Origen_Id  Destino_Id  Tiempo_viaje  \\\n",
       "0  2021-01-01 00:17:54         62          77      7.233333   \n",
       "1  2021-01-01 05:58:37         19          19      0.450000   \n",
       "2  2021-01-01 06:01:11         11         182      2.900000   \n",
       "3  2021-01-01 06:09:26         19          11     10.450000   \n",
       "4  2021-01-01 06:08:00        200         198      7.033333   \n",
       "\n",
       "                Inicio                  Fin  \n",
       "0  2021-01-01 00:10:40  2021-01-01 00:17:54  \n",
       "1  2021-01-01 05:58:10  2021-01-01 05:58:37  \n",
       "2  2021-01-01 05:58:17  2021-01-01 06:01:11  \n",
       "3  2021-01-01 05:58:59  2021-01-01 06:09:26  \n",
       "4  2021-01-01 06:00:58  2021-01-01 06:08:00  "
      ]
     },
     "execution_count": 34,
     "metadata": {},
     "output_type": "execute_result"
    }
   ],
   "source": [
    "mibici_2021['Inicio'] = mibici_2021['Inicio_del_viaje']\n",
    "mibici_2021['Fin'] = mibici_2021['Fin_del_viaje']\n",
    "mibici_2021.head()"
   ]
  },
  {
   "cell_type": "code",
   "execution_count": 35,
   "id": "df85bf49",
   "metadata": {},
   "outputs": [
    {
     "data": {
      "application/vnd.microsoft.datawrangler.viewer.v0+json": {
       "columns": [
        {
         "name": "index",
         "rawType": "int64",
         "type": "integer"
        },
        {
         "name": "Viaje_Id",
         "rawType": "int64",
         "type": "integer"
        },
        {
         "name": "Usuario_Id",
         "rawType": "int64",
         "type": "integer"
        },
        {
         "name": "Genero",
         "rawType": "object",
         "type": "string"
        },
        {
         "name": "Año_de_nacimiento",
         "rawType": "float64",
         "type": "float"
        },
        {
         "name": "Inicio_del_viaje",
         "rawType": "object",
         "type": "string"
        },
        {
         "name": "Fin_del_viaje",
         "rawType": "object",
         "type": "string"
        },
        {
         "name": "Origen_Id",
         "rawType": "int64",
         "type": "integer"
        },
        {
         "name": "Destino_Id",
         "rawType": "int64",
         "type": "integer"
        },
        {
         "name": "Tiempo_viaje",
         "rawType": "float64",
         "type": "float"
        },
        {
         "name": "Inicio",
         "rawType": "object",
         "type": "string"
        },
        {
         "name": "Fin",
         "rawType": "object",
         "type": "string"
        }
       ],
       "conversionMethod": "pd.DataFrame",
       "ref": "d488296b-cbed-4504-9d42-5894bfc85d73",
       "rows": [
        [
         "0",
         "18026279",
         "436620",
         "M",
         "1978.0",
         "2021-01-01 00:10:40",
         "2021-01-01 00:17:54",
         "62",
         "77",
         "7.233333333333333",
         "2021-01-01 00:10:40",
         "2021-01-01 00:17:54"
        ],
        [
         "1",
         "18026280",
         "672064",
         "M",
         "1977.0",
         "2021-01-01 05:58:10",
         "2021-01-01 05:58:37",
         "19",
         "19",
         "0.45",
         "2021-01-01 05:58:10",
         "2021-01-01 05:58:37"
        ],
        [
         "2",
         "18026281",
         "653216",
         "M",
         "1976.0",
         "2021-01-01 05:58:17",
         "2021-01-01 06:01:11",
         "11",
         "182",
         "2.9",
         "2021-01-01 05:58:17",
         "2021-01-01 06:01:11"
        ],
        [
         "3",
         "18026282",
         "672064",
         "M",
         "1977.0",
         "2021-01-01 05:58:59",
         "2021-01-01 06:09:26",
         "19",
         "11",
         "10.45",
         "2021-01-01 05:58:59",
         "2021-01-01 06:09:26"
        ],
        [
         "4",
         "18026283",
         "521601",
         "M",
         "1989.0",
         "2021-01-01 06:00:58",
         "2021-01-01 06:08:00",
         "200",
         "198",
         "7.033333333333333",
         "2021-01-01 06:00:58",
         "2021-01-01 06:08:00"
        ]
       ],
       "shape": {
        "columns": 11,
        "rows": 5
       }
      },
      "text/html": [
       "<div>\n",
       "<style scoped>\n",
       "    .dataframe tbody tr th:only-of-type {\n",
       "        vertical-align: middle;\n",
       "    }\n",
       "\n",
       "    .dataframe tbody tr th {\n",
       "        vertical-align: top;\n",
       "    }\n",
       "\n",
       "    .dataframe thead th {\n",
       "        text-align: right;\n",
       "    }\n",
       "</style>\n",
       "<table border=\"1\" class=\"dataframe\">\n",
       "  <thead>\n",
       "    <tr style=\"text-align: right;\">\n",
       "      <th></th>\n",
       "      <th>Viaje_Id</th>\n",
       "      <th>Usuario_Id</th>\n",
       "      <th>Genero</th>\n",
       "      <th>Año_de_nacimiento</th>\n",
       "      <th>Inicio_del_viaje</th>\n",
       "      <th>Fin_del_viaje</th>\n",
       "      <th>Origen_Id</th>\n",
       "      <th>Destino_Id</th>\n",
       "      <th>Tiempo_viaje</th>\n",
       "      <th>Inicio</th>\n",
       "      <th>Fin</th>\n",
       "    </tr>\n",
       "  </thead>\n",
       "  <tbody>\n",
       "    <tr>\n",
       "      <th>0</th>\n",
       "      <td>18026279</td>\n",
       "      <td>436620</td>\n",
       "      <td>M</td>\n",
       "      <td>1978.0</td>\n",
       "      <td>2021-01-01 00:10:40</td>\n",
       "      <td>2021-01-01 00:17:54</td>\n",
       "      <td>62</td>\n",
       "      <td>77</td>\n",
       "      <td>7.233333</td>\n",
       "      <td>2021-01-01 00:10:40</td>\n",
       "      <td>2021-01-01 00:17:54</td>\n",
       "    </tr>\n",
       "    <tr>\n",
       "      <th>1</th>\n",
       "      <td>18026280</td>\n",
       "      <td>672064</td>\n",
       "      <td>M</td>\n",
       "      <td>1977.0</td>\n",
       "      <td>2021-01-01 05:58:10</td>\n",
       "      <td>2021-01-01 05:58:37</td>\n",
       "      <td>19</td>\n",
       "      <td>19</td>\n",
       "      <td>0.450000</td>\n",
       "      <td>2021-01-01 05:58:10</td>\n",
       "      <td>2021-01-01 05:58:37</td>\n",
       "    </tr>\n",
       "    <tr>\n",
       "      <th>2</th>\n",
       "      <td>18026281</td>\n",
       "      <td>653216</td>\n",
       "      <td>M</td>\n",
       "      <td>1976.0</td>\n",
       "      <td>2021-01-01 05:58:17</td>\n",
       "      <td>2021-01-01 06:01:11</td>\n",
       "      <td>11</td>\n",
       "      <td>182</td>\n",
       "      <td>2.900000</td>\n",
       "      <td>2021-01-01 05:58:17</td>\n",
       "      <td>2021-01-01 06:01:11</td>\n",
       "    </tr>\n",
       "    <tr>\n",
       "      <th>3</th>\n",
       "      <td>18026282</td>\n",
       "      <td>672064</td>\n",
       "      <td>M</td>\n",
       "      <td>1977.0</td>\n",
       "      <td>2021-01-01 05:58:59</td>\n",
       "      <td>2021-01-01 06:09:26</td>\n",
       "      <td>19</td>\n",
       "      <td>11</td>\n",
       "      <td>10.450000</td>\n",
       "      <td>2021-01-01 05:58:59</td>\n",
       "      <td>2021-01-01 06:09:26</td>\n",
       "    </tr>\n",
       "    <tr>\n",
       "      <th>4</th>\n",
       "      <td>18026283</td>\n",
       "      <td>521601</td>\n",
       "      <td>M</td>\n",
       "      <td>1989.0</td>\n",
       "      <td>2021-01-01 06:00:58</td>\n",
       "      <td>2021-01-01 06:08:00</td>\n",
       "      <td>200</td>\n",
       "      <td>198</td>\n",
       "      <td>7.033333</td>\n",
       "      <td>2021-01-01 06:00:58</td>\n",
       "      <td>2021-01-01 06:08:00</td>\n",
       "    </tr>\n",
       "  </tbody>\n",
       "</table>\n",
       "</div>"
      ],
      "text/plain": [
       "   Viaje_Id  Usuario_Id Genero  Año_de_nacimiento     Inicio_del_viaje  \\\n",
       "0  18026279      436620      M             1978.0  2021-01-01 00:10:40   \n",
       "1  18026280      672064      M             1977.0  2021-01-01 05:58:10   \n",
       "2  18026281      653216      M             1976.0  2021-01-01 05:58:17   \n",
       "3  18026282      672064      M             1977.0  2021-01-01 05:58:59   \n",
       "4  18026283      521601      M             1989.0  2021-01-01 06:00:58   \n",
       "\n",
       "         Fin_del_viaje  Origen_Id  Destino_Id  Tiempo_viaje  \\\n",
       "0  2021-01-01 00:17:54         62          77      7.233333   \n",
       "1  2021-01-01 05:58:37         19          19      0.450000   \n",
       "2  2021-01-01 06:01:11         11         182      2.900000   \n",
       "3  2021-01-01 06:09:26         19          11     10.450000   \n",
       "4  2021-01-01 06:08:00        200         198      7.033333   \n",
       "\n",
       "                Inicio                  Fin  \n",
       "0  2021-01-01 00:10:40  2021-01-01 00:17:54  \n",
       "1  2021-01-01 05:58:10  2021-01-01 05:58:37  \n",
       "2  2021-01-01 05:58:17  2021-01-01 06:01:11  \n",
       "3  2021-01-01 05:58:59  2021-01-01 06:09:26  \n",
       "4  2021-01-01 06:00:58  2021-01-01 06:08:00  "
      ]
     },
     "execution_count": 35,
     "metadata": {},
     "output_type": "execute_result"
    }
   ],
   "source": [
    "mibici_2021.to_csv('/Users/antoniomendez/Desktop/Tesis/Datos/datos_limpios/mibici/mibici_2021.csv', index = False)\n",
    "mibici_2021 = load_data('mibici/mibici_2021.csv', flag_dir)\n",
    "mibici_2021.head()"
   ]
  },
  {
   "cell_type": "code",
   "execution_count": 36,
   "id": "8054a99a",
   "metadata": {},
   "outputs": [],
   "source": [
    "del mibici_2021"
   ]
  },
  {
   "cell_type": "code",
   "execution_count": 37,
   "id": "fdcf7f6a",
   "metadata": {},
   "outputs": [
    {
     "data": {
      "application/vnd.microsoft.datawrangler.viewer.v0+json": {
       "columns": [
        {
         "name": "index",
         "rawType": "int64",
         "type": "integer"
        },
        {
         "name": "Viaje_Id",
         "rawType": "int64",
         "type": "integer"
        },
        {
         "name": "Usuario_Id",
         "rawType": "int64",
         "type": "integer"
        },
        {
         "name": "Genero",
         "rawType": "object",
         "type": "string"
        },
        {
         "name": "Año_de_nacimiento",
         "rawType": "float64",
         "type": "float"
        },
        {
         "name": "Inicio_del_viaje",
         "rawType": "object",
         "type": "string"
        },
        {
         "name": "Fin_del_viaje",
         "rawType": "object",
         "type": "string"
        },
        {
         "name": "Origen_Id",
         "rawType": "int64",
         "type": "integer"
        },
        {
         "name": "Destino_Id",
         "rawType": "int64",
         "type": "integer"
        },
        {
         "name": "Tiempo_viaje",
         "rawType": "float64",
         "type": "float"
        }
       ],
       "conversionMethod": "pd.DataFrame",
       "ref": "20ca2798-c0b0-44b0-a293-e9804a75ae2b",
       "rows": [
        [
         "0",
         "21782677",
         "1304044",
         "M",
         "2000.0",
         "2022-01-01 00:05:41",
         "2022-01-01 00:14:37",
         "227",
         "236",
         "8.933333333333334"
        ],
        [
         "1",
         "21782678",
         "673514",
         "M",
         "1984.0",
         "2022-01-01 00:09:50",
         "2022-01-01 00:20:35",
         "67",
         "53",
         "10.75"
        ],
        [
         "2",
         "21782679",
         "454306",
         "M",
         "1990.0",
         "2022-01-01 00:10:07",
         "2022-01-01 00:20:31",
         "67",
         "53",
         "10.4"
        ],
        [
         "3",
         "21782680",
         "372607",
         "M",
         "1977.0",
         "2022-01-01 00:10:45",
         "2022-01-01 00:13:09",
         "30",
         "23",
         "2.4"
        ],
        [
         "4",
         "21782681",
         "1277213",
         "F",
         "1973.0",
         "2022-01-01 00:11:22",
         "2022-01-01 00:29:16",
         "86",
         "8",
         "17.9"
        ]
       ],
       "shape": {
        "columns": 9,
        "rows": 5
       }
      },
      "text/html": [
       "<div>\n",
       "<style scoped>\n",
       "    .dataframe tbody tr th:only-of-type {\n",
       "        vertical-align: middle;\n",
       "    }\n",
       "\n",
       "    .dataframe tbody tr th {\n",
       "        vertical-align: top;\n",
       "    }\n",
       "\n",
       "    .dataframe thead th {\n",
       "        text-align: right;\n",
       "    }\n",
       "</style>\n",
       "<table border=\"1\" class=\"dataframe\">\n",
       "  <thead>\n",
       "    <tr style=\"text-align: right;\">\n",
       "      <th></th>\n",
       "      <th>Viaje_Id</th>\n",
       "      <th>Usuario_Id</th>\n",
       "      <th>Genero</th>\n",
       "      <th>Año_de_nacimiento</th>\n",
       "      <th>Inicio_del_viaje</th>\n",
       "      <th>Fin_del_viaje</th>\n",
       "      <th>Origen_Id</th>\n",
       "      <th>Destino_Id</th>\n",
       "      <th>Tiempo_viaje</th>\n",
       "    </tr>\n",
       "  </thead>\n",
       "  <tbody>\n",
       "    <tr>\n",
       "      <th>0</th>\n",
       "      <td>21782677</td>\n",
       "      <td>1304044</td>\n",
       "      <td>M</td>\n",
       "      <td>2000.0</td>\n",
       "      <td>2022-01-01 00:05:41</td>\n",
       "      <td>2022-01-01 00:14:37</td>\n",
       "      <td>227</td>\n",
       "      <td>236</td>\n",
       "      <td>8.933333</td>\n",
       "    </tr>\n",
       "    <tr>\n",
       "      <th>1</th>\n",
       "      <td>21782678</td>\n",
       "      <td>673514</td>\n",
       "      <td>M</td>\n",
       "      <td>1984.0</td>\n",
       "      <td>2022-01-01 00:09:50</td>\n",
       "      <td>2022-01-01 00:20:35</td>\n",
       "      <td>67</td>\n",
       "      <td>53</td>\n",
       "      <td>10.750000</td>\n",
       "    </tr>\n",
       "    <tr>\n",
       "      <th>2</th>\n",
       "      <td>21782679</td>\n",
       "      <td>454306</td>\n",
       "      <td>M</td>\n",
       "      <td>1990.0</td>\n",
       "      <td>2022-01-01 00:10:07</td>\n",
       "      <td>2022-01-01 00:20:31</td>\n",
       "      <td>67</td>\n",
       "      <td>53</td>\n",
       "      <td>10.400000</td>\n",
       "    </tr>\n",
       "    <tr>\n",
       "      <th>3</th>\n",
       "      <td>21782680</td>\n",
       "      <td>372607</td>\n",
       "      <td>M</td>\n",
       "      <td>1977.0</td>\n",
       "      <td>2022-01-01 00:10:45</td>\n",
       "      <td>2022-01-01 00:13:09</td>\n",
       "      <td>30</td>\n",
       "      <td>23</td>\n",
       "      <td>2.400000</td>\n",
       "    </tr>\n",
       "    <tr>\n",
       "      <th>4</th>\n",
       "      <td>21782681</td>\n",
       "      <td>1277213</td>\n",
       "      <td>F</td>\n",
       "      <td>1973.0</td>\n",
       "      <td>2022-01-01 00:11:22</td>\n",
       "      <td>2022-01-01 00:29:16</td>\n",
       "      <td>86</td>\n",
       "      <td>8</td>\n",
       "      <td>17.900000</td>\n",
       "    </tr>\n",
       "  </tbody>\n",
       "</table>\n",
       "</div>"
      ],
      "text/plain": [
       "   Viaje_Id  Usuario_Id Genero  Año_de_nacimiento     Inicio_del_viaje  \\\n",
       "0  21782677     1304044      M             2000.0  2022-01-01 00:05:41   \n",
       "1  21782678      673514      M             1984.0  2022-01-01 00:09:50   \n",
       "2  21782679      454306      M             1990.0  2022-01-01 00:10:07   \n",
       "3  21782680      372607      M             1977.0  2022-01-01 00:10:45   \n",
       "4  21782681     1277213      F             1973.0  2022-01-01 00:11:22   \n",
       "\n",
       "         Fin_del_viaje  Origen_Id  Destino_Id  Tiempo_viaje  \n",
       "0  2022-01-01 00:14:37        227         236      8.933333  \n",
       "1  2022-01-01 00:20:35         67          53     10.750000  \n",
       "2  2022-01-01 00:20:31         67          53     10.400000  \n",
       "3  2022-01-01 00:13:09         30          23      2.400000  \n",
       "4  2022-01-01 00:29:16         86           8     17.900000  "
      ]
     },
     "execution_count": 37,
     "metadata": {},
     "output_type": "execute_result"
    }
   ],
   "source": [
    "mibici_2022 = load_data('mibici/mibici_2022.csv', flag_dir)\n",
    "mibici_2022.head()"
   ]
  },
  {
   "cell_type": "code",
   "execution_count": 38,
   "id": "8eadc26d",
   "metadata": {},
   "outputs": [
    {
     "data": {
      "application/vnd.microsoft.datawrangler.viewer.v0+json": {
       "columns": [
        {
         "name": "index",
         "rawType": "int64",
         "type": "integer"
        },
        {
         "name": "Viaje_Id",
         "rawType": "int64",
         "type": "integer"
        },
        {
         "name": "Usuario_Id",
         "rawType": "int64",
         "type": "integer"
        },
        {
         "name": "Genero",
         "rawType": "object",
         "type": "string"
        },
        {
         "name": "Año_de_nacimiento",
         "rawType": "float64",
         "type": "float"
        },
        {
         "name": "Inicio_del_viaje",
         "rawType": "object",
         "type": "string"
        },
        {
         "name": "Fin_del_viaje",
         "rawType": "object",
         "type": "string"
        },
        {
         "name": "Origen_Id",
         "rawType": "int64",
         "type": "integer"
        },
        {
         "name": "Destino_Id",
         "rawType": "int64",
         "type": "integer"
        },
        {
         "name": "Tiempo_viaje",
         "rawType": "float64",
         "type": "float"
        },
        {
         "name": "Inicio",
         "rawType": "object",
         "type": "string"
        },
        {
         "name": "Fin",
         "rawType": "object",
         "type": "string"
        }
       ],
       "conversionMethod": "pd.DataFrame",
       "ref": "aaaaf512-ce71-4bbf-9e04-8d9b3e99a826",
       "rows": [
        [
         "0",
         "21782677",
         "1304044",
         "M",
         "2000.0",
         "2022-01-01 00:05:41",
         "2022-01-01 00:14:37",
         "227",
         "236",
         "8.933333333333334",
         "2022-01-01 00:05:41",
         "2022-01-01 00:14:37"
        ],
        [
         "1",
         "21782678",
         "673514",
         "M",
         "1984.0",
         "2022-01-01 00:09:50",
         "2022-01-01 00:20:35",
         "67",
         "53",
         "10.75",
         "2022-01-01 00:09:50",
         "2022-01-01 00:20:35"
        ],
        [
         "2",
         "21782679",
         "454306",
         "M",
         "1990.0",
         "2022-01-01 00:10:07",
         "2022-01-01 00:20:31",
         "67",
         "53",
         "10.4",
         "2022-01-01 00:10:07",
         "2022-01-01 00:20:31"
        ],
        [
         "3",
         "21782680",
         "372607",
         "M",
         "1977.0",
         "2022-01-01 00:10:45",
         "2022-01-01 00:13:09",
         "30",
         "23",
         "2.4",
         "2022-01-01 00:10:45",
         "2022-01-01 00:13:09"
        ],
        [
         "4",
         "21782681",
         "1277213",
         "F",
         "1973.0",
         "2022-01-01 00:11:22",
         "2022-01-01 00:29:16",
         "86",
         "8",
         "17.9",
         "2022-01-01 00:11:22",
         "2022-01-01 00:29:16"
        ]
       ],
       "shape": {
        "columns": 11,
        "rows": 5
       }
      },
      "text/html": [
       "<div>\n",
       "<style scoped>\n",
       "    .dataframe tbody tr th:only-of-type {\n",
       "        vertical-align: middle;\n",
       "    }\n",
       "\n",
       "    .dataframe tbody tr th {\n",
       "        vertical-align: top;\n",
       "    }\n",
       "\n",
       "    .dataframe thead th {\n",
       "        text-align: right;\n",
       "    }\n",
       "</style>\n",
       "<table border=\"1\" class=\"dataframe\">\n",
       "  <thead>\n",
       "    <tr style=\"text-align: right;\">\n",
       "      <th></th>\n",
       "      <th>Viaje_Id</th>\n",
       "      <th>Usuario_Id</th>\n",
       "      <th>Genero</th>\n",
       "      <th>Año_de_nacimiento</th>\n",
       "      <th>Inicio_del_viaje</th>\n",
       "      <th>Fin_del_viaje</th>\n",
       "      <th>Origen_Id</th>\n",
       "      <th>Destino_Id</th>\n",
       "      <th>Tiempo_viaje</th>\n",
       "      <th>Inicio</th>\n",
       "      <th>Fin</th>\n",
       "    </tr>\n",
       "  </thead>\n",
       "  <tbody>\n",
       "    <tr>\n",
       "      <th>0</th>\n",
       "      <td>21782677</td>\n",
       "      <td>1304044</td>\n",
       "      <td>M</td>\n",
       "      <td>2000.0</td>\n",
       "      <td>2022-01-01 00:05:41</td>\n",
       "      <td>2022-01-01 00:14:37</td>\n",
       "      <td>227</td>\n",
       "      <td>236</td>\n",
       "      <td>8.933333</td>\n",
       "      <td>2022-01-01 00:05:41</td>\n",
       "      <td>2022-01-01 00:14:37</td>\n",
       "    </tr>\n",
       "    <tr>\n",
       "      <th>1</th>\n",
       "      <td>21782678</td>\n",
       "      <td>673514</td>\n",
       "      <td>M</td>\n",
       "      <td>1984.0</td>\n",
       "      <td>2022-01-01 00:09:50</td>\n",
       "      <td>2022-01-01 00:20:35</td>\n",
       "      <td>67</td>\n",
       "      <td>53</td>\n",
       "      <td>10.750000</td>\n",
       "      <td>2022-01-01 00:09:50</td>\n",
       "      <td>2022-01-01 00:20:35</td>\n",
       "    </tr>\n",
       "    <tr>\n",
       "      <th>2</th>\n",
       "      <td>21782679</td>\n",
       "      <td>454306</td>\n",
       "      <td>M</td>\n",
       "      <td>1990.0</td>\n",
       "      <td>2022-01-01 00:10:07</td>\n",
       "      <td>2022-01-01 00:20:31</td>\n",
       "      <td>67</td>\n",
       "      <td>53</td>\n",
       "      <td>10.400000</td>\n",
       "      <td>2022-01-01 00:10:07</td>\n",
       "      <td>2022-01-01 00:20:31</td>\n",
       "    </tr>\n",
       "    <tr>\n",
       "      <th>3</th>\n",
       "      <td>21782680</td>\n",
       "      <td>372607</td>\n",
       "      <td>M</td>\n",
       "      <td>1977.0</td>\n",
       "      <td>2022-01-01 00:10:45</td>\n",
       "      <td>2022-01-01 00:13:09</td>\n",
       "      <td>30</td>\n",
       "      <td>23</td>\n",
       "      <td>2.400000</td>\n",
       "      <td>2022-01-01 00:10:45</td>\n",
       "      <td>2022-01-01 00:13:09</td>\n",
       "    </tr>\n",
       "    <tr>\n",
       "      <th>4</th>\n",
       "      <td>21782681</td>\n",
       "      <td>1277213</td>\n",
       "      <td>F</td>\n",
       "      <td>1973.0</td>\n",
       "      <td>2022-01-01 00:11:22</td>\n",
       "      <td>2022-01-01 00:29:16</td>\n",
       "      <td>86</td>\n",
       "      <td>8</td>\n",
       "      <td>17.900000</td>\n",
       "      <td>2022-01-01 00:11:22</td>\n",
       "      <td>2022-01-01 00:29:16</td>\n",
       "    </tr>\n",
       "  </tbody>\n",
       "</table>\n",
       "</div>"
      ],
      "text/plain": [
       "   Viaje_Id  Usuario_Id Genero  Año_de_nacimiento     Inicio_del_viaje  \\\n",
       "0  21782677     1304044      M             2000.0  2022-01-01 00:05:41   \n",
       "1  21782678      673514      M             1984.0  2022-01-01 00:09:50   \n",
       "2  21782679      454306      M             1990.0  2022-01-01 00:10:07   \n",
       "3  21782680      372607      M             1977.0  2022-01-01 00:10:45   \n",
       "4  21782681     1277213      F             1973.0  2022-01-01 00:11:22   \n",
       "\n",
       "         Fin_del_viaje  Origen_Id  Destino_Id  Tiempo_viaje  \\\n",
       "0  2022-01-01 00:14:37        227         236      8.933333   \n",
       "1  2022-01-01 00:20:35         67          53     10.750000   \n",
       "2  2022-01-01 00:20:31         67          53     10.400000   \n",
       "3  2022-01-01 00:13:09         30          23      2.400000   \n",
       "4  2022-01-01 00:29:16         86           8     17.900000   \n",
       "\n",
       "                Inicio                  Fin  \n",
       "0  2022-01-01 00:05:41  2022-01-01 00:14:37  \n",
       "1  2022-01-01 00:09:50  2022-01-01 00:20:35  \n",
       "2  2022-01-01 00:10:07  2022-01-01 00:20:31  \n",
       "3  2022-01-01 00:10:45  2022-01-01 00:13:09  \n",
       "4  2022-01-01 00:11:22  2022-01-01 00:29:16  "
      ]
     },
     "execution_count": 38,
     "metadata": {},
     "output_type": "execute_result"
    }
   ],
   "source": [
    "mibici_2022['Inicio'] = mibici_2022['Inicio_del_viaje']\n",
    "mibici_2022['Fin'] = mibici_2022['Fin_del_viaje']\n",
    "mibici_2022.head()"
   ]
  },
  {
   "cell_type": "code",
   "execution_count": 39,
   "id": "df555278",
   "metadata": {},
   "outputs": [
    {
     "data": {
      "application/vnd.microsoft.datawrangler.viewer.v0+json": {
       "columns": [
        {
         "name": "index",
         "rawType": "int64",
         "type": "integer"
        },
        {
         "name": "Viaje_Id",
         "rawType": "int64",
         "type": "integer"
        },
        {
         "name": "Usuario_Id",
         "rawType": "int64",
         "type": "integer"
        },
        {
         "name": "Genero",
         "rawType": "object",
         "type": "string"
        },
        {
         "name": "Año_de_nacimiento",
         "rawType": "float64",
         "type": "float"
        },
        {
         "name": "Inicio_del_viaje",
         "rawType": "object",
         "type": "string"
        },
        {
         "name": "Fin_del_viaje",
         "rawType": "object",
         "type": "string"
        },
        {
         "name": "Origen_Id",
         "rawType": "int64",
         "type": "integer"
        },
        {
         "name": "Destino_Id",
         "rawType": "int64",
         "type": "integer"
        },
        {
         "name": "Tiempo_viaje",
         "rawType": "float64",
         "type": "float"
        },
        {
         "name": "Inicio",
         "rawType": "object",
         "type": "string"
        },
        {
         "name": "Fin",
         "rawType": "object",
         "type": "string"
        }
       ],
       "conversionMethod": "pd.DataFrame",
       "ref": "0d05e77f-f82c-4371-a9a6-f4023a27671e",
       "rows": [
        [
         "0",
         "21782677",
         "1304044",
         "M",
         "2000.0",
         "2022-01-01 00:05:41",
         "2022-01-01 00:14:37",
         "227",
         "236",
         "8.933333333333334",
         "2022-01-01 00:05:41",
         "2022-01-01 00:14:37"
        ],
        [
         "1",
         "21782678",
         "673514",
         "M",
         "1984.0",
         "2022-01-01 00:09:50",
         "2022-01-01 00:20:35",
         "67",
         "53",
         "10.75",
         "2022-01-01 00:09:50",
         "2022-01-01 00:20:35"
        ],
        [
         "2",
         "21782679",
         "454306",
         "M",
         "1990.0",
         "2022-01-01 00:10:07",
         "2022-01-01 00:20:31",
         "67",
         "53",
         "10.4",
         "2022-01-01 00:10:07",
         "2022-01-01 00:20:31"
        ],
        [
         "3",
         "21782680",
         "372607",
         "M",
         "1977.0",
         "2022-01-01 00:10:45",
         "2022-01-01 00:13:09",
         "30",
         "23",
         "2.4",
         "2022-01-01 00:10:45",
         "2022-01-01 00:13:09"
        ],
        [
         "4",
         "21782681",
         "1277213",
         "F",
         "1973.0",
         "2022-01-01 00:11:22",
         "2022-01-01 00:29:16",
         "86",
         "8",
         "17.9",
         "2022-01-01 00:11:22",
         "2022-01-01 00:29:16"
        ]
       ],
       "shape": {
        "columns": 11,
        "rows": 5
       }
      },
      "text/html": [
       "<div>\n",
       "<style scoped>\n",
       "    .dataframe tbody tr th:only-of-type {\n",
       "        vertical-align: middle;\n",
       "    }\n",
       "\n",
       "    .dataframe tbody tr th {\n",
       "        vertical-align: top;\n",
       "    }\n",
       "\n",
       "    .dataframe thead th {\n",
       "        text-align: right;\n",
       "    }\n",
       "</style>\n",
       "<table border=\"1\" class=\"dataframe\">\n",
       "  <thead>\n",
       "    <tr style=\"text-align: right;\">\n",
       "      <th></th>\n",
       "      <th>Viaje_Id</th>\n",
       "      <th>Usuario_Id</th>\n",
       "      <th>Genero</th>\n",
       "      <th>Año_de_nacimiento</th>\n",
       "      <th>Inicio_del_viaje</th>\n",
       "      <th>Fin_del_viaje</th>\n",
       "      <th>Origen_Id</th>\n",
       "      <th>Destino_Id</th>\n",
       "      <th>Tiempo_viaje</th>\n",
       "      <th>Inicio</th>\n",
       "      <th>Fin</th>\n",
       "    </tr>\n",
       "  </thead>\n",
       "  <tbody>\n",
       "    <tr>\n",
       "      <th>0</th>\n",
       "      <td>21782677</td>\n",
       "      <td>1304044</td>\n",
       "      <td>M</td>\n",
       "      <td>2000.0</td>\n",
       "      <td>2022-01-01 00:05:41</td>\n",
       "      <td>2022-01-01 00:14:37</td>\n",
       "      <td>227</td>\n",
       "      <td>236</td>\n",
       "      <td>8.933333</td>\n",
       "      <td>2022-01-01 00:05:41</td>\n",
       "      <td>2022-01-01 00:14:37</td>\n",
       "    </tr>\n",
       "    <tr>\n",
       "      <th>1</th>\n",
       "      <td>21782678</td>\n",
       "      <td>673514</td>\n",
       "      <td>M</td>\n",
       "      <td>1984.0</td>\n",
       "      <td>2022-01-01 00:09:50</td>\n",
       "      <td>2022-01-01 00:20:35</td>\n",
       "      <td>67</td>\n",
       "      <td>53</td>\n",
       "      <td>10.750000</td>\n",
       "      <td>2022-01-01 00:09:50</td>\n",
       "      <td>2022-01-01 00:20:35</td>\n",
       "    </tr>\n",
       "    <tr>\n",
       "      <th>2</th>\n",
       "      <td>21782679</td>\n",
       "      <td>454306</td>\n",
       "      <td>M</td>\n",
       "      <td>1990.0</td>\n",
       "      <td>2022-01-01 00:10:07</td>\n",
       "      <td>2022-01-01 00:20:31</td>\n",
       "      <td>67</td>\n",
       "      <td>53</td>\n",
       "      <td>10.400000</td>\n",
       "      <td>2022-01-01 00:10:07</td>\n",
       "      <td>2022-01-01 00:20:31</td>\n",
       "    </tr>\n",
       "    <tr>\n",
       "      <th>3</th>\n",
       "      <td>21782680</td>\n",
       "      <td>372607</td>\n",
       "      <td>M</td>\n",
       "      <td>1977.0</td>\n",
       "      <td>2022-01-01 00:10:45</td>\n",
       "      <td>2022-01-01 00:13:09</td>\n",
       "      <td>30</td>\n",
       "      <td>23</td>\n",
       "      <td>2.400000</td>\n",
       "      <td>2022-01-01 00:10:45</td>\n",
       "      <td>2022-01-01 00:13:09</td>\n",
       "    </tr>\n",
       "    <tr>\n",
       "      <th>4</th>\n",
       "      <td>21782681</td>\n",
       "      <td>1277213</td>\n",
       "      <td>F</td>\n",
       "      <td>1973.0</td>\n",
       "      <td>2022-01-01 00:11:22</td>\n",
       "      <td>2022-01-01 00:29:16</td>\n",
       "      <td>86</td>\n",
       "      <td>8</td>\n",
       "      <td>17.900000</td>\n",
       "      <td>2022-01-01 00:11:22</td>\n",
       "      <td>2022-01-01 00:29:16</td>\n",
       "    </tr>\n",
       "  </tbody>\n",
       "</table>\n",
       "</div>"
      ],
      "text/plain": [
       "   Viaje_Id  Usuario_Id Genero  Año_de_nacimiento     Inicio_del_viaje  \\\n",
       "0  21782677     1304044      M             2000.0  2022-01-01 00:05:41   \n",
       "1  21782678      673514      M             1984.0  2022-01-01 00:09:50   \n",
       "2  21782679      454306      M             1990.0  2022-01-01 00:10:07   \n",
       "3  21782680      372607      M             1977.0  2022-01-01 00:10:45   \n",
       "4  21782681     1277213      F             1973.0  2022-01-01 00:11:22   \n",
       "\n",
       "         Fin_del_viaje  Origen_Id  Destino_Id  Tiempo_viaje  \\\n",
       "0  2022-01-01 00:14:37        227         236      8.933333   \n",
       "1  2022-01-01 00:20:35         67          53     10.750000   \n",
       "2  2022-01-01 00:20:31         67          53     10.400000   \n",
       "3  2022-01-01 00:13:09         30          23      2.400000   \n",
       "4  2022-01-01 00:29:16         86           8     17.900000   \n",
       "\n",
       "                Inicio                  Fin  \n",
       "0  2022-01-01 00:05:41  2022-01-01 00:14:37  \n",
       "1  2022-01-01 00:09:50  2022-01-01 00:20:35  \n",
       "2  2022-01-01 00:10:07  2022-01-01 00:20:31  \n",
       "3  2022-01-01 00:10:45  2022-01-01 00:13:09  \n",
       "4  2022-01-01 00:11:22  2022-01-01 00:29:16  "
      ]
     },
     "execution_count": 39,
     "metadata": {},
     "output_type": "execute_result"
    }
   ],
   "source": [
    "mibici_2022.to_csv('/Users/antoniomendez/Desktop/Tesis/Datos/datos_limpios/mibici/mibici_2022.csv', index = False)\n",
    "mibici_2022 = load_data('mibici/mibici_2022.csv', flag_dir)\n",
    "mibici_2022.head()"
   ]
  },
  {
   "cell_type": "code",
   "execution_count": 40,
   "id": "97694c6e",
   "metadata": {},
   "outputs": [],
   "source": [
    "del mibici_2022"
   ]
  },
  {
   "cell_type": "code",
   "execution_count": 41,
   "id": "54743ff2",
   "metadata": {},
   "outputs": [
    {
     "data": {
      "application/vnd.microsoft.datawrangler.viewer.v0+json": {
       "columns": [
        {
         "name": "index",
         "rawType": "int64",
         "type": "integer"
        },
        {
         "name": "Viaje_Id",
         "rawType": "int64",
         "type": "integer"
        },
        {
         "name": "Usuario_Id",
         "rawType": "int64",
         "type": "integer"
        },
        {
         "name": "Genero",
         "rawType": "object",
         "type": "string"
        },
        {
         "name": "Año_de_nacimiento",
         "rawType": "float64",
         "type": "float"
        },
        {
         "name": "Inicio_del_viaje",
         "rawType": "object",
         "type": "string"
        },
        {
         "name": "Fin_del_viaje",
         "rawType": "object",
         "type": "string"
        },
        {
         "name": "Origen_Id",
         "rawType": "int64",
         "type": "integer"
        },
        {
         "name": "Destino_Id",
         "rawType": "int64",
         "type": "integer"
        },
        {
         "name": "A}äe_nacimiento",
         "rawType": "float64",
         "type": "float"
        },
        {
         "name": "Tiempo_viaje",
         "rawType": "float64",
         "type": "float"
        }
       ],
       "conversionMethod": "pd.DataFrame",
       "ref": "21c24817-0fc8-4e5e-822c-16ff260dc802",
       "rows": [
        [
         "0",
         "26751198",
         "1350606",
         "M",
         "1983.0",
         "2023-01-01 00:00:41",
         "2023-01-01 00:26:52",
         "154",
         "50",
         null,
         "26.183333333333337"
        ],
        [
         "1",
         "26751199",
         "15163",
         "M",
         "1986.0",
         "2023-01-01 00:04:48",
         "2023-01-01 00:07:46",
         "64",
         "79",
         null,
         "2.966666666666667"
        ],
        [
         "2",
         "26751200",
         "1534764",
         "M",
         "1987.0",
         "2023-01-01 00:06:49",
         "2023-01-01 00:17:36",
         "35",
         "12",
         null,
         "10.783333333333331"
        ],
        [
         "3",
         "26751201",
         "1240140",
         "M",
         "1996.0",
         "2023-01-01 00:08:05",
         "2023-01-01 00:09:00",
         "35",
         "35",
         null,
         "0.9166666666666666"
        ],
        [
         "4",
         "26751202",
         "1732214",
         "M",
         "1969.0",
         "2023-01-01 00:09:14",
         "2023-01-01 00:14:57",
         "54",
         "171",
         null,
         "5.716666666666667"
        ]
       ],
       "shape": {
        "columns": 10,
        "rows": 5
       }
      },
      "text/html": [
       "<div>\n",
       "<style scoped>\n",
       "    .dataframe tbody tr th:only-of-type {\n",
       "        vertical-align: middle;\n",
       "    }\n",
       "\n",
       "    .dataframe tbody tr th {\n",
       "        vertical-align: top;\n",
       "    }\n",
       "\n",
       "    .dataframe thead th {\n",
       "        text-align: right;\n",
       "    }\n",
       "</style>\n",
       "<table border=\"1\" class=\"dataframe\">\n",
       "  <thead>\n",
       "    <tr style=\"text-align: right;\">\n",
       "      <th></th>\n",
       "      <th>Viaje_Id</th>\n",
       "      <th>Usuario_Id</th>\n",
       "      <th>Genero</th>\n",
       "      <th>Año_de_nacimiento</th>\n",
       "      <th>Inicio_del_viaje</th>\n",
       "      <th>Fin_del_viaje</th>\n",
       "      <th>Origen_Id</th>\n",
       "      <th>Destino_Id</th>\n",
       "      <th>A}äe_nacimiento</th>\n",
       "      <th>Tiempo_viaje</th>\n",
       "    </tr>\n",
       "  </thead>\n",
       "  <tbody>\n",
       "    <tr>\n",
       "      <th>0</th>\n",
       "      <td>26751198</td>\n",
       "      <td>1350606</td>\n",
       "      <td>M</td>\n",
       "      <td>1983.0</td>\n",
       "      <td>2023-01-01 00:00:41</td>\n",
       "      <td>2023-01-01 00:26:52</td>\n",
       "      <td>154</td>\n",
       "      <td>50</td>\n",
       "      <td>NaN</td>\n",
       "      <td>26.183333</td>\n",
       "    </tr>\n",
       "    <tr>\n",
       "      <th>1</th>\n",
       "      <td>26751199</td>\n",
       "      <td>15163</td>\n",
       "      <td>M</td>\n",
       "      <td>1986.0</td>\n",
       "      <td>2023-01-01 00:04:48</td>\n",
       "      <td>2023-01-01 00:07:46</td>\n",
       "      <td>64</td>\n",
       "      <td>79</td>\n",
       "      <td>NaN</td>\n",
       "      <td>2.966667</td>\n",
       "    </tr>\n",
       "    <tr>\n",
       "      <th>2</th>\n",
       "      <td>26751200</td>\n",
       "      <td>1534764</td>\n",
       "      <td>M</td>\n",
       "      <td>1987.0</td>\n",
       "      <td>2023-01-01 00:06:49</td>\n",
       "      <td>2023-01-01 00:17:36</td>\n",
       "      <td>35</td>\n",
       "      <td>12</td>\n",
       "      <td>NaN</td>\n",
       "      <td>10.783333</td>\n",
       "    </tr>\n",
       "    <tr>\n",
       "      <th>3</th>\n",
       "      <td>26751201</td>\n",
       "      <td>1240140</td>\n",
       "      <td>M</td>\n",
       "      <td>1996.0</td>\n",
       "      <td>2023-01-01 00:08:05</td>\n",
       "      <td>2023-01-01 00:09:00</td>\n",
       "      <td>35</td>\n",
       "      <td>35</td>\n",
       "      <td>NaN</td>\n",
       "      <td>0.916667</td>\n",
       "    </tr>\n",
       "    <tr>\n",
       "      <th>4</th>\n",
       "      <td>26751202</td>\n",
       "      <td>1732214</td>\n",
       "      <td>M</td>\n",
       "      <td>1969.0</td>\n",
       "      <td>2023-01-01 00:09:14</td>\n",
       "      <td>2023-01-01 00:14:57</td>\n",
       "      <td>54</td>\n",
       "      <td>171</td>\n",
       "      <td>NaN</td>\n",
       "      <td>5.716667</td>\n",
       "    </tr>\n",
       "  </tbody>\n",
       "</table>\n",
       "</div>"
      ],
      "text/plain": [
       "   Viaje_Id  Usuario_Id Genero  Año_de_nacimiento     Inicio_del_viaje  \\\n",
       "0  26751198     1350606      M             1983.0  2023-01-01 00:00:41   \n",
       "1  26751199       15163      M             1986.0  2023-01-01 00:04:48   \n",
       "2  26751200     1534764      M             1987.0  2023-01-01 00:06:49   \n",
       "3  26751201     1240140      M             1996.0  2023-01-01 00:08:05   \n",
       "4  26751202     1732214      M             1969.0  2023-01-01 00:09:14   \n",
       "\n",
       "         Fin_del_viaje  Origen_Id  Destino_Id  A}äe_nacimiento  Tiempo_viaje  \n",
       "0  2023-01-01 00:26:52        154          50              NaN     26.183333  \n",
       "1  2023-01-01 00:07:46         64          79              NaN      2.966667  \n",
       "2  2023-01-01 00:17:36         35          12              NaN     10.783333  \n",
       "3  2023-01-01 00:09:00         35          35              NaN      0.916667  \n",
       "4  2023-01-01 00:14:57         54         171              NaN      5.716667  "
      ]
     },
     "execution_count": 41,
     "metadata": {},
     "output_type": "execute_result"
    }
   ],
   "source": [
    "mibici_2023 = load_data('mibici/mibici_2023.csv', flag_dir)\n",
    "mibici_2023.head()"
   ]
  },
  {
   "cell_type": "code",
   "execution_count": 43,
   "id": "ce69d7c6",
   "metadata": {},
   "outputs": [
    {
     "data": {
      "text/plain": [
       "'A}äe_nacimiento'"
      ]
     },
     "execution_count": 43,
     "metadata": {},
     "output_type": "execute_result"
    }
   ],
   "source": [
    "columns = mibici_2023.columns\n",
    "columns[-2]"
   ]
  },
  {
   "cell_type": "code",
   "execution_count": 48,
   "id": "4d08cc50",
   "metadata": {},
   "outputs": [
    {
     "data": {
      "application/vnd.microsoft.datawrangler.viewer.v0+json": {
       "columns": [
        {
         "name": "index",
         "rawType": "int64",
         "type": "integer"
        },
        {
         "name": "Viaje_Id",
         "rawType": "int64",
         "type": "integer"
        },
        {
         "name": "Usuario_Id",
         "rawType": "int64",
         "type": "integer"
        },
        {
         "name": "Genero",
         "rawType": "object",
         "type": "string"
        },
        {
         "name": "Año_de_nacimiento",
         "rawType": "float64",
         "type": "float"
        },
        {
         "name": "Inicio_del_viaje",
         "rawType": "object",
         "type": "string"
        },
        {
         "name": "Fin_del_viaje",
         "rawType": "object",
         "type": "string"
        },
        {
         "name": "Origen_Id",
         "rawType": "int64",
         "type": "integer"
        },
        {
         "name": "Destino_Id",
         "rawType": "int64",
         "type": "integer"
        },
        {
         "name": "A}äe_nacimiento",
         "rawType": "float64",
         "type": "float"
        },
        {
         "name": "Tiempo_viaje",
         "rawType": "float64",
         "type": "float"
        }
       ],
       "conversionMethod": "pd.DataFrame",
       "ref": "fa0a010c-40c9-4379-ad81-7159d402dc56",
       "rows": [
        [
         "1123390",
         "28080053",
         "2125076",
         "M",
         null,
         "2023-04-01 00:00:13",
         "2023-04-01 00:19:22",
         "154",
         "95",
         "1996.0",
         "19.15"
        ],
        [
         "1123391",
         "28080054",
         "316101",
         "M",
         null,
         "2023-04-01 00:00:13",
         "2023-04-01 00:06:26",
         "154",
         "170",
         "1990.0",
         "6.216666666666667"
        ],
        [
         "1123392",
         "28080056",
         "1115612",
         "M",
         null,
         "2023-04-01 00:01:54",
         "2023-04-01 00:22:12",
         "193",
         "34",
         "1998.0",
         "20.3"
        ],
        [
         "1123393",
         "28080059",
         "611033",
         "M",
         null,
         "2023-04-01 00:03:13",
         "2023-04-01 00:19:46",
         "79",
         "275",
         "2001.0",
         "16.55"
        ],
        [
         "1123394",
         "28080062",
         "21043",
         "M",
         null,
         "2023-04-01 00:04:28",
         "2023-04-01 00:24:49",
         "50",
         "303",
         "1990.0",
         "20.35"
        ]
       ],
       "shape": {
        "columns": 10,
        "rows": 5
       }
      },
      "text/html": [
       "<div>\n",
       "<style scoped>\n",
       "    .dataframe tbody tr th:only-of-type {\n",
       "        vertical-align: middle;\n",
       "    }\n",
       "\n",
       "    .dataframe tbody tr th {\n",
       "        vertical-align: top;\n",
       "    }\n",
       "\n",
       "    .dataframe thead th {\n",
       "        text-align: right;\n",
       "    }\n",
       "</style>\n",
       "<table border=\"1\" class=\"dataframe\">\n",
       "  <thead>\n",
       "    <tr style=\"text-align: right;\">\n",
       "      <th></th>\n",
       "      <th>Viaje_Id</th>\n",
       "      <th>Usuario_Id</th>\n",
       "      <th>Genero</th>\n",
       "      <th>Año_de_nacimiento</th>\n",
       "      <th>Inicio_del_viaje</th>\n",
       "      <th>Fin_del_viaje</th>\n",
       "      <th>Origen_Id</th>\n",
       "      <th>Destino_Id</th>\n",
       "      <th>A}äe_nacimiento</th>\n",
       "      <th>Tiempo_viaje</th>\n",
       "    </tr>\n",
       "  </thead>\n",
       "  <tbody>\n",
       "    <tr>\n",
       "      <th>1123390</th>\n",
       "      <td>28080053</td>\n",
       "      <td>2125076</td>\n",
       "      <td>M</td>\n",
       "      <td>NaN</td>\n",
       "      <td>2023-04-01 00:00:13</td>\n",
       "      <td>2023-04-01 00:19:22</td>\n",
       "      <td>154</td>\n",
       "      <td>95</td>\n",
       "      <td>1996.0</td>\n",
       "      <td>19.150000</td>\n",
       "    </tr>\n",
       "    <tr>\n",
       "      <th>1123391</th>\n",
       "      <td>28080054</td>\n",
       "      <td>316101</td>\n",
       "      <td>M</td>\n",
       "      <td>NaN</td>\n",
       "      <td>2023-04-01 00:00:13</td>\n",
       "      <td>2023-04-01 00:06:26</td>\n",
       "      <td>154</td>\n",
       "      <td>170</td>\n",
       "      <td>1990.0</td>\n",
       "      <td>6.216667</td>\n",
       "    </tr>\n",
       "    <tr>\n",
       "      <th>1123392</th>\n",
       "      <td>28080056</td>\n",
       "      <td>1115612</td>\n",
       "      <td>M</td>\n",
       "      <td>NaN</td>\n",
       "      <td>2023-04-01 00:01:54</td>\n",
       "      <td>2023-04-01 00:22:12</td>\n",
       "      <td>193</td>\n",
       "      <td>34</td>\n",
       "      <td>1998.0</td>\n",
       "      <td>20.300000</td>\n",
       "    </tr>\n",
       "    <tr>\n",
       "      <th>1123393</th>\n",
       "      <td>28080059</td>\n",
       "      <td>611033</td>\n",
       "      <td>M</td>\n",
       "      <td>NaN</td>\n",
       "      <td>2023-04-01 00:03:13</td>\n",
       "      <td>2023-04-01 00:19:46</td>\n",
       "      <td>79</td>\n",
       "      <td>275</td>\n",
       "      <td>2001.0</td>\n",
       "      <td>16.550000</td>\n",
       "    </tr>\n",
       "    <tr>\n",
       "      <th>1123394</th>\n",
       "      <td>28080062</td>\n",
       "      <td>21043</td>\n",
       "      <td>M</td>\n",
       "      <td>NaN</td>\n",
       "      <td>2023-04-01 00:04:28</td>\n",
       "      <td>2023-04-01 00:24:49</td>\n",
       "      <td>50</td>\n",
       "      <td>303</td>\n",
       "      <td>1990.0</td>\n",
       "      <td>20.350000</td>\n",
       "    </tr>\n",
       "  </tbody>\n",
       "</table>\n",
       "</div>"
      ],
      "text/plain": [
       "         Viaje_Id  Usuario_Id Genero  Año_de_nacimiento     Inicio_del_viaje  \\\n",
       "1123390  28080053     2125076      M                NaN  2023-04-01 00:00:13   \n",
       "1123391  28080054      316101      M                NaN  2023-04-01 00:00:13   \n",
       "1123392  28080056     1115612      M                NaN  2023-04-01 00:01:54   \n",
       "1123393  28080059      611033      M                NaN  2023-04-01 00:03:13   \n",
       "1123394  28080062       21043      M                NaN  2023-04-01 00:04:28   \n",
       "\n",
       "               Fin_del_viaje  Origen_Id  Destino_Id  A}äe_nacimiento  \\\n",
       "1123390  2023-04-01 00:19:22        154          95           1996.0   \n",
       "1123391  2023-04-01 00:06:26        154         170           1990.0   \n",
       "1123392  2023-04-01 00:22:12        193          34           1998.0   \n",
       "1123393  2023-04-01 00:19:46         79         275           2001.0   \n",
       "1123394  2023-04-01 00:24:49         50         303           1990.0   \n",
       "\n",
       "         Tiempo_viaje  \n",
       "1123390     19.150000  \n",
       "1123391      6.216667  \n",
       "1123392     20.300000  \n",
       "1123393     16.550000  \n",
       "1123394     20.350000  "
      ]
     },
     "execution_count": 48,
     "metadata": {},
     "output_type": "execute_result"
    }
   ],
   "source": [
    "col_name = columns[-2]\n",
    "\n",
    "problem = mibici_2023[mibici_2023[col_name].isna() != True]\n",
    "problem.head()"
   ]
  },
  {
   "cell_type": "code",
   "execution_count": 49,
   "id": "076eba14",
   "metadata": {},
   "outputs": [
    {
     "data": {
      "application/vnd.microsoft.datawrangler.viewer.v0+json": {
       "columns": [
        {
         "name": "index",
         "rawType": "int64",
         "type": "integer"
        },
        {
         "name": "Viaje_Id",
         "rawType": "int64",
         "type": "integer"
        },
        {
         "name": "Usuario_Id",
         "rawType": "int64",
         "type": "integer"
        },
        {
         "name": "Genero",
         "rawType": "object",
         "type": "unknown"
        },
        {
         "name": "Año_de_nacimiento",
         "rawType": "float64",
         "type": "float"
        },
        {
         "name": "Inicio_del_viaje",
         "rawType": "object",
         "type": "string"
        },
        {
         "name": "Fin_del_viaje",
         "rawType": "object",
         "type": "string"
        },
        {
         "name": "Origen_Id",
         "rawType": "int64",
         "type": "integer"
        },
        {
         "name": "Destino_Id",
         "rawType": "int64",
         "type": "integer"
        },
        {
         "name": "A}äe_nacimiento",
         "rawType": "float64",
         "type": "float"
        },
        {
         "name": "Tiempo_viaje",
         "rawType": "float64",
         "type": "float"
        }
       ],
       "conversionMethod": "pd.DataFrame",
       "ref": "3b132a6c-a901-4abf-83e4-7d2576da369b",
       "rows": [
        [
         "1820351",
         "28897242",
         "1716032",
         "M",
         null,
         "2023-05-31 23:59:22",
         "2023-06-01 00:09:55",
         "200",
         "20",
         "1995.0",
         "10.55"
        ],
        [
         "1820352",
         "28897243",
         "1542511",
         null,
         null,
         "2023-05-31 23:59:40",
         "2023-06-01 00:24:55",
         "88",
         "327",
         "1998.0",
         "25.25"
        ],
        [
         "1820353",
         "28897244",
         "631056",
         "M",
         null,
         "2023-05-31 23:59:43",
         "2023-06-01 00:02:58",
         "66",
         "43",
         "1998.0",
         "3.25"
        ],
        [
         "1820354",
         "28897245",
         "610456",
         "M",
         null,
         "2023-05-31 23:59:47",
         "2023-06-01 00:13:06",
         "153",
         "234",
         "1993.0",
         "13.316666666666666"
        ],
        [
         "1820355",
         "28897246",
         "1667143",
         "M",
         null,
         "2023-05-31 23:59:48",
         "2023-06-01 00:05:47",
         "227",
         "232",
         "1997.0",
         "5.983333333333333"
        ]
       ],
       "shape": {
        "columns": 10,
        "rows": 5
       }
      },
      "text/html": [
       "<div>\n",
       "<style scoped>\n",
       "    .dataframe tbody tr th:only-of-type {\n",
       "        vertical-align: middle;\n",
       "    }\n",
       "\n",
       "    .dataframe tbody tr th {\n",
       "        vertical-align: top;\n",
       "    }\n",
       "\n",
       "    .dataframe thead th {\n",
       "        text-align: right;\n",
       "    }\n",
       "</style>\n",
       "<table border=\"1\" class=\"dataframe\">\n",
       "  <thead>\n",
       "    <tr style=\"text-align: right;\">\n",
       "      <th></th>\n",
       "      <th>Viaje_Id</th>\n",
       "      <th>Usuario_Id</th>\n",
       "      <th>Genero</th>\n",
       "      <th>Año_de_nacimiento</th>\n",
       "      <th>Inicio_del_viaje</th>\n",
       "      <th>Fin_del_viaje</th>\n",
       "      <th>Origen_Id</th>\n",
       "      <th>Destino_Id</th>\n",
       "      <th>A}äe_nacimiento</th>\n",
       "      <th>Tiempo_viaje</th>\n",
       "    </tr>\n",
       "  </thead>\n",
       "  <tbody>\n",
       "    <tr>\n",
       "      <th>1820351</th>\n",
       "      <td>28897242</td>\n",
       "      <td>1716032</td>\n",
       "      <td>M</td>\n",
       "      <td>NaN</td>\n",
       "      <td>2023-05-31 23:59:22</td>\n",
       "      <td>2023-06-01 00:09:55</td>\n",
       "      <td>200</td>\n",
       "      <td>20</td>\n",
       "      <td>1995.0</td>\n",
       "      <td>10.550000</td>\n",
       "    </tr>\n",
       "    <tr>\n",
       "      <th>1820352</th>\n",
       "      <td>28897243</td>\n",
       "      <td>1542511</td>\n",
       "      <td>NaN</td>\n",
       "      <td>NaN</td>\n",
       "      <td>2023-05-31 23:59:40</td>\n",
       "      <td>2023-06-01 00:24:55</td>\n",
       "      <td>88</td>\n",
       "      <td>327</td>\n",
       "      <td>1998.0</td>\n",
       "      <td>25.250000</td>\n",
       "    </tr>\n",
       "    <tr>\n",
       "      <th>1820353</th>\n",
       "      <td>28897244</td>\n",
       "      <td>631056</td>\n",
       "      <td>M</td>\n",
       "      <td>NaN</td>\n",
       "      <td>2023-05-31 23:59:43</td>\n",
       "      <td>2023-06-01 00:02:58</td>\n",
       "      <td>66</td>\n",
       "      <td>43</td>\n",
       "      <td>1998.0</td>\n",
       "      <td>3.250000</td>\n",
       "    </tr>\n",
       "    <tr>\n",
       "      <th>1820354</th>\n",
       "      <td>28897245</td>\n",
       "      <td>610456</td>\n",
       "      <td>M</td>\n",
       "      <td>NaN</td>\n",
       "      <td>2023-05-31 23:59:47</td>\n",
       "      <td>2023-06-01 00:13:06</td>\n",
       "      <td>153</td>\n",
       "      <td>234</td>\n",
       "      <td>1993.0</td>\n",
       "      <td>13.316667</td>\n",
       "    </tr>\n",
       "    <tr>\n",
       "      <th>1820355</th>\n",
       "      <td>28897246</td>\n",
       "      <td>1667143</td>\n",
       "      <td>M</td>\n",
       "      <td>NaN</td>\n",
       "      <td>2023-05-31 23:59:48</td>\n",
       "      <td>2023-06-01 00:05:47</td>\n",
       "      <td>227</td>\n",
       "      <td>232</td>\n",
       "      <td>1997.0</td>\n",
       "      <td>5.983333</td>\n",
       "    </tr>\n",
       "  </tbody>\n",
       "</table>\n",
       "</div>"
      ],
      "text/plain": [
       "         Viaje_Id  Usuario_Id Genero  Año_de_nacimiento     Inicio_del_viaje  \\\n",
       "1820351  28897242     1716032      M                NaN  2023-05-31 23:59:22   \n",
       "1820352  28897243     1542511    NaN                NaN  2023-05-31 23:59:40   \n",
       "1820353  28897244      631056      M                NaN  2023-05-31 23:59:43   \n",
       "1820354  28897245      610456      M                NaN  2023-05-31 23:59:47   \n",
       "1820355  28897246     1667143      M                NaN  2023-05-31 23:59:48   \n",
       "\n",
       "               Fin_del_viaje  Origen_Id  Destino_Id  A}äe_nacimiento  \\\n",
       "1820351  2023-06-01 00:09:55        200          20           1995.0   \n",
       "1820352  2023-06-01 00:24:55         88         327           1998.0   \n",
       "1820353  2023-06-01 00:02:58         66          43           1998.0   \n",
       "1820354  2023-06-01 00:13:06        153         234           1993.0   \n",
       "1820355  2023-06-01 00:05:47        227         232           1997.0   \n",
       "\n",
       "         Tiempo_viaje  \n",
       "1820351     10.550000  \n",
       "1820352     25.250000  \n",
       "1820353      3.250000  \n",
       "1820354     13.316667  \n",
       "1820355      5.983333  "
      ]
     },
     "execution_count": 49,
     "metadata": {},
     "output_type": "execute_result"
    }
   ],
   "source": [
    "problem.tail()"
   ]
  },
  {
   "cell_type": "code",
   "execution_count": 50,
   "id": "6250e3da",
   "metadata": {},
   "outputs": [
    {
     "name": "stderr",
     "output_type": "stream",
     "text": [
      "/var/folders/vk/zp_d1g0941s_66x6rkq_912w0000gn/T/ipykernel_5307/423255544.py:1: FutureWarning: A value is trying to be set on a copy of a DataFrame or Series through chained assignment using an inplace method.\n",
      "The behavior will change in pandas 3.0. This inplace method will never work because the intermediate object on which we are setting values always behaves as a copy.\n",
      "\n",
      "For example, when doing 'df[col].method(value, inplace=True)', try using 'df.method({col: value}, inplace=True)' or df[col] = df[col].method(value) instead, to perform the operation inplace on the original object.\n",
      "\n",
      "\n",
      "  mibici_2023['Año_de_nacimiento'].fillna(mibici_2023[col_name], inplace=True)\n"
     ]
    }
   ],
   "source": [
    "mibici_2023['Año_de_nacimiento'].fillna(mibici_2023[col_name], inplace=True)"
   ]
  },
  {
   "cell_type": "code",
   "execution_count": 51,
   "id": "ddbbb727",
   "metadata": {},
   "outputs": [
    {
     "data": {
      "application/vnd.microsoft.datawrangler.viewer.v0+json": {
       "columns": [
        {
         "name": "index",
         "rawType": "int64",
         "type": "integer"
        },
        {
         "name": "Viaje_Id",
         "rawType": "int64",
         "type": "integer"
        },
        {
         "name": "Usuario_Id",
         "rawType": "int64",
         "type": "integer"
        },
        {
         "name": "Genero",
         "rawType": "object",
         "type": "string"
        },
        {
         "name": "Año_de_nacimiento",
         "rawType": "float64",
         "type": "float"
        },
        {
         "name": "Inicio_del_viaje",
         "rawType": "object",
         "type": "string"
        },
        {
         "name": "Fin_del_viaje",
         "rawType": "object",
         "type": "string"
        },
        {
         "name": "Origen_Id",
         "rawType": "int64",
         "type": "integer"
        },
        {
         "name": "Destino_Id",
         "rawType": "int64",
         "type": "integer"
        },
        {
         "name": "A}äe_nacimiento",
         "rawType": "float64",
         "type": "float"
        },
        {
         "name": "Tiempo_viaje",
         "rawType": "float64",
         "type": "float"
        }
       ],
       "conversionMethod": "pd.DataFrame",
       "ref": "e1243207-c4a6-437f-b666-dc0e18712875",
       "rows": [
        [
         "1123390",
         "28080053",
         "2125076",
         "M",
         "1996.0",
         "2023-04-01 00:00:13",
         "2023-04-01 00:19:22",
         "154",
         "95",
         "1996.0",
         "19.15"
        ],
        [
         "1123391",
         "28080054",
         "316101",
         "M",
         "1990.0",
         "2023-04-01 00:00:13",
         "2023-04-01 00:06:26",
         "154",
         "170",
         "1990.0",
         "6.216666666666667"
        ],
        [
         "1123392",
         "28080056",
         "1115612",
         "M",
         "1998.0",
         "2023-04-01 00:01:54",
         "2023-04-01 00:22:12",
         "193",
         "34",
         "1998.0",
         "20.3"
        ],
        [
         "1123393",
         "28080059",
         "611033",
         "M",
         "2001.0",
         "2023-04-01 00:03:13",
         "2023-04-01 00:19:46",
         "79",
         "275",
         "2001.0",
         "16.55"
        ],
        [
         "1123394",
         "28080062",
         "21043",
         "M",
         "1990.0",
         "2023-04-01 00:04:28",
         "2023-04-01 00:24:49",
         "50",
         "303",
         "1990.0",
         "20.35"
        ]
       ],
       "shape": {
        "columns": 10,
        "rows": 5
       }
      },
      "text/html": [
       "<div>\n",
       "<style scoped>\n",
       "    .dataframe tbody tr th:only-of-type {\n",
       "        vertical-align: middle;\n",
       "    }\n",
       "\n",
       "    .dataframe tbody tr th {\n",
       "        vertical-align: top;\n",
       "    }\n",
       "\n",
       "    .dataframe thead th {\n",
       "        text-align: right;\n",
       "    }\n",
       "</style>\n",
       "<table border=\"1\" class=\"dataframe\">\n",
       "  <thead>\n",
       "    <tr style=\"text-align: right;\">\n",
       "      <th></th>\n",
       "      <th>Viaje_Id</th>\n",
       "      <th>Usuario_Id</th>\n",
       "      <th>Genero</th>\n",
       "      <th>Año_de_nacimiento</th>\n",
       "      <th>Inicio_del_viaje</th>\n",
       "      <th>Fin_del_viaje</th>\n",
       "      <th>Origen_Id</th>\n",
       "      <th>Destino_Id</th>\n",
       "      <th>A}äe_nacimiento</th>\n",
       "      <th>Tiempo_viaje</th>\n",
       "    </tr>\n",
       "  </thead>\n",
       "  <tbody>\n",
       "    <tr>\n",
       "      <th>1123390</th>\n",
       "      <td>28080053</td>\n",
       "      <td>2125076</td>\n",
       "      <td>M</td>\n",
       "      <td>1996.0</td>\n",
       "      <td>2023-04-01 00:00:13</td>\n",
       "      <td>2023-04-01 00:19:22</td>\n",
       "      <td>154</td>\n",
       "      <td>95</td>\n",
       "      <td>1996.0</td>\n",
       "      <td>19.150000</td>\n",
       "    </tr>\n",
       "    <tr>\n",
       "      <th>1123391</th>\n",
       "      <td>28080054</td>\n",
       "      <td>316101</td>\n",
       "      <td>M</td>\n",
       "      <td>1990.0</td>\n",
       "      <td>2023-04-01 00:00:13</td>\n",
       "      <td>2023-04-01 00:06:26</td>\n",
       "      <td>154</td>\n",
       "      <td>170</td>\n",
       "      <td>1990.0</td>\n",
       "      <td>6.216667</td>\n",
       "    </tr>\n",
       "    <tr>\n",
       "      <th>1123392</th>\n",
       "      <td>28080056</td>\n",
       "      <td>1115612</td>\n",
       "      <td>M</td>\n",
       "      <td>1998.0</td>\n",
       "      <td>2023-04-01 00:01:54</td>\n",
       "      <td>2023-04-01 00:22:12</td>\n",
       "      <td>193</td>\n",
       "      <td>34</td>\n",
       "      <td>1998.0</td>\n",
       "      <td>20.300000</td>\n",
       "    </tr>\n",
       "    <tr>\n",
       "      <th>1123393</th>\n",
       "      <td>28080059</td>\n",
       "      <td>611033</td>\n",
       "      <td>M</td>\n",
       "      <td>2001.0</td>\n",
       "      <td>2023-04-01 00:03:13</td>\n",
       "      <td>2023-04-01 00:19:46</td>\n",
       "      <td>79</td>\n",
       "      <td>275</td>\n",
       "      <td>2001.0</td>\n",
       "      <td>16.550000</td>\n",
       "    </tr>\n",
       "    <tr>\n",
       "      <th>1123394</th>\n",
       "      <td>28080062</td>\n",
       "      <td>21043</td>\n",
       "      <td>M</td>\n",
       "      <td>1990.0</td>\n",
       "      <td>2023-04-01 00:04:28</td>\n",
       "      <td>2023-04-01 00:24:49</td>\n",
       "      <td>50</td>\n",
       "      <td>303</td>\n",
       "      <td>1990.0</td>\n",
       "      <td>20.350000</td>\n",
       "    </tr>\n",
       "  </tbody>\n",
       "</table>\n",
       "</div>"
      ],
      "text/plain": [
       "         Viaje_Id  Usuario_Id Genero  Año_de_nacimiento     Inicio_del_viaje  \\\n",
       "1123390  28080053     2125076      M             1996.0  2023-04-01 00:00:13   \n",
       "1123391  28080054      316101      M             1990.0  2023-04-01 00:00:13   \n",
       "1123392  28080056     1115612      M             1998.0  2023-04-01 00:01:54   \n",
       "1123393  28080059      611033      M             2001.0  2023-04-01 00:03:13   \n",
       "1123394  28080062       21043      M             1990.0  2023-04-01 00:04:28   \n",
       "\n",
       "               Fin_del_viaje  Origen_Id  Destino_Id  A}äe_nacimiento  \\\n",
       "1123390  2023-04-01 00:19:22        154          95           1996.0   \n",
       "1123391  2023-04-01 00:06:26        154         170           1990.0   \n",
       "1123392  2023-04-01 00:22:12        193          34           1998.0   \n",
       "1123393  2023-04-01 00:19:46         79         275           2001.0   \n",
       "1123394  2023-04-01 00:24:49         50         303           1990.0   \n",
       "\n",
       "         Tiempo_viaje  \n",
       "1123390     19.150000  \n",
       "1123391      6.216667  \n",
       "1123392     20.300000  \n",
       "1123393     16.550000  \n",
       "1123394     20.350000  "
      ]
     },
     "execution_count": 51,
     "metadata": {},
     "output_type": "execute_result"
    }
   ],
   "source": [
    "mibici_2023[mibici_2023[col_name].isna() != True].head()"
   ]
  },
  {
   "cell_type": "code",
   "execution_count": 52,
   "id": "e8bc341a",
   "metadata": {},
   "outputs": [
    {
     "data": {
      "application/vnd.microsoft.datawrangler.viewer.v0+json": {
       "columns": [
        {
         "name": "index",
         "rawType": "int64",
         "type": "integer"
        },
        {
         "name": "Viaje_Id",
         "rawType": "int64",
         "type": "integer"
        },
        {
         "name": "Usuario_Id",
         "rawType": "int64",
         "type": "integer"
        },
        {
         "name": "Genero",
         "rawType": "object",
         "type": "unknown"
        },
        {
         "name": "Año_de_nacimiento",
         "rawType": "float64",
         "type": "float"
        },
        {
         "name": "Inicio_del_viaje",
         "rawType": "object",
         "type": "string"
        },
        {
         "name": "Fin_del_viaje",
         "rawType": "object",
         "type": "string"
        },
        {
         "name": "Origen_Id",
         "rawType": "int64",
         "type": "integer"
        },
        {
         "name": "Destino_Id",
         "rawType": "int64",
         "type": "integer"
        },
        {
         "name": "A}äe_nacimiento",
         "rawType": "float64",
         "type": "float"
        },
        {
         "name": "Tiempo_viaje",
         "rawType": "float64",
         "type": "float"
        }
       ],
       "conversionMethod": "pd.DataFrame",
       "ref": "55557e56-32e7-46fd-b7a3-e96cdf9bd636",
       "rows": [
        [
         "1820351",
         "28897242",
         "1716032",
         "M",
         "1995.0",
         "2023-05-31 23:59:22",
         "2023-06-01 00:09:55",
         "200",
         "20",
         "1995.0",
         "10.55"
        ],
        [
         "1820352",
         "28897243",
         "1542511",
         null,
         "1998.0",
         "2023-05-31 23:59:40",
         "2023-06-01 00:24:55",
         "88",
         "327",
         "1998.0",
         "25.25"
        ],
        [
         "1820353",
         "28897244",
         "631056",
         "M",
         "1998.0",
         "2023-05-31 23:59:43",
         "2023-06-01 00:02:58",
         "66",
         "43",
         "1998.0",
         "3.25"
        ],
        [
         "1820354",
         "28897245",
         "610456",
         "M",
         "1993.0",
         "2023-05-31 23:59:47",
         "2023-06-01 00:13:06",
         "153",
         "234",
         "1993.0",
         "13.316666666666666"
        ],
        [
         "1820355",
         "28897246",
         "1667143",
         "M",
         "1997.0",
         "2023-05-31 23:59:48",
         "2023-06-01 00:05:47",
         "227",
         "232",
         "1997.0",
         "5.983333333333333"
        ]
       ],
       "shape": {
        "columns": 10,
        "rows": 5
       }
      },
      "text/html": [
       "<div>\n",
       "<style scoped>\n",
       "    .dataframe tbody tr th:only-of-type {\n",
       "        vertical-align: middle;\n",
       "    }\n",
       "\n",
       "    .dataframe tbody tr th {\n",
       "        vertical-align: top;\n",
       "    }\n",
       "\n",
       "    .dataframe thead th {\n",
       "        text-align: right;\n",
       "    }\n",
       "</style>\n",
       "<table border=\"1\" class=\"dataframe\">\n",
       "  <thead>\n",
       "    <tr style=\"text-align: right;\">\n",
       "      <th></th>\n",
       "      <th>Viaje_Id</th>\n",
       "      <th>Usuario_Id</th>\n",
       "      <th>Genero</th>\n",
       "      <th>Año_de_nacimiento</th>\n",
       "      <th>Inicio_del_viaje</th>\n",
       "      <th>Fin_del_viaje</th>\n",
       "      <th>Origen_Id</th>\n",
       "      <th>Destino_Id</th>\n",
       "      <th>A}äe_nacimiento</th>\n",
       "      <th>Tiempo_viaje</th>\n",
       "    </tr>\n",
       "  </thead>\n",
       "  <tbody>\n",
       "    <tr>\n",
       "      <th>1820351</th>\n",
       "      <td>28897242</td>\n",
       "      <td>1716032</td>\n",
       "      <td>M</td>\n",
       "      <td>1995.0</td>\n",
       "      <td>2023-05-31 23:59:22</td>\n",
       "      <td>2023-06-01 00:09:55</td>\n",
       "      <td>200</td>\n",
       "      <td>20</td>\n",
       "      <td>1995.0</td>\n",
       "      <td>10.550000</td>\n",
       "    </tr>\n",
       "    <tr>\n",
       "      <th>1820352</th>\n",
       "      <td>28897243</td>\n",
       "      <td>1542511</td>\n",
       "      <td>NaN</td>\n",
       "      <td>1998.0</td>\n",
       "      <td>2023-05-31 23:59:40</td>\n",
       "      <td>2023-06-01 00:24:55</td>\n",
       "      <td>88</td>\n",
       "      <td>327</td>\n",
       "      <td>1998.0</td>\n",
       "      <td>25.250000</td>\n",
       "    </tr>\n",
       "    <tr>\n",
       "      <th>1820353</th>\n",
       "      <td>28897244</td>\n",
       "      <td>631056</td>\n",
       "      <td>M</td>\n",
       "      <td>1998.0</td>\n",
       "      <td>2023-05-31 23:59:43</td>\n",
       "      <td>2023-06-01 00:02:58</td>\n",
       "      <td>66</td>\n",
       "      <td>43</td>\n",
       "      <td>1998.0</td>\n",
       "      <td>3.250000</td>\n",
       "    </tr>\n",
       "    <tr>\n",
       "      <th>1820354</th>\n",
       "      <td>28897245</td>\n",
       "      <td>610456</td>\n",
       "      <td>M</td>\n",
       "      <td>1993.0</td>\n",
       "      <td>2023-05-31 23:59:47</td>\n",
       "      <td>2023-06-01 00:13:06</td>\n",
       "      <td>153</td>\n",
       "      <td>234</td>\n",
       "      <td>1993.0</td>\n",
       "      <td>13.316667</td>\n",
       "    </tr>\n",
       "    <tr>\n",
       "      <th>1820355</th>\n",
       "      <td>28897246</td>\n",
       "      <td>1667143</td>\n",
       "      <td>M</td>\n",
       "      <td>1997.0</td>\n",
       "      <td>2023-05-31 23:59:48</td>\n",
       "      <td>2023-06-01 00:05:47</td>\n",
       "      <td>227</td>\n",
       "      <td>232</td>\n",
       "      <td>1997.0</td>\n",
       "      <td>5.983333</td>\n",
       "    </tr>\n",
       "  </tbody>\n",
       "</table>\n",
       "</div>"
      ],
      "text/plain": [
       "         Viaje_Id  Usuario_Id Genero  Año_de_nacimiento     Inicio_del_viaje  \\\n",
       "1820351  28897242     1716032      M             1995.0  2023-05-31 23:59:22   \n",
       "1820352  28897243     1542511    NaN             1998.0  2023-05-31 23:59:40   \n",
       "1820353  28897244      631056      M             1998.0  2023-05-31 23:59:43   \n",
       "1820354  28897245      610456      M             1993.0  2023-05-31 23:59:47   \n",
       "1820355  28897246     1667143      M             1997.0  2023-05-31 23:59:48   \n",
       "\n",
       "               Fin_del_viaje  Origen_Id  Destino_Id  A}äe_nacimiento  \\\n",
       "1820351  2023-06-01 00:09:55        200          20           1995.0   \n",
       "1820352  2023-06-01 00:24:55         88         327           1998.0   \n",
       "1820353  2023-06-01 00:02:58         66          43           1998.0   \n",
       "1820354  2023-06-01 00:13:06        153         234           1993.0   \n",
       "1820355  2023-06-01 00:05:47        227         232           1997.0   \n",
       "\n",
       "         Tiempo_viaje  \n",
       "1820351     10.550000  \n",
       "1820352     25.250000  \n",
       "1820353      3.250000  \n",
       "1820354     13.316667  \n",
       "1820355      5.983333  "
      ]
     },
     "execution_count": 52,
     "metadata": {},
     "output_type": "execute_result"
    }
   ],
   "source": [
    "mibici_2023[mibici_2023[col_name].isna() != True].tail()"
   ]
  },
  {
   "cell_type": "code",
   "execution_count": 53,
   "id": "0ff82fc5",
   "metadata": {},
   "outputs": [
    {
     "data": {
      "application/vnd.microsoft.datawrangler.viewer.v0+json": {
       "columns": [
        {
         "name": "index",
         "rawType": "int64",
         "type": "integer"
        },
        {
         "name": "Viaje_Id",
         "rawType": "int64",
         "type": "integer"
        },
        {
         "name": "Usuario_Id",
         "rawType": "int64",
         "type": "integer"
        },
        {
         "name": "Genero",
         "rawType": "object",
         "type": "string"
        },
        {
         "name": "Año_de_nacimiento",
         "rawType": "float64",
         "type": "float"
        },
        {
         "name": "Inicio_del_viaje",
         "rawType": "object",
         "type": "string"
        },
        {
         "name": "Fin_del_viaje",
         "rawType": "object",
         "type": "string"
        },
        {
         "name": "Origen_Id",
         "rawType": "int64",
         "type": "integer"
        },
        {
         "name": "Destino_Id",
         "rawType": "int64",
         "type": "integer"
        },
        {
         "name": "Tiempo_viaje",
         "rawType": "float64",
         "type": "float"
        }
       ],
       "conversionMethod": "pd.DataFrame",
       "ref": "cdde6394-cf67-4fb1-a0cb-c62a8c90ed4f",
       "rows": [
        [
         "0",
         "26751198",
         "1350606",
         "M",
         "1983.0",
         "2023-01-01 00:00:41",
         "2023-01-01 00:26:52",
         "154",
         "50",
         "26.183333333333337"
        ],
        [
         "1",
         "26751199",
         "15163",
         "M",
         "1986.0",
         "2023-01-01 00:04:48",
         "2023-01-01 00:07:46",
         "64",
         "79",
         "2.966666666666667"
        ],
        [
         "2",
         "26751200",
         "1534764",
         "M",
         "1987.0",
         "2023-01-01 00:06:49",
         "2023-01-01 00:17:36",
         "35",
         "12",
         "10.783333333333331"
        ],
        [
         "3",
         "26751201",
         "1240140",
         "M",
         "1996.0",
         "2023-01-01 00:08:05",
         "2023-01-01 00:09:00",
         "35",
         "35",
         "0.9166666666666666"
        ],
        [
         "4",
         "26751202",
         "1732214",
         "M",
         "1969.0",
         "2023-01-01 00:09:14",
         "2023-01-01 00:14:57",
         "54",
         "171",
         "5.716666666666667"
        ]
       ],
       "shape": {
        "columns": 9,
        "rows": 5
       }
      },
      "text/html": [
       "<div>\n",
       "<style scoped>\n",
       "    .dataframe tbody tr th:only-of-type {\n",
       "        vertical-align: middle;\n",
       "    }\n",
       "\n",
       "    .dataframe tbody tr th {\n",
       "        vertical-align: top;\n",
       "    }\n",
       "\n",
       "    .dataframe thead th {\n",
       "        text-align: right;\n",
       "    }\n",
       "</style>\n",
       "<table border=\"1\" class=\"dataframe\">\n",
       "  <thead>\n",
       "    <tr style=\"text-align: right;\">\n",
       "      <th></th>\n",
       "      <th>Viaje_Id</th>\n",
       "      <th>Usuario_Id</th>\n",
       "      <th>Genero</th>\n",
       "      <th>Año_de_nacimiento</th>\n",
       "      <th>Inicio_del_viaje</th>\n",
       "      <th>Fin_del_viaje</th>\n",
       "      <th>Origen_Id</th>\n",
       "      <th>Destino_Id</th>\n",
       "      <th>Tiempo_viaje</th>\n",
       "    </tr>\n",
       "  </thead>\n",
       "  <tbody>\n",
       "    <tr>\n",
       "      <th>0</th>\n",
       "      <td>26751198</td>\n",
       "      <td>1350606</td>\n",
       "      <td>M</td>\n",
       "      <td>1983.0</td>\n",
       "      <td>2023-01-01 00:00:41</td>\n",
       "      <td>2023-01-01 00:26:52</td>\n",
       "      <td>154</td>\n",
       "      <td>50</td>\n",
       "      <td>26.183333</td>\n",
       "    </tr>\n",
       "    <tr>\n",
       "      <th>1</th>\n",
       "      <td>26751199</td>\n",
       "      <td>15163</td>\n",
       "      <td>M</td>\n",
       "      <td>1986.0</td>\n",
       "      <td>2023-01-01 00:04:48</td>\n",
       "      <td>2023-01-01 00:07:46</td>\n",
       "      <td>64</td>\n",
       "      <td>79</td>\n",
       "      <td>2.966667</td>\n",
       "    </tr>\n",
       "    <tr>\n",
       "      <th>2</th>\n",
       "      <td>26751200</td>\n",
       "      <td>1534764</td>\n",
       "      <td>M</td>\n",
       "      <td>1987.0</td>\n",
       "      <td>2023-01-01 00:06:49</td>\n",
       "      <td>2023-01-01 00:17:36</td>\n",
       "      <td>35</td>\n",
       "      <td>12</td>\n",
       "      <td>10.783333</td>\n",
       "    </tr>\n",
       "    <tr>\n",
       "      <th>3</th>\n",
       "      <td>26751201</td>\n",
       "      <td>1240140</td>\n",
       "      <td>M</td>\n",
       "      <td>1996.0</td>\n",
       "      <td>2023-01-01 00:08:05</td>\n",
       "      <td>2023-01-01 00:09:00</td>\n",
       "      <td>35</td>\n",
       "      <td>35</td>\n",
       "      <td>0.916667</td>\n",
       "    </tr>\n",
       "    <tr>\n",
       "      <th>4</th>\n",
       "      <td>26751202</td>\n",
       "      <td>1732214</td>\n",
       "      <td>M</td>\n",
       "      <td>1969.0</td>\n",
       "      <td>2023-01-01 00:09:14</td>\n",
       "      <td>2023-01-01 00:14:57</td>\n",
       "      <td>54</td>\n",
       "      <td>171</td>\n",
       "      <td>5.716667</td>\n",
       "    </tr>\n",
       "  </tbody>\n",
       "</table>\n",
       "</div>"
      ],
      "text/plain": [
       "   Viaje_Id  Usuario_Id Genero  Año_de_nacimiento     Inicio_del_viaje  \\\n",
       "0  26751198     1350606      M             1983.0  2023-01-01 00:00:41   \n",
       "1  26751199       15163      M             1986.0  2023-01-01 00:04:48   \n",
       "2  26751200     1534764      M             1987.0  2023-01-01 00:06:49   \n",
       "3  26751201     1240140      M             1996.0  2023-01-01 00:08:05   \n",
       "4  26751202     1732214      M             1969.0  2023-01-01 00:09:14   \n",
       "\n",
       "         Fin_del_viaje  Origen_Id  Destino_Id  Tiempo_viaje  \n",
       "0  2023-01-01 00:26:52        154          50     26.183333  \n",
       "1  2023-01-01 00:07:46         64          79      2.966667  \n",
       "2  2023-01-01 00:17:36         35          12     10.783333  \n",
       "3  2023-01-01 00:09:00         35          35      0.916667  \n",
       "4  2023-01-01 00:14:57         54         171      5.716667  "
      ]
     },
     "execution_count": 53,
     "metadata": {},
     "output_type": "execute_result"
    }
   ],
   "source": [
    "mibici_2023.drop(columns = [col_name], inplace = True)\n",
    "mibici_2023.head()"
   ]
  },
  {
   "cell_type": "code",
   "execution_count": 54,
   "id": "941751d4",
   "metadata": {},
   "outputs": [
    {
     "data": {
      "application/vnd.microsoft.datawrangler.viewer.v0+json": {
       "columns": [
        {
         "name": "index",
         "rawType": "int64",
         "type": "integer"
        },
        {
         "name": "Viaje_Id",
         "rawType": "int64",
         "type": "integer"
        },
        {
         "name": "Usuario_Id",
         "rawType": "int64",
         "type": "integer"
        },
        {
         "name": "Genero",
         "rawType": "object",
         "type": "string"
        },
        {
         "name": "Año_de_nacimiento",
         "rawType": "float64",
         "type": "float"
        },
        {
         "name": "Inicio_del_viaje",
         "rawType": "object",
         "type": "string"
        },
        {
         "name": "Fin_del_viaje",
         "rawType": "object",
         "type": "string"
        },
        {
         "name": "Origen_Id",
         "rawType": "int64",
         "type": "integer"
        },
        {
         "name": "Destino_Id",
         "rawType": "int64",
         "type": "integer"
        },
        {
         "name": "Tiempo_viaje",
         "rawType": "float64",
         "type": "float"
        },
        {
         "name": "Inicio",
         "rawType": "object",
         "type": "string"
        },
        {
         "name": "Fin",
         "rawType": "object",
         "type": "string"
        }
       ],
       "conversionMethod": "pd.DataFrame",
       "ref": "a8e85e0a-3e7e-496d-9e08-55dadd374be0",
       "rows": [
        [
         "0",
         "26751198",
         "1350606",
         "M",
         "1983.0",
         "2023-01-01 00:00:41",
         "2023-01-01 00:26:52",
         "154",
         "50",
         "26.183333333333337",
         "2023-01-01 00:00:41",
         "2023-01-01 00:26:52"
        ],
        [
         "1",
         "26751199",
         "15163",
         "M",
         "1986.0",
         "2023-01-01 00:04:48",
         "2023-01-01 00:07:46",
         "64",
         "79",
         "2.966666666666667",
         "2023-01-01 00:04:48",
         "2023-01-01 00:07:46"
        ],
        [
         "2",
         "26751200",
         "1534764",
         "M",
         "1987.0",
         "2023-01-01 00:06:49",
         "2023-01-01 00:17:36",
         "35",
         "12",
         "10.783333333333331",
         "2023-01-01 00:06:49",
         "2023-01-01 00:17:36"
        ],
        [
         "3",
         "26751201",
         "1240140",
         "M",
         "1996.0",
         "2023-01-01 00:08:05",
         "2023-01-01 00:09:00",
         "35",
         "35",
         "0.9166666666666666",
         "2023-01-01 00:08:05",
         "2023-01-01 00:09:00"
        ],
        [
         "4",
         "26751202",
         "1732214",
         "M",
         "1969.0",
         "2023-01-01 00:09:14",
         "2023-01-01 00:14:57",
         "54",
         "171",
         "5.716666666666667",
         "2023-01-01 00:09:14",
         "2023-01-01 00:14:57"
        ]
       ],
       "shape": {
        "columns": 11,
        "rows": 5
       }
      },
      "text/html": [
       "<div>\n",
       "<style scoped>\n",
       "    .dataframe tbody tr th:only-of-type {\n",
       "        vertical-align: middle;\n",
       "    }\n",
       "\n",
       "    .dataframe tbody tr th {\n",
       "        vertical-align: top;\n",
       "    }\n",
       "\n",
       "    .dataframe thead th {\n",
       "        text-align: right;\n",
       "    }\n",
       "</style>\n",
       "<table border=\"1\" class=\"dataframe\">\n",
       "  <thead>\n",
       "    <tr style=\"text-align: right;\">\n",
       "      <th></th>\n",
       "      <th>Viaje_Id</th>\n",
       "      <th>Usuario_Id</th>\n",
       "      <th>Genero</th>\n",
       "      <th>Año_de_nacimiento</th>\n",
       "      <th>Inicio_del_viaje</th>\n",
       "      <th>Fin_del_viaje</th>\n",
       "      <th>Origen_Id</th>\n",
       "      <th>Destino_Id</th>\n",
       "      <th>Tiempo_viaje</th>\n",
       "      <th>Inicio</th>\n",
       "      <th>Fin</th>\n",
       "    </tr>\n",
       "  </thead>\n",
       "  <tbody>\n",
       "    <tr>\n",
       "      <th>0</th>\n",
       "      <td>26751198</td>\n",
       "      <td>1350606</td>\n",
       "      <td>M</td>\n",
       "      <td>1983.0</td>\n",
       "      <td>2023-01-01 00:00:41</td>\n",
       "      <td>2023-01-01 00:26:52</td>\n",
       "      <td>154</td>\n",
       "      <td>50</td>\n",
       "      <td>26.183333</td>\n",
       "      <td>2023-01-01 00:00:41</td>\n",
       "      <td>2023-01-01 00:26:52</td>\n",
       "    </tr>\n",
       "    <tr>\n",
       "      <th>1</th>\n",
       "      <td>26751199</td>\n",
       "      <td>15163</td>\n",
       "      <td>M</td>\n",
       "      <td>1986.0</td>\n",
       "      <td>2023-01-01 00:04:48</td>\n",
       "      <td>2023-01-01 00:07:46</td>\n",
       "      <td>64</td>\n",
       "      <td>79</td>\n",
       "      <td>2.966667</td>\n",
       "      <td>2023-01-01 00:04:48</td>\n",
       "      <td>2023-01-01 00:07:46</td>\n",
       "    </tr>\n",
       "    <tr>\n",
       "      <th>2</th>\n",
       "      <td>26751200</td>\n",
       "      <td>1534764</td>\n",
       "      <td>M</td>\n",
       "      <td>1987.0</td>\n",
       "      <td>2023-01-01 00:06:49</td>\n",
       "      <td>2023-01-01 00:17:36</td>\n",
       "      <td>35</td>\n",
       "      <td>12</td>\n",
       "      <td>10.783333</td>\n",
       "      <td>2023-01-01 00:06:49</td>\n",
       "      <td>2023-01-01 00:17:36</td>\n",
       "    </tr>\n",
       "    <tr>\n",
       "      <th>3</th>\n",
       "      <td>26751201</td>\n",
       "      <td>1240140</td>\n",
       "      <td>M</td>\n",
       "      <td>1996.0</td>\n",
       "      <td>2023-01-01 00:08:05</td>\n",
       "      <td>2023-01-01 00:09:00</td>\n",
       "      <td>35</td>\n",
       "      <td>35</td>\n",
       "      <td>0.916667</td>\n",
       "      <td>2023-01-01 00:08:05</td>\n",
       "      <td>2023-01-01 00:09:00</td>\n",
       "    </tr>\n",
       "    <tr>\n",
       "      <th>4</th>\n",
       "      <td>26751202</td>\n",
       "      <td>1732214</td>\n",
       "      <td>M</td>\n",
       "      <td>1969.0</td>\n",
       "      <td>2023-01-01 00:09:14</td>\n",
       "      <td>2023-01-01 00:14:57</td>\n",
       "      <td>54</td>\n",
       "      <td>171</td>\n",
       "      <td>5.716667</td>\n",
       "      <td>2023-01-01 00:09:14</td>\n",
       "      <td>2023-01-01 00:14:57</td>\n",
       "    </tr>\n",
       "  </tbody>\n",
       "</table>\n",
       "</div>"
      ],
      "text/plain": [
       "   Viaje_Id  Usuario_Id Genero  Año_de_nacimiento     Inicio_del_viaje  \\\n",
       "0  26751198     1350606      M             1983.0  2023-01-01 00:00:41   \n",
       "1  26751199       15163      M             1986.0  2023-01-01 00:04:48   \n",
       "2  26751200     1534764      M             1987.0  2023-01-01 00:06:49   \n",
       "3  26751201     1240140      M             1996.0  2023-01-01 00:08:05   \n",
       "4  26751202     1732214      M             1969.0  2023-01-01 00:09:14   \n",
       "\n",
       "         Fin_del_viaje  Origen_Id  Destino_Id  Tiempo_viaje  \\\n",
       "0  2023-01-01 00:26:52        154          50     26.183333   \n",
       "1  2023-01-01 00:07:46         64          79      2.966667   \n",
       "2  2023-01-01 00:17:36         35          12     10.783333   \n",
       "3  2023-01-01 00:09:00         35          35      0.916667   \n",
       "4  2023-01-01 00:14:57         54         171      5.716667   \n",
       "\n",
       "                Inicio                  Fin  \n",
       "0  2023-01-01 00:00:41  2023-01-01 00:26:52  \n",
       "1  2023-01-01 00:04:48  2023-01-01 00:07:46  \n",
       "2  2023-01-01 00:06:49  2023-01-01 00:17:36  \n",
       "3  2023-01-01 00:08:05  2023-01-01 00:09:00  \n",
       "4  2023-01-01 00:09:14  2023-01-01 00:14:57  "
      ]
     },
     "execution_count": 54,
     "metadata": {},
     "output_type": "execute_result"
    }
   ],
   "source": [
    "mibici_2023['Inicio'] = mibici_2023['Inicio_del_viaje']\n",
    "mibici_2023['Fin'] = mibici_2023['Fin_del_viaje']\n",
    "mibici_2023.head()"
   ]
  },
  {
   "cell_type": "code",
   "execution_count": 55,
   "id": "b5c6ff12",
   "metadata": {},
   "outputs": [
    {
     "data": {
      "application/vnd.microsoft.datawrangler.viewer.v0+json": {
       "columns": [
        {
         "name": "index",
         "rawType": "int64",
         "type": "integer"
        },
        {
         "name": "Viaje_Id",
         "rawType": "int64",
         "type": "integer"
        },
        {
         "name": "Usuario_Id",
         "rawType": "int64",
         "type": "integer"
        },
        {
         "name": "Genero",
         "rawType": "object",
         "type": "string"
        },
        {
         "name": "Año_de_nacimiento",
         "rawType": "float64",
         "type": "float"
        },
        {
         "name": "Inicio_del_viaje",
         "rawType": "object",
         "type": "string"
        },
        {
         "name": "Fin_del_viaje",
         "rawType": "object",
         "type": "string"
        },
        {
         "name": "Origen_Id",
         "rawType": "int64",
         "type": "integer"
        },
        {
         "name": "Destino_Id",
         "rawType": "int64",
         "type": "integer"
        },
        {
         "name": "Tiempo_viaje",
         "rawType": "float64",
         "type": "float"
        },
        {
         "name": "Inicio",
         "rawType": "object",
         "type": "string"
        },
        {
         "name": "Fin",
         "rawType": "object",
         "type": "string"
        }
       ],
       "conversionMethod": "pd.DataFrame",
       "ref": "ea38575c-c1c0-4c6e-9059-b50ed8a437b1",
       "rows": [
        [
         "0",
         "26751198",
         "1350606",
         "M",
         "1983.0",
         "2023-01-01 00:00:41",
         "2023-01-01 00:26:52",
         "154",
         "50",
         "26.183333333333337",
         "2023-01-01 00:00:41",
         "2023-01-01 00:26:52"
        ],
        [
         "1",
         "26751199",
         "15163",
         "M",
         "1986.0",
         "2023-01-01 00:04:48",
         "2023-01-01 00:07:46",
         "64",
         "79",
         "2.966666666666667",
         "2023-01-01 00:04:48",
         "2023-01-01 00:07:46"
        ],
        [
         "2",
         "26751200",
         "1534764",
         "M",
         "1987.0",
         "2023-01-01 00:06:49",
         "2023-01-01 00:17:36",
         "35",
         "12",
         "10.783333333333331",
         "2023-01-01 00:06:49",
         "2023-01-01 00:17:36"
        ],
        [
         "3",
         "26751201",
         "1240140",
         "M",
         "1996.0",
         "2023-01-01 00:08:05",
         "2023-01-01 00:09:00",
         "35",
         "35",
         "0.9166666666666666",
         "2023-01-01 00:08:05",
         "2023-01-01 00:09:00"
        ],
        [
         "4",
         "26751202",
         "1732214",
         "M",
         "1969.0",
         "2023-01-01 00:09:14",
         "2023-01-01 00:14:57",
         "54",
         "171",
         "5.716666666666667",
         "2023-01-01 00:09:14",
         "2023-01-01 00:14:57"
        ]
       ],
       "shape": {
        "columns": 11,
        "rows": 5
       }
      },
      "text/html": [
       "<div>\n",
       "<style scoped>\n",
       "    .dataframe tbody tr th:only-of-type {\n",
       "        vertical-align: middle;\n",
       "    }\n",
       "\n",
       "    .dataframe tbody tr th {\n",
       "        vertical-align: top;\n",
       "    }\n",
       "\n",
       "    .dataframe thead th {\n",
       "        text-align: right;\n",
       "    }\n",
       "</style>\n",
       "<table border=\"1\" class=\"dataframe\">\n",
       "  <thead>\n",
       "    <tr style=\"text-align: right;\">\n",
       "      <th></th>\n",
       "      <th>Viaje_Id</th>\n",
       "      <th>Usuario_Id</th>\n",
       "      <th>Genero</th>\n",
       "      <th>Año_de_nacimiento</th>\n",
       "      <th>Inicio_del_viaje</th>\n",
       "      <th>Fin_del_viaje</th>\n",
       "      <th>Origen_Id</th>\n",
       "      <th>Destino_Id</th>\n",
       "      <th>Tiempo_viaje</th>\n",
       "      <th>Inicio</th>\n",
       "      <th>Fin</th>\n",
       "    </tr>\n",
       "  </thead>\n",
       "  <tbody>\n",
       "    <tr>\n",
       "      <th>0</th>\n",
       "      <td>26751198</td>\n",
       "      <td>1350606</td>\n",
       "      <td>M</td>\n",
       "      <td>1983.0</td>\n",
       "      <td>2023-01-01 00:00:41</td>\n",
       "      <td>2023-01-01 00:26:52</td>\n",
       "      <td>154</td>\n",
       "      <td>50</td>\n",
       "      <td>26.183333</td>\n",
       "      <td>2023-01-01 00:00:41</td>\n",
       "      <td>2023-01-01 00:26:52</td>\n",
       "    </tr>\n",
       "    <tr>\n",
       "      <th>1</th>\n",
       "      <td>26751199</td>\n",
       "      <td>15163</td>\n",
       "      <td>M</td>\n",
       "      <td>1986.0</td>\n",
       "      <td>2023-01-01 00:04:48</td>\n",
       "      <td>2023-01-01 00:07:46</td>\n",
       "      <td>64</td>\n",
       "      <td>79</td>\n",
       "      <td>2.966667</td>\n",
       "      <td>2023-01-01 00:04:48</td>\n",
       "      <td>2023-01-01 00:07:46</td>\n",
       "    </tr>\n",
       "    <tr>\n",
       "      <th>2</th>\n",
       "      <td>26751200</td>\n",
       "      <td>1534764</td>\n",
       "      <td>M</td>\n",
       "      <td>1987.0</td>\n",
       "      <td>2023-01-01 00:06:49</td>\n",
       "      <td>2023-01-01 00:17:36</td>\n",
       "      <td>35</td>\n",
       "      <td>12</td>\n",
       "      <td>10.783333</td>\n",
       "      <td>2023-01-01 00:06:49</td>\n",
       "      <td>2023-01-01 00:17:36</td>\n",
       "    </tr>\n",
       "    <tr>\n",
       "      <th>3</th>\n",
       "      <td>26751201</td>\n",
       "      <td>1240140</td>\n",
       "      <td>M</td>\n",
       "      <td>1996.0</td>\n",
       "      <td>2023-01-01 00:08:05</td>\n",
       "      <td>2023-01-01 00:09:00</td>\n",
       "      <td>35</td>\n",
       "      <td>35</td>\n",
       "      <td>0.916667</td>\n",
       "      <td>2023-01-01 00:08:05</td>\n",
       "      <td>2023-01-01 00:09:00</td>\n",
       "    </tr>\n",
       "    <tr>\n",
       "      <th>4</th>\n",
       "      <td>26751202</td>\n",
       "      <td>1732214</td>\n",
       "      <td>M</td>\n",
       "      <td>1969.0</td>\n",
       "      <td>2023-01-01 00:09:14</td>\n",
       "      <td>2023-01-01 00:14:57</td>\n",
       "      <td>54</td>\n",
       "      <td>171</td>\n",
       "      <td>5.716667</td>\n",
       "      <td>2023-01-01 00:09:14</td>\n",
       "      <td>2023-01-01 00:14:57</td>\n",
       "    </tr>\n",
       "  </tbody>\n",
       "</table>\n",
       "</div>"
      ],
      "text/plain": [
       "   Viaje_Id  Usuario_Id Genero  Año_de_nacimiento     Inicio_del_viaje  \\\n",
       "0  26751198     1350606      M             1983.0  2023-01-01 00:00:41   \n",
       "1  26751199       15163      M             1986.0  2023-01-01 00:04:48   \n",
       "2  26751200     1534764      M             1987.0  2023-01-01 00:06:49   \n",
       "3  26751201     1240140      M             1996.0  2023-01-01 00:08:05   \n",
       "4  26751202     1732214      M             1969.0  2023-01-01 00:09:14   \n",
       "\n",
       "         Fin_del_viaje  Origen_Id  Destino_Id  Tiempo_viaje  \\\n",
       "0  2023-01-01 00:26:52        154          50     26.183333   \n",
       "1  2023-01-01 00:07:46         64          79      2.966667   \n",
       "2  2023-01-01 00:17:36         35          12     10.783333   \n",
       "3  2023-01-01 00:09:00         35          35      0.916667   \n",
       "4  2023-01-01 00:14:57         54         171      5.716667   \n",
       "\n",
       "                Inicio                  Fin  \n",
       "0  2023-01-01 00:00:41  2023-01-01 00:26:52  \n",
       "1  2023-01-01 00:04:48  2023-01-01 00:07:46  \n",
       "2  2023-01-01 00:06:49  2023-01-01 00:17:36  \n",
       "3  2023-01-01 00:08:05  2023-01-01 00:09:00  \n",
       "4  2023-01-01 00:09:14  2023-01-01 00:14:57  "
      ]
     },
     "execution_count": 55,
     "metadata": {},
     "output_type": "execute_result"
    }
   ],
   "source": [
    "mibici_2023.to_csv('/Users/antoniomendez/Desktop/Tesis/Datos/datos_limpios/mibici/mibici_2023.csv', index = False)\n",
    "mibici_2023 = load_data('mibici/mibici_2023.csv', flag_dir)\n",
    "mibici_2023.head()"
   ]
  },
  {
   "cell_type": "code",
   "execution_count": 56,
   "id": "d4e10686",
   "metadata": {},
   "outputs": [],
   "source": [
    "del mibici_2023"
   ]
  },
  {
   "cell_type": "code",
   "execution_count": 59,
   "id": "202cb938",
   "metadata": {},
   "outputs": [],
   "source": [
    "mibici_2024_1 = pd.read_csv('data_mibici/datos_abiertos_2024_01.csv', encoding='latin1')\n",
    "mibici_2024_2 = pd.read_csv('data_mibici/datos_abiertos_2024_02.csv', encoding='latin1')\n",
    "mibici_2024_3 = pd.read_csv('data_mibici/datos_abiertos_2024_03.csv', encoding='latin1')\n",
    "mibici_2024_4 = pd.read_csv('data_mibici/datos_abiertos_2024_04.csv', encoding='latin1')\n",
    "mibici_2024_5 = pd.read_csv('data_mibici/datos_abiertos_2024_05.csv', encoding='latin1')\n",
    "mibici_2024_6 = pd.read_csv('data_mibici/datos_abiertos_2024_06.csv', encoding='latin1')\n",
    "mibici_2024_7 = pd.read_csv('data_mibici/datos_abiertos_2024_07.csv', encoding='latin1')\n",
    "mibici_2024_8 = pd.read_csv('data_mibici/datos_abiertos_2024_08.csv', encoding='latin1')\n",
    "mibici_2024_9 = pd.read_csv('data_mibici/datos_abiertos_2024_09.csv', encoding='latin1')\n",
    "mibici_2024_10 = pd.read_csv('data_mibici/datos_abiertos_2024_10.csv', encoding='latin1')\n",
    "mibici_2024_11 = pd.read_csv('data_mibici/datos_abiertos_2024_11.csv', encoding='latin1')\n",
    "mibici_2024_12 = pd.read_csv('data_mibici/datos_abiertos_2024_12.csv', encoding='latin1')\n",
    "mibici_2024_list = [mibici_2024_1, mibici_2024_2, mibici_2024_3, mibici_2024_4, mibici_2024_5, mibici_2024_6, mibici_2024_7, mibici_2024_8, mibici_2024_9, mibici_2024_10, mibici_2024_11, mibici_2024_12]"
   ]
  },
  {
   "cell_type": "code",
   "execution_count": 60,
   "id": "7a7234f2",
   "metadata": {},
   "outputs": [
    {
     "data": {
      "application/vnd.microsoft.datawrangler.viewer.v0+json": {
       "columns": [
        {
         "name": "index",
         "rawType": "int64",
         "type": "integer"
        },
        {
         "name": "Viaje_Id",
         "rawType": "int64",
         "type": "integer"
        },
        {
         "name": "Usuario_Id",
         "rawType": "int64",
         "type": "integer"
        },
        {
         "name": "Genero",
         "rawType": "object",
         "type": "string"
        },
        {
         "name": "Año_de_nacimiento",
         "rawType": "float64",
         "type": "float"
        },
        {
         "name": "Inicio_del_viaje",
         "rawType": "object",
         "type": "string"
        },
        {
         "name": "Fin_del_viaje",
         "rawType": "object",
         "type": "string"
        },
        {
         "name": "Origen_Id",
         "rawType": "int64",
         "type": "integer"
        },
        {
         "name": "Destino_Id",
         "rawType": "int64",
         "type": "integer"
        }
       ],
       "conversionMethod": "pd.DataFrame",
       "ref": "9824a3f7-20ad-4c8f-8f32-1d1affd4a387",
       "rows": [
        [
         "0",
         "31789291",
         "640715",
         "M",
         "1984.0",
         "2024-01-01 00:05:25",
         "2024-01-01 00:29:37",
         "294",
         "271"
        ],
        [
         "1",
         "31789292",
         "2353010",
         "F",
         "1995.0",
         "2024-01-01 00:07:23",
         "2024-01-01 00:16:37",
         "182",
         "254"
        ],
        [
         "2",
         "31789293",
         "1556365",
         "M",
         "1984.0",
         "2024-01-01 00:07:31",
         "2024-01-01 00:16:37",
         "182",
         "254"
        ],
        [
         "3",
         "31789294",
         "2626233",
         "M",
         "1994.0",
         "2024-01-01 00:07:56",
         "2024-01-01 00:31:51",
         "35",
         "154"
        ],
        [
         "4",
         "31789295",
         "2602006",
         "M",
         "1998.0",
         "2024-01-01 00:08:09",
         "2024-01-01 00:31:51",
         "35",
         "154"
        ]
       ],
       "shape": {
        "columns": 8,
        "rows": 5
       }
      },
      "text/html": [
       "<div>\n",
       "<style scoped>\n",
       "    .dataframe tbody tr th:only-of-type {\n",
       "        vertical-align: middle;\n",
       "    }\n",
       "\n",
       "    .dataframe tbody tr th {\n",
       "        vertical-align: top;\n",
       "    }\n",
       "\n",
       "    .dataframe thead th {\n",
       "        text-align: right;\n",
       "    }\n",
       "</style>\n",
       "<table border=\"1\" class=\"dataframe\">\n",
       "  <thead>\n",
       "    <tr style=\"text-align: right;\">\n",
       "      <th></th>\n",
       "      <th>Viaje_Id</th>\n",
       "      <th>Usuario_Id</th>\n",
       "      <th>Genero</th>\n",
       "      <th>Año_de_nacimiento</th>\n",
       "      <th>Inicio_del_viaje</th>\n",
       "      <th>Fin_del_viaje</th>\n",
       "      <th>Origen_Id</th>\n",
       "      <th>Destino_Id</th>\n",
       "    </tr>\n",
       "  </thead>\n",
       "  <tbody>\n",
       "    <tr>\n",
       "      <th>0</th>\n",
       "      <td>31789291</td>\n",
       "      <td>640715</td>\n",
       "      <td>M</td>\n",
       "      <td>1984.0</td>\n",
       "      <td>2024-01-01 00:05:25</td>\n",
       "      <td>2024-01-01 00:29:37</td>\n",
       "      <td>294</td>\n",
       "      <td>271</td>\n",
       "    </tr>\n",
       "    <tr>\n",
       "      <th>1</th>\n",
       "      <td>31789292</td>\n",
       "      <td>2353010</td>\n",
       "      <td>F</td>\n",
       "      <td>1995.0</td>\n",
       "      <td>2024-01-01 00:07:23</td>\n",
       "      <td>2024-01-01 00:16:37</td>\n",
       "      <td>182</td>\n",
       "      <td>254</td>\n",
       "    </tr>\n",
       "    <tr>\n",
       "      <th>2</th>\n",
       "      <td>31789293</td>\n",
       "      <td>1556365</td>\n",
       "      <td>M</td>\n",
       "      <td>1984.0</td>\n",
       "      <td>2024-01-01 00:07:31</td>\n",
       "      <td>2024-01-01 00:16:37</td>\n",
       "      <td>182</td>\n",
       "      <td>254</td>\n",
       "    </tr>\n",
       "    <tr>\n",
       "      <th>3</th>\n",
       "      <td>31789294</td>\n",
       "      <td>2626233</td>\n",
       "      <td>M</td>\n",
       "      <td>1994.0</td>\n",
       "      <td>2024-01-01 00:07:56</td>\n",
       "      <td>2024-01-01 00:31:51</td>\n",
       "      <td>35</td>\n",
       "      <td>154</td>\n",
       "    </tr>\n",
       "    <tr>\n",
       "      <th>4</th>\n",
       "      <td>31789295</td>\n",
       "      <td>2602006</td>\n",
       "      <td>M</td>\n",
       "      <td>1998.0</td>\n",
       "      <td>2024-01-01 00:08:09</td>\n",
       "      <td>2024-01-01 00:31:51</td>\n",
       "      <td>35</td>\n",
       "      <td>154</td>\n",
       "    </tr>\n",
       "  </tbody>\n",
       "</table>\n",
       "</div>"
      ],
      "text/plain": [
       "   Viaje_Id  Usuario_Id Genero  Año_de_nacimiento     Inicio_del_viaje  \\\n",
       "0  31789291      640715      M             1984.0  2024-01-01 00:05:25   \n",
       "1  31789292     2353010      F             1995.0  2024-01-01 00:07:23   \n",
       "2  31789293     1556365      M             1984.0  2024-01-01 00:07:31   \n",
       "3  31789294     2626233      M             1994.0  2024-01-01 00:07:56   \n",
       "4  31789295     2602006      M             1998.0  2024-01-01 00:08:09   \n",
       "\n",
       "         Fin_del_viaje  Origen_Id  Destino_Id  \n",
       "0  2024-01-01 00:29:37        294         271  \n",
       "1  2024-01-01 00:16:37        182         254  \n",
       "2  2024-01-01 00:16:37        182         254  \n",
       "3  2024-01-01 00:31:51         35         154  \n",
       "4  2024-01-01 00:31:51         35         154  "
      ]
     },
     "execution_count": 60,
     "metadata": {},
     "output_type": "execute_result"
    }
   ],
   "source": [
    "mibici_2024_list[0].head()"
   ]
  },
  {
   "cell_type": "code",
   "execution_count": 61,
   "id": "37dcb7c9",
   "metadata": {},
   "outputs": [
    {
     "data": {
      "application/vnd.microsoft.datawrangler.viewer.v0+json": {
       "columns": [
        {
         "name": "index",
         "rawType": "int64",
         "type": "integer"
        },
        {
         "name": "Viaje_Id",
         "rawType": "int64",
         "type": "integer"
        },
        {
         "name": "Usuario_Id",
         "rawType": "int64",
         "type": "integer"
        },
        {
         "name": "Genero",
         "rawType": "object",
         "type": "string"
        },
        {
         "name": "A}äe_nacimiento",
         "rawType": "float64",
         "type": "float"
        },
        {
         "name": "Inicio_del_viaje",
         "rawType": "object",
         "type": "string"
        },
        {
         "name": "Fin_del_viaje",
         "rawType": "object",
         "type": "string"
        },
        {
         "name": "Origen_Id",
         "rawType": "int64",
         "type": "integer"
        },
        {
         "name": "Destino_Id",
         "rawType": "int64",
         "type": "integer"
        }
       ],
       "conversionMethod": "pd.DataFrame",
       "ref": "7b570c17-df35-47f4-a557-8e91eaca7c95",
       "rows": [
        [
         "0",
         "32244898",
         "133007",
         "M",
         "1994.0",
         "2024-02-01 00:01:46",
         "2024-02-01 00:13:00",
         "62",
         "195"
        ],
        [
         "1",
         "32244900",
         "2524051",
         "F",
         "1997.0",
         "2024-02-01 00:02:26",
         "2024-02-01 00:12:41",
         "196",
         "25"
        ],
        [
         "2",
         "32244901",
         "1431452",
         "M",
         "2001.0",
         "2024-02-01 00:02:36",
         "2024-02-01 00:02:39",
         "383",
         "383"
        ],
        [
         "3",
         "32244902",
         "1405511",
         "F",
         "1969.0",
         "2024-02-01 00:02:52",
         "2024-02-01 00:14:38",
         "66",
         "14"
        ],
        [
         "4",
         "32244903",
         "276725",
         "M",
         "1990.0",
         "2024-02-01 00:02:57",
         "2024-02-01 00:12:17",
         "75",
         "179"
        ]
       ],
       "shape": {
        "columns": 8,
        "rows": 5
       }
      },
      "text/html": [
       "<div>\n",
       "<style scoped>\n",
       "    .dataframe tbody tr th:only-of-type {\n",
       "        vertical-align: middle;\n",
       "    }\n",
       "\n",
       "    .dataframe tbody tr th {\n",
       "        vertical-align: top;\n",
       "    }\n",
       "\n",
       "    .dataframe thead th {\n",
       "        text-align: right;\n",
       "    }\n",
       "</style>\n",
       "<table border=\"1\" class=\"dataframe\">\n",
       "  <thead>\n",
       "    <tr style=\"text-align: right;\">\n",
       "      <th></th>\n",
       "      <th>Viaje_Id</th>\n",
       "      <th>Usuario_Id</th>\n",
       "      <th>Genero</th>\n",
       "      <th>A}äe_nacimiento</th>\n",
       "      <th>Inicio_del_viaje</th>\n",
       "      <th>Fin_del_viaje</th>\n",
       "      <th>Origen_Id</th>\n",
       "      <th>Destino_Id</th>\n",
       "    </tr>\n",
       "  </thead>\n",
       "  <tbody>\n",
       "    <tr>\n",
       "      <th>0</th>\n",
       "      <td>32244898</td>\n",
       "      <td>133007</td>\n",
       "      <td>M</td>\n",
       "      <td>1994.0</td>\n",
       "      <td>2024-02-01 00:01:46</td>\n",
       "      <td>2024-02-01 00:13:00</td>\n",
       "      <td>62</td>\n",
       "      <td>195</td>\n",
       "    </tr>\n",
       "    <tr>\n",
       "      <th>1</th>\n",
       "      <td>32244900</td>\n",
       "      <td>2524051</td>\n",
       "      <td>F</td>\n",
       "      <td>1997.0</td>\n",
       "      <td>2024-02-01 00:02:26</td>\n",
       "      <td>2024-02-01 00:12:41</td>\n",
       "      <td>196</td>\n",
       "      <td>25</td>\n",
       "    </tr>\n",
       "    <tr>\n",
       "      <th>2</th>\n",
       "      <td>32244901</td>\n",
       "      <td>1431452</td>\n",
       "      <td>M</td>\n",
       "      <td>2001.0</td>\n",
       "      <td>2024-02-01 00:02:36</td>\n",
       "      <td>2024-02-01 00:02:39</td>\n",
       "      <td>383</td>\n",
       "      <td>383</td>\n",
       "    </tr>\n",
       "    <tr>\n",
       "      <th>3</th>\n",
       "      <td>32244902</td>\n",
       "      <td>1405511</td>\n",
       "      <td>F</td>\n",
       "      <td>1969.0</td>\n",
       "      <td>2024-02-01 00:02:52</td>\n",
       "      <td>2024-02-01 00:14:38</td>\n",
       "      <td>66</td>\n",
       "      <td>14</td>\n",
       "    </tr>\n",
       "    <tr>\n",
       "      <th>4</th>\n",
       "      <td>32244903</td>\n",
       "      <td>276725</td>\n",
       "      <td>M</td>\n",
       "      <td>1990.0</td>\n",
       "      <td>2024-02-01 00:02:57</td>\n",
       "      <td>2024-02-01 00:12:17</td>\n",
       "      <td>75</td>\n",
       "      <td>179</td>\n",
       "    </tr>\n",
       "  </tbody>\n",
       "</table>\n",
       "</div>"
      ],
      "text/plain": [
       "   Viaje_Id  Usuario_Id Genero  A}äe_nacimiento     Inicio_del_viaje  \\\n",
       "0  32244898      133007      M           1994.0  2024-02-01 00:01:46   \n",
       "1  32244900     2524051      F           1997.0  2024-02-01 00:02:26   \n",
       "2  32244901     1431452      M           2001.0  2024-02-01 00:02:36   \n",
       "3  32244902     1405511      F           1969.0  2024-02-01 00:02:52   \n",
       "4  32244903      276725      M           1990.0  2024-02-01 00:02:57   \n",
       "\n",
       "         Fin_del_viaje  Origen_Id  Destino_Id  \n",
       "0  2024-02-01 00:13:00         62         195  \n",
       "1  2024-02-01 00:12:41        196          25  \n",
       "2  2024-02-01 00:02:39        383         383  \n",
       "3  2024-02-01 00:14:38         66          14  \n",
       "4  2024-02-01 00:12:17         75         179  "
      ]
     },
     "execution_count": 61,
     "metadata": {},
     "output_type": "execute_result"
    }
   ],
   "source": [
    "mibici_2024_list[1].head()"
   ]
  },
  {
   "cell_type": "code",
   "execution_count": 62,
   "id": "46addc08",
   "metadata": {},
   "outputs": [
    {
     "data": {
      "application/vnd.microsoft.datawrangler.viewer.v0+json": {
       "columns": [
        {
         "name": "index",
         "rawType": "int64",
         "type": "integer"
        },
        {
         "name": "Viaje_Id",
         "rawType": "int64",
         "type": "integer"
        },
        {
         "name": "Usuario_Id",
         "rawType": "int64",
         "type": "integer"
        },
        {
         "name": "Genero",
         "rawType": "object",
         "type": "string"
        },
        {
         "name": "Año_de_nacimiento",
         "rawType": "float64",
         "type": "float"
        },
        {
         "name": "Inicio_del_viaje",
         "rawType": "object",
         "type": "string"
        },
        {
         "name": "Fin_del_viaje",
         "rawType": "object",
         "type": "string"
        },
        {
         "name": "Origen_Id",
         "rawType": "int64",
         "type": "integer"
        },
        {
         "name": "Destino_Id",
         "rawType": "int64",
         "type": "integer"
        }
       ],
       "conversionMethod": "pd.DataFrame",
       "ref": "b8f4e721-7f82-4243-b681-4df71e53d227",
       "rows": [
        [
         "0",
         "32244898",
         "133007",
         "M",
         "1994.0",
         "2024-02-01 00:01:46",
         "2024-02-01 00:13:00",
         "62",
         "195"
        ],
        [
         "1",
         "32244900",
         "2524051",
         "F",
         "1997.0",
         "2024-02-01 00:02:26",
         "2024-02-01 00:12:41",
         "196",
         "25"
        ],
        [
         "2",
         "32244901",
         "1431452",
         "M",
         "2001.0",
         "2024-02-01 00:02:36",
         "2024-02-01 00:02:39",
         "383",
         "383"
        ],
        [
         "3",
         "32244902",
         "1405511",
         "F",
         "1969.0",
         "2024-02-01 00:02:52",
         "2024-02-01 00:14:38",
         "66",
         "14"
        ],
        [
         "4",
         "32244903",
         "276725",
         "M",
         "1990.0",
         "2024-02-01 00:02:57",
         "2024-02-01 00:12:17",
         "75",
         "179"
        ]
       ],
       "shape": {
        "columns": 8,
        "rows": 5
       }
      },
      "text/html": [
       "<div>\n",
       "<style scoped>\n",
       "    .dataframe tbody tr th:only-of-type {\n",
       "        vertical-align: middle;\n",
       "    }\n",
       "\n",
       "    .dataframe tbody tr th {\n",
       "        vertical-align: top;\n",
       "    }\n",
       "\n",
       "    .dataframe thead th {\n",
       "        text-align: right;\n",
       "    }\n",
       "</style>\n",
       "<table border=\"1\" class=\"dataframe\">\n",
       "  <thead>\n",
       "    <tr style=\"text-align: right;\">\n",
       "      <th></th>\n",
       "      <th>Viaje_Id</th>\n",
       "      <th>Usuario_Id</th>\n",
       "      <th>Genero</th>\n",
       "      <th>Año_de_nacimiento</th>\n",
       "      <th>Inicio_del_viaje</th>\n",
       "      <th>Fin_del_viaje</th>\n",
       "      <th>Origen_Id</th>\n",
       "      <th>Destino_Id</th>\n",
       "    </tr>\n",
       "  </thead>\n",
       "  <tbody>\n",
       "    <tr>\n",
       "      <th>0</th>\n",
       "      <td>32244898</td>\n",
       "      <td>133007</td>\n",
       "      <td>M</td>\n",
       "      <td>1994.0</td>\n",
       "      <td>2024-02-01 00:01:46</td>\n",
       "      <td>2024-02-01 00:13:00</td>\n",
       "      <td>62</td>\n",
       "      <td>195</td>\n",
       "    </tr>\n",
       "    <tr>\n",
       "      <th>1</th>\n",
       "      <td>32244900</td>\n",
       "      <td>2524051</td>\n",
       "      <td>F</td>\n",
       "      <td>1997.0</td>\n",
       "      <td>2024-02-01 00:02:26</td>\n",
       "      <td>2024-02-01 00:12:41</td>\n",
       "      <td>196</td>\n",
       "      <td>25</td>\n",
       "    </tr>\n",
       "    <tr>\n",
       "      <th>2</th>\n",
       "      <td>32244901</td>\n",
       "      <td>1431452</td>\n",
       "      <td>M</td>\n",
       "      <td>2001.0</td>\n",
       "      <td>2024-02-01 00:02:36</td>\n",
       "      <td>2024-02-01 00:02:39</td>\n",
       "      <td>383</td>\n",
       "      <td>383</td>\n",
       "    </tr>\n",
       "    <tr>\n",
       "      <th>3</th>\n",
       "      <td>32244902</td>\n",
       "      <td>1405511</td>\n",
       "      <td>F</td>\n",
       "      <td>1969.0</td>\n",
       "      <td>2024-02-01 00:02:52</td>\n",
       "      <td>2024-02-01 00:14:38</td>\n",
       "      <td>66</td>\n",
       "      <td>14</td>\n",
       "    </tr>\n",
       "    <tr>\n",
       "      <th>4</th>\n",
       "      <td>32244903</td>\n",
       "      <td>276725</td>\n",
       "      <td>M</td>\n",
       "      <td>1990.0</td>\n",
       "      <td>2024-02-01 00:02:57</td>\n",
       "      <td>2024-02-01 00:12:17</td>\n",
       "      <td>75</td>\n",
       "      <td>179</td>\n",
       "    </tr>\n",
       "  </tbody>\n",
       "</table>\n",
       "</div>"
      ],
      "text/plain": [
       "   Viaje_Id  Usuario_Id Genero  Año_de_nacimiento     Inicio_del_viaje  \\\n",
       "0  32244898      133007      M             1994.0  2024-02-01 00:01:46   \n",
       "1  32244900     2524051      F             1997.0  2024-02-01 00:02:26   \n",
       "2  32244901     1431452      M             2001.0  2024-02-01 00:02:36   \n",
       "3  32244902     1405511      F             1969.0  2024-02-01 00:02:52   \n",
       "4  32244903      276725      M             1990.0  2024-02-01 00:02:57   \n",
       "\n",
       "         Fin_del_viaje  Origen_Id  Destino_Id  \n",
       "0  2024-02-01 00:13:00         62         195  \n",
       "1  2024-02-01 00:12:41        196          25  \n",
       "2  2024-02-01 00:02:39        383         383  \n",
       "3  2024-02-01 00:14:38         66          14  \n",
       "4  2024-02-01 00:12:17         75         179  "
      ]
     },
     "execution_count": 62,
     "metadata": {},
     "output_type": "execute_result"
    }
   ],
   "source": [
    "mibici_2024_list[1].rename(columns = {'A}äe_nacimiento': 'Año_de_nacimiento'}, inplace = True)\n",
    "mibici_2024_list[1].head()"
   ]
  },
  {
   "cell_type": "code",
   "execution_count": 63,
   "id": "d85a8c8f",
   "metadata": {},
   "outputs": [
    {
     "data": {
      "application/vnd.microsoft.datawrangler.viewer.v0+json": {
       "columns": [
        {
         "name": "index",
         "rawType": "int64",
         "type": "integer"
        },
        {
         "name": "Viaje_Id",
         "rawType": "int64",
         "type": "integer"
        },
        {
         "name": "Usuario_Id",
         "rawType": "int64",
         "type": "integer"
        },
        {
         "name": "Genero",
         "rawType": "object",
         "type": "unknown"
        },
        {
         "name": "Año_de_nacimiento",
         "rawType": "float64",
         "type": "float"
        },
        {
         "name": "Inicio_del_viaje",
         "rawType": "object",
         "type": "string"
        },
        {
         "name": "Fin_del_viaje",
         "rawType": "object",
         "type": "string"
        },
        {
         "name": "Origen_Id",
         "rawType": "int64",
         "type": "integer"
        },
        {
         "name": "Destino_Id",
         "rawType": "int64",
         "type": "integer"
        }
       ],
       "conversionMethod": "pd.DataFrame",
       "ref": "9fcfd905-dbbb-4765-b039-51a0467e41ca",
       "rows": [
        [
         "0",
         "32689032",
         "2144362",
         null,
         "1997.0",
         "2024-03-01 00:00:22",
         "2024-03-01 00:20:38",
         "70",
         "247"
        ],
        [
         "1",
         "32689037",
         "2703032",
         "M",
         "1970.0",
         "2024-03-01 00:00:52",
         "2024-03-01 00:25:33",
         "78",
         "289"
        ],
        [
         "2",
         "32689038",
         "513364",
         "M",
         "1992.0",
         "2024-03-01 00:01:26",
         "2024-03-01 00:26:04",
         "78",
         "261"
        ],
        [
         "3",
         "32689039",
         "1467106",
         "M",
         "1995.0",
         "2024-03-01 00:02:04",
         "2024-03-01 00:09:56",
         "154",
         "30"
        ],
        [
         "4",
         "32689042",
         "641553",
         "M",
         "1985.0",
         "2024-03-01 00:02:22",
         "2024-03-01 00:07:13",
         "86",
         "49"
        ]
       ],
       "shape": {
        "columns": 8,
        "rows": 5
       }
      },
      "text/html": [
       "<div>\n",
       "<style scoped>\n",
       "    .dataframe tbody tr th:only-of-type {\n",
       "        vertical-align: middle;\n",
       "    }\n",
       "\n",
       "    .dataframe tbody tr th {\n",
       "        vertical-align: top;\n",
       "    }\n",
       "\n",
       "    .dataframe thead th {\n",
       "        text-align: right;\n",
       "    }\n",
       "</style>\n",
       "<table border=\"1\" class=\"dataframe\">\n",
       "  <thead>\n",
       "    <tr style=\"text-align: right;\">\n",
       "      <th></th>\n",
       "      <th>Viaje_Id</th>\n",
       "      <th>Usuario_Id</th>\n",
       "      <th>Genero</th>\n",
       "      <th>Año_de_nacimiento</th>\n",
       "      <th>Inicio_del_viaje</th>\n",
       "      <th>Fin_del_viaje</th>\n",
       "      <th>Origen_Id</th>\n",
       "      <th>Destino_Id</th>\n",
       "    </tr>\n",
       "  </thead>\n",
       "  <tbody>\n",
       "    <tr>\n",
       "      <th>0</th>\n",
       "      <td>32689032</td>\n",
       "      <td>2144362</td>\n",
       "      <td>NaN</td>\n",
       "      <td>1997.0</td>\n",
       "      <td>2024-03-01 00:00:22</td>\n",
       "      <td>2024-03-01 00:20:38</td>\n",
       "      <td>70</td>\n",
       "      <td>247</td>\n",
       "    </tr>\n",
       "    <tr>\n",
       "      <th>1</th>\n",
       "      <td>32689037</td>\n",
       "      <td>2703032</td>\n",
       "      <td>M</td>\n",
       "      <td>1970.0</td>\n",
       "      <td>2024-03-01 00:00:52</td>\n",
       "      <td>2024-03-01 00:25:33</td>\n",
       "      <td>78</td>\n",
       "      <td>289</td>\n",
       "    </tr>\n",
       "    <tr>\n",
       "      <th>2</th>\n",
       "      <td>32689038</td>\n",
       "      <td>513364</td>\n",
       "      <td>M</td>\n",
       "      <td>1992.0</td>\n",
       "      <td>2024-03-01 00:01:26</td>\n",
       "      <td>2024-03-01 00:26:04</td>\n",
       "      <td>78</td>\n",
       "      <td>261</td>\n",
       "    </tr>\n",
       "    <tr>\n",
       "      <th>3</th>\n",
       "      <td>32689039</td>\n",
       "      <td>1467106</td>\n",
       "      <td>M</td>\n",
       "      <td>1995.0</td>\n",
       "      <td>2024-03-01 00:02:04</td>\n",
       "      <td>2024-03-01 00:09:56</td>\n",
       "      <td>154</td>\n",
       "      <td>30</td>\n",
       "    </tr>\n",
       "    <tr>\n",
       "      <th>4</th>\n",
       "      <td>32689042</td>\n",
       "      <td>641553</td>\n",
       "      <td>M</td>\n",
       "      <td>1985.0</td>\n",
       "      <td>2024-03-01 00:02:22</td>\n",
       "      <td>2024-03-01 00:07:13</td>\n",
       "      <td>86</td>\n",
       "      <td>49</td>\n",
       "    </tr>\n",
       "  </tbody>\n",
       "</table>\n",
       "</div>"
      ],
      "text/plain": [
       "   Viaje_Id  Usuario_Id Genero  Año_de_nacimiento     Inicio_del_viaje  \\\n",
       "0  32689032     2144362    NaN             1997.0  2024-03-01 00:00:22   \n",
       "1  32689037     2703032      M             1970.0  2024-03-01 00:00:52   \n",
       "2  32689038      513364      M             1992.0  2024-03-01 00:01:26   \n",
       "3  32689039     1467106      M             1995.0  2024-03-01 00:02:04   \n",
       "4  32689042      641553      M             1985.0  2024-03-01 00:02:22   \n",
       "\n",
       "         Fin_del_viaje  Origen_Id  Destino_Id  \n",
       "0  2024-03-01 00:20:38         70         247  \n",
       "1  2024-03-01 00:25:33         78         289  \n",
       "2  2024-03-01 00:26:04         78         261  \n",
       "3  2024-03-01 00:09:56        154          30  \n",
       "4  2024-03-01 00:07:13         86          49  "
      ]
     },
     "execution_count": 63,
     "metadata": {},
     "output_type": "execute_result"
    }
   ],
   "source": [
    "mibici_2024_list[2].head()"
   ]
  },
  {
   "cell_type": "code",
   "execution_count": 64,
   "id": "863e4070",
   "metadata": {},
   "outputs": [
    {
     "data": {
      "application/vnd.microsoft.datawrangler.viewer.v0+json": {
       "columns": [
        {
         "name": "index",
         "rawType": "int64",
         "type": "integer"
        },
        {
         "name": "Viaje_Id",
         "rawType": "int64",
         "type": "integer"
        },
        {
         "name": "Usuario_Id",
         "rawType": "int64",
         "type": "integer"
        },
        {
         "name": "Genero",
         "rawType": "object",
         "type": "string"
        },
        {
         "name": "Año_de_nacimiento",
         "rawType": "float64",
         "type": "float"
        },
        {
         "name": "Inicio_del_viaje",
         "rawType": "object",
         "type": "string"
        },
        {
         "name": "Fin_del_viaje",
         "rawType": "object",
         "type": "string"
        },
        {
         "name": "Origen_Id",
         "rawType": "int64",
         "type": "integer"
        },
        {
         "name": "Destino_Id",
         "rawType": "int64",
         "type": "integer"
        }
       ],
       "conversionMethod": "pd.DataFrame",
       "ref": "519675f3-8cdb-4059-af3f-c206c53ca042",
       "rows": [
        [
         "0",
         "33143294",
         "2540332",
         "M",
         "1989.0",
         "2024-04-01 00:00:48",
         "2024-04-01 00:05:06",
         "21",
         "33"
        ],
        [
         "1",
         "33143296",
         "531743",
         "M",
         "1976.0",
         "2024-04-01 00:02:10",
         "2024-04-01 00:18:36",
         "79",
         "207"
        ],
        [
         "2",
         "33143297",
         "1264247",
         "M",
         "1999.0",
         "2024-04-01 00:02:18",
         "2024-04-01 00:18:58",
         "79",
         "207"
        ],
        [
         "3",
         "33143298",
         "2071356",
         "M",
         "2004.0",
         "2024-04-01 00:02:19",
         "2024-04-01 00:18:49",
         "79",
         "207"
        ],
        [
         "4",
         "33143299",
         "745046",
         "M",
         "1995.0",
         "2024-04-01 00:02:42",
         "2024-04-01 00:10:45",
         "41",
         "52"
        ]
       ],
       "shape": {
        "columns": 8,
        "rows": 5
       }
      },
      "text/html": [
       "<div>\n",
       "<style scoped>\n",
       "    .dataframe tbody tr th:only-of-type {\n",
       "        vertical-align: middle;\n",
       "    }\n",
       "\n",
       "    .dataframe tbody tr th {\n",
       "        vertical-align: top;\n",
       "    }\n",
       "\n",
       "    .dataframe thead th {\n",
       "        text-align: right;\n",
       "    }\n",
       "</style>\n",
       "<table border=\"1\" class=\"dataframe\">\n",
       "  <thead>\n",
       "    <tr style=\"text-align: right;\">\n",
       "      <th></th>\n",
       "      <th>Viaje_Id</th>\n",
       "      <th>Usuario_Id</th>\n",
       "      <th>Genero</th>\n",
       "      <th>Año_de_nacimiento</th>\n",
       "      <th>Inicio_del_viaje</th>\n",
       "      <th>Fin_del_viaje</th>\n",
       "      <th>Origen_Id</th>\n",
       "      <th>Destino_Id</th>\n",
       "    </tr>\n",
       "  </thead>\n",
       "  <tbody>\n",
       "    <tr>\n",
       "      <th>0</th>\n",
       "      <td>33143294</td>\n",
       "      <td>2540332</td>\n",
       "      <td>M</td>\n",
       "      <td>1989.0</td>\n",
       "      <td>2024-04-01 00:00:48</td>\n",
       "      <td>2024-04-01 00:05:06</td>\n",
       "      <td>21</td>\n",
       "      <td>33</td>\n",
       "    </tr>\n",
       "    <tr>\n",
       "      <th>1</th>\n",
       "      <td>33143296</td>\n",
       "      <td>531743</td>\n",
       "      <td>M</td>\n",
       "      <td>1976.0</td>\n",
       "      <td>2024-04-01 00:02:10</td>\n",
       "      <td>2024-04-01 00:18:36</td>\n",
       "      <td>79</td>\n",
       "      <td>207</td>\n",
       "    </tr>\n",
       "    <tr>\n",
       "      <th>2</th>\n",
       "      <td>33143297</td>\n",
       "      <td>1264247</td>\n",
       "      <td>M</td>\n",
       "      <td>1999.0</td>\n",
       "      <td>2024-04-01 00:02:18</td>\n",
       "      <td>2024-04-01 00:18:58</td>\n",
       "      <td>79</td>\n",
       "      <td>207</td>\n",
       "    </tr>\n",
       "    <tr>\n",
       "      <th>3</th>\n",
       "      <td>33143298</td>\n",
       "      <td>2071356</td>\n",
       "      <td>M</td>\n",
       "      <td>2004.0</td>\n",
       "      <td>2024-04-01 00:02:19</td>\n",
       "      <td>2024-04-01 00:18:49</td>\n",
       "      <td>79</td>\n",
       "      <td>207</td>\n",
       "    </tr>\n",
       "    <tr>\n",
       "      <th>4</th>\n",
       "      <td>33143299</td>\n",
       "      <td>745046</td>\n",
       "      <td>M</td>\n",
       "      <td>1995.0</td>\n",
       "      <td>2024-04-01 00:02:42</td>\n",
       "      <td>2024-04-01 00:10:45</td>\n",
       "      <td>41</td>\n",
       "      <td>52</td>\n",
       "    </tr>\n",
       "  </tbody>\n",
       "</table>\n",
       "</div>"
      ],
      "text/plain": [
       "   Viaje_Id  Usuario_Id Genero  Año_de_nacimiento     Inicio_del_viaje  \\\n",
       "0  33143294     2540332      M             1989.0  2024-04-01 00:00:48   \n",
       "1  33143296      531743      M             1976.0  2024-04-01 00:02:10   \n",
       "2  33143297     1264247      M             1999.0  2024-04-01 00:02:18   \n",
       "3  33143298     2071356      M             2004.0  2024-04-01 00:02:19   \n",
       "4  33143299      745046      M             1995.0  2024-04-01 00:02:42   \n",
       "\n",
       "         Fin_del_viaje  Origen_Id  Destino_Id  \n",
       "0  2024-04-01 00:05:06         21          33  \n",
       "1  2024-04-01 00:18:36         79         207  \n",
       "2  2024-04-01 00:18:58         79         207  \n",
       "3  2024-04-01 00:18:49         79         207  \n",
       "4  2024-04-01 00:10:45         41          52  "
      ]
     },
     "execution_count": 64,
     "metadata": {},
     "output_type": "execute_result"
    }
   ],
   "source": [
    "mibici_2024_list[3].head()"
   ]
  },
  {
   "cell_type": "code",
   "execution_count": 65,
   "id": "f1c70a44",
   "metadata": {},
   "outputs": [
    {
     "data": {
      "application/vnd.microsoft.datawrangler.viewer.v0+json": {
       "columns": [
        {
         "name": "index",
         "rawType": "int64",
         "type": "integer"
        },
        {
         "name": "Viaje_Id",
         "rawType": "int64",
         "type": "integer"
        },
        {
         "name": "Usuario_Id",
         "rawType": "int64",
         "type": "integer"
        },
        {
         "name": "Genero",
         "rawType": "object",
         "type": "string"
        },
        {
         "name": "A}äe_nacimiento",
         "rawType": "float64",
         "type": "float"
        },
        {
         "name": "Inicio_del_viaje",
         "rawType": "object",
         "type": "string"
        },
        {
         "name": "Fin_del_viaje",
         "rawType": "object",
         "type": "string"
        },
        {
         "name": "Origen_Id",
         "rawType": "int64",
         "type": "integer"
        },
        {
         "name": "Destino_Id",
         "rawType": "int64",
         "type": "integer"
        }
       ],
       "conversionMethod": "pd.DataFrame",
       "ref": "aaf06a4b-dcfd-40ef-8ba4-481669e2e10e",
       "rows": [
        [
         "0",
         "33617601",
         "1010367",
         "M",
         "1990.0",
         "2024-05-01 00:01:35",
         "2024-05-01 00:09:08",
         "196",
         "49"
        ],
        [
         "1",
         "33617605",
         "2240043",
         "M",
         "1994.0",
         "2024-05-01 00:02:00",
         "2024-05-01 00:22:20",
         "174",
         "229"
        ],
        [
         "2",
         "33617607",
         "2762155",
         "M",
         "2003.0",
         "2024-05-01 00:02:29",
         "2024-05-01 00:02:46",
         "33",
         "33"
        ],
        [
         "3",
         "33617610",
         "1452765",
         "M",
         "1988.0",
         "2024-05-01 00:02:57",
         "2024-05-01 00:14:42",
         "30",
         "3"
        ],
        [
         "4",
         "33617611",
         "2431176",
         "M",
         "2000.0",
         "2024-05-01 00:03:17",
         "2024-05-01 00:10:59",
         "196",
         "177"
        ]
       ],
       "shape": {
        "columns": 8,
        "rows": 5
       }
      },
      "text/html": [
       "<div>\n",
       "<style scoped>\n",
       "    .dataframe tbody tr th:only-of-type {\n",
       "        vertical-align: middle;\n",
       "    }\n",
       "\n",
       "    .dataframe tbody tr th {\n",
       "        vertical-align: top;\n",
       "    }\n",
       "\n",
       "    .dataframe thead th {\n",
       "        text-align: right;\n",
       "    }\n",
       "</style>\n",
       "<table border=\"1\" class=\"dataframe\">\n",
       "  <thead>\n",
       "    <tr style=\"text-align: right;\">\n",
       "      <th></th>\n",
       "      <th>Viaje_Id</th>\n",
       "      <th>Usuario_Id</th>\n",
       "      <th>Genero</th>\n",
       "      <th>A}äe_nacimiento</th>\n",
       "      <th>Inicio_del_viaje</th>\n",
       "      <th>Fin_del_viaje</th>\n",
       "      <th>Origen_Id</th>\n",
       "      <th>Destino_Id</th>\n",
       "    </tr>\n",
       "  </thead>\n",
       "  <tbody>\n",
       "    <tr>\n",
       "      <th>0</th>\n",
       "      <td>33617601</td>\n",
       "      <td>1010367</td>\n",
       "      <td>M</td>\n",
       "      <td>1990.0</td>\n",
       "      <td>2024-05-01 00:01:35</td>\n",
       "      <td>2024-05-01 00:09:08</td>\n",
       "      <td>196</td>\n",
       "      <td>49</td>\n",
       "    </tr>\n",
       "    <tr>\n",
       "      <th>1</th>\n",
       "      <td>33617605</td>\n",
       "      <td>2240043</td>\n",
       "      <td>M</td>\n",
       "      <td>1994.0</td>\n",
       "      <td>2024-05-01 00:02:00</td>\n",
       "      <td>2024-05-01 00:22:20</td>\n",
       "      <td>174</td>\n",
       "      <td>229</td>\n",
       "    </tr>\n",
       "    <tr>\n",
       "      <th>2</th>\n",
       "      <td>33617607</td>\n",
       "      <td>2762155</td>\n",
       "      <td>M</td>\n",
       "      <td>2003.0</td>\n",
       "      <td>2024-05-01 00:02:29</td>\n",
       "      <td>2024-05-01 00:02:46</td>\n",
       "      <td>33</td>\n",
       "      <td>33</td>\n",
       "    </tr>\n",
       "    <tr>\n",
       "      <th>3</th>\n",
       "      <td>33617610</td>\n",
       "      <td>1452765</td>\n",
       "      <td>M</td>\n",
       "      <td>1988.0</td>\n",
       "      <td>2024-05-01 00:02:57</td>\n",
       "      <td>2024-05-01 00:14:42</td>\n",
       "      <td>30</td>\n",
       "      <td>3</td>\n",
       "    </tr>\n",
       "    <tr>\n",
       "      <th>4</th>\n",
       "      <td>33617611</td>\n",
       "      <td>2431176</td>\n",
       "      <td>M</td>\n",
       "      <td>2000.0</td>\n",
       "      <td>2024-05-01 00:03:17</td>\n",
       "      <td>2024-05-01 00:10:59</td>\n",
       "      <td>196</td>\n",
       "      <td>177</td>\n",
       "    </tr>\n",
       "  </tbody>\n",
       "</table>\n",
       "</div>"
      ],
      "text/plain": [
       "   Viaje_Id  Usuario_Id Genero  A}äe_nacimiento     Inicio_del_viaje  \\\n",
       "0  33617601     1010367      M           1990.0  2024-05-01 00:01:35   \n",
       "1  33617605     2240043      M           1994.0  2024-05-01 00:02:00   \n",
       "2  33617607     2762155      M           2003.0  2024-05-01 00:02:29   \n",
       "3  33617610     1452765      M           1988.0  2024-05-01 00:02:57   \n",
       "4  33617611     2431176      M           2000.0  2024-05-01 00:03:17   \n",
       "\n",
       "         Fin_del_viaje  Origen_Id  Destino_Id  \n",
       "0  2024-05-01 00:09:08        196          49  \n",
       "1  2024-05-01 00:22:20        174         229  \n",
       "2  2024-05-01 00:02:46         33          33  \n",
       "3  2024-05-01 00:14:42         30           3  \n",
       "4  2024-05-01 00:10:59        196         177  "
      ]
     },
     "execution_count": 65,
     "metadata": {},
     "output_type": "execute_result"
    }
   ],
   "source": [
    "mibici_2024_list[4].head()"
   ]
  },
  {
   "cell_type": "code",
   "execution_count": 66,
   "id": "f4763241",
   "metadata": {},
   "outputs": [
    {
     "data": {
      "application/vnd.microsoft.datawrangler.viewer.v0+json": {
       "columns": [
        {
         "name": "index",
         "rawType": "int64",
         "type": "integer"
        },
        {
         "name": "Viaje_Id",
         "rawType": "int64",
         "type": "integer"
        },
        {
         "name": "Usuario_Id",
         "rawType": "int64",
         "type": "integer"
        },
        {
         "name": "Genero",
         "rawType": "object",
         "type": "string"
        },
        {
         "name": "Año_de_nacimiento",
         "rawType": "float64",
         "type": "float"
        },
        {
         "name": "Inicio_del_viaje",
         "rawType": "object",
         "type": "string"
        },
        {
         "name": "Fin_del_viaje",
         "rawType": "object",
         "type": "string"
        },
        {
         "name": "Origen_Id",
         "rawType": "int64",
         "type": "integer"
        },
        {
         "name": "Destino_Id",
         "rawType": "int64",
         "type": "integer"
        }
       ],
       "conversionMethod": "pd.DataFrame",
       "ref": "cf8be4fd-8965-4637-b9b2-5dd616d04f30",
       "rows": [
        [
         "0",
         "33617601",
         "1010367",
         "M",
         "1990.0",
         "2024-05-01 00:01:35",
         "2024-05-01 00:09:08",
         "196",
         "49"
        ],
        [
         "1",
         "33617605",
         "2240043",
         "M",
         "1994.0",
         "2024-05-01 00:02:00",
         "2024-05-01 00:22:20",
         "174",
         "229"
        ],
        [
         "2",
         "33617607",
         "2762155",
         "M",
         "2003.0",
         "2024-05-01 00:02:29",
         "2024-05-01 00:02:46",
         "33",
         "33"
        ],
        [
         "3",
         "33617610",
         "1452765",
         "M",
         "1988.0",
         "2024-05-01 00:02:57",
         "2024-05-01 00:14:42",
         "30",
         "3"
        ],
        [
         "4",
         "33617611",
         "2431176",
         "M",
         "2000.0",
         "2024-05-01 00:03:17",
         "2024-05-01 00:10:59",
         "196",
         "177"
        ]
       ],
       "shape": {
        "columns": 8,
        "rows": 5
       }
      },
      "text/html": [
       "<div>\n",
       "<style scoped>\n",
       "    .dataframe tbody tr th:only-of-type {\n",
       "        vertical-align: middle;\n",
       "    }\n",
       "\n",
       "    .dataframe tbody tr th {\n",
       "        vertical-align: top;\n",
       "    }\n",
       "\n",
       "    .dataframe thead th {\n",
       "        text-align: right;\n",
       "    }\n",
       "</style>\n",
       "<table border=\"1\" class=\"dataframe\">\n",
       "  <thead>\n",
       "    <tr style=\"text-align: right;\">\n",
       "      <th></th>\n",
       "      <th>Viaje_Id</th>\n",
       "      <th>Usuario_Id</th>\n",
       "      <th>Genero</th>\n",
       "      <th>Año_de_nacimiento</th>\n",
       "      <th>Inicio_del_viaje</th>\n",
       "      <th>Fin_del_viaje</th>\n",
       "      <th>Origen_Id</th>\n",
       "      <th>Destino_Id</th>\n",
       "    </tr>\n",
       "  </thead>\n",
       "  <tbody>\n",
       "    <tr>\n",
       "      <th>0</th>\n",
       "      <td>33617601</td>\n",
       "      <td>1010367</td>\n",
       "      <td>M</td>\n",
       "      <td>1990.0</td>\n",
       "      <td>2024-05-01 00:01:35</td>\n",
       "      <td>2024-05-01 00:09:08</td>\n",
       "      <td>196</td>\n",
       "      <td>49</td>\n",
       "    </tr>\n",
       "    <tr>\n",
       "      <th>1</th>\n",
       "      <td>33617605</td>\n",
       "      <td>2240043</td>\n",
       "      <td>M</td>\n",
       "      <td>1994.0</td>\n",
       "      <td>2024-05-01 00:02:00</td>\n",
       "      <td>2024-05-01 00:22:20</td>\n",
       "      <td>174</td>\n",
       "      <td>229</td>\n",
       "    </tr>\n",
       "    <tr>\n",
       "      <th>2</th>\n",
       "      <td>33617607</td>\n",
       "      <td>2762155</td>\n",
       "      <td>M</td>\n",
       "      <td>2003.0</td>\n",
       "      <td>2024-05-01 00:02:29</td>\n",
       "      <td>2024-05-01 00:02:46</td>\n",
       "      <td>33</td>\n",
       "      <td>33</td>\n",
       "    </tr>\n",
       "    <tr>\n",
       "      <th>3</th>\n",
       "      <td>33617610</td>\n",
       "      <td>1452765</td>\n",
       "      <td>M</td>\n",
       "      <td>1988.0</td>\n",
       "      <td>2024-05-01 00:02:57</td>\n",
       "      <td>2024-05-01 00:14:42</td>\n",
       "      <td>30</td>\n",
       "      <td>3</td>\n",
       "    </tr>\n",
       "    <tr>\n",
       "      <th>4</th>\n",
       "      <td>33617611</td>\n",
       "      <td>2431176</td>\n",
       "      <td>M</td>\n",
       "      <td>2000.0</td>\n",
       "      <td>2024-05-01 00:03:17</td>\n",
       "      <td>2024-05-01 00:10:59</td>\n",
       "      <td>196</td>\n",
       "      <td>177</td>\n",
       "    </tr>\n",
       "  </tbody>\n",
       "</table>\n",
       "</div>"
      ],
      "text/plain": [
       "   Viaje_Id  Usuario_Id Genero  Año_de_nacimiento     Inicio_del_viaje  \\\n",
       "0  33617601     1010367      M             1990.0  2024-05-01 00:01:35   \n",
       "1  33617605     2240043      M             1994.0  2024-05-01 00:02:00   \n",
       "2  33617607     2762155      M             2003.0  2024-05-01 00:02:29   \n",
       "3  33617610     1452765      M             1988.0  2024-05-01 00:02:57   \n",
       "4  33617611     2431176      M             2000.0  2024-05-01 00:03:17   \n",
       "\n",
       "         Fin_del_viaje  Origen_Id  Destino_Id  \n",
       "0  2024-05-01 00:09:08        196          49  \n",
       "1  2024-05-01 00:22:20        174         229  \n",
       "2  2024-05-01 00:02:46         33          33  \n",
       "3  2024-05-01 00:14:42         30           3  \n",
       "4  2024-05-01 00:10:59        196         177  "
      ]
     },
     "execution_count": 66,
     "metadata": {},
     "output_type": "execute_result"
    }
   ],
   "source": [
    "mibici_2024_list[4].rename(columns = {'A}äe_nacimiento': 'Año_de_nacimiento'}, inplace = True)\n",
    "mibici_2024_list[4].head()"
   ]
  },
  {
   "cell_type": "code",
   "execution_count": 67,
   "id": "c27579a7",
   "metadata": {},
   "outputs": [
    {
     "data": {
      "application/vnd.microsoft.datawrangler.viewer.v0+json": {
       "columns": [
        {
         "name": "index",
         "rawType": "int64",
         "type": "integer"
        },
        {
         "name": "Viaje_Id",
         "rawType": "int64",
         "type": "integer"
        },
        {
         "name": "Usuario_Id",
         "rawType": "int64",
         "type": "integer"
        },
        {
         "name": "Genero",
         "rawType": "object",
         "type": "string"
        },
        {
         "name": "Año_de_nacimiento",
         "rawType": "float64",
         "type": "float"
        },
        {
         "name": "Inicio_del_viaje",
         "rawType": "object",
         "type": "string"
        },
        {
         "name": "Fin_del_viaje",
         "rawType": "object",
         "type": "string"
        },
        {
         "name": "Origen_Id",
         "rawType": "int64",
         "type": "integer"
        },
        {
         "name": "Destino_Id",
         "rawType": "int64",
         "type": "integer"
        }
       ],
       "conversionMethod": "pd.DataFrame",
       "ref": "176fb6c4-a2ae-44f0-89ba-b7cd10a747a2",
       "rows": [
        [
         "0",
         "34099262",
         "1024463",
         "M",
         "1988.0",
         "2024-06-01 00:00:17",
         "2024-06-01 00:08:09",
         "82",
         "190"
        ],
        [
         "1",
         "34099263",
         "370373",
         "M",
         "1990.0",
         "2024-06-01 00:00:26",
         "2024-06-01 00:08:26",
         "66",
         "53"
        ],
        [
         "2",
         "34099264",
         "576623",
         "M",
         "1999.0",
         "2024-06-01 00:01:02",
         "2024-06-01 00:09:41",
         "131",
         "320"
        ],
        [
         "3",
         "34099265",
         "1040604",
         "M",
         "1991.0",
         "2024-06-01 00:01:04",
         "2024-06-01 00:08:32",
         "272",
         "330"
        ],
        [
         "4",
         "34099266",
         "2701416",
         "M",
         "1996.0",
         "2024-06-01 00:01:56",
         "2024-06-01 00:11:38",
         "66",
         "195"
        ]
       ],
       "shape": {
        "columns": 8,
        "rows": 5
       }
      },
      "text/html": [
       "<div>\n",
       "<style scoped>\n",
       "    .dataframe tbody tr th:only-of-type {\n",
       "        vertical-align: middle;\n",
       "    }\n",
       "\n",
       "    .dataframe tbody tr th {\n",
       "        vertical-align: top;\n",
       "    }\n",
       "\n",
       "    .dataframe thead th {\n",
       "        text-align: right;\n",
       "    }\n",
       "</style>\n",
       "<table border=\"1\" class=\"dataframe\">\n",
       "  <thead>\n",
       "    <tr style=\"text-align: right;\">\n",
       "      <th></th>\n",
       "      <th>Viaje_Id</th>\n",
       "      <th>Usuario_Id</th>\n",
       "      <th>Genero</th>\n",
       "      <th>Año_de_nacimiento</th>\n",
       "      <th>Inicio_del_viaje</th>\n",
       "      <th>Fin_del_viaje</th>\n",
       "      <th>Origen_Id</th>\n",
       "      <th>Destino_Id</th>\n",
       "    </tr>\n",
       "  </thead>\n",
       "  <tbody>\n",
       "    <tr>\n",
       "      <th>0</th>\n",
       "      <td>34099262</td>\n",
       "      <td>1024463</td>\n",
       "      <td>M</td>\n",
       "      <td>1988.0</td>\n",
       "      <td>2024-06-01 00:00:17</td>\n",
       "      <td>2024-06-01 00:08:09</td>\n",
       "      <td>82</td>\n",
       "      <td>190</td>\n",
       "    </tr>\n",
       "    <tr>\n",
       "      <th>1</th>\n",
       "      <td>34099263</td>\n",
       "      <td>370373</td>\n",
       "      <td>M</td>\n",
       "      <td>1990.0</td>\n",
       "      <td>2024-06-01 00:00:26</td>\n",
       "      <td>2024-06-01 00:08:26</td>\n",
       "      <td>66</td>\n",
       "      <td>53</td>\n",
       "    </tr>\n",
       "    <tr>\n",
       "      <th>2</th>\n",
       "      <td>34099264</td>\n",
       "      <td>576623</td>\n",
       "      <td>M</td>\n",
       "      <td>1999.0</td>\n",
       "      <td>2024-06-01 00:01:02</td>\n",
       "      <td>2024-06-01 00:09:41</td>\n",
       "      <td>131</td>\n",
       "      <td>320</td>\n",
       "    </tr>\n",
       "    <tr>\n",
       "      <th>3</th>\n",
       "      <td>34099265</td>\n",
       "      <td>1040604</td>\n",
       "      <td>M</td>\n",
       "      <td>1991.0</td>\n",
       "      <td>2024-06-01 00:01:04</td>\n",
       "      <td>2024-06-01 00:08:32</td>\n",
       "      <td>272</td>\n",
       "      <td>330</td>\n",
       "    </tr>\n",
       "    <tr>\n",
       "      <th>4</th>\n",
       "      <td>34099266</td>\n",
       "      <td>2701416</td>\n",
       "      <td>M</td>\n",
       "      <td>1996.0</td>\n",
       "      <td>2024-06-01 00:01:56</td>\n",
       "      <td>2024-06-01 00:11:38</td>\n",
       "      <td>66</td>\n",
       "      <td>195</td>\n",
       "    </tr>\n",
       "  </tbody>\n",
       "</table>\n",
       "</div>"
      ],
      "text/plain": [
       "   Viaje_Id  Usuario_Id Genero  Año_de_nacimiento     Inicio_del_viaje  \\\n",
       "0  34099262     1024463      M             1988.0  2024-06-01 00:00:17   \n",
       "1  34099263      370373      M             1990.0  2024-06-01 00:00:26   \n",
       "2  34099264      576623      M             1999.0  2024-06-01 00:01:02   \n",
       "3  34099265     1040604      M             1991.0  2024-06-01 00:01:04   \n",
       "4  34099266     2701416      M             1996.0  2024-06-01 00:01:56   \n",
       "\n",
       "         Fin_del_viaje  Origen_Id  Destino_Id  \n",
       "0  2024-06-01 00:08:09         82         190  \n",
       "1  2024-06-01 00:08:26         66          53  \n",
       "2  2024-06-01 00:09:41        131         320  \n",
       "3  2024-06-01 00:08:32        272         330  \n",
       "4  2024-06-01 00:11:38         66         195  "
      ]
     },
     "execution_count": 67,
     "metadata": {},
     "output_type": "execute_result"
    }
   ],
   "source": [
    "mibici_2024_list[5].head()"
   ]
  },
  {
   "cell_type": "code",
   "execution_count": 68,
   "id": "873dad33",
   "metadata": {},
   "outputs": [
    {
     "data": {
      "application/vnd.microsoft.datawrangler.viewer.v0+json": {
       "columns": [
        {
         "name": "index",
         "rawType": "int64",
         "type": "integer"
        },
        {
         "name": "Viaje_Id",
         "rawType": "int64",
         "type": "integer"
        },
        {
         "name": "Usuario_Id",
         "rawType": "int64",
         "type": "integer"
        },
        {
         "name": "Genero",
         "rawType": "object",
         "type": "string"
        },
        {
         "name": "AÃ±o_de_nacimiento",
         "rawType": "float64",
         "type": "float"
        },
        {
         "name": "Inicio_del_viaje",
         "rawType": "object",
         "type": "string"
        },
        {
         "name": "Fin_del_viaje",
         "rawType": "object",
         "type": "string"
        },
        {
         "name": "Origen_Id",
         "rawType": "int64",
         "type": "integer"
        },
        {
         "name": "Destino_Id",
         "rawType": "int64",
         "type": "integer"
        }
       ],
       "conversionMethod": "pd.DataFrame",
       "ref": "8d5d4c14-4992-4c59-a071-fb4f4623af5e",
       "rows": [
        [
         "0",
         "34524982",
         "556754",
         "M",
         "1981.0",
         "2024-07-01 00:00:34",
         "2024-07-01 00:09:40",
         "88",
         "88"
        ],
        [
         "1",
         "34524983",
         "3477334",
         "M",
         "1987.0",
         "2024-07-01 00:01:09",
         "2024-07-01 00:43:56",
         "210",
         "210"
        ],
        [
         "2",
         "34524986",
         "4040711",
         "M",
         "1998.0",
         "2024-07-01 00:03:32",
         "2024-07-01 00:26:51",
         "206",
         "197"
        ],
        [
         "3",
         "34524987",
         "21120",
         "M",
         "1981.0",
         "2024-07-01 00:04:15",
         "2024-07-01 00:08:19",
         "26",
         "52"
        ],
        [
         "4",
         "34524988",
         "4044423",
         "M",
         "2001.0",
         "2024-07-01 00:04:20",
         "2024-07-01 00:30:54",
         "213",
         "160"
        ]
       ],
       "shape": {
        "columns": 8,
        "rows": 5
       }
      },
      "text/html": [
       "<div>\n",
       "<style scoped>\n",
       "    .dataframe tbody tr th:only-of-type {\n",
       "        vertical-align: middle;\n",
       "    }\n",
       "\n",
       "    .dataframe tbody tr th {\n",
       "        vertical-align: top;\n",
       "    }\n",
       "\n",
       "    .dataframe thead th {\n",
       "        text-align: right;\n",
       "    }\n",
       "</style>\n",
       "<table border=\"1\" class=\"dataframe\">\n",
       "  <thead>\n",
       "    <tr style=\"text-align: right;\">\n",
       "      <th></th>\n",
       "      <th>Viaje_Id</th>\n",
       "      <th>Usuario_Id</th>\n",
       "      <th>Genero</th>\n",
       "      <th>AÃ±o_de_nacimiento</th>\n",
       "      <th>Inicio_del_viaje</th>\n",
       "      <th>Fin_del_viaje</th>\n",
       "      <th>Origen_Id</th>\n",
       "      <th>Destino_Id</th>\n",
       "    </tr>\n",
       "  </thead>\n",
       "  <tbody>\n",
       "    <tr>\n",
       "      <th>0</th>\n",
       "      <td>34524982</td>\n",
       "      <td>556754</td>\n",
       "      <td>M</td>\n",
       "      <td>1981.0</td>\n",
       "      <td>2024-07-01 00:00:34</td>\n",
       "      <td>2024-07-01 00:09:40</td>\n",
       "      <td>88</td>\n",
       "      <td>88</td>\n",
       "    </tr>\n",
       "    <tr>\n",
       "      <th>1</th>\n",
       "      <td>34524983</td>\n",
       "      <td>3477334</td>\n",
       "      <td>M</td>\n",
       "      <td>1987.0</td>\n",
       "      <td>2024-07-01 00:01:09</td>\n",
       "      <td>2024-07-01 00:43:56</td>\n",
       "      <td>210</td>\n",
       "      <td>210</td>\n",
       "    </tr>\n",
       "    <tr>\n",
       "      <th>2</th>\n",
       "      <td>34524986</td>\n",
       "      <td>4040711</td>\n",
       "      <td>M</td>\n",
       "      <td>1998.0</td>\n",
       "      <td>2024-07-01 00:03:32</td>\n",
       "      <td>2024-07-01 00:26:51</td>\n",
       "      <td>206</td>\n",
       "      <td>197</td>\n",
       "    </tr>\n",
       "    <tr>\n",
       "      <th>3</th>\n",
       "      <td>34524987</td>\n",
       "      <td>21120</td>\n",
       "      <td>M</td>\n",
       "      <td>1981.0</td>\n",
       "      <td>2024-07-01 00:04:15</td>\n",
       "      <td>2024-07-01 00:08:19</td>\n",
       "      <td>26</td>\n",
       "      <td>52</td>\n",
       "    </tr>\n",
       "    <tr>\n",
       "      <th>4</th>\n",
       "      <td>34524988</td>\n",
       "      <td>4044423</td>\n",
       "      <td>M</td>\n",
       "      <td>2001.0</td>\n",
       "      <td>2024-07-01 00:04:20</td>\n",
       "      <td>2024-07-01 00:30:54</td>\n",
       "      <td>213</td>\n",
       "      <td>160</td>\n",
       "    </tr>\n",
       "  </tbody>\n",
       "</table>\n",
       "</div>"
      ],
      "text/plain": [
       "   Viaje_Id  Usuario_Id Genero  AÃ±o_de_nacimiento     Inicio_del_viaje  \\\n",
       "0  34524982      556754      M              1981.0  2024-07-01 00:00:34   \n",
       "1  34524983     3477334      M              1987.0  2024-07-01 00:01:09   \n",
       "2  34524986     4040711      M              1998.0  2024-07-01 00:03:32   \n",
       "3  34524987       21120      M              1981.0  2024-07-01 00:04:15   \n",
       "4  34524988     4044423      M              2001.0  2024-07-01 00:04:20   \n",
       "\n",
       "         Fin_del_viaje  Origen_Id  Destino_Id  \n",
       "0  2024-07-01 00:09:40         88          88  \n",
       "1  2024-07-01 00:43:56        210         210  \n",
       "2  2024-07-01 00:26:51        206         197  \n",
       "3  2024-07-01 00:08:19         26          52  \n",
       "4  2024-07-01 00:30:54        213         160  "
      ]
     },
     "execution_count": 68,
     "metadata": {},
     "output_type": "execute_result"
    }
   ],
   "source": [
    "mibici_2024_list[6].head()"
   ]
  },
  {
   "cell_type": "code",
   "execution_count": 69,
   "id": "4d3ff26f",
   "metadata": {},
   "outputs": [
    {
     "data": {
      "application/vnd.microsoft.datawrangler.viewer.v0+json": {
       "columns": [
        {
         "name": "index",
         "rawType": "int64",
         "type": "integer"
        },
        {
         "name": "Viaje_Id",
         "rawType": "int64",
         "type": "integer"
        },
        {
         "name": "Usuario_Id",
         "rawType": "int64",
         "type": "integer"
        },
        {
         "name": "Genero",
         "rawType": "object",
         "type": "string"
        },
        {
         "name": "Año_de_nacimiento",
         "rawType": "float64",
         "type": "float"
        },
        {
         "name": "Inicio_del_viaje",
         "rawType": "object",
         "type": "string"
        },
        {
         "name": "Fin_del_viaje",
         "rawType": "object",
         "type": "string"
        },
        {
         "name": "Origen_Id",
         "rawType": "int64",
         "type": "integer"
        },
        {
         "name": "Destino_Id",
         "rawType": "int64",
         "type": "integer"
        }
       ],
       "conversionMethod": "pd.DataFrame",
       "ref": "56306332-1c41-46c6-b6f5-73cbd34eccb5",
       "rows": [
        [
         "0",
         "34524982",
         "556754",
         "M",
         "1981.0",
         "2024-07-01 00:00:34",
         "2024-07-01 00:09:40",
         "88",
         "88"
        ],
        [
         "1",
         "34524983",
         "3477334",
         "M",
         "1987.0",
         "2024-07-01 00:01:09",
         "2024-07-01 00:43:56",
         "210",
         "210"
        ],
        [
         "2",
         "34524986",
         "4040711",
         "M",
         "1998.0",
         "2024-07-01 00:03:32",
         "2024-07-01 00:26:51",
         "206",
         "197"
        ],
        [
         "3",
         "34524987",
         "21120",
         "M",
         "1981.0",
         "2024-07-01 00:04:15",
         "2024-07-01 00:08:19",
         "26",
         "52"
        ],
        [
         "4",
         "34524988",
         "4044423",
         "M",
         "2001.0",
         "2024-07-01 00:04:20",
         "2024-07-01 00:30:54",
         "213",
         "160"
        ]
       ],
       "shape": {
        "columns": 8,
        "rows": 5
       }
      },
      "text/html": [
       "<div>\n",
       "<style scoped>\n",
       "    .dataframe tbody tr th:only-of-type {\n",
       "        vertical-align: middle;\n",
       "    }\n",
       "\n",
       "    .dataframe tbody tr th {\n",
       "        vertical-align: top;\n",
       "    }\n",
       "\n",
       "    .dataframe thead th {\n",
       "        text-align: right;\n",
       "    }\n",
       "</style>\n",
       "<table border=\"1\" class=\"dataframe\">\n",
       "  <thead>\n",
       "    <tr style=\"text-align: right;\">\n",
       "      <th></th>\n",
       "      <th>Viaje_Id</th>\n",
       "      <th>Usuario_Id</th>\n",
       "      <th>Genero</th>\n",
       "      <th>Año_de_nacimiento</th>\n",
       "      <th>Inicio_del_viaje</th>\n",
       "      <th>Fin_del_viaje</th>\n",
       "      <th>Origen_Id</th>\n",
       "      <th>Destino_Id</th>\n",
       "    </tr>\n",
       "  </thead>\n",
       "  <tbody>\n",
       "    <tr>\n",
       "      <th>0</th>\n",
       "      <td>34524982</td>\n",
       "      <td>556754</td>\n",
       "      <td>M</td>\n",
       "      <td>1981.0</td>\n",
       "      <td>2024-07-01 00:00:34</td>\n",
       "      <td>2024-07-01 00:09:40</td>\n",
       "      <td>88</td>\n",
       "      <td>88</td>\n",
       "    </tr>\n",
       "    <tr>\n",
       "      <th>1</th>\n",
       "      <td>34524983</td>\n",
       "      <td>3477334</td>\n",
       "      <td>M</td>\n",
       "      <td>1987.0</td>\n",
       "      <td>2024-07-01 00:01:09</td>\n",
       "      <td>2024-07-01 00:43:56</td>\n",
       "      <td>210</td>\n",
       "      <td>210</td>\n",
       "    </tr>\n",
       "    <tr>\n",
       "      <th>2</th>\n",
       "      <td>34524986</td>\n",
       "      <td>4040711</td>\n",
       "      <td>M</td>\n",
       "      <td>1998.0</td>\n",
       "      <td>2024-07-01 00:03:32</td>\n",
       "      <td>2024-07-01 00:26:51</td>\n",
       "      <td>206</td>\n",
       "      <td>197</td>\n",
       "    </tr>\n",
       "    <tr>\n",
       "      <th>3</th>\n",
       "      <td>34524987</td>\n",
       "      <td>21120</td>\n",
       "      <td>M</td>\n",
       "      <td>1981.0</td>\n",
       "      <td>2024-07-01 00:04:15</td>\n",
       "      <td>2024-07-01 00:08:19</td>\n",
       "      <td>26</td>\n",
       "      <td>52</td>\n",
       "    </tr>\n",
       "    <tr>\n",
       "      <th>4</th>\n",
       "      <td>34524988</td>\n",
       "      <td>4044423</td>\n",
       "      <td>M</td>\n",
       "      <td>2001.0</td>\n",
       "      <td>2024-07-01 00:04:20</td>\n",
       "      <td>2024-07-01 00:30:54</td>\n",
       "      <td>213</td>\n",
       "      <td>160</td>\n",
       "    </tr>\n",
       "  </tbody>\n",
       "</table>\n",
       "</div>"
      ],
      "text/plain": [
       "   Viaje_Id  Usuario_Id Genero  Año_de_nacimiento     Inicio_del_viaje  \\\n",
       "0  34524982      556754      M             1981.0  2024-07-01 00:00:34   \n",
       "1  34524983     3477334      M             1987.0  2024-07-01 00:01:09   \n",
       "2  34524986     4040711      M             1998.0  2024-07-01 00:03:32   \n",
       "3  34524987       21120      M             1981.0  2024-07-01 00:04:15   \n",
       "4  34524988     4044423      M             2001.0  2024-07-01 00:04:20   \n",
       "\n",
       "         Fin_del_viaje  Origen_Id  Destino_Id  \n",
       "0  2024-07-01 00:09:40         88          88  \n",
       "1  2024-07-01 00:43:56        210         210  \n",
       "2  2024-07-01 00:26:51        206         197  \n",
       "3  2024-07-01 00:08:19         26          52  \n",
       "4  2024-07-01 00:30:54        213         160  "
      ]
     },
     "execution_count": 69,
     "metadata": {},
     "output_type": "execute_result"
    }
   ],
   "source": [
    "mibici_2024_list[6].rename(columns = {'AÃ±o_de_nacimiento': 'Año_de_nacimiento'}, inplace = True)\n",
    "mibici_2024_list[6].head()"
   ]
  },
  {
   "cell_type": "code",
   "execution_count": 70,
   "id": "83a097c7",
   "metadata": {},
   "outputs": [
    {
     "data": {
      "application/vnd.microsoft.datawrangler.viewer.v0+json": {
       "columns": [
        {
         "name": "index",
         "rawType": "int64",
         "type": "integer"
        },
        {
         "name": "Viaje_Id",
         "rawType": "int64",
         "type": "integer"
        },
        {
         "name": "Usuario_Id",
         "rawType": "int64",
         "type": "integer"
        },
        {
         "name": "Genero",
         "rawType": "object",
         "type": "string"
        },
        {
         "name": "Año_de_nacimiento",
         "rawType": "float64",
         "type": "float"
        },
        {
         "name": "Inicio_del_viaje",
         "rawType": "object",
         "type": "string"
        },
        {
         "name": "Fin_del_viaje",
         "rawType": "object",
         "type": "string"
        },
        {
         "name": "Origen_Id",
         "rawType": "int64",
         "type": "integer"
        },
        {
         "name": "Destino_Id",
         "rawType": "int64",
         "type": "integer"
        }
       ],
       "conversionMethod": "pd.DataFrame",
       "ref": "2891fc0b-d510-4c8a-9980-69f4757e04f5",
       "rows": [
        [
         "0",
         "34950758",
         "1653754",
         "M",
         "2001.0",
         "2024-08-01 00:00:09",
         "2024-08-01 00:14:18",
         "12",
         "159"
        ],
        [
         "1",
         "34950759",
         "2703032",
         "M",
         "1970.0",
         "2024-08-01 00:01:08",
         "2024-08-01 00:23:41",
         "78",
         "341"
        ],
        [
         "2",
         "34950760",
         "2077125",
         "M",
         "1990.0",
         "2024-08-01 00:01:16",
         "2024-08-01 00:26:01",
         "85",
         "53"
        ],
        [
         "3",
         "34950764",
         "3503076",
         "F",
         "1981.0",
         "2024-08-01 00:05:12",
         "2024-08-01 00:25:26",
         "255",
         "349"
        ],
        [
         "4",
         "34950765",
         "3470220",
         "M",
         "1997.0",
         "2024-08-01 00:05:47",
         "2024-08-01 00:21:17",
         "21",
         "178"
        ]
       ],
       "shape": {
        "columns": 8,
        "rows": 5
       }
      },
      "text/html": [
       "<div>\n",
       "<style scoped>\n",
       "    .dataframe tbody tr th:only-of-type {\n",
       "        vertical-align: middle;\n",
       "    }\n",
       "\n",
       "    .dataframe tbody tr th {\n",
       "        vertical-align: top;\n",
       "    }\n",
       "\n",
       "    .dataframe thead th {\n",
       "        text-align: right;\n",
       "    }\n",
       "</style>\n",
       "<table border=\"1\" class=\"dataframe\">\n",
       "  <thead>\n",
       "    <tr style=\"text-align: right;\">\n",
       "      <th></th>\n",
       "      <th>Viaje_Id</th>\n",
       "      <th>Usuario_Id</th>\n",
       "      <th>Genero</th>\n",
       "      <th>Año_de_nacimiento</th>\n",
       "      <th>Inicio_del_viaje</th>\n",
       "      <th>Fin_del_viaje</th>\n",
       "      <th>Origen_Id</th>\n",
       "      <th>Destino_Id</th>\n",
       "    </tr>\n",
       "  </thead>\n",
       "  <tbody>\n",
       "    <tr>\n",
       "      <th>0</th>\n",
       "      <td>34950758</td>\n",
       "      <td>1653754</td>\n",
       "      <td>M</td>\n",
       "      <td>2001.0</td>\n",
       "      <td>2024-08-01 00:00:09</td>\n",
       "      <td>2024-08-01 00:14:18</td>\n",
       "      <td>12</td>\n",
       "      <td>159</td>\n",
       "    </tr>\n",
       "    <tr>\n",
       "      <th>1</th>\n",
       "      <td>34950759</td>\n",
       "      <td>2703032</td>\n",
       "      <td>M</td>\n",
       "      <td>1970.0</td>\n",
       "      <td>2024-08-01 00:01:08</td>\n",
       "      <td>2024-08-01 00:23:41</td>\n",
       "      <td>78</td>\n",
       "      <td>341</td>\n",
       "    </tr>\n",
       "    <tr>\n",
       "      <th>2</th>\n",
       "      <td>34950760</td>\n",
       "      <td>2077125</td>\n",
       "      <td>M</td>\n",
       "      <td>1990.0</td>\n",
       "      <td>2024-08-01 00:01:16</td>\n",
       "      <td>2024-08-01 00:26:01</td>\n",
       "      <td>85</td>\n",
       "      <td>53</td>\n",
       "    </tr>\n",
       "    <tr>\n",
       "      <th>3</th>\n",
       "      <td>34950764</td>\n",
       "      <td>3503076</td>\n",
       "      <td>F</td>\n",
       "      <td>1981.0</td>\n",
       "      <td>2024-08-01 00:05:12</td>\n",
       "      <td>2024-08-01 00:25:26</td>\n",
       "      <td>255</td>\n",
       "      <td>349</td>\n",
       "    </tr>\n",
       "    <tr>\n",
       "      <th>4</th>\n",
       "      <td>34950765</td>\n",
       "      <td>3470220</td>\n",
       "      <td>M</td>\n",
       "      <td>1997.0</td>\n",
       "      <td>2024-08-01 00:05:47</td>\n",
       "      <td>2024-08-01 00:21:17</td>\n",
       "      <td>21</td>\n",
       "      <td>178</td>\n",
       "    </tr>\n",
       "  </tbody>\n",
       "</table>\n",
       "</div>"
      ],
      "text/plain": [
       "   Viaje_Id  Usuario_Id Genero  Año_de_nacimiento     Inicio_del_viaje  \\\n",
       "0  34950758     1653754      M             2001.0  2024-08-01 00:00:09   \n",
       "1  34950759     2703032      M             1970.0  2024-08-01 00:01:08   \n",
       "2  34950760     2077125      M             1990.0  2024-08-01 00:01:16   \n",
       "3  34950764     3503076      F             1981.0  2024-08-01 00:05:12   \n",
       "4  34950765     3470220      M             1997.0  2024-08-01 00:05:47   \n",
       "\n",
       "         Fin_del_viaje  Origen_Id  Destino_Id  \n",
       "0  2024-08-01 00:14:18         12         159  \n",
       "1  2024-08-01 00:23:41         78         341  \n",
       "2  2024-08-01 00:26:01         85          53  \n",
       "3  2024-08-01 00:25:26        255         349  \n",
       "4  2024-08-01 00:21:17         21         178  "
      ]
     },
     "execution_count": 70,
     "metadata": {},
     "output_type": "execute_result"
    }
   ],
   "source": [
    "mibici_2024_list[7].head()"
   ]
  },
  {
   "cell_type": "code",
   "execution_count": 71,
   "id": "8b5de237",
   "metadata": {},
   "outputs": [
    {
     "data": {
      "application/vnd.microsoft.datawrangler.viewer.v0+json": {
       "columns": [
        {
         "name": "index",
         "rawType": "int64",
         "type": "integer"
        },
        {
         "name": "Viaje_Id",
         "rawType": "int64",
         "type": "integer"
        },
        {
         "name": "Usuario_Id",
         "rawType": "int64",
         "type": "integer"
        },
        {
         "name": "Genero",
         "rawType": "object",
         "type": "string"
        },
        {
         "name": "Año_de_nacimiento",
         "rawType": "float64",
         "type": "float"
        },
        {
         "name": "Inicio_del_viaje",
         "rawType": "object",
         "type": "string"
        },
        {
         "name": "Fin_del_viaje",
         "rawType": "object",
         "type": "string"
        },
        {
         "name": "Origen_Id",
         "rawType": "int64",
         "type": "integer"
        },
        {
         "name": "Destino_Id",
         "rawType": "int64",
         "type": "integer"
        }
       ],
       "conversionMethod": "pd.DataFrame",
       "ref": "117979a3-15e6-4167-9e87-ddda64e202ee",
       "rows": [
        [
         "0",
         "35406564",
         "3366663",
         "M",
         "2000.0",
         "01/09/2024 0:00",
         "01/09/2024 0:07",
         "154",
         "161"
        ],
        [
         "1",
         "35406567",
         "631455",
         "M",
         "1990.0",
         "01/09/2024 0:02",
         "01/09/2024 0:08",
         "50",
         "156"
        ],
        [
         "2",
         "35406571",
         "216004",
         "M",
         "1990.0",
         "01/09/2024 0:02",
         "01/09/2024 0:18",
         "64",
         "273"
        ],
        [
         "3",
         "35406572",
         "676145",
         "M",
         "1988.0",
         "01/09/2024 0:03",
         "01/09/2024 0:10",
         "271",
         "164"
        ],
        [
         "4",
         "35406573",
         "2244256",
         "M",
         "1998.0",
         "01/09/2024 0:03",
         "01/09/2024 0:19",
         "199",
         "63"
        ]
       ],
       "shape": {
        "columns": 8,
        "rows": 5
       }
      },
      "text/html": [
       "<div>\n",
       "<style scoped>\n",
       "    .dataframe tbody tr th:only-of-type {\n",
       "        vertical-align: middle;\n",
       "    }\n",
       "\n",
       "    .dataframe tbody tr th {\n",
       "        vertical-align: top;\n",
       "    }\n",
       "\n",
       "    .dataframe thead th {\n",
       "        text-align: right;\n",
       "    }\n",
       "</style>\n",
       "<table border=\"1\" class=\"dataframe\">\n",
       "  <thead>\n",
       "    <tr style=\"text-align: right;\">\n",
       "      <th></th>\n",
       "      <th>Viaje_Id</th>\n",
       "      <th>Usuario_Id</th>\n",
       "      <th>Genero</th>\n",
       "      <th>Año_de_nacimiento</th>\n",
       "      <th>Inicio_del_viaje</th>\n",
       "      <th>Fin_del_viaje</th>\n",
       "      <th>Origen_Id</th>\n",
       "      <th>Destino_Id</th>\n",
       "    </tr>\n",
       "  </thead>\n",
       "  <tbody>\n",
       "    <tr>\n",
       "      <th>0</th>\n",
       "      <td>35406564</td>\n",
       "      <td>3366663</td>\n",
       "      <td>M</td>\n",
       "      <td>2000.0</td>\n",
       "      <td>01/09/2024 0:00</td>\n",
       "      <td>01/09/2024 0:07</td>\n",
       "      <td>154</td>\n",
       "      <td>161</td>\n",
       "    </tr>\n",
       "    <tr>\n",
       "      <th>1</th>\n",
       "      <td>35406567</td>\n",
       "      <td>631455</td>\n",
       "      <td>M</td>\n",
       "      <td>1990.0</td>\n",
       "      <td>01/09/2024 0:02</td>\n",
       "      <td>01/09/2024 0:08</td>\n",
       "      <td>50</td>\n",
       "      <td>156</td>\n",
       "    </tr>\n",
       "    <tr>\n",
       "      <th>2</th>\n",
       "      <td>35406571</td>\n",
       "      <td>216004</td>\n",
       "      <td>M</td>\n",
       "      <td>1990.0</td>\n",
       "      <td>01/09/2024 0:02</td>\n",
       "      <td>01/09/2024 0:18</td>\n",
       "      <td>64</td>\n",
       "      <td>273</td>\n",
       "    </tr>\n",
       "    <tr>\n",
       "      <th>3</th>\n",
       "      <td>35406572</td>\n",
       "      <td>676145</td>\n",
       "      <td>M</td>\n",
       "      <td>1988.0</td>\n",
       "      <td>01/09/2024 0:03</td>\n",
       "      <td>01/09/2024 0:10</td>\n",
       "      <td>271</td>\n",
       "      <td>164</td>\n",
       "    </tr>\n",
       "    <tr>\n",
       "      <th>4</th>\n",
       "      <td>35406573</td>\n",
       "      <td>2244256</td>\n",
       "      <td>M</td>\n",
       "      <td>1998.0</td>\n",
       "      <td>01/09/2024 0:03</td>\n",
       "      <td>01/09/2024 0:19</td>\n",
       "      <td>199</td>\n",
       "      <td>63</td>\n",
       "    </tr>\n",
       "  </tbody>\n",
       "</table>\n",
       "</div>"
      ],
      "text/plain": [
       "   Viaje_Id  Usuario_Id Genero  Año_de_nacimiento Inicio_del_viaje  \\\n",
       "0  35406564     3366663      M             2000.0  01/09/2024 0:00   \n",
       "1  35406567      631455      M             1990.0  01/09/2024 0:02   \n",
       "2  35406571      216004      M             1990.0  01/09/2024 0:02   \n",
       "3  35406572      676145      M             1988.0  01/09/2024 0:03   \n",
       "4  35406573     2244256      M             1998.0  01/09/2024 0:03   \n",
       "\n",
       "     Fin_del_viaje  Origen_Id  Destino_Id  \n",
       "0  01/09/2024 0:07        154         161  \n",
       "1  01/09/2024 0:08         50         156  \n",
       "2  01/09/2024 0:18         64         273  \n",
       "3  01/09/2024 0:10        271         164  \n",
       "4  01/09/2024 0:19        199          63  "
      ]
     },
     "execution_count": 71,
     "metadata": {},
     "output_type": "execute_result"
    }
   ],
   "source": [
    "mibici_2024_list[8].head()"
   ]
  },
  {
   "cell_type": "code",
   "execution_count": 73,
   "id": "3327b8b0",
   "metadata": {},
   "outputs": [
    {
     "data": {
      "application/vnd.microsoft.datawrangler.viewer.v0+json": {
       "columns": [
        {
         "name": "index",
         "rawType": "int64",
         "type": "integer"
        },
        {
         "name": "Viaje_Id",
         "rawType": "int64",
         "type": "integer"
        },
        {
         "name": "Usuario_Id",
         "rawType": "int64",
         "type": "integer"
        },
        {
         "name": "Genero",
         "rawType": "object",
         "type": "string"
        },
        {
         "name": "Año_de_nacimiento",
         "rawType": "float64",
         "type": "float"
        },
        {
         "name": "Inicio_del_viaje",
         "rawType": "object",
         "type": "string"
        },
        {
         "name": "Fin_del_viaje",
         "rawType": "object",
         "type": "string"
        },
        {
         "name": "Origen_Id",
         "rawType": "int64",
         "type": "integer"
        },
        {
         "name": "Destino_Id",
         "rawType": "int64",
         "type": "integer"
        }
       ],
       "conversionMethod": "pd.DataFrame",
       "ref": "536944b9-e3d6-4f34-8731-c8a64d8a6215",
       "rows": [
        [
         "390067",
         "35847242",
         "1452352",
         "M",
         "2001.0",
         "30/09/2024 23:57",
         "01/10/2024 0:12",
         "32",
         "249"
        ],
        [
         "390068",
         "35847244",
         "2026005",
         "M",
         "2003.0",
         "30/09/2024 23:58",
         "01/10/2024 0:03",
         "269",
         "354"
        ],
        [
         "390069",
         "35847245",
         "1302130",
         "M",
         "1970.0",
         "30/09/2024 23:59",
         "01/10/2024 0:15",
         "184",
         "176"
        ],
        [
         "390070",
         "35847246",
         "476143",
         "M",
         "1992.0",
         "30/09/2024 23:59",
         "01/10/2024 0:17",
         "169",
         "169"
        ],
        [
         "390071",
         "35847247",
         "513364",
         "M",
         "1992.0",
         "30/09/2024 23:59",
         "01/10/2024 0:11",
         "158",
         "261"
        ]
       ],
       "shape": {
        "columns": 8,
        "rows": 5
       }
      },
      "text/html": [
       "<div>\n",
       "<style scoped>\n",
       "    .dataframe tbody tr th:only-of-type {\n",
       "        vertical-align: middle;\n",
       "    }\n",
       "\n",
       "    .dataframe tbody tr th {\n",
       "        vertical-align: top;\n",
       "    }\n",
       "\n",
       "    .dataframe thead th {\n",
       "        text-align: right;\n",
       "    }\n",
       "</style>\n",
       "<table border=\"1\" class=\"dataframe\">\n",
       "  <thead>\n",
       "    <tr style=\"text-align: right;\">\n",
       "      <th></th>\n",
       "      <th>Viaje_Id</th>\n",
       "      <th>Usuario_Id</th>\n",
       "      <th>Genero</th>\n",
       "      <th>Año_de_nacimiento</th>\n",
       "      <th>Inicio_del_viaje</th>\n",
       "      <th>Fin_del_viaje</th>\n",
       "      <th>Origen_Id</th>\n",
       "      <th>Destino_Id</th>\n",
       "    </tr>\n",
       "  </thead>\n",
       "  <tbody>\n",
       "    <tr>\n",
       "      <th>390067</th>\n",
       "      <td>35847242</td>\n",
       "      <td>1452352</td>\n",
       "      <td>M</td>\n",
       "      <td>2001.0</td>\n",
       "      <td>30/09/2024 23:57</td>\n",
       "      <td>01/10/2024 0:12</td>\n",
       "      <td>32</td>\n",
       "      <td>249</td>\n",
       "    </tr>\n",
       "    <tr>\n",
       "      <th>390068</th>\n",
       "      <td>35847244</td>\n",
       "      <td>2026005</td>\n",
       "      <td>M</td>\n",
       "      <td>2003.0</td>\n",
       "      <td>30/09/2024 23:58</td>\n",
       "      <td>01/10/2024 0:03</td>\n",
       "      <td>269</td>\n",
       "      <td>354</td>\n",
       "    </tr>\n",
       "    <tr>\n",
       "      <th>390069</th>\n",
       "      <td>35847245</td>\n",
       "      <td>1302130</td>\n",
       "      <td>M</td>\n",
       "      <td>1970.0</td>\n",
       "      <td>30/09/2024 23:59</td>\n",
       "      <td>01/10/2024 0:15</td>\n",
       "      <td>184</td>\n",
       "      <td>176</td>\n",
       "    </tr>\n",
       "    <tr>\n",
       "      <th>390070</th>\n",
       "      <td>35847246</td>\n",
       "      <td>476143</td>\n",
       "      <td>M</td>\n",
       "      <td>1992.0</td>\n",
       "      <td>30/09/2024 23:59</td>\n",
       "      <td>01/10/2024 0:17</td>\n",
       "      <td>169</td>\n",
       "      <td>169</td>\n",
       "    </tr>\n",
       "    <tr>\n",
       "      <th>390071</th>\n",
       "      <td>35847247</td>\n",
       "      <td>513364</td>\n",
       "      <td>M</td>\n",
       "      <td>1992.0</td>\n",
       "      <td>30/09/2024 23:59</td>\n",
       "      <td>01/10/2024 0:11</td>\n",
       "      <td>158</td>\n",
       "      <td>261</td>\n",
       "    </tr>\n",
       "  </tbody>\n",
       "</table>\n",
       "</div>"
      ],
      "text/plain": [
       "        Viaje_Id  Usuario_Id Genero  Año_de_nacimiento  Inicio_del_viaje  \\\n",
       "390067  35847242     1452352      M             2001.0  30/09/2024 23:57   \n",
       "390068  35847244     2026005      M             2003.0  30/09/2024 23:58   \n",
       "390069  35847245     1302130      M             1970.0  30/09/2024 23:59   \n",
       "390070  35847246      476143      M             1992.0  30/09/2024 23:59   \n",
       "390071  35847247      513364      M             1992.0  30/09/2024 23:59   \n",
       "\n",
       "          Fin_del_viaje  Origen_Id  Destino_Id  \n",
       "390067  01/10/2024 0:12         32         249  \n",
       "390068  01/10/2024 0:03        269         354  \n",
       "390069  01/10/2024 0:15        184         176  \n",
       "390070  01/10/2024 0:17        169         169  \n",
       "390071  01/10/2024 0:11        158         261  "
      ]
     },
     "execution_count": 73,
     "metadata": {},
     "output_type": "execute_result"
    }
   ],
   "source": [
    "mibici_2024_list[8].tail()"
   ]
  },
  {
   "cell_type": "code",
   "execution_count": 74,
   "id": "058e565c",
   "metadata": {},
   "outputs": [
    {
     "data": {
      "application/vnd.microsoft.datawrangler.viewer.v0+json": {
       "columns": [
        {
         "name": "index",
         "rawType": "int64",
         "type": "integer"
        },
        {
         "name": "Viaje_Id",
         "rawType": "int64",
         "type": "integer"
        },
        {
         "name": "Usuario_Id",
         "rawType": "int64",
         "type": "integer"
        },
        {
         "name": "Genero",
         "rawType": "object",
         "type": "string"
        },
        {
         "name": "Año_de_nacimiento",
         "rawType": "float64",
         "type": "float"
        },
        {
         "name": "Inicio_del_viaje",
         "rawType": "object",
         "type": "string"
        },
        {
         "name": "Fin_del_viaje",
         "rawType": "object",
         "type": "string"
        },
        {
         "name": "Origen_Id",
         "rawType": "int64",
         "type": "integer"
        },
        {
         "name": "Destino_Id",
         "rawType": "int64",
         "type": "integer"
        }
       ],
       "conversionMethod": "pd.DataFrame",
       "ref": "41bf5606-ffca-4946-8d1c-62abbd2f5a2f",
       "rows": [
        [
         "0",
         "35406564",
         "3366663",
         "M",
         "2000.0",
         "2024-09-01 00:00:00",
         "2024-09-01 00:07:00",
         "154",
         "161"
        ],
        [
         "1",
         "35406567",
         "631455",
         "M",
         "1990.0",
         "2024-09-01 00:02:00",
         "2024-09-01 00:08:00",
         "50",
         "156"
        ],
        [
         "2",
         "35406571",
         "216004",
         "M",
         "1990.0",
         "2024-09-01 00:02:00",
         "2024-09-01 00:18:00",
         "64",
         "273"
        ],
        [
         "3",
         "35406572",
         "676145",
         "M",
         "1988.0",
         "2024-09-01 00:03:00",
         "2024-09-01 00:10:00",
         "271",
         "164"
        ],
        [
         "4",
         "35406573",
         "2244256",
         "M",
         "1998.0",
         "2024-09-01 00:03:00",
         "2024-09-01 00:19:00",
         "199",
         "63"
        ]
       ],
       "shape": {
        "columns": 8,
        "rows": 5
       }
      },
      "text/html": [
       "<div>\n",
       "<style scoped>\n",
       "    .dataframe tbody tr th:only-of-type {\n",
       "        vertical-align: middle;\n",
       "    }\n",
       "\n",
       "    .dataframe tbody tr th {\n",
       "        vertical-align: top;\n",
       "    }\n",
       "\n",
       "    .dataframe thead th {\n",
       "        text-align: right;\n",
       "    }\n",
       "</style>\n",
       "<table border=\"1\" class=\"dataframe\">\n",
       "  <thead>\n",
       "    <tr style=\"text-align: right;\">\n",
       "      <th></th>\n",
       "      <th>Viaje_Id</th>\n",
       "      <th>Usuario_Id</th>\n",
       "      <th>Genero</th>\n",
       "      <th>Año_de_nacimiento</th>\n",
       "      <th>Inicio_del_viaje</th>\n",
       "      <th>Fin_del_viaje</th>\n",
       "      <th>Origen_Id</th>\n",
       "      <th>Destino_Id</th>\n",
       "    </tr>\n",
       "  </thead>\n",
       "  <tbody>\n",
       "    <tr>\n",
       "      <th>0</th>\n",
       "      <td>35406564</td>\n",
       "      <td>3366663</td>\n",
       "      <td>M</td>\n",
       "      <td>2000.0</td>\n",
       "      <td>2024-09-01 00:00:00</td>\n",
       "      <td>2024-09-01 00:07:00</td>\n",
       "      <td>154</td>\n",
       "      <td>161</td>\n",
       "    </tr>\n",
       "    <tr>\n",
       "      <th>1</th>\n",
       "      <td>35406567</td>\n",
       "      <td>631455</td>\n",
       "      <td>M</td>\n",
       "      <td>1990.0</td>\n",
       "      <td>2024-09-01 00:02:00</td>\n",
       "      <td>2024-09-01 00:08:00</td>\n",
       "      <td>50</td>\n",
       "      <td>156</td>\n",
       "    </tr>\n",
       "    <tr>\n",
       "      <th>2</th>\n",
       "      <td>35406571</td>\n",
       "      <td>216004</td>\n",
       "      <td>M</td>\n",
       "      <td>1990.0</td>\n",
       "      <td>2024-09-01 00:02:00</td>\n",
       "      <td>2024-09-01 00:18:00</td>\n",
       "      <td>64</td>\n",
       "      <td>273</td>\n",
       "    </tr>\n",
       "    <tr>\n",
       "      <th>3</th>\n",
       "      <td>35406572</td>\n",
       "      <td>676145</td>\n",
       "      <td>M</td>\n",
       "      <td>1988.0</td>\n",
       "      <td>2024-09-01 00:03:00</td>\n",
       "      <td>2024-09-01 00:10:00</td>\n",
       "      <td>271</td>\n",
       "      <td>164</td>\n",
       "    </tr>\n",
       "    <tr>\n",
       "      <th>4</th>\n",
       "      <td>35406573</td>\n",
       "      <td>2244256</td>\n",
       "      <td>M</td>\n",
       "      <td>1998.0</td>\n",
       "      <td>2024-09-01 00:03:00</td>\n",
       "      <td>2024-09-01 00:19:00</td>\n",
       "      <td>199</td>\n",
       "      <td>63</td>\n",
       "    </tr>\n",
       "  </tbody>\n",
       "</table>\n",
       "</div>"
      ],
      "text/plain": [
       "   Viaje_Id  Usuario_Id Genero  Año_de_nacimiento     Inicio_del_viaje  \\\n",
       "0  35406564     3366663      M             2000.0  2024-09-01 00:00:00   \n",
       "1  35406567      631455      M             1990.0  2024-09-01 00:02:00   \n",
       "2  35406571      216004      M             1990.0  2024-09-01 00:02:00   \n",
       "3  35406572      676145      M             1988.0  2024-09-01 00:03:00   \n",
       "4  35406573     2244256      M             1998.0  2024-09-01 00:03:00   \n",
       "\n",
       "         Fin_del_viaje  Origen_Id  Destino_Id  \n",
       "0  2024-09-01 00:07:00        154         161  \n",
       "1  2024-09-01 00:08:00         50         156  \n",
       "2  2024-09-01 00:18:00         64         273  \n",
       "3  2024-09-01 00:10:00        271         164  \n",
       "4  2024-09-01 00:19:00        199          63  "
      ]
     },
     "execution_count": 74,
     "metadata": {},
     "output_type": "execute_result"
    }
   ],
   "source": [
    "mibici_2024_list[8]['Inicio_del_viaje'] = pd.to_datetime(mibici_2024_list[8]['Inicio_del_viaje'], format='%d/%m/%Y %H:%M').dt.strftime('%Y-%m-%d %H:%M:%S')\n",
    "mibici_2024_list[8]['Fin_del_viaje'] = pd.to_datetime(mibici_2024_list[8]['Fin_del_viaje'], format='%d/%m/%Y %H:%M').dt.strftime('%Y-%m-%d %H:%M:%S')\n",
    "mibici_2024_list[8].head()"
   ]
  },
  {
   "cell_type": "code",
   "execution_count": 75,
   "id": "32f19a95",
   "metadata": {},
   "outputs": [
    {
     "data": {
      "application/vnd.microsoft.datawrangler.viewer.v0+json": {
       "columns": [
        {
         "name": "index",
         "rawType": "int64",
         "type": "integer"
        },
        {
         "name": "Viaje_Id",
         "rawType": "int64",
         "type": "integer"
        },
        {
         "name": "Usuario_Id",
         "rawType": "int64",
         "type": "integer"
        },
        {
         "name": "Genero",
         "rawType": "object",
         "type": "string"
        },
        {
         "name": "Año_de_nacimiento",
         "rawType": "float64",
         "type": "float"
        },
        {
         "name": "Inicio_del_viaje",
         "rawType": "object",
         "type": "string"
        },
        {
         "name": "Fin_del_viaje",
         "rawType": "object",
         "type": "string"
        },
        {
         "name": "Origen_Id",
         "rawType": "int64",
         "type": "integer"
        },
        {
         "name": "Destino_Id",
         "rawType": "int64",
         "type": "integer"
        }
       ],
       "conversionMethod": "pd.DataFrame",
       "ref": "3edbc39f-4577-4a9c-be9f-d5c3b46e052c",
       "rows": [
        [
         "0",
         "35847248",
         "701161",
         "M",
         "1983.0",
         "01/10/2024 0:00",
         "01/10/2024 0:21",
         "40",
         "213"
        ],
        [
         "1",
         "35847249",
         "4453122",
         "M",
         "1997.0",
         "01/10/2024 0:01",
         "01/10/2024 0:18",
         "189",
         "3"
        ],
        [
         "2",
         "35847250",
         "302530",
         "M",
         "1994.0",
         "01/10/2024 0:01",
         "01/10/2024 0:11",
         "131",
         "342"
        ],
        [
         "3",
         "35847251",
         "4062235",
         "F",
         "1999.0",
         "01/10/2024 0:01",
         "01/10/2024 0:18",
         "189",
         "3"
        ],
        [
         "4",
         "35847252",
         "2664376",
         "M",
         "1979.0",
         "01/10/2024 0:02",
         "01/10/2024 0:12",
         "244",
         "46"
        ]
       ],
       "shape": {
        "columns": 8,
        "rows": 5
       }
      },
      "text/html": [
       "<div>\n",
       "<style scoped>\n",
       "    .dataframe tbody tr th:only-of-type {\n",
       "        vertical-align: middle;\n",
       "    }\n",
       "\n",
       "    .dataframe tbody tr th {\n",
       "        vertical-align: top;\n",
       "    }\n",
       "\n",
       "    .dataframe thead th {\n",
       "        text-align: right;\n",
       "    }\n",
       "</style>\n",
       "<table border=\"1\" class=\"dataframe\">\n",
       "  <thead>\n",
       "    <tr style=\"text-align: right;\">\n",
       "      <th></th>\n",
       "      <th>Viaje_Id</th>\n",
       "      <th>Usuario_Id</th>\n",
       "      <th>Genero</th>\n",
       "      <th>Año_de_nacimiento</th>\n",
       "      <th>Inicio_del_viaje</th>\n",
       "      <th>Fin_del_viaje</th>\n",
       "      <th>Origen_Id</th>\n",
       "      <th>Destino_Id</th>\n",
       "    </tr>\n",
       "  </thead>\n",
       "  <tbody>\n",
       "    <tr>\n",
       "      <th>0</th>\n",
       "      <td>35847248</td>\n",
       "      <td>701161</td>\n",
       "      <td>M</td>\n",
       "      <td>1983.0</td>\n",
       "      <td>01/10/2024 0:00</td>\n",
       "      <td>01/10/2024 0:21</td>\n",
       "      <td>40</td>\n",
       "      <td>213</td>\n",
       "    </tr>\n",
       "    <tr>\n",
       "      <th>1</th>\n",
       "      <td>35847249</td>\n",
       "      <td>4453122</td>\n",
       "      <td>M</td>\n",
       "      <td>1997.0</td>\n",
       "      <td>01/10/2024 0:01</td>\n",
       "      <td>01/10/2024 0:18</td>\n",
       "      <td>189</td>\n",
       "      <td>3</td>\n",
       "    </tr>\n",
       "    <tr>\n",
       "      <th>2</th>\n",
       "      <td>35847250</td>\n",
       "      <td>302530</td>\n",
       "      <td>M</td>\n",
       "      <td>1994.0</td>\n",
       "      <td>01/10/2024 0:01</td>\n",
       "      <td>01/10/2024 0:11</td>\n",
       "      <td>131</td>\n",
       "      <td>342</td>\n",
       "    </tr>\n",
       "    <tr>\n",
       "      <th>3</th>\n",
       "      <td>35847251</td>\n",
       "      <td>4062235</td>\n",
       "      <td>F</td>\n",
       "      <td>1999.0</td>\n",
       "      <td>01/10/2024 0:01</td>\n",
       "      <td>01/10/2024 0:18</td>\n",
       "      <td>189</td>\n",
       "      <td>3</td>\n",
       "    </tr>\n",
       "    <tr>\n",
       "      <th>4</th>\n",
       "      <td>35847252</td>\n",
       "      <td>2664376</td>\n",
       "      <td>M</td>\n",
       "      <td>1979.0</td>\n",
       "      <td>01/10/2024 0:02</td>\n",
       "      <td>01/10/2024 0:12</td>\n",
       "      <td>244</td>\n",
       "      <td>46</td>\n",
       "    </tr>\n",
       "  </tbody>\n",
       "</table>\n",
       "</div>"
      ],
      "text/plain": [
       "   Viaje_Id  Usuario_Id Genero  Año_de_nacimiento Inicio_del_viaje  \\\n",
       "0  35847248      701161      M             1983.0  01/10/2024 0:00   \n",
       "1  35847249     4453122      M             1997.0  01/10/2024 0:01   \n",
       "2  35847250      302530      M             1994.0  01/10/2024 0:01   \n",
       "3  35847251     4062235      F             1999.0  01/10/2024 0:01   \n",
       "4  35847252     2664376      M             1979.0  01/10/2024 0:02   \n",
       "\n",
       "     Fin_del_viaje  Origen_Id  Destino_Id  \n",
       "0  01/10/2024 0:21         40         213  \n",
       "1  01/10/2024 0:18        189           3  \n",
       "2  01/10/2024 0:11        131         342  \n",
       "3  01/10/2024 0:18        189           3  \n",
       "4  01/10/2024 0:12        244          46  "
      ]
     },
     "execution_count": 75,
     "metadata": {},
     "output_type": "execute_result"
    }
   ],
   "source": [
    "mibici_2024_list[9].head()"
   ]
  },
  {
   "cell_type": "code",
   "execution_count": 76,
   "id": "b1226f06",
   "metadata": {},
   "outputs": [
    {
     "data": {
      "application/vnd.microsoft.datawrangler.viewer.v0+json": {
       "columns": [
        {
         "name": "index",
         "rawType": "int64",
         "type": "integer"
        },
        {
         "name": "Viaje_Id",
         "rawType": "int64",
         "type": "integer"
        },
        {
         "name": "Usuario_Id",
         "rawType": "int64",
         "type": "integer"
        },
        {
         "name": "Genero",
         "rawType": "object",
         "type": "string"
        },
        {
         "name": "Año_de_nacimiento",
         "rawType": "float64",
         "type": "float"
        },
        {
         "name": "Inicio_del_viaje",
         "rawType": "object",
         "type": "string"
        },
        {
         "name": "Fin_del_viaje",
         "rawType": "object",
         "type": "string"
        },
        {
         "name": "Origen_Id",
         "rawType": "int64",
         "type": "integer"
        },
        {
         "name": "Destino_Id",
         "rawType": "int64",
         "type": "integer"
        }
       ],
       "conversionMethod": "pd.DataFrame",
       "ref": "de9759ac-ac1e-486a-8a25-e35371775b03",
       "rows": [
        [
         "0",
         "35847248",
         "701161",
         "M",
         "1983.0",
         "2024-10-01 00:00:00",
         "2024-10-01 00:21:00",
         "40",
         "213"
        ],
        [
         "1",
         "35847249",
         "4453122",
         "M",
         "1997.0",
         "2024-10-01 00:01:00",
         "2024-10-01 00:18:00",
         "189",
         "3"
        ],
        [
         "2",
         "35847250",
         "302530",
         "M",
         "1994.0",
         "2024-10-01 00:01:00",
         "2024-10-01 00:11:00",
         "131",
         "342"
        ],
        [
         "3",
         "35847251",
         "4062235",
         "F",
         "1999.0",
         "2024-10-01 00:01:00",
         "2024-10-01 00:18:00",
         "189",
         "3"
        ],
        [
         "4",
         "35847252",
         "2664376",
         "M",
         "1979.0",
         "2024-10-01 00:02:00",
         "2024-10-01 00:12:00",
         "244",
         "46"
        ]
       ],
       "shape": {
        "columns": 8,
        "rows": 5
       }
      },
      "text/html": [
       "<div>\n",
       "<style scoped>\n",
       "    .dataframe tbody tr th:only-of-type {\n",
       "        vertical-align: middle;\n",
       "    }\n",
       "\n",
       "    .dataframe tbody tr th {\n",
       "        vertical-align: top;\n",
       "    }\n",
       "\n",
       "    .dataframe thead th {\n",
       "        text-align: right;\n",
       "    }\n",
       "</style>\n",
       "<table border=\"1\" class=\"dataframe\">\n",
       "  <thead>\n",
       "    <tr style=\"text-align: right;\">\n",
       "      <th></th>\n",
       "      <th>Viaje_Id</th>\n",
       "      <th>Usuario_Id</th>\n",
       "      <th>Genero</th>\n",
       "      <th>Año_de_nacimiento</th>\n",
       "      <th>Inicio_del_viaje</th>\n",
       "      <th>Fin_del_viaje</th>\n",
       "      <th>Origen_Id</th>\n",
       "      <th>Destino_Id</th>\n",
       "    </tr>\n",
       "  </thead>\n",
       "  <tbody>\n",
       "    <tr>\n",
       "      <th>0</th>\n",
       "      <td>35847248</td>\n",
       "      <td>701161</td>\n",
       "      <td>M</td>\n",
       "      <td>1983.0</td>\n",
       "      <td>2024-10-01 00:00:00</td>\n",
       "      <td>2024-10-01 00:21:00</td>\n",
       "      <td>40</td>\n",
       "      <td>213</td>\n",
       "    </tr>\n",
       "    <tr>\n",
       "      <th>1</th>\n",
       "      <td>35847249</td>\n",
       "      <td>4453122</td>\n",
       "      <td>M</td>\n",
       "      <td>1997.0</td>\n",
       "      <td>2024-10-01 00:01:00</td>\n",
       "      <td>2024-10-01 00:18:00</td>\n",
       "      <td>189</td>\n",
       "      <td>3</td>\n",
       "    </tr>\n",
       "    <tr>\n",
       "      <th>2</th>\n",
       "      <td>35847250</td>\n",
       "      <td>302530</td>\n",
       "      <td>M</td>\n",
       "      <td>1994.0</td>\n",
       "      <td>2024-10-01 00:01:00</td>\n",
       "      <td>2024-10-01 00:11:00</td>\n",
       "      <td>131</td>\n",
       "      <td>342</td>\n",
       "    </tr>\n",
       "    <tr>\n",
       "      <th>3</th>\n",
       "      <td>35847251</td>\n",
       "      <td>4062235</td>\n",
       "      <td>F</td>\n",
       "      <td>1999.0</td>\n",
       "      <td>2024-10-01 00:01:00</td>\n",
       "      <td>2024-10-01 00:18:00</td>\n",
       "      <td>189</td>\n",
       "      <td>3</td>\n",
       "    </tr>\n",
       "    <tr>\n",
       "      <th>4</th>\n",
       "      <td>35847252</td>\n",
       "      <td>2664376</td>\n",
       "      <td>M</td>\n",
       "      <td>1979.0</td>\n",
       "      <td>2024-10-01 00:02:00</td>\n",
       "      <td>2024-10-01 00:12:00</td>\n",
       "      <td>244</td>\n",
       "      <td>46</td>\n",
       "    </tr>\n",
       "  </tbody>\n",
       "</table>\n",
       "</div>"
      ],
      "text/plain": [
       "   Viaje_Id  Usuario_Id Genero  Año_de_nacimiento     Inicio_del_viaje  \\\n",
       "0  35847248      701161      M             1983.0  2024-10-01 00:00:00   \n",
       "1  35847249     4453122      M             1997.0  2024-10-01 00:01:00   \n",
       "2  35847250      302530      M             1994.0  2024-10-01 00:01:00   \n",
       "3  35847251     4062235      F             1999.0  2024-10-01 00:01:00   \n",
       "4  35847252     2664376      M             1979.0  2024-10-01 00:02:00   \n",
       "\n",
       "         Fin_del_viaje  Origen_Id  Destino_Id  \n",
       "0  2024-10-01 00:21:00         40         213  \n",
       "1  2024-10-01 00:18:00        189           3  \n",
       "2  2024-10-01 00:11:00        131         342  \n",
       "3  2024-10-01 00:18:00        189           3  \n",
       "4  2024-10-01 00:12:00        244          46  "
      ]
     },
     "execution_count": 76,
     "metadata": {},
     "output_type": "execute_result"
    }
   ],
   "source": [
    "mibici_2024_list[9]['Inicio_del_viaje'] = pd.to_datetime(mibici_2024_list[9]['Inicio_del_viaje'], format='%d/%m/%Y %H:%M').dt.strftime('%Y-%m-%d %H:%M:%S')\n",
    "mibici_2024_list[9]['Fin_del_viaje'] = pd.to_datetime(mibici_2024_list[9]['Fin_del_viaje'], format='%d/%m/%Y %H:%M').dt.strftime('%Y-%m-%d %H:%M:%S')\n",
    "mibici_2024_list[9].head()"
   ]
  },
  {
   "cell_type": "code",
   "execution_count": 77,
   "id": "d5a2c99b",
   "metadata": {},
   "outputs": [
    {
     "data": {
      "application/vnd.microsoft.datawrangler.viewer.v0+json": {
       "columns": [
        {
         "name": "index",
         "rawType": "int64",
         "type": "integer"
        },
        {
         "name": "Viaje_Id",
         "rawType": "int64",
         "type": "integer"
        },
        {
         "name": "Usuario_Id",
         "rawType": "int64",
         "type": "integer"
        },
        {
         "name": "Genero",
         "rawType": "object",
         "type": "string"
        },
        {
         "name": "Año_de_nacimiento",
         "rawType": "float64",
         "type": "float"
        },
        {
         "name": "Inicio_del_viaje",
         "rawType": "object",
         "type": "string"
        },
        {
         "name": "Fin_del_viaje",
         "rawType": "object",
         "type": "string"
        },
        {
         "name": "Origen_Id",
         "rawType": "int64",
         "type": "integer"
        },
        {
         "name": "Destino_Id",
         "rawType": "int64",
         "type": "integer"
        }
       ],
       "conversionMethod": "pd.DataFrame",
       "ref": "d0a68fca-5ab2-473f-975f-9c11b7d78ee0",
       "rows": [
        [
         "0",
         "36319536",
         "1176651",
         "M",
         "1995.0",
         "2024-11-01 00:00:04",
         "2024-11-01 00:04:32",
         "271",
         "8"
        ],
        [
         "1",
         "36319537",
         "726517",
         "F",
         "1996.0",
         "2024-11-01 00:00:14",
         "2024-11-01 00:07:19",
         "291",
         "108"
        ],
        [
         "2",
         "36319538",
         "536255",
         "F",
         "2000.0",
         "2024-11-01 00:00:16",
         "2024-11-01 00:06:59",
         "272",
         "58"
        ],
        [
         "3",
         "36319539",
         "1463306",
         "M",
         "1993.0",
         "2024-11-01 00:00:26",
         "2024-11-01 00:04:30",
         "64",
         "83"
        ],
        [
         "4",
         "36319549",
         "2135111",
         "M",
         "1981.0",
         "2024-11-01 00:01:54",
         "2024-11-01 00:21:11",
         "108",
         "154"
        ]
       ],
       "shape": {
        "columns": 8,
        "rows": 5
       }
      },
      "text/html": [
       "<div>\n",
       "<style scoped>\n",
       "    .dataframe tbody tr th:only-of-type {\n",
       "        vertical-align: middle;\n",
       "    }\n",
       "\n",
       "    .dataframe tbody tr th {\n",
       "        vertical-align: top;\n",
       "    }\n",
       "\n",
       "    .dataframe thead th {\n",
       "        text-align: right;\n",
       "    }\n",
       "</style>\n",
       "<table border=\"1\" class=\"dataframe\">\n",
       "  <thead>\n",
       "    <tr style=\"text-align: right;\">\n",
       "      <th></th>\n",
       "      <th>Viaje_Id</th>\n",
       "      <th>Usuario_Id</th>\n",
       "      <th>Genero</th>\n",
       "      <th>Año_de_nacimiento</th>\n",
       "      <th>Inicio_del_viaje</th>\n",
       "      <th>Fin_del_viaje</th>\n",
       "      <th>Origen_Id</th>\n",
       "      <th>Destino_Id</th>\n",
       "    </tr>\n",
       "  </thead>\n",
       "  <tbody>\n",
       "    <tr>\n",
       "      <th>0</th>\n",
       "      <td>36319536</td>\n",
       "      <td>1176651</td>\n",
       "      <td>M</td>\n",
       "      <td>1995.0</td>\n",
       "      <td>2024-11-01 00:00:04</td>\n",
       "      <td>2024-11-01 00:04:32</td>\n",
       "      <td>271</td>\n",
       "      <td>8</td>\n",
       "    </tr>\n",
       "    <tr>\n",
       "      <th>1</th>\n",
       "      <td>36319537</td>\n",
       "      <td>726517</td>\n",
       "      <td>F</td>\n",
       "      <td>1996.0</td>\n",
       "      <td>2024-11-01 00:00:14</td>\n",
       "      <td>2024-11-01 00:07:19</td>\n",
       "      <td>291</td>\n",
       "      <td>108</td>\n",
       "    </tr>\n",
       "    <tr>\n",
       "      <th>2</th>\n",
       "      <td>36319538</td>\n",
       "      <td>536255</td>\n",
       "      <td>F</td>\n",
       "      <td>2000.0</td>\n",
       "      <td>2024-11-01 00:00:16</td>\n",
       "      <td>2024-11-01 00:06:59</td>\n",
       "      <td>272</td>\n",
       "      <td>58</td>\n",
       "    </tr>\n",
       "    <tr>\n",
       "      <th>3</th>\n",
       "      <td>36319539</td>\n",
       "      <td>1463306</td>\n",
       "      <td>M</td>\n",
       "      <td>1993.0</td>\n",
       "      <td>2024-11-01 00:00:26</td>\n",
       "      <td>2024-11-01 00:04:30</td>\n",
       "      <td>64</td>\n",
       "      <td>83</td>\n",
       "    </tr>\n",
       "    <tr>\n",
       "      <th>4</th>\n",
       "      <td>36319549</td>\n",
       "      <td>2135111</td>\n",
       "      <td>M</td>\n",
       "      <td>1981.0</td>\n",
       "      <td>2024-11-01 00:01:54</td>\n",
       "      <td>2024-11-01 00:21:11</td>\n",
       "      <td>108</td>\n",
       "      <td>154</td>\n",
       "    </tr>\n",
       "  </tbody>\n",
       "</table>\n",
       "</div>"
      ],
      "text/plain": [
       "   Viaje_Id  Usuario_Id Genero  Año_de_nacimiento     Inicio_del_viaje  \\\n",
       "0  36319536     1176651      M             1995.0  2024-11-01 00:00:04   \n",
       "1  36319537      726517      F             1996.0  2024-11-01 00:00:14   \n",
       "2  36319538      536255      F             2000.0  2024-11-01 00:00:16   \n",
       "3  36319539     1463306      M             1993.0  2024-11-01 00:00:26   \n",
       "4  36319549     2135111      M             1981.0  2024-11-01 00:01:54   \n",
       "\n",
       "         Fin_del_viaje  Origen_Id  Destino_Id  \n",
       "0  2024-11-01 00:04:32        271           8  \n",
       "1  2024-11-01 00:07:19        291         108  \n",
       "2  2024-11-01 00:06:59        272          58  \n",
       "3  2024-11-01 00:04:30         64          83  \n",
       "4  2024-11-01 00:21:11        108         154  "
      ]
     },
     "execution_count": 77,
     "metadata": {},
     "output_type": "execute_result"
    }
   ],
   "source": [
    "mibici_2024_list[10].head()"
   ]
  },
  {
   "cell_type": "code",
   "execution_count": 78,
   "id": "943522b2",
   "metadata": {},
   "outputs": [
    {
     "data": {
      "application/vnd.microsoft.datawrangler.viewer.v0+json": {
       "columns": [
        {
         "name": "index",
         "rawType": "int64",
         "type": "integer"
        },
        {
         "name": "Viaje_Id",
         "rawType": "int64",
         "type": "integer"
        },
        {
         "name": "Usuario_Id",
         "rawType": "int64",
         "type": "integer"
        },
        {
         "name": "Genero",
         "rawType": "object",
         "type": "unknown"
        },
        {
         "name": "Año_de_nacimiento",
         "rawType": "float64",
         "type": "float"
        },
        {
         "name": "Inicio_del_viaje",
         "rawType": "object",
         "type": "string"
        },
        {
         "name": "Fin_del_viaje",
         "rawType": "object",
         "type": "string"
        },
        {
         "name": "Origen_Id",
         "rawType": "int64",
         "type": "integer"
        },
        {
         "name": "Destino_Id",
         "rawType": "int64",
         "type": "integer"
        }
       ],
       "conversionMethod": "pd.DataFrame",
       "ref": "8cc1966d-6795-4f65-bd0a-404508a62507",
       "rows": [
        [
         "0",
         "36768628",
         "4045170",
         "M",
         "1998.0",
         "2024-12-01 00:00:17",
         "2024-12-01 00:26:04",
         "55",
         "361"
        ],
        [
         "1",
         "36768629",
         "4031470",
         "F",
         "1999.0",
         "2024-12-01 00:00:38",
         "2024-12-01 00:12:36",
         "82",
         "52"
        ],
        [
         "2",
         "36768630",
         "2057773",
         null,
         "1996.0",
         "2024-12-01 00:00:41",
         "2024-12-01 00:06:23",
         "68",
         "277"
        ],
        [
         "3",
         "36768631",
         "4054364",
         "M",
         "1993.0",
         "2024-12-01 00:00:52",
         "2024-12-01 00:25:35",
         "62",
         "204"
        ],
        [
         "4",
         "36768632",
         "4045237",
         "M",
         "1990.0",
         "2024-12-01 00:00:55",
         "2024-12-01 00:06:35",
         "68",
         "277"
        ]
       ],
       "shape": {
        "columns": 8,
        "rows": 5
       }
      },
      "text/html": [
       "<div>\n",
       "<style scoped>\n",
       "    .dataframe tbody tr th:only-of-type {\n",
       "        vertical-align: middle;\n",
       "    }\n",
       "\n",
       "    .dataframe tbody tr th {\n",
       "        vertical-align: top;\n",
       "    }\n",
       "\n",
       "    .dataframe thead th {\n",
       "        text-align: right;\n",
       "    }\n",
       "</style>\n",
       "<table border=\"1\" class=\"dataframe\">\n",
       "  <thead>\n",
       "    <tr style=\"text-align: right;\">\n",
       "      <th></th>\n",
       "      <th>Viaje_Id</th>\n",
       "      <th>Usuario_Id</th>\n",
       "      <th>Genero</th>\n",
       "      <th>Año_de_nacimiento</th>\n",
       "      <th>Inicio_del_viaje</th>\n",
       "      <th>Fin_del_viaje</th>\n",
       "      <th>Origen_Id</th>\n",
       "      <th>Destino_Id</th>\n",
       "    </tr>\n",
       "  </thead>\n",
       "  <tbody>\n",
       "    <tr>\n",
       "      <th>0</th>\n",
       "      <td>36768628</td>\n",
       "      <td>4045170</td>\n",
       "      <td>M</td>\n",
       "      <td>1998.0</td>\n",
       "      <td>2024-12-01 00:00:17</td>\n",
       "      <td>2024-12-01 00:26:04</td>\n",
       "      <td>55</td>\n",
       "      <td>361</td>\n",
       "    </tr>\n",
       "    <tr>\n",
       "      <th>1</th>\n",
       "      <td>36768629</td>\n",
       "      <td>4031470</td>\n",
       "      <td>F</td>\n",
       "      <td>1999.0</td>\n",
       "      <td>2024-12-01 00:00:38</td>\n",
       "      <td>2024-12-01 00:12:36</td>\n",
       "      <td>82</td>\n",
       "      <td>52</td>\n",
       "    </tr>\n",
       "    <tr>\n",
       "      <th>2</th>\n",
       "      <td>36768630</td>\n",
       "      <td>2057773</td>\n",
       "      <td>NaN</td>\n",
       "      <td>1996.0</td>\n",
       "      <td>2024-12-01 00:00:41</td>\n",
       "      <td>2024-12-01 00:06:23</td>\n",
       "      <td>68</td>\n",
       "      <td>277</td>\n",
       "    </tr>\n",
       "    <tr>\n",
       "      <th>3</th>\n",
       "      <td>36768631</td>\n",
       "      <td>4054364</td>\n",
       "      <td>M</td>\n",
       "      <td>1993.0</td>\n",
       "      <td>2024-12-01 00:00:52</td>\n",
       "      <td>2024-12-01 00:25:35</td>\n",
       "      <td>62</td>\n",
       "      <td>204</td>\n",
       "    </tr>\n",
       "    <tr>\n",
       "      <th>4</th>\n",
       "      <td>36768632</td>\n",
       "      <td>4045237</td>\n",
       "      <td>M</td>\n",
       "      <td>1990.0</td>\n",
       "      <td>2024-12-01 00:00:55</td>\n",
       "      <td>2024-12-01 00:06:35</td>\n",
       "      <td>68</td>\n",
       "      <td>277</td>\n",
       "    </tr>\n",
       "  </tbody>\n",
       "</table>\n",
       "</div>"
      ],
      "text/plain": [
       "   Viaje_Id  Usuario_Id Genero  Año_de_nacimiento     Inicio_del_viaje  \\\n",
       "0  36768628     4045170      M             1998.0  2024-12-01 00:00:17   \n",
       "1  36768629     4031470      F             1999.0  2024-12-01 00:00:38   \n",
       "2  36768630     2057773    NaN             1996.0  2024-12-01 00:00:41   \n",
       "3  36768631     4054364      M             1993.0  2024-12-01 00:00:52   \n",
       "4  36768632     4045237      M             1990.0  2024-12-01 00:00:55   \n",
       "\n",
       "         Fin_del_viaje  Origen_Id  Destino_Id  \n",
       "0  2024-12-01 00:26:04         55         361  \n",
       "1  2024-12-01 00:12:36         82          52  \n",
       "2  2024-12-01 00:06:23         68         277  \n",
       "3  2024-12-01 00:25:35         62         204  \n",
       "4  2024-12-01 00:06:35         68         277  "
      ]
     },
     "execution_count": 78,
     "metadata": {},
     "output_type": "execute_result"
    }
   ],
   "source": [
    "mibici_2024_list[11].head()"
   ]
  },
  {
   "cell_type": "code",
   "execution_count": 79,
   "id": "91f0c5c1",
   "metadata": {},
   "outputs": [],
   "source": [
    "for i in range(len(mibici_2024_list)):\n",
    "    mibici_2024_list[i]['Inicio'] = mibici_2024_list[i]['Inicio_del_viaje']\n",
    "    mibici_2024_list[i]['Fin'] = mibici_2024_list[i]['Fin_del_viaje']"
   ]
  },
  {
   "cell_type": "code",
   "execution_count": 80,
   "id": "bc418e41",
   "metadata": {},
   "outputs": [
    {
     "data": {
      "application/vnd.microsoft.datawrangler.viewer.v0+json": {
       "columns": [
        {
         "name": "index",
         "rawType": "int64",
         "type": "integer"
        },
        {
         "name": "Viaje_Id",
         "rawType": "int64",
         "type": "integer"
        },
        {
         "name": "Usuario_Id",
         "rawType": "int64",
         "type": "integer"
        },
        {
         "name": "Genero",
         "rawType": "object",
         "type": "string"
        },
        {
         "name": "Año_de_nacimiento",
         "rawType": "float64",
         "type": "float"
        },
        {
         "name": "Inicio_del_viaje",
         "rawType": "object",
         "type": "string"
        },
        {
         "name": "Fin_del_viaje",
         "rawType": "object",
         "type": "string"
        },
        {
         "name": "Origen_Id",
         "rawType": "int64",
         "type": "integer"
        },
        {
         "name": "Destino_Id",
         "rawType": "int64",
         "type": "integer"
        },
        {
         "name": "Inicio",
         "rawType": "object",
         "type": "string"
        },
        {
         "name": "Fin",
         "rawType": "object",
         "type": "string"
        }
       ],
       "conversionMethod": "pd.DataFrame",
       "ref": "e1c1bbcd-8f77-4824-bef5-75d312969ae0",
       "rows": [
        [
         "0",
         "31789291",
         "640715",
         "M",
         "1984.0",
         "2024-01-01 00:05:25",
         "2024-01-01 00:29:37",
         "294",
         "271",
         "2024-01-01 00:05:25",
         "2024-01-01 00:29:37"
        ],
        [
         "1",
         "31789292",
         "2353010",
         "F",
         "1995.0",
         "2024-01-01 00:07:23",
         "2024-01-01 00:16:37",
         "182",
         "254",
         "2024-01-01 00:07:23",
         "2024-01-01 00:16:37"
        ],
        [
         "2",
         "31789293",
         "1556365",
         "M",
         "1984.0",
         "2024-01-01 00:07:31",
         "2024-01-01 00:16:37",
         "182",
         "254",
         "2024-01-01 00:07:31",
         "2024-01-01 00:16:37"
        ],
        [
         "3",
         "31789294",
         "2626233",
         "M",
         "1994.0",
         "2024-01-01 00:07:56",
         "2024-01-01 00:31:51",
         "35",
         "154",
         "2024-01-01 00:07:56",
         "2024-01-01 00:31:51"
        ],
        [
         "4",
         "31789295",
         "2602006",
         "M",
         "1998.0",
         "2024-01-01 00:08:09",
         "2024-01-01 00:31:51",
         "35",
         "154",
         "2024-01-01 00:08:09",
         "2024-01-01 00:31:51"
        ]
       ],
       "shape": {
        "columns": 10,
        "rows": 5
       }
      },
      "text/html": [
       "<div>\n",
       "<style scoped>\n",
       "    .dataframe tbody tr th:only-of-type {\n",
       "        vertical-align: middle;\n",
       "    }\n",
       "\n",
       "    .dataframe tbody tr th {\n",
       "        vertical-align: top;\n",
       "    }\n",
       "\n",
       "    .dataframe thead th {\n",
       "        text-align: right;\n",
       "    }\n",
       "</style>\n",
       "<table border=\"1\" class=\"dataframe\">\n",
       "  <thead>\n",
       "    <tr style=\"text-align: right;\">\n",
       "      <th></th>\n",
       "      <th>Viaje_Id</th>\n",
       "      <th>Usuario_Id</th>\n",
       "      <th>Genero</th>\n",
       "      <th>Año_de_nacimiento</th>\n",
       "      <th>Inicio_del_viaje</th>\n",
       "      <th>Fin_del_viaje</th>\n",
       "      <th>Origen_Id</th>\n",
       "      <th>Destino_Id</th>\n",
       "      <th>Inicio</th>\n",
       "      <th>Fin</th>\n",
       "    </tr>\n",
       "  </thead>\n",
       "  <tbody>\n",
       "    <tr>\n",
       "      <th>0</th>\n",
       "      <td>31789291</td>\n",
       "      <td>640715</td>\n",
       "      <td>M</td>\n",
       "      <td>1984.0</td>\n",
       "      <td>2024-01-01 00:05:25</td>\n",
       "      <td>2024-01-01 00:29:37</td>\n",
       "      <td>294</td>\n",
       "      <td>271</td>\n",
       "      <td>2024-01-01 00:05:25</td>\n",
       "      <td>2024-01-01 00:29:37</td>\n",
       "    </tr>\n",
       "    <tr>\n",
       "      <th>1</th>\n",
       "      <td>31789292</td>\n",
       "      <td>2353010</td>\n",
       "      <td>F</td>\n",
       "      <td>1995.0</td>\n",
       "      <td>2024-01-01 00:07:23</td>\n",
       "      <td>2024-01-01 00:16:37</td>\n",
       "      <td>182</td>\n",
       "      <td>254</td>\n",
       "      <td>2024-01-01 00:07:23</td>\n",
       "      <td>2024-01-01 00:16:37</td>\n",
       "    </tr>\n",
       "    <tr>\n",
       "      <th>2</th>\n",
       "      <td>31789293</td>\n",
       "      <td>1556365</td>\n",
       "      <td>M</td>\n",
       "      <td>1984.0</td>\n",
       "      <td>2024-01-01 00:07:31</td>\n",
       "      <td>2024-01-01 00:16:37</td>\n",
       "      <td>182</td>\n",
       "      <td>254</td>\n",
       "      <td>2024-01-01 00:07:31</td>\n",
       "      <td>2024-01-01 00:16:37</td>\n",
       "    </tr>\n",
       "    <tr>\n",
       "      <th>3</th>\n",
       "      <td>31789294</td>\n",
       "      <td>2626233</td>\n",
       "      <td>M</td>\n",
       "      <td>1994.0</td>\n",
       "      <td>2024-01-01 00:07:56</td>\n",
       "      <td>2024-01-01 00:31:51</td>\n",
       "      <td>35</td>\n",
       "      <td>154</td>\n",
       "      <td>2024-01-01 00:07:56</td>\n",
       "      <td>2024-01-01 00:31:51</td>\n",
       "    </tr>\n",
       "    <tr>\n",
       "      <th>4</th>\n",
       "      <td>31789295</td>\n",
       "      <td>2602006</td>\n",
       "      <td>M</td>\n",
       "      <td>1998.0</td>\n",
       "      <td>2024-01-01 00:08:09</td>\n",
       "      <td>2024-01-01 00:31:51</td>\n",
       "      <td>35</td>\n",
       "      <td>154</td>\n",
       "      <td>2024-01-01 00:08:09</td>\n",
       "      <td>2024-01-01 00:31:51</td>\n",
       "    </tr>\n",
       "  </tbody>\n",
       "</table>\n",
       "</div>"
      ],
      "text/plain": [
       "   Viaje_Id  Usuario_Id Genero  Año_de_nacimiento     Inicio_del_viaje  \\\n",
       "0  31789291      640715      M             1984.0  2024-01-01 00:05:25   \n",
       "1  31789292     2353010      F             1995.0  2024-01-01 00:07:23   \n",
       "2  31789293     1556365      M             1984.0  2024-01-01 00:07:31   \n",
       "3  31789294     2626233      M             1994.0  2024-01-01 00:07:56   \n",
       "4  31789295     2602006      M             1998.0  2024-01-01 00:08:09   \n",
       "\n",
       "         Fin_del_viaje  Origen_Id  Destino_Id               Inicio  \\\n",
       "0  2024-01-01 00:29:37        294         271  2024-01-01 00:05:25   \n",
       "1  2024-01-01 00:16:37        182         254  2024-01-01 00:07:23   \n",
       "2  2024-01-01 00:16:37        182         254  2024-01-01 00:07:31   \n",
       "3  2024-01-01 00:31:51         35         154  2024-01-01 00:07:56   \n",
       "4  2024-01-01 00:31:51         35         154  2024-01-01 00:08:09   \n",
       "\n",
       "                   Fin  \n",
       "0  2024-01-01 00:29:37  \n",
       "1  2024-01-01 00:16:37  \n",
       "2  2024-01-01 00:16:37  \n",
       "3  2024-01-01 00:31:51  \n",
       "4  2024-01-01 00:31:51  "
      ]
     },
     "execution_count": 80,
     "metadata": {},
     "output_type": "execute_result"
    }
   ],
   "source": [
    "mibici_2024 = pd.concat(mibici_2024_list, ignore_index=True)\n",
    "mibici_2024.head()"
   ]
  },
  {
   "cell_type": "code",
   "execution_count": 81,
   "id": "423009bb",
   "metadata": {},
   "outputs": [
    {
     "data": {
      "application/vnd.microsoft.datawrangler.viewer.v0+json": {
       "columns": [
        {
         "name": "index",
         "rawType": "int64",
         "type": "integer"
        },
        {
         "name": "Viaje_Id",
         "rawType": "int64",
         "type": "integer"
        },
        {
         "name": "Usuario_Id",
         "rawType": "int64",
         "type": "integer"
        },
        {
         "name": "Genero",
         "rawType": "object",
         "type": "string"
        },
        {
         "name": "Año_de_nacimiento",
         "rawType": "float64",
         "type": "float"
        },
        {
         "name": "Inicio_del_viaje",
         "rawType": "object",
         "type": "string"
        },
        {
         "name": "Fin_del_viaje",
         "rawType": "object",
         "type": "string"
        },
        {
         "name": "Origen_Id",
         "rawType": "int64",
         "type": "integer"
        },
        {
         "name": "Destino_Id",
         "rawType": "int64",
         "type": "integer"
        },
        {
         "name": "Inicio",
         "rawType": "object",
         "type": "string"
        },
        {
         "name": "Fin",
         "rawType": "object",
         "type": "string"
        }
       ],
       "conversionMethod": "pd.DataFrame",
       "ref": "d7702c56-47bf-4302-8a83-65730d6c35e0",
       "rows": [
        [
         "4645916",
         "37162337",
         "460001",
         "M",
         "1989.0",
         "2024-12-31 23:44:12",
         "2025-01-01 00:10:43",
         "188",
         "269",
         "2024-12-31 23:44:12",
         "2025-01-01 00:10:43"
        ],
        [
         "4645917",
         "37162338",
         "543744",
         "M",
         "1985.0",
         "2024-12-31 23:46:38",
         "2024-12-31 23:50:08",
         "39",
         "49",
         "2024-12-31 23:46:38",
         "2024-12-31 23:50:08"
        ],
        [
         "4645918",
         "37162339",
         "737764",
         "M",
         "1996.0",
         "2024-12-31 23:47:37",
         "2024-12-31 23:51:12",
         "158",
         "276",
         "2024-12-31 23:47:37",
         "2024-12-31 23:51:12"
        ],
        [
         "4645919",
         "37162340",
         "43277",
         "M",
         "1979.0",
         "2024-12-31 23:54:40",
         "2025-01-01 01:17:01",
         "57",
         "77",
         "2024-12-31 23:54:40",
         "2025-01-01 01:17:01"
        ],
        [
         "4645920",
         "37162341",
         "2711370",
         "M",
         "1996.0",
         "2024-12-31 23:55:17",
         "2025-01-01 00:05:00",
         "51",
         "268",
         "2024-12-31 23:55:17",
         "2025-01-01 00:05:00"
        ]
       ],
       "shape": {
        "columns": 10,
        "rows": 5
       }
      },
      "text/html": [
       "<div>\n",
       "<style scoped>\n",
       "    .dataframe tbody tr th:only-of-type {\n",
       "        vertical-align: middle;\n",
       "    }\n",
       "\n",
       "    .dataframe tbody tr th {\n",
       "        vertical-align: top;\n",
       "    }\n",
       "\n",
       "    .dataframe thead th {\n",
       "        text-align: right;\n",
       "    }\n",
       "</style>\n",
       "<table border=\"1\" class=\"dataframe\">\n",
       "  <thead>\n",
       "    <tr style=\"text-align: right;\">\n",
       "      <th></th>\n",
       "      <th>Viaje_Id</th>\n",
       "      <th>Usuario_Id</th>\n",
       "      <th>Genero</th>\n",
       "      <th>Año_de_nacimiento</th>\n",
       "      <th>Inicio_del_viaje</th>\n",
       "      <th>Fin_del_viaje</th>\n",
       "      <th>Origen_Id</th>\n",
       "      <th>Destino_Id</th>\n",
       "      <th>Inicio</th>\n",
       "      <th>Fin</th>\n",
       "    </tr>\n",
       "  </thead>\n",
       "  <tbody>\n",
       "    <tr>\n",
       "      <th>4645916</th>\n",
       "      <td>37162337</td>\n",
       "      <td>460001</td>\n",
       "      <td>M</td>\n",
       "      <td>1989.0</td>\n",
       "      <td>2024-12-31 23:44:12</td>\n",
       "      <td>2025-01-01 00:10:43</td>\n",
       "      <td>188</td>\n",
       "      <td>269</td>\n",
       "      <td>2024-12-31 23:44:12</td>\n",
       "      <td>2025-01-01 00:10:43</td>\n",
       "    </tr>\n",
       "    <tr>\n",
       "      <th>4645917</th>\n",
       "      <td>37162338</td>\n",
       "      <td>543744</td>\n",
       "      <td>M</td>\n",
       "      <td>1985.0</td>\n",
       "      <td>2024-12-31 23:46:38</td>\n",
       "      <td>2024-12-31 23:50:08</td>\n",
       "      <td>39</td>\n",
       "      <td>49</td>\n",
       "      <td>2024-12-31 23:46:38</td>\n",
       "      <td>2024-12-31 23:50:08</td>\n",
       "    </tr>\n",
       "    <tr>\n",
       "      <th>4645918</th>\n",
       "      <td>37162339</td>\n",
       "      <td>737764</td>\n",
       "      <td>M</td>\n",
       "      <td>1996.0</td>\n",
       "      <td>2024-12-31 23:47:37</td>\n",
       "      <td>2024-12-31 23:51:12</td>\n",
       "      <td>158</td>\n",
       "      <td>276</td>\n",
       "      <td>2024-12-31 23:47:37</td>\n",
       "      <td>2024-12-31 23:51:12</td>\n",
       "    </tr>\n",
       "    <tr>\n",
       "      <th>4645919</th>\n",
       "      <td>37162340</td>\n",
       "      <td>43277</td>\n",
       "      <td>M</td>\n",
       "      <td>1979.0</td>\n",
       "      <td>2024-12-31 23:54:40</td>\n",
       "      <td>2025-01-01 01:17:01</td>\n",
       "      <td>57</td>\n",
       "      <td>77</td>\n",
       "      <td>2024-12-31 23:54:40</td>\n",
       "      <td>2025-01-01 01:17:01</td>\n",
       "    </tr>\n",
       "    <tr>\n",
       "      <th>4645920</th>\n",
       "      <td>37162341</td>\n",
       "      <td>2711370</td>\n",
       "      <td>M</td>\n",
       "      <td>1996.0</td>\n",
       "      <td>2024-12-31 23:55:17</td>\n",
       "      <td>2025-01-01 00:05:00</td>\n",
       "      <td>51</td>\n",
       "      <td>268</td>\n",
       "      <td>2024-12-31 23:55:17</td>\n",
       "      <td>2025-01-01 00:05:00</td>\n",
       "    </tr>\n",
       "  </tbody>\n",
       "</table>\n",
       "</div>"
      ],
      "text/plain": [
       "         Viaje_Id  Usuario_Id Genero  Año_de_nacimiento     Inicio_del_viaje  \\\n",
       "4645916  37162337      460001      M             1989.0  2024-12-31 23:44:12   \n",
       "4645917  37162338      543744      M             1985.0  2024-12-31 23:46:38   \n",
       "4645918  37162339      737764      M             1996.0  2024-12-31 23:47:37   \n",
       "4645919  37162340       43277      M             1979.0  2024-12-31 23:54:40   \n",
       "4645920  37162341     2711370      M             1996.0  2024-12-31 23:55:17   \n",
       "\n",
       "               Fin_del_viaje  Origen_Id  Destino_Id               Inicio  \\\n",
       "4645916  2025-01-01 00:10:43        188         269  2024-12-31 23:44:12   \n",
       "4645917  2024-12-31 23:50:08         39          49  2024-12-31 23:46:38   \n",
       "4645918  2024-12-31 23:51:12        158         276  2024-12-31 23:47:37   \n",
       "4645919  2025-01-01 01:17:01         57          77  2024-12-31 23:54:40   \n",
       "4645920  2025-01-01 00:05:00         51         268  2024-12-31 23:55:17   \n",
       "\n",
       "                         Fin  \n",
       "4645916  2025-01-01 00:10:43  \n",
       "4645917  2024-12-31 23:50:08  \n",
       "4645918  2024-12-31 23:51:12  \n",
       "4645919  2025-01-01 01:17:01  \n",
       "4645920  2025-01-01 00:05:00  "
      ]
     },
     "execution_count": 81,
     "metadata": {},
     "output_type": "execute_result"
    }
   ],
   "source": [
    "mibici_2024.tail()"
   ]
  },
  {
   "cell_type": "code",
   "execution_count": 82,
   "id": "639d3127",
   "metadata": {},
   "outputs": [
    {
     "data": {
      "application/vnd.microsoft.datawrangler.viewer.v0+json": {
       "columns": [
        {
         "name": "index",
         "rawType": "int64",
         "type": "integer"
        },
        {
         "name": "Viaje_Id",
         "rawType": "int64",
         "type": "integer"
        },
        {
         "name": "Usuario_Id",
         "rawType": "int64",
         "type": "integer"
        },
        {
         "name": "Genero",
         "rawType": "object",
         "type": "string"
        },
        {
         "name": "Año_de_nacimiento",
         "rawType": "float64",
         "type": "float"
        },
        {
         "name": "Inicio_del_viaje",
         "rawType": "object",
         "type": "string"
        },
        {
         "name": "Fin_del_viaje",
         "rawType": "object",
         "type": "string"
        },
        {
         "name": "Origen_Id",
         "rawType": "int64",
         "type": "integer"
        },
        {
         "name": "Destino_Id",
         "rawType": "int64",
         "type": "integer"
        },
        {
         "name": "Inicio",
         "rawType": "object",
         "type": "string"
        },
        {
         "name": "Fin",
         "rawType": "object",
         "type": "string"
        }
       ],
       "conversionMethod": "pd.DataFrame",
       "ref": "30157aed-c7a1-4f96-a08d-fd4e9a060bd6",
       "rows": [
        [
         "0",
         "31789291",
         "640715",
         "M",
         "1984.0",
         "2024-01-01 00:05:25",
         "2024-01-01 00:29:37",
         "294",
         "271",
         "2024-01-01 00:05:25",
         "2024-01-01 00:29:37"
        ],
        [
         "1",
         "31789292",
         "2353010",
         "F",
         "1995.0",
         "2024-01-01 00:07:23",
         "2024-01-01 00:16:37",
         "182",
         "254",
         "2024-01-01 00:07:23",
         "2024-01-01 00:16:37"
        ],
        [
         "2",
         "31789293",
         "1556365",
         "M",
         "1984.0",
         "2024-01-01 00:07:31",
         "2024-01-01 00:16:37",
         "182",
         "254",
         "2024-01-01 00:07:31",
         "2024-01-01 00:16:37"
        ],
        [
         "3",
         "31789294",
         "2626233",
         "M",
         "1994.0",
         "2024-01-01 00:07:56",
         "2024-01-01 00:31:51",
         "35",
         "154",
         "2024-01-01 00:07:56",
         "2024-01-01 00:31:51"
        ],
        [
         "4",
         "31789295",
         "2602006",
         "M",
         "1998.0",
         "2024-01-01 00:08:09",
         "2024-01-01 00:31:51",
         "35",
         "154",
         "2024-01-01 00:08:09",
         "2024-01-01 00:31:51"
        ]
       ],
       "shape": {
        "columns": 10,
        "rows": 5
       }
      },
      "text/html": [
       "<div>\n",
       "<style scoped>\n",
       "    .dataframe tbody tr th:only-of-type {\n",
       "        vertical-align: middle;\n",
       "    }\n",
       "\n",
       "    .dataframe tbody tr th {\n",
       "        vertical-align: top;\n",
       "    }\n",
       "\n",
       "    .dataframe thead th {\n",
       "        text-align: right;\n",
       "    }\n",
       "</style>\n",
       "<table border=\"1\" class=\"dataframe\">\n",
       "  <thead>\n",
       "    <tr style=\"text-align: right;\">\n",
       "      <th></th>\n",
       "      <th>Viaje_Id</th>\n",
       "      <th>Usuario_Id</th>\n",
       "      <th>Genero</th>\n",
       "      <th>Año_de_nacimiento</th>\n",
       "      <th>Inicio_del_viaje</th>\n",
       "      <th>Fin_del_viaje</th>\n",
       "      <th>Origen_Id</th>\n",
       "      <th>Destino_Id</th>\n",
       "      <th>Inicio</th>\n",
       "      <th>Fin</th>\n",
       "    </tr>\n",
       "  </thead>\n",
       "  <tbody>\n",
       "    <tr>\n",
       "      <th>0</th>\n",
       "      <td>31789291</td>\n",
       "      <td>640715</td>\n",
       "      <td>M</td>\n",
       "      <td>1984.0</td>\n",
       "      <td>2024-01-01 00:05:25</td>\n",
       "      <td>2024-01-01 00:29:37</td>\n",
       "      <td>294</td>\n",
       "      <td>271</td>\n",
       "      <td>2024-01-01 00:05:25</td>\n",
       "      <td>2024-01-01 00:29:37</td>\n",
       "    </tr>\n",
       "    <tr>\n",
       "      <th>1</th>\n",
       "      <td>31789292</td>\n",
       "      <td>2353010</td>\n",
       "      <td>F</td>\n",
       "      <td>1995.0</td>\n",
       "      <td>2024-01-01 00:07:23</td>\n",
       "      <td>2024-01-01 00:16:37</td>\n",
       "      <td>182</td>\n",
       "      <td>254</td>\n",
       "      <td>2024-01-01 00:07:23</td>\n",
       "      <td>2024-01-01 00:16:37</td>\n",
       "    </tr>\n",
       "    <tr>\n",
       "      <th>2</th>\n",
       "      <td>31789293</td>\n",
       "      <td>1556365</td>\n",
       "      <td>M</td>\n",
       "      <td>1984.0</td>\n",
       "      <td>2024-01-01 00:07:31</td>\n",
       "      <td>2024-01-01 00:16:37</td>\n",
       "      <td>182</td>\n",
       "      <td>254</td>\n",
       "      <td>2024-01-01 00:07:31</td>\n",
       "      <td>2024-01-01 00:16:37</td>\n",
       "    </tr>\n",
       "    <tr>\n",
       "      <th>3</th>\n",
       "      <td>31789294</td>\n",
       "      <td>2626233</td>\n",
       "      <td>M</td>\n",
       "      <td>1994.0</td>\n",
       "      <td>2024-01-01 00:07:56</td>\n",
       "      <td>2024-01-01 00:31:51</td>\n",
       "      <td>35</td>\n",
       "      <td>154</td>\n",
       "      <td>2024-01-01 00:07:56</td>\n",
       "      <td>2024-01-01 00:31:51</td>\n",
       "    </tr>\n",
       "    <tr>\n",
       "      <th>4</th>\n",
       "      <td>31789295</td>\n",
       "      <td>2602006</td>\n",
       "      <td>M</td>\n",
       "      <td>1998.0</td>\n",
       "      <td>2024-01-01 00:08:09</td>\n",
       "      <td>2024-01-01 00:31:51</td>\n",
       "      <td>35</td>\n",
       "      <td>154</td>\n",
       "      <td>2024-01-01 00:08:09</td>\n",
       "      <td>2024-01-01 00:31:51</td>\n",
       "    </tr>\n",
       "  </tbody>\n",
       "</table>\n",
       "</div>"
      ],
      "text/plain": [
       "   Viaje_Id  Usuario_Id Genero  Año_de_nacimiento     Inicio_del_viaje  \\\n",
       "0  31789291      640715      M             1984.0  2024-01-01 00:05:25   \n",
       "1  31789292     2353010      F             1995.0  2024-01-01 00:07:23   \n",
       "2  31789293     1556365      M             1984.0  2024-01-01 00:07:31   \n",
       "3  31789294     2626233      M             1994.0  2024-01-01 00:07:56   \n",
       "4  31789295     2602006      M             1998.0  2024-01-01 00:08:09   \n",
       "\n",
       "         Fin_del_viaje  Origen_Id  Destino_Id               Inicio  \\\n",
       "0  2024-01-01 00:29:37        294         271  2024-01-01 00:05:25   \n",
       "1  2024-01-01 00:16:37        182         254  2024-01-01 00:07:23   \n",
       "2  2024-01-01 00:16:37        182         254  2024-01-01 00:07:31   \n",
       "3  2024-01-01 00:31:51         35         154  2024-01-01 00:07:56   \n",
       "4  2024-01-01 00:31:51         35         154  2024-01-01 00:08:09   \n",
       "\n",
       "                   Fin  \n",
       "0  2024-01-01 00:29:37  \n",
       "1  2024-01-01 00:16:37  \n",
       "2  2024-01-01 00:16:37  \n",
       "3  2024-01-01 00:31:51  \n",
       "4  2024-01-01 00:31:51  "
      ]
     },
     "execution_count": 82,
     "metadata": {},
     "output_type": "execute_result"
    }
   ],
   "source": [
    "mibici_2024.to_csv('/Users/antoniomendez/Desktop/Tesis/Datos/datos_limpios/mibici/mibici_2024.csv', index=False, encoding='utf-8')\n",
    "mibici_2024 = load_data('mibici/mibici_2024.csv', flag_dir)\n",
    "mibici_2024.head()"
   ]
  },
  {
   "cell_type": "code",
   "execution_count": 83,
   "id": "ef4afe65",
   "metadata": {},
   "outputs": [
    {
     "data": {
      "application/vnd.microsoft.datawrangler.viewer.v0+json": {
       "columns": [
        {
         "name": "index",
         "rawType": "int64",
         "type": "integer"
        },
        {
         "name": "Viaje_Id",
         "rawType": "int64",
         "type": "integer"
        },
        {
         "name": "Usuario_Id",
         "rawType": "int64",
         "type": "integer"
        },
        {
         "name": "Genero",
         "rawType": "object",
         "type": "string"
        },
        {
         "name": "Año_de_nacimiento",
         "rawType": "float64",
         "type": "float"
        },
        {
         "name": "Inicio_del_viaje",
         "rawType": "object",
         "type": "string"
        },
        {
         "name": "Fin_del_viaje",
         "rawType": "object",
         "type": "string"
        },
        {
         "name": "Origen_Id",
         "rawType": "int64",
         "type": "integer"
        },
        {
         "name": "Destino_Id",
         "rawType": "int64",
         "type": "integer"
        },
        {
         "name": "Inicio",
         "rawType": "object",
         "type": "string"
        },
        {
         "name": "Fin",
         "rawType": "object",
         "type": "string"
        }
       ],
       "conversionMethod": "pd.DataFrame",
       "ref": "ef70c227-5c9c-4d56-9556-158e7bb7e5bc",
       "rows": [
        [
         "4645916",
         "37162337",
         "460001",
         "M",
         "1989.0",
         "2024-12-31 23:44:12",
         "2025-01-01 00:10:43",
         "188",
         "269",
         "2024-12-31 23:44:12",
         "2025-01-01 00:10:43"
        ],
        [
         "4645917",
         "37162338",
         "543744",
         "M",
         "1985.0",
         "2024-12-31 23:46:38",
         "2024-12-31 23:50:08",
         "39",
         "49",
         "2024-12-31 23:46:38",
         "2024-12-31 23:50:08"
        ],
        [
         "4645918",
         "37162339",
         "737764",
         "M",
         "1996.0",
         "2024-12-31 23:47:37",
         "2024-12-31 23:51:12",
         "158",
         "276",
         "2024-12-31 23:47:37",
         "2024-12-31 23:51:12"
        ],
        [
         "4645919",
         "37162340",
         "43277",
         "M",
         "1979.0",
         "2024-12-31 23:54:40",
         "2025-01-01 01:17:01",
         "57",
         "77",
         "2024-12-31 23:54:40",
         "2025-01-01 01:17:01"
        ],
        [
         "4645920",
         "37162341",
         "2711370",
         "M",
         "1996.0",
         "2024-12-31 23:55:17",
         "2025-01-01 00:05:00",
         "51",
         "268",
         "2024-12-31 23:55:17",
         "2025-01-01 00:05:00"
        ]
       ],
       "shape": {
        "columns": 10,
        "rows": 5
       }
      },
      "text/html": [
       "<div>\n",
       "<style scoped>\n",
       "    .dataframe tbody tr th:only-of-type {\n",
       "        vertical-align: middle;\n",
       "    }\n",
       "\n",
       "    .dataframe tbody tr th {\n",
       "        vertical-align: top;\n",
       "    }\n",
       "\n",
       "    .dataframe thead th {\n",
       "        text-align: right;\n",
       "    }\n",
       "</style>\n",
       "<table border=\"1\" class=\"dataframe\">\n",
       "  <thead>\n",
       "    <tr style=\"text-align: right;\">\n",
       "      <th></th>\n",
       "      <th>Viaje_Id</th>\n",
       "      <th>Usuario_Id</th>\n",
       "      <th>Genero</th>\n",
       "      <th>Año_de_nacimiento</th>\n",
       "      <th>Inicio_del_viaje</th>\n",
       "      <th>Fin_del_viaje</th>\n",
       "      <th>Origen_Id</th>\n",
       "      <th>Destino_Id</th>\n",
       "      <th>Inicio</th>\n",
       "      <th>Fin</th>\n",
       "    </tr>\n",
       "  </thead>\n",
       "  <tbody>\n",
       "    <tr>\n",
       "      <th>4645916</th>\n",
       "      <td>37162337</td>\n",
       "      <td>460001</td>\n",
       "      <td>M</td>\n",
       "      <td>1989.0</td>\n",
       "      <td>2024-12-31 23:44:12</td>\n",
       "      <td>2025-01-01 00:10:43</td>\n",
       "      <td>188</td>\n",
       "      <td>269</td>\n",
       "      <td>2024-12-31 23:44:12</td>\n",
       "      <td>2025-01-01 00:10:43</td>\n",
       "    </tr>\n",
       "    <tr>\n",
       "      <th>4645917</th>\n",
       "      <td>37162338</td>\n",
       "      <td>543744</td>\n",
       "      <td>M</td>\n",
       "      <td>1985.0</td>\n",
       "      <td>2024-12-31 23:46:38</td>\n",
       "      <td>2024-12-31 23:50:08</td>\n",
       "      <td>39</td>\n",
       "      <td>49</td>\n",
       "      <td>2024-12-31 23:46:38</td>\n",
       "      <td>2024-12-31 23:50:08</td>\n",
       "    </tr>\n",
       "    <tr>\n",
       "      <th>4645918</th>\n",
       "      <td>37162339</td>\n",
       "      <td>737764</td>\n",
       "      <td>M</td>\n",
       "      <td>1996.0</td>\n",
       "      <td>2024-12-31 23:47:37</td>\n",
       "      <td>2024-12-31 23:51:12</td>\n",
       "      <td>158</td>\n",
       "      <td>276</td>\n",
       "      <td>2024-12-31 23:47:37</td>\n",
       "      <td>2024-12-31 23:51:12</td>\n",
       "    </tr>\n",
       "    <tr>\n",
       "      <th>4645919</th>\n",
       "      <td>37162340</td>\n",
       "      <td>43277</td>\n",
       "      <td>M</td>\n",
       "      <td>1979.0</td>\n",
       "      <td>2024-12-31 23:54:40</td>\n",
       "      <td>2025-01-01 01:17:01</td>\n",
       "      <td>57</td>\n",
       "      <td>77</td>\n",
       "      <td>2024-12-31 23:54:40</td>\n",
       "      <td>2025-01-01 01:17:01</td>\n",
       "    </tr>\n",
       "    <tr>\n",
       "      <th>4645920</th>\n",
       "      <td>37162341</td>\n",
       "      <td>2711370</td>\n",
       "      <td>M</td>\n",
       "      <td>1996.0</td>\n",
       "      <td>2024-12-31 23:55:17</td>\n",
       "      <td>2025-01-01 00:05:00</td>\n",
       "      <td>51</td>\n",
       "      <td>268</td>\n",
       "      <td>2024-12-31 23:55:17</td>\n",
       "      <td>2025-01-01 00:05:00</td>\n",
       "    </tr>\n",
       "  </tbody>\n",
       "</table>\n",
       "</div>"
      ],
      "text/plain": [
       "         Viaje_Id  Usuario_Id Genero  Año_de_nacimiento     Inicio_del_viaje  \\\n",
       "4645916  37162337      460001      M             1989.0  2024-12-31 23:44:12   \n",
       "4645917  37162338      543744      M             1985.0  2024-12-31 23:46:38   \n",
       "4645918  37162339      737764      M             1996.0  2024-12-31 23:47:37   \n",
       "4645919  37162340       43277      M             1979.0  2024-12-31 23:54:40   \n",
       "4645920  37162341     2711370      M             1996.0  2024-12-31 23:55:17   \n",
       "\n",
       "               Fin_del_viaje  Origen_Id  Destino_Id               Inicio  \\\n",
       "4645916  2025-01-01 00:10:43        188         269  2024-12-31 23:44:12   \n",
       "4645917  2024-12-31 23:50:08         39          49  2024-12-31 23:46:38   \n",
       "4645918  2024-12-31 23:51:12        158         276  2024-12-31 23:47:37   \n",
       "4645919  2025-01-01 01:17:01         57          77  2024-12-31 23:54:40   \n",
       "4645920  2025-01-01 00:05:00         51         268  2024-12-31 23:55:17   \n",
       "\n",
       "                         Fin  \n",
       "4645916  2025-01-01 00:10:43  \n",
       "4645917  2024-12-31 23:50:08  \n",
       "4645918  2024-12-31 23:51:12  \n",
       "4645919  2025-01-01 01:17:01  \n",
       "4645920  2025-01-01 00:05:00  "
      ]
     },
     "execution_count": 83,
     "metadata": {},
     "output_type": "execute_result"
    }
   ],
   "source": [
    "mibici_2024.tail()"
   ]
  }
 ],
 "metadata": {
  "kernelspec": {
   "display_name": "myenv",
   "language": "python",
   "name": "python3"
  },
  "language_info": {
   "codemirror_mode": {
    "name": "ipython",
    "version": 3
   },
   "file_extension": ".py",
   "mimetype": "text/x-python",
   "name": "python",
   "nbconvert_exporter": "python",
   "pygments_lexer": "ipython3",
   "version": "3.12.9"
  }
 },
 "nbformat": 4,
 "nbformat_minor": 5
}
