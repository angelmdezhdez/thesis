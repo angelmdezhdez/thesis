{
 "cells": [
  {
   "cell_type": "code",
   "execution_count": 1,
   "metadata": {},
   "outputs": [],
   "source": [
    "# Librerías\n",
    "import numpy as np\n",
    "import matplotlib.pyplot as plt\n",
    "import pandas as pd\n",
    "import re"
   ]
  },
  {
   "cell_type": "code",
   "execution_count": 11,
   "metadata": {},
   "outputs": [
    {
     "data": {
      "text/html": [
       "<div>\n",
       "<style scoped>\n",
       "    .dataframe tbody tr th:only-of-type {\n",
       "        vertical-align: middle;\n",
       "    }\n",
       "\n",
       "    .dataframe tbody tr th {\n",
       "        vertical-align: top;\n",
       "    }\n",
       "\n",
       "    .dataframe thead th {\n",
       "        text-align: right;\n",
       "    }\n",
       "</style>\n",
       "<table border=\"1\" class=\"dataframe\">\n",
       "  <thead>\n",
       "    <tr style=\"text-align: right;\">\n",
       "      <th></th>\n",
       "      <th>sistema</th>\n",
       "      <th>num_cicloe</th>\n",
       "      <th>calle_prin</th>\n",
       "      <th>calle_secu</th>\n",
       "      <th>colonia</th>\n",
       "      <th>alcaldia</th>\n",
       "      <th>latitud</th>\n",
       "      <th>longitud</th>\n",
       "      <th>sitio_de_e</th>\n",
       "      <th>estatus</th>\n",
       "    </tr>\n",
       "  </thead>\n",
       "  <tbody>\n",
       "    <tr>\n",
       "      <th>0</th>\n",
       "      <td>Ecobici</td>\n",
       "      <td>100</td>\n",
       "      <td>20 de Noviembre</td>\n",
       "      <td>Mesones</td>\n",
       "      <td>Centro</td>\n",
       "      <td>Cuauhtemoc</td>\n",
       "      <td>19.428485</td>\n",
       "      <td>-99.133800</td>\n",
       "      <td>Banqueta</td>\n",
       "      <td>Instalada</td>\n",
       "    </tr>\n",
       "    <tr>\n",
       "      <th>1</th>\n",
       "      <td>Ecobici</td>\n",
       "      <td>102</td>\n",
       "      <td>Echeveste</td>\n",
       "      <td>Simon Bolivar</td>\n",
       "      <td>Centro</td>\n",
       "      <td>Cuauhtemoc</td>\n",
       "      <td>19.428214</td>\n",
       "      <td>-99.139494</td>\n",
       "      <td>Banqueta</td>\n",
       "      <td>Instalada</td>\n",
       "    </tr>\n",
       "    <tr>\n",
       "      <th>2</th>\n",
       "      <td>Ecobici</td>\n",
       "      <td>103</td>\n",
       "      <td>Joaquin Velazquez de Leon</td>\n",
       "      <td>Garcia Icazbalceta</td>\n",
       "      <td>San Rafael</td>\n",
       "      <td>Cuauhtemoc</td>\n",
       "      <td>19.441533</td>\n",
       "      <td>-99.165268</td>\n",
       "      <td>Arroyo</td>\n",
       "      <td>Instalada</td>\n",
       "    </tr>\n",
       "    <tr>\n",
       "      <th>3</th>\n",
       "      <td>Ecobici</td>\n",
       "      <td>104</td>\n",
       "      <td>San Jeronimo</td>\n",
       "      <td>Isabel la Catolica</td>\n",
       "      <td>Centro</td>\n",
       "      <td>Cuauhtemoc</td>\n",
       "      <td>19.427059</td>\n",
       "      <td>-99.137116</td>\n",
       "      <td>Banqueta</td>\n",
       "      <td>Instalada</td>\n",
       "    </tr>\n",
       "    <tr>\n",
       "      <th>4</th>\n",
       "      <td>Ecobici</td>\n",
       "      <td>105</td>\n",
       "      <td>San Jeronimo</td>\n",
       "      <td>5 de Febrero</td>\n",
       "      <td>Centro</td>\n",
       "      <td>Cuauhtemoc</td>\n",
       "      <td>19.426755</td>\n",
       "      <td>-99.135014</td>\n",
       "      <td>Arroyo</td>\n",
       "      <td>Instalada</td>\n",
       "    </tr>\n",
       "  </tbody>\n",
       "</table>\n",
       "</div>"
      ],
      "text/plain": [
       "   sistema num_cicloe                 calle_prin          calle_secu  \\\n",
       "0  Ecobici        100            20 de Noviembre             Mesones   \n",
       "1  Ecobici        102                  Echeveste       Simon Bolivar   \n",
       "2  Ecobici        103  Joaquin Velazquez de Leon  Garcia Icazbalceta   \n",
       "3  Ecobici        104               San Jeronimo  Isabel la Catolica   \n",
       "4  Ecobici        105               San Jeronimo        5 de Febrero   \n",
       "\n",
       "      colonia    alcaldia    latitud   longitud sitio_de_e    estatus  \n",
       "0      Centro  Cuauhtemoc  19.428485 -99.133800   Banqueta  Instalada  \n",
       "1      Centro  Cuauhtemoc  19.428214 -99.139494   Banqueta  Instalada  \n",
       "2  San Rafael  Cuauhtemoc  19.441533 -99.165268     Arroyo  Instalada  \n",
       "3      Centro  Cuauhtemoc  19.427059 -99.137116   Banqueta  Instalada  \n",
       "4      Centro  Cuauhtemoc  19.426755 -99.135014     Arroyo  Instalada  "
      ]
     },
     "execution_count": 11,
     "metadata": {},
     "output_type": "execute_result"
    }
   ],
   "source": [
    "nomenclatura = pd.read_csv('nomenclaturas/nomenclatura_ecobici.csv', encoding='latin1')\n",
    "nomenclatura.head()"
   ]
  },
  {
   "cell_type": "code",
   "execution_count": 12,
   "metadata": {},
   "outputs": [
    {
     "name": "stdout",
     "output_type": "stream",
     "text": [
      "     sistema num_cicloe                 calle_prin              calle_secu  \\\n",
      "0    Ecobici        100            20 de Noviembre                 Mesones   \n",
      "1    Ecobici        102                  Echeveste           Simon Bolivar   \n",
      "2    Ecobici        103  Joaquin Velazquez de Leon      Garcia Icazbalceta   \n",
      "3    Ecobici        104               San Jeronimo      Isabel la Catolica   \n",
      "4    Ecobici        105               San Jeronimo            5 de Febrero   \n",
      "..       ...        ...                        ...                     ...   \n",
      "672  Ecobici    268-269       Luis Donaldo Colosio            Jesus Garcia   \n",
      "673  Ecobici    271-272               Jesus Garcia       Carlos J. Meneses   \n",
      "674  Ecobici    273-274       Luis Donaldo Colosio            Jesus Garcia   \n",
      "675  Ecobici    390-391                        Oso            Felix Cuevas   \n",
      "676  Ecobici    445-446                       Riff  Avenida Rio Churubusco   \n",
      "\n",
      "                       colonia       alcaldia    latitud   longitud  \\\n",
      "0                       Centro     Cuauhtemoc  19.428485 -99.133800   \n",
      "1                       Centro     Cuauhtemoc  19.428214 -99.139494   \n",
      "2                   San Rafael     Cuauhtemoc  19.441533 -99.165268   \n",
      "3                       Centro     Cuauhtemoc  19.427059 -99.137116   \n",
      "4                       Centro     Cuauhtemoc  19.426755 -99.135014   \n",
      "..                         ...            ...        ...        ...   \n",
      "672                 Buenavista     Cuauhtemoc  19.442467 -99.151658   \n",
      "673                 Buenavista     Cuauhtemoc  19.443684 -99.152465   \n",
      "674                 Buenavista     Cuauhtemoc  19.442707 -99.152956   \n",
      "675                    Actipan  Benito Juarez  19.373384 -99.178173   \n",
      "676  General Pedro Maria Anaya  Benito Juarez  19.358934 -99.156064   \n",
      "\n",
      "    sitio_de_e    estatus  \n",
      "0     Banqueta  Instalada  \n",
      "1     Banqueta  Instalada  \n",
      "2       Arroyo  Instalada  \n",
      "3     Banqueta  Instalada  \n",
      "4       Arroyo  Instalada  \n",
      "..         ...        ...  \n",
      "672     Arroyo  Instalada  \n",
      "673     Arroyo  Instalada  \n",
      "674     Arroyo  Instalada  \n",
      "675     Arroyo  Instalada  \n",
      "676     Arroyo  Instalada  \n",
      "\n",
      "[677 rows x 10 columns]\n"
     ]
    }
   ],
   "source": [
    "# Verificar si hay valores en 'num_cicloestacion' que no son enteros\n",
    "non_integer_values = nomenclatura[~nomenclatura['num_cicloe'].apply(lambda x: isinstance(x, int))]\n",
    "print(non_integer_values)"
   ]
  },
  {
   "cell_type": "code",
   "execution_count": 13,
   "metadata": {},
   "outputs": [],
   "source": [
    "# Cambiar el nombre de la columna 'num_cicloestacion' a 'id'\n",
    "nomenclatura.rename(columns={'num_cicloe': 'id'}, inplace=True)\n",
    "\n",
    "# Guardar los cambios en el archivo CSV\n",
    "nomenclatura.to_csv('nomenclaturas/estaciones_ecobici.csv', index=False)"
   ]
  },
  {
   "cell_type": "code",
   "execution_count": 14,
   "metadata": {},
   "outputs": [
    {
     "data": {
      "text/html": [
       "<div>\n",
       "<style scoped>\n",
       "    .dataframe tbody tr th:only-of-type {\n",
       "        vertical-align: middle;\n",
       "    }\n",
       "\n",
       "    .dataframe tbody tr th {\n",
       "        vertical-align: top;\n",
       "    }\n",
       "\n",
       "    .dataframe thead th {\n",
       "        text-align: right;\n",
       "    }\n",
       "</style>\n",
       "<table border=\"1\" class=\"dataframe\">\n",
       "  <thead>\n",
       "    <tr style=\"text-align: right;\">\n",
       "      <th></th>\n",
       "      <th>sistema</th>\n",
       "      <th>id</th>\n",
       "      <th>calle_prin</th>\n",
       "      <th>calle_secu</th>\n",
       "      <th>colonia</th>\n",
       "      <th>alcaldia</th>\n",
       "      <th>latitud</th>\n",
       "      <th>longitud</th>\n",
       "      <th>sitio_de_e</th>\n",
       "      <th>estatus</th>\n",
       "    </tr>\n",
       "  </thead>\n",
       "  <tbody>\n",
       "    <tr>\n",
       "      <th>0</th>\n",
       "      <td>Ecobici</td>\n",
       "      <td>100</td>\n",
       "      <td>20 de Noviembre</td>\n",
       "      <td>Mesones</td>\n",
       "      <td>Centro</td>\n",
       "      <td>Cuauhtemoc</td>\n",
       "      <td>19.428485</td>\n",
       "      <td>-99.133800</td>\n",
       "      <td>Banqueta</td>\n",
       "      <td>Instalada</td>\n",
       "    </tr>\n",
       "    <tr>\n",
       "      <th>1</th>\n",
       "      <td>Ecobici</td>\n",
       "      <td>102</td>\n",
       "      <td>Echeveste</td>\n",
       "      <td>Simon Bolivar</td>\n",
       "      <td>Centro</td>\n",
       "      <td>Cuauhtemoc</td>\n",
       "      <td>19.428214</td>\n",
       "      <td>-99.139494</td>\n",
       "      <td>Banqueta</td>\n",
       "      <td>Instalada</td>\n",
       "    </tr>\n",
       "    <tr>\n",
       "      <th>2</th>\n",
       "      <td>Ecobici</td>\n",
       "      <td>103</td>\n",
       "      <td>Joaquin Velazquez de Leon</td>\n",
       "      <td>Garcia Icazbalceta</td>\n",
       "      <td>San Rafael</td>\n",
       "      <td>Cuauhtemoc</td>\n",
       "      <td>19.441533</td>\n",
       "      <td>-99.165268</td>\n",
       "      <td>Arroyo</td>\n",
       "      <td>Instalada</td>\n",
       "    </tr>\n",
       "    <tr>\n",
       "      <th>3</th>\n",
       "      <td>Ecobici</td>\n",
       "      <td>104</td>\n",
       "      <td>San Jeronimo</td>\n",
       "      <td>Isabel la Catolica</td>\n",
       "      <td>Centro</td>\n",
       "      <td>Cuauhtemoc</td>\n",
       "      <td>19.427059</td>\n",
       "      <td>-99.137116</td>\n",
       "      <td>Banqueta</td>\n",
       "      <td>Instalada</td>\n",
       "    </tr>\n",
       "    <tr>\n",
       "      <th>4</th>\n",
       "      <td>Ecobici</td>\n",
       "      <td>105</td>\n",
       "      <td>San Jeronimo</td>\n",
       "      <td>5 de Febrero</td>\n",
       "      <td>Centro</td>\n",
       "      <td>Cuauhtemoc</td>\n",
       "      <td>19.426755</td>\n",
       "      <td>-99.135014</td>\n",
       "      <td>Arroyo</td>\n",
       "      <td>Instalada</td>\n",
       "    </tr>\n",
       "  </tbody>\n",
       "</table>\n",
       "</div>"
      ],
      "text/plain": [
       "   sistema   id                 calle_prin          calle_secu     colonia  \\\n",
       "0  Ecobici  100            20 de Noviembre             Mesones      Centro   \n",
       "1  Ecobici  102                  Echeveste       Simon Bolivar      Centro   \n",
       "2  Ecobici  103  Joaquin Velazquez de Leon  Garcia Icazbalceta  San Rafael   \n",
       "3  Ecobici  104               San Jeronimo  Isabel la Catolica      Centro   \n",
       "4  Ecobici  105               San Jeronimo        5 de Febrero      Centro   \n",
       "\n",
       "     alcaldia    latitud   longitud sitio_de_e    estatus  \n",
       "0  Cuauhtemoc  19.428485 -99.133800   Banqueta  Instalada  \n",
       "1  Cuauhtemoc  19.428214 -99.139494   Banqueta  Instalada  \n",
       "2  Cuauhtemoc  19.441533 -99.165268     Arroyo  Instalada  \n",
       "3  Cuauhtemoc  19.427059 -99.137116   Banqueta  Instalada  \n",
       "4  Cuauhtemoc  19.426755 -99.135014     Arroyo  Instalada  "
      ]
     },
     "execution_count": 14,
     "metadata": {},
     "output_type": "execute_result"
    }
   ],
   "source": [
    "nomenclatura.head()"
   ]
  },
  {
   "cell_type": "code",
   "execution_count": 15,
   "metadata": {},
   "outputs": [
    {
     "data": {
      "text/plain": [
       "677"
      ]
     },
     "execution_count": 15,
     "metadata": {},
     "output_type": "execute_result"
    }
   ],
   "source": [
    "#total de estaciones\n",
    "nomenclatura.shape[0]"
   ]
  },
  {
   "cell_type": "code",
   "execution_count": 16,
   "metadata": {},
   "outputs": [
    {
     "data": {
      "text/plain": [
       "array(['100', '102', '103', '104', '105', '106', '109', '110', '111',\n",
       "       '112', '113', '114', '115', '116', '117', '118', '119', '120',\n",
       "       '121', '122', '123', '124', '125', '126', '127', '128', '129',\n",
       "       '130', '131', '132', '133', '134', '135', '136', '137', '138',\n",
       "       '139', '140', '141', '142', '143', '144', '145', '146', '147',\n",
       "       '148', '149', '150', '151', '152', '153', '154', '155', '156',\n",
       "       '157', '160', '161', '162', '163', '164', '165', '166', '167',\n",
       "       '168', '169', '170', '171', '172', '173', '174', '175', '176',\n",
       "       '177', '178', '179', '180', '181', '182', '183', '184', '185',\n",
       "       '186', '187', '188', '189', '190', '191', '194', '195', '196',\n",
       "       '197', '198', '199', '200', '201', '202', '203', '204', '205',\n",
       "       '206', '207', '208', '209', '210', '211', '212', '213', '214',\n",
       "       '215', '216', '217', '218', '219', '220', '221', '222', '223',\n",
       "       '224', '225', '226', '227', '228', '229', '230', '231', '232',\n",
       "       '233', '234', '239', '240', '241', '242', '243', '244', '245',\n",
       "       '246', '247', '248', '249', '250', '251', '252', '253', '254',\n",
       "       '255', '256', '257', '258', '259', '260', '261', '262', '263',\n",
       "       '265', '270', '276', '277', '278', '279', '280', '281', '282',\n",
       "       '283', '284', '285', '286', '287', '288', '290', '291', '292',\n",
       "       '293', '294', '295', '296', '297', '298', '299', '300', '301',\n",
       "       '302', '303', '304', '305', '306', '307', '308', '309', '310',\n",
       "       '312', '313', '314', '315', '316', '317', '318', '319', '320',\n",
       "       '321', '322', '323', '324', '325', '326', '327', '328', '329',\n",
       "       '330', '331', '332', '333', '334', '335', '336', '337', '338',\n",
       "       '339', '340', '341', '342', '343', '345', '346', '347', '348',\n",
       "       '349', '351', '352', '353', '354', '355', '356', '357', '358',\n",
       "       '359', '360', '361', '362', '363', '365', '366', '367', '369',\n",
       "       '370', '371', '372', '373', '374', '375', '377', '378', '380',\n",
       "       '381', '384', '385', '386', '387', '389', '392', '393', '394',\n",
       "       '395', '396', '397', '398', '399', '401', '402', '404', '405',\n",
       "       '407', '409', '412', '413', '414', '415', '416', '417', '419',\n",
       "       '420', '421', '422', '423', '424', '425', '427', '428', '429',\n",
       "       '430', '432', '433', '434', '436', '437', '438', '439', '440',\n",
       "       '441', '442', '443', '444', '447', '448', '449', '450', '451',\n",
       "       '452', '453', '454', '455', '456', '457', '458', '459', '460',\n",
       "       '461', '462', '463', '464', '465', '466', '467', '468', '469',\n",
       "       '470', '471', '472', '473', '474', '475', '476', '477', '478',\n",
       "       '479', '480', '481', '482', '483', '484', '485', '486', '487',\n",
       "       '488', '489', '490', '491', '492', '493', '494', '495', '496',\n",
       "       '497', '498', '499', '500', '501', '502', '503', '504', '505',\n",
       "       '506', '507', '508', '509', '510', '511', '512', '513', '514',\n",
       "       '515', '516', '517', '518', '519', '520', '521', '522', '523',\n",
       "       '524', '525', '526', '527', '528', '529', '530', '531', '532',\n",
       "       '533', '534', '535', '536', '537', '538', '539', '540', '541',\n",
       "       '542', '543', '544', '545', '546', '547', '548', '549', '550',\n",
       "       '551', '552', '553', '554', '555', '556', '557', '558', '559',\n",
       "       '560', '561', '562', '563', '564', '565', '566', '567', '568',\n",
       "       '569', '570', '571', '572', '573', '574', '575', '576', '577',\n",
       "       '578', '579', '580', '581', '582', '583', '584', '585', '586',\n",
       "       '587', '588', '589', '590', '591', '592', '593', '594', '595',\n",
       "       '596', '597', '598', '599', '600', '601', '602', '603', '604',\n",
       "       '605', '606', '607', '608', '609', '610', '611', '612', '613',\n",
       "       '614', '615', '616', '617', '618', '619', '620', '621', '622',\n",
       "       '623', '624', '625', '626', '627', '628', '629', '630', '631',\n",
       "       '632', '633', '634', '635', '636', '637', '638', '639', '640',\n",
       "       '641', '642', '643', '644', '645', '646', '647', '648', '649',\n",
       "       '650', '651', '652', '653', '654', '655', '656', '657', '658',\n",
       "       '659', '660', '661', '662', '663', '664', '665', '666', '667',\n",
       "       '668', '669', '670', '671', '672', '673', '674', '675', '676',\n",
       "       '677', '678', '679', '680', '681', '682', '683', '684', '685',\n",
       "       '686', '687', '688', '689', '690', '691', '692', '693', '694',\n",
       "       '695', '696', '697', '698', '699', '700', '701', '702', '703',\n",
       "       '704', '705', '706', '707', '708', '709', '710', '711', '1', '2',\n",
       "       '3', '4', '5', '6', '7', '8', '9', '10', '11', '12', '13', '14',\n",
       "       '15', '16', '17', '18', '19', '20', '21', '22', '23', '24', '25',\n",
       "       '26', '27', '28', '29', '30', '31', '32', '33', '34', '35', '36',\n",
       "       '37', '38', '39', '40', '41', '42', '43', '44', '45', '46', '47',\n",
       "       '48', '49', '50', '51', '52', '53', '54', '55', '56', '57', '58',\n",
       "       '59', '60', '61', '62', '63', '64', '65', '66', '67', '68', '69',\n",
       "       '70', '71', '72', '73', '74', '75', '76', '77', '78', '79', '80',\n",
       "       '81', '82', '83', '84', '85', '86', '87', '88', '89', '90', '91',\n",
       "       '92', '93', '94', '95', '96', '97', '98', '99', '107-108',\n",
       "       '158-159', '192-193', '235-236', '237-238', '264-275', '266-267',\n",
       "       '268-269', '271-272', '273-274', '390-391', '445-446'],\n",
       "      dtype=object)"
      ]
     },
     "execution_count": 16,
     "metadata": {},
     "output_type": "execute_result"
    }
   ],
   "source": [
    "nomenclatura['id'].unique()"
   ]
  },
  {
   "cell_type": "code",
   "execution_count": 17,
   "metadata": {},
   "outputs": [
    {
     "name": "stdout",
     "output_type": "stream",
     "text": [
      "['107-108' '158-159' '192-193' '235-236' '237-238' '264-275' '266-267'\n",
      " '268-269' '271-272' '273-274' '390-391' '445-446']\n"
     ]
    }
   ],
   "source": [
    "estaciones_seguidas = nomenclatura[nomenclatura['id'].str.contains('-', na=False)]\n",
    "print(estaciones_seguidas['id'].unique())"
   ]
  },
  {
   "cell_type": "code",
   "execution_count": 19,
   "metadata": {},
   "outputs": [],
   "source": [
    "def procesar_estacion(valor):\n",
    "    # Si el valor es un número entero, lo dejamos igual\n",
    "    try:\n",
    "        return int(valor)\n",
    "    except ValueError:\n",
    "        pass\n",
    "\n",
    "    # Si el valor tiene el formato \"%d-%d\", obtenemos el primer número\n",
    "    if re.match(r'^\\d+-\\d+$', valor):\n",
    "        return int(valor.split('-')[0])\n",
    "\n",
    "    # Si no está en el diccionario, pedimos manualmente la estación\n",
    "    print(f\"Valor inesperado: {valor}\")\n",
    "    nuevo_valor = input(\"Ingresa manualmente la estación correcta: \")\n",
    "    \n",
    "    return int(nuevo_valor)"
   ]
  },
  {
   "cell_type": "code",
   "execution_count": 20,
   "metadata": {},
   "outputs": [],
   "source": [
    "nomenclatura['id'] = nomenclatura['id'].apply(procesar_estacion)"
   ]
  },
  {
   "cell_type": "code",
   "execution_count": 21,
   "metadata": {},
   "outputs": [],
   "source": [
    "nomenclatura.to_csv('nomenclaturas/estaciones_ecobici.csv', index=False)"
   ]
  },
  {
   "cell_type": "code",
   "execution_count": 26,
   "metadata": {},
   "outputs": [
    {
     "data": {
      "text/plain": [
       "array([100, 102, 103, 104, 105, 106, 109, 110, 111, 112, 113, 114, 115,\n",
       "       116, 117, 118, 119, 120, 121, 122, 123, 124, 125, 126, 127, 128,\n",
       "       129, 130, 131, 132, 133, 134, 135, 136, 137, 138, 139, 140, 141,\n",
       "       142, 143, 144, 145, 146, 147, 148, 149, 150, 151, 152, 153, 154,\n",
       "       155, 156, 157, 160, 161, 162, 163, 164, 165, 166, 167, 168, 169,\n",
       "       170, 171, 172, 173, 174, 175, 176, 177, 178, 179, 180, 181, 182,\n",
       "       183, 184, 185, 186, 187, 188, 189, 190, 191, 194, 195, 196, 197,\n",
       "       198, 199, 200, 201, 202, 203, 204, 205, 206, 207, 208, 209, 210,\n",
       "       211, 212, 213, 214, 215, 216, 217, 218, 219, 220, 221, 222, 223,\n",
       "       224, 225, 226, 227, 228, 229, 230, 231, 232, 233, 234, 239, 240,\n",
       "       241, 242, 243, 244, 245, 246, 247, 248, 249, 250, 251, 252, 253,\n",
       "       254, 255, 256, 257, 258, 259, 260, 261, 262, 263, 265, 270, 276,\n",
       "       277, 278, 279, 280, 281, 282, 283, 284, 285, 286, 287, 288, 290,\n",
       "       291, 292, 293, 294, 295, 296, 297, 298, 299, 300, 301, 302, 303,\n",
       "       304, 305, 306, 307, 308, 309, 310, 312, 313, 314, 315, 316, 317,\n",
       "       318, 319, 320, 321, 322, 323, 324, 325, 326, 327, 328, 329, 330,\n",
       "       331, 332, 333, 334, 335, 336, 337, 338, 339, 340, 341, 342, 343,\n",
       "       345, 346, 347, 348, 349, 351, 352, 353, 354, 355, 356, 357, 358,\n",
       "       359, 360, 361, 362, 363, 365, 366, 367, 369, 370, 371, 372, 373,\n",
       "       374, 375, 377, 378, 380, 381, 384, 385, 386, 387, 389, 392, 393,\n",
       "       394, 395, 396, 397, 398, 399, 401, 402, 404, 405, 407, 409, 412,\n",
       "       413, 414, 415, 416, 417, 419, 420, 421, 422, 423, 424, 425, 427,\n",
       "       428, 429, 430, 432, 433, 434, 436, 437, 438, 439, 440, 441, 442,\n",
       "       443, 444, 447, 448, 449, 450, 451, 452, 453, 454, 455, 456, 457,\n",
       "       458, 459, 460, 461, 462, 463, 464, 465, 466, 467, 468, 469, 470,\n",
       "       471, 472, 473, 474, 475, 476, 477, 478, 479, 480, 481, 482, 483,\n",
       "       484, 485, 486, 487, 488, 489, 490, 491, 492, 493, 494, 495, 496,\n",
       "       497, 498, 499, 500, 501, 502, 503, 504, 505, 506, 507, 508, 509,\n",
       "       510, 511, 512, 513, 514, 515, 516, 517, 518, 519, 520, 521, 522,\n",
       "       523, 524, 525, 526, 527, 528, 529, 530, 531, 532, 533, 534, 535,\n",
       "       536, 537, 538, 539, 540, 541, 542, 543, 544, 545, 546, 547, 548,\n",
       "       549, 550, 551, 552, 553, 554, 555, 556, 557, 558, 559, 560, 561,\n",
       "       562, 563, 564, 565, 566, 567, 568, 569, 570, 571, 572, 573, 574,\n",
       "       575, 576, 577, 578, 579, 580, 581, 582, 583, 584, 585, 586, 587,\n",
       "       588, 589, 590, 591, 592, 593, 594, 595, 596, 597, 598, 599, 600,\n",
       "       601, 602, 603, 604, 605, 606, 607, 608, 609, 610, 611, 612, 613,\n",
       "       614, 615, 616, 617, 618, 619, 620, 621, 622, 623, 624, 625, 626,\n",
       "       627, 628, 629, 630, 631, 632, 633, 634, 635, 636, 637, 638, 639,\n",
       "       640, 641, 642, 643, 644, 645, 646, 647, 648, 649, 650, 651, 652,\n",
       "       653, 654, 655, 656, 657, 658, 659, 660, 661, 662, 663, 664, 665,\n",
       "       666, 667, 668, 669, 670, 671, 672, 673, 674, 675, 676, 677, 678,\n",
       "       679, 680, 681, 682, 683, 684, 685, 686, 687, 688, 689, 690, 691,\n",
       "       692, 693, 694, 695, 696, 697, 698, 699, 700, 701, 702, 703, 704,\n",
       "       705, 706, 707, 708, 709, 710, 711,   1,   2,   3,   4,   5,   6,\n",
       "         7,   8,   9,  10,  11,  12,  13,  14,  15,  16,  17,  18,  19,\n",
       "        20,  21,  22,  23,  24,  25,  26,  27,  28,  29,  30,  31,  32,\n",
       "        33,  34,  35,  36,  37,  38,  39,  40,  41,  42,  43,  44,  45,\n",
       "        46,  47,  48,  49,  50,  51,  52,  53,  54,  55,  56,  57,  58,\n",
       "        59,  60,  61,  62,  63,  64,  65,  66,  67,  68,  69,  70,  71,\n",
       "        72,  73,  74,  75,  76,  77,  78,  79,  80,  81,  82,  83,  84,\n",
       "        85,  86,  87,  88,  89,  90,  91,  92,  93,  94,  95,  96,  97,\n",
       "        98,  99, 107, 158, 192, 235, 237, 264, 266, 268, 271, 273, 390,\n",
       "       445])"
      ]
     },
     "execution_count": 26,
     "metadata": {},
     "output_type": "execute_result"
    }
   ],
   "source": [
    "nomenclatura['id'].unique()"
   ]
  },
  {
   "cell_type": "markdown",
   "metadata": {},
   "source": [
    "Para ver lo de las estaciones faltantes"
   ]
  },
  {
   "cell_type": "code",
   "execution_count": 4,
   "metadata": {},
   "outputs": [],
   "source": [
    "def leer_matriz(nombre_archivo):\n",
    "    matriz = []\n",
    "    with open(nombre_archivo, 'r') as archivo:\n",
    "        archivo.readline()\n",
    "        archivo.readline()\n",
    "        for linea in archivo:\n",
    "            fila = [float(valor) for valor in linea.strip().split()]\n",
    "            matriz.append(fila)\n",
    "    return np.array(matriz)"
   ]
  },
  {
   "cell_type": "code",
   "execution_count": 2,
   "metadata": {},
   "outputs": [
    {
     "data": {
      "text/html": [
       "<div>\n",
       "<style scoped>\n",
       "    .dataframe tbody tr th:only-of-type {\n",
       "        vertical-align: middle;\n",
       "    }\n",
       "\n",
       "    .dataframe tbody tr th {\n",
       "        vertical-align: top;\n",
       "    }\n",
       "\n",
       "    .dataframe thead th {\n",
       "        text-align: right;\n",
       "    }\n",
       "</style>\n",
       "<table border=\"1\" class=\"dataframe\">\n",
       "  <thead>\n",
       "    <tr style=\"text-align: right;\">\n",
       "      <th></th>\n",
       "      <th>sistema</th>\n",
       "      <th>id</th>\n",
       "      <th>calle_prin</th>\n",
       "      <th>calle_secu</th>\n",
       "      <th>colonia</th>\n",
       "      <th>alcaldia</th>\n",
       "      <th>latitud</th>\n",
       "      <th>longitud</th>\n",
       "      <th>sitio_de_e</th>\n",
       "      <th>estatus</th>\n",
       "    </tr>\n",
       "  </thead>\n",
       "  <tbody>\n",
       "    <tr>\n",
       "      <th>0</th>\n",
       "      <td>Ecobici</td>\n",
       "      <td>100</td>\n",
       "      <td>20 de Noviembre</td>\n",
       "      <td>Mesones</td>\n",
       "      <td>Centro</td>\n",
       "      <td>Cuauhtemoc</td>\n",
       "      <td>19.428485</td>\n",
       "      <td>-99.133800</td>\n",
       "      <td>Banqueta</td>\n",
       "      <td>Instalada</td>\n",
       "    </tr>\n",
       "    <tr>\n",
       "      <th>1</th>\n",
       "      <td>Ecobici</td>\n",
       "      <td>102</td>\n",
       "      <td>Echeveste</td>\n",
       "      <td>Simon Bolivar</td>\n",
       "      <td>Centro</td>\n",
       "      <td>Cuauhtemoc</td>\n",
       "      <td>19.428214</td>\n",
       "      <td>-99.139494</td>\n",
       "      <td>Banqueta</td>\n",
       "      <td>Instalada</td>\n",
       "    </tr>\n",
       "    <tr>\n",
       "      <th>2</th>\n",
       "      <td>Ecobici</td>\n",
       "      <td>103</td>\n",
       "      <td>Joaquin Velazquez de Leon</td>\n",
       "      <td>Garcia Icazbalceta</td>\n",
       "      <td>San Rafael</td>\n",
       "      <td>Cuauhtemoc</td>\n",
       "      <td>19.441533</td>\n",
       "      <td>-99.165268</td>\n",
       "      <td>Arroyo</td>\n",
       "      <td>Instalada</td>\n",
       "    </tr>\n",
       "    <tr>\n",
       "      <th>3</th>\n",
       "      <td>Ecobici</td>\n",
       "      <td>104</td>\n",
       "      <td>San Jeronimo</td>\n",
       "      <td>Isabel la Catolica</td>\n",
       "      <td>Centro</td>\n",
       "      <td>Cuauhtemoc</td>\n",
       "      <td>19.427059</td>\n",
       "      <td>-99.137116</td>\n",
       "      <td>Banqueta</td>\n",
       "      <td>Instalada</td>\n",
       "    </tr>\n",
       "    <tr>\n",
       "      <th>4</th>\n",
       "      <td>Ecobici</td>\n",
       "      <td>105</td>\n",
       "      <td>San Jeronimo</td>\n",
       "      <td>5 de Febrero</td>\n",
       "      <td>Centro</td>\n",
       "      <td>Cuauhtemoc</td>\n",
       "      <td>19.426755</td>\n",
       "      <td>-99.135014</td>\n",
       "      <td>Arroyo</td>\n",
       "      <td>Instalada</td>\n",
       "    </tr>\n",
       "  </tbody>\n",
       "</table>\n",
       "</div>"
      ],
      "text/plain": [
       "   sistema   id                 calle_prin          calle_secu     colonia  \\\n",
       "0  Ecobici  100            20 de Noviembre             Mesones      Centro   \n",
       "1  Ecobici  102                  Echeveste       Simon Bolivar      Centro   \n",
       "2  Ecobici  103  Joaquin Velazquez de Leon  Garcia Icazbalceta  San Rafael   \n",
       "3  Ecobici  104               San Jeronimo  Isabel la Catolica      Centro   \n",
       "4  Ecobici  105               San Jeronimo        5 de Febrero      Centro   \n",
       "\n",
       "     alcaldia    latitud   longitud sitio_de_e    estatus  \n",
       "0  Cuauhtemoc  19.428485 -99.133800   Banqueta  Instalada  \n",
       "1  Cuauhtemoc  19.428214 -99.139494   Banqueta  Instalada  \n",
       "2  Cuauhtemoc  19.441533 -99.165268     Arroyo  Instalada  \n",
       "3  Cuauhtemoc  19.427059 -99.137116   Banqueta  Instalada  \n",
       "4  Cuauhtemoc  19.426755 -99.135014     Arroyo  Instalada  "
      ]
     },
     "execution_count": 2,
     "metadata": {},
     "output_type": "execute_result"
    }
   ],
   "source": [
    "n_nueva = pd.read_csv('nomenclaturas/estaciones_ecobici.csv')\n",
    "n_nueva.head()"
   ]
  },
  {
   "cell_type": "code",
   "execution_count": 3,
   "metadata": {},
   "outputs": [
    {
     "data": {
      "text/html": [
       "<div>\n",
       "<style scoped>\n",
       "    .dataframe tbody tr th:only-of-type {\n",
       "        vertical-align: middle;\n",
       "    }\n",
       "\n",
       "    .dataframe tbody tr th {\n",
       "        vertical-align: top;\n",
       "    }\n",
       "\n",
       "    .dataframe thead th {\n",
       "        text-align: right;\n",
       "    }\n",
       "</style>\n",
       "<table border=\"1\" class=\"dataframe\">\n",
       "  <thead>\n",
       "    <tr style=\"text-align: right;\">\n",
       "      <th></th>\n",
       "      <th>sistema</th>\n",
       "      <th>num_cicloestacion</th>\n",
       "      <th>nombre</th>\n",
       "      <th>calle_principal</th>\n",
       "      <th>calle_secundaria</th>\n",
       "      <th>colonia</th>\n",
       "      <th>alcaldia</th>\n",
       "      <th>latitud</th>\n",
       "      <th>longitud</th>\n",
       "      <th>tipo_ce</th>\n",
       "      <th>candados</th>\n",
       "    </tr>\n",
       "  </thead>\n",
       "  <tbody>\n",
       "    <tr>\n",
       "      <th>0</th>\n",
       "      <td>ECOBICI</td>\n",
       "      <td>1</td>\n",
       "      <td>Río Sena - Río Balsas</td>\n",
       "      <td>Río Sena</td>\n",
       "      <td>Río Balsas</td>\n",
       "      <td>Cuauhtémoc</td>\n",
       "      <td>CUAUHTEMOC</td>\n",
       "      <td>19.433590</td>\n",
       "      <td>-99.167819</td>\n",
       "      <td>4G</td>\n",
       "      <td>27</td>\n",
       "    </tr>\n",
       "    <tr>\n",
       "      <th>1</th>\n",
       "      <td>ECOBICI</td>\n",
       "      <td>2</td>\n",
       "      <td>Río Guadalquivir - Río Nazas</td>\n",
       "      <td>Río Guadalquivir</td>\n",
       "      <td>Río Nazas</td>\n",
       "      <td>Cuauhtémoc</td>\n",
       "      <td>CUAUHTEMOC</td>\n",
       "      <td>19.430510</td>\n",
       "      <td>-99.171201</td>\n",
       "      <td>3G</td>\n",
       "      <td>21</td>\n",
       "    </tr>\n",
       "    <tr>\n",
       "      <th>2</th>\n",
       "      <td>ECOBICI</td>\n",
       "      <td>3</td>\n",
       "      <td>Reforma - Insurgentes</td>\n",
       "      <td>Reforma</td>\n",
       "      <td>Insurgentes</td>\n",
       "      <td>Tabacalera</td>\n",
       "      <td>CUAUHTEMOC</td>\n",
       "      <td>19.431630</td>\n",
       "      <td>-99.158547</td>\n",
       "      <td>4G</td>\n",
       "      <td>36</td>\n",
       "    </tr>\n",
       "    <tr>\n",
       "      <th>3</th>\n",
       "      <td>ECOBICI</td>\n",
       "      <td>4</td>\n",
       "      <td>Río Nilo - Río Pánuco</td>\n",
       "      <td>Río Nilo</td>\n",
       "      <td>Río Pánuco</td>\n",
       "      <td>Cuauhtémoc</td>\n",
       "      <td>CUAUHTEMOC</td>\n",
       "      <td>19.428491</td>\n",
       "      <td>-99.171693</td>\n",
       "      <td>3G</td>\n",
       "      <td>15</td>\n",
       "    </tr>\n",
       "    <tr>\n",
       "      <th>4</th>\n",
       "      <td>ECOBICI</td>\n",
       "      <td>5</td>\n",
       "      <td>Río Pánuco - Río Tíber</td>\n",
       "      <td>Río Pánuco</td>\n",
       "      <td>Río Tíber</td>\n",
       "      <td>Cuauhtémoc</td>\n",
       "      <td>CUAUHTEMOC</td>\n",
       "      <td>19.429804</td>\n",
       "      <td>-99.169451</td>\n",
       "      <td>3G</td>\n",
       "      <td>12</td>\n",
       "    </tr>\n",
       "  </tbody>\n",
       "</table>\n",
       "</div>"
      ],
      "text/plain": [
       "   sistema  num_cicloestacion                        nombre   calle_principal  \\\n",
       "0  ECOBICI                  1         Río Sena - Río Balsas          Río Sena   \n",
       "1  ECOBICI                  2  Río Guadalquivir - Río Nazas  Río Guadalquivir   \n",
       "2  ECOBICI                  3         Reforma - Insurgentes           Reforma   \n",
       "3  ECOBICI                  4         Río Nilo - Río Pánuco          Río Nilo   \n",
       "4  ECOBICI                  5        Río Pánuco - Río Tíber        Río Pánuco   \n",
       "\n",
       "  calle_secundaria     colonia    alcaldia    latitud   longitud tipo_ce  \\\n",
       "0       Río Balsas  Cuauhtémoc  CUAUHTEMOC  19.433590 -99.167819      4G   \n",
       "1        Río Nazas  Cuauhtémoc  CUAUHTEMOC  19.430510 -99.171201      3G   \n",
       "2      Insurgentes  Tabacalera  CUAUHTEMOC  19.431630 -99.158547      4G   \n",
       "3       Río Pánuco  Cuauhtémoc  CUAUHTEMOC  19.428491 -99.171693      3G   \n",
       "4        Río Tíber  Cuauhtémoc  CUAUHTEMOC  19.429804 -99.169451      3G   \n",
       "\n",
       "   candados  \n",
       "0        27  \n",
       "1        21  \n",
       "2        36  \n",
       "3        15  \n",
       "4        12  "
      ]
     },
     "execution_count": 3,
     "metadata": {},
     "output_type": "execute_result"
    }
   ],
   "source": [
    "n_vieja = pd.read_csv('nomenclaturas/estaciones_ecobici_viejo.csv')\n",
    "n_vieja.head()"
   ]
  },
  {
   "cell_type": "code",
   "execution_count": 6,
   "metadata": {},
   "outputs": [
    {
     "name": "stdout",
     "output_type": "stream",
     "text": [
      "[  1   2   3   4   5   6   7   8   9  10  11  12  13  14  15  16  17  18\n",
      "  19  20  21  22  23  24  25  26  27  28  29  30  31  32  33  34  35  36\n",
      "  37  38  39  40  41  42  43  44  45  46  47  48  49  50  51  52  53  54\n",
      "  55  56  57  58  59  60  61  62  63  64  65  66  67  68  69  70  71  72\n",
      "  73  74  75  76  77  78  79  80  81  82  83  84  85  86  87  88  89  90\n",
      "  91  92  93  94  95  96  97  98  99 100 102 103 104 105 106 107 109 110\n",
      " 111 112 113 114 115 116 117 118 119 120 121 122 123 124 125 126 127 128\n",
      " 129 130 131 132 133 134 135 136 137 138 139 140 141 142 143 144 145 146\n",
      " 147 148 149 150 151 152 153 154 155 156 157 158 160 161 162 163 164 165\n",
      " 166 167 168 169 170 171 172 173 174 175 176 177 178 179 180 181 182 183\n",
      " 184 185 186 187 188 189 190 191 192 194 195 196 197 198 199 200 201 202\n",
      " 203 204 205 206 207 208 209 210 211 212 213 214 215 216 217 218 219 220\n",
      " 221 222 223 224 225 226 227 228 229 230 231 232 233 234 235 237 239 240\n",
      " 241 242 243 244 245 246 247 248 249 250 251 252 253 254 255 256 257 258\n",
      " 259 260 261 262 263 264 265 266 268 270 271 273 276 277 278 279 280 281\n",
      " 282 283 284 285 286 287 288 290 291 292 293 294 295 296 297 298 299 300\n",
      " 301 302 303 304 305 306 307 308 309 310 312 313 314 315 316 317 318 319\n",
      " 320 321 322 323 324 325 326 327 328 329 330 331 332 333 334 335 336 337\n",
      " 338 339 340 341 342 343 345 346 347 348 349 351 352 353 354 355 356 357\n",
      " 358 359 360 361 362 363 365 366 367 369 370 371 372 373 374 375 377 378\n",
      " 380 381 384 385 386 387 389 390 392 393 394 395 396 397 398 399 401 402\n",
      " 404 405 407 409 412 413 414 415 416 417 419 420 421 422 423 424 425 427\n",
      " 428 429 430 432 433 434 436 437 438 439 440 441 442 443 444 445 447 448\n",
      " 449 450 451 452 453 454 455 456 457 458 459 460 461 462 463 464 465 466\n",
      " 467 468 469 470 471 472 473 474 475 476 477 478 479 480 481 482 483 484\n",
      " 485 486 487 488 489 490 491 492 493 494 495 496 497 498 499 500 501 502\n",
      " 503 504 505 506 507 508 509 510 511 512 513 514 515 516 517 518 519 520\n",
      " 521 522 523 524 525 526 527 528 529 530 531 532 533 534 535 536 537 538\n",
      " 539 540 541 542 543 544 545 546 547 548 549 550 551 552 553 554 555 556\n",
      " 557 558 559 560 561 562 563 564 565 566 567 568 569 570 571 572 573 574\n",
      " 575 576 577 578 579 580 581 582 583 584 585 586 587 588 589 590 591 592\n",
      " 593 594 595 596 597 598 599 600 601 602 603 604 605 606 607 608 609 610\n",
      " 611 612 613 614 615 616 617 618 619 620 621 622 623 624 625 626 627 628\n",
      " 629 630 631 632 633 634 635 636 637 638 639 640 641 642 643 644 645 646\n",
      " 647 648 649 650 651 652 653 654 655 656 657 658 659 660 661 662 663 664\n",
      " 665 666 667 668 669 670 671 672 673 674 675 676 677 678 679 680 681 682\n",
      " 683 684 685 686 687 688 689 690 691 692 693 694 695 696 697 698 699 700\n",
      " 701 702 703 704 705 706 707 708 709 710 711]\n"
     ]
    }
   ],
   "source": [
    "print(np.sort(n_nueva['id'].unique()))"
   ]
  },
  {
   "cell_type": "code",
   "execution_count": 18,
   "metadata": {},
   "outputs": [
    {
     "name": "stdout",
     "output_type": "stream",
     "text": [
      "[  1   2   3   4   5   6   7   8   9  10  11  12  13  14  15  16  17  18\n",
      "  19  20  21  22  23  24  25  26  27  28  29  30  31  32  33  34  35  36\n",
      "  37  38  39  40  41  42  43  44  45  46  47  48  49  50  51  52  53  54\n",
      "  55  56  57  58  59  60  61  62  63  64  65  66  67  68  69  70  71  72\n",
      "  73  74  75  76  77  78  79  80  81  82  83  84  85  86  87  88  89  90\n",
      "  91  92  93  94  95  96  97  98  99 100 102 103 104 105 106 107 109 110\n",
      " 111 112 113 114 115 116 117 118 119 120 121 122 123 124 125 126 127 128\n",
      " 129 130 131 132 133 134 135 136 137 138 139 140 141 142 143 144 145 146\n",
      " 147 148 149 150 151 152 153 154 155 156 157 158 160 161 162 163 164 165\n",
      " 166 167 168 169 170 171 172 173 174 175 176 177 178 179 180 181 182 183\n",
      " 184 185 186 187 188 189 190 191 192 194 195 196 197 198 199 200 201 202\n",
      " 203 204 205 206 207 208 209 210 211 212 213 214 215 216 217 218 219 220\n",
      " 221 222 223 224 225 226 227 228 229 230 231 232 233 234 235 237 239 240\n",
      " 241 242 243 244 245 246 247 248 249 250 251 252 253 254 255 256 257 258\n",
      " 259 260 261 262 263 264 265 266 268 270 271 273 276 277 278 279 280 281\n",
      " 282 283 284 285 286 287 288 290 291 292 293 294 295 296 297 298 299 300\n",
      " 301 302 303 304 305 306 307 308 309 310 312 313 314 315 316 317 318 319\n",
      " 320 321 322 323 324 325 326 327 328 329 330 331 332 333 334 335 336 337\n",
      " 338 339 340 341 342 343 345 346 347 348 349 351 352 353 354 355 356 357\n",
      " 358 359 360 361 362 363 365 366 367 369 370 371 372 373 374 375 377 378\n",
      " 380 381 384 385 386 387 389 390 392 393 394 395 396 397 398 399 401 402\n",
      " 404 405 407 409 412 413 414 415 416 417 419 420 421 422 423 424 425 427\n",
      " 428 429 430 432 433 434 436 437 438 439 440 441 442 443 444 445 447 448\n",
      " 449 450 451 452 453 454 455 456 457 458 459 460 461 462 463 464 465 466\n",
      " 467 468 469 470 471 472 473 474 475 476 477 478 479 480 481 482 483 484\n",
      " 485 486 487 488 489 490 491 492 493 494 495 496 497 498 499 500 501 502\n",
      " 503 504 505 506 507 508 509 510 511 512 513 514 515 516 517 518 519 520\n",
      " 521 522 523 524 525 526 527 528 529 530 531 532 533 534 535 536 537 538\n",
      " 539 540 541 542 543 544 545 546 547 548 549 550 551 552 553 554 555 556\n",
      " 557 558 559 560 561 562 563 564 565 566 567 568 569 570 571 572 573 574\n",
      " 575 576 577 578 579 580 581 582 583 584 585 586 587 588 589 590 591 592\n",
      " 593 594 595 596 597 598 599 600 601 602 603 604 605 606 607 608 609 610\n",
      " 611 612 613 614 615 616 617 618 619 620 621 622 623 624 625 626 627 628\n",
      " 629 630 631 632 633 634 635 636 637 638 639 640 641 642 643 644 645 646\n",
      " 647 648 649 650 651 652 653 654 655 656 657 658 659 660 661 662 663 664\n",
      " 665 666 667 668 669 670 671 672 673 674 675 676 677 678 679 680 681 682\n",
      " 683 684 685 686 687 688 689 690 691 692 693 694 695 696 697 698 699 700\n",
      " 701 702 703 704 705 706 707 708 709 710 711]\n"
     ]
    }
   ],
   "source": [
    "est_nueva = np.sort(n_nueva['id'].unique())\n",
    "print(est_nueva)"
   ]
  },
  {
   "cell_type": "code",
   "execution_count": 7,
   "metadata": {},
   "outputs": [
    {
     "name": "stdout",
     "output_type": "stream",
     "text": [
      "[  1   2   3   4   5   6   7   8   9  10  11  12  13  14  15  16  17  18\n",
      "  19  20  21  22  23  24  25  26  27  28  29  30  31  32  33  34  35  36\n",
      "  37  38  39  40  41  42  43  44  45  46  47  48  49  50  51  52  53  54\n",
      "  55  56  57  58  59  60  61  62  63  64  65  66  67  68  69  70  71  72\n",
      "  73  74  75  76  77  78  79  80  81  82  83  84  85  86  87  88  89  90\n",
      "  91  92  93  94  95  96  97  98  99 100 101 102 103 104 105 106 107 108\n",
      " 109 110 111 112 113 114 115 116 117 118 119 120 121 122 123 124 125 126\n",
      " 127 128 129 130 131 132 133 134 135 136 137 138 139 140 141 142 143 144\n",
      " 145 146 147 148 149 150 151 152 153 154 155 156 157 158 159 160 161 162\n",
      " 163 164 165 166 167 168 169 170 171 172 173 174 175 176 177 178 179 180\n",
      " 181 182 183 184 185 186 187 188 189 190 191 192 193 194 195 196 197 198\n",
      " 199 200 201 202 203 204 205 206 207 208 209 210 211 212 213 214 215 216\n",
      " 217 218 219 220 221 222 223 224 225 226 227 228 229 230 231 232 233 234\n",
      " 235 236 237 238 239 240 241 242 243 244 245 246 247 248 249 250 251 252\n",
      " 253 254 255 256 257 258 259 260 261 262 263 264 265 266 267 268 269 270\n",
      " 271 272 273 274 275 276 277 278 279 280 281 282 283 284 285 286 287 288\n",
      " 289 290 291 292 293 294 295 296 297 298 299 300 301 302 303 304 305 306\n",
      " 307 308 309 310 311 312 313 314 315 316 317 318 319 320 321 322 323 324\n",
      " 325 326 327 328 329 330 331 332 333 334 335 336 337 338 339 340 341 342\n",
      " 343 344 345 346 347 348 349 350 351 352 353 354 355 356 357 358 359 360\n",
      " 361 362 363 364 365 366 367 368 369 370 372 373 374 375 376 377 378 379\n",
      " 380 381 382 383 384 385 386 387 388 389 390 391 392 393 394 395 396 397\n",
      " 398 399 400 401 402 403 404 405 406 407 408 409 410 411 412 413 414 415\n",
      " 416 417 418 419 420 421 422 423 424 425 426 427 428 429 430 431 432 433\n",
      " 434 435 436 437 438 439 440 441 442 443 444 445 446 447 448 449 450 451\n",
      " 452 453 454 455 456 457 458 459 460 461 462 463 464 465 466 467 468 469\n",
      " 470 471 472 473 474 475 476 477 478 479 480]\n"
     ]
    }
   ],
   "source": [
    "print(np.sort(n_vieja['num_cicloestacion'].unique()))"
   ]
  },
  {
   "cell_type": "code",
   "execution_count": 19,
   "metadata": {},
   "outputs": [
    {
     "name": "stdout",
     "output_type": "stream",
     "text": [
      "[  1   2   3   4   5   6   7   8   9  10  11  12  13  14  15  16  17  18\n",
      "  19  20  21  22  23  24  25  26  27  28  29  30  31  32  33  34  35  36\n",
      "  37  38  39  40  41  42  43  44  45  46  47  48  49  50  51  52  53  54\n",
      "  55  56  57  58  59  60  61  62  63  64  65  66  67  68  69  70  71  72\n",
      "  73  74  75  76  77  78  79  80  81  82  83  84  85  86  87  88  89  90\n",
      "  91  92  93  94  95  96  97  98  99 100 101 102 103 104 105 106 107 108\n",
      " 109 110 111 112 113 114 115 116 117 118 119 120 121 122 123 124 125 126\n",
      " 127 128 129 130 131 132 133 134 135 136 137 138 139 140 141 142 143 144\n",
      " 145 146 147 148 149 150 151 152 153 154 155 156 157 158 159 160 161 162\n",
      " 163 164 165 166 167 168 169 170 171 172 173 174 175 176 177 178 179 180\n",
      " 181 182 183 184 185 186 187 188 189 190 191 192 193 194 195 196 197 198\n",
      " 199 200 201 202 203 204 205 206 207 208 209 210 211 212 213 214 215 216\n",
      " 217 218 219 220 221 222 223 224 225 226 227 228 229 230 231 232 233 234\n",
      " 235 236 237 238 239 240 241 242 243 244 245 246 247 248 249 250 251 252\n",
      " 253 254 255 256 257 258 259 260 261 262 263 264 265 266 267 268 269 270\n",
      " 271 272 273 274 275 276 277 278 279 280 281 282 283 284 285 286 287 288\n",
      " 289 290 291 292 293 294 295 296 297 298 299 300 301 302 303 304 305 306\n",
      " 307 308 309 310 311 312 313 314 315 316 317 318 319 320 321 322 323 324\n",
      " 325 326 327 328 329 330 331 332 333 334 335 336 337 338 339 340 341 342\n",
      " 343 344 345 346 347 348 349 350 351 352 353 354 355 356 357 358 359 360\n",
      " 361 362 363 364 365 366 367 368 369 370 372 373 374 375 376 377 378 379\n",
      " 380 381 382 383 384 385 386 387 388 389 390 391 392 393 394 395 396 397\n",
      " 398 399 400 401 402 403 404 405 406 407 408 409 410 411 412 413 414 415\n",
      " 416 417 418 419 420 421 422 423 424 425 426 427 428 429 430 431 432 433\n",
      " 434 435 436 437 438 439 440 441 442 443 444 445 446 447 448 449 450 451\n",
      " 452 453 454 455 456 457 458 459 460 461 462 463 464 465 466 467 468 469\n",
      " 470 471 472 473 474 475 476 477 478 479 480]\n"
     ]
    }
   ],
   "source": [
    "est_vieja = np.sort(n_vieja['num_cicloestacion'].unique())\n",
    "print(est_vieja)"
   ]
  },
  {
   "cell_type": "code",
   "execution_count": 10,
   "metadata": {},
   "outputs": [
    {
     "data": {
      "text/plain": [
       "array([   1,    2,    3,    4,    5,    6,    7,    8,    9,   10,   11,\n",
       "         12,   13,   14,   15,   16,   17,   18,   19,   20,   21,   22,\n",
       "         23,   24,   25,   26,   27,   28,   29,   30,   31,   32,   33,\n",
       "         34,   35,   36,   37,   38,   39,   40,   41,   42,   43,   44,\n",
       "         45,   46,   47,   48,   49,   50,   51,   52,   53,   54,   55,\n",
       "         56,   57,   58,   59,   60,   61,   62,   63,   64,   65,   66,\n",
       "         67,   68,   69,   70,   71,   72,   73,   74,   75,   76,   77,\n",
       "         78,   79,   80,   81,   82,   83,   84,   85,   86,   87,   88,\n",
       "         89,   90,   91,   92,   93,   94,   95,   96,   97,   98,   99,\n",
       "        100,  101,  102,  103,  104,  105,  106,  107,  108,  109,  110,\n",
       "        111,  112,  113,  114,  115,  116,  117,  118,  119,  120,  121,\n",
       "        122,  123,  124,  125,  126,  127,  128,  129,  130,  131,  132,\n",
       "        133,  134,  135,  136,  137,  138,  139,  140,  141,  142,  143,\n",
       "        144,  145,  146,  147,  148,  149,  150,  151,  152,  153,  154,\n",
       "        155,  156,  157,  158,  159,  160,  161,  162,  163,  164,  165,\n",
       "        166,  167,  168,  169,  170,  171,  172,  173,  174,  175,  176,\n",
       "        177,  178,  179,  180,  181,  182,  183,  184,  185,  186,  187,\n",
       "        188,  189,  190,  191,  192,  193,  194,  195,  196,  197,  198,\n",
       "        199,  200,  201,  202,  203,  204,  205,  206,  207,  208,  209,\n",
       "        210,  211,  212,  213,  214,  215,  216,  217,  218,  219,  220,\n",
       "        221,  222,  223,  224,  225,  226,  227,  228,  229,  230,  231,\n",
       "        232,  233,  234,  235,  236,  237,  238,  239,  240,  241,  242,\n",
       "        243,  244,  245,  246,  247,  248,  249,  250,  251,  252,  253,\n",
       "        254,  255,  256,  257,  258,  259,  260,  261,  262,  263,  264,\n",
       "        265,  266,  267,  268,  269,  270,  271,  272,  273,  274,  275,\n",
       "        276,  277,  278,  279,  280,  281,  282,  283,  284,  285,  286,\n",
       "        287,  288,  289,  290,  291,  292,  293,  294,  295,  296,  297,\n",
       "        298,  299,  300,  301,  302,  303,  304,  305,  306,  307,  308,\n",
       "        309,  310,  311,  312,  313,  314,  315,  316,  317,  318,  319,\n",
       "        320,  321,  322,  323,  324,  325,  326,  327,  328,  329,  330,\n",
       "        331,  332,  333,  334,  335,  336,  337,  338,  339,  340,  341,\n",
       "        342,  343,  344,  345,  346,  347,  348,  349,  350,  351,  352,\n",
       "        353,  354,  355,  356,  357,  358,  359,  360,  361,  362,  363,\n",
       "        364,  365,  366,  367,  368,  369,  370,  371,  372,  373,  374,\n",
       "        375,  376,  377,  378,  379,  380,  381,  382,  383,  384,  385,\n",
       "        386,  387,  388,  389,  390,  391,  392,  393,  394,  395,  396,\n",
       "        397,  398,  399,  400,  401,  402,  403,  404,  405,  406,  407,\n",
       "        408,  409,  410,  411,  412,  413,  414,  415,  416,  417,  418,\n",
       "        419,  420,  421,  422,  423,  424,  425,  426,  427,  428,  429,\n",
       "        430,  431,  432,  433,  434,  435,  436,  437,  438,  439,  440,\n",
       "        441,  442,  443,  444,  445,  446,  447,  448,  449,  450,  451,\n",
       "        452,  453,  454,  455,  456,  457,  458,  459,  460,  461,  462,\n",
       "        463,  464,  465,  466,  467,  468,  469,  470,  471,  472,  473,\n",
       "        474,  475,  476,  477,  478,  479,  480, 1000, 1001, 1002, 3000,\n",
       "       3001, 3002])"
      ]
     },
     "execution_count": 10,
     "metadata": {},
     "output_type": "execute_result"
    }
   ],
   "source": [
    "est_2019 = leer_matriz('Adj_eco/matrices_estaciones/estaciones_2019.txt')\n",
    "est_2019 = est_2019[:,0].astype(int)\n",
    "est_2019"
   ]
  },
  {
   "cell_type": "code",
   "execution_count": 11,
   "metadata": {},
   "outputs": [
    {
     "data": {
      "text/plain": [
       "array([   1,    2,    3,    4,    5,    6,    7,    8,    9,   10,   11,\n",
       "         12,   13,   14,   15,   16,   17,   18,   19,   20,   21,   22,\n",
       "         23,   24,   25,   26,   27,   28,   29,   30,   31,   32,   33,\n",
       "         34,   35,   36,   37,   38,   39,   40,   41,   42,   43,   44,\n",
       "         45,   46,   47,   48,   49,   50,   51,   52,   53,   54,   56,\n",
       "         57,   58,   59,   60,   61,   62,   63,   64,   65,   66,   67,\n",
       "         68,   69,   70,   71,   72,   73,   74,   75,   76,   77,   78,\n",
       "         79,   80,   81,   82,   83,   84,   85,   86,   87,   88,   89,\n",
       "         90,   91,   92,   93,   94,   95,   96,   97,   98,   99,  100,\n",
       "        102,  103,  104,  105,  106,  107,  108,  109,  110,  111,  112,\n",
       "        113,  114,  115,  116,  117,  118,  119,  120,  121,  122,  123,\n",
       "        124,  125,  126,  127,  128,  129,  130,  131,  132,  133,  134,\n",
       "        135,  136,  137,  138,  139,  140,  141,  142,  143,  144,  145,\n",
       "        146,  147,  148,  149,  150,  151,  152,  153,  154,  155,  156,\n",
       "        157,  158,  159,  160,  161,  162,  163,  164,  165,  166,  167,\n",
       "        168,  169,  170,  171,  172,  173,  174,  175,  176,  177,  178,\n",
       "        179,  180,  181,  182,  183,  184,  185,  186,  187,  188,  189,\n",
       "        190,  191,  192,  193,  194,  195,  196,  197,  198,  199,  200,\n",
       "        201,  202,  203,  204,  205,  206,  207,  208,  209,  210,  211,\n",
       "        212,  213,  214,  215,  216,  217,  218,  219,  220,  221,  222,\n",
       "        223,  224,  225,  226,  227,  228,  229,  230,  231,  232,  233,\n",
       "        234,  235,  236,  237,  238,  239,  240,  241,  242,  243,  244,\n",
       "        245,  246,  247,  248,  249,  250,  251,  252,  253,  254,  255,\n",
       "        256,  257,  258,  259,  260,  261,  262,  263,  264,  265,  266,\n",
       "        267,  268,  269,  270,  271,  272,  273,  274,  275,  276,  277,\n",
       "        278,  279,  280,  281,  282,  283,  284,  285,  286,  287,  288,\n",
       "        289,  290,  291,  292,  293,  294,  295,  296,  297,  298,  299,\n",
       "        300,  301,  302,  303,  304,  305,  306,  307,  308,  309,  310,\n",
       "        311,  312,  313,  314,  315,  316,  317,  318,  319,  320,  321,\n",
       "        322,  323,  324,  325,  326,  327,  328,  329,  330,  331,  332,\n",
       "        333,  334,  335,  336,  337,  338,  339,  340,  341,  342,  343,\n",
       "        344,  345,  346,  347,  348,  349,  350,  351,  352,  353,  354,\n",
       "        355,  356,  357,  358,  359,  360,  361,  362,  363,  364,  365,\n",
       "        366,  367,  368,  369,  370,  371,  372,  373,  374,  375,  376,\n",
       "        377,  378,  379,  380,  381,  382,  383,  384,  385,  386,  387,\n",
       "        388,  389,  390,  391,  392,  393,  394,  395,  396,  397,  398,\n",
       "        399,  400,  401,  402,  403,  404,  405,  406,  407,  408,  409,\n",
       "        410,  411,  412,  413,  414,  415,  416,  417,  418,  419,  420,\n",
       "        421,  422,  423,  424,  425,  426,  427,  428,  429,  430,  431,\n",
       "        432,  433,  434,  435,  436,  437,  438,  439,  440,  441,  442,\n",
       "        443,  444,  445,  446,  447,  448,  449,  450,  451,  452,  453,\n",
       "        454,  455,  456,  457,  458,  459,  460,  461,  462,  463,  464,\n",
       "        465,  466,  467,  468,  469,  470,  471,  472,  473,  474,  475,\n",
       "        476,  477,  478,  479,  480, 3000, 3001, 3002])"
      ]
     },
     "execution_count": 11,
     "metadata": {},
     "output_type": "execute_result"
    }
   ],
   "source": [
    "est_2020 = leer_matriz('Adj_eco/matrices_estaciones/estaciones_2020.txt')\n",
    "est_2020 = est_2020[:,0].astype(int)\n",
    "est_2020"
   ]
  },
  {
   "cell_type": "code",
   "execution_count": 12,
   "metadata": {},
   "outputs": [
    {
     "data": {
      "text/plain": [
       "array([  1,   2,   3,   4,   5,   6,   7,   8,   9,  10,  11,  12,  13,\n",
       "        14,  15,  16,  17,  18,  19,  20,  21,  22,  23,  24,  25,  26,\n",
       "        27,  28,  29,  30,  31,  32,  33,  34,  35,  36,  37,  38,  39,\n",
       "        40,  41,  42,  43,  44,  45,  46,  47,  48,  49,  50,  51,  52,\n",
       "        53,  54,  55,  56,  57,  58,  59,  60,  61,  62,  63,  64,  65,\n",
       "        66,  67,  68,  69,  70,  71,  72,  73,  74,  75,  76,  77,  78,\n",
       "        79,  80,  81,  82,  83,  84,  85,  86,  87,  88,  89,  90,  91,\n",
       "        92,  93,  94,  95,  96,  97,  98,  99, 100, 102, 103, 104, 105,\n",
       "       106, 107, 108, 109, 110, 111, 112, 113, 114, 115, 116, 117, 118,\n",
       "       119, 120, 121, 122, 123, 124, 125, 126, 127, 128, 129, 130, 131,\n",
       "       132, 133, 134, 135, 136, 137, 138, 139, 140, 141, 142, 143, 144,\n",
       "       145, 146, 147, 148, 149, 150, 151, 152, 153, 154, 155, 156, 157,\n",
       "       158, 159, 160, 161, 162, 163, 164, 165, 166, 167, 168, 169, 170,\n",
       "       171, 172, 173, 174, 175, 176, 177, 178, 179, 180, 181, 182, 183,\n",
       "       184, 185, 186, 187, 188, 189, 190, 191, 192, 193, 194, 195, 196,\n",
       "       197, 198, 199, 200, 201, 202, 203, 204, 205, 206, 207, 208, 209,\n",
       "       210, 211, 212, 213, 214, 215, 216, 217, 218, 219, 220, 221, 222,\n",
       "       223, 224, 225, 226, 227, 228, 229, 230, 231, 232, 233, 234, 235,\n",
       "       236, 237, 238, 239, 240, 241, 242, 243, 244, 245, 246, 247, 248,\n",
       "       249, 250, 251, 252, 253, 254, 255, 256, 257, 258, 259, 260, 261,\n",
       "       262, 263, 264, 265, 266, 267, 268, 269, 270, 271, 272, 273, 274,\n",
       "       275, 276, 277, 278, 279, 280, 281, 282, 283, 284, 285, 286, 287,\n",
       "       288, 289, 290, 291, 292, 293, 294, 295, 296, 297, 298, 299, 300,\n",
       "       301, 302, 303, 304, 305, 306, 307, 308, 309, 310, 311, 312, 313,\n",
       "       314, 315, 316, 317, 318, 319, 320, 321, 322, 323, 324, 325, 326,\n",
       "       327, 328, 329, 330, 331, 332, 333, 334, 335, 336, 337, 338, 339,\n",
       "       340, 341, 342, 343, 344, 345, 346, 347, 348, 349, 350, 351, 352,\n",
       "       353, 354, 355, 356, 357, 358, 359, 360, 361, 362, 363, 364, 365,\n",
       "       366, 367, 368, 369, 370, 371, 372, 373, 374, 375, 376, 377, 378,\n",
       "       379, 380, 381, 382, 383, 384, 385, 386, 387, 388, 389, 390, 391,\n",
       "       392, 393, 394, 395, 396, 397, 398, 399, 400, 401, 402, 403, 404,\n",
       "       405, 406, 407, 408, 409, 410, 411, 412, 413, 414, 415, 416, 417,\n",
       "       418, 419, 420, 421, 422, 423, 424, 425, 426, 427, 428, 429, 430,\n",
       "       431, 432, 433, 434, 435, 436, 437, 438, 439, 440, 441, 442, 443,\n",
       "       444, 445, 446, 447, 448, 449, 450, 451, 452, 453, 454, 455, 456,\n",
       "       457, 458, 459, 460, 461, 462, 463, 464, 465, 466, 467, 468, 469,\n",
       "       470, 471, 472, 473, 474, 475, 476, 477, 478, 479, 480])"
      ]
     },
     "execution_count": 12,
     "metadata": {},
     "output_type": "execute_result"
    }
   ],
   "source": [
    "est_2021 = leer_matriz('Adj_eco/matrices_estaciones/estaciones_2021.txt')\n",
    "est_2021 = est_2021[:,0].astype(int)\n",
    "est_2021"
   ]
  },
  {
   "cell_type": "code",
   "execution_count": 13,
   "metadata": {},
   "outputs": [
    {
     "data": {
      "text/plain": [
       "array([   1,    2,    3,    4,    5,    6,    7,    8,    9,   10,   11,\n",
       "         12,   13,   14,   15,   16,   17,   18,   19,   20,   21,   22,\n",
       "         23,   24,   25,   26,   27,   28,   29,   30,   31,   32,   33,\n",
       "         34,   35,   36,   37,   38,   39,   40,   41,   42,   43,   44,\n",
       "         45,   46,   47,   48,   49,   50,   51,   52,   53,   54,   55,\n",
       "         56,   57,   58,   59,   60,   61,   62,   63,   64,   65,   66,\n",
       "         67,   68,   69,   70,   71,   72,   73,   74,   75,   76,   77,\n",
       "         78,   79,   80,   81,   82,   83,   84,   85,   86,   87,   88,\n",
       "         89,   90,   91,   92,   93,   94,   95,   96,   97,   98,   99,\n",
       "        100,  102,  103,  104,  105,  106,  107,  108,  109,  110,  111,\n",
       "        112,  113,  114,  115,  116,  117,  118,  119,  120,  121,  122,\n",
       "        123,  124,  125,  126,  127,  128,  129,  130,  131,  132,  133,\n",
       "        134,  135,  136,  137,  138,  139,  140,  141,  142,  143,  144,\n",
       "        145,  146,  147,  148,  149,  150,  151,  152,  153,  154,  155,\n",
       "        156,  157,  158,  159,  160,  161,  162,  163,  164,  165,  166,\n",
       "        167,  168,  169,  170,  171,  172,  173,  174,  175,  176,  177,\n",
       "        178,  179,  180,  181,  182,  183,  184,  185,  186,  187,  188,\n",
       "        189,  190,  191,  192,  194,  195,  196,  197,  198,  199,  200,\n",
       "        201,  202,  203,  204,  205,  206,  207,  208,  209,  210,  211,\n",
       "        212,  213,  214,  215,  216,  217,  218,  219,  220,  221,  222,\n",
       "        223,  224,  225,  226,  227,  228,  229,  230,  231,  232,  233,\n",
       "        234,  235,  236,  237,  238,  239,  240,  241,  242,  243,  244,\n",
       "        245,  246,  247,  248,  249,  250,  251,  252,  253,  254,  255,\n",
       "        256,  257,  258,  259,  260,  261,  262,  263,  264,  265,  266,\n",
       "        267,  268,  269,  270,  271,  272,  273,  274,  275,  276,  277,\n",
       "        278,  279,  280,  281,  282,  283,  284,  285,  286,  287,  288,\n",
       "        289,  290,  291,  292,  293,  294,  295,  296,  297,  298,  299,\n",
       "        300,  301,  302,  303,  304,  305,  306,  307,  308,  309,  310,\n",
       "        311,  312,  313,  314,  315,  316,  317,  318,  319,  320,  321,\n",
       "        322,  323,  324,  325,  326,  327,  328,  329,  330,  331,  332,\n",
       "        333,  334,  335,  336,  337,  338,  339,  340,  341,  342,  343,\n",
       "        344,  345,  346,  347,  348,  349,  350,  351,  352,  353,  354,\n",
       "        355,  356,  357,  358,  359,  360,  361,  362,  363,  364,  365,\n",
       "        366,  367,  368,  369,  370,  371,  372,  373,  374,  375,  376,\n",
       "        377,  378,  379,  380,  381,  382,  383,  384,  385,  386,  387,\n",
       "        388,  389,  390,  391,  392,  393,  394,  395,  396,  397,  398,\n",
       "        399,  400,  401,  402,  403,  404,  405,  406,  407,  408,  409,\n",
       "        410,  411,  412,  413,  414,  415,  416,  417,  418,  419,  420,\n",
       "        421,  422,  423,  424,  425,  426,  427,  428,  429,  430,  431,\n",
       "        432,  433,  434,  435,  436,  437,  438,  439,  441,  442,  443,\n",
       "        444,  445,  446,  447,  448,  449,  450,  451,  452,  453,  454,\n",
       "        455,  456,  457,  458,  459,  460,  461,  462,  463,  464,  465,\n",
       "        466,  467,  468,  469,  470,  471,  472,  473,  474,  475,  476,\n",
       "        477,  478,  479,  480,  555, 1000, 1002])"
      ]
     },
     "execution_count": 13,
     "metadata": {},
     "output_type": "execute_result"
    }
   ],
   "source": [
    "est_2022 = leer_matriz('Adj_eco/matrices_estaciones/estaciones_2022.txt')\n",
    "est_2022 = est_2022[:,0].astype(int)\n",
    "est_2022"
   ]
  },
  {
   "cell_type": "code",
   "execution_count": 14,
   "metadata": {},
   "outputs": [
    {
     "data": {
      "text/plain": [
       "array([      1,       2,       3,       4,       5,       6,       7,\n",
       "             8,       9,      10,      11,      12,      13,      14,\n",
       "            15,      16,      17,      18,      19,      20,      21,\n",
       "            22,      23,      24,      25,      26,      27,      28,\n",
       "            29,      30,      31,      32,      33,      34,      35,\n",
       "            36,      37,      38,      39,      40,      41,      42,\n",
       "            43,      44,      45,      46,      47,      48,      49,\n",
       "            50,      51,      52,      53,      54,      55,      56,\n",
       "            57,      58,      59,      60,      61,      62,      63,\n",
       "            64,      65,      66,      67,      68,      69,      70,\n",
       "            71,      72,      73,      74,      75,      76,      77,\n",
       "            78,      79,      80,      81,      82,      83,      84,\n",
       "            85,      86,      87,      88,      89,      90,      91,\n",
       "            92,      93,      94,      95,      96,      97,      98,\n",
       "            99,     100,     102,     103,     104,     105,     106,\n",
       "           107,     109,     110,     111,     112,     113,     114,\n",
       "           115,     116,     117,     118,     119,     120,     121,\n",
       "           122,     123,     124,     125,     126,     127,     128,\n",
       "           129,     130,     131,     132,     133,     134,     135,\n",
       "           136,     137,     138,     139,     140,     141,     142,\n",
       "           143,     144,     145,     146,     147,     148,     149,\n",
       "           150,     151,     152,     153,     154,     155,     156,\n",
       "           157,     158,     160,     161,     162,     163,     164,\n",
       "           165,     166,     167,     168,     169,     170,     171,\n",
       "           172,     173,     174,     175,     176,     177,     178,\n",
       "           179,     180,     181,     182,     183,     184,     185,\n",
       "           186,     187,     188,     189,     190,     191,     192,\n",
       "           194,     195,     196,     198,     199,     200,     201,\n",
       "           202,     203,     204,     205,     206,     207,     208,\n",
       "           209,     210,     211,     212,     213,     214,     215,\n",
       "           216,     217,     218,     219,     220,     221,     222,\n",
       "           223,     224,     225,     226,     227,     228,     229,\n",
       "           230,     231,     232,     233,     234,     235,     237,\n",
       "           239,     240,     241,     242,     243,     244,     245,\n",
       "           246,     247,     248,     249,     250,     251,     252,\n",
       "           253,     254,     255,     256,     257,     258,     259,\n",
       "           260,     261,     262,     263,     264,     265,     266,\n",
       "           268,     270,     271,     273,     276,     277,     278,\n",
       "           279,     280,     281,     282,     283,     284,     285,\n",
       "           286,     287,     288,     290,     291,     292,     293,\n",
       "           294,     295,     296,     297,     298,     299,     300,\n",
       "           301,     302,     303,     304,     305,     306,     307,\n",
       "           308,     309,     310,     312,     313,     314,     315,\n",
       "           316,     317,     318,     319,     320,     321,     322,\n",
       "           323,     324,     325,     326,     327,     328,     329,\n",
       "           330,     331,     332,     333,     334,     335,     336,\n",
       "           337,     338,     339,     340,     341,     342,     343,\n",
       "           345,     346,     347,     348,     349,     351,     352,\n",
       "           353,     354,     355,     356,     357,     358,     359,\n",
       "           360,     361,     362,     363,     365,     366,     367,\n",
       "           369,     370,     371,     372,     373,     374,     375,\n",
       "           377,     378,     380,     381,     384,     385,     386,\n",
       "           387,     389,     390,     392,     393,     394,     395,\n",
       "           396,     397,     398,     399,     401,     402,     404,\n",
       "           405,     407,     409,     412,     413,     414,     415,\n",
       "           416,     417,     419,     420,     421,     422,     423,\n",
       "           424,     425,     427,     428,     429,     430,     432,\n",
       "           433,     434,     436,     437,     438,     439,     441,\n",
       "           442,     443,     444,     445,     447,     448,     449,\n",
       "           450,     451,     452,     453,     454,     455,     456,\n",
       "           457,     458,     459,     460,     461,     462,     463,\n",
       "           464,     465,     466,     467,     468,     469,     470,\n",
       "           471,     472,     473,     474,     475,     476,     477,\n",
       "           478,     479,     480,     481,     482,     483,     484,\n",
       "           485,     486,     487,     490,     491,     492,     493,\n",
       "           494,     495,     496,     497,     498,     499,     500,\n",
       "           501,     502,     503,     504,     505,     506,     507,\n",
       "           510,     512,     514,     516,     517,     518,     519,\n",
       "           521,     525,     527,     531,     536,     537,     538,\n",
       "           539,     540,     541,     542,     543,     544,     545,\n",
       "           546,     548,     549,     550,     551,     552,     553,\n",
       "           554,     555,     556,     557,     559,     560,     561,\n",
       "           562,     563,     564,     567,     568,     569,     570,\n",
       "           571,     572,     573,     575,     577,     578,     579,\n",
       "           580,     583,     584,     585,     589,     590,     591,\n",
       "           592,     593,     594,     595,     596,     597,     598,\n",
       "           599,     600,     601,     602,     603,     604,     605,\n",
       "           607,     608,     609,     610,     611,     612,     613,\n",
       "           615,     617,     618,     619,     620,     621,     622,\n",
       "           623,     624,     626,     627,     628,     629,     630,\n",
       "           631,     633,     634,     635,     636,     637,     638,\n",
       "           639,     640,     641,     642,     643,     644,     645,\n",
       "           646,     647,     648,     649,     650,     651,     652,\n",
       "           653,     654,     655,     656,     657,     658,     659,\n",
       "           660,     661,     662,     663,     664,     665,     666,\n",
       "           667,     668,     669,     670,     671,     672,     673,\n",
       "           674,     678,     679,     684,     685,     686,     687,\n",
       "           688,     689,     690,     691,     692,     693,     694,\n",
       "           695,     696,     697,     698,     699,     700,     701,\n",
       "           702,     703,     704,     705,     706,     707,     708,\n",
       "           709,    1000, 4422222])"
      ]
     },
     "execution_count": 14,
     "metadata": {},
     "output_type": "execute_result"
    }
   ],
   "source": [
    "est_2023 = leer_matriz('Adj_eco/matrices_estaciones/estaciones_2023.txt')\n",
    "est_2023 = est_2023[:,0].astype(int)\n",
    "est_2023"
   ]
  },
  {
   "cell_type": "code",
   "execution_count": 15,
   "metadata": {},
   "outputs": [
    {
     "data": {
      "text/plain": [
       "array([   1,    2,    3,    4,    5,    6,    7,    8,    9,   10,   11,\n",
       "         12,   13,   14,   15,   16,   17,   18,   19,   20,   21,   22,\n",
       "         23,   24,   25,   26,   27,   28,   29,   30,   31,   32,   33,\n",
       "         34,   35,   36,   37,   38,   39,   40,   41,   42,   43,   44,\n",
       "         45,   46,   47,   48,   49,   50,   51,   52,   53,   54,   55,\n",
       "         56,   57,   58,   59,   60,   61,   62,   63,   64,   65,   66,\n",
       "         67,   68,   69,   70,   71,   72,   73,   74,   75,   76,   77,\n",
       "         78,   79,   80,   81,   82,   83,   84,   85,   86,   87,   88,\n",
       "         89,   90,   91,   92,   93,   94,   95,   96,   97,   98,   99,\n",
       "        100,  102,  103,  104,  105,  106,  107,  109,  110,  111,  112,\n",
       "        113,  114,  115,  116,  117,  118,  119,  120,  121,  122,  123,\n",
       "        124,  125,  126,  127,  128,  129,  130,  131,  132,  133,  134,\n",
       "        135,  136,  137,  138,  139,  140,  141,  142,  143,  144,  145,\n",
       "        146,  147,  148,  149,  150,  151,  152,  153,  154,  155,  156,\n",
       "        157,  158,  160,  161,  162,  163,  164,  165,  166,  167,  168,\n",
       "        169,  170,  171,  172,  173,  174,  175,  176,  177,  178,  179,\n",
       "        180,  181,  182,  183,  184,  185,  186,  187,  188,  189,  190,\n",
       "        191,  192,  194,  195,  196,  197,  198,  199,  200,  201,  202,\n",
       "        203,  204,  205,  206,  207,  208,  209,  210,  211,  212,  213,\n",
       "        214,  215,  216,  217,  218,  219,  220,  221,  222,  223,  224,\n",
       "        225,  226,  227,  228,  229,  230,  231,  232,  233,  234,  235,\n",
       "        237,  239,  240,  241,  242,  243,  244,  245,  246,  247,  248,\n",
       "        249,  250,  251,  252,  253,  254,  255,  256,  257,  258,  259,\n",
       "        260,  261,  262,  263,  264,  265,  266,  268,  270,  271,  273,\n",
       "        276,  277,  278,  279,  280,  281,  282,  283,  284,  285,  286,\n",
       "        287,  288,  290,  291,  292,  293,  294,  295,  296,  297,  298,\n",
       "        299,  300,  301,  302,  303,  304,  305,  306,  307,  308,  309,\n",
       "        310,  312,  313,  314,  315,  316,  317,  318,  319,  320,  321,\n",
       "        322,  323,  324,  325,  326,  327,  328,  329,  330,  331,  332,\n",
       "        333,  334,  335,  336,  337,  338,  339,  340,  341,  342,  343,\n",
       "        345,  346,  347,  348,  349,  351,  352,  353,  354,  355,  356,\n",
       "        357,  358,  359,  360,  361,  362,  363,  365,  366,  367,  369,\n",
       "        370,  371,  372,  373,  374,  375,  377,  378,  380,  381,  384,\n",
       "        385,  386,  387,  389,  390,  392,  393,  394,  395,  396,  397,\n",
       "        398,  399,  401,  402,  404,  405,  407,  409,  412,  413,  414,\n",
       "        415,  416,  417,  419,  420,  421,  422,  423,  424,  425,  427,\n",
       "        428,  429,  430,  432,  433,  434,  436,  437,  438,  439,  440,\n",
       "        441,  442,  443,  444,  445,  447,  448,  449,  450,  451,  452,\n",
       "        453,  454,  455,  456,  457,  458,  459,  460,  461,  462,  463,\n",
       "        464,  465,  466,  467,  468,  469,  470,  471,  472,  473,  474,\n",
       "        475,  476,  477,  478,  479,  480,  481,  482,  483,  484,  485,\n",
       "        486,  487,  488,  489,  490,  491,  492,  493,  494,  495,  496,\n",
       "        497,  498,  499,  500,  501,  502,  503,  504,  505,  506,  507,\n",
       "        508,  509,  510,  511,  512,  513,  514,  515,  516,  517,  518,\n",
       "        519,  520,  521,  522,  523,  525,  526,  527,  528,  529,  530,\n",
       "        531,  532,  533,  534,  535,  536,  537,  538,  539,  540,  541,\n",
       "        542,  543,  544,  545,  546,  547,  548,  549,  550,  551,  552,\n",
       "        553,  554,  555,  556,  557,  558,  559,  560,  561,  562,  563,\n",
       "        564,  565,  566,  567,  568,  569,  570,  571,  572,  573,  574,\n",
       "        575,  576,  577,  578,  579,  580,  581,  582,  583,  584,  585,\n",
       "        586,  587,  588,  589,  590,  591,  592,  593,  594,  595,  596,\n",
       "        597,  598,  599,  600,  601,  602,  603,  604,  605,  606,  607,\n",
       "        608,  609,  610,  611,  612,  613,  614,  615,  616,  617,  618,\n",
       "        619,  620,  621,  622,  623,  624,  625,  626,  627,  628,  629,\n",
       "        630,  631,  632,  633,  634,  635,  636,  637,  638,  639,  640,\n",
       "        641,  642,  643,  644,  645,  646,  647,  648,  649,  650,  651,\n",
       "        652,  653,  654,  655,  656,  657,  658,  659,  660,  661,  662,\n",
       "        663,  664,  665,  666,  667,  668,  669,  670,  671,  672,  673,\n",
       "        674,  675,  676,  677,  678,  679,  680,  681,  682,  683,  684,\n",
       "        685,  686,  687,  688,  689,  690,  691,  692,  693,  694,  695,\n",
       "        696,  697,  698,  699,  700,  701,  702,  703,  704,  705,  706,\n",
       "        707,  708,  709,  710,  711, 1000, 1002])"
      ]
     },
     "execution_count": 15,
     "metadata": {},
     "output_type": "execute_result"
    }
   ],
   "source": [
    "est_2024 = leer_matriz('Adj_eco/matrices_estaciones/estaciones_2024.txt')\n",
    "est_2024 = est_2024[:,0].astype(int)\n",
    "est_2024"
   ]
  },
  {
   "cell_type": "code",
   "execution_count": 20,
   "metadata": {},
   "outputs": [
    {
     "name": "stdout",
     "output_type": "stream",
     "text": [
      "[101 108 159 193 236 238 267 269 272 274 275 289 311 344 350 364 368 376\n",
      " 379 382 383 388 391 400 403 406 408 410 411 418 426 431 435 446]\n"
     ]
    }
   ],
   "source": [
    "# estaciones viejas que no están en las nuevas\n",
    "estaciones_viejas_no_nuevas = np.setdiff1d(est_vieja, est_nueva)\n",
    "print(estaciones_viejas_no_nuevas)"
   ]
  },
  {
   "cell_type": "code",
   "execution_count": 22,
   "metadata": {},
   "outputs": [],
   "source": [
    "# Crear una lista para almacenar los nuevos datos\n",
    "nuevos_datos = []\n",
    "\n",
    "for estacion in estaciones_viejas_no_nuevas:\n",
    "    current_station = n_vieja[n_vieja['num_cicloestacion'] == estacion]\n",
    "    \n",
    "    # Verificar que current_station no esté vacío\n",
    "    if not current_station.empty:\n",
    "        nuevos_datos.append({\n",
    "            'sistema': 'ECOBICI',\n",
    "            'id': estacion,\n",
    "            'calle_prin': current_station['calle_principal'].values[0],\n",
    "            'calle_secu': current_station['calle_secundaria'].values[0],\n",
    "            'colonia': current_station['colonia'].values[0],\n",
    "            'alcaldia': current_station['alcaldia'].values[0],\n",
    "            'latitud': current_station['latitud'].values[0],\n",
    "            'longitud': current_station['longitud'].values[0],\n",
    "            'sitio_de_e': 'antigua',\n",
    "            'estatus': 'antigua'\n",
    "        })\n",
    "\n",
    "# Crear un DataFrame con los nuevos datos y concatenarlo con n_nueva\n",
    "n_nueva = pd.concat([n_nueva, pd.DataFrame(nuevos_datos)], ignore_index=True)\n"
   ]
  },
  {
   "cell_type": "code",
   "execution_count": 23,
   "metadata": {},
   "outputs": [],
   "source": [
    "n_nueva.to_csv('nomenclaturas/estaciones_ecobici.csv', index=False)"
   ]
  },
  {
   "cell_type": "code",
   "execution_count": 25,
   "metadata": {},
   "outputs": [
    {
     "name": "stdout",
     "output_type": "stream",
     "text": [
      "[]\n"
     ]
    }
   ],
   "source": [
    "est_nueva = np.sort(n_nueva['id'].unique())\n",
    "estaciones_viejas_no_nuevas2 = np.setdiff1d(est_vieja, est_nueva)\n",
    "print(estaciones_viejas_no_nuevas2)"
   ]
  },
  {
   "cell_type": "code",
   "execution_count": 27,
   "metadata": {},
   "outputs": [
    {
     "name": "stdout",
     "output_type": "stream",
     "text": [
      "[1000 1001 1002 3000 3001 3002]\n"
     ]
    }
   ],
   "source": [
    "# estaciones faltantes en 2019\n",
    "missing_2019 = np.setdiff1d(est_2019, est_nueva)\n",
    "print(missing_2019)"
   ]
  },
  {
   "cell_type": "code",
   "execution_count": 28,
   "metadata": {},
   "outputs": [
    {
     "name": "stdout",
     "output_type": "stream",
     "text": [
      "[3000 3001 3002]\n"
     ]
    }
   ],
   "source": [
    "missing_2020 = np.setdiff1d(est_2020, est_nueva)\n",
    "print(missing_2020)"
   ]
  },
  {
   "cell_type": "code",
   "execution_count": 29,
   "metadata": {},
   "outputs": [
    {
     "name": "stdout",
     "output_type": "stream",
     "text": [
      "[]\n"
     ]
    }
   ],
   "source": [
    "missing_2021 = np.setdiff1d(est_2021, est_nueva)\n",
    "print(missing_2021)"
   ]
  },
  {
   "cell_type": "code",
   "execution_count": 30,
   "metadata": {},
   "outputs": [
    {
     "name": "stdout",
     "output_type": "stream",
     "text": [
      "[1000 1002]\n"
     ]
    }
   ],
   "source": [
    "missing_2022 = np.setdiff1d(est_2022, est_nueva)\n",
    "print(missing_2022)"
   ]
  },
  {
   "cell_type": "code",
   "execution_count": 37,
   "metadata": {},
   "outputs": [
    {
     "name": "stdout",
     "output_type": "stream",
     "text": [
      "[   1000 4422222]\n"
     ]
    }
   ],
   "source": [
    "missing_2023 = np.setdiff1d(est_2023, est_nueva)\n",
    "print(missing_2023)"
   ]
  },
  {
   "cell_type": "code",
   "execution_count": 38,
   "metadata": {},
   "outputs": [
    {
     "name": "stdout",
     "output_type": "stream",
     "text": [
      "[1000 1002]\n"
     ]
    }
   ],
   "source": [
    "missing_2024 = np.setdiff1d(est_2024, est_nueva)\n",
    "print(missing_2024)"
   ]
  },
  {
   "cell_type": "code",
   "execution_count": 39,
   "metadata": {},
   "outputs": [
    {
     "name": "stdout",
     "output_type": "stream",
     "text": [
      "[   1000    1001    1002    3000    3001    3002 4422222]\n"
     ]
    }
   ],
   "source": [
    "estaciones_faltantes = np.unique(np.concatenate([missing_2019, missing_2020, missing_2021, missing_2022, missing_2023, missing_2024]))\n",
    "print(estaciones_faltantes)"
   ]
  },
  {
   "cell_type": "markdown",
   "metadata": {},
   "source": [
    "Hay que tomar una descisión sobre esas estaciones..."
   ]
  },
  {
   "cell_type": "code",
   "execution_count": 41,
   "metadata": {},
   "outputs": [
    {
     "data": {
      "text/html": [
       "<div>\n",
       "<style scoped>\n",
       "    .dataframe tbody tr th:only-of-type {\n",
       "        vertical-align: middle;\n",
       "    }\n",
       "\n",
       "    .dataframe tbody tr th {\n",
       "        vertical-align: top;\n",
       "    }\n",
       "\n",
       "    .dataframe thead th {\n",
       "        text-align: right;\n",
       "    }\n",
       "</style>\n",
       "<table border=\"1\" class=\"dataframe\">\n",
       "  <thead>\n",
       "    <tr style=\"text-align: right;\">\n",
       "      <th></th>\n",
       "      <th>Genero_Usuario</th>\n",
       "      <th>Edad_Usuario</th>\n",
       "      <th>Bici</th>\n",
       "      <th>Ciclo_Estacion_Retiro</th>\n",
       "      <th>Fecha_Retiro</th>\n",
       "      <th>Hora_Retiro</th>\n",
       "      <th>Ciclo_Estacion_Arribo</th>\n",
       "      <th>Fecha_Arribo</th>\n",
       "      <th>Hora_Arribo</th>\n",
       "      <th>Tiempo_viaje</th>\n",
       "    </tr>\n",
       "  </thead>\n",
       "  <tbody>\n",
       "    <tr>\n",
       "      <th>0</th>\n",
       "      <td>M</td>\n",
       "      <td>36</td>\n",
       "      <td>11444</td>\n",
       "      <td>67</td>\n",
       "      <td>01/01/2019</td>\n",
       "      <td>0:08:44</td>\n",
       "      <td>36</td>\n",
       "      <td>01/01/2019</td>\n",
       "      <td>0:14:03</td>\n",
       "      <td>5.316667</td>\n",
       "    </tr>\n",
       "    <tr>\n",
       "      <th>1</th>\n",
       "      <td>M</td>\n",
       "      <td>36</td>\n",
       "      <td>9196</td>\n",
       "      <td>55</td>\n",
       "      <td>01/01/2019</td>\n",
       "      <td>0:12:05</td>\n",
       "      <td>136</td>\n",
       "      <td>01/01/2019</td>\n",
       "      <td>0:42:11</td>\n",
       "      <td>30.100000</td>\n",
       "    </tr>\n",
       "    <tr>\n",
       "      <th>2</th>\n",
       "      <td>M</td>\n",
       "      <td>38</td>\n",
       "      <td>2612</td>\n",
       "      <td>29</td>\n",
       "      <td>01/01/2019</td>\n",
       "      <td>0:13:15</td>\n",
       "      <td>115</td>\n",
       "      <td>01/01/2019</td>\n",
       "      <td>0:37:47</td>\n",
       "      <td>24.533333</td>\n",
       "    </tr>\n",
       "    <tr>\n",
       "      <th>3</th>\n",
       "      <td>M</td>\n",
       "      <td>43</td>\n",
       "      <td>7463</td>\n",
       "      <td>29</td>\n",
       "      <td>01/01/2019</td>\n",
       "      <td>0:13:36</td>\n",
       "      <td>115</td>\n",
       "      <td>01/01/2019</td>\n",
       "      <td>0:38:04</td>\n",
       "      <td>24.466667</td>\n",
       "    </tr>\n",
       "    <tr>\n",
       "      <th>4</th>\n",
       "      <td>M</td>\n",
       "      <td>37</td>\n",
       "      <td>3987</td>\n",
       "      <td>136</td>\n",
       "      <td>01/01/2019</td>\n",
       "      <td>0:15:30</td>\n",
       "      <td>35</td>\n",
       "      <td>01/01/2019</td>\n",
       "      <td>0:22:47</td>\n",
       "      <td>7.283333</td>\n",
       "    </tr>\n",
       "  </tbody>\n",
       "</table>\n",
       "</div>"
      ],
      "text/plain": [
       "  Genero_Usuario  Edad_Usuario   Bici  Ciclo_Estacion_Retiro Fecha_Retiro  \\\n",
       "0              M            36  11444                     67   01/01/2019   \n",
       "1              M            36   9196                     55   01/01/2019   \n",
       "2              M            38   2612                     29   01/01/2019   \n",
       "3              M            43   7463                     29   01/01/2019   \n",
       "4              M            37   3987                    136   01/01/2019   \n",
       "\n",
       "  Hora_Retiro  Ciclo_Estacion_Arribo Fecha_Arribo Hora_Arribo  Tiempo_viaje  \n",
       "0     0:08:44                     36   01/01/2019     0:14:03      5.316667  \n",
       "1     0:12:05                    136   01/01/2019     0:42:11     30.100000  \n",
       "2     0:13:15                    115   01/01/2019     0:37:47     24.533333  \n",
       "3     0:13:36                    115   01/01/2019     0:38:04     24.466667  \n",
       "4     0:15:30                     35   01/01/2019     0:22:47      7.283333  "
      ]
     },
     "execution_count": 41,
     "metadata": {},
     "output_type": "execute_result"
    }
   ],
   "source": [
    "data_2019 = pd.read_csv('ecobici/2019.csv', encoding='latin1', low_memory=False)\n",
    "data_2019.head()"
   ]
  },
  {
   "cell_type": "code",
   "execution_count": 43,
   "metadata": {},
   "outputs": [
    {
     "data": {
      "text/plain": [
       "173"
      ]
     },
     "execution_count": 43,
     "metadata": {},
     "output_type": "execute_result"
    }
   ],
   "source": [
    "np.sum(data_2019['Ciclo_Estacion_Retiro'].isin(estaciones_faltantes) | data_2019['Ciclo_Estacion_Arribo'].isin(estaciones_faltantes))"
   ]
  },
  {
   "cell_type": "code",
   "execution_count": 44,
   "metadata": {},
   "outputs": [],
   "source": [
    "data_2019.drop(data_2019[data_2019['Ciclo_Estacion_Retiro'].isin(estaciones_faltantes) | data_2019['Ciclo_Estacion_Arribo'].isin(estaciones_faltantes)].index, inplace=True)"
   ]
  },
  {
   "cell_type": "code",
   "execution_count": 45,
   "metadata": {},
   "outputs": [
    {
     "data": {
      "text/plain": [
       "0"
      ]
     },
     "execution_count": 45,
     "metadata": {},
     "output_type": "execute_result"
    }
   ],
   "source": [
    "np.sum(data_2019['Ciclo_Estacion_Retiro'].isin(estaciones_faltantes) | data_2019['Ciclo_Estacion_Arribo'].isin(estaciones_faltantes))"
   ]
  },
  {
   "cell_type": "code",
   "execution_count": 46,
   "metadata": {},
   "outputs": [],
   "source": [
    "data_2019.to_csv('ecobici/2019.csv', index=False)\n",
    "del data_2019"
   ]
  },
  {
   "cell_type": "code",
   "execution_count": 47,
   "metadata": {},
   "outputs": [
    {
     "data": {
      "text/html": [
       "<div>\n",
       "<style scoped>\n",
       "    .dataframe tbody tr th:only-of-type {\n",
       "        vertical-align: middle;\n",
       "    }\n",
       "\n",
       "    .dataframe tbody tr th {\n",
       "        vertical-align: top;\n",
       "    }\n",
       "\n",
       "    .dataframe thead th {\n",
       "        text-align: right;\n",
       "    }\n",
       "</style>\n",
       "<table border=\"1\" class=\"dataframe\">\n",
       "  <thead>\n",
       "    <tr style=\"text-align: right;\">\n",
       "      <th></th>\n",
       "      <th>Genero_Usuario</th>\n",
       "      <th>Edad_Usuario</th>\n",
       "      <th>Bici</th>\n",
       "      <th>Ciclo_Estacion_Retiro</th>\n",
       "      <th>Fecha_Retiro</th>\n",
       "      <th>Hora_Retiro</th>\n",
       "      <th>Ciclo_Estacion_Arribo</th>\n",
       "      <th>Fecha_Arribo</th>\n",
       "      <th>Hora_Arribo</th>\n",
       "      <th>BikeID</th>\n",
       "      <th>Tiempo_viaje</th>\n",
       "    </tr>\n",
       "  </thead>\n",
       "  <tbody>\n",
       "    <tr>\n",
       "      <th>0</th>\n",
       "      <td>F</td>\n",
       "      <td>33.0</td>\n",
       "      <td>8744</td>\n",
       "      <td>52.0</td>\n",
       "      <td>01/01/2020</td>\n",
       "      <td>0:05:06</td>\n",
       "      <td>3</td>\n",
       "      <td>01/01/2020</td>\n",
       "      <td>0:13:00</td>\n",
       "      <td>NaN</td>\n",
       "      <td>7.900000</td>\n",
       "    </tr>\n",
       "    <tr>\n",
       "      <th>1</th>\n",
       "      <td>M</td>\n",
       "      <td>30.0</td>\n",
       "      <td>7865</td>\n",
       "      <td>31.0</td>\n",
       "      <td>01/01/2020</td>\n",
       "      <td>0:09:50</td>\n",
       "      <td>271</td>\n",
       "      <td>01/01/2020</td>\n",
       "      <td>0:21:30</td>\n",
       "      <td>NaN</td>\n",
       "      <td>11.666667</td>\n",
       "    </tr>\n",
       "    <tr>\n",
       "      <th>2</th>\n",
       "      <td>F</td>\n",
       "      <td>36.0</td>\n",
       "      <td>7819</td>\n",
       "      <td>251.0</td>\n",
       "      <td>01/01/2020</td>\n",
       "      <td>0:13:25</td>\n",
       "      <td>150</td>\n",
       "      <td>01/01/2020</td>\n",
       "      <td>0:26:10</td>\n",
       "      <td>NaN</td>\n",
       "      <td>12.750000</td>\n",
       "    </tr>\n",
       "    <tr>\n",
       "      <th>3</th>\n",
       "      <td>F</td>\n",
       "      <td>33.0</td>\n",
       "      <td>11258</td>\n",
       "      <td>3.0</td>\n",
       "      <td>01/01/2020</td>\n",
       "      <td>0:15:22</td>\n",
       "      <td>1</td>\n",
       "      <td>01/01/2020</td>\n",
       "      <td>0:25:29</td>\n",
       "      <td>NaN</td>\n",
       "      <td>10.116667</td>\n",
       "    </tr>\n",
       "    <tr>\n",
       "      <th>4</th>\n",
       "      <td>M</td>\n",
       "      <td>29.0</td>\n",
       "      <td>7722</td>\n",
       "      <td>136.0</td>\n",
       "      <td>01/01/2020</td>\n",
       "      <td>0:18:42</td>\n",
       "      <td>63</td>\n",
       "      <td>01/01/2020</td>\n",
       "      <td>0:24:01</td>\n",
       "      <td>NaN</td>\n",
       "      <td>5.316667</td>\n",
       "    </tr>\n",
       "  </tbody>\n",
       "</table>\n",
       "</div>"
      ],
      "text/plain": [
       "  Genero_Usuario  Edad_Usuario   Bici  Ciclo_Estacion_Retiro Fecha_Retiro  \\\n",
       "0              F          33.0   8744                   52.0   01/01/2020   \n",
       "1              M          30.0   7865                   31.0   01/01/2020   \n",
       "2              F          36.0   7819                  251.0   01/01/2020   \n",
       "3              F          33.0  11258                    3.0   01/01/2020   \n",
       "4              M          29.0   7722                  136.0   01/01/2020   \n",
       "\n",
       "  Hora_Retiro  Ciclo_Estacion_Arribo Fecha_Arribo Hora_Arribo  BikeID  \\\n",
       "0     0:05:06                      3   01/01/2020     0:13:00     NaN   \n",
       "1     0:09:50                    271   01/01/2020     0:21:30     NaN   \n",
       "2     0:13:25                    150   01/01/2020     0:26:10     NaN   \n",
       "3     0:15:22                      1   01/01/2020     0:25:29     NaN   \n",
       "4     0:18:42                     63   01/01/2020     0:24:01     NaN   \n",
       "\n",
       "   Tiempo_viaje  \n",
       "0      7.900000  \n",
       "1     11.666667  \n",
       "2     12.750000  \n",
       "3     10.116667  \n",
       "4      5.316667  "
      ]
     },
     "execution_count": 47,
     "metadata": {},
     "output_type": "execute_result"
    }
   ],
   "source": [
    "data_2020 = pd.read_csv('ecobici/2020.csv', encoding='latin1', low_memory=False)\n",
    "data_2020.head()"
   ]
  },
  {
   "cell_type": "code",
   "execution_count": 48,
   "metadata": {},
   "outputs": [
    {
     "data": {
      "text/plain": [
       "35"
      ]
     },
     "execution_count": 48,
     "metadata": {},
     "output_type": "execute_result"
    }
   ],
   "source": [
    "np.sum(data_2020['Ciclo_Estacion_Retiro'].isin(estaciones_faltantes) | data_2020['Ciclo_Estacion_Arribo'].isin(estaciones_faltantes))"
   ]
  },
  {
   "cell_type": "code",
   "execution_count": 49,
   "metadata": {},
   "outputs": [],
   "source": [
    "data_2020.drop(data_2020[data_2020['Ciclo_Estacion_Retiro'].isin(estaciones_faltantes) | data_2020['Ciclo_Estacion_Arribo'].isin(estaciones_faltantes)].index, inplace=True)"
   ]
  },
  {
   "cell_type": "code",
   "execution_count": 50,
   "metadata": {},
   "outputs": [
    {
     "data": {
      "text/plain": [
       "0"
      ]
     },
     "execution_count": 50,
     "metadata": {},
     "output_type": "execute_result"
    }
   ],
   "source": [
    "np.sum(data_2020['Ciclo_Estacion_Retiro'].isin(estaciones_faltantes) | data_2020['Ciclo_Estacion_Arribo'].isin(estaciones_faltantes))"
   ]
  },
  {
   "cell_type": "code",
   "execution_count": 51,
   "metadata": {},
   "outputs": [],
   "source": [
    "data_2020.to_csv('ecobici/2020.csv', index=False)\n",
    "del data_2020"
   ]
  },
  {
   "cell_type": "code",
   "execution_count": 52,
   "metadata": {},
   "outputs": [
    {
     "data": {
      "text/html": [
       "<div>\n",
       "<style scoped>\n",
       "    .dataframe tbody tr th:only-of-type {\n",
       "        vertical-align: middle;\n",
       "    }\n",
       "\n",
       "    .dataframe tbody tr th {\n",
       "        vertical-align: top;\n",
       "    }\n",
       "\n",
       "    .dataframe thead th {\n",
       "        text-align: right;\n",
       "    }\n",
       "</style>\n",
       "<table border=\"1\" class=\"dataframe\">\n",
       "  <thead>\n",
       "    <tr style=\"text-align: right;\">\n",
       "      <th></th>\n",
       "      <th>Genero_Usuario</th>\n",
       "      <th>Edad_Usuario</th>\n",
       "      <th>Bici</th>\n",
       "      <th>Ciclo_Estacion_Retiro</th>\n",
       "      <th>Fecha_Retiro</th>\n",
       "      <th>Hora_Retiro</th>\n",
       "      <th>Ciclo_Estacion_Arribo</th>\n",
       "      <th>Fecha_Arribo</th>\n",
       "      <th>Hora_Arribo</th>\n",
       "      <th>Tiempo_viaje</th>\n",
       "    </tr>\n",
       "  </thead>\n",
       "  <tbody>\n",
       "    <tr>\n",
       "      <th>0</th>\n",
       "      <td>M</td>\n",
       "      <td>32.0</td>\n",
       "      <td>7608.0</td>\n",
       "      <td>18</td>\n",
       "      <td>01/01/2021</td>\n",
       "      <td>07:05:04</td>\n",
       "      <td>143</td>\n",
       "      <td>01/01/2021</td>\n",
       "      <td>07:13:25</td>\n",
       "      <td>8.350000</td>\n",
       "    </tr>\n",
       "    <tr>\n",
       "      <th>1</th>\n",
       "      <td>M</td>\n",
       "      <td>24.0</td>\n",
       "      <td>8324.0</td>\n",
       "      <td>76</td>\n",
       "      <td>01/01/2021</td>\n",
       "      <td>09:03:35</td>\n",
       "      <td>76</td>\n",
       "      <td>01/01/2021</td>\n",
       "      <td>09:08:08</td>\n",
       "      <td>4.550000</td>\n",
       "    </tr>\n",
       "    <tr>\n",
       "      <th>2</th>\n",
       "      <td>F</td>\n",
       "      <td>35.0</td>\n",
       "      <td>6787.0</td>\n",
       "      <td>281</td>\n",
       "      <td>01/01/2021</td>\n",
       "      <td>09:22:41</td>\n",
       "      <td>61</td>\n",
       "      <td>01/01/2021</td>\n",
       "      <td>09:50:03</td>\n",
       "      <td>27.366667</td>\n",
       "    </tr>\n",
       "    <tr>\n",
       "      <th>3</th>\n",
       "      <td>F</td>\n",
       "      <td>34.0</td>\n",
       "      <td>11875.0</td>\n",
       "      <td>405</td>\n",
       "      <td>01/01/2021</td>\n",
       "      <td>10:21:21</td>\n",
       "      <td>431</td>\n",
       "      <td>01/01/2021</td>\n",
       "      <td>10:27:16</td>\n",
       "      <td>5.916667</td>\n",
       "    </tr>\n",
       "    <tr>\n",
       "      <th>4</th>\n",
       "      <td>M</td>\n",
       "      <td>26.0</td>\n",
       "      <td>8164.0</td>\n",
       "      <td>30</td>\n",
       "      <td>01/01/2021</td>\n",
       "      <td>11:52:38</td>\n",
       "      <td>126</td>\n",
       "      <td>01/01/2021</td>\n",
       "      <td>12:07:30</td>\n",
       "      <td>14.866667</td>\n",
       "    </tr>\n",
       "  </tbody>\n",
       "</table>\n",
       "</div>"
      ],
      "text/plain": [
       "  Genero_Usuario  Edad_Usuario     Bici  Ciclo_Estacion_Retiro Fecha_Retiro  \\\n",
       "0              M          32.0   7608.0                     18   01/01/2021   \n",
       "1              M          24.0   8324.0                     76   01/01/2021   \n",
       "2              F          35.0   6787.0                    281   01/01/2021   \n",
       "3              F          34.0  11875.0                    405   01/01/2021   \n",
       "4              M          26.0   8164.0                     30   01/01/2021   \n",
       "\n",
       "  Hora_Retiro  Ciclo_Estacion_Arribo Fecha_Arribo Hora_Arribo  Tiempo_viaje  \n",
       "0    07:05:04                    143   01/01/2021    07:13:25      8.350000  \n",
       "1    09:03:35                     76   01/01/2021    09:08:08      4.550000  \n",
       "2    09:22:41                     61   01/01/2021    09:50:03     27.366667  \n",
       "3    10:21:21                    431   01/01/2021    10:27:16      5.916667  \n",
       "4    11:52:38                    126   01/01/2021    12:07:30     14.866667  "
      ]
     },
     "execution_count": 52,
     "metadata": {},
     "output_type": "execute_result"
    }
   ],
   "source": [
    "data_2021 = pd.read_csv('ecobici/2021.csv', encoding='latin1', low_memory=False)\n",
    "data_2021.head()"
   ]
  },
  {
   "cell_type": "code",
   "execution_count": 54,
   "metadata": {},
   "outputs": [
    {
     "data": {
      "text/plain": [
       "0"
      ]
     },
     "execution_count": 54,
     "metadata": {},
     "output_type": "execute_result"
    }
   ],
   "source": [
    "np.sum(data_2021['Ciclo_Estacion_Retiro'].isin(estaciones_faltantes) & data_2021['Ciclo_Estacion_Arribo'].isin(estaciones_faltantes))"
   ]
  },
  {
   "cell_type": "code",
   "execution_count": 55,
   "metadata": {},
   "outputs": [],
   "source": [
    "del data_2021"
   ]
  },
  {
   "cell_type": "code",
   "execution_count": 56,
   "metadata": {},
   "outputs": [
    {
     "data": {
      "text/html": [
       "<div>\n",
       "<style scoped>\n",
       "    .dataframe tbody tr th:only-of-type {\n",
       "        vertical-align: middle;\n",
       "    }\n",
       "\n",
       "    .dataframe tbody tr th {\n",
       "        vertical-align: top;\n",
       "    }\n",
       "\n",
       "    .dataframe thead th {\n",
       "        text-align: right;\n",
       "    }\n",
       "</style>\n",
       "<table border=\"1\" class=\"dataframe\">\n",
       "  <thead>\n",
       "    <tr style=\"text-align: right;\">\n",
       "      <th></th>\n",
       "      <th>Genero_Usuario</th>\n",
       "      <th>Edad_Usuario</th>\n",
       "      <th>Bici</th>\n",
       "      <th>Ciclo_Estacion_Retiro</th>\n",
       "      <th>Fecha_Retiro</th>\n",
       "      <th>Hora_Retiro</th>\n",
       "      <th>Ciclo_Estacion_Arribo</th>\n",
       "      <th>Fecha_Arribo</th>\n",
       "      <th>Hora_Arribo</th>\n",
       "      <th>Genero_usuario</th>\n",
       "      <th>Edad_usuario</th>\n",
       "      <th>Tiempo_viaje</th>\n",
       "    </tr>\n",
       "  </thead>\n",
       "  <tbody>\n",
       "    <tr>\n",
       "      <th>0</th>\n",
       "      <td>M</td>\n",
       "      <td>40.0</td>\n",
       "      <td>8811.0</td>\n",
       "      <td>282</td>\n",
       "      <td>04/01/2022</td>\n",
       "      <td>07:49:31</td>\n",
       "      <td>295</td>\n",
       "      <td>04/01/2022</td>\n",
       "      <td>07:52:28</td>\n",
       "      <td>NaN</td>\n",
       "      <td>NaN</td>\n",
       "      <td>2.950000</td>\n",
       "    </tr>\n",
       "    <tr>\n",
       "      <th>1</th>\n",
       "      <td>M</td>\n",
       "      <td>40.0</td>\n",
       "      <td>8752.0</td>\n",
       "      <td>282</td>\n",
       "      <td>06/01/2022</td>\n",
       "      <td>07:45:59</td>\n",
       "      <td>295</td>\n",
       "      <td>06/01/2022</td>\n",
       "      <td>07:48:55</td>\n",
       "      <td>NaN</td>\n",
       "      <td>NaN</td>\n",
       "      <td>2.933333</td>\n",
       "    </tr>\n",
       "    <tr>\n",
       "      <th>2</th>\n",
       "      <td>M</td>\n",
       "      <td>40.0</td>\n",
       "      <td>12028.0</td>\n",
       "      <td>282</td>\n",
       "      <td>11/01/2022</td>\n",
       "      <td>07:51:56</td>\n",
       "      <td>295</td>\n",
       "      <td>11/01/2022</td>\n",
       "      <td>07:54:29</td>\n",
       "      <td>NaN</td>\n",
       "      <td>NaN</td>\n",
       "      <td>2.550000</td>\n",
       "    </tr>\n",
       "    <tr>\n",
       "      <th>3</th>\n",
       "      <td>M</td>\n",
       "      <td>40.0</td>\n",
       "      <td>7102.0</td>\n",
       "      <td>282</td>\n",
       "      <td>12/01/2022</td>\n",
       "      <td>07:43:56</td>\n",
       "      <td>295</td>\n",
       "      <td>12/01/2022</td>\n",
       "      <td>07:46:54</td>\n",
       "      <td>NaN</td>\n",
       "      <td>NaN</td>\n",
       "      <td>2.966667</td>\n",
       "    </tr>\n",
       "    <tr>\n",
       "      <th>4</th>\n",
       "      <td>M</td>\n",
       "      <td>40.0</td>\n",
       "      <td>4261.0</td>\n",
       "      <td>282</td>\n",
       "      <td>13/01/2022</td>\n",
       "      <td>07:43:09</td>\n",
       "      <td>281</td>\n",
       "      <td>13/01/2022</td>\n",
       "      <td>07:47:27</td>\n",
       "      <td>NaN</td>\n",
       "      <td>NaN</td>\n",
       "      <td>4.300000</td>\n",
       "    </tr>\n",
       "  </tbody>\n",
       "</table>\n",
       "</div>"
      ],
      "text/plain": [
       "  Genero_Usuario  Edad_Usuario     Bici  Ciclo_Estacion_Retiro Fecha_Retiro  \\\n",
       "0              M          40.0   8811.0                    282   04/01/2022   \n",
       "1              M          40.0   8752.0                    282   06/01/2022   \n",
       "2              M          40.0  12028.0                    282   11/01/2022   \n",
       "3              M          40.0   7102.0                    282   12/01/2022   \n",
       "4              M          40.0   4261.0                    282   13/01/2022   \n",
       "\n",
       "  Hora_Retiro  Ciclo_Estacion_Arribo Fecha_Arribo Hora_Arribo Genero_usuario  \\\n",
       "0    07:49:31                    295   04/01/2022    07:52:28            NaN   \n",
       "1    07:45:59                    295   06/01/2022    07:48:55            NaN   \n",
       "2    07:51:56                    295   11/01/2022    07:54:29            NaN   \n",
       "3    07:43:56                    295   12/01/2022    07:46:54            NaN   \n",
       "4    07:43:09                    281   13/01/2022    07:47:27            NaN   \n",
       "\n",
       "   Edad_usuario  Tiempo_viaje  \n",
       "0           NaN      2.950000  \n",
       "1           NaN      2.933333  \n",
       "2           NaN      2.550000  \n",
       "3           NaN      2.966667  \n",
       "4           NaN      4.300000  "
      ]
     },
     "execution_count": 56,
     "metadata": {},
     "output_type": "execute_result"
    }
   ],
   "source": [
    "data_2022 = pd.read_csv('ecobici/2022.csv', encoding='latin1', low_memory=False)\n",
    "data_2022.head()"
   ]
  },
  {
   "cell_type": "code",
   "execution_count": 57,
   "metadata": {},
   "outputs": [
    {
     "data": {
      "text/plain": [
       "13"
      ]
     },
     "execution_count": 57,
     "metadata": {},
     "output_type": "execute_result"
    }
   ],
   "source": [
    "np.sum(data_2022['Ciclo_Estacion_Retiro'].isin(estaciones_faltantes) & data_2022['Ciclo_Estacion_Arribo'].isin(estaciones_faltantes))"
   ]
  },
  {
   "cell_type": "code",
   "execution_count": 58,
   "metadata": {},
   "outputs": [],
   "source": [
    "data_2022.drop(data_2022[data_2022['Ciclo_Estacion_Retiro'].isin(estaciones_faltantes) | data_2022['Ciclo_Estacion_Arribo'].isin(estaciones_faltantes)].index, inplace=True)"
   ]
  },
  {
   "cell_type": "code",
   "execution_count": 59,
   "metadata": {},
   "outputs": [
    {
     "data": {
      "text/plain": [
       "0"
      ]
     },
     "execution_count": 59,
     "metadata": {},
     "output_type": "execute_result"
    }
   ],
   "source": [
    "np.sum(data_2022['Ciclo_Estacion_Retiro'].isin(estaciones_faltantes) & data_2022['Ciclo_Estacion_Arribo'].isin(estaciones_faltantes))"
   ]
  },
  {
   "cell_type": "code",
   "execution_count": 60,
   "metadata": {},
   "outputs": [],
   "source": [
    "data_2022.to_csv('ecobici/2022.csv', index=False)\n",
    "del data_2022"
   ]
  },
  {
   "cell_type": "code",
   "execution_count": 64,
   "metadata": {},
   "outputs": [
    {
     "data": {
      "text/html": [
       "<div>\n",
       "<style scoped>\n",
       "    .dataframe tbody tr th:only-of-type {\n",
       "        vertical-align: middle;\n",
       "    }\n",
       "\n",
       "    .dataframe tbody tr th {\n",
       "        vertical-align: top;\n",
       "    }\n",
       "\n",
       "    .dataframe thead th {\n",
       "        text-align: right;\n",
       "    }\n",
       "</style>\n",
       "<table border=\"1\" class=\"dataframe\">\n",
       "  <thead>\n",
       "    <tr style=\"text-align: right;\">\n",
       "      <th></th>\n",
       "      <th>Genero_Usuario</th>\n",
       "      <th>Edad_Usuario</th>\n",
       "      <th>Bici</th>\n",
       "      <th>Ciclo_Estacion_Retiro</th>\n",
       "      <th>Fecha_Retiro</th>\n",
       "      <th>Hora_Retiro</th>\n",
       "      <th>Ciclo_Estacion_Arribo</th>\n",
       "      <th>Fecha_Arribo</th>\n",
       "      <th>Hora_Arribo</th>\n",
       "      <th>Fecha_Hora_Retiro</th>\n",
       "    </tr>\n",
       "  </thead>\n",
       "  <tbody>\n",
       "    <tr>\n",
       "      <th>0</th>\n",
       "      <td>M</td>\n",
       "      <td>45.0</td>\n",
       "      <td>3297082</td>\n",
       "      <td>150</td>\n",
       "      <td>31/12/2022</td>\n",
       "      <td>23:58:00</td>\n",
       "      <td>40</td>\n",
       "      <td>01/01/2023</td>\n",
       "      <td>00:06:24</td>\n",
       "      <td>2022-12-31 23:58:00</td>\n",
       "    </tr>\n",
       "    <tr>\n",
       "      <th>1</th>\n",
       "      <td>F</td>\n",
       "      <td>27.0</td>\n",
       "      <td>8922254</td>\n",
       "      <td>214</td>\n",
       "      <td>31/12/2022</td>\n",
       "      <td>23:36:34</td>\n",
       "      <td>25</td>\n",
       "      <td>01/01/2023</td>\n",
       "      <td>00:07:08</td>\n",
       "      <td>2022-12-31 23:36:34</td>\n",
       "    </tr>\n",
       "    <tr>\n",
       "      <th>2</th>\n",
       "      <td>M</td>\n",
       "      <td>34.0</td>\n",
       "      <td>2320075</td>\n",
       "      <td>214</td>\n",
       "      <td>31/12/2022</td>\n",
       "      <td>23:36:33</td>\n",
       "      <td>25</td>\n",
       "      <td>01/01/2023</td>\n",
       "      <td>00:07:12</td>\n",
       "      <td>2022-12-31 23:36:33</td>\n",
       "    </tr>\n",
       "    <tr>\n",
       "      <th>3</th>\n",
       "      <td>M</td>\n",
       "      <td>58.0</td>\n",
       "      <td>2096493</td>\n",
       "      <td>137</td>\n",
       "      <td>31/12/2022</td>\n",
       "      <td>23:57:19</td>\n",
       "      <td>36</td>\n",
       "      <td>01/01/2023</td>\n",
       "      <td>00:07:48</td>\n",
       "      <td>2022-12-31 23:57:19</td>\n",
       "    </tr>\n",
       "    <tr>\n",
       "      <th>4</th>\n",
       "      <td>M</td>\n",
       "      <td>23.0</td>\n",
       "      <td>6294433</td>\n",
       "      <td>260</td>\n",
       "      <td>31/12/2022</td>\n",
       "      <td>23:57:42</td>\n",
       "      <td>43</td>\n",
       "      <td>01/01/2023</td>\n",
       "      <td>00:09:33</td>\n",
       "      <td>2022-12-31 23:57:42</td>\n",
       "    </tr>\n",
       "  </tbody>\n",
       "</table>\n",
       "</div>"
      ],
      "text/plain": [
       "  Genero_Usuario  Edad_Usuario     Bici  Ciclo_Estacion_Retiro Fecha_Retiro  \\\n",
       "0              M          45.0  3297082                    150   31/12/2022   \n",
       "1              F          27.0  8922254                    214   31/12/2022   \n",
       "2              M          34.0  2320075                    214   31/12/2022   \n",
       "3              M          58.0  2096493                    137   31/12/2022   \n",
       "4              M          23.0  6294433                    260   31/12/2022   \n",
       "\n",
       "  Hora_Retiro  Ciclo_Estacion_Arribo Fecha_Arribo Hora_Arribo  \\\n",
       "0    23:58:00                     40   01/01/2023    00:06:24   \n",
       "1    23:36:34                     25   01/01/2023    00:07:08   \n",
       "2    23:36:33                     25   01/01/2023    00:07:12   \n",
       "3    23:57:19                     36   01/01/2023    00:07:48   \n",
       "4    23:57:42                     43   01/01/2023    00:09:33   \n",
       "\n",
       "     Fecha_Hora_Retiro  \n",
       "0  2022-12-31 23:58:00  \n",
       "1  2022-12-31 23:36:34  \n",
       "2  2022-12-31 23:36:33  \n",
       "3  2022-12-31 23:57:19  \n",
       "4  2022-12-31 23:57:42  "
      ]
     },
     "execution_count": 64,
     "metadata": {},
     "output_type": "execute_result"
    }
   ],
   "source": [
    "data_2023 = pd.read_csv('ecobici/2023.csv', encoding='latin1', low_memory=False)\n",
    "data_2023.head()"
   ]
  },
  {
   "cell_type": "code",
   "execution_count": 65,
   "metadata": {},
   "outputs": [
    {
     "data": {
      "text/plain": [
       "1222"
      ]
     },
     "execution_count": 65,
     "metadata": {},
     "output_type": "execute_result"
    }
   ],
   "source": [
    "np.sum(data_2023['Ciclo_Estacion_Retiro'].isin(estaciones_faltantes) | data_2023['Ciclo_Estacion_Arribo'].isin(estaciones_faltantes))"
   ]
  },
  {
   "cell_type": "code",
   "execution_count": 66,
   "metadata": {},
   "outputs": [],
   "source": [
    "data_2023.drop(data_2023[data_2023['Ciclo_Estacion_Retiro'].isin(estaciones_faltantes) | data_2023['Ciclo_Estacion_Arribo'].isin(estaciones_faltantes)].index, inplace=True)"
   ]
  },
  {
   "cell_type": "code",
   "execution_count": 67,
   "metadata": {},
   "outputs": [
    {
     "data": {
      "text/plain": [
       "0"
      ]
     },
     "execution_count": 67,
     "metadata": {},
     "output_type": "execute_result"
    }
   ],
   "source": [
    "np.sum(data_2023['Ciclo_Estacion_Retiro'].isin(estaciones_faltantes) & data_2023['Ciclo_Estacion_Arribo'].isin(estaciones_faltantes))"
   ]
  },
  {
   "cell_type": "code",
   "execution_count": 68,
   "metadata": {},
   "outputs": [],
   "source": [
    "data_2023.to_csv('ecobici/2023.csv', index=False)\n",
    "del data_2023"
   ]
  },
  {
   "cell_type": "code",
   "execution_count": 69,
   "metadata": {},
   "outputs": [
    {
     "data": {
      "text/html": [
       "<div>\n",
       "<style scoped>\n",
       "    .dataframe tbody tr th:only-of-type {\n",
       "        vertical-align: middle;\n",
       "    }\n",
       "\n",
       "    .dataframe tbody tr th {\n",
       "        vertical-align: top;\n",
       "    }\n",
       "\n",
       "    .dataframe thead th {\n",
       "        text-align: right;\n",
       "    }\n",
       "</style>\n",
       "<table border=\"1\" class=\"dataframe\">\n",
       "  <thead>\n",
       "    <tr style=\"text-align: right;\">\n",
       "      <th></th>\n",
       "      <th>Genero_Usuario</th>\n",
       "      <th>Edad_Usuario</th>\n",
       "      <th>Bici</th>\n",
       "      <th>Ciclo_Estacion_Retiro</th>\n",
       "      <th>Fecha_Retiro</th>\n",
       "      <th>Hora_Retiro</th>\n",
       "      <th>Ciclo_Estacion_Arribo</th>\n",
       "      <th>Fecha_Arribo</th>\n",
       "      <th>Hora_Arribo</th>\n",
       "      <th>Tiempo_viaje</th>\n",
       "    </tr>\n",
       "  </thead>\n",
       "  <tbody>\n",
       "    <tr>\n",
       "      <th>0</th>\n",
       "      <td>M</td>\n",
       "      <td>48.0</td>\n",
       "      <td>3371879</td>\n",
       "      <td>113</td>\n",
       "      <td>31/12/2023</td>\n",
       "      <td>23:21:52</td>\n",
       "      <td>659</td>\n",
       "      <td>01/01/2024</td>\n",
       "      <td>00:00:02</td>\n",
       "      <td>38.166667</td>\n",
       "    </tr>\n",
       "    <tr>\n",
       "      <th>1</th>\n",
       "      <td>F</td>\n",
       "      <td>26.0</td>\n",
       "      <td>7033434</td>\n",
       "      <td>281</td>\n",
       "      <td>31/12/2023</td>\n",
       "      <td>23:46:02</td>\n",
       "      <td>47</td>\n",
       "      <td>01/01/2024</td>\n",
       "      <td>00:00:02</td>\n",
       "      <td>14.000000</td>\n",
       "    </tr>\n",
       "    <tr>\n",
       "      <th>2</th>\n",
       "      <td>F</td>\n",
       "      <td>37.0</td>\n",
       "      <td>7169857</td>\n",
       "      <td>15</td>\n",
       "      <td>31/12/2023</td>\n",
       "      <td>23:51:57</td>\n",
       "      <td>217</td>\n",
       "      <td>01/01/2024</td>\n",
       "      <td>00:00:49</td>\n",
       "      <td>8.866667</td>\n",
       "    </tr>\n",
       "    <tr>\n",
       "      <th>3</th>\n",
       "      <td>F</td>\n",
       "      <td>30.0</td>\n",
       "      <td>6368211</td>\n",
       "      <td>555</td>\n",
       "      <td>31/12/2023</td>\n",
       "      <td>23:53:10</td>\n",
       "      <td>8</td>\n",
       "      <td>01/01/2024</td>\n",
       "      <td>00:02:39</td>\n",
       "      <td>9.483333</td>\n",
       "    </tr>\n",
       "    <tr>\n",
       "      <th>4</th>\n",
       "      <td>M</td>\n",
       "      <td>30.0</td>\n",
       "      <td>5136924</td>\n",
       "      <td>555</td>\n",
       "      <td>31/12/2023</td>\n",
       "      <td>23:52:53</td>\n",
       "      <td>8</td>\n",
       "      <td>01/01/2024</td>\n",
       "      <td>00:02:45</td>\n",
       "      <td>9.866667</td>\n",
       "    </tr>\n",
       "  </tbody>\n",
       "</table>\n",
       "</div>"
      ],
      "text/plain": [
       "  Genero_Usuario  Edad_Usuario     Bici  Ciclo_Estacion_Retiro Fecha_Retiro  \\\n",
       "0              M          48.0  3371879                    113   31/12/2023   \n",
       "1              F          26.0  7033434                    281   31/12/2023   \n",
       "2              F          37.0  7169857                     15   31/12/2023   \n",
       "3              F          30.0  6368211                    555   31/12/2023   \n",
       "4              M          30.0  5136924                    555   31/12/2023   \n",
       "\n",
       "  Hora_Retiro  Ciclo_Estacion_Arribo Fecha_Arribo Hora_Arribo  Tiempo_viaje  \n",
       "0    23:21:52                    659   01/01/2024    00:00:02     38.166667  \n",
       "1    23:46:02                     47   01/01/2024    00:00:02     14.000000  \n",
       "2    23:51:57                    217   01/01/2024    00:00:49      8.866667  \n",
       "3    23:53:10                      8   01/01/2024    00:02:39      9.483333  \n",
       "4    23:52:53                      8   01/01/2024    00:02:45      9.866667  "
      ]
     },
     "execution_count": 69,
     "metadata": {},
     "output_type": "execute_result"
    }
   ],
   "source": [
    "data_2024 = pd.read_csv('ecobici/2024.csv', encoding='latin1', low_memory=False)\n",
    "data_2024.head()"
   ]
  },
  {
   "cell_type": "code",
   "execution_count": 70,
   "metadata": {},
   "outputs": [
    {
     "data": {
      "text/plain": [
       "17"
      ]
     },
     "execution_count": 70,
     "metadata": {},
     "output_type": "execute_result"
    }
   ],
   "source": [
    "np.sum(data_2024['Ciclo_Estacion_Retiro'].isin(estaciones_faltantes) | data_2024['Ciclo_Estacion_Arribo'].isin(estaciones_faltantes))"
   ]
  },
  {
   "cell_type": "code",
   "execution_count": 71,
   "metadata": {},
   "outputs": [],
   "source": [
    "data_2024.drop(data_2024[data_2024['Ciclo_Estacion_Retiro'].isin(estaciones_faltantes) | data_2024['Ciclo_Estacion_Arribo'].isin(estaciones_faltantes)].index, inplace=True)"
   ]
  },
  {
   "cell_type": "code",
   "execution_count": 72,
   "metadata": {},
   "outputs": [
    {
     "data": {
      "text/plain": [
       "0"
      ]
     },
     "execution_count": 72,
     "metadata": {},
     "output_type": "execute_result"
    }
   ],
   "source": [
    "np.sum(data_2024['Ciclo_Estacion_Retiro'].isin(estaciones_faltantes) & data_2024['Ciclo_Estacion_Arribo'].isin(estaciones_faltantes))"
   ]
  },
  {
   "cell_type": "code",
   "execution_count": 73,
   "metadata": {},
   "outputs": [],
   "source": [
    "data_2024.to_csv('ecobici/2024.csv', index=False)\n",
    "del data_2024"
   ]
  }
 ],
 "metadata": {
  "kernelspec": {
   "display_name": "Python 3",
   "language": "python",
   "name": "python3"
  },
  "language_info": {
   "codemirror_mode": {
    "name": "ipython",
    "version": 3
   },
   "file_extension": ".py",
   "mimetype": "text/x-python",
   "name": "python",
   "nbconvert_exporter": "python",
   "pygments_lexer": "ipython3",
   "version": "3.10.12"
  }
 },
 "nbformat": 4,
 "nbformat_minor": 2
}
