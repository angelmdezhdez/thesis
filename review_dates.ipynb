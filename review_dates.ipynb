{
 "cells": [
  {
   "cell_type": "code",
   "execution_count": 1,
   "id": "8fed915c",
   "metadata": {},
   "outputs": [],
   "source": [
    "import numpy as np\n",
    "import matplotlib.pyplot as plt\n",
    "import pandas as pd"
   ]
  },
  {
   "cell_type": "code",
   "execution_count": 2,
   "id": "8971d837",
   "metadata": {},
   "outputs": [],
   "source": [
    "dates_21_eco = np.load('/Users/antoniomendez/Desktop/Tesis/thesis/vector_files/dates_2021_eco.npy')\n",
    "dates_21_mibici = np.load('/Users/antoniomendez/Desktop/Tesis/thesis/vector_files/dates_2021_mibici.npy')"
   ]
  },
  {
   "cell_type": "code",
   "execution_count": 3,
   "id": "44f7f814",
   "metadata": {},
   "outputs": [],
   "source": [
    "steps = ['2021-04-15', '2021-04-30', '2021-08-01', '2021-08-15']"
   ]
  },
  {
   "cell_type": "code",
   "execution_count": 4,
   "id": "517d26a1",
   "metadata": {},
   "outputs": [
    {
     "name": "stdout",
     "output_type": "stream",
     "text": [
      "Eco 2021\n",
      "104-2021-04-15\n",
      "119-2021-04-30\n",
      "212-2021-08-01\n",
      "226-2021-08-15\n"
     ]
    }
   ],
   "source": [
    "print('Eco 2021')\n",
    "for i in range(len(dates_21_eco)):\n",
    "    if dates_21_eco[i] in steps:\n",
    "        print(f\"{i}-{dates_21_eco[i]}\")"
   ]
  },
  {
   "cell_type": "code",
   "execution_count": 5,
   "id": "24af84c6",
   "metadata": {},
   "outputs": [
    {
     "name": "stdout",
     "output_type": "stream",
     "text": [
      "MiBici 2021\n",
      "104-2021-04-15\n",
      "119-2021-04-30\n",
      "212-2021-08-01\n",
      "226-2021-08-15\n"
     ]
    }
   ],
   "source": [
    "print('MiBici 2021')\n",
    "for i in range(len(dates_21_mibici)):\n",
    "    if dates_21_mibici[i] in steps:\n",
    "        print(f\"{i}-{dates_21_mibici[i]}\")"
   ]
  },
  {
   "cell_type": "code",
   "execution_count": 6,
   "id": "09d40b97",
   "metadata": {},
   "outputs": [
    {
     "name": "stdout",
     "output_type": "stream",
     "text": [
      "104,105,106,107,108,109,110,111,112,113,114,115,116,117,118,119,212,213,214,215,216,217,218,219,220,221,222,223,224,225,226,"
     ]
    }
   ],
   "source": [
    "indexes_to_use = [i for i in range(104, 120)] + [i for i in range(212, 227)]\n",
    "for i in range(len(indexes_to_use)):\n",
    "    print(f'{indexes_to_use[i]},',end='')"
   ]
  },
  {
   "cell_type": "code",
   "execution_count": 9,
   "id": "1c09002c",
   "metadata": {},
   "outputs": [
    {
     "data": {
      "text/plain": [
       "array(['2021-04-15', '2021-04-16', '2021-04-17', '2021-04-18',\n",
       "       '2021-04-19', '2021-04-20', '2021-04-21', '2021-04-22',\n",
       "       '2021-04-23', '2021-04-24', '2021-04-25', '2021-04-26',\n",
       "       '2021-04-27', '2021-04-28', '2021-04-29', '2021-04-30',\n",
       "       '2021-08-01', '2021-08-02', '2021-08-03', '2021-08-04',\n",
       "       '2021-08-05', '2021-08-06', '2021-08-07', '2021-08-08',\n",
       "       '2021-08-09', '2021-08-10', '2021-08-11', '2021-08-12',\n",
       "       '2021-08-13', '2021-08-14', '2021-08-15'], dtype='<U10')"
      ]
     },
     "execution_count": 9,
     "metadata": {},
     "output_type": "execute_result"
    }
   ],
   "source": [
    "dates_21 = dates_21_eco[indexes_to_use]\n",
    "dates_21"
   ]
  },
  {
   "cell_type": "code",
   "execution_count": 10,
   "id": "38145421",
   "metadata": {},
   "outputs": [
    {
     "data": {
      "application/vnd.microsoft.datawrangler.viewer.v0+json": {
       "columns": [
        {
         "name": "index",
         "rawType": "int64",
         "type": "integer"
        },
        {
         "name": "dates",
         "rawType": "object",
         "type": "string"
        }
       ],
       "ref": "2b183ab5-a474-43e7-8723-d777fa0d6a5a",
       "rows": [
        [
         "0",
         "2021-04-15"
        ],
        [
         "1",
         "2021-04-16"
        ],
        [
         "2",
         "2021-04-17"
        ],
        [
         "3",
         "2021-04-18"
        ],
        [
         "4",
         "2021-04-19"
        ],
        [
         "5",
         "2021-04-20"
        ],
        [
         "6",
         "2021-04-21"
        ],
        [
         "7",
         "2021-04-22"
        ],
        [
         "8",
         "2021-04-23"
        ],
        [
         "9",
         "2021-04-24"
        ],
        [
         "10",
         "2021-04-25"
        ],
        [
         "11",
         "2021-04-26"
        ],
        [
         "12",
         "2021-04-27"
        ],
        [
         "13",
         "2021-04-28"
        ],
        [
         "14",
         "2021-04-29"
        ],
        [
         "15",
         "2021-04-30"
        ],
        [
         "16",
         "2021-08-01"
        ],
        [
         "17",
         "2021-08-02"
        ],
        [
         "18",
         "2021-08-03"
        ],
        [
         "19",
         "2021-08-04"
        ],
        [
         "20",
         "2021-08-05"
        ],
        [
         "21",
         "2021-08-06"
        ],
        [
         "22",
         "2021-08-07"
        ],
        [
         "23",
         "2021-08-08"
        ],
        [
         "24",
         "2021-08-09"
        ],
        [
         "25",
         "2021-08-10"
        ],
        [
         "26",
         "2021-08-11"
        ],
        [
         "27",
         "2021-08-12"
        ],
        [
         "28",
         "2021-08-13"
        ],
        [
         "29",
         "2021-08-14"
        ],
        [
         "30",
         "2021-08-15"
        ]
       ],
       "shape": {
        "columns": 1,
        "rows": 31
       }
      },
      "text/html": [
       "<div>\n",
       "<style scoped>\n",
       "    .dataframe tbody tr th:only-of-type {\n",
       "        vertical-align: middle;\n",
       "    }\n",
       "\n",
       "    .dataframe tbody tr th {\n",
       "        vertical-align: top;\n",
       "    }\n",
       "\n",
       "    .dataframe thead th {\n",
       "        text-align: right;\n",
       "    }\n",
       "</style>\n",
       "<table border=\"1\" class=\"dataframe\">\n",
       "  <thead>\n",
       "    <tr style=\"text-align: right;\">\n",
       "      <th></th>\n",
       "      <th>dates</th>\n",
       "    </tr>\n",
       "  </thead>\n",
       "  <tbody>\n",
       "    <tr>\n",
       "      <th>0</th>\n",
       "      <td>2021-04-15</td>\n",
       "    </tr>\n",
       "    <tr>\n",
       "      <th>1</th>\n",
       "      <td>2021-04-16</td>\n",
       "    </tr>\n",
       "    <tr>\n",
       "      <th>2</th>\n",
       "      <td>2021-04-17</td>\n",
       "    </tr>\n",
       "    <tr>\n",
       "      <th>3</th>\n",
       "      <td>2021-04-18</td>\n",
       "    </tr>\n",
       "    <tr>\n",
       "      <th>4</th>\n",
       "      <td>2021-04-19</td>\n",
       "    </tr>\n",
       "    <tr>\n",
       "      <th>5</th>\n",
       "      <td>2021-04-20</td>\n",
       "    </tr>\n",
       "    <tr>\n",
       "      <th>6</th>\n",
       "      <td>2021-04-21</td>\n",
       "    </tr>\n",
       "    <tr>\n",
       "      <th>7</th>\n",
       "      <td>2021-04-22</td>\n",
       "    </tr>\n",
       "    <tr>\n",
       "      <th>8</th>\n",
       "      <td>2021-04-23</td>\n",
       "    </tr>\n",
       "    <tr>\n",
       "      <th>9</th>\n",
       "      <td>2021-04-24</td>\n",
       "    </tr>\n",
       "    <tr>\n",
       "      <th>10</th>\n",
       "      <td>2021-04-25</td>\n",
       "    </tr>\n",
       "    <tr>\n",
       "      <th>11</th>\n",
       "      <td>2021-04-26</td>\n",
       "    </tr>\n",
       "    <tr>\n",
       "      <th>12</th>\n",
       "      <td>2021-04-27</td>\n",
       "    </tr>\n",
       "    <tr>\n",
       "      <th>13</th>\n",
       "      <td>2021-04-28</td>\n",
       "    </tr>\n",
       "    <tr>\n",
       "      <th>14</th>\n",
       "      <td>2021-04-29</td>\n",
       "    </tr>\n",
       "    <tr>\n",
       "      <th>15</th>\n",
       "      <td>2021-04-30</td>\n",
       "    </tr>\n",
       "    <tr>\n",
       "      <th>16</th>\n",
       "      <td>2021-08-01</td>\n",
       "    </tr>\n",
       "    <tr>\n",
       "      <th>17</th>\n",
       "      <td>2021-08-02</td>\n",
       "    </tr>\n",
       "    <tr>\n",
       "      <th>18</th>\n",
       "      <td>2021-08-03</td>\n",
       "    </tr>\n",
       "    <tr>\n",
       "      <th>19</th>\n",
       "      <td>2021-08-04</td>\n",
       "    </tr>\n",
       "    <tr>\n",
       "      <th>20</th>\n",
       "      <td>2021-08-05</td>\n",
       "    </tr>\n",
       "    <tr>\n",
       "      <th>21</th>\n",
       "      <td>2021-08-06</td>\n",
       "    </tr>\n",
       "    <tr>\n",
       "      <th>22</th>\n",
       "      <td>2021-08-07</td>\n",
       "    </tr>\n",
       "    <tr>\n",
       "      <th>23</th>\n",
       "      <td>2021-08-08</td>\n",
       "    </tr>\n",
       "    <tr>\n",
       "      <th>24</th>\n",
       "      <td>2021-08-09</td>\n",
       "    </tr>\n",
       "    <tr>\n",
       "      <th>25</th>\n",
       "      <td>2021-08-10</td>\n",
       "    </tr>\n",
       "    <tr>\n",
       "      <th>26</th>\n",
       "      <td>2021-08-11</td>\n",
       "    </tr>\n",
       "    <tr>\n",
       "      <th>27</th>\n",
       "      <td>2021-08-12</td>\n",
       "    </tr>\n",
       "    <tr>\n",
       "      <th>28</th>\n",
       "      <td>2021-08-13</td>\n",
       "    </tr>\n",
       "    <tr>\n",
       "      <th>29</th>\n",
       "      <td>2021-08-14</td>\n",
       "    </tr>\n",
       "    <tr>\n",
       "      <th>30</th>\n",
       "      <td>2021-08-15</td>\n",
       "    </tr>\n",
       "  </tbody>\n",
       "</table>\n",
       "</div>"
      ],
      "text/plain": [
       "         dates\n",
       "0   2021-04-15\n",
       "1   2021-04-16\n",
       "2   2021-04-17\n",
       "3   2021-04-18\n",
       "4   2021-04-19\n",
       "5   2021-04-20\n",
       "6   2021-04-21\n",
       "7   2021-04-22\n",
       "8   2021-04-23\n",
       "9   2021-04-24\n",
       "10  2021-04-25\n",
       "11  2021-04-26\n",
       "12  2021-04-27\n",
       "13  2021-04-28\n",
       "14  2021-04-29\n",
       "15  2021-04-30\n",
       "16  2021-08-01\n",
       "17  2021-08-02\n",
       "18  2021-08-03\n",
       "19  2021-08-04\n",
       "20  2021-08-05\n",
       "21  2021-08-06\n",
       "22  2021-08-07\n",
       "23  2021-08-08\n",
       "24  2021-08-09\n",
       "25  2021-08-10\n",
       "26  2021-08-11\n",
       "27  2021-08-12\n",
       "28  2021-08-13\n",
       "29  2021-08-14\n",
       "30  2021-08-15"
      ]
     },
     "execution_count": 10,
     "metadata": {},
     "output_type": "execute_result"
    }
   ],
   "source": [
    "dates_df = pd.DataFrame({'dates': dates_21})\n",
    "dates_df"
   ]
  },
  {
   "cell_type": "code",
   "execution_count": 11,
   "id": "505bb6e8",
   "metadata": {},
   "outputs": [],
   "source": [
    "dates_df.to_csv('vector_files/dates_21.csv', index=False)"
   ]
  },
  {
   "cell_type": "code",
   "execution_count": 2,
   "id": "6d11abc2",
   "metadata": {},
   "outputs": [],
   "source": [
    "dates_24_eco = np.load('/Users/antoniomendez/Desktop/Tesis/thesis/vector_files/dates_2024_eco.npy')\n",
    "dates_24_mibici = np.load('/Users/antoniomendez/Desktop/Tesis/thesis/vector_files/dates_2024_mibici.npy')"
   ]
  },
  {
   "cell_type": "code",
   "execution_count": 9,
   "id": "231748e3",
   "metadata": {},
   "outputs": [
    {
     "name": "stdout",
     "output_type": "stream",
     "text": [
      "152-2024-06-01\n",
      "166-2024-06-15\n",
      "213-2024-08-01\n",
      "227-2024-08-15\n"
     ]
    }
   ],
   "source": [
    "dates_to_consider = ['2024-06-01', '2024-06-15', '2024-08-01', '2024-08-15']\n",
    "for i in range(len(dates_24_eco)):\n",
    "    if dates_24_eco[i] in dates_to_consider:\n",
    "        print(f\"{i}-{dates_24_eco[i]}\")"
   ]
  },
  {
   "cell_type": "code",
   "execution_count": 10,
   "id": "c7d1e26b",
   "metadata": {},
   "outputs": [
    {
     "name": "stdout",
     "output_type": "stream",
     "text": [
      "152,153,154,155,156,157,158,159,160,161,162,163,164,165,166,213,214,215,216,217,218,219,220,221,222,223,224,225,226,227,"
     ]
    }
   ],
   "source": [
    "list_to_consider = [i for i in range(152, 167)] + [i for i in range(213, 228)]\n",
    "for i in range(len(list_to_consider)):\n",
    "    print(f'{list_to_consider[i]},',end='')"
   ]
  },
  {
   "cell_type": "code",
   "execution_count": 3,
   "id": "33666fde",
   "metadata": {},
   "outputs": [
    {
     "name": "stdout",
     "output_type": "stream",
     "text": [
      "['2024-09-01', '2024-09-04', '2024-09-08', '2024-09-11', '2024-09-15', '2024-09-18', '2024-09-22', '2024-09-25', '2024-09-29', '2024-10-02', '2024-10-06', '2024-10-09', '2024-10-13', '2024-10-16', '2024-10-20', '2024-10-23', '2024-10-27', '2024-10-30']\n"
     ]
    }
   ],
   "source": [
    "dates_to_consider = ['2024-09-04', '2024-09-11', '2024-09-18', '2024-09-25', '2024-10-02', '2024-10-09', '2024-10-16', '2024-10-23', '2024-10-30',\n",
    "                     '2024-09-01', '2024-09-08', '2024-09-15', '2024-09-22', '2024-09-29', '2024-10-06', '2024-10-13', '2024-10-20', '2024-10-27']\n",
    "dates_to_consider = sorted(dates_to_consider)\n",
    "print(dates_to_consider)"
   ]
  },
  {
   "cell_type": "code",
   "execution_count": 4,
   "id": "51c511a7",
   "metadata": {},
   "outputs": [
    {
     "name": "stdout",
     "output_type": "stream",
     "text": [
      "[244, 247, 251, 254, 258, 261, 265, 268, 272, 275, 279, 282, 286, 289, 293, 296, 300, 303]\n"
     ]
    }
   ],
   "source": [
    "indexes_to_use_24 = []\n",
    "for i in range(len(dates_24_eco)):\n",
    "    if dates_24_eco[i] in dates_to_consider:\n",
    "        indexes_to_use_24.append(i)\n",
    "print(indexes_to_use_24)"
   ]
  },
  {
   "cell_type": "code",
   "execution_count": 5,
   "id": "a2ac8352",
   "metadata": {},
   "outputs": [
    {
     "name": "stdout",
     "output_type": "stream",
     "text": [
      "[244, 247, 251, 254, 258, 261, 265, 268, 272, 275, 279, 282, 286, 289, 293, 296, 300, 303]\n"
     ]
    }
   ],
   "source": [
    "indexes_to_use_24 = []\n",
    "for i in range(len(dates_24_mibici)):\n",
    "    if dates_24_mibici[i] in dates_to_consider:\n",
    "        indexes_to_use_24.append(i)\n",
    "print(indexes_to_use_24)"
   ]
  },
  {
   "cell_type": "code",
   "execution_count": 6,
   "id": "9e2f7ee3",
   "metadata": {},
   "outputs": [
    {
     "name": "stdout",
     "output_type": "stream",
     "text": [
      "244,247,251,254,258,261,265,268,272,275,279,282,286,289,293,296,300,303,"
     ]
    }
   ],
   "source": [
    "for i in range(len(indexes_to_use_24)):\n",
    "    print(f'{indexes_to_use_24[i]},',end='')"
   ]
  },
  {
   "cell_type": "code",
   "execution_count": 7,
   "id": "1bb74c93",
   "metadata": {},
   "outputs": [
    {
     "data": {
      "application/vnd.microsoft.datawrangler.viewer.v0+json": {
       "columns": [
        {
         "name": "index",
         "rawType": "int64",
         "type": "integer"
        },
        {
         "name": "dates",
         "rawType": "object",
         "type": "string"
        }
       ],
       "ref": "9d3d7592-9f42-46bc-b7c4-b6321127432c",
       "rows": [
        [
         "0",
         "2024-09-01"
        ],
        [
         "1",
         "2024-09-04"
        ],
        [
         "2",
         "2024-09-08"
        ],
        [
         "3",
         "2024-09-11"
        ],
        [
         "4",
         "2024-09-15"
        ]
       ],
       "shape": {
        "columns": 1,
        "rows": 5
       }
      },
      "text/html": [
       "<div>\n",
       "<style scoped>\n",
       "    .dataframe tbody tr th:only-of-type {\n",
       "        vertical-align: middle;\n",
       "    }\n",
       "\n",
       "    .dataframe tbody tr th {\n",
       "        vertical-align: top;\n",
       "    }\n",
       "\n",
       "    .dataframe thead th {\n",
       "        text-align: right;\n",
       "    }\n",
       "</style>\n",
       "<table border=\"1\" class=\"dataframe\">\n",
       "  <thead>\n",
       "    <tr style=\"text-align: right;\">\n",
       "      <th></th>\n",
       "      <th>dates</th>\n",
       "    </tr>\n",
       "  </thead>\n",
       "  <tbody>\n",
       "    <tr>\n",
       "      <th>0</th>\n",
       "      <td>2024-09-01</td>\n",
       "    </tr>\n",
       "    <tr>\n",
       "      <th>1</th>\n",
       "      <td>2024-09-04</td>\n",
       "    </tr>\n",
       "    <tr>\n",
       "      <th>2</th>\n",
       "      <td>2024-09-08</td>\n",
       "    </tr>\n",
       "    <tr>\n",
       "      <th>3</th>\n",
       "      <td>2024-09-11</td>\n",
       "    </tr>\n",
       "    <tr>\n",
       "      <th>4</th>\n",
       "      <td>2024-09-15</td>\n",
       "    </tr>\n",
       "  </tbody>\n",
       "</table>\n",
       "</div>"
      ],
      "text/plain": [
       "        dates\n",
       "0  2024-09-01\n",
       "1  2024-09-04\n",
       "2  2024-09-08\n",
       "3  2024-09-11\n",
       "4  2024-09-15"
      ]
     },
     "execution_count": 7,
     "metadata": {},
     "output_type": "execute_result"
    }
   ],
   "source": [
    "dates_24 = pd.DataFrame({'dates': dates_24_eco[indexes_to_use_24]})\n",
    "dates_24.head()"
   ]
  },
  {
   "cell_type": "code",
   "execution_count": 8,
   "id": "d5de039c",
   "metadata": {},
   "outputs": [],
   "source": [
    "dates_24.to_csv('/Users/antoniomendez/Desktop/Tesis/thesis/vector_files/dates_2024_ws.csv', index=False)"
   ]
  },
  {
   "cell_type": "code",
   "execution_count": 12,
   "id": "5294ea54",
   "metadata": {},
   "outputs": [],
   "source": [
    "def normalize_matrix(K):\n",
    "    \"\"\"\n",
    "    Normaliza una matriz de kernel K de acuerdo a:\n",
    "        K_norm[i, j] = K[i, j] / (sqrt(K[i, i]) * sqrt(K[j, j]))\n",
    "\n",
    "    Parámetros\n",
    "    ----------\n",
    "    K : np.ndarray\n",
    "        Matriz de kernel (simétrica, cuadrada).\n",
    "\n",
    "    Retorna\n",
    "    -------\n",
    "    K_norm : np.ndarray\n",
    "        Matriz de kernel normalizada.\n",
    "    \"\"\"\n",
    "    # Extraemos los valores diagonales (K(xi, xi))\n",
    "    diag = np.diag(K)\n",
    "    \n",
    "    # Evitamos divisiones por cero\n",
    "    #diag[diag == 0] = 1e-12\n",
    "    \n",
    "    # Calculamos denominador como producto externo de sqrt(diag)\n",
    "    denom = np.outer(np.sqrt(diag), np.sqrt(diag))\n",
    "    \n",
    "    # Normalizamos\n",
    "    K_norm = K / denom\n",
    "    return K_norm"
   ]
  },
  {
   "cell_type": "code",
   "execution_count": 10,
   "id": "4c62c492",
   "metadata": {},
   "outputs": [
    {
     "name": "stdout",
     "output_type": "stream",
     "text": [
      "[[8100.         5630.03983324 5781.53947092 4499.44921866 4697.31617722\n",
      "  6643.73963404 5558.96772781 3360.72488356 4705.0742665  5600.89863874\n",
      "  4599.26826703 6676.31569514 3144.96748543 6630.98032713 3383.88850821\n",
      "  4719.35814776 6730.86930353 5557.91925192]\n",
      " [5630.03983324 7062.         5600.14164176 4499.18691916 4642.15913333\n",
      "  5567.27791167 5568.85443127 3314.99197187 4585.23130714 5566.04705228\n",
      "  4632.36639085 5541.94998934 3212.02960624 5564.03310419 3358.01350069\n",
      "  4630.50584553 5564.32562815 5417.8938484 ]\n",
      " [5781.53947092 5600.14164176 7062.         4455.0198986  4640.97791275\n",
      "  5626.46066353 5495.38641517 3310.03308112 4703.56040424 5745.46358965\n",
      "  4543.62950147 5637.22019447 3037.22276233 5634.89227735 3336.09131522\n",
      "  4696.09175527 5606.85433649 5617.5737391 ]\n",
      " [4499.44921866 4499.18691916 4455.0198986  5640.         4535.74080133\n",
      "  4526.80457468 4626.38099624 3304.05927985 4573.79900477 4459.47987685\n",
      "  4746.95492816 4560.69670467 3190.64305602 4568.2485906  3352.27789765\n",
      "  4609.47851609 4440.09915819 4587.57085817]\n",
      " [4697.31617722 4642.15913333 4640.97791275 4535.74080133 5790.\n",
      "  4539.27133335 4596.78323714 3384.00760296 4645.18057217 4590.16909042\n",
      "  4572.09897995 4572.306063   3227.46190344 4569.37448384 3427.25452985\n",
      "  4662.91718658 4607.00281517 4570.12782079]\n",
      " [6643.73963404 5567.27791167 5626.46066353 4526.80457468 4539.27133335\n",
      "  8100.         5662.56860437 3456.92247106 4851.15189832 5512.94352162\n",
      "  4701.93544446 7111.08164903 3161.95467299 7149.17711551 3517.13980027\n",
      "  4822.94086839 6526.74248855 5739.49337489]\n",
      " [5558.96772781 5568.85443127 5495.38641517 4626.38099624 4596.78323714\n",
      "  5662.56860437 7062.         3357.60045754 4658.97262461 5564.47235476\n",
      "  4777.56998965 5658.71454532 3133.03179749 5651.87171615 3389.49449896\n",
      "  4821.16953236 5468.95610876 5651.54169271]\n",
      " [3360.72488356 3314.99197187 3310.03308112 3304.05927985 3384.00760296\n",
      "  3456.92247106 3357.60045754 4250.         3557.8049797  3299.78367562\n",
      "  3381.55470742 3454.87134264 3298.95009253 3490.91521796 3687.09507092\n",
      "  3470.14193591 3324.20212372 3431.91503066]\n",
      " [4705.0742665  4585.23130714 4703.56040424 4573.79900477 4645.18057217\n",
      "  4851.15189832 4658.97262461 3557.8049797  5790.         4577.99292467\n",
      "  4682.02602007 4814.99640582 3121.3328971  4855.21628488 3600.11368113\n",
      "  4816.43612441 4645.72718553 4894.08901826]\n",
      " [5600.89863874 5566.04705228 5745.46358965 4459.47987685 4590.16909042\n",
      "  5512.94352162 5564.47235476 3299.78367562 4577.99292467 7062.\n",
      "  4607.15960708 5527.66087316 3111.52298498 5570.82244971 3383.22139033\n",
      "  4627.72144911 5597.84966394 5488.40763223]\n",
      " [4599.26826703 4632.36639085 4543.62950147 4746.95492816 4572.09897995\n",
      "  4701.93544446 4777.56998965 3381.55470742 4682.02602007 4607.15960708\n",
      "  5790.         4703.55861343 3206.1152265  4729.86239199 3484.3326622\n",
      "  4758.54958521 4604.30595868 4726.55001232]\n",
      " [6676.31569514 5541.94998934 5637.22019447 4560.69670467 4572.306063\n",
      "  7111.08164903 5658.71454532 3454.87134264 4814.99640582 5527.66087316\n",
      "  4703.55861343 8100.         3150.0519388  7177.94711009 3539.46302436\n",
      "  4862.14955996 6561.54527208 5774.35545836]\n",
      " [3144.96748543 3212.02960624 3037.22276233 3190.64305602 3227.46190344\n",
      "  3161.95467299 3133.03179749 3298.95009253 3121.3328971  3111.52298498\n",
      "  3206.1152265  3150.0519388  4186.         3155.53558206 3265.84633873\n",
      "  3134.6893343  3150.14337177 3109.15793662]\n",
      " [6630.98032713 5564.03310419 5634.89227735 4568.2485906  4569.37448384\n",
      "  7149.17711551 5651.87171615 3490.91521796 4855.21628488 5570.82244971\n",
      "  4729.86239199 7177.94711009 3155.53558206 8100.         3573.20620197\n",
      "  4899.06802224 6519.24209154 5764.02498437]\n",
      " [3383.88850821 3358.01350069 3336.09131522 3352.27789765 3427.25452985\n",
      "  3517.13980027 3389.49449896 3687.09507092 3600.11368113 3383.22139033\n",
      "  3484.3326622  3539.46302436 3265.84633873 3573.20620197 4250.\n",
      "  3506.35533112 3412.470617   3472.58581797]\n",
      " [4719.35814776 4630.50584553 4696.09175527 4609.47851609 4662.91718658\n",
      "  4822.94086839 4821.16953236 3470.14193591 4816.43612441 4627.72144911\n",
      "  4758.54958521 4862.14955996 3134.6893343  4899.06802224 3506.35533112\n",
      "  5790.         4640.75806153 4927.88946675]\n",
      " [6730.86930353 5564.32562815 5606.85433649 4440.09915819 4607.00281517\n",
      "  6526.74248855 5468.95610876 3324.20212372 4645.72718553 5597.84966394\n",
      "  4604.30595868 6561.54527208 3150.14337177 6519.24209154 3412.470617\n",
      "  4640.75806153 8100.         5423.64088437]\n",
      " [5557.91925192 5417.8938484  5617.5737391  4587.57085817 4570.12782079\n",
      "  5739.49337489 5651.54169271 3431.91503066 4894.08901826 5488.40763223\n",
      "  4726.55001232 5774.35545836 3109.15793662 5764.02498437 3472.58581797\n",
      "  4927.88946675 5423.64088437 6896.        ]]\n"
     ]
    }
   ],
   "source": [
    "K = np.load('/Users/antoniomendez/Desktop/Tesis/thesis/vector_files/km_to_norm.npy')\n",
    "print(K)"
   ]
  },
  {
   "cell_type": "code",
   "execution_count": 14,
   "id": "8796a69a",
   "metadata": {},
   "outputs": [
    {
     "data": {
      "image/png": "[encoded data removed]",
      "text/plain": [
       "<Figure size 640x480 with 2 Axes>"
      ]
     },
     "metadata": {},
     "output_type": "display_data"
    }
   ],
   "source": [
    "plt.imshow(K, cmap='viridis')\n",
    "plt.colorbar()\n",
    "plt.title('Matriz de Kernel K')\n",
    "plt.show()"
   ]
  },
  {
   "cell_type": "code",
   "execution_count": 13,
   "id": "a6f7d7ef",
   "metadata": {},
   "outputs": [
    {
     "name": "stdout",
     "output_type": "stream",
     "text": [
      "[[1.         0.74439784 0.76442896 0.66569806 0.68591137 0.82021477\n",
      "  0.73500076 0.57279074 0.68704422 0.74054482 0.67159422 0.82423651\n",
      "  0.54009983 0.81863955 0.57673867 0.68912998 0.83097152 0.74365431]\n",
      " [0.74439784 1.         0.79299655 0.7129033  0.72596701 0.73609952\n",
      "  0.78856619 0.60509583 0.71706432 0.78816866 0.72443557 0.73275069\n",
      "  0.59076679 0.7356705  0.61294868 0.7241446  0.73570917 0.77636868]\n",
      " [0.76442896 0.79299655 1.         0.70590497 0.72578228 0.7439246\n",
      "  0.7781629  0.60419067 0.73556929 0.81357457 0.71055839 0.74534721\n",
      "  0.55861575 0.74503942 0.60894716 0.7344013  0.74133227 0.80498224]\n",
      " [0.66569806 0.7129033  0.70590497 1.         0.79372378 0.66974532\n",
      "  0.73305741 0.6748602  0.80038371 0.70661166 0.83068482 0.67475969\n",
      "  0.65665772 0.675877   0.68470894 0.80662738 0.65691716 0.73560489]\n",
      " [0.68591137 0.72596701 0.72578228 0.79372378 1.         0.66283335\n",
      "  0.71887087 0.6821778  0.80227644 0.71783651 0.7896544  0.66765715\n",
      "  0.65557477 0.66722907 0.69089589 0.80533976 0.67272364 0.72325332]\n",
      " [0.82021477 0.73609952 0.7439246  0.66974532 0.66283335 1.\n",
      "  0.74869875 0.58918633 0.70837477 0.72891549 0.68658589 0.87791131\n",
      "  0.54301712 0.88261446 0.59944958 0.70425534 0.80577068 0.76794908]\n",
      " [0.73500076 0.78856619 0.7781629  0.73305741 0.71887087 0.74869875\n",
      "  1.         0.61287329 0.7285964  0.78794567 0.74714332 0.74818917\n",
      "  0.57623726 0.74728442 0.61869501 0.75396167 0.72309952 0.80984975]\n",
      " [0.57279074 0.60509583 0.60419067 0.6748602  0.6821778  0.58918633\n",
      "  0.61287329 1.         0.71721339 0.60231981 0.68168333 0.58883675\n",
      "  0.78213491 0.59497994 0.86755178 0.69954151 0.56656592 0.63393311]\n",
      " [0.68704422 0.71706432 0.73556929 0.80038371 0.80227644 0.70837477\n",
      "  0.7285964  0.71721339 1.         0.71593234 0.80864007 0.70309527\n",
      "  0.63401743 0.70896826 0.72574235 0.83185425 0.67837824 0.77452235]\n",
      " [0.74054482 0.78816866 0.81357457 0.70661166 0.71783651 0.72891549\n",
      "  0.78794567 0.60231981 0.71593234 1.         0.72049359 0.7308614\n",
      "  0.57228129 0.73656818 0.61754996 0.72370916 0.74014169 0.78647311]\n",
      " [0.67159422 0.72443557 0.71055839 0.83068482 0.7896544  0.68658589\n",
      "  0.74714332 0.68168333 0.80864007 0.72049359 1.         0.6868229\n",
      "  0.65123875 0.69066383 0.7024022  0.82185658 0.67232983 0.74800818]\n",
      " [0.82423651 0.73275069 0.74534721 0.67475969 0.66765715 0.87791131\n",
      "  0.74818917 0.58883675 0.70309527 0.7308614  0.6868229  1.\n",
      "  0.540973   0.88616631 0.60325427 0.70998067 0.81006732 0.77261365]\n",
      " [0.54009983 0.59076679 0.55861575 0.65665772 0.65557477 0.54301712\n",
      "  0.57623726 0.78213491 0.63401743 0.57228129 0.65123875 0.540973\n",
      "  1.         0.54191474 0.77428647 0.63673044 0.54098871 0.57868809]\n",
      " [0.81863955 0.7356705  0.74503942 0.675877   0.66722907 0.88261446\n",
      "  0.74728442 0.59497994 0.70896826 0.73656818 0.69066383 0.88616631\n",
      "  0.54191474 1.         0.60900535 0.71537157 0.8048447  0.77123143]\n",
      " [0.57673867 0.61294868 0.60894716 0.68470894 0.69089589 0.59944958\n",
      "  0.61869501 0.86755178 0.72574235 0.61754996 0.7024022  0.60325427\n",
      "  0.77428647 0.60900535 1.         0.70684173 0.58161011 0.6414457 ]\n",
      " [0.68912998 0.7241446  0.7344013  0.80662738 0.80533976 0.70425534\n",
      "  0.75396167 0.69954151 0.83185425 0.72370916 0.82185658 0.70998067\n",
      "  0.63673044 0.71537157 0.70684173 1.         0.67765264 0.7798715 ]\n",
      " [0.83097152 0.73570917 0.74133227 0.65691716 0.67272364 0.80577068\n",
      "  0.72309952 0.56656592 0.67837824 0.74014169 0.67232983 0.81006732\n",
      "  0.54098871 0.8048447  0.58161011 0.67765264 1.         0.72568775]\n",
      " [0.74365431 0.77636868 0.80498224 0.73560489 0.72325332 0.76794908\n",
      "  0.80984975 0.63393311 0.77452235 0.78647311 0.74800818 0.77261365\n",
      "  0.57868809 0.77123143 0.6414457  0.7798715  0.72568775 1.        ]]\n"
     ]
    }
   ],
   "source": [
    "K_norm = normalize_matrix(K)\n",
    "print(K_norm)"
   ]
  },
  {
   "cell_type": "code",
   "execution_count": 15,
   "id": "166abb8d",
   "metadata": {},
   "outputs": [
    {
     "data": {
      "image/png": "[encoded data removed]",
      "text/plain": [
       "<Figure size 640x480 with 2 Axes>"
      ]
     },
     "metadata": {},
     "output_type": "display_data"
    }
   ],
   "source": [
    "plt.imshow(K_norm, cmap='viridis')\n",
    "plt.colorbar()\n",
    "plt.title('Matriz de Kernel K Normalizada')\n",
    "plt.show()"
   ]
  },
  {
   "cell_type": "code",
   "execution_count": 4,
   "id": "d9f149d2",
   "metadata": {},
   "outputs": [
    {
     "name": "stdout",
     "output_type": "stream",
     "text": [
      "[ 3412. 10188. 11918. 12547. 12156.  8930.  7832. 13558. 14053. 14127.\n",
      " 14046. 13646.  9559.  8786. 14288. 15497. 15468. 15409. 14746. 10361.\n",
      "  9133. 14941. 15411. 15396. 15143. 14558. 10234.  9164. 15447. 15722.\n",
      " 15915. 15537. 14954.  9873.  8428.  8051. 15451. 15849. 15690. 15389.\n",
      " 10578.  9436. 15314. 14887. 14133. 14760.  6575.  9849.  8931. 15016.\n",
      " 15857. 15848. 15804. 14812. 10009.  9149. 15348. 16082. 15804. 16318.\n",
      " 15334. 10439.  8978. 15751. 16454. 16211. 15815. 15062. 10295.  9148.\n",
      " 15642. 15975. 15941. 15904. 15407. 10090.  8680.  8397. 15834. 16144.\n",
      " 16182. 15587. 10082.  8418. 12129. 12678. 12310.  9049.  7059.  7206.\n",
      "  8312. 12741. 13338. 13287. 13418. 12702.  9390.  8906. 14773. 15620.\n",
      " 16161. 16032. 15528. 10214.  9186. 16025. 16796. 15985. 15674. 15138.\n",
      " 10123.  8522. 15583. 15700. 15198. 15092. 14906.  9922.  8399. 15200.\n",
      " 15749.  8401. 15650. 15434. 10174.  8598. 15368. 15873. 15348. 15455.\n",
      " 13066.  9885.  8204. 15370. 16164. 14600. 15946. 14920. 10210.  8317.\n",
      " 14966. 15446. 15506. 14874. 14164.  9569.  7964. 13954. 14083. 14386.\n",
      " 14859. 14052.  9436.  8581. 13881. 14679. 14908. 14695. 13708.  9408.\n",
      "  8453. 13000. 15434. 14892. 14859. 14377. 10591.  7545. 14214. 14860.\n",
      " 15030. 13169. 12850.  9622.  7843. 11078. 12852. 14570. 12346. 10829.\n",
      "  8942.  8348. 13547. 12268. 13833. 14386. 13963.  9594.  8766. 13017.\n",
      " 13990. 13923. 11667. 13837. 10195.  8369. 11688. 13778. 12694. 12715.\n",
      " 12618.  7179.  7685. 13109. 12160. 12438. 11153. 10722.  8992.  7797.\n",
      " 12045. 12133. 13916. 13196. 13157.  9487.  8748. 11788. 14679. 14205.\n",
      " 13882. 13156.  9715.  8686. 14303. 14507. 11829. 15301. 14340.  8211.\n",
      "  8424. 14294. 15213. 15194. 15131. 14004. 10040.  8942. 15080. 15897.\n",
      " 15460. 13978. 13912. 10135.  8894. 12835. 15257. 15035. 15605. 14495.\n",
      " 10023.  9328. 15404. 15509. 16092. 15702. 15314.  9612.  7854.  7007.\n",
      " 15203. 16045. 16036. 15211. 10373.  9331. 15069. 15334. 15801. 15789.\n",
      "  9112.  9425.  8872. 14505.  8427. 15772. 15334. 14568.  9868.  8616.\n",
      " 14547. 14636. 15769. 15355. 14705.  9585.  8674. 15231. 15743. 16210.\n",
      " 15900. 15273. 10132.  8753. 15053. 15876. 15752. 15184. 14276.  9893.\n",
      "  8400. 14729. 15455. 15947. 15027. 14315.  9646.  8389. 14934. 15893.\n",
      " 15468. 15337. 14605.  9934.  8774. 14935. 15806. 15095. 15380. 14183.\n",
      "  9551.  7975.  8066. 15237. 15590. 15484. 14726.  9961.  8958. 14200.\n",
      " 15152. 15059. 14718. 13734.  9984.  8459. 14252. 14454. 14646. 14682.\n",
      " 14091. 10091.  8540. 13837. 14499. 14382. 13921. 13585.  9944.  8518.\n",
      " 13484. 13739. 13619. 13000. 12274.  9181.  7444. 10537.  7074.  2782.\n",
      "  8646.  9211.  7517.  7109.  9451.  7080.] 366\n"
     ]
    }
   ],
   "source": [
    "v1 = np.load('/Users/antoniomendez/Desktop/Tesis/thesis/vector_files/mibici_trips_M_Retiro_2024.npy')\n",
    "v2 = np.load('/Users/antoniomendez/Desktop/Tesis/thesis/vector_files/mibici_trips_F_Retiro_2024.npy')\n",
    "v3 = np.load('/Users/antoniomendez/Desktop/Tesis/thesis/vector_files/mibici_trips_M_F_Retiro_2024.npy')\n",
    "\n",
    "total_trips = v1 + v2 + v3\n",
    "total_trips = np.sum(total_trips, axis=1)\n",
    "print(total_trips, len(total_trips))"
   ]
  },
  {
   "cell_type": "code",
   "execution_count": 5,
   "id": "30c57fd5",
   "metadata": {},
   "outputs": [],
   "source": [
    "np.save('vector_files/total_trips_mibici_2024.npy', total_trips)"
   ]
  },
  {
   "cell_type": "code",
   "execution_count": 6,
   "id": "1985f07a",
   "metadata": {},
   "outputs": [
    {
     "data": {
      "text/plain": [
       "(366, 168, 168)"
      ]
     },
     "execution_count": 6,
     "metadata": {},
     "output_type": "execute_result"
    }
   ],
   "source": [
    "flows = np.load('/Users/antoniomendez/Desktop/Tesis/thesis/vector_files/flows_mibici_2024.npy')\n",
    "flows.shape"
   ]
  },
  {
   "cell_type": "code",
   "execution_count": 7,
   "id": "dce578af",
   "metadata": {},
   "outputs": [
    {
     "name": "stdout",
     "output_type": "stream",
     "text": [
      "[12226. 33240. 39785. 41530. 42252. 28661. 27575. 48214. 51624. 52726.\n",
      " 52595. 50986. 32712. 32944. 52825. 56279. 57138. 56416. 54262. 33594.\n",
      " 30206. 54097. 57886. 58315. 58150. 55392. 35249. 33494. 54091. 59380.\n",
      " 60264. 56347. 55815. 34521. 35770. 31968. 58862. 61145. 61013. 59805.\n",
      " 39008. 36470. 57731. 63425. 62271. 61435. 58871. 27909. 36943. 58158.\n",
      " 62750. 62515. 62781. 60946. 47324. 37550. 59716. 64578. 65465. 65177.\n",
      " 64172. 40080. 39723. 62119. 66615. 66514. 68415. 60086. 40363. 40500.\n",
      " 63063. 68567. 67674. 67568. 62535. 39705. 37831. 35330. 65885. 68708.\n",
      " 69283. 65118. 41502. 39754. 57403. 60090. 58641. 40107. 34590. 41793.\n",
      " 36315. 58976. 63955. 63883. 64088. 62681. 41050. 40813. 61259. 68751.\n",
      " 70054. 69898. 68200. 42364. 41439. 64615. 69087. 69692. 70193. 62201.\n",
      " 40967. 38606. 58916. 69645. 71719. 70235. 62343. 42795. 40428. 65417.\n",
      " 70778. 45045. 68893. 63306. 44515. 40758. 65538. 71535. 69162. 70849.\n",
      " 57262. 40441. 39071. 64596. 74774. 69439. 74045. 63395. 42973. 43188.\n",
      " 68838. 72396. 67862. 68005. 54325. 42018. 34951. 66878. 72548. 70803.\n",
      " 71545. 69535. 43776. 40225. 64471. 71706. 70222. 70213. 70091. 41880.\n",
      " 32254. 67582. 73698. 72272. 72165. 69826. 42304. 36240. 67212. 72954.\n",
      " 71400. 68749. 62842. 35597. 29802. 55867. 60022. 64804. 60218. 58834.\n",
      " 43503. 29026. 51113. 67126. 67589. 60086. 66567. 43092. 41577. 64421.\n",
      " 56971. 54901. 64062. 64571. 43128. 32402. 60031. 65725. 60351. 48079.\n",
      " 46688. 35882. 39177. 50945. 58907. 61356. 58317. 52588. 32478. 35140.\n",
      " 51867. 59064. 62124. 62535. 54338. 40439. 38190. 57824. 63223. 64539.\n",
      " 67330. 60446. 42051. 36132. 61984. 62407. 59083. 59098. 51028. 34656.\n",
      " 39206. 63729. 67633. 60041. 68369. 57852. 41192. 42274. 65367. 69587.\n",
      " 58531. 68429. 60435. 44965. 38766. 65231. 63473. 73538. 72553. 68333.\n",
      " 40922. 40816. 67088. 69458. 74235. 67833. 60605. 41072. 33202. 24459.\n",
      " 67865. 70305. 68198. 72003. 42081. 43636. 64059. 72236. 68677. 44985.\n",
      " 48907. 32460. 30754. 54523. 40697. 66302. 70397. 64871. 40838. 35189.\n",
      " 64228. 69937. 70669. 70213. 67127. 41780. 37591. 65725. 69288. 70573.\n",
      " 69584. 67282. 45495. 36513. 47395. 69263. 70053. 68966. 67239. 55808.\n",
      " 38742. 65364. 71226. 73434. 70992. 59479. 40432. 38091. 65637. 72619.\n",
      " 72519. 73485. 71090. 46029. 42141. 68255. 72272. 72134. 68496. 65803.\n",
      " 41227. 37613. 36886. 65526. 60170. 70280. 66196. 41034. 37472. 62358.\n",
      " 68219. 68892. 68078. 66746. 45400. 37654. 63246. 68583. 67516. 70027.\n",
      " 66489. 42792. 38114. 64796. 68314. 68748. 63244. 65871. 42220. 36018.\n",
      " 59641. 62981. 64059. 60937. 56845. 35251. 26754. 45679. 30698. 13646.\n",
      " 40756. 42495. 41132. 31113. 41971. 33581.] 366\n"
     ]
    }
   ],
   "source": [
    "v1 = np.load('/Users/antoniomendez/Desktop/Tesis/thesis/vector_files/trips_M_Retiro_2024.npy')\n",
    "v2 = np.load('/Users/antoniomendez/Desktop/Tesis/thesis/vector_files/trips_F_Retiro_2024.npy')\n",
    "v3 = np.load('/Users/antoniomendez/Desktop/Tesis/thesis/vector_files/trips_M_F_Retiro_2024.npy')\n",
    "\n",
    "total_trips = v1 + v2 + v3\n",
    "total_trips = np.sum(total_trips, axis=1)\n",
    "print(total_trips, len(total_trips))"
   ]
  },
  {
   "cell_type": "code",
   "execution_count": 8,
   "id": "a316b2ec",
   "metadata": {},
   "outputs": [],
   "source": [
    "np.save('vector_files/total_trips_ecobici_2024.npy', total_trips)"
   ]
  },
  {
   "cell_type": "code",
   "execution_count": 10,
   "id": "2631ba01",
   "metadata": {},
   "outputs": [
    {
     "name": "stdout",
     "output_type": "stream",
     "text": [
      "Total trips ecobici 2018: length: 365\n",
      "Total trips mibici 2018: length: 365\n",
      "Total trips ecobici 2019: length: 365\n",
      "Total trips mibici 2019: length: 365\n",
      "Total trips ecobici 2020: length: 366\n",
      "Total trips mibici 2020: length: 366\n",
      "Total trips ecobici 2021: length: 365\n",
      "Total trips mibici 2021: length: 365\n",
      "Total trips ecobici 2022: length: 365\n",
      "Total trips mibici 2022: length: 365\n",
      "Total trips ecobici 2023: length: 365\n",
      "Total trips mibici 2023: length: 365\n",
      "Total trips ecobici 2024: length: 366\n",
      "Total trips mibici 2024: length: 366\n"
     ]
    }
   ],
   "source": [
    "for year in [2018, 2019, 2020, 2021, 2022, 2023, 2024]:\n",
    "    v1 = np.load(f'/Users/antoniomendez/Desktop/Tesis/thesis/vector_files/trips_M_Retiro_{year}.npy')\n",
    "    v2 = np.load(f'/Users/antoniomendez/Desktop/Tesis/thesis/vector_files/trips_F_Retiro_{year}.npy')\n",
    "    v3 = np.load(f'/Users/antoniomendez/Desktop/Tesis/thesis/vector_files/trips_M_F_Retiro_{year}.npy')\n",
    "    total_trips = v1 + v2 + v3\n",
    "    total_trips = np.sum(total_trips, axis=1)\n",
    "    np.save(f'vector_files/total_trips_ecobici_{year}.npy', total_trips)\n",
    "    print(f'Total trips ecobici {year}: length: {len(total_trips)}')\n",
    "\n",
    "    v1 = np.load(f'/Users/antoniomendez/Desktop/Tesis/thesis/vector_files/mibici_trips_M_Retiro_{year}.npy')\n",
    "    v2 = np.load(f'/Users/antoniomendez/Desktop/Tesis/thesis/vector_files/mibici_trips_F_Retiro_{year}.npy')\n",
    "    v3 = np.load(f'/Users/antoniomendez/Desktop/Tesis/thesis/vector_files/mibici_trips_M_F_Retiro_{year}.npy')\n",
    "    total_trips = v1 + v2 + v3\n",
    "    total_trips = np.sum(total_trips, axis=1)\n",
    "    np.save(f'vector_files/total_trips_mibici_{year}.npy', total_trips)\n",
    "    print(f'Total trips mibici {year}: length: {len(total_trips)}')"
   ]
  },
  {
   "cell_type": "code",
   "execution_count": 11,
   "id": "33027ad8",
   "metadata": {},
   "outputs": [
    {
     "name": "stdout",
     "output_type": "stream",
     "text": [
      "50-2020-02-20\n",
      "110-2020-04-20\n"
     ]
    }
   ],
   "source": [
    "dates_20 = np.load('/Users/antoniomendez/Desktop/Tesis/thesis/vector_files/dates_2020.npy')\n",
    "\n",
    "dates_to_consider = ['2020-02-20', '2020-04-20']\n",
    "for i in range(len(dates_20)):\n",
    "    if dates_20[i] in dates_to_consider:\n",
    "        print(f\"{i}-{dates_20[i]}\")"
   ]
  },
  {
   "cell_type": "code",
   "execution_count": 2,
   "id": "0a33f596",
   "metadata": {},
   "outputs": [],
   "source": [
    "dates_24_eco = np.load('/Users/antoniomendez/Desktop/Tesis/thesis/vector_files/dates_2024_eco.npy')\n",
    "dates_24_mibici = np.load('/Users/antoniomendez/Desktop/Tesis/thesis/vector_files/dates_2024_mibici.npy')"
   ]
  },
  {
   "cell_type": "code",
   "execution_count": 3,
   "id": "54bd9005",
   "metadata": {},
   "outputs": [
    {
     "name": "stdout",
     "output_type": "stream",
     "text": [
      "84-2024-03-25\n",
      "95-2024-04-05\n",
      "152-2024-06-01\n",
      "166-2024-06-15\n"
     ]
    }
   ],
   "source": [
    "dates_to_consider = ['2024-03-25', '2024-04-05', '2024-06-01', '2024-06-15']\n",
    "for i in range(len(dates_24_eco)):\n",
    "    if dates_24_eco[i] in dates_to_consider:\n",
    "        print(f\"{i}-{dates_24_eco[i]}\")"
   ]
  },
  {
   "cell_type": "code",
   "execution_count": 5,
   "id": "1ba86763",
   "metadata": {},
   "outputs": [
    {
     "name": "stdout",
     "output_type": "stream",
     "text": [
      "84,85,86,87,88,89,90,91,92,93,94,95,152,153,154,155,156,157,158,159,160,161,162,163,164,"
     ]
    }
   ],
   "source": [
    "list_to_consider = [i for i in range(84, 96)] + [i for i in range(152, 165)] \n",
    "for i in range(len(list_to_consider)):\n",
    "    print(f'{list_to_consider[i]},',end='')"
   ]
  },
  {
   "cell_type": "code",
   "execution_count": 6,
   "id": "78e7731b",
   "metadata": {},
   "outputs": [
    {
     "data": {
      "text/plain": [
       "array(['2024-03-25', '2024-03-26', '2024-03-27', '2024-03-28',\n",
       "       '2024-03-29', '2024-03-30', '2024-03-31', '2024-04-01',\n",
       "       '2024-04-02', '2024-04-03', '2024-04-04', '2024-04-05',\n",
       "       '2024-06-01', '2024-06-02', '2024-06-03', '2024-06-04',\n",
       "       '2024-06-05', '2024-06-06', '2024-06-07', '2024-06-08',\n",
       "       '2024-06-09', '2024-06-10', '2024-06-11', '2024-06-12',\n",
       "       '2024-06-13'], dtype='<U10')"
      ]
     },
     "execution_count": 6,
     "metadata": {},
     "output_type": "execute_result"
    }
   ],
   "source": [
    "dates_to_consider = dates_24_eco[list_to_consider]\n",
    "dates_to_consider"
   ]
  },
  {
   "cell_type": "code",
   "execution_count": 7,
   "id": "179436d2",
   "metadata": {},
   "outputs": [],
   "source": [
    "dates_df = pd.DataFrame({'dates': dates_to_consider})\n",
    "dates_df.to_csv('vector_files/dates_24_apr_jun.csv', index=False)"
   ]
  },
  {
   "cell_type": "code",
   "execution_count": 8,
   "id": "0b41e61c",
   "metadata": {},
   "outputs": [
    {
     "name": "stdout",
     "output_type": "stream",
     "text": [
      "261-2022-09-19\n"
     ]
    }
   ],
   "source": [
    "dates_2022 = np.load('/Users/antoniomendez/Desktop/Tesis/thesis/vector_files/dates_2022.npy')\n",
    "dates_to_consider = ['2022-09-19']\n",
    "for i in range(len(dates_2022)):\n",
    "    if dates_2022[i] in dates_to_consider:\n",
    "        print(f\"{i}-{dates_2022[i]}\")"
   ]
  },
  {
   "cell_type": "code",
   "execution_count": 11,
   "id": "d6738094",
   "metadata": {},
   "outputs": [
    {
     "name": "stdout",
     "output_type": "stream",
     "text": [
      "247,248,249,250,251,252,253,254,255,256,257,258,259,260,261,262,263,264,265,266,267,268,269,270,271,272,273,274,"
     ]
    }
   ],
   "source": [
    "list_to_consider = [i for i in range(247, 275)]\n",
    "for i in range(len(list_to_consider)):\n",
    "    print(f'{list_to_consider[i]},',end='')"
   ]
  },
  {
   "cell_type": "code",
   "execution_count": 12,
   "id": "d887e2d2",
   "metadata": {},
   "outputs": [
    {
     "data": {
      "text/plain": [
       "array(['2022-09-05', '2022-09-06', '2022-09-07', '2022-09-08',\n",
       "       '2022-09-09', '2022-09-10', '2022-09-11', '2022-09-12',\n",
       "       '2022-09-13', '2022-09-14', '2022-09-15', '2022-09-16',\n",
       "       '2022-09-17', '2022-09-18', '2022-09-19', '2022-09-20',\n",
       "       '2022-09-21', '2022-09-22', '2022-09-23', '2022-09-24',\n",
       "       '2022-09-25', '2022-09-26', '2022-09-27', '2022-09-28',\n",
       "       '2022-09-29', '2022-09-30', '2022-10-01', '2022-10-02'],\n",
       "      dtype='<U10')"
      ]
     },
     "execution_count": 12,
     "metadata": {},
     "output_type": "execute_result"
    }
   ],
   "source": [
    "dates_22 = dates_2022[list_to_consider]\n",
    "dates_22"
   ]
  },
  {
   "cell_type": "code",
   "execution_count": 14,
   "id": "8a8c0aee",
   "metadata": {},
   "outputs": [],
   "source": [
    "dates_df = pd.DataFrame({'dates': dates_22})\n",
    "dates_df.to_csv('vector_files/dates_22_sep.csv', index=False)"
   ]
  },
  {
   "cell_type": "code",
   "execution_count": 2,
   "id": "50b73935",
   "metadata": {},
   "outputs": [],
   "source": [
    "dates_24_eco = np.load('/Users/antoniomendez/Desktop/Tesis/thesis/vector_files/dates_2024_eco.npy')\n",
    "dates_24_mibici = np.load('/Users/antoniomendez/Desktop/Tesis/thesis/vector_files/dates_2024_mibici.npy')\n",
    "total_trips_24_eco = np.load('/Users/antoniomendez/Desktop/Tesis/thesis/vector_files/total_trips_ecobici_2024.npy')\n",
    "total_trips_24_mibici = np.load('/Users/antoniomendez/Desktop/Tesis/thesis/vector_files/total_trips_mibici_2024.npy')"
   ]
  },
  {
   "cell_type": "code",
   "execution_count": 7,
   "id": "10c277d6",
   "metadata": {},
   "outputs": [],
   "source": [
    "mean_trips_eco = np.mean(total_trips_24_eco)\n",
    "mean_trips_mibici = np.mean(total_trips_24_mibici)"
   ]
  },
  {
   "cell_type": "code",
   "execution_count": 3,
   "id": "700077cd",
   "metadata": {},
   "outputs": [
    {
     "name": "stdout",
     "output_type": "stream",
     "text": [
      "274-2024-10-01 - 40697.0\n",
      "304-2024-10-31 - 70992.0\n"
     ]
    }
   ],
   "source": [
    "dates_steps = ['2024-10-01', '2024-10-31']\n",
    "for i in range(len(dates_24_eco)):\n",
    "    if dates_24_eco[i] in dates_steps:\n",
    "        print(f\"{i}-{dates_24_eco[i]} - {total_trips_24_eco[i]}\")"
   ]
  },
  {
   "cell_type": "code",
   "execution_count": 5,
   "id": "b7cb0b0b",
   "metadata": {},
   "outputs": [
    {
     "data": {
      "text/plain": [
       "array(['2024-10-01', '2024-10-02', '2024-10-03', '2024-10-04',\n",
       "       '2024-10-05', '2024-10-06', '2024-10-07', '2024-10-08',\n",
       "       '2024-10-09', '2024-10-10', '2024-10-11', '2024-10-12',\n",
       "       '2024-10-13', '2024-10-14', '2024-10-15', '2024-10-16',\n",
       "       '2024-10-17', '2024-10-18', '2024-10-19', '2024-10-20',\n",
       "       '2024-10-21', '2024-10-22', '2024-10-23', '2024-10-24',\n",
       "       '2024-10-25', '2024-10-26', '2024-10-27', '2024-10-28',\n",
       "       '2024-10-29', '2024-10-30', '2024-10-31'], dtype='<U10')"
      ]
     },
     "execution_count": 5,
     "metadata": {},
     "output_type": "execute_result"
    }
   ],
   "source": [
    "list_to_consider = [i for i in range(274, 305)]\n",
    "dates_to_consider = dates_24_eco[list_to_consider]\n",
    "dates_to_consider"
   ]
  },
  {
   "cell_type": "code",
   "execution_count": 12,
   "id": "1abd49f3",
   "metadata": {},
   "outputs": [
    {
     "name": "stdout",
     "output_type": "stream",
     "text": [
      "274,275,276,277,278,279,280,281,282,283,284,285,286,287,288,289,290,291,292,293,294,295,296,297,298,299,300,301,302,303,304,"
     ]
    }
   ],
   "source": [
    "for i in list_to_consider:\n",
    "    print(f'{i},',end='')"
   ]
  },
  {
   "cell_type": "code",
   "execution_count": 6,
   "id": "9402787b",
   "metadata": {},
   "outputs": [],
   "source": [
    "dates_df = pd.DataFrame({'dates': dates_to_consider})\n",
    "dates_df.to_csv('vector_files/dates_24_oct.csv', index=False)"
   ]
  },
  {
   "cell_type": "code",
   "execution_count": 8,
   "id": "00062abf",
   "metadata": {},
   "outputs": [
    {
     "data": {
      "image/png": "[encoded data removed]",
      "text/plain": [
       "<Figure size 640x480 with 1 Axes>"
      ]
     },
     "metadata": {},
     "output_type": "display_data"
    }
   ],
   "source": [
    "plt.plot(total_trips_24_eco)\n",
    "plt.hlines(mean_trips_eco, xmin=0, xmax=len(total_trips_24_eco)-1, colors='r', linestyles='dashed')\n",
    "plt.show()"
   ]
  },
  {
   "cell_type": "code",
   "execution_count": 9,
   "id": "e4161e7c",
   "metadata": {},
   "outputs": [
    {
     "data": {
      "image/png": "[encoded data removed]",
      "text/plain": [
       "<Figure size 640x480 with 1 Axes>"
      ]
     },
     "metadata": {},
     "output_type": "display_data"
    }
   ],
   "source": [
    "plt.plot(total_trips_24_mibici)\n",
    "plt.hlines(mean_trips_mibici, xmin=0, xmax=len(total_trips_24_mibici)-1, colors='r', linestyles='dashed')\n",
    "plt.show()"
   ]
  },
  {
   "cell_type": "code",
   "execution_count": 13,
   "id": "c889f002",
   "metadata": {},
   "outputs": [
    {
     "data": {
      "text/plain": [
       "[np.str_('2024-10-01'),\n",
       " np.str_('2024-10-02'),\n",
       " np.str_('2024-10-03'),\n",
       " np.str_('2024-10-04'),\n",
       " np.str_('2024-10-07'),\n",
       " np.str_('2024-10-08'),\n",
       " np.str_('2024-10-09'),\n",
       " np.str_('2024-10-10'),\n",
       " np.str_('2024-10-11'),\n",
       " np.str_('2024-10-14'),\n",
       " np.str_('2024-10-15'),\n",
       " np.str_('2024-10-16'),\n",
       " np.str_('2024-10-17'),\n",
       " np.str_('2024-10-18'),\n",
       " np.str_('2024-10-21'),\n",
       " np.str_('2024-10-22'),\n",
       " np.str_('2024-10-23'),\n",
       " np.str_('2024-10-24'),\n",
       " np.str_('2024-10-25'),\n",
       " np.str_('2024-10-28'),\n",
       " np.str_('2024-10-29'),\n",
       " np.str_('2024-10-30'),\n",
       " np.str_('2024-10-31')]"
      ]
     },
     "execution_count": 13,
     "metadata": {},
     "output_type": "execute_result"
    }
   ],
   "source": [
    "oct_weekends = ['2024-10-05', '2024-10-06', '2024-10-12', '2024-10-13', '2024-10-19', '2024-10-20', '2024-10-26', '2024-10-27']\n",
    "\n",
    "dates_to_consider = [date for date in dates_to_consider if date not in oct_weekends]\n",
    "dates_to_consider"
   ]
  },
  {
   "cell_type": "code",
   "execution_count": 14,
   "id": "d2f5427f",
   "metadata": {},
   "outputs": [],
   "source": [
    "dates_df = pd.DataFrame({'dates': dates_to_consider})\n",
    "dates_df.to_csv('vector_files/dates_24_oct_no_weekends.csv', index=False)"
   ]
  },
  {
   "cell_type": "code",
   "execution_count": 15,
   "id": "8232a21d",
   "metadata": {},
   "outputs": [],
   "source": [
    "list_to_consider = []\n",
    "for i in range(len(dates_24_eco)):\n",
    "    if dates_24_eco[i] in dates_to_consider:\n",
    "        list_to_consider.append(i)"
   ]
  },
  {
   "cell_type": "code",
   "execution_count": 16,
   "id": "ab1a4b63",
   "metadata": {},
   "outputs": [
    {
     "name": "stdout",
     "output_type": "stream",
     "text": [
      "274,275,276,277,280,281,282,283,284,287,288,289,290,291,294,295,296,297,298,301,302,303,304,"
     ]
    }
   ],
   "source": [
    "for i in list_to_consider:\n",
    "    print(f'{i},',end='')"
   ]
  },
  {
   "cell_type": "code",
   "execution_count": 21,
   "id": "ccfa2c76",
   "metadata": {},
   "outputs": [
    {
     "name": "stdout",
     "output_type": "stream",
     "text": [
      "146.77322404371625\n",
      "15.773224043716255\n",
      "383.77322404371625\n",
      "47.226775956283745\n",
      "8.226775956283745\n",
      "372.22677595628375\n",
      "306.22677595628375\n",
      "475.22677595628375\n",
      "156.22677595628375\n",
      "158.22677595628375\n",
      "347.77322404371625\n",
      "425.77322404371625\n",
      "323.22677595628375\n",
      "0.22677595628374547\n",
      "21.226775956283745\n",
      "75.77322404371625\n",
      "415.22677595628375\n",
      "255.77322404371625\n",
      "463.22677595628375\n",
      "462.22677595628375\n",
      "141.22677595628375\n",
      "306.22677595628375\n",
      "419.77322404371625\n",
      "3,85,86,91,95,130,161,171,172,176,178,183,189,198,199,200,203,205,214,221,245,353,354,"
     ]
    }
   ],
   "source": [
    "list_to_consider = []\n",
    "\n",
    "for i in range(len(dates_24_mibici)):\n",
    "    if np.abs(total_trips_24_mibici[i] - mean_trips_mibici) < 500:\n",
    "        list_to_consider.append(i)\n",
    "        print(np.abs(total_trips_24_mibici[i] - mean_trips_mibici))\n",
    "for i in list_to_consider:\n",
    "    print(f'{i},',end='')"
   ]
  },
  {
   "cell_type": "code",
   "execution_count": 20,
   "id": "7a2a7361",
   "metadata": {},
   "outputs": [
    {
     "data": {
      "text/plain": [
       "array(['2024-01-04', '2024-03-26', '2024-03-27', '2024-04-01',\n",
       "       '2024-04-05', '2024-05-10', '2024-06-10', '2024-06-20',\n",
       "       '2024-06-21', '2024-06-25', '2024-06-27', '2024-07-02',\n",
       "       '2024-07-08', '2024-07-17', '2024-07-18', '2024-07-19',\n",
       "       '2024-07-22', '2024-07-24', '2024-08-02', '2024-08-09',\n",
       "       '2024-09-02', '2024-12-19', '2024-12-20'], dtype='<U10')"
      ]
     },
     "execution_count": 20,
     "metadata": {},
     "output_type": "execute_result"
    }
   ],
   "source": [
    "dates_mibici_mean = dates_24_mibici[list_to_consider]\n",
    "dates_mibici_mean"
   ]
  },
  {
   "cell_type": "code",
   "execution_count": 32,
   "id": "62580231",
   "metadata": {},
   "outputs": [],
   "source": [
    "dates_df = pd.DataFrame({'dates': dates_mibici_mean})\n",
    "dates_df.to_csv('vector_files/dates_24_mean_mibici.csv', index=False)"
   ]
  },
  {
   "cell_type": "code",
   "execution_count": 33,
   "id": "e96f7205",
   "metadata": {},
   "outputs": [
    {
     "name": "stdout",
     "output_type": "stream",
     "text": [
      "2485.819672131147\n",
      "968.180327868853\n",
      "1827.180327868853\n",
      "1105.180327868853\n",
      "1048.819672131147\n",
      "1213.819672131147\n",
      "81.18032786885306\n",
      "1219.819672131147\n",
      "1036.180327868853\n",
      "504.18032786885306\n",
      "2420.180327868853\n",
      "2092.180327868853\n",
      "1951.180327868853\n",
      "985.819672131147\n",
      "556.180327868853\n",
      "1660.180327868853\n",
      "409.81967213114694\n",
      "972.819672131147\n",
      "787.819672131147\n",
      "497.18032786885306\n",
      "1534.180327868853\n",
      "14,15,16,17,18,21,25,28,31,32,42,84,130,144,175,190,191,214,273,299,354,"
     ]
    }
   ],
   "source": [
    "list_to_consider = []\n",
    "for i in range(len(total_trips_24_eco)):\n",
    "    if np.abs(total_trips_24_eco[i] - mean_trips_eco) < 2500:\n",
    "        list_to_consider.append(i)\n",
    "        print(np.abs(total_trips_24_eco[i] - mean_trips_eco))\n",
    "for i in list_to_consider:\n",
    "    print(f'{i},',end='')"
   ]
  },
  {
   "cell_type": "code",
   "execution_count": 34,
   "id": "c6ad4933",
   "metadata": {},
   "outputs": [
    {
     "data": {
      "text/plain": [
       "array(['2024-01-15', '2024-01-16', '2024-01-17', '2024-01-18',\n",
       "       '2024-01-19', '2024-01-22', '2024-01-26', '2024-01-29',\n",
       "       '2024-02-01', '2024-02-02', '2024-02-12', '2024-03-25',\n",
       "       '2024-05-10', '2024-05-24', '2024-06-24', '2024-07-09',\n",
       "       '2024-07-10', '2024-08-02', '2024-09-30', '2024-10-26',\n",
       "       '2024-12-20'], dtype='<U10')"
      ]
     },
     "execution_count": 34,
     "metadata": {},
     "output_type": "execute_result"
    }
   ],
   "source": [
    "dates_eco_mean = dates_24_eco[list_to_consider]\n",
    "dates_eco_mean"
   ]
  },
  {
   "cell_type": "code",
   "execution_count": 35,
   "id": "e9fbb6f2",
   "metadata": {},
   "outputs": [],
   "source": [
    "dates_df = pd.DataFrame({'dates': dates_eco_mean})\n",
    "dates_df.to_csv('vector_files/dates_24_mean_eco.csv', index=False)"
   ]
  },
  {
   "cell_type": "code",
   "execution_count": null,
   "id": "d2bc096d",
   "metadata": {},
   "outputs": [],
   "source": []
  }
 ],
 "metadata": {
  "kernelspec": {
   "display_name": "myenv",
   "language": "python",
   "name": "python3"
  },
  "language_info": {
   "codemirror_mode": {
    "name": "ipython",
    "version": 3
   },
   "file_extension": ".py",
   "mimetype": "text/x-python",
   "name": "python",
   "nbconvert_exporter": "python",
   "pygments_lexer": "ipython3",
   "version": "3.12.9"
  }
 },
 "nbformat": 4,
 "nbformat_minor": 5
}
