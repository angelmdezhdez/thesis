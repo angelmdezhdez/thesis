{
 "cells": [
  {
   "cell_type": "code",
   "execution_count": 25,
   "metadata": {},
   "outputs": [],
   "source": [
    "#libraries\n",
    "import numpy as np\n",
    "import matplotlib.pyplot as plt\n",
    "import pandas as pd\n",
    "import os\n",
    "import time"
   ]
  },
  {
   "cell_type": "code",
   "execution_count": 38,
   "metadata": {},
   "outputs": [],
   "source": [
    "# Floyd-Warshall algorithm\n",
    "def floyd_warshall(AdjMatrix):\n",
    "    n = len(AdjMatrix)\n",
    "    cost = np.copy(AdjMatrix)\n",
    "    cost[cost == 0] = np.inf\n",
    "    for k in range(n):\n",
    "        for i in range(n):\n",
    "            for j in range(n):\n",
    "                cost[i, j] = min(cost[i, j], cost[i, k] + cost[k, j])\n",
    "    return cost"
   ]
  },
  {
   "cell_type": "code",
   "execution_count": 41,
   "metadata": {},
   "outputs": [],
   "source": [
    "# shortest path kernel\n",
    "\n",
    "def shortest_path_kernel(S1, S2, k_walk):\n",
    "    n = len(S1)\n",
    "    m = len(S2)\n",
    "    K = 0\n",
    "    for i1 in range(n):\n",
    "        for j1 in range(i1, n):\n",
    "            for i2 in range(m):\n",
    "                for j2 in range(i2, m):\n",
    "                    if S1[i1,j1] != np.inf and S2[i2,j2] != np.inf:\n",
    "                        K += k_walk(S1[i1,j1], S2[i2,j2])\n",
    "    return K"
   ]
  },
  {
   "cell_type": "code",
   "execution_count": 13,
   "metadata": {},
   "outputs": [],
   "source": [
    "# kernel walk functions\n",
    "def dirac_kernel(a, b):\n",
    "    if a == b:\n",
    "        return 1\n",
    "    else:\n",
    "        return 0"
   ]
  },
  {
   "cell_type": "code",
   "execution_count": 15,
   "metadata": {},
   "outputs": [],
   "source": [
    "def count_trips_mibici(data_user, threshold = 5, complement = False):\n",
    "    viajes_user = data_user.groupby([data_user[['Origen_Id', 'Destino_Id']].min(axis=1), data_user[['Origen_Id', 'Destino_Id']].max(axis=1)]).size().reset_index(name='counts')\n",
    "    viajes_user.columns = ['Est_A', 'Est_B', 'counts']\n",
    "    if not complement:\n",
    "        viajes_user = viajes_user[viajes_user['counts'] >= threshold]\n",
    "    else:\n",
    "        viajes_user = viajes_user[viajes_user['counts'] < threshold]\n",
    "    if viajes_user.empty:\n",
    "        return None\n",
    "    total = viajes_user['counts'].sum()\n",
    "    viajes_user['prob'] = viajes_user['counts']/total\n",
    "    viajes_user = viajes_user.sort_values(by = 'prob', ascending = False).reset_index(drop=True)\n",
    "    return viajes_user\n",
    "\n",
    "def compute_matrix(counter_user, normalized = False, self_loops = False):\n",
    "    if not self_loops:\n",
    "        counter_user = counter_user[counter_user['Est_A'] != counter_user['Est_B']]\n",
    "    vertex = list(set(counter_user['Est_A'].unique().tolist() + counter_user['Est_B'].unique().tolist()))\n",
    "    matrix = np.zeros((len(vertex), len(vertex)))\n",
    "    for i in range(len(counter_user)):\n",
    "        current_trip = counter_user.iloc[i]\n",
    "        count = current_trip[\"counts\"]\n",
    "        estA = current_trip[\"Est_A\"]\n",
    "        estB = current_trip[\"Est_B\"]\n",
    "\n",
    "        matrix[vertex.index(estA)][vertex.index(estB)] = count\n",
    "        matrix[vertex.index(estB)][vertex.index(estA)] = count\n",
    "    if normalized:\n",
    "        D = np.sum(matrix, axis = 1)\n",
    "        D = np.diag(D)\n",
    "        D = np.linalg.inv(np.sqrt(D))\n",
    "        matrix = np.sqrt(D) @ matrix @ np.sqrt(D)\n",
    "    return matrix"
   ]
  },
  {
   "cell_type": "code",
   "execution_count": 16,
   "metadata": {},
   "outputs": [],
   "source": [
    "#dir = '/home/user/Desktop/Datos/'\n",
    "dir = '/Users/antoniomendez/Desktop/Tesis/Datos/datos_limpios/'"
   ]
  },
  {
   "cell_type": "code",
   "execution_count": 19,
   "metadata": {},
   "outputs": [],
   "source": [
    "data_2019 = pd.read_csv(f'{dir}mibici/2019.csv')\n",
    "data1 = data_2019[data_2019['Inicio_del_viaje'].str.startswith('2019-01-01')]\n",
    "data2 = data_2019[data_2019['Inicio_del_viaje'].str.startswith('2019-01-02')]"
   ]
  },
  {
   "cell_type": "code",
   "execution_count": 20,
   "metadata": {},
   "outputs": [],
   "source": [
    "counter_user1 = count_trips_mibici(data1)\n",
    "counter_user2 = count_trips_mibici(data2)"
   ]
  },
  {
   "cell_type": "code",
   "execution_count": 21,
   "metadata": {},
   "outputs": [],
   "source": [
    "m1 = compute_matrix(counter_user1, self_loops=True)\n",
    "m2 = compute_matrix(counter_user2, self_loops=True)"
   ]
  },
  {
   "cell_type": "code",
   "execution_count": 43,
   "metadata": {},
   "outputs": [],
   "source": [
    "s1 = floyd_warshall(m1)\n",
    "s2 = floyd_warshall(m2)"
   ]
  },
  {
   "cell_type": "code",
   "execution_count": 46,
   "metadata": {},
   "outputs": [
    {
     "name": "stdout",
     "output_type": "stream",
     "text": [
      "262\n"
     ]
    }
   ],
   "source": [
    "print(len(s1[s1 != np.inf]))"
   ]
  },
  {
   "cell_type": "code",
   "execution_count": 48,
   "metadata": {},
   "outputs": [
    {
     "name": "stdout",
     "output_type": "stream",
     "text": [
      "14946\n"
     ]
    }
   ],
   "source": [
    "print(len(s2[s2 != np.inf]))"
   ]
  },
  {
   "cell_type": "code",
   "execution_count": 42,
   "metadata": {},
   "outputs": [
    {
     "name": "stdout",
     "output_type": "stream",
     "text": [
      "2134\n",
      "0.17227387428283691\n",
      "34618\n",
      "2.3209142684936523\n",
      "2293064\n",
      "52.57573914527893\n"
     ]
    }
   ],
   "source": [
    "inicio = time.time()    \n",
    "K = shortest_path_kernel(s1, s1, dirac_kernel)\n",
    "print(K)\n",
    "fin = time.time()\n",
    "print(fin - inicio)\n",
    "inicio = time.time()\n",
    "K = shortest_path_kernel(s1, s2, dirac_kernel)\n",
    "print(K)\n",
    "fin = time.time()\n",
    "print(fin - inicio)\n",
    "inicio = time.time()\n",
    "K = shortest_path_kernel(s2, s2, dirac_kernel)\n",
    "print(K)\n",
    "fin = time.time()\n",
    "print(fin - inicio)"
   ]
  },
  {
   "cell_type": "code",
   "execution_count": 49,
   "metadata": {},
   "outputs": [
    {
     "data": {
      "text/plain": [
       "0.494876325459772"
      ]
     },
     "execution_count": 49,
     "metadata": {},
     "output_type": "execute_result"
    }
   ],
   "source": [
    "34618 /(np.sqrt(2134*2293064))"
   ]
  },
  {
   "cell_type": "code",
   "execution_count": null,
   "metadata": {},
   "outputs": [],
   "source": []
  }
 ],
 "metadata": {
  "kernelspec": {
   "display_name": "venv",
   "language": "python",
   "name": "python3"
  },
  "language_info": {
   "codemirror_mode": {
    "name": "ipython",
    "version": 3
   },
   "file_extension": ".py",
   "mimetype": "text/x-python",
   "name": "python",
   "nbconvert_exporter": "python",
   "pygments_lexer": "ipython3",
   "version": "3.12.3"
  }
 },
 "nbformat": 4,
 "nbformat_minor": 2
}
