{
 "cells": [
  {
   "cell_type": "code",
   "execution_count": 1,
   "metadata": {},
   "outputs": [],
   "source": [
    "#libraries\n",
    "import numpy as np\n",
    "import matplotlib.pyplot as plt\n",
    "import pandas as pd\n",
    "import os\n",
    "import requests"
   ]
  },
  {
   "cell_type": "code",
   "execution_count": 11,
   "metadata": {},
   "outputs": [],
   "source": [
    "def send_message(message, channel):\n",
    "    requests.post(f\"https://ntfy.sh/{channel}\",\n",
    "        data=message.encode(encoding='utf-8'))\n",
    "    \n",
    "def leer_matriz(nombre_archivo):\n",
    "    matriz = []\n",
    "    with open(nombre_archivo, 'r') as archivo:\n",
    "        archivo.readline()\n",
    "        archivo.readline()\n",
    "        for linea in archivo:\n",
    "            fila = [float(valor) for valor in linea.strip().split()]\n",
    "            matriz.append(fila)\n",
    "    return matriz"
   ]
  },
  {
   "cell_type": "code",
   "execution_count": 2,
   "metadata": {},
   "outputs": [],
   "source": [
    "# Floyd-Warshall algorithm\n",
    "def floyd_warshall(AdjMatrix):\n",
    "    n = len(AdjMatrix)\n",
    "    cost = np.copy(AdjMatrix)\n",
    "    cost[cost == 0] = np.inf\n",
    "    np.fill_diagonal(cost, 0)\n",
    "    for k in range(n):\n",
    "        for i in range(n):\n",
    "            for j in range(n):\n",
    "                cost[i, j] = min(cost[i, j], cost[i, k] + cost[k, j])\n",
    "    return cost"
   ]
  },
  {
   "cell_type": "code",
   "execution_count": 3,
   "metadata": {},
   "outputs": [],
   "source": [
    "def count_trips_mibici(data_user, threshold = 5, complement = False):\n",
    "    viajes_user = data_user.groupby([data_user[['Origen_Id', 'Destino_Id']].min(axis=1), data_user[['Origen_Id', 'Destino_Id']].max(axis=1)]).size().reset_index(name='counts')\n",
    "    viajes_user.columns = ['Est_A', 'Est_B', 'counts']\n",
    "    if not complement:\n",
    "        viajes_user = viajes_user[viajes_user['counts'] >= threshold]\n",
    "    else:\n",
    "        viajes_user = viajes_user[viajes_user['counts'] < threshold]\n",
    "    if viajes_user.empty:\n",
    "        return None\n",
    "    total = viajes_user['counts'].sum()\n",
    "    viajes_user['prob'] = viajes_user['counts']/total\n",
    "    viajes_user = viajes_user.sort_values(by = 'prob', ascending = False).reset_index(drop=True)\n",
    "    return viajes_user\n",
    "\n",
    "def compute_matrix(counter_user, normalized = False, self_loops = False):\n",
    "    if not self_loops:\n",
    "        counter_user = counter_user[counter_user['Est_A'] != counter_user['Est_B']]\n",
    "    vertex = list(set(counter_user['Est_A'].unique().tolist() + counter_user['Est_B'].unique().tolist()))\n",
    "    matrix = np.zeros((len(vertex), len(vertex)))\n",
    "    for i in range(len(counter_user)):\n",
    "        current_trip = counter_user.iloc[i]\n",
    "        count = current_trip[\"counts\"]\n",
    "        estA = current_trip[\"Est_A\"]\n",
    "        estB = current_trip[\"Est_B\"]\n",
    "\n",
    "        matrix[vertex.index(estA)][vertex.index(estB)] = count\n",
    "        matrix[vertex.index(estB)][vertex.index(estA)] = count\n",
    "    if normalized:\n",
    "        D = np.sum(matrix, axis = 1)\n",
    "        D = np.diag(D)\n",
    "        D = np.linalg.inv(np.sqrt(D))\n",
    "        matrix = D @ matrix @ D\n",
    "    return matrix\n",
    "\n",
    "def log_prob_matrix(counter_user, normalized = False, self_loops = False):\n",
    "    if not self_loops:\n",
    "        counter_user = counter_user[counter_user['Est_A'] != counter_user['Est_B']]\n",
    "    vertex = list(set(counter_user['Est_A'].unique().tolist() + counter_user['Est_B'].unique().tolist()))\n",
    "    matrix = np.zeros((len(vertex), len(vertex)))\n",
    "    for i in range(len(counter_user)):\n",
    "        current_trip = counter_user.iloc[i]\n",
    "        count = -np.log(current_trip[\"prob\"])\n",
    "        estA = current_trip[\"Est_A\"]\n",
    "        estB = current_trip[\"Est_B\"]\n",
    "\n",
    "        matrix[vertex.index(estA)][vertex.index(estB)] = count\n",
    "        matrix[vertex.index(estB)][vertex.index(estA)] = count\n",
    "    if normalized:\n",
    "        D = np.sum(matrix, axis = 1)\n",
    "        D = np.diag(D)\n",
    "        D = np.linalg.inv(np.sqrt(D))\n",
    "        matrix = D @ matrix @ D\n",
    "    return matrix"
   ]
  },
  {
   "cell_type": "code",
   "execution_count": 4,
   "metadata": {},
   "outputs": [],
   "source": [
    "dir = '/home/user/Desktop/Datos/'\n",
    "#dir = '/Users/antoniomendez/Desktop/Tesis/Datos/datos_limpios/'"
   ]
  },
  {
   "cell_type": "code",
   "execution_count": 5,
   "metadata": {},
   "outputs": [],
   "source": [
    "data_2019 = pd.read_csv(f'{dir}mibici/mibici_2019.csv')"
   ]
  },
  {
   "cell_type": "code",
   "execution_count": 6,
   "metadata": {},
   "outputs": [
    {
     "name": "stdout",
     "output_type": "stream",
     "text": [
      "Procesando fecha:  2019-01-07\r"
     ]
    }
   ],
   "source": [
    "# generate data\n",
    "dates = [f\"2019-01-{str(i).zfill(2)}\" for i in range(5, 8)]\n",
    "data = []\n",
    "for date in dates:\n",
    "    print(\"Procesando fecha: \", date, end=\"\\r\")\n",
    "    current_data = data_2019[data_2019['Inicio_del_viaje'].str.startswith(date)]\n",
    "    current_counter = count_trips_mibici(current_data)\n",
    "    current_matrix = log_prob_matrix(current_counter)\n",
    "    current_s = floyd_warshall(current_matrix)\n",
    "    data.append(current_s)"
   ]
  },
  {
   "cell_type": "code",
   "execution_count": 7,
   "metadata": {},
   "outputs": [
    {
     "data": {
      "text/plain": [
       "array([[ 0.        , 31.2622361 , 31.54991817, ..., 21.56954303,\n",
       "        27.36843364, 31.69587208],\n",
       "       [31.2622361 ,  0.        , 10.63715468, ..., 26.07175144,\n",
       "        31.87064205, 31.56234069],\n",
       "       [31.54991817, 10.63715468,  0.        , ..., 26.35943351,\n",
       "        32.15832412, 31.85002276],\n",
       "       ...,\n",
       "       [21.56954303, 26.07175144, 26.35943351, ...,  0.        ,\n",
       "        16.41542601, 30.94330148],\n",
       "       [27.36843364, 31.87064205, 32.15832412, ..., 16.41542601,\n",
       "         0.        , 32.36881656],\n",
       "       [31.69587208, 31.56234069, 31.85002276, ..., 30.94330148,\n",
       "        32.36881656,  0.        ]])"
      ]
     },
     "execution_count": 7,
     "metadata": {},
     "output_type": "execute_result"
    }
   ],
   "source": [
    "data[0]"
   ]
  },
  {
   "cell_type": "code",
   "execution_count": 8,
   "metadata": {},
   "outputs": [
    {
     "data": {
      "text/plain": [
       "array([ 4.15675013,  4.20327014,  4.30973887, ..., 54.75817244,\n",
       "       55.1170177 , 55.34595911])"
      ]
     },
     "execution_count": 8,
     "metadata": {},
     "output_type": "execute_result"
    }
   ],
   "source": [
    "distances = [value for matrix in data for row in matrix for value in row if value != 0 and value != np.inf]\n",
    "distances = np.unique(distances)\n",
    "distances"
   ]
  },
  {
   "cell_type": "code",
   "execution_count": 9,
   "metadata": {},
   "outputs": [
    {
     "data": {
      "image/png": "[encoded data removed]",
      "text/plain": [
       "<Figure size 640x480 with 1 Axes>"
      ]
     },
     "metadata": {},
     "output_type": "display_data"
    }
   ],
   "source": [
    "diff_squared = [(i - j)**2 for i in distances for j in distances]\n",
    "density, bins, _ = plt.hist(diff_squared, bins=30, density=True, alpha=0.5, color='g')\n",
    "count, _ = np.histogram(diff_squared, bins)\n",
    "cdf = np.cumsum(count)\n",
    "plt.plot(bins[1:], cdf / cdf[-1], 'r')\n",
    "plt.title('Densidad empírica de (dpairs1 - dpairs2)^2')\n",
    "plt.xlabel('(dpairs1 - dpairs2)^2')\n",
    "plt.ylabel('Densidad')\n",
    "plt.grid()\n",
    "plt.show()"
   ]
  },
  {
   "cell_type": "code",
   "execution_count": 10,
   "metadata": {},
   "outputs": [
    {
     "data": {
      "text/plain": [
       "0.1620289008044339"
      ]
     },
     "execution_count": 10,
     "metadata": {},
     "output_type": "execute_result"
    }
   ],
   "source": [
    "s1 = 1 / np.sqrt(np.median(diff_squared)/2)\n",
    "s1"
   ]
  },
  {
   "cell_type": "code",
   "execution_count": 12,
   "metadata": {},
   "outputs": [],
   "source": [
    "est_2019 = leer_matriz(f\"{dir}/Adj_mibici/matrices_estaciones/est_2019.txt\")"
   ]
  },
  {
   "cell_type": "code",
   "execution_count": 14,
   "metadata": {},
   "outputs": [],
   "source": [
    "est_2019 = np.array(est_2019)\n",
    "ubis = [[est_2019[i][1], est_2019[i][2]] for i in range(len(est_2019))]"
   ]
  },
  {
   "cell_type": "code",
   "execution_count": 15,
   "metadata": {},
   "outputs": [],
   "source": [
    "dist_squared = [(ubis[i][0] - ubis[j][0])**2 + (ubis[i][1] - ubis[j][1])**2 for i in range(len(ubis)) for j in range(len(ubis))]"
   ]
  },
  {
   "cell_type": "code",
   "execution_count": 16,
   "metadata": {},
   "outputs": [
    {
     "data": {
      "image/png": "[encoded data removed]",
      "text/plain": [
       "<Figure size 640x480 with 1 Axes>"
      ]
     },
     "metadata": {},
     "output_type": "display_data"
    }
   ],
   "source": [
    "density, bins, _ = plt.hist(dist_squared, bins=30, density=True, alpha=0.5, color='g')\n",
    "count, _ = np.histogram(dist_squared, bins)\n",
    "cdf = np.cumsum(count)\n",
    "plt.plot(bins[1:], cdf / cdf[-1], 'r')\n",
    "plt.title('Densidad empírica de (dpairs1 - dpairs2)^2')\n",
    "plt.xlabel('(dpairs1 - dpairs2)^2')\n",
    "plt.ylabel('Densidad')\n",
    "plt.grid()\n",
    "plt.show()"
   ]
  },
  {
   "cell_type": "code",
   "execution_count": 17,
   "metadata": {},
   "outputs": [
    {
     "data": {
      "text/plain": [
       "38.98274493303222"
      ]
     },
     "execution_count": 17,
     "metadata": {},
     "output_type": "execute_result"
    }
   ],
   "source": [
    "s2 = 1 / np.sqrt(np.median(dist_squared)/2)\n",
    "s2"
   ]
  }
 ],
 "metadata": {
  "kernelspec": {
   "display_name": "Python 3",
   "language": "python",
   "name": "python3"
  },
  "language_info": {
   "codemirror_mode": {
    "name": "ipython",
    "version": 3
   },
   "file_extension": ".py",
   "mimetype": "text/x-python",
   "name": "python",
   "nbconvert_exporter": "python",
   "pygments_lexer": "ipython3",
   "version": "3.10.12"
  }
 },
 "nbformat": 4,
 "nbformat_minor": 2
}
