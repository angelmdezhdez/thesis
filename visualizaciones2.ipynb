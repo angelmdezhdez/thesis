{
 "cells": [
  {
   "cell_type": "code",
   "execution_count": 1,
   "metadata": {},
   "outputs": [],
   "source": [
    "#Librerías\n",
    "import numpy as np\n",
    "import matplotlib.pyplot as plt\n",
    "import matplotlib as mpl\n",
    "import pandas as pd\n",
    "import os\n",
    "from collections import defaultdict\n",
    "import warnings\n",
    "warnings.filterwarnings(\"ignore\")"
   ]
  },
  {
   "cell_type": "code",
   "execution_count": 2,
   "metadata": {},
   "outputs": [],
   "source": [
    "def leer_matriz(nombre_archivo):\n",
    "    matriz = []\n",
    "    with open(nombre_archivo, 'r') as archivo:\n",
    "        archivo.readline()\n",
    "        archivo.readline()\n",
    "        for linea in archivo:\n",
    "            fila = [float(valor) for valor in linea.strip().split()]\n",
    "            matriz.append(fila)\n",
    "    return matriz"
   ]
  },
  {
   "cell_type": "code",
   "execution_count": 3,
   "metadata": {},
   "outputs": [],
   "source": [
    "def encontrar_estacion(est, matriz):\n",
    "    for i in range(len(matriz)):\n",
    "        if matriz[i][0] == est:\n",
    "            return matriz[i][1], matriz[i][2]\n",
    "    return None, None"
   ]
  },
  {
   "cell_type": "code",
   "execution_count": 4,
   "metadata": {},
   "outputs": [],
   "source": [
    "def generar_colores(n):\n",
    "    # Obtener un mapa de colores 'hsv' con n colores distintos\n",
    "    colores = plt.cm.get_cmap('coolwarm', n)\n",
    "    # Generar el vector de colores\n",
    "    return [colores(i) for i in range(n)]"
   ]
  },
  {
   "cell_type": "code",
   "execution_count": 6,
   "metadata": {},
   "outputs": [],
   "source": [
    "def distancia_punto_a_recta(x1, y1, x2, y2, px, py):\n",
    "    \"\"\" Calcula la distancia entre el punto (px, py) y la recta que pasa por (x1, y1) y (x2, y2). \"\"\"\n",
    "    num = abs((y2 - y1) * px - (x2 - x1) * py + x2 * y1 - y2 * x1)\n",
    "    den = np.sqrt((y2 - y1)**2 + (x2 - x1)**2)\n",
    "    return num / den"
   ]
  },
  {
   "cell_type": "code",
   "execution_count": 5,
   "metadata": {},
   "outputs": [],
   "source": [
    "datos_2019 = pd.read_csv('mibici/2019.csv')"
   ]
  },
  {
   "cell_type": "code",
   "execution_count": 6,
   "metadata": {},
   "outputs": [
    {
     "data": {
      "text/html": [
       "<div>\n",
       "<style scoped>\n",
       "    .dataframe tbody tr th:only-of-type {\n",
       "        vertical-align: middle;\n",
       "    }\n",
       "\n",
       "    .dataframe tbody tr th {\n",
       "        vertical-align: top;\n",
       "    }\n",
       "\n",
       "    .dataframe thead th {\n",
       "        text-align: right;\n",
       "    }\n",
       "</style>\n",
       "<table border=\"1\" class=\"dataframe\">\n",
       "  <thead>\n",
       "    <tr style=\"text-align: right;\">\n",
       "      <th></th>\n",
       "      <th>Viaje_Id</th>\n",
       "      <th>Usuario_Id</th>\n",
       "      <th>Genero</th>\n",
       "      <th>Año_de_nacimiento</th>\n",
       "      <th>Inicio_del_viaje</th>\n",
       "      <th>Fin_del_viaje</th>\n",
       "      <th>Origen_Id</th>\n",
       "      <th>Destino_Id</th>\n",
       "      <th>Tiempo_viaje</th>\n",
       "    </tr>\n",
       "  </thead>\n",
       "  <tbody>\n",
       "    <tr>\n",
       "      <th>0</th>\n",
       "      <td>8901295</td>\n",
       "      <td>341162</td>\n",
       "      <td>M</td>\n",
       "      <td>1992</td>\n",
       "      <td>2019-01-01 00:00:00</td>\n",
       "      <td>2019-01-01 00:16:09</td>\n",
       "      <td>50</td>\n",
       "      <td>54</td>\n",
       "      <td>16.150000</td>\n",
       "    </tr>\n",
       "    <tr>\n",
       "      <th>1</th>\n",
       "      <td>8901296</td>\n",
       "      <td>413443</td>\n",
       "      <td>M</td>\n",
       "      <td>1985</td>\n",
       "      <td>2019-01-01 06:01:05</td>\n",
       "      <td>2019-01-01 06:16:27</td>\n",
       "      <td>38</td>\n",
       "      <td>194</td>\n",
       "      <td>15.366667</td>\n",
       "    </tr>\n",
       "    <tr>\n",
       "      <th>2</th>\n",
       "      <td>8901297</td>\n",
       "      <td>444232</td>\n",
       "      <td>M</td>\n",
       "      <td>1995</td>\n",
       "      <td>2019-01-01 06:01:19</td>\n",
       "      <td>2019-01-01 06:09:55</td>\n",
       "      <td>86</td>\n",
       "      <td>18</td>\n",
       "      <td>8.600000</td>\n",
       "    </tr>\n",
       "    <tr>\n",
       "      <th>3</th>\n",
       "      <td>8901298</td>\n",
       "      <td>437533</td>\n",
       "      <td>M</td>\n",
       "      <td>1998</td>\n",
       "      <td>2019-01-01 06:01:25</td>\n",
       "      <td>2019-01-01 06:02:04</td>\n",
       "      <td>86</td>\n",
       "      <td>86</td>\n",
       "      <td>0.650000</td>\n",
       "    </tr>\n",
       "    <tr>\n",
       "      <th>4</th>\n",
       "      <td>8901299</td>\n",
       "      <td>430224</td>\n",
       "      <td>M</td>\n",
       "      <td>1992</td>\n",
       "      <td>2019-01-01 06:01:57</td>\n",
       "      <td>2019-01-01 06:05:01</td>\n",
       "      <td>27</td>\n",
       "      <td>52</td>\n",
       "      <td>3.066667</td>\n",
       "    </tr>\n",
       "  </tbody>\n",
       "</table>\n",
       "</div>"
      ],
      "text/plain": [
       "   Viaje_Id  Usuario_Id Genero  Año_de_nacimiento     Inicio_del_viaje  \\\n",
       "0   8901295      341162      M               1992  2019-01-01 00:00:00   \n",
       "1   8901296      413443      M               1985  2019-01-01 06:01:05   \n",
       "2   8901297      444232      M               1995  2019-01-01 06:01:19   \n",
       "3   8901298      437533      M               1998  2019-01-01 06:01:25   \n",
       "4   8901299      430224      M               1992  2019-01-01 06:01:57   \n",
       "\n",
       "         Fin_del_viaje  Origen_Id  Destino_Id  Tiempo_viaje  \n",
       "0  2019-01-01 00:16:09         50          54     16.150000  \n",
       "1  2019-01-01 06:16:27         38         194     15.366667  \n",
       "2  2019-01-01 06:09:55         86          18      8.600000  \n",
       "3  2019-01-01 06:02:04         86          86      0.650000  \n",
       "4  2019-01-01 06:05:01         27          52      3.066667  "
      ]
     },
     "execution_count": 6,
     "metadata": {},
     "output_type": "execute_result"
    }
   ],
   "source": [
    "datos_2019.head()"
   ]
  },
  {
   "cell_type": "code",
   "execution_count": 7,
   "metadata": {},
   "outputs": [
    {
     "data": {
      "text/html": [
       "<div>\n",
       "<style scoped>\n",
       "    .dataframe tbody tr th:only-of-type {\n",
       "        vertical-align: middle;\n",
       "    }\n",
       "\n",
       "    .dataframe tbody tr th {\n",
       "        vertical-align: top;\n",
       "    }\n",
       "\n",
       "    .dataframe thead th {\n",
       "        text-align: right;\n",
       "    }\n",
       "</style>\n",
       "<table border=\"1\" class=\"dataframe\">\n",
       "  <thead>\n",
       "    <tr style=\"text-align: right;\">\n",
       "      <th></th>\n",
       "      <th>Viaje_Id</th>\n",
       "      <th>Usuario_Id</th>\n",
       "      <th>Genero</th>\n",
       "      <th>Año_de_nacimiento</th>\n",
       "      <th>Inicio_del_viaje</th>\n",
       "      <th>Fin_del_viaje</th>\n",
       "      <th>Origen_Id</th>\n",
       "      <th>Destino_Id</th>\n",
       "      <th>Tiempo_viaje</th>\n",
       "    </tr>\n",
       "  </thead>\n",
       "  <tbody>\n",
       "    <tr>\n",
       "      <th>0</th>\n",
       "      <td>8901295</td>\n",
       "      <td>341162</td>\n",
       "      <td>M</td>\n",
       "      <td>1992</td>\n",
       "      <td>2019-01-01 00:00:00</td>\n",
       "      <td>2019-01-01 00:16:09</td>\n",
       "      <td>50</td>\n",
       "      <td>54</td>\n",
       "      <td>16.150000</td>\n",
       "    </tr>\n",
       "    <tr>\n",
       "      <th>1</th>\n",
       "      <td>8901296</td>\n",
       "      <td>413443</td>\n",
       "      <td>M</td>\n",
       "      <td>1985</td>\n",
       "      <td>2019-01-01 06:01:05</td>\n",
       "      <td>2019-01-01 06:16:27</td>\n",
       "      <td>38</td>\n",
       "      <td>194</td>\n",
       "      <td>15.366667</td>\n",
       "    </tr>\n",
       "    <tr>\n",
       "      <th>2</th>\n",
       "      <td>8901297</td>\n",
       "      <td>444232</td>\n",
       "      <td>M</td>\n",
       "      <td>1995</td>\n",
       "      <td>2019-01-01 06:01:19</td>\n",
       "      <td>2019-01-01 06:09:55</td>\n",
       "      <td>86</td>\n",
       "      <td>18</td>\n",
       "      <td>8.600000</td>\n",
       "    </tr>\n",
       "    <tr>\n",
       "      <th>3</th>\n",
       "      <td>8901298</td>\n",
       "      <td>437533</td>\n",
       "      <td>M</td>\n",
       "      <td>1998</td>\n",
       "      <td>2019-01-01 06:01:25</td>\n",
       "      <td>2019-01-01 06:02:04</td>\n",
       "      <td>86</td>\n",
       "      <td>86</td>\n",
       "      <td>0.650000</td>\n",
       "    </tr>\n",
       "    <tr>\n",
       "      <th>4</th>\n",
       "      <td>8901299</td>\n",
       "      <td>430224</td>\n",
       "      <td>M</td>\n",
       "      <td>1992</td>\n",
       "      <td>2019-01-01 06:01:57</td>\n",
       "      <td>2019-01-01 06:05:01</td>\n",
       "      <td>27</td>\n",
       "      <td>52</td>\n",
       "      <td>3.066667</td>\n",
       "    </tr>\n",
       "  </tbody>\n",
       "</table>\n",
       "</div>"
      ],
      "text/plain": [
       "   Viaje_Id  Usuario_Id Genero  Año_de_nacimiento     Inicio_del_viaje  \\\n",
       "0   8901295      341162      M               1992  2019-01-01 00:00:00   \n",
       "1   8901296      413443      M               1985  2019-01-01 06:01:05   \n",
       "2   8901297      444232      M               1995  2019-01-01 06:01:19   \n",
       "3   8901298      437533      M               1998  2019-01-01 06:01:25   \n",
       "4   8901299      430224      M               1992  2019-01-01 06:01:57   \n",
       "\n",
       "         Fin_del_viaje  Origen_Id  Destino_Id  Tiempo_viaje  \n",
       "0  2019-01-01 00:16:09         50          54     16.150000  \n",
       "1  2019-01-01 06:16:27         38         194     15.366667  \n",
       "2  2019-01-01 06:09:55         86          18      8.600000  \n",
       "3  2019-01-01 06:02:04         86          86      0.650000  \n",
       "4  2019-01-01 06:05:01         27          52      3.066667  "
      ]
     },
     "execution_count": 7,
     "metadata": {},
     "output_type": "execute_result"
    }
   ],
   "source": [
    "data = datos_2019[datos_2019['Inicio_del_viaje'].str.startswith('2019-01')]\n",
    "data.head()"
   ]
  },
  {
   "cell_type": "code",
   "execution_count": 8,
   "metadata": {},
   "outputs": [],
   "source": [
    "estaciones = leer_matriz('Adj_mibici/matrices_estaciones/est_2019.txt')"
   ]
  },
  {
   "cell_type": "code",
   "execution_count": 9,
   "metadata": {},
   "outputs": [
    {
     "data": {
      "text/plain": [
       "[[2.0, 20.666378, -103.34882],\n",
       " [3.0, 20.667228, -103.366],\n",
       " [4.0, 20.66769, -103.368252],\n",
       " [5.0, 20.6918466, -103.3625487],\n",
       " [6.0, 20.6811575, -103.339363],\n",
       " [8.0, 20.680717, -103.344415],\n",
       " [9.0, 20.666771, -103.350562],\n",
       " [10.0, 20.681871, -103.350396],\n",
       " [11.0, 20.68207685, -103.353835],\n",
       " [12.0, 20.6818519, -103.3573381],\n",
       " [13.0, 20.681081, -103.360099],\n",
       " [14.0, 20.6820683, -103.3629218],\n",
       " [15.0, 20.667623, -103.370499],\n",
       " [16.0, 20.6821447, -103.3659297],\n",
       " [17.0, 20.683191, -103.369349],\n",
       " [18.0, 20.6824637, -103.3726232],\n",
       " [19.0, 20.679086, -103.372841],\n",
       " [20.0, 20.679296, -103.370658],\n",
       " [21.0, 20.67881367, -103.3680584],\n",
       " [23.0, 20.67966, -103.362224],\n",
       " [24.0, 20.679389, -103.35913],\n",
       " [25.0, 20.679309, -103.356281],\n",
       " [26.0, 20.678777, -103.354035],\n",
       " [27.0, 20.680227, -103.350146],\n",
       " [28.0, 20.680478, -103.348377],\n",
       " [29.0, 20.679861, -103.345198],\n",
       " [30.0, 20.6840145, -103.3612673],\n",
       " [31.0, 20.679899, -103.339438],\n",
       " [32.0, 20.675461, -103.367501],\n",
       " [33.0, 20.685652, -103.368215],\n",
       " [34.0, 20.6772627, -103.344908],\n",
       " [35.0, 20.677419, -103.347983],\n",
       " [36.0, 20.676461, -103.350244],\n",
       " [37.0, 20.677315, -103.3534145],\n",
       " [38.0, 20.676078, -103.356458],\n",
       " [39.0, 20.678034, -103.358466],\n",
       " [40.0, 20.676656, -103.362331],\n",
       " [41.0, 20.677108, -103.365088],\n",
       " [42.0, 20.676067, -103.367049],\n",
       " [43.0, 20.67671, -103.37066],\n",
       " [44.0, 20.676628, -103.372687],\n",
       " [45.0, 20.673756, -103.372613],\n",
       " [46.0, 20.674636, -103.371639],\n",
       " [47.0, 20.675444, -103.370147],\n",
       " [48.0, 20.675014, -103.365025],\n",
       " [49.0, 20.674931, -103.362351],\n",
       " [50.0, 20.674721, -103.358548],\n",
       " [51.0, 20.6740865, -103.3563196],\n",
       " [52.0, 20.675746, -103.354579],\n",
       " [53.0, 20.674559, -103.352663],\n",
       " [54.0, 20.675244, -103.347889],\n",
       " [55.0, 20.675401, -103.345665],\n",
       " [56.0, 20.675421, -103.342049],\n",
       " [57.0, 20.672696, -103.345366],\n",
       " [58.0, 20.671971, -103.347422],\n",
       " [59.0, 20.67270672, -103.3496159],\n",
       " [60.0, 20.672641, -103.353542],\n",
       " [61.0, 20.672231, -103.355508],\n",
       " [62.0, 20.6734, -103.357684],\n",
       " [63.0, 20.671778, -103.361274],\n",
       " [64.0, 20.673072, -103.365055],\n",
       " [65.0, 20.674132, -103.366139],\n",
       " [66.0, 20.673321, -103.370571],\n",
       " [67.0, 20.6722064, -103.372588],\n",
       " [68.0, 20.671364, -103.371786],\n",
       " [69.0, 20.6668825, -103.3555917],\n",
       " [70.0, 20.670512, -103.368306],\n",
       " [71.0, 20.670468, -103.366071],\n",
       " [72.0, 20.671455, -103.363633],\n",
       " [73.0, 20.670362, -103.359537],\n",
       " [74.0, 20.67056, -103.357589],\n",
       " [75.0, 20.669955, -103.355032],\n",
       " [76.0, 20.67131, -103.351651],\n",
       " [77.0, 20.669628, -103.348768],\n",
       " [78.0, 20.67096728, -103.3448483],\n",
       " [79.0, 20.675631, -103.36134],\n",
       " [80.0, 20.66888, -103.34846],\n",
       " [81.0, 20.6688627, -103.3513022],\n",
       " [82.0, 20.68432, -103.373252],\n",
       " [83.0, 20.667352, -103.363338],\n",
       " [84.0, 20.669326, -103.362535],\n",
       " [85.0, 20.667532, -103.3595222],\n",
       " [86.0, 20.669306, -103.368312],\n",
       " [87.0, 20.670426, -103.373378],\n",
       " [88.0, 20.66704, -103.372444],\n",
       " [91.0, 20.73264394, -103.3963456],\n",
       " [92.0, 20.726376, -103.397466],\n",
       " [93.0, 20.723081, -103.398071],\n",
       " [95.0, 20.730841, -103.394267],\n",
       " [96.0, 20.71953, -103.386768],\n",
       " [98.0, 20.72201, -103.39427],\n",
       " [100.0, 20.723889, -103.394585],\n",
       " [101.0, 20.726558, -103.389242],\n",
       " [102.0, 20.728538, -103.390297],\n",
       " [103.0, 20.720438, -103.391894],\n",
       " [104.0, 20.71837415, -103.3742183],\n",
       " [105.0, 20.735255, -103.394636],\n",
       " [106.0, 20.721643, -103.3902],\n",
       " [107.0, 20.72374, -103.388657],\n",
       " [108.0, 20.7276186, -103.3859946],\n",
       " [110.0, 20.720987, -103.38625],\n",
       " [111.0, 20.728243, -103.384072],\n",
       " [112.0, 20.722427, -103.383],\n",
       " [115.0, 20.731202, -103.380651],\n",
       " [117.0, 20.720452, -103.388629],\n",
       " [118.0, 20.737087, -103.401285],\n",
       " [119.0, 20.728147, -103.393858],\n",
       " [120.0, 20.736557, -103.401357],\n",
       " [125.0, 20.67342, -103.40945],\n",
       " [126.0, 20.67195, -103.40641],\n",
       " [127.0, 20.6707, -103.40458],\n",
       " [128.0, 20.66984, -103.40968],\n",
       " [129.0, 20.66844, -103.40495],\n",
       " [130.0, 20.66731, -103.40953],\n",
       " [131.0, 20.666914, -103.402512],\n",
       " [132.0, 20.666033, -103.40687],\n",
       " [133.0, 20.66312806, -103.4079076],\n",
       " [134.0, 20.66033761, -103.4037559],\n",
       " [135.0, 20.66463, -103.404],\n",
       " [136.0, 20.65925105, -103.4065612],\n",
       " [137.0, 20.65938, -103.40195],\n",
       " [139.0, 20.65701, -103.40464],\n",
       " [140.0, 20.656866, -103.397725],\n",
       " [141.0, 20.65381, -103.40134],\n",
       " [142.0, 20.64483, -103.31948],\n",
       " [143.0, 20.6383352, -103.3163317],\n",
       " [144.0, 20.64193, -103.31366],\n",
       " [145.0, 20.64185, -103.3106],\n",
       " [146.0, 20.64188, -103.30651],\n",
       " [148.0, 20.64176, -103.31716],\n",
       " [149.0, 20.63841, -103.31334],\n",
       " [150.0, 20.63816, -103.31148],\n",
       " [151.0, 20.63834, -103.30952],\n",
       " [152.0, 20.63922, -103.30465],\n",
       " [153.0, 20.63613, -103.3019],\n",
       " [154.0, 20.69493, -103.37333],\n",
       " [155.0, 20.6972, -103.36773],\n",
       " [156.0, 20.68456, -103.35699],\n",
       " [157.0, 20.69865, -103.35519],\n",
       " [158.0, 20.696097, -103.349382],\n",
       " [159.0, 20.69610588, -103.3549492],\n",
       " [160.0, 20.69311, -103.37298],\n",
       " [161.0, 20.69324, -103.36757],\n",
       " [162.0, 20.692725, -103.3516],\n",
       " [163.0, 20.6891, -103.35071],\n",
       " [164.0, 20.68859811, -103.3584672],\n",
       " [165.0, 20.6919612, -103.3540408],\n",
       " [166.0, 20.687196, -103.350525],\n",
       " [167.0, 20.69269, -103.37082],\n",
       " [168.0, 20.68969, -103.37486],\n",
       " [169.0, 20.68985, -103.37071],\n",
       " [170.0, 20.68861, -103.365814],\n",
       " [171.0, 20.68348, -103.34853],\n",
       " [172.0, 20.6822, -103.34601],\n",
       " [173.0, 20.68465, -103.34526],\n",
       " [174.0, 20.68981, -103.353973],\n",
       " [175.0, 20.68586, -103.33964],\n",
       " [176.0, 20.68725, -103.37363],\n",
       " [177.0, 20.68723, -103.37084],\n",
       " [178.0, 20.6863794, -103.3368076],\n",
       " [179.0, 20.687, -103.36582],\n",
       " [180.0, 20.6880337, -103.362716],\n",
       " [181.0, 20.68925, -103.3361],\n",
       " [182.0, 20.68605, -103.35408],\n",
       " [183.0, 20.68447, -103.37989],\n",
       " [184.0, 20.68427, -103.37653],\n",
       " [185.0, 20.68168, -103.38197],\n",
       " [186.0, 20.68153, -103.3785],\n",
       " [187.0, 20.68132, -103.37537],\n",
       " [188.0, 20.67914, -103.38253],\n",
       " [189.0, 20.67947, -103.37926],\n",
       " [190.0, 20.67945, -103.376],\n",
       " [191.0, 20.6776729, -103.3835367],\n",
       " [192.0, 20.67691, -103.37993],\n",
       " [193.0, 20.67647, -103.37606],\n",
       " [194.0, 20.67438, -103.38488],\n",
       " [195.0, 20.67498792, -103.3840444],\n",
       " [196.0, 20.67455, -103.37998],\n",
       " [197.0, 20.67448, -103.37618],\n",
       " [198.0, 20.67206, -103.384],\n",
       " [199.0, 20.67207, -103.37997],\n",
       " [200.0, 20.67189, -103.37608],\n",
       " [201.0, 20.670209, -103.384221],\n",
       " [202.0, 20.66868, -103.3731],\n",
       " [203.0, 20.66927, -103.37983],\n",
       " [204.0, 20.66957, -103.37623],\n",
       " [205.0, 20.66557, -103.39134],\n",
       " [206.0, 20.66667, -103.38863],\n",
       " [207.0, 20.66816, -103.38488],\n",
       " [208.0, 20.66702, -103.37621],\n",
       " [209.0, 20.6647, -103.38855],\n",
       " [210.0, 20.6625, -103.38407],\n",
       " [211.0, 20.669931, -103.394307],\n",
       " [212.0, 20.66736, -103.3947],\n",
       " [213.0, 20.6662882, -103.3988986],\n",
       " [214.0, 20.66623, -103.39654],\n",
       " [215.0, 20.66501, -103.39788],\n",
       " [216.0, 20.66511, -103.39388],\n",
       " [217.0, 20.661387, -103.392533],\n",
       " [218.0, 20.66, -103.39496],\n",
       " [219.0, 20.65931, -103.38884],\n",
       " [220.0, 20.65846, -103.39092],\n",
       " [221.0, 20.65761, -103.39363],\n",
       " [222.0, 20.65712973, -103.3883797],\n",
       " [224.0, 20.654709, -103.391595],\n",
       " [225.0, 20.65158, -103.38957],\n",
       " [226.0, 20.66468, -103.33357],\n",
       " [227.0, 20.66114, -103.3315],\n",
       " [228.0, 20.65925, -103.33055],\n",
       " [229.0, 20.65721, -103.33046],\n",
       " [230.0, 20.657817, -103.32898],\n",
       " [231.0, 20.655, -103.32186],\n",
       " [232.0, 20.65251, -103.32553],\n",
       " [233.0, 20.65475, -103.32719],\n",
       " [234.0, 20.64962, -103.32356],\n",
       " [235.0, 20.64874, -103.31939],\n",
       " [236.0, 20.64707, -103.32147],\n",
       " [237.0, 20.64698, -103.30619],\n",
       " [238.0, 20.6461, -103.3102],\n",
       " [239.0, 20.64434, -103.30678],\n",
       " [240.0, 20.64504, -103.30518],\n",
       " [241.0, 20.6641, -103.4003],\n",
       " [242.0, 20.66234072, -103.3981344],\n",
       " [243.0, 20.67276201, -103.3976249],\n",
       " [244.0, 20.68669, -103.37657],\n",
       " [246.0, 20.6853596, -103.3339031],\n",
       " [247.0, 20.68795, -103.33343],\n",
       " [248.0, 20.68692, -103.33467],\n",
       " [249.0, 20.69705, -103.36322],\n",
       " [251.0, 20.639042, -103.301239],\n",
       " [253.0, 20.67323693, -103.3826946],\n",
       " [254.0, 20.67848, -103.365103],\n",
       " [255.0, 20.6843419, -103.3646036],\n",
       " [256.0, 20.6639862, -103.3480775],\n",
       " [257.0, 20.659581, -103.324147],\n",
       " [258.0, 20.66318, -103.32942],\n",
       " [259.0, 20.66429, -103.3628],\n",
       " [260.0, 20.6726395, -103.3471549],\n",
       " [261.0, 20.70928, -103.37015],\n",
       " [262.0, 20.6692, -103.34116],\n",
       " [263.0, 20.6708, -103.34385],\n",
       " [264.0, 20.6744, -103.34123],\n",
       " [265.0, 20.70656, -103.36564],\n",
       " [266.0, 20.70211, -103.35996],\n",
       " [267.0, 20.65048, -103.30999],\n",
       " [268.0, 20.67529, -103.34656],\n",
       " [269.0, 20.68361, -103.33756],\n",
       " [270.0, 20.64517, -103.30313],\n",
       " [271.0, 20.68504, -103.34796],\n",
       " [272.0, 20.6891, -103.34806],\n",
       " [273.0, 20.69406, -103.34824],\n",
       " [274.0, 20.69442, -103.34474],\n",
       " [275.0, 20.69898, -103.34893],\n",
       " [276.0, 20.70046, -103.35478],\n",
       " [277.0, 20.6651, -103.36807],\n",
       " [278.0, 20.66265, -103.36554],\n",
       " [279.0, 20.66231, -103.36011],\n",
       " [280.0, 20.66563, -103.35802],\n",
       " [281.0, 20.66081, -103.35704],\n",
       " [282.0, 20.6605183, -103.3503245],\n",
       " [283.0, 20.65775, -103.35132],\n",
       " [284.0, 20.65883, -103.35468],\n",
       " [285.0, 20.70047, -103.36158],\n",
       " [286.0, 20.73231, -103.38763],\n",
       " [287.0, 20.73445, -103.3985614],\n",
       " [288.0, 20.72958, -103.38859],\n",
       " [289.0, 20.7178, -103.38338],\n",
       " [290.0, 20.73432, -103.38427],\n",
       " [291.0, 20.73837, -103.38057],\n",
       " [292.0, 20.73245, -103.39291],\n",
       " [293.0, 20.73836, -103.38299],\n",
       " [294.0, 20.73441, -103.38079],\n",
       " [295.0, 20.73154, -103.38515],\n",
       " [296.0, 20.71365, -103.37742]]"
      ]
     },
     "execution_count": 9,
     "metadata": {},
     "output_type": "execute_result"
    }
   ],
   "source": [
    "estaciones"
   ]
  },
  {
   "cell_type": "code",
   "execution_count": 9,
   "metadata": {},
   "outputs": [],
   "source": [
    "users_counts = data['Usuario_Id'].value_counts()\n",
    "users = users_counts.index.tolist()"
   ]
  },
  {
   "cell_type": "code",
   "execution_count": 11,
   "metadata": {},
   "outputs": [
    {
     "name": "stdout",
     "output_type": "stream",
     "text": [
      "106406 370\n",
      "113022 354\n",
      "253531 354\n",
      "253520 333\n",
      "143721 314\n",
      "51332 268\n",
      "123665 240\n",
      "341446 234\n",
      "440165 233\n",
      "275435 233\n",
      "144540 223\n",
      "330421 213\n",
      "325641 207\n",
      "50114 204\n",
      "405740 198\n",
      "132300 191\n",
      "251562 186\n",
      "452615 185\n",
      "302676 184\n",
      "231427 179\n",
      "377234 178\n",
      "235433 177\n",
      "447706 177\n",
      "106367 175\n",
      "246056 173\n",
      "452441 169\n",
      "302715 168\n",
      "244602 168\n",
      "437522 168\n",
      "10654 167\n",
      "420420 167\n",
      "336242 166\n",
      "160334 165\n",
      "56425 162\n",
      "326320 161\n",
      "273367 159\n",
      "451647 158\n",
      "176677 157\n",
      "441505 157\n",
      "302225 156\n",
      "20133 154\n",
      "64733 151\n",
      "53174 150\n",
      "21566 150\n",
      "446427 150\n",
      "150431 148\n",
      "322066 147\n",
      "12130 145\n",
      "121473 145\n",
      "424553 145\n"
     ]
    }
   ],
   "source": [
    "for u in users[:50]:\n",
    "    print(u, users_counts[u])"
   ]
  },
  {
   "cell_type": "code",
   "execution_count": 12,
   "metadata": {},
   "outputs": [
    {
     "data": {
      "text/plain": [
       "370"
      ]
     },
     "execution_count": 12,
     "metadata": {},
     "output_type": "execute_result"
    }
   ],
   "source": [
    "users_counts[users[0]]"
   ]
  },
  {
   "cell_type": "code",
   "execution_count": 33,
   "metadata": {},
   "outputs": [],
   "source": [
    "def obtener_gráfica(u, d, esta):\n",
    "    colors = generar_colores(len(d))\n",
    "    conteo_trayectorias = defaultdict(int)\n",
    "    latitudes = []\n",
    "    longitudes = []\n",
    "    genre = d['Genero'].iloc[0]\n",
    "    year = d['Año_de_nacimiento'].iloc[0]\n",
    "    plt.figure(figsize=(12, 12))\n",
    "    for i in range(len(esta)):\n",
    "        lat, lon = encontrar_estacion(esta[i], estaciones)\n",
    "        plt.scatter(lon, lat, color='black')\n",
    "    for i in range(len(d)):\n",
    "        current_data = d.iloc[i]\n",
    "        x = current_data['Origen_Id']\n",
    "        y = current_data['Destino_Id']\n",
    "        \n",
    "\n",
    "        # Encuentra las coordenadas (lat, lon) de la estación origen y destino\n",
    "        x_lat, x_lon = encontrar_estacion(x, estaciones)\n",
    "        y_lat, y_lon = encontrar_estacion(y, estaciones)\n",
    "        latitudes.append(x_lat)\n",
    "        longitudes.append(x_lon)\n",
    "        latitudes.append(y_lat)\n",
    "        longitudes.append(y_lon)\n",
    "        \n",
    "        # Incrementa el conteo de trayectorias\n",
    "        conteo_trayectorias[(x, y)] += 1\n",
    "        # Grosor de la línea según la repetición de la trayectoria\n",
    "        linewidth = 1e-3 + conteo_trayectorias[(x, y)]/1e3 # Aumenta el grosor por cada repetición\n",
    "\n",
    "        if i > 0 and x == d.iloc[i-1]['Destino_Id'] and y == d.iloc[i-1]['Origen_Id']:\n",
    "            plt.plot([x_lon, y_lon], [x_lat, y_lat], color=colors[i], linewidth=linewidth)\n",
    "        else:\n",
    "            plt.plot([x_lon, y_lon], [x_lat, y_lat], color=colors[i], linewidth=linewidth)\n",
    "\n",
    "        # Dibuja siempre una línea azul entre las estaciones\n",
    "        plt.plot([x_lon, y_lon], [x_lat, y_lat], color = colors[i], alpha=0.9)  # Añadí transparencia para que no opaque los colores\n",
    "\n",
    "    # Ajusta los límites del gráfico para centrar en la media\n",
    "    plt.xlim(np.min(longitudes), np.max(longitudes))  # Ajusta el zoom horizontal\n",
    "    plt.ylim(np.min(latitudes), np.max(latitudes))  # Ajusta el zoom vertical\n",
    "\n",
    "\n",
    "    plt.title(f'Trayectorias de usuario {u}, cantidad de viajes {users_counts[u]}, género {genre}, nacido en {year}')\n",
    "    plt.grid()\n",
    "    plt.savefig(f'graphs_users/usuario_{u}_trayectorias.png')\n",
    "    plt.close()\n",
    "    plt.clf()"
   ]
  },
  {
   "cell_type": "code",
   "execution_count": 34,
   "metadata": {},
   "outputs": [],
   "source": [
    "def obtener_gráfica2(u, d, esta):\n",
    "    colors = generar_colores(len(d))\n",
    "    conteo_trayectorias = defaultdict(int)\n",
    "    #latitudes = []\n",
    "    #longitudes = []\n",
    "    genre = d['Genero'].iloc[0]\n",
    "    year = d['Año_de_nacimiento'].iloc[0]\n",
    "    plt.figure(figsize=(12, 12))\n",
    "\n",
    "    for i in range(len(d)):\n",
    "        current_data = d.iloc[i]\n",
    "        x = current_data['Origen_Id']\n",
    "        y = current_data['Destino_Id']\n",
    "        \n",
    "\n",
    "        # Encuentra las coordenadas (lat, lon) de la estación origen y destino\n",
    "        x_lat, x_lon = encontrar_estacion(x, estaciones)\n",
    "        y_lat, y_lon = encontrar_estacion(y, estaciones)\n",
    "        #latitudes.append(x_lat)\n",
    "        #longitudes.append(x_lon)\n",
    "        #latitudes.append(y_lat)\n",
    "        #longitudes.append(y_lon)\n",
    "        \n",
    "        # Incrementa el conteo de trayectorias\n",
    "        conteo_trayectorias[(x, y)] += 1\n",
    "        # Grosor de la línea según la repetición de la trayectoria\n",
    "        linewidth = 1e-3 + conteo_trayectorias[(x, y)]/1e3 # Aumenta el grosor por cada repetición\n",
    "\n",
    "        if i > 0 and x == d.iloc[i-1]['Destino_Id'] and y == d.iloc[i-1]['Origen_Id']:\n",
    "            plt.plot([x_lon, y_lon], [x_lat, y_lat], color=colors[i], linewidth=linewidth)\n",
    "        else:\n",
    "            plt.plot([x_lon, y_lon], [x_lat, y_lat], color=colors[i], linewidth=linewidth)\n",
    "\n",
    "        # Dibuja siempre una línea azul entre las estaciones\n",
    "        plt.plot([x_lon, y_lon], [x_lat, y_lat], color = colors[i], alpha=0.9)  # Añadí transparencia para que no opaque los colores\n",
    "\n",
    "    # Ajusta los límites del gráfico para centrar en la media\n",
    "    #plt.xlim(np.min(longitudes), np.max(longitudes))  # Ajusta el zoom horizontal\n",
    "    #plt.ylim(np.min(latitudes), np.max(latitudes))  # Ajusta el zoom vertical\n",
    "\n",
    "    for i in range(len(esta)):\n",
    "        lat, lon = encontrar_estacion(esta[i], estaciones)\n",
    "        plt.scatter(lon, lat, color='black')\n",
    "\n",
    "    plt.title(f'Trayectorias de usuario {u}, cantidad de viajes {users_counts[u]}, género {genre}, nacido en {year}')\n",
    "    plt.grid()\n",
    "    plt.savefig(f'graphs_users2/usuario_{u}_trayectorias.png')\n",
    "    plt.close()\n",
    "    plt.clf()"
   ]
  },
  {
   "cell_type": "code",
   "execution_count": 13,
   "metadata": {},
   "outputs": [
    {
     "data": {
      "text/html": [
       "<div>\n",
       "<style scoped>\n",
       "    .dataframe tbody tr th:only-of-type {\n",
       "        vertical-align: middle;\n",
       "    }\n",
       "\n",
       "    .dataframe tbody tr th {\n",
       "        vertical-align: top;\n",
       "    }\n",
       "\n",
       "    .dataframe thead th {\n",
       "        text-align: right;\n",
       "    }\n",
       "</style>\n",
       "<table border=\"1\" class=\"dataframe\">\n",
       "  <thead>\n",
       "    <tr style=\"text-align: right;\">\n",
       "      <th></th>\n",
       "      <th>Viaje_Id</th>\n",
       "      <th>Usuario_Id</th>\n",
       "      <th>Genero</th>\n",
       "      <th>Año_de_nacimiento</th>\n",
       "      <th>Inicio_del_viaje</th>\n",
       "      <th>Fin_del_viaje</th>\n",
       "      <th>Origen_Id</th>\n",
       "      <th>Destino_Id</th>\n",
       "      <th>Tiempo_viaje</th>\n",
       "    </tr>\n",
       "  </thead>\n",
       "  <tbody>\n",
       "    <tr>\n",
       "      <th>1459</th>\n",
       "      <td>8902995</td>\n",
       "      <td>424553</td>\n",
       "      <td>M</td>\n",
       "      <td>1991</td>\n",
       "      <td>2019-01-01 17:21:27</td>\n",
       "      <td>2019-01-01 17:33:34</td>\n",
       "      <td>202</td>\n",
       "      <td>2</td>\n",
       "      <td>12.116667</td>\n",
       "    </tr>\n",
       "    <tr>\n",
       "      <th>1579</th>\n",
       "      <td>8903127</td>\n",
       "      <td>424553</td>\n",
       "      <td>M</td>\n",
       "      <td>1991</td>\n",
       "      <td>2019-01-01 17:50:33</td>\n",
       "      <td>2019-01-01 17:54:33</td>\n",
       "      <td>2</td>\n",
       "      <td>260</td>\n",
       "      <td>4.000000</td>\n",
       "    </tr>\n",
       "    <tr>\n",
       "      <th>1603</th>\n",
       "      <td>8903158</td>\n",
       "      <td>424553</td>\n",
       "      <td>M</td>\n",
       "      <td>1991</td>\n",
       "      <td>2019-01-01 17:54:46</td>\n",
       "      <td>2019-01-01 17:57:33</td>\n",
       "      <td>260</td>\n",
       "      <td>268</td>\n",
       "      <td>2.783333</td>\n",
       "    </tr>\n",
       "    <tr>\n",
       "      <th>1620</th>\n",
       "      <td>8903175</td>\n",
       "      <td>424553</td>\n",
       "      <td>M</td>\n",
       "      <td>1991</td>\n",
       "      <td>2019-01-01 17:58:19</td>\n",
       "      <td>2019-01-01 18:02:17</td>\n",
       "      <td>268</td>\n",
       "      <td>54</td>\n",
       "      <td>3.966667</td>\n",
       "    </tr>\n",
       "    <tr>\n",
       "      <th>1951</th>\n",
       "      <td>8903544</td>\n",
       "      <td>424553</td>\n",
       "      <td>M</td>\n",
       "      <td>1991</td>\n",
       "      <td>2019-01-01 19:23:59</td>\n",
       "      <td>2019-01-01 19:40:41</td>\n",
       "      <td>53</td>\n",
       "      <td>202</td>\n",
       "      <td>16.700000</td>\n",
       "    </tr>\n",
       "  </tbody>\n",
       "</table>\n",
       "</div>"
      ],
      "text/plain": [
       "      Viaje_Id  Usuario_Id Genero  Año_de_nacimiento     Inicio_del_viaje  \\\n",
       "1459   8902995      424553      M               1991  2019-01-01 17:21:27   \n",
       "1579   8903127      424553      M               1991  2019-01-01 17:50:33   \n",
       "1603   8903158      424553      M               1991  2019-01-01 17:54:46   \n",
       "1620   8903175      424553      M               1991  2019-01-01 17:58:19   \n",
       "1951   8903544      424553      M               1991  2019-01-01 19:23:59   \n",
       "\n",
       "            Fin_del_viaje  Origen_Id  Destino_Id  Tiempo_viaje  \n",
       "1459  2019-01-01 17:33:34        202           2     12.116667  \n",
       "1579  2019-01-01 17:54:33          2         260      4.000000  \n",
       "1603  2019-01-01 17:57:33        260         268      2.783333  \n",
       "1620  2019-01-01 18:02:17        268          54      3.966667  \n",
       "1951  2019-01-01 19:40:41         53         202     16.700000  "
      ]
     },
     "execution_count": 13,
     "metadata": {},
     "output_type": "execute_result"
    }
   ],
   "source": [
    "data_user_424553 = data[data['Usuario_Id'] == 424553]\n",
    "data_user_424553.head()"
   ]
  },
  {
   "cell_type": "code",
   "execution_count": 14,
   "metadata": {},
   "outputs": [
    {
     "data": {
      "text/html": [
       "<div>\n",
       "<style scoped>\n",
       "    .dataframe tbody tr th:only-of-type {\n",
       "        vertical-align: middle;\n",
       "    }\n",
       "\n",
       "    .dataframe tbody tr th {\n",
       "        vertical-align: top;\n",
       "    }\n",
       "\n",
       "    .dataframe thead th {\n",
       "        text-align: right;\n",
       "    }\n",
       "</style>\n",
       "<table border=\"1\" class=\"dataframe\">\n",
       "  <thead>\n",
       "    <tr style=\"text-align: right;\">\n",
       "      <th></th>\n",
       "      <th>Origen_Id</th>\n",
       "      <th>Destino_Id</th>\n",
       "      <th>counts</th>\n",
       "    </tr>\n",
       "  </thead>\n",
       "  <tbody>\n",
       "    <tr>\n",
       "      <th>0</th>\n",
       "      <td>2</td>\n",
       "      <td>260</td>\n",
       "      <td>1</td>\n",
       "    </tr>\n",
       "    <tr>\n",
       "      <th>1</th>\n",
       "      <td>4</td>\n",
       "      <td>85</td>\n",
       "      <td>1</td>\n",
       "    </tr>\n",
       "    <tr>\n",
       "      <th>2</th>\n",
       "      <td>15</td>\n",
       "      <td>202</td>\n",
       "      <td>1</td>\n",
       "    </tr>\n",
       "    <tr>\n",
       "      <th>3</th>\n",
       "      <td>16</td>\n",
       "      <td>21</td>\n",
       "      <td>1</td>\n",
       "    </tr>\n",
       "    <tr>\n",
       "      <th>4</th>\n",
       "      <td>17</td>\n",
       "      <td>21</td>\n",
       "      <td>1</td>\n",
       "    </tr>\n",
       "  </tbody>\n",
       "</table>\n",
       "</div>"
      ],
      "text/plain": [
       "   Origen_Id  Destino_Id  counts\n",
       "0          2         260       1\n",
       "1          4          85       1\n",
       "2         15         202       1\n",
       "3         16          21       1\n",
       "4         17          21       1"
      ]
     },
     "execution_count": 14,
     "metadata": {},
     "output_type": "execute_result"
    }
   ],
   "source": [
    "viajes_por_estaciones = data_user_424553.groupby(['Origen_Id', 'Destino_Id']).size().reset_index(name='counts')\n",
    "viajes_por_estaciones.head()"
   ]
  },
  {
   "cell_type": "code",
   "execution_count": 19,
   "metadata": {},
   "outputs": [
    {
     "data": {
      "text/plain": [
       "1"
      ]
     },
     "execution_count": 19,
     "metadata": {},
     "output_type": "execute_result"
    }
   ],
   "source": [
    "viajes_por_estaciones = data_user_424553.groupby([data_user_424553[['Origen_Id', 'Destino_Id']].min(axis=1), data_user_424553[['Origen_Id', 'Destino_Id']].max(axis=1)]).size().reset_index(name='counts')\n",
    "viajes_por_estaciones.columns = ['Estacion_A', 'Estacion_B', 'counts']\n",
    "min(viajes_por_estaciones['counts'])"
   ]
  },
  {
   "cell_type": "code",
   "execution_count": 47,
   "metadata": {},
   "outputs": [],
   "source": [
    "def obtener_gráfica3(u, d, esta, threshold=5, zoom = True, flow_consider = True):\n",
    "    colors = generar_colores(len(d))\n",
    "    conteo_trayectorias = defaultdict(int)\n",
    "    latitudes = []\n",
    "    longitudes = []\n",
    "    genre = d['Genero'].iloc[0]\n",
    "    year = d['Año_de_nacimiento'].iloc[0]\n",
    "    plt.figure(figsize=(12, 12))\n",
    "    for i in range(len(esta)):\n",
    "        lat, lon = encontrar_estacion(esta[i], estaciones)\n",
    "        plt.scatter(lon, lat, color='black')\n",
    "\n",
    "    # Agrupar los datos por Origen_Id y Destino_Id y contar la cantidad de viajes\n",
    "    viajes_por_estaciones = d.groupby([d[['Origen_Id', 'Destino_Id']].min(axis=1), d[['Origen_Id', 'Destino_Id']].max(axis=1)]).size().reset_index(name='counts')\n",
    "    viajes_por_estaciones.columns = ['Estacion_A', 'Estacion_B', 'counts']\n",
    "\n",
    "    if flow_consider:\n",
    "        viajes_considerados = viajes_por_estaciones[viajes_por_estaciones['counts'] >= threshold]\n",
    "    else:\n",
    "        viajes_considerados = viajes_por_estaciones[viajes_por_estaciones['counts'] <= threshold]\n",
    "        \n",
    "    set_viajes_considerados = set(zip(viajes_considerados['Estacion_A'], viajes_considerados['Estacion_B']))\n",
    "    viajes = 0\n",
    "    lista_viajes = []\n",
    "    for i in range(len(d)):\n",
    "        current_data = d.iloc[i]\n",
    "        x = current_data['Origen_Id']\n",
    "        y = current_data['Destino_Id']\n",
    "        viaje = (min(x, y), max(x, y))\n",
    "        #lista_viajes.append(viaje)\n",
    "\n",
    "        if viaje in set_viajes_considerados:\n",
    "            if viaje not in lista_viajes:\n",
    "                viajes += viajes_considerados[(viajes_considerados['Estacion_A'] == min(x, y)) & (viajes_considerados['Estacion_B'] == max(x, y))]['counts'].values[0]\n",
    "            lista_viajes.append(viaje)\n",
    "            # Encuentra las coordenadas (lat, lon) de la estación origen y destino\n",
    "            x_lat, x_lon = encontrar_estacion(x, estaciones)\n",
    "            y_lat, y_lon = encontrar_estacion(y, estaciones)\n",
    "            latitudes.append(x_lat)\n",
    "            longitudes.append(x_lon)\n",
    "            latitudes.append(y_lat)\n",
    "            longitudes.append(y_lon)\n",
    "            \n",
    "            # Incrementa el conteo de trayectorias\n",
    "            conteo_trayectorias[viaje] += 1\n",
    "            # Grosor de la línea según la repetición de la trayectoria\n",
    "            linewidth = 10e-3 + conteo_trayectorias[viaje]/10e3 # Aumenta el grosor por cada repetición\n",
    "\n",
    "            if i > 0 and x == d.iloc[i-1]['Destino_Id'] and y == d.iloc[i-1]['Origen_Id']:\n",
    "                plt.plot([x_lon, y_lon], [x_lat, y_lat], color=colors[i], linewidth=linewidth)\n",
    "            else:\n",
    "                plt.plot([x_lon, y_lon], [x_lat, y_lat], color=colors[i], linewidth=linewidth)\n",
    "\n",
    "            # Dibuja siempre una línea azul entre las estaciones\n",
    "            plt.plot([x_lon, y_lon], [x_lat, y_lat], color = colors[i], alpha=0.9)  # Añadí transparencia para que no opaque los colores\n",
    "\n",
    "    # Ajusta los límites del gráfico para centrar en la media\n",
    "    if len(latitudes) > 0:\n",
    "        if zoom:\n",
    "            lon_max = np.max(longitudes)\n",
    "            lon_min = np.min(longitudes)\n",
    "            lat_max = np.max(latitudes)\n",
    "            lat_min = np.min(latitudes)\n",
    "            aux_lon = np.abs(lon_max - lon_min) / 10\n",
    "            aux_lat = np.abs(lat_max - lat_min) / 10\n",
    "            plt.xlim(lon_min - aux_lon, lon_max + aux_lon)\n",
    "            plt.ylim(lat_min - aux_lat, lat_max + aux_lat)\n",
    "\n",
    "        plt.title(f'Trayectorias de usuario {u}, #viajes totales: {users_counts[u]}, #viajes considerados: {viajes}, género {genre}, nacido en {year}')\n",
    "        plt.grid()\n",
    "        directory = 'graphs_users3' if zoom else 'graphs_users3_nozoom'\n",
    "        if not os.path.exists(directory):\n",
    "            os.makedirs(directory)\n",
    "        if zoom:\n",
    "            plt.savefig(f'graphs_users3/usuario_{u}_trayectorias.png')\n",
    "        else:\n",
    "            plt.savefig(f'graphs_users3_nozoom/usuario_{u}_trayectorias.png')\n",
    "        plt.close()\n",
    "        plt.clf()"
   ]
  },
  {
   "cell_type": "code",
   "execution_count": 10,
   "metadata": {},
   "outputs": [],
   "source": [
    "est1 = np.sort(data['Origen_Id'].unique())\n",
    "est2 = np.sort(data['Destino_Id'].unique())\n",
    "est = np.unique(np.concatenate((est1, est2)))"
   ]
  },
  {
   "cell_type": "code",
   "execution_count": 32,
   "metadata": {},
   "outputs": [
    {
     "name": "stdout",
     "output_type": "stream",
     "text": [
      "Usuario 106406, numero de viajes: 370\n"
     ]
    },
    {
     "name": "stderr",
     "output_type": "stream",
     "text": [
      "/tmp/ipykernel_126971/24941017.py:3: MatplotlibDeprecationWarning: The get_cmap function was deprecated in Matplotlib 3.7 and will be removed two minor releases later. Use ``matplotlib.colormaps[name]`` or ``matplotlib.colormaps.get_cmap(obj)`` instead.\n",
      "  colores = plt.cm.get_cmap('coolwarm', n)\n"
     ]
    },
    {
     "name": "stdout",
     "output_type": "stream",
     "text": [
      "Usuario 113022, numero de viajes: 354\n",
      "Usuario 253531, numero de viajes: 354\n",
      "Usuario 253520, numero de viajes: 333\n",
      "Usuario 143721, numero de viajes: 314\n",
      "Usuario 51332, numero de viajes: 268\n",
      "Usuario 123665, numero de viajes: 240\n",
      "Usuario 341446, numero de viajes: 234\n",
      "Usuario 440165, numero de viajes: 233\n",
      "Usuario 275435, numero de viajes: 233\n",
      "Usuario 144540, numero de viajes: 223\n",
      "Usuario 330421, numero de viajes: 213\n",
      "Usuario 325641, numero de viajes: 207\n",
      "Usuario 50114, numero de viajes: 204\n",
      "Usuario 405740, numero de viajes: 198\n",
      "Usuario 132300, numero de viajes: 191\n",
      "Usuario 251562, numero de viajes: 186\n",
      "Usuario 452615, numero de viajes: 185\n",
      "Usuario 302676, numero de viajes: 184\n",
      "Usuario 231427, numero de viajes: 179\n",
      "Usuario 377234, numero de viajes: 178\n"
     ]
    },
    {
     "name": "stderr",
     "output_type": "stream",
     "text": [
      "/tmp/ipykernel_126971/3583771606.py:8: RuntimeWarning: More than 20 figures have been opened. Figures created through the pyplot interface (`matplotlib.pyplot.figure`) are retained until explicitly closed and may consume too much memory. (To control this warning, see the rcParam `figure.max_open_warning`). Consider using `matplotlib.pyplot.close()`.\n",
      "  plt.figure(figsize=(12, 12))\n"
     ]
    },
    {
     "name": "stdout",
     "output_type": "stream",
     "text": [
      "Usuario 235433, numero de viajes: 177\n",
      "Usuario 447706, numero de viajes: 177\n",
      "Usuario 106367, numero de viajes: 175\n",
      "Usuario 246056, numero de viajes: 173\n",
      "Usuario 452441, numero de viajes: 169\n",
      "Usuario 302715, numero de viajes: 168\n",
      "Usuario 244602, numero de viajes: 168\n",
      "Usuario 437522, numero de viajes: 168\n",
      "Usuario 10654, numero de viajes: 167\n",
      "Usuario 420420, numero de viajes: 167\n",
      "Usuario 336242, numero de viajes: 166\n",
      "Usuario 160334, numero de viajes: 165\n",
      "Usuario 56425, numero de viajes: 162\n",
      "Usuario 326320, numero de viajes: 161\n",
      "Usuario 273367, numero de viajes: 159\n",
      "Usuario 451647, numero de viajes: 158\n",
      "Usuario 176677, numero de viajes: 157\n",
      "Usuario 441505, numero de viajes: 157\n",
      "Usuario 302225, numero de viajes: 156\n",
      "Usuario 20133, numero de viajes: 154\n",
      "Usuario 64733, numero de viajes: 151\n",
      "Usuario 53174, numero de viajes: 150\n",
      "Usuario 21566, numero de viajes: 150\n",
      "Usuario 446427, numero de viajes: 150\n",
      "Usuario 150431, numero de viajes: 148\n",
      "Usuario 322066, numero de viajes: 147\n",
      "Usuario 12130, numero de viajes: 145\n",
      "Usuario 121473, numero de viajes: 145\n",
      "Usuario 424553, numero de viajes: 145\n"
     ]
    },
    {
     "data": {
      "text/plain": [
       "<Figure size 1200x1200 with 0 Axes>"
      ]
     },
     "metadata": {},
     "output_type": "display_data"
    },
    {
     "data": {
      "text/plain": [
       "<Figure size 1200x1200 with 0 Axes>"
      ]
     },
     "metadata": {},
     "output_type": "display_data"
    },
    {
     "data": {
      "text/plain": [
       "<Figure size 1200x1200 with 0 Axes>"
      ]
     },
     "metadata": {},
     "output_type": "display_data"
    },
    {
     "data": {
      "text/plain": [
       "<Figure size 1200x1200 with 0 Axes>"
      ]
     },
     "metadata": {},
     "output_type": "display_data"
    },
    {
     "data": {
      "text/plain": [
       "<Figure size 1200x1200 with 0 Axes>"
      ]
     },
     "metadata": {},
     "output_type": "display_data"
    },
    {
     "data": {
      "text/plain": [
       "<Figure size 1200x1200 with 0 Axes>"
      ]
     },
     "metadata": {},
     "output_type": "display_data"
    },
    {
     "data": {
      "text/plain": [
       "<Figure size 1200x1200 with 0 Axes>"
      ]
     },
     "metadata": {},
     "output_type": "display_data"
    },
    {
     "data": {
      "text/plain": [
       "<Figure size 1200x1200 with 0 Axes>"
      ]
     },
     "metadata": {},
     "output_type": "display_data"
    },
    {
     "data": {
      "text/plain": [
       "<Figure size 1200x1200 with 0 Axes>"
      ]
     },
     "metadata": {},
     "output_type": "display_data"
    },
    {
     "data": {
      "text/plain": [
       "<Figure size 1200x1200 with 0 Axes>"
      ]
     },
     "metadata": {},
     "output_type": "display_data"
    },
    {
     "data": {
      "text/plain": [
       "<Figure size 1200x1200 with 0 Axes>"
      ]
     },
     "metadata": {},
     "output_type": "display_data"
    },
    {
     "data": {
      "text/plain": [
       "<Figure size 1200x1200 with 0 Axes>"
      ]
     },
     "metadata": {},
     "output_type": "display_data"
    },
    {
     "data": {
      "text/plain": [
       "<Figure size 1200x1200 with 0 Axes>"
      ]
     },
     "metadata": {},
     "output_type": "display_data"
    },
    {
     "data": {
      "text/plain": [
       "<Figure size 1200x1200 with 0 Axes>"
      ]
     },
     "metadata": {},
     "output_type": "display_data"
    },
    {
     "data": {
      "text/plain": [
       "<Figure size 1200x1200 with 0 Axes>"
      ]
     },
     "metadata": {},
     "output_type": "display_data"
    },
    {
     "data": {
      "text/plain": [
       "<Figure size 1200x1200 with 0 Axes>"
      ]
     },
     "metadata": {},
     "output_type": "display_data"
    },
    {
     "data": {
      "text/plain": [
       "<Figure size 1200x1200 with 0 Axes>"
      ]
     },
     "metadata": {},
     "output_type": "display_data"
    },
    {
     "data": {
      "text/plain": [
       "<Figure size 1200x1200 with 0 Axes>"
      ]
     },
     "metadata": {},
     "output_type": "display_data"
    },
    {
     "data": {
      "text/plain": [
       "<Figure size 1200x1200 with 0 Axes>"
      ]
     },
     "metadata": {},
     "output_type": "display_data"
    },
    {
     "data": {
      "text/plain": [
       "<Figure size 1200x1200 with 0 Axes>"
      ]
     },
     "metadata": {},
     "output_type": "display_data"
    },
    {
     "data": {
      "text/plain": [
       "<Figure size 1200x1200 with 0 Axes>"
      ]
     },
     "metadata": {},
     "output_type": "display_data"
    },
    {
     "data": {
      "text/plain": [
       "<Figure size 1200x1200 with 0 Axes>"
      ]
     },
     "metadata": {},
     "output_type": "display_data"
    },
    {
     "data": {
      "text/plain": [
       "<Figure size 1200x1200 with 0 Axes>"
      ]
     },
     "metadata": {},
     "output_type": "display_data"
    },
    {
     "data": {
      "text/plain": [
       "<Figure size 1200x1200 with 0 Axes>"
      ]
     },
     "metadata": {},
     "output_type": "display_data"
    },
    {
     "data": {
      "text/plain": [
       "<Figure size 1200x1200 with 0 Axes>"
      ]
     },
     "metadata": {},
     "output_type": "display_data"
    },
    {
     "data": {
      "text/plain": [
       "<Figure size 1200x1200 with 0 Axes>"
      ]
     },
     "metadata": {},
     "output_type": "display_data"
    },
    {
     "data": {
      "text/plain": [
       "<Figure size 1200x1200 with 0 Axes>"
      ]
     },
     "metadata": {},
     "output_type": "display_data"
    },
    {
     "data": {
      "text/plain": [
       "<Figure size 1200x1200 with 0 Axes>"
      ]
     },
     "metadata": {},
     "output_type": "display_data"
    },
    {
     "data": {
      "text/plain": [
       "<Figure size 1200x1200 with 0 Axes>"
      ]
     },
     "metadata": {},
     "output_type": "display_data"
    },
    {
     "data": {
      "text/plain": [
       "<Figure size 1200x1200 with 0 Axes>"
      ]
     },
     "metadata": {},
     "output_type": "display_data"
    },
    {
     "data": {
      "text/plain": [
       "<Figure size 1200x1200 with 0 Axes>"
      ]
     },
     "metadata": {},
     "output_type": "display_data"
    },
    {
     "data": {
      "text/plain": [
       "<Figure size 1200x1200 with 0 Axes>"
      ]
     },
     "metadata": {},
     "output_type": "display_data"
    },
    {
     "data": {
      "text/plain": [
       "<Figure size 1200x1200 with 0 Axes>"
      ]
     },
     "metadata": {},
     "output_type": "display_data"
    },
    {
     "data": {
      "text/plain": [
       "<Figure size 1200x1200 with 0 Axes>"
      ]
     },
     "metadata": {},
     "output_type": "display_data"
    },
    {
     "data": {
      "text/plain": [
       "<Figure size 1200x1200 with 0 Axes>"
      ]
     },
     "metadata": {},
     "output_type": "display_data"
    },
    {
     "data": {
      "text/plain": [
       "<Figure size 1200x1200 with 0 Axes>"
      ]
     },
     "metadata": {},
     "output_type": "display_data"
    },
    {
     "data": {
      "text/plain": [
       "<Figure size 1200x1200 with 0 Axes>"
      ]
     },
     "metadata": {},
     "output_type": "display_data"
    },
    {
     "data": {
      "text/plain": [
       "<Figure size 1200x1200 with 0 Axes>"
      ]
     },
     "metadata": {},
     "output_type": "display_data"
    },
    {
     "data": {
      "text/plain": [
       "<Figure size 1200x1200 with 0 Axes>"
      ]
     },
     "metadata": {},
     "output_type": "display_data"
    },
    {
     "data": {
      "text/plain": [
       "<Figure size 1200x1200 with 0 Axes>"
      ]
     },
     "metadata": {},
     "output_type": "display_data"
    },
    {
     "data": {
      "text/plain": [
       "<Figure size 1200x1200 with 0 Axes>"
      ]
     },
     "metadata": {},
     "output_type": "display_data"
    },
    {
     "data": {
      "text/plain": [
       "<Figure size 1200x1200 with 0 Axes>"
      ]
     },
     "metadata": {},
     "output_type": "display_data"
    },
    {
     "data": {
      "text/plain": [
       "<Figure size 1200x1200 with 0 Axes>"
      ]
     },
     "metadata": {},
     "output_type": "display_data"
    },
    {
     "data": {
      "text/plain": [
       "<Figure size 1200x1200 with 0 Axes>"
      ]
     },
     "metadata": {},
     "output_type": "display_data"
    },
    {
     "data": {
      "text/plain": [
       "<Figure size 1200x1200 with 0 Axes>"
      ]
     },
     "metadata": {},
     "output_type": "display_data"
    },
    {
     "data": {
      "text/plain": [
       "<Figure size 1200x1200 with 0 Axes>"
      ]
     },
     "metadata": {},
     "output_type": "display_data"
    },
    {
     "data": {
      "text/plain": [
       "<Figure size 1200x1200 with 0 Axes>"
      ]
     },
     "metadata": {},
     "output_type": "display_data"
    },
    {
     "data": {
      "text/plain": [
       "<Figure size 1200x1200 with 0 Axes>"
      ]
     },
     "metadata": {},
     "output_type": "display_data"
    },
    {
     "data": {
      "text/plain": [
       "<Figure size 1200x1200 with 0 Axes>"
      ]
     },
     "metadata": {},
     "output_type": "display_data"
    },
    {
     "data": {
      "text/plain": [
       "<Figure size 1200x1200 with 0 Axes>"
      ]
     },
     "metadata": {},
     "output_type": "display_data"
    }
   ],
   "source": [
    "for u in users[:50]:\n",
    "    print(f'Usuario {u}, numero de viajes: {users_counts[u]}')\n",
    "    data_1 = data[data['Usuario_Id'] == u]\n",
    "    obtener_gráfica(u, data_1, est)"
   ]
  },
  {
   "cell_type": "code",
   "execution_count": 35,
   "metadata": {},
   "outputs": [
    {
     "name": "stdout",
     "output_type": "stream",
     "text": [
      "Usuario 106406, numero de viajes: 370\n"
     ]
    },
    {
     "name": "stderr",
     "output_type": "stream",
     "text": [
      "/tmp/ipykernel_126971/24941017.py:3: MatplotlibDeprecationWarning: The get_cmap function was deprecated in Matplotlib 3.7 and will be removed two minor releases later. Use ``matplotlib.colormaps[name]`` or ``matplotlib.colormaps.get_cmap(obj)`` instead.\n",
      "  colores = plt.cm.get_cmap('coolwarm', n)\n"
     ]
    },
    {
     "name": "stdout",
     "output_type": "stream",
     "text": [
      "Usuario 113022, numero de viajes: 354\n",
      "Usuario 253531, numero de viajes: 354\n",
      "Usuario 253520, numero de viajes: 333\n",
      "Usuario 143721, numero de viajes: 314\n",
      "Usuario 51332, numero de viajes: 268\n",
      "Usuario 123665, numero de viajes: 240\n",
      "Usuario 341446, numero de viajes: 234\n",
      "Usuario 440165, numero de viajes: 233\n",
      "Usuario 275435, numero de viajes: 233\n",
      "Usuario 144540, numero de viajes: 223\n",
      "Usuario 330421, numero de viajes: 213\n",
      "Usuario 325641, numero de viajes: 207\n",
      "Usuario 50114, numero de viajes: 204\n",
      "Usuario 405740, numero de viajes: 198\n",
      "Usuario 132300, numero de viajes: 191\n",
      "Usuario 251562, numero de viajes: 186\n",
      "Usuario 452615, numero de viajes: 185\n",
      "Usuario 302676, numero de viajes: 184\n",
      "Usuario 231427, numero de viajes: 179\n",
      "Usuario 377234, numero de viajes: 178\n",
      "Usuario 235433, numero de viajes: 177\n",
      "Usuario 447706, numero de viajes: 177\n",
      "Usuario 106367, numero de viajes: 175\n",
      "Usuario 246056, numero de viajes: 173\n",
      "Usuario 452441, numero de viajes: 169\n",
      "Usuario 302715, numero de viajes: 168\n",
      "Usuario 244602, numero de viajes: 168\n",
      "Usuario 437522, numero de viajes: 168\n",
      "Usuario 10654, numero de viajes: 167\n",
      "Usuario 420420, numero de viajes: 167\n",
      "Usuario 336242, numero de viajes: 166\n",
      "Usuario 160334, numero de viajes: 165\n",
      "Usuario 56425, numero de viajes: 162\n",
      "Usuario 326320, numero de viajes: 161\n",
      "Usuario 273367, numero de viajes: 159\n",
      "Usuario 451647, numero de viajes: 158\n",
      "Usuario 176677, numero de viajes: 157\n",
      "Usuario 441505, numero de viajes: 157\n",
      "Usuario 302225, numero de viajes: 156\n",
      "Usuario 20133, numero de viajes: 154\n",
      "Usuario 64733, numero de viajes: 151\n",
      "Usuario 53174, numero de viajes: 150\n",
      "Usuario 21566, numero de viajes: 150\n",
      "Usuario 446427, numero de viajes: 150\n",
      "Usuario 150431, numero de viajes: 148\n",
      "Usuario 322066, numero de viajes: 147\n",
      "Usuario 12130, numero de viajes: 145\n",
      "Usuario 121473, numero de viajes: 145\n",
      "Usuario 424553, numero de viajes: 145\n"
     ]
    },
    {
     "data": {
      "text/plain": [
       "<Figure size 640x480 with 0 Axes>"
      ]
     },
     "metadata": {},
     "output_type": "display_data"
    }
   ],
   "source": [
    "for u in users[:50]:\n",
    "    print(f'Usuario {u}, numero de viajes: {users_counts[u]}')\n",
    "    data_1 = data[data['Usuario_Id'] == u]\n",
    "    obtener_gráfica2(u, data_1, est)"
   ]
  },
  {
   "cell_type": "code",
   "execution_count": 30,
   "metadata": {},
   "outputs": [
    {
     "data": {
      "text/plain": [
       "17433"
      ]
     },
     "execution_count": 30,
     "metadata": {},
     "output_type": "execute_result"
    }
   ],
   "source": [
    "len(users)"
   ]
  },
  {
   "cell_type": "code",
   "execution_count": 48,
   "metadata": {},
   "outputs": [
    {
     "name": "stdout",
     "output_type": "stream",
     "text": [
      "Usuario 106406, numero de viajes: 370\n",
      "Usuario 113022, numero de viajes: 354\n",
      "Usuario 253531, numero de viajes: 354\n",
      "Usuario 253520, numero de viajes: 333\n",
      "Usuario 143721, numero de viajes: 314\n",
      "Usuario 51332, numero de viajes: 268\n",
      "Usuario 123665, numero de viajes: 240\n",
      "Usuario 341446, numero de viajes: 234\n",
      "Usuario 440165, numero de viajes: 233\n",
      "Usuario 275435, numero de viajes: 233\n",
      "Usuario 144540, numero de viajes: 223\n",
      "Usuario 330421, numero de viajes: 213\n",
      "Usuario 325641, numero de viajes: 207\n",
      "Usuario 50114, numero de viajes: 204\n",
      "Usuario 405740, numero de viajes: 198\n",
      "Usuario 132300, numero de viajes: 191\n",
      "Usuario 251562, numero de viajes: 186\n",
      "Usuario 452615, numero de viajes: 185\n",
      "Usuario 302676, numero de viajes: 184\n",
      "Usuario 231427, numero de viajes: 179\n",
      "Usuario 377234, numero de viajes: 178\n",
      "Usuario 235433, numero de viajes: 177\n",
      "Usuario 447706, numero de viajes: 177\n",
      "Usuario 106367, numero de viajes: 175\n",
      "Usuario 246056, numero de viajes: 173\n",
      "Usuario 452441, numero de viajes: 169\n",
      "Usuario 302715, numero de viajes: 168\n",
      "Usuario 244602, numero de viajes: 168\n",
      "Usuario 437522, numero de viajes: 168\n",
      "Usuario 10654, numero de viajes: 167\n",
      "Usuario 420420, numero de viajes: 167\n",
      "Usuario 336242, numero de viajes: 166\n",
      "Usuario 160334, numero de viajes: 165\n",
      "Usuario 56425, numero de viajes: 162\n",
      "Usuario 326320, numero de viajes: 161\n",
      "Usuario 273367, numero de viajes: 159\n",
      "Usuario 451647, numero de viajes: 158\n",
      "Usuario 176677, numero de viajes: 157\n",
      "Usuario 441505, numero de viajes: 157\n",
      "Usuario 302225, numero de viajes: 156\n",
      "Usuario 20133, numero de viajes: 154\n",
      "Usuario 64733, numero de viajes: 151\n",
      "Usuario 53174, numero de viajes: 150\n",
      "Usuario 21566, numero de viajes: 150\n",
      "Usuario 446427, numero de viajes: 150\n",
      "Usuario 150431, numero de viajes: 148\n",
      "Usuario 322066, numero de viajes: 147\n",
      "Usuario 12130, numero de viajes: 145\n",
      "Usuario 121473, numero de viajes: 145\n",
      "Usuario 424553, numero de viajes: 145\n"
     ]
    },
    {
     "data": {
      "text/plain": [
       "<Figure size 640x480 with 0 Axes>"
      ]
     },
     "metadata": {},
     "output_type": "display_data"
    },
    {
     "data": {
      "text/plain": [
       "<Figure size 1200x1200 with 0 Axes>"
      ]
     },
     "metadata": {},
     "output_type": "display_data"
    }
   ],
   "source": [
    "for u in users[:50]:\n",
    "    print(f'Usuario {u}, numero de viajes: {users_counts[u]}')\n",
    "    data_1 = data[data['Usuario_Id'] == u]\n",
    "    obtener_gráfica3(u, data_1, est)"
   ]
  },
  {
   "cell_type": "code",
   "execution_count": 36,
   "metadata": {},
   "outputs": [],
   "source": [
    "def user_flow(u, d, esta, estaciones, users_counts, name_dir, threshold=5, zoom = True, flow_consider = True):\n",
    "    #conteo_trayectorias = defaultdict(int)\n",
    "    latitudes = []\n",
    "    longitudes = []\n",
    "    genre = d['Genero'].iloc[0]\n",
    "    year = d['Año_de_nacimiento'].iloc[0]\n",
    "    plt.figure(figsize=(12, 12))\n",
    "\n",
    "    # Agrupar los datos por Origen_Id y Destino_Id y contar la cantidad de viajes\n",
    "    viajes_por_estaciones = d.groupby([d[['Origen_Id', 'Destino_Id']].min(axis=1), d[['Origen_Id', 'Destino_Id']].max(axis=1)]).size().reset_index(name='counts')\n",
    "    viajes_por_estaciones.columns = ['Estacion_A', 'Estacion_B', 'counts']\n",
    "\n",
    "    total_viajes = viajes_por_estaciones['counts'].sum()\n",
    "    viajes_por_estaciones['probabilidad'] = viajes_por_estaciones['counts'] / total_viajes\n",
    "\n",
    "    if flow_consider:\n",
    "        viajes_considerados = viajes_por_estaciones[viajes_por_estaciones['counts'] >= threshold]\n",
    "    else:\n",
    "        viajes_considerados = viajes_por_estaciones[viajes_por_estaciones['counts'] < threshold]\n",
    "\n",
    "    # Ordenar los datos por el conteo de viajes en orden descendente\n",
    "    viajes_considerados = viajes_considerados.sort_values(by='counts', ascending=False)\n",
    "    total_viajes_considerados = viajes_considerados['counts'].sum()\n",
    "\n",
    "    entropia = -np.sum(viajes_por_estaciones['probabilidad'] * np.log(viajes_por_estaciones['probabilidad']))\n",
    "    \n",
    "    colors = generar_colores(len(viajes_considerados))\n",
    "        \n",
    "    num_viajes_considerados = len(viajes_considerados)\n",
    "    if num_viajes_considerados > 0:\n",
    "        colors = generar_colores(num_viajes_considerados)\n",
    "        viajes_considerados = viajes_considerados.reset_index(drop=True)\n",
    "        esta_graficadas = set()\n",
    "    \n",
    "        # Dibujar las trayectorias entre estaciones\n",
    "        for i, viaje in viajes_considerados.iterrows():\n",
    "            est_A, est_B = viaje['Estacion_A'], viaje['Estacion_B']\n",
    "            \n",
    "            # Coordenadas de las estaciones\n",
    "            lat_A, lon_A = encontrar_estacion(est_A, estaciones)\n",
    "            lat_B, lon_B = encontrar_estacion(est_B, estaciones)\n",
    "            \n",
    "            # Agregar las coordenadas a las listas\n",
    "            latitudes.extend([lat_A, lat_B])\n",
    "            longitudes.extend([lon_A, lon_B])\n",
    "            \n",
    "            # Calcular el grosor de la línea basado en la probabilidad\n",
    "            linewidth = viaje['probabilidad'] * 10\n",
    "            linewidth = min(max(linewidth, 1), 5)\n",
    "            \n",
    "            # Dibujar la línea que conecta las estaciones\n",
    "            if est_A == est_B:\n",
    "                # Dibujar un círculo alrededor de la estación\n",
    "                # size = min(max(viaje['probabilidad'] * 100, plt.rcParams['lines.markersize'] ** 2), 300)\n",
    "                plt.scatter(lon_A, lat_A, color=colors[i], marker='*', s=100, label=f'Probabilidad: {viaje[\"probabilidad\"]:.6f}')\n",
    "                esta_graficadas.add(est_A)\n",
    "            else:\n",
    "                # Dibujar la línea que conecta las estaciones\n",
    "                plt.plot([lon_A, lon_B], [lat_A, lat_B], color=colors[i], linewidth=linewidth, label=f'Probabilidad: {viaje[\"probabilidad\"]:.6f}')\n",
    "        for i in range(len(esta)):\n",
    "            if esta[i] not in esta_graficadas:\n",
    "                lat, lon = encontrar_estacion(esta[i], estaciones)\n",
    "                plt.scatter(lon, lat, color='black')\n",
    "    else:\n",
    "        print(f\"No hay viajes considerados para el usuario {u} con el umbral de {threshold}\")\n",
    "\n",
    "    # Ajusta los límites del gráfico para centrar en la media\n",
    "    if len(latitudes) > 0:\n",
    "        if zoom:\n",
    "            lon_max = np.max(longitudes)\n",
    "            lon_min = np.min(longitudes)\n",
    "            lat_max = np.max(latitudes)\n",
    "            lat_min = np.min(latitudes)\n",
    "            aux_lon = np.abs(lon_max - lon_min) / 10\n",
    "            aux_lat = np.abs(lat_max - lat_min) / 10\n",
    "            plt.xlim(lon_min - aux_lon, lon_max + aux_lon)\n",
    "            plt.ylim(lat_min - aux_lat, lat_max + aux_lat)\n",
    "\n",
    "        plt.title(f'Usuario {u}, #viajes totales: {users_counts[u]}, #viajes considerados: {total_viajes_considerados}, género {genre}, nacido en {year}, entropia: {entropia:.2f}')\n",
    "        # Agrupar elementos en el legend si hay más de 42\n",
    "        plt.grid()\n",
    "        handles, labels = plt.gca().get_legend_handles_labels()\n",
    "        if len(handles) > 42:\n",
    "            grouped_handles = handles[:41]\n",
    "            grouped_labels = labels[:41]\n",
    "            grouped_handles.append(plt.Line2D([0], [0], color='black', lw=2))\n",
    "            grouped_labels.append(f'Y {len(handles) - 41} más...')\n",
    "            plt.legend(grouped_handles, grouped_labels, loc='best')\n",
    "        else:\n",
    "            plt.legend(loc='best')\n",
    "        #plt.legend(loc='best')\n",
    "        directory = name_dir if zoom else f'{name_dir}_nozoom'\n",
    "        if not os.path.exists(directory):\n",
    "            os.makedirs(directory)\n",
    "        if zoom:\n",
    "            plt.savefig(f'{name_dir}/usuario_{u}_trayectorias.png')\n",
    "        else:\n",
    "            plt.savefig(f'{name_dir}_nozoom/usuario_{u}_trayectorias.png')\n",
    "        plt.close()\n",
    "        plt.clf()"
   ]
  },
  {
   "cell_type": "code",
   "execution_count": 38,
   "metadata": {},
   "outputs": [
    {
     "name": "stdout",
     "output_type": "stream",
     "text": [
      "Usuario 106406, numero de viajes: 370\n",
      "Usuario 113022, numero de viajes: 354\n",
      "Usuario 253531, numero de viajes: 354\n",
      "Usuario 253520, numero de viajes: 333\n",
      "Usuario 143721, numero de viajes: 314\n",
      "Usuario 51332, numero de viajes: 268\n",
      "Usuario 123665, numero de viajes: 240\n",
      "Usuario 341446, numero de viajes: 234\n",
      "Usuario 440165, numero de viajes: 233\n",
      "Usuario 275435, numero de viajes: 233\n",
      "Usuario 144540, numero de viajes: 223\n",
      "No hay viajes considerados para el usuario 144540 con el umbral de 5\n",
      "Usuario 330421, numero de viajes: 213\n",
      "Usuario 325641, numero de viajes: 207\n",
      "Usuario 50114, numero de viajes: 204\n",
      "Usuario 405740, numero de viajes: 198\n",
      "Usuario 132300, numero de viajes: 191\n",
      "Usuario 251562, numero de viajes: 186\n",
      "Usuario 452615, numero de viajes: 185\n",
      "Usuario 302676, numero de viajes: 184\n",
      "Usuario 231427, numero de viajes: 179\n",
      "Usuario 377234, numero de viajes: 178\n",
      "Usuario 235433, numero de viajes: 177\n",
      "Usuario 447706, numero de viajes: 177\n",
      "Usuario 106367, numero de viajes: 175\n",
      "Usuario 246056, numero de viajes: 173\n",
      "Usuario 452441, numero de viajes: 169\n",
      "Usuario 302715, numero de viajes: 168\n",
      "Usuario 244602, numero de viajes: 168\n",
      "Usuario 437522, numero de viajes: 168\n",
      "Usuario 10654, numero de viajes: 167\n",
      "Usuario 420420, numero de viajes: 167\n",
      "Usuario 336242, numero de viajes: 166\n",
      "Usuario 160334, numero de viajes: 165\n",
      "Usuario 56425, numero de viajes: 162\n",
      "Usuario 326320, numero de viajes: 161\n",
      "Usuario 273367, numero de viajes: 159\n",
      "Usuario 451647, numero de viajes: 158\n",
      "Usuario 176677, numero de viajes: 157\n",
      "Usuario 441505, numero de viajes: 157\n",
      "Usuario 302225, numero de viajes: 156\n",
      "Usuario 20133, numero de viajes: 154\n",
      "Usuario 64733, numero de viajes: 151\n",
      "Usuario 53174, numero de viajes: 150\n",
      "Usuario 21566, numero de viajes: 150\n",
      "Usuario 446427, numero de viajes: 150\n",
      "Usuario 150431, numero de viajes: 148\n",
      "Usuario 322066, numero de viajes: 147\n",
      "Usuario 12130, numero de viajes: 145\n",
      "Usuario 121473, numero de viajes: 145\n",
      "Usuario 424553, numero de viajes: 145\n"
     ]
    },
    {
     "data": {
      "text/plain": [
       "<Figure size 640x480 with 0 Axes>"
      ]
     },
     "metadata": {},
     "output_type": "display_data"
    },
    {
     "data": {
      "text/plain": [
       "<Figure size 1200x1200 with 0 Axes>"
      ]
     },
     "metadata": {},
     "output_type": "display_data"
    }
   ],
   "source": [
    "for u in users[:50]:\n",
    "    print(f'Usuario {u}, numero de viajes: {users_counts[u]}')\n",
    "    data_1 = data[data['Usuario_Id'] == u]\n",
    "    user_flow(u, data_1, est, estaciones, users_counts, 'graphs_users5')"
   ]
  },
  {
   "cell_type": "code",
   "execution_count": 39,
   "metadata": {},
   "outputs": [
    {
     "name": "stdout",
     "output_type": "stream",
     "text": [
      "Usuario 106406, numero de viajes: 370\n",
      "Usuario 113022, numero de viajes: 354\n",
      "Usuario 253531, numero de viajes: 354\n",
      "Usuario 253520, numero de viajes: 333\n",
      "Usuario 143721, numero de viajes: 314\n",
      "Usuario 51332, numero de viajes: 268\n",
      "Usuario 123665, numero de viajes: 240\n",
      "Usuario 341446, numero de viajes: 234\n",
      "Usuario 440165, numero de viajes: 233\n",
      "Usuario 275435, numero de viajes: 233\n",
      "Usuario 144540, numero de viajes: 223\n",
      "Usuario 330421, numero de viajes: 213\n",
      "Usuario 325641, numero de viajes: 207\n",
      "Usuario 50114, numero de viajes: 204\n",
      "Usuario 405740, numero de viajes: 198\n",
      "Usuario 132300, numero de viajes: 191\n",
      "Usuario 251562, numero de viajes: 186\n",
      "Usuario 452615, numero de viajes: 185\n",
      "Usuario 302676, numero de viajes: 184\n",
      "Usuario 231427, numero de viajes: 179\n",
      "Usuario 377234, numero de viajes: 178\n",
      "Usuario 235433, numero de viajes: 177\n",
      "Usuario 447706, numero de viajes: 177\n",
      "Usuario 106367, numero de viajes: 175\n",
      "Usuario 246056, numero de viajes: 173\n",
      "Usuario 452441, numero de viajes: 169\n",
      "Usuario 302715, numero de viajes: 168\n",
      "Usuario 244602, numero de viajes: 168\n",
      "Usuario 437522, numero de viajes: 168\n",
      "Usuario 10654, numero de viajes: 167\n",
      "Usuario 420420, numero de viajes: 167\n",
      "Usuario 336242, numero de viajes: 166\n",
      "Usuario 160334, numero de viajes: 165\n",
      "Usuario 56425, numero de viajes: 162\n",
      "Usuario 326320, numero de viajes: 161\n",
      "Usuario 273367, numero de viajes: 159\n",
      "Usuario 451647, numero de viajes: 158\n",
      "Usuario 176677, numero de viajes: 157\n",
      "Usuario 441505, numero de viajes: 157\n",
      "Usuario 302225, numero de viajes: 156\n",
      "Usuario 20133, numero de viajes: 154\n",
      "Usuario 64733, numero de viajes: 151\n",
      "Usuario 53174, numero de viajes: 150\n",
      "Usuario 21566, numero de viajes: 150\n",
      "Usuario 446427, numero de viajes: 150\n",
      "Usuario 150431, numero de viajes: 148\n",
      "Usuario 322066, numero de viajes: 147\n",
      "Usuario 12130, numero de viajes: 145\n",
      "Usuario 121473, numero de viajes: 145\n",
      "Usuario 424553, numero de viajes: 145\n"
     ]
    },
    {
     "data": {
      "text/plain": [
       "<Figure size 640x480 with 0 Axes>"
      ]
     },
     "metadata": {},
     "output_type": "display_data"
    }
   ],
   "source": [
    "for u in users[:50]:\n",
    "    print(f'Usuario {u}, numero de viajes: {users_counts[u]}')\n",
    "    data_1 = data[data['Usuario_Id'] == u]\n",
    "    user_flow(u, data_1, est, estaciones, users_counts, 'graphs_users6', flow_consider=False)"
   ]
  },
  {
   "cell_type": "code",
   "execution_count": 40,
   "metadata": {},
   "outputs": [
    {
     "data": {
      "text/plain": [
       "<Response [200]>"
      ]
     },
     "execution_count": 40,
     "metadata": {},
     "output_type": "execute_result"
    }
   ],
   "source": [
    "import requests\n",
    "requests.post(\"https://ntfy.sh/Compu_CIMAT\",\n",
    "    data=\"Terminé\".encode(encoding='utf-8'))"
   ]
  },
  {
   "cell_type": "code",
   "execution_count": 41,
   "metadata": {},
   "outputs": [
    {
     "data": {
      "text/plain": [
       "24.700000000000003"
      ]
     },
     "execution_count": 41,
     "metadata": {},
     "output_type": "execute_result"
    }
   ],
   "source": [
    "x = 4.03 +2.067e1\n",
    "x"
   ]
  },
  {
   "cell_type": "code",
   "execution_count": 40,
   "metadata": {},
   "outputs": [
    {
     "data": {
      "text/html": [
       "<div>\n",
       "<style scoped>\n",
       "    .dataframe tbody tr th:only-of-type {\n",
       "        vertical-align: middle;\n",
       "    }\n",
       "\n",
       "    .dataframe tbody tr th {\n",
       "        vertical-align: top;\n",
       "    }\n",
       "\n",
       "    .dataframe thead th {\n",
       "        text-align: right;\n",
       "    }\n",
       "</style>\n",
       "<table border=\"1\" class=\"dataframe\">\n",
       "  <thead>\n",
       "    <tr style=\"text-align: right;\">\n",
       "      <th></th>\n",
       "      <th>Viaje_Id</th>\n",
       "      <th>Usuario_Id</th>\n",
       "      <th>Genero</th>\n",
       "      <th>Año_de_nacimiento</th>\n",
       "      <th>Inicio_del_viaje</th>\n",
       "      <th>Fin_del_viaje</th>\n",
       "      <th>Origen_Id</th>\n",
       "      <th>Destino_Id</th>\n",
       "      <th>Tiempo_viaje</th>\n",
       "    </tr>\n",
       "  </thead>\n",
       "  <tbody>\n",
       "    <tr>\n",
       "      <th>1459</th>\n",
       "      <td>8902995</td>\n",
       "      <td>424553</td>\n",
       "      <td>M</td>\n",
       "      <td>1991</td>\n",
       "      <td>2019-01-01 17:21:27</td>\n",
       "      <td>2019-01-01 17:33:34</td>\n",
       "      <td>202</td>\n",
       "      <td>2</td>\n",
       "      <td>12.116667</td>\n",
       "    </tr>\n",
       "    <tr>\n",
       "      <th>1579</th>\n",
       "      <td>8903127</td>\n",
       "      <td>424553</td>\n",
       "      <td>M</td>\n",
       "      <td>1991</td>\n",
       "      <td>2019-01-01 17:50:33</td>\n",
       "      <td>2019-01-01 17:54:33</td>\n",
       "      <td>2</td>\n",
       "      <td>260</td>\n",
       "      <td>4.000000</td>\n",
       "    </tr>\n",
       "    <tr>\n",
       "      <th>1603</th>\n",
       "      <td>8903158</td>\n",
       "      <td>424553</td>\n",
       "      <td>M</td>\n",
       "      <td>1991</td>\n",
       "      <td>2019-01-01 17:54:46</td>\n",
       "      <td>2019-01-01 17:57:33</td>\n",
       "      <td>260</td>\n",
       "      <td>268</td>\n",
       "      <td>2.783333</td>\n",
       "    </tr>\n",
       "    <tr>\n",
       "      <th>1620</th>\n",
       "      <td>8903175</td>\n",
       "      <td>424553</td>\n",
       "      <td>M</td>\n",
       "      <td>1991</td>\n",
       "      <td>2019-01-01 17:58:19</td>\n",
       "      <td>2019-01-01 18:02:17</td>\n",
       "      <td>268</td>\n",
       "      <td>54</td>\n",
       "      <td>3.966667</td>\n",
       "    </tr>\n",
       "    <tr>\n",
       "      <th>1951</th>\n",
       "      <td>8903544</td>\n",
       "      <td>424553</td>\n",
       "      <td>M</td>\n",
       "      <td>1991</td>\n",
       "      <td>2019-01-01 19:23:59</td>\n",
       "      <td>2019-01-01 19:40:41</td>\n",
       "      <td>53</td>\n",
       "      <td>202</td>\n",
       "      <td>16.700000</td>\n",
       "    </tr>\n",
       "  </tbody>\n",
       "</table>\n",
       "</div>"
      ],
      "text/plain": [
       "      Viaje_Id  Usuario_Id Genero  Año_de_nacimiento     Inicio_del_viaje  \\\n",
       "1459   8902995      424553      M               1991  2019-01-01 17:21:27   \n",
       "1579   8903127      424553      M               1991  2019-01-01 17:50:33   \n",
       "1603   8903158      424553      M               1991  2019-01-01 17:54:46   \n",
       "1620   8903175      424553      M               1991  2019-01-01 17:58:19   \n",
       "1951   8903544      424553      M               1991  2019-01-01 19:23:59   \n",
       "\n",
       "            Fin_del_viaje  Origen_Id  Destino_Id  Tiempo_viaje  \n",
       "1459  2019-01-01 17:33:34        202           2     12.116667  \n",
       "1579  2019-01-01 17:54:33          2         260      4.000000  \n",
       "1603  2019-01-01 17:57:33        260         268      2.783333  \n",
       "1620  2019-01-01 18:02:17        268          54      3.966667  \n",
       "1951  2019-01-01 19:40:41         53         202     16.700000  "
      ]
     },
     "execution_count": 40,
     "metadata": {},
     "output_type": "execute_result"
    }
   ],
   "source": [
    "data_user_424553 = data[data['Usuario_Id'] == 424553]\n",
    "data_user_424553.head()"
   ]
  },
  {
   "cell_type": "code",
   "execution_count": 38,
   "metadata": {},
   "outputs": [
    {
     "data": {
      "image/png": "[encoded data removed]",
      "text/plain": [
       "<Figure size 1200x600 with 1 Axes>"
      ]
     },
     "metadata": {},
     "output_type": "display_data"
    }
   ],
   "source": [
    "data_user_424553['Origen_Id'].value_counts().plot(kind='bar', figsize=(12, 6))\n",
    "plt.xlabel('Origen_Id')\n",
    "plt.ylabel('Counts')\n",
    "plt.title('Histogram of Origen_Id for user 424553')\n",
    "plt.show()"
   ]
  },
  {
   "cell_type": "code",
   "execution_count": 39,
   "metadata": {},
   "outputs": [
    {
     "data": {
      "image/png": "[encoded data removed]",
      "text/plain": [
       "<Figure size 1200x600 with 1 Axes>"
      ]
     },
     "metadata": {},
     "output_type": "display_data"
    }
   ],
   "source": [
    "data_user_424553['Destino_Id'].value_counts().plot(kind='bar', figsize=(12, 6))\n",
    "plt.xlabel('Destino_Id')\n",
    "plt.ylabel('Counts')\n",
    "plt.title('Histogram of Destino_Id for user 424553')\n",
    "plt.show()"
   ]
  },
  {
   "cell_type": "code",
   "execution_count": 48,
   "metadata": {},
   "outputs": [
    {
     "data": {
      "image/png": "[encoded data removed]",
      "text/plain": [
       "<Figure size 1800x900 with 1 Axes>"
      ]
     },
     "metadata": {},
     "output_type": "display_data"
    }
   ],
   "source": [
    "# Agrupar los datos por Origen_Id y Destino_Id y contar la cantidad de viajes\n",
    "viajes_por_estacion = data_user_424553.groupby(['Origen_Id', 'Destino_Id']).size().reset_index(name='counts')\n",
    "\n",
    "# Crear el histograma\n",
    "viajes_por_estacion['label'] = viajes_por_estacion['Origen_Id'].astype(str) + '-' + viajes_por_estacion['Destino_Id'].astype(str)\n",
    "viajes_por_estacion.plot(kind='bar', x='label', y='counts', figsize=(12*1.5, 6*1.5))\n",
    "plt.xlabel('Id')\n",
    "plt.ylabel('Counts')\n",
    "plt.title('Cantidad de viajes por estación de salida y llegada')\n",
    "plt.show()"
   ]
  },
  {
   "cell_type": "code",
   "execution_count": 47,
   "metadata": {},
   "outputs": [
    {
     "data": {
      "text/plain": [
       "145"
      ]
     },
     "execution_count": 47,
     "metadata": {},
     "output_type": "execute_result"
    }
   ],
   "source": [
    "viajes_por_estacion['counts'].sum()"
   ]
  },
  {
   "cell_type": "code",
   "execution_count": 49,
   "metadata": {},
   "outputs": [],
   "source": [
    "data_user_424553.to_csv('data_user_424553.csv', index=False)"
   ]
  },
  {
   "cell_type": "code",
   "execution_count": 56,
   "metadata": {},
   "outputs": [
    {
     "data": {
      "text/plain": [
       "15407"
      ]
     },
     "execution_count": 56,
     "metadata": {},
     "output_type": "execute_result"
    }
   ],
   "source": [
    "np.sum(users_counts <= 50)"
   ]
  }
 ],
 "metadata": {
  "kernelspec": {
   "display_name": "Python 3",
   "language": "python",
   "name": "python3"
  },
  "language_info": {
   "codemirror_mode": {
    "name": "ipython",
    "version": 3
   },
   "file_extension": ".py",
   "mimetype": "text/x-python",
   "name": "python",
   "nbconvert_exporter": "python",
   "pygments_lexer": "ipython3",
   "version": "3.10.12"
  }
 },
 "nbformat": 4,
 "nbformat_minor": 2
}
